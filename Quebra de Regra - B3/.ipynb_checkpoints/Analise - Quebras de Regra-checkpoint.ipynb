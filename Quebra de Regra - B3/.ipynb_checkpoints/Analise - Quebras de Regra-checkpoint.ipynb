{
 "cells": [
  {
   "cell_type": "code",
   "execution_count": 1,
   "metadata": {
    "collapsed": true
   },
   "outputs": [],
   "source": [
    "%load_ext autoreload\n",
    "%autoreload 2\n",
    "\n",
    "import os\n",
    "import sys\n",
    "sys.path.append('%s/../' % os.getcwd())\n",
    "\n",
    "import datetime\n",
    "import pandas as pd\n",
    "import numpy as np\n",
    "import math\n",
    "\n",
    "from pyxlsb import open_workbook as open_xlsb"
   ]
  },
  {
   "cell_type": "code",
   "execution_count": 2,
   "metadata": {
    "collapsed": true
   },
   "outputs": [],
   "source": [
    "file = r'\\\\sp-desen-0002\\Shared\\Guilherme\\Allocation-20180906.xlsb'"
   ]
  },
  {
   "cell_type": "code",
   "execution_count": null,
   "metadata": {
    "collapsed": true
   },
   "outputs": [],
   "source": []
  },
  {
   "cell_type": "code",
   "execution_count": 3,
   "metadata": {
    "collapsed": true
   },
   "outputs": [],
   "source": [
    "df = []\n",
    "with open_xlsb(file) as wb:\n",
    "    with wb.get_sheet(1) as sheet:\n",
    "        for row in sheet.rows():\n",
    "            df.append([item.v for item in row])\n",
    "\n",
    "df = pd.DataFrame(df[1:], columns=df[0])"
   ]
  },
  {
   "cell_type": "code",
   "execution_count": null,
   "metadata": {
    "collapsed": true
   },
   "outputs": [],
   "source": []
  },
  {
   "cell_type": "code",
   "execution_count": 4,
   "metadata": {
    "collapsed": false
   },
   "outputs": [],
   "source": [
    "def agrupa_grouped_dataframes(df, column_list, merging_columns, final_name_dictionary):\n",
    "    output = df.merge(df.groupby(column_list).sum().reset_index()[sum([column_list,merging_columns],[])]\\\n",
    "                      .rename(columns=final_name_dictionary), on=column_list, how='left')\n",
    "    shape_diff = df.shape[0]-output.shape[0]\n",
    "    \n",
    "    if shape_diff!=0:\n",
    "        print('Houve breaks no merge. Dfs com shapes diferentes (Diff: %s linhas)' %(shape_diff))\n",
    "    return output\n",
    "\n",
    "def remove_duplicates(values):\n",
    "    output = []\n",
    "    seen = set()\n",
    "    for value in values:\n",
    "        # If value has not been encountered yet,\n",
    "        # ... add it to both list and set.\n",
    "        if value not in seen:\n",
    "            output.append(value)\n",
    "            seen.add(value)\n",
    "    return output"
   ]
  },
  {
   "cell_type": "code",
   "execution_count": 5,
   "metadata": {
    "collapsed": true
   },
   "outputs": [],
   "source": [
    "chave_grupo = ['Date','Symbol','ClearingTradeId','Side']"
   ]
  },
  {
   "cell_type": "code",
   "execution_count": null,
   "metadata": {
    "collapsed": true
   },
   "outputs": [],
   "source": []
  },
  {
   "cell_type": "code",
   "execution_count": 6,
   "metadata": {
    "collapsed": false
   },
   "outputs": [],
   "source": [
    "df = df[df['ClearingFirm']==85].sort_values(by=['Date','Symbol','ClearingTradeId','Side','TransactTime']).reset_index(drop=True)"
   ]
  },
  {
   "cell_type": "code",
   "execution_count": 8,
   "metadata": {
    "collapsed": false
   },
   "outputs": [],
   "source": [
    "df_backup = df.copy()\n",
    "#df = df_backup.copy()"
   ]
  },
  {
   "cell_type": "code",
   "execution_count": null,
   "metadata": {
    "collapsed": true
   },
   "outputs": [],
   "source": []
  },
  {
   "cell_type": "code",
   "execution_count": 9,
   "metadata": {
    "collapsed": false
   },
   "outputs": [],
   "source": [
    "# Tipo acc Master = 1 ou filhote = 0\n",
    "df.loc[:,'TipoMasterAccount'] = np.where(df['AccountCode']==df['MasterAccount'], 1,0)\n",
    "# Coluna de Count\n",
    "df.loc[:,'Count'] = 1"
   ]
  },
  {
   "cell_type": "code",
   "execution_count": 10,
   "metadata": {
    "collapsed": false
   },
   "outputs": [],
   "source": [
    "# Coluna é = 1 quando a linha é o primeiro trade com aquelas características\n",
    "df.loc[:,'PrimeiroLancamentoTrade'] = np.where((df['ClearingTradeId']!=df['ClearingTradeId'].shift(1))|\\\n",
    "                                              (df['Side']!=df['Side'].shift(1)),1,0)\n",
    "# Tem mais de um account\n",
    "df.loc[:,'MudaDeAccDentrodoTrade'] = np.where((df['Date']==df['Date'].shift(1))&\n",
    "                                              (df['Symbol']==df['Symbol'].shift(1))&\n",
    "                                              (df['ClearingTradeId']==df['ClearingTradeId'].shift(1))&\n",
    "                                              (df['Side']==df['Side'].shift(1))&\n",
    "                                              (df['AccountCode']!=df['AccountCode'].shift(1)),1,0)"
   ]
  },
  {
   "cell_type": "code",
   "execution_count": 11,
   "metadata": {
    "collapsed": true
   },
   "outputs": [],
   "source": [
    "df.loc[:,'ContaErro'] = np.where((df['MasterAccount']==99999.0)|\n",
    "                                (df['MasterAccount']==15000.0), 1,0)"
   ]
  },
  {
   "cell_type": "code",
   "execution_count": null,
   "metadata": {
    "collapsed": true
   },
   "outputs": [],
   "source": []
  },
  {
   "cell_type": "code",
   "execution_count": 12,
   "metadata": {
    "collapsed": false
   },
   "outputs": [],
   "source": [
    "df = agrupa_grouped_dataframes(df,['Date','Symbol','ClearingTradeId','Side','TipoMasterAccount'],['OriginalQty','Qty',\n",
    "                                                                                                  'ContaErro',\n",
    "                                                                                                  'MudaDeAccDentrodoTrade'],\n",
    "                               {'OriginalQty':'OriginaQty_TipoAcc', 'Qty':'Qty_TipoAcc','ContaErro':'PassouPelaContaErro',\n",
    "                               'MudaDeAccDentrodoTrade':'Total_TrocaAcc'})\n",
    "#df = agrupa_grouped_dataframes(df,['Date','Symbol','ClearingTradeId','Side','AccountCode'],['OriginalQty'],\n",
    "#                               {'OriginalQty':'OriginaQty_PorAcc'})\n",
    "#df = agrupa_grouped_dataframes(df,['Date','Symbol','ClearingTradeId','Side','MasterAccount'],['OriginalQty'],\n",
    "#                               {'OriginalQty':'OriginaQty_PorMasterAcc'})\n",
    "df = agrupa_grouped_dataframes(df, chave_grupo, ['Count'],{'Count':'TotalLinha_Trade'})"
   ]
  },
  {
   "cell_type": "code",
   "execution_count": null,
   "metadata": {
    "collapsed": false
   },
   "outputs": [],
   "source": []
  },
  {
   "cell_type": "code",
   "execution_count": 13,
   "metadata": {
    "collapsed": false
   },
   "outputs": [],
   "source": [
    "# Faz a soma cumulativa das accounts por trade\n",
    "df['MasterAccountAsTypeSTR'] = df['MasterAccount'].astype(str)\n",
    "df.loc[:,'MasterAccountCumSum'] = df.groupby(chave_grupo)['MasterAccountAsTypeSTR'].apply(lambda x: (x+';').cumsum().str.strip())\n",
    "df.loc[:,'MasterAccountDropDuplicates'] = df['MasterAccountCumSum'].apply(lambda x: ';'.join(remove_duplicates(x.split(';'))))\n",
    "df.loc[:,'Trade_Realocado'] = np.where(df['MasterAccountCumSum']=='100183.0;999985.0;100183.0;',1,0)\n",
    "df = agrupa_grouped_dataframes(df, chave_grupo, ['Trade_Realocado'],{'Trade_Realocado':'Trade_Realocado_Grupo'})\n",
    "\n"
   ]
  },
  {
   "cell_type": "code",
   "execution_count": 14,
   "metadata": {
    "collapsed": false
   },
   "outputs": [],
   "source": [
    "df = df[(df['Trade_Realocado_Grupo']!=1)]"
   ]
  },
  {
   "cell_type": "code",
   "execution_count": null,
   "metadata": {
    "collapsed": true
   },
   "outputs": [],
   "source": []
  },
  {
   "cell_type": "code",
   "execution_count": 15,
   "metadata": {
    "collapsed": false
   },
   "outputs": [],
   "source": [
    "df.loc[:,'Break_TradeNull'] = np.where((df['TotalLinha_Trade']==2)&\n",
    "                                      (df['PassouPelaContaErro']==1)&\n",
    "                                      (df['OriginalQty']==0)&(df['Qty']==0)&\n",
    "                                       ((df['TransactTime']-df['TransactTime'].shift(1))*1000<1),1,0)\n",
    "#df.loc[:,'Break_MasterNAlocada'] = np.where((df['TotalLinha_Trade']==2)&\n",
    "#                                      ((df['TransactTime']-df['TransactTime'].shift(1))*1000<1),1,0)\n",
    "#df.loc[:,'Break_Realocacao'] = np.where((df['OriginaQty_TipoAcc']!=df['Qty_TipoAcc'])&\n",
    "#                                        (df['TotalLinha_Trade']>2),1,0)\n",
    "df.loc[:,'Break_Realocacao'] = np.where((df['MasterAccountDropDuplicates'].str.split(';').shape[0]>2)&\n",
    "                                        (df['TotalLinha_Trade']>2),1,0)\n",
    "#df.loc[:,'Realocacao'] = np.where(df['Trade_Realocado_Grupo']!=0,1,0)"
   ]
  },
  {
   "cell_type": "code",
   "execution_count": 16,
   "metadata": {
    "collapsed": false
   },
   "outputs": [],
   "source": [
    "df = agrupa_grouped_dataframes(df, chave_grupo, ['Break_TradeNull','Break_Realocacao'],{\n",
    "    'Break_TradeNull':'Trades_Break_TradeNull',\n",
    "    'Break_Realocacao':'Trades_Break_Realocacao'\n",
    "})\n",
    "#'Break_MasterNAlocada':'Trades_Break_MasterNAlocada'"
   ]
  },
  {
   "cell_type": "code",
   "execution_count": 17,
   "metadata": {
    "collapsed": false
   },
   "outputs": [
    {
     "data": {
      "text/html": [
       "<div>\n",
       "<table border=\"1\" class=\"dataframe\">\n",
       "  <thead>\n",
       "    <tr style=\"text-align: right;\">\n",
       "      <th></th>\n",
       "      <th>AccountCode</th>\n",
       "      <th>AgentCommission</th>\n",
       "      <th>AgentCommissionTax</th>\n",
       "      <th>AssessorCommission</th>\n",
       "      <th>AssignedBroker</th>\n",
       "      <th>BrokerageFee</th>\n",
       "      <th>BrokerageFeeTax</th>\n",
       "      <th>BuyIn</th>\n",
       "      <th>ClearingEmolument</th>\n",
       "      <th>ClearingEmolumentTax</th>\n",
       "      <th>...</th>\n",
       "      <th>TotalLinha_Trade</th>\n",
       "      <th>MasterAccountAsTypeSTR</th>\n",
       "      <th>MasterAccountCumSum</th>\n",
       "      <th>MasterAccountDropDuplicates</th>\n",
       "      <th>Trade_Realocado</th>\n",
       "      <th>Trade_Realocado_Grupo</th>\n",
       "      <th>Break_TradeNull</th>\n",
       "      <th>Break_Realocacao</th>\n",
       "      <th>Trades_Break_TradeNull</th>\n",
       "      <th>Trades_Break_Realocacao</th>\n",
       "    </tr>\n",
       "  </thead>\n",
       "  <tbody>\n",
       "  </tbody>\n",
       "</table>\n",
       "<p>0 rows × 102 columns</p>\n",
       "</div>"
      ],
      "text/plain": [
       "Empty DataFrame\n",
       "Columns: [AccountCode, AgentCommission, AgentCommissionTax, AssessorCommission, AssignedBroker, BrokerageFee, BrokerageFeeTax, BuyIn, ClearingEmolument, ClearingEmolumentTax, ClearingExceptionReason, ClearingFirm, ClearingRegisterFee, ClearingRegisterFeeTax, ClearingTradeId, ClientJustification, CommissionDiscountPercentage, ConfirmedQty, Custodian, CustodyAccount, DailySettlement, Date, DayTradeQty, DayTradeTaxes, DayTradeTaxesBase, EntailedCounterparty, Exchange, ExchangeEmolument, ExchangeRegisterFee, ExternalId, ExternalTicketId, FeesOverrideType, FeesOverrideValue, FundAdmin, IgnoreForBrokerageCap, InternalId, InvestorType, IsDistribution, IssTax, LastUpdateTime, NetTradedAmount, MasterAccount, OriginalBrokerageFee, OtherExpenses, OwnOwner, OwnTraderName, Participant, Qty, RejectingAccount, RelatedExecution, RelatedTicket, SettlementIndicator, SettlementPortfolio, Side, Source, Owner, Status, SubAccount, Symbol, TimeJustification, TradeDate, TraderName, TransactTime, UniqueTradeId, WithholdingTaxes, Asset, Delta, HandlInst, LongFuturePrice, MarketAbbreviation, Price, RollBasePrice, SettlementDate, AccountAlias, SourceSession, OwnRemarks, OriginalQty, CarryingBrokerageFee, ExecutionBrokerageFee, OriginalCarryingBrokerageFee, OriginalExecutionBrokerageFee, ChargedBrokerageFee, OriginalChargedBrokerageFee, TipoMasterAccount, Count, PrimeiroLancamentoTrade, MudaDeAccDentrodoTrade, ContaErro, OriginaQty_TipoAcc, Qty_TipoAcc, PassouPelaContaErro, Total_TrocaAcc, TotalLinha_Trade, MasterAccountAsTypeSTR, MasterAccountCumSum, MasterAccountDropDuplicates, Trade_Realocado, Trade_Realocado_Grupo, Break_TradeNull, Break_Realocacao, ...]\n",
       "Index: []\n",
       "\n",
       "[0 rows x 102 columns]"
      ]
     },
     "execution_count": 17,
     "metadata": {},
     "output_type": "execute_result"
    }
   ],
   "source": [
    "df[(df['ClearingTradeId']==8920)&\n",
    "         (df['Symbol']=='BPAC11')]#[sum([chave_grupo,['Qty','OriginalQty','MasterAccount','AccountCode',\n",
    "                                  #                  'OriginaQty_TipoAcc','Qty_TipoAcc',\n",
    "                                  #                  'OriginaQty_PorAcc','OriginaQty_PorMasterAcc']],[])]"
   ]
  },
  {
   "cell_type": "code",
   "execution_count": null,
   "metadata": {
    "collapsed": true
   },
   "outputs": [],
   "source": []
  },
  {
   "cell_type": "code",
   "execution_count": 18,
   "metadata": {
    "collapsed": false
   },
   "outputs": [],
   "source": [
    "df = df[((df['Trades_Break_TradeNull']==1)|\n",
    "        (df['Trades_Break_Realocacao']>=1))]"
   ]
  },
  {
   "cell_type": "code",
   "execution_count": null,
   "metadata": {
    "collapsed": true
   },
   "outputs": [],
   "source": []
  },
  {
   "cell_type": "code",
   "execution_count": 19,
   "metadata": {
    "collapsed": false
   },
   "outputs": [
    {
     "data": {
      "text/plain": [
       "(23496, 102)"
      ]
     },
     "execution_count": 19,
     "metadata": {},
     "output_type": "execute_result"
    }
   ],
   "source": [
    "df.shape"
   ]
  },
  {
   "cell_type": "code",
   "execution_count": null,
   "metadata": {
    "collapsed": true
   },
   "outputs": [],
   "source": []
  },
  {
   "cell_type": "code",
   "execution_count": 20,
   "metadata": {
    "collapsed": false,
    "scrolled": true
   },
   "outputs": [],
   "source": [
    "df.to_excel('primeiro_resultado.xlsx')"
   ]
  },
  {
   "cell_type": "code",
   "execution_count": null,
   "metadata": {
    "collapsed": true
   },
   "outputs": [],
   "source": []
  },
  {
   "cell_type": "code",
   "execution_count": 21,
   "metadata": {
    "collapsed": false
   },
   "outputs": [
    {
     "data": {
      "text/html": [
       "<div>\n",
       "<table border=\"1\" class=\"dataframe\">\n",
       "  <thead>\n",
       "    <tr style=\"text-align: right;\">\n",
       "      <th></th>\n",
       "      <th>AccountCode</th>\n",
       "      <th>AgentCommission</th>\n",
       "      <th>AgentCommissionTax</th>\n",
       "      <th>AssessorCommission</th>\n",
       "      <th>AssignedBroker</th>\n",
       "      <th>BrokerageFee</th>\n",
       "      <th>BrokerageFeeTax</th>\n",
       "      <th>BuyIn</th>\n",
       "      <th>ClearingEmolument</th>\n",
       "      <th>ClearingEmolumentTax</th>\n",
       "      <th>...</th>\n",
       "      <th>AccountAlias</th>\n",
       "      <th>SourceSession</th>\n",
       "      <th>OwnRemarks</th>\n",
       "      <th>OriginalQty</th>\n",
       "      <th>CarryingBrokerageFee</th>\n",
       "      <th>ExecutionBrokerageFee</th>\n",
       "      <th>OriginalCarryingBrokerageFee</th>\n",
       "      <th>OriginalExecutionBrokerageFee</th>\n",
       "      <th>ChargedBrokerageFee</th>\n",
       "      <th>OriginalChargedBrokerageFee</th>\n",
       "    </tr>\n",
       "  </thead>\n",
       "  <tbody>\n",
       "    <tr>\n",
       "      <th>46115</th>\n",
       "      <td>47410.0</td>\n",
       "      <td>0.0</td>\n",
       "      <td>0.0</td>\n",
       "      <td>0.0</td>\n",
       "      <td>CDK</td>\n",
       "      <td>0.00</td>\n",
       "      <td>0.0</td>\n",
       "      <td>0.0</td>\n",
       "      <td>3.95</td>\n",
       "      <td>0.0275</td>\n",
       "      <td>...</td>\n",
       "      <td>FACILIT</td>\n",
       "      <td>Guilherme.martins@BTGP.BR</td>\n",
       "      <td>NULL</td>\n",
       "      <td>1000.0</td>\n",
       "      <td>0.0</td>\n",
       "      <td>0.00</td>\n",
       "      <td>0.0</td>\n",
       "      <td>0.00</td>\n",
       "      <td>0.00</td>\n",
       "      <td>72.05</td>\n",
       "    </tr>\n",
       "    <tr>\n",
       "      <th>46116</th>\n",
       "      <td>400410.0</td>\n",
       "      <td>0.0</td>\n",
       "      <td>0.0</td>\n",
       "      <td>0.0</td>\n",
       "      <td>CDK</td>\n",
       "      <td>0.00</td>\n",
       "      <td>0.0</td>\n",
       "      <td>0.0</td>\n",
       "      <td>0.00</td>\n",
       "      <td>0.0000</td>\n",
       "      <td>...</td>\n",
       "      <td>NULL</td>\n",
       "      <td>NULL</td>\n",
       "      <td>NULL</td>\n",
       "      <td>0.0</td>\n",
       "      <td>0.0</td>\n",
       "      <td>0.00</td>\n",
       "      <td>0.0</td>\n",
       "      <td>0.00</td>\n",
       "      <td>0.00</td>\n",
       "      <td>0.00</td>\n",
       "    </tr>\n",
       "    <tr>\n",
       "      <th>46117</th>\n",
       "      <td>100183.0</td>\n",
       "      <td>0.0</td>\n",
       "      <td>0.0</td>\n",
       "      <td>0.0</td>\n",
       "      <td>CDK</td>\n",
       "      <td>0.00</td>\n",
       "      <td>0.0</td>\n",
       "      <td>0.0</td>\n",
       "      <td>0.00</td>\n",
       "      <td>0.0000</td>\n",
       "      <td>...</td>\n",
       "      <td>BD</td>\n",
       "      <td>NULL</td>\n",
       "      <td>NULL</td>\n",
       "      <td>0.0</td>\n",
       "      <td>0.0</td>\n",
       "      <td>0.00</td>\n",
       "      <td>0.0</td>\n",
       "      <td>0.00</td>\n",
       "      <td>0.00</td>\n",
       "      <td>0.00</td>\n",
       "    </tr>\n",
       "    <tr>\n",
       "      <th>46118</th>\n",
       "      <td>208377.0</td>\n",
       "      <td>0.0</td>\n",
       "      <td>0.0</td>\n",
       "      <td>0.0</td>\n",
       "      <td>CDK</td>\n",
       "      <td>13.72</td>\n",
       "      <td>0.0</td>\n",
       "      <td>0.0</td>\n",
       "      <td>3.95</td>\n",
       "      <td>0.0275</td>\n",
       "      <td>...</td>\n",
       "      <td>EURO_AMSICAV</td>\n",
       "      <td>NULL</td>\n",
       "      <td>NULL</td>\n",
       "      <td>1000.0</td>\n",
       "      <td>0.0</td>\n",
       "      <td>13.72</td>\n",
       "      <td>0.0</td>\n",
       "      <td>13.72</td>\n",
       "      <td>13.72</td>\n",
       "      <td>13.72</td>\n",
       "    </tr>\n",
       "  </tbody>\n",
       "</table>\n",
       "<p>4 rows × 83 columns</p>\n",
       "</div>"
      ],
      "text/plain": [
       "       AccountCode  AgentCommission  AgentCommissionTax  AssessorCommission  \\\n",
       "46115      47410.0              0.0                 0.0                 0.0   \n",
       "46116     400410.0              0.0                 0.0                 0.0   \n",
       "46117     100183.0              0.0                 0.0                 0.0   \n",
       "46118     208377.0              0.0                 0.0                 0.0   \n",
       "\n",
       "      AssignedBroker  BrokerageFee  BrokerageFeeTax  BuyIn  ClearingEmolument  \\\n",
       "46115            CDK          0.00              0.0    0.0               3.95   \n",
       "46116            CDK          0.00              0.0    0.0               0.00   \n",
       "46117            CDK          0.00              0.0    0.0               0.00   \n",
       "46118            CDK         13.72              0.0    0.0               3.95   \n",
       "\n",
       "       ClearingEmolumentTax             ...              AccountAlias  \\\n",
       "46115                0.0275             ...                   FACILIT   \n",
       "46116                0.0000             ...                      NULL   \n",
       "46117                0.0000             ...                        BD   \n",
       "46118                0.0275             ...              EURO_AMSICAV   \n",
       "\n",
       "                   SourceSession  OwnRemarks  OriginalQty  \\\n",
       "46115  Guilherme.martins@BTGP.BR        NULL       1000.0   \n",
       "46116                       NULL        NULL          0.0   \n",
       "46117                       NULL        NULL          0.0   \n",
       "46118                       NULL        NULL       1000.0   \n",
       "\n",
       "       CarryingBrokerageFee ExecutionBrokerageFee  \\\n",
       "46115                   0.0                  0.00   \n",
       "46116                   0.0                  0.00   \n",
       "46117                   0.0                  0.00   \n",
       "46118                   0.0                 13.72   \n",
       "\n",
       "      OriginalCarryingBrokerageFee  OriginalExecutionBrokerageFee  \\\n",
       "46115                          0.0                           0.00   \n",
       "46116                          0.0                           0.00   \n",
       "46117                          0.0                           0.00   \n",
       "46118                          0.0                          13.72   \n",
       "\n",
       "      ChargedBrokerageFee OriginalChargedBrokerageFee  \n",
       "46115                0.00                       72.05  \n",
       "46116                0.00                        0.00  \n",
       "46117                0.00                        0.00  \n",
       "46118               13.72                       13.72  \n",
       "\n",
       "[4 rows x 83 columns]"
      ]
     },
     "execution_count": 21,
     "metadata": {},
     "output_type": "execute_result"
    }
   ],
   "source": [
    "df_backup[(df_backup['ClearingTradeId']==50240)&\n",
    "         (df_backup['Symbol']=='VVAR11')]"
   ]
  },
  {
   "cell_type": "code",
   "execution_count": null,
   "metadata": {
    "collapsed": false
   },
   "outputs": [],
   "source": [
    "df[(df['ClearingTradeId']==35530)&\n",
    "         (df['Symbol']=='CCRO3')]"
   ]
  },
  {
   "cell_type": "code",
   "execution_count": null,
   "metadata": {
    "collapsed": false
   },
   "outputs": [],
   "source": [
    "df[(df['Symbol']=='GNDI3')]"
   ]
  },
  {
   "cell_type": "code",
   "execution_count": null,
   "metadata": {
    "collapsed": true
   },
   "outputs": [],
   "source": []
  },
  {
   "cell_type": "code",
   "execution_count": null,
   "metadata": {
    "collapsed": true
   },
   "outputs": [],
   "source": []
  }
 ],
 "metadata": {
  "kernelspec": {
   "display_name": "Python 3",
   "language": "python",
   "name": "python3"
  },
  "language_info": {
   "codemirror_mode": {
    "name": "ipython",
    "version": 3
   },
   "file_extension": ".py",
   "mimetype": "text/x-python",
   "name": "python",
   "nbconvert_exporter": "python",
   "pygments_lexer": "ipython3",
   "version": "3.6.0"
  }
 },
 "nbformat": 4,
 "nbformat_minor": 2
}
