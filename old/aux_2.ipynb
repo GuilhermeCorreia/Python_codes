{
 "cells": [
  {
   "cell_type": "code",
   "execution_count": 1,
   "metadata": {
    "collapsed": true
   },
   "outputs": [],
   "source": [
    "import os\n",
    "import sys\n",
    "sys.path.append('%s/../' % os.getcwd())"
   ]
  },
  {
   "cell_type": "code",
   "execution_count": 2,
   "metadata": {
    "collapsed": true
   },
   "outputs": [],
   "source": [
    "import datetime\n",
    "import pandas as pd\n",
    "import numpy as np\n",
    "import getpass"
   ]
  },
  {
   "cell_type": "code",
   "execution_count": 8,
   "metadata": {
    "collapsed": true
   },
   "outputs": [],
   "source": [
    "pasta = r'C:\\Users\\%s\\OneDrive - Banco BTG Pactual S.A\\Desktop\\email' % getpass.getuser()"
   ]
  },
  {
   "cell_type": "code",
   "execution_count": 4,
   "metadata": {
    "collapsed": true
   },
   "outputs": [],
   "source": [
    "import email"
   ]
  },
  {
   "cell_type": "code",
   "execution_count": 15,
   "metadata": {
    "collapsed": true
   },
   "outputs": [],
   "source": [
    "import win32com.client"
   ]
  },
  {
   "cell_type": "code",
   "execution_count": null,
   "metadata": {
    "collapsed": true
   },
   "outputs": [],
   "source": [
    "outlook = win32com.client.Dispatch(\"Outlook.Application\").GetNamespace(\"MAPI\")"
   ]
  },
  {
   "cell_type": "code",
   "execution_count": 28,
   "metadata": {
    "collapsed": true
   },
   "outputs": [],
   "source": [
    "import time"
   ]
  },
  {
   "cell_type": "code",
   "execution_count": 36,
   "metadata": {
    "collapsed": true
   },
   "outputs": [],
   "source": [
    "import zipfile"
   ]
  },
  {
   "cell_type": "code",
   "execution_count": null,
   "metadata": {
    "collapsed": true
   },
   "outputs": [],
   "source": []
  },
  {
   "cell_type": "code",
   "execution_count": 34,
   "metadata": {
    "collapsed": false
   },
   "outputs": [
    {
     "name": "stdout",
     "output_type": "stream",
     "text": [
      "Automatic Scheduled Task from Calypso   REPORT Equity – Posição Custo Aluguel Clients BD+WM - old (10).msg\n",
      "Automatic Scheduled Task from Calypso   REPORT Equity – Posição Custo Aluguel Clients BD+WM - old (100).msg\n",
      "Automatic Scheduled Task from Calypso   REPORT Equity – Posição Custo Aluguel Clients BD+WM - old (103).msg\n",
      "Automatic Scheduled Task from Calypso   REPORT Equity – Posição Custo Aluguel Clients BD+WM - old (107).msg\n",
      "Automatic Scheduled Task from Calypso   REPORT Equity – Posição Custo Aluguel Clients BD+WM - old (109).msg\n",
      "Automatic Scheduled Task from Calypso   REPORT Equity – Posição Custo Aluguel Clients BD+WM - old (112).msg\n",
      "Automatic Scheduled Task from Calypso   REPORT Equity – Posição Custo Aluguel Clients BD+WM - old (13).msg\n",
      "Automatic Scheduled Task from Calypso   REPORT Equity – Posição Custo Aluguel Clients BD+WM - old (15).msg\n",
      "Automatic Scheduled Task from Calypso   REPORT Equity – Posição Custo Aluguel Clients BD+WM - old (16).msg\n",
      "Automatic Scheduled Task from Calypso   REPORT Equity – Posição Custo Aluguel Clients BD+WM - old (18).msg\n",
      "Automatic Scheduled Task from Calypso   REPORT Equity – Posição Custo Aluguel Clients BD+WM - old (2).msg\n",
      "Automatic Scheduled Task from Calypso   REPORT Equity – Posição Custo Aluguel Clients BD+WM - old (20).msg\n",
      "Automatic Scheduled Task from Calypso   REPORT Equity – Posição Custo Aluguel Clients BD+WM - old (22).msg\n",
      "Automatic Scheduled Task from Calypso   REPORT Equity – Posição Custo Aluguel Clients BD+WM - old (23).msg\n",
      "Automatic Scheduled Task from Calypso   REPORT Equity – Posição Custo Aluguel Clients BD+WM - old (27).msg\n",
      "Automatic Scheduled Task from Calypso   REPORT Equity – Posição Custo Aluguel Clients BD+WM - old (30).msg\n",
      "Automatic Scheduled Task from Calypso   REPORT Equity – Posição Custo Aluguel Clients BD+WM - old (33).msg\n",
      "Automatic Scheduled Task from Calypso   REPORT Equity – Posição Custo Aluguel Clients BD+WM - old (36).msg\n",
      "Automatic Scheduled Task from Calypso   REPORT Equity – Posição Custo Aluguel Clients BD+WM - old (4).msg\n",
      "Automatic Scheduled Task from Calypso   REPORT Equity – Posição Custo Aluguel Clients BD+WM - old (41).msg\n",
      "Automatic Scheduled Task from Calypso   REPORT Equity – Posição Custo Aluguel Clients BD+WM - old (44).msg\n",
      "Automatic Scheduled Task from Calypso   REPORT Equity – Posição Custo Aluguel Clients BD+WM - old (47).msg\n",
      "Automatic Scheduled Task from Calypso   REPORT Equity – Posição Custo Aluguel Clients BD+WM - old (5).msg\n",
      "Automatic Scheduled Task from Calypso   REPORT Equity – Posição Custo Aluguel Clients BD+WM - old (50).msg\n",
      "Automatic Scheduled Task from Calypso   REPORT Equity – Posição Custo Aluguel Clients BD+WM - old (55).msg\n",
      "Automatic Scheduled Task from Calypso   REPORT Equity – Posição Custo Aluguel Clients BD+WM - old (58).msg\n",
      "Automatic Scheduled Task from Calypso   REPORT Equity – Posição Custo Aluguel Clients BD+WM - old (61).msg\n",
      "Automatic Scheduled Task from Calypso   REPORT Equity – Posição Custo Aluguel Clients BD+WM - old (64).msg\n",
      "Automatic Scheduled Task from Calypso   REPORT Equity – Posição Custo Aluguel Clients BD+WM - old (67).msg\n",
      "Automatic Scheduled Task from Calypso   REPORT Equity – Posição Custo Aluguel Clients BD+WM - old (69).msg\n",
      "Automatic Scheduled Task from Calypso   REPORT Equity – Posição Custo Aluguel Clients BD+WM - old (7).msg\n",
      "Automatic Scheduled Task from Calypso   REPORT Equity – Posição Custo Aluguel Clients BD+WM - old (75).msg\n",
      "Automatic Scheduled Task from Calypso   REPORT Equity – Posição Custo Aluguel Clients BD+WM - old (78).msg\n",
      "Automatic Scheduled Task from Calypso   REPORT Equity – Posição Custo Aluguel Clients BD+WM - old (81).msg\n",
      "Automatic Scheduled Task from Calypso   REPORT Equity – Posição Custo Aluguel Clients BD+WM - old (86).msg\n",
      "Automatic Scheduled Task from Calypso   REPORT Equity – Posição Custo Aluguel Clients BD+WM - old (89).msg\n",
      "Automatic Scheduled Task from Calypso   REPORT Equity – Posição Custo Aluguel Clients BD+WM - old (9).msg\n",
      "Automatic Scheduled Task from Calypso   REPORT Equity – Posição Custo Aluguel Clients BD+WM - old (91).msg\n",
      "Automatic Scheduled Task from Calypso   REPORT Equity – Posição Custo Aluguel Clients BD+WM - old (94).msg\n",
      "Automatic Scheduled Task from Calypso   REPORT Equity – Posição Custo Aluguel Clients BD+WM - old.msg\n",
      "Automatic Scheduled Task from Calypso   REPORT Equity – Posição Custo Aluguel INT C (1).msg\n",
      "Automatic Scheduled Task from Calypso   REPORT Equity – Posição Custo Aluguel INT C (101).msg\n",
      "Automatic Scheduled Task from Calypso   REPORT Equity – Posição Custo Aluguel INT C (104).msg\n",
      "Automatic Scheduled Task from Calypso   REPORT Equity – Posição Custo Aluguel INT C (106).msg\n",
      "Automatic Scheduled Task from Calypso   REPORT Equity – Posição Custo Aluguel INT C (11).msg\n",
      "Automatic Scheduled Task from Calypso   REPORT Equity – Posição Custo Aluguel INT C (110).msg\n",
      "Automatic Scheduled Task from Calypso   REPORT Equity – Posição Custo Aluguel INT C (113).msg\n",
      "Automatic Scheduled Task from Calypso   REPORT Equity – Posição Custo Aluguel INT C (14).msg\n",
      "Automatic Scheduled Task from Calypso   REPORT Equity – Posição Custo Aluguel INT C (17).msg\n",
      "Automatic Scheduled Task from Calypso   REPORT Equity – Posição Custo Aluguel INT C (18).msg\n",
      "Automatic Scheduled Task from Calypso   REPORT Equity – Posição Custo Aluguel INT C (19).msg\n",
      "Automatic Scheduled Task from Calypso   REPORT Equity – Posição Custo Aluguel INT C (2).msg\n",
      "Automatic Scheduled Task from Calypso   REPORT Equity – Posição Custo Aluguel INT C (21).msg\n",
      "Automatic Scheduled Task from Calypso   REPORT Equity – Posição Custo Aluguel INT C (23).msg\n",
      "Automatic Scheduled Task from Calypso   REPORT Equity – Posição Custo Aluguel INT C (24).msg\n",
      "Automatic Scheduled Task from Calypso   REPORT Equity – Posição Custo Aluguel INT C (25).msg\n",
      "Automatic Scheduled Task from Calypso   REPORT Equity – Posição Custo Aluguel INT C (26).msg\n",
      "Automatic Scheduled Task from Calypso   REPORT Equity – Posição Custo Aluguel INT C (28).msg\n",
      "Automatic Scheduled Task from Calypso   REPORT Equity – Posição Custo Aluguel INT C (3).msg\n",
      "Automatic Scheduled Task from Calypso   REPORT Equity – Posição Custo Aluguel INT C (31).msg\n",
      "Automatic Scheduled Task from Calypso   REPORT Equity – Posição Custo Aluguel INT C (34).msg\n",
      "Automatic Scheduled Task from Calypso   REPORT Equity – Posição Custo Aluguel INT C (37).msg\n",
      "Automatic Scheduled Task from Calypso   REPORT Equity – Posição Custo Aluguel INT C (38).msg\n",
      "Automatic Scheduled Task from Calypso   REPORT Equity – Posição Custo Aluguel INT C (39).msg\n",
      "Automatic Scheduled Task from Calypso   REPORT Equity – Posição Custo Aluguel INT C (42).msg\n",
      "Automatic Scheduled Task from Calypso   REPORT Equity – Posição Custo Aluguel INT C (45).msg\n",
      "Automatic Scheduled Task from Calypso   REPORT Equity – Posição Custo Aluguel INT C (48).msg\n",
      "Automatic Scheduled Task from Calypso   REPORT Equity – Posição Custo Aluguel INT C (5).msg\n",
      "Automatic Scheduled Task from Calypso   REPORT Equity – Posição Custo Aluguel INT C (51).msg\n",
      "Automatic Scheduled Task from Calypso   REPORT Equity – Posição Custo Aluguel INT C (52).msg\n",
      "Automatic Scheduled Task from Calypso   REPORT Equity – Posição Custo Aluguel INT C (53).msg\n",
      "Automatic Scheduled Task from Calypso   REPORT Equity – Posição Custo Aluguel INT C (56).msg\n",
      "Automatic Scheduled Task from Calypso   REPORT Equity – Posição Custo Aluguel INT C (59).msg\n",
      "Automatic Scheduled Task from Calypso   REPORT Equity – Posição Custo Aluguel INT C (6).msg\n",
      "Automatic Scheduled Task from Calypso   REPORT Equity – Posição Custo Aluguel INT C (62).msg\n",
      "Automatic Scheduled Task from Calypso   REPORT Equity – Posição Custo Aluguel INT C (65).msg\n",
      "Automatic Scheduled Task from Calypso   REPORT Equity – Posição Custo Aluguel INT C (68).msg\n",
      "Automatic Scheduled Task from Calypso   REPORT Equity – Posição Custo Aluguel INT C (7).msg\n",
      "Automatic Scheduled Task from Calypso   REPORT Equity – Posição Custo Aluguel INT C (71).msg\n",
      "Automatic Scheduled Task from Calypso   REPORT Equity – Posição Custo Aluguel INT C (72).msg\n",
      "Automatic Scheduled Task from Calypso   REPORT Equity – Posição Custo Aluguel INT C (73).msg\n",
      "Automatic Scheduled Task from Calypso   REPORT Equity – Posição Custo Aluguel INT C (76).msg\n",
      "Automatic Scheduled Task from Calypso   REPORT Equity – Posição Custo Aluguel INT C (79).msg\n",
      "Automatic Scheduled Task from Calypso   REPORT Equity – Posição Custo Aluguel INT C (8).msg\n",
      "Automatic Scheduled Task from Calypso   REPORT Equity – Posição Custo Aluguel INT C (82).msg\n",
      "Automatic Scheduled Task from Calypso   REPORT Equity – Posição Custo Aluguel INT C (83).msg\n",
      "Automatic Scheduled Task from Calypso   REPORT Equity – Posição Custo Aluguel INT C (84).msg\n",
      "Automatic Scheduled Task from Calypso   REPORT Equity – Posição Custo Aluguel INT C (87).msg\n",
      "Automatic Scheduled Task from Calypso   REPORT Equity – Posição Custo Aluguel INT C (90).msg\n",
      "Automatic Scheduled Task from Calypso   REPORT Equity – Posição Custo Aluguel INT C (93).msg\n",
      "Automatic Scheduled Task from Calypso   REPORT Equity – Posição Custo Aluguel INT C (96).msg\n",
      "Automatic Scheduled Task from Calypso   REPORT Equity – Posição Custo Aluguel INT C (97).msg\n",
      "Automatic Scheduled Task from Calypso   REPORT Equity – Posição Custo Aluguel INT C (98).msg\n",
      "Automatic Scheduled Task from Calypso   REPORT Equity – Posição Custo Aluguel INT C.msg\n",
      "Automatic Scheduled Task from Calypso   REPORT Equity – Posição Custo Aluguel PROP+ASSET - old (1).msg\n",
      "Automatic Scheduled Task from Calypso   REPORT Equity – Posição Custo Aluguel PROP+ASSET - old (10).msg\n",
      "Automatic Scheduled Task from Calypso   REPORT Equity – Posição Custo Aluguel PROP+ASSET - old (102).msg\n",
      "Automatic Scheduled Task from Calypso   REPORT Equity – Posição Custo Aluguel PROP+ASSET - old (105).msg\n",
      "Automatic Scheduled Task from Calypso   REPORT Equity – Posição Custo Aluguel PROP+ASSET - old (108).msg\n",
      "Automatic Scheduled Task from Calypso   REPORT Equity – Posição Custo Aluguel PROP+ASSET - old (111).msg\n",
      "Automatic Scheduled Task from Calypso   REPORT Equity – Posição Custo Aluguel PROP+ASSET - old (12).msg\n",
      "Automatic Scheduled Task from Calypso   REPORT Equity – Posição Custo Aluguel PROP+ASSET - old (15).msg\n",
      "Automatic Scheduled Task from Calypso   REPORT Equity – Posição Custo Aluguel PROP+ASSET - old (16).msg\n",
      "Automatic Scheduled Task from Calypso   REPORT Equity – Posição Custo Aluguel PROP+ASSET - old (19).msg\n",
      "Automatic Scheduled Task from Calypso   REPORT Equity – Posição Custo Aluguel PROP+ASSET - old (20).msg\n",
      "Automatic Scheduled Task from Calypso   REPORT Equity – Posição Custo Aluguel PROP+ASSET - old (21).msg\n",
      "Automatic Scheduled Task from Calypso   REPORT Equity – Posição Custo Aluguel PROP+ASSET - old (22).msg\n",
      "Automatic Scheduled Task from Calypso   REPORT Equity – Posição Custo Aluguel PROP+ASSET - old (26).msg\n",
      "Automatic Scheduled Task from Calypso   REPORT Equity – Posição Custo Aluguel PROP+ASSET - old (29).msg\n",
      "Automatic Scheduled Task from Calypso   REPORT Equity – Posição Custo Aluguel PROP+ASSET - old (3).msg\n",
      "Automatic Scheduled Task from Calypso   REPORT Equity – Posição Custo Aluguel PROP+ASSET - old (32).msg\n",
      "Automatic Scheduled Task from Calypso   REPORT Equity – Posição Custo Aluguel PROP+ASSET - old (35).msg\n",
      "Automatic Scheduled Task from Calypso   REPORT Equity – Posição Custo Aluguel PROP+ASSET - old (4).msg\n",
      "Automatic Scheduled Task from Calypso   REPORT Equity – Posição Custo Aluguel PROP+ASSET - old (40).msg\n",
      "Automatic Scheduled Task from Calypso   REPORT Equity – Posição Custo Aluguel PROP+ASSET - old (43).msg\n",
      "Automatic Scheduled Task from Calypso   REPORT Equity – Posição Custo Aluguel PROP+ASSET - old (46).msg\n",
      "Automatic Scheduled Task from Calypso   REPORT Equity – Posição Custo Aluguel PROP+ASSET - old (49).msg\n",
      "Automatic Scheduled Task from Calypso   REPORT Equity – Posição Custo Aluguel PROP+ASSET - old (54).msg\n",
      "Automatic Scheduled Task from Calypso   REPORT Equity – Posição Custo Aluguel PROP+ASSET - old (57).msg\n",
      "Automatic Scheduled Task from Calypso   REPORT Equity – Posição Custo Aluguel PROP+ASSET - old (6).msg\n",
      "Automatic Scheduled Task from Calypso   REPORT Equity – Posição Custo Aluguel PROP+ASSET - old (60).msg\n",
      "Automatic Scheduled Task from Calypso   REPORT Equity – Posição Custo Aluguel PROP+ASSET - old (63).msg\n",
      "Automatic Scheduled Task from Calypso   REPORT Equity – Posição Custo Aluguel PROP+ASSET - old (66).msg\n",
      "Automatic Scheduled Task from Calypso   REPORT Equity – Posição Custo Aluguel PROP+ASSET - old (70).msg\n",
      "Automatic Scheduled Task from Calypso   REPORT Equity – Posição Custo Aluguel PROP+ASSET - old (74).msg\n",
      "Automatic Scheduled Task from Calypso   REPORT Equity – Posição Custo Aluguel PROP+ASSET - old (77).msg\n",
      "Automatic Scheduled Task from Calypso   REPORT Equity – Posição Custo Aluguel PROP+ASSET - old (80).msg\n",
      "Automatic Scheduled Task from Calypso   REPORT Equity – Posição Custo Aluguel PROP+ASSET - old (85).msg\n",
      "Automatic Scheduled Task from Calypso   REPORT Equity – Posição Custo Aluguel PROP+ASSET - old (88).msg\n",
      "Automatic Scheduled Task from Calypso   REPORT Equity – Posição Custo Aluguel PROP+ASSET - old (9).msg\n",
      "Automatic Scheduled Task from Calypso   REPORT Equity – Posição Custo Aluguel PROP+ASSET - old (92).msg\n",
      "Automatic Scheduled Task from Calypso   REPORT Equity – Posição Custo Aluguel PROP+ASSET - old (95).msg\n",
      "Automatic Scheduled Task from Calypso   REPORT Equity – Posição Custo Aluguel PROP+ASSET - old (99).msg\n",
      "Automatic Scheduled Task from Calypso   REPORT Equity – Posição Custo Aluguel PROP+ASSET - old.msg\n",
      "UBS Prime Brokerage Report - Billing US Regular - Multiclient BTG Pactual (1).msg\n",
      "UBS Prime Brokerage Report - Billing US Regular - Multiclient BTG Pactual (10).msg\n",
      "UBS Prime Brokerage Report - Billing US Regular - Multiclient BTG Pactual (11).msg\n",
      "UBS Prime Brokerage Report - Billing US Regular - Multiclient BTG Pactual (12).msg\n",
      "UBS Prime Brokerage Report - Billing US Regular - Multiclient BTG Pactual (13).msg\n",
      "UBS Prime Brokerage Report - Billing US Regular - Multiclient BTG Pactual (14).msg\n",
      "UBS Prime Brokerage Report - Billing US Regular - Multiclient BTG Pactual (15).msg\n",
      "UBS Prime Brokerage Report - Billing US Regular - Multiclient BTG Pactual (16).msg\n",
      "UBS Prime Brokerage Report - Billing US Regular - Multiclient BTG Pactual (17).msg\n",
      "UBS Prime Brokerage Report - Billing US Regular - Multiclient BTG Pactual (18).msg\n",
      "UBS Prime Brokerage Report - Billing US Regular - Multiclient BTG Pactual (19).msg\n",
      "UBS Prime Brokerage Report - Billing US Regular - Multiclient BTG Pactual (2).msg\n",
      "UBS Prime Brokerage Report - Billing US Regular - Multiclient BTG Pactual (20).msg\n",
      "UBS Prime Brokerage Report - Billing US Regular - Multiclient BTG Pactual (21).msg\n",
      "UBS Prime Brokerage Report - Billing US Regular - Multiclient BTG Pactual (3).msg\n",
      "UBS Prime Brokerage Report - Billing US Regular - Multiclient BTG Pactual (4).msg\n",
      "UBS Prime Brokerage Report - Billing US Regular - Multiclient BTG Pactual (5).msg\n",
      "UBS Prime Brokerage Report - Billing US Regular - Multiclient BTG Pactual (7).msg\n",
      "UBS Prime Brokerage Report - Billing US Regular - Multiclient BTG Pactual (8).msg\n",
      "UBS Prime Brokerage Report - Billing US Regular - Multiclient BTG Pactual (9).msg\n",
      "UBS Prime Brokerage Report - Billing US Regular - Multiclient BTG Pactual.msg\n",
      "UBS Prime Brokerage Report - End of Month (Custody) - Multiclient BTG Pactual (12).msg\n",
      "UBS Prime Brokerage Report - End of Month (Custody) - Multiclient BTG Pactual (13).msg\n",
      "UBS Prime Brokerage Report - End of Month (Custody) - Multiclient BTG Pactual (2).msg\n",
      "UBS Prime Brokerage Report - End of Month (Custody) - Multiclient BTG Pactual (6).msg\n",
      "UBS Prime Brokerage Report - End of Month (Custody) - Multiclient BTG Pactual.msg\n"
     ]
    }
   ],
   "source": [
    "for file in os.listdir(pasta):\n",
    "    print (file)\n",
    "    try:\n",
    "        msg = outlook.OpenSharedItem(pasta+\"\\\\\"+file)\n",
    "\n",
    "\n",
    "        count_attachments = msg.Attachments.Count\n",
    "        if count_attachments > 0:\n",
    "            for item in range(count_attachments):\n",
    "                file_name = msg.Attachments.Item(item + 1).Filename\n",
    "                attach = msg.Attachments.Item(item+1)\n",
    "                attach.SaveAsFile(pasta+'\\\\'+file_name)\n",
    "    except:\n",
    "        continue"
   ]
  },
  {
   "cell_type": "code",
   "execution_count": null,
   "metadata": {
    "collapsed": true
   },
   "outputs": [],
   "source": []
  },
  {
   "cell_type": "code",
   "execution_count": null,
   "metadata": {
    "collapsed": true
   },
   "outputs": [],
   "source": []
  },
  {
   "cell_type": "code",
   "execution_count": 50,
   "metadata": {
    "collapsed": false
   },
   "outputs": [
    {
     "name": "stdout",
     "output_type": "stream",
     "text": [
      "BillingUSEmail.MCLBTGPA(14024677).zip\n"
     ]
    },
    {
     "ename": "FileNotFoundError",
     "evalue": "[WinError 2] The system cannot find the file specified: 'C:\\\\Users\\\\correigu\\\\OneDrive - Banco BTG Pactual S.A\\\\Desktop\\\\email\\\\BillingUSEmail.MCLBTGPA(14024677)'",
     "output_type": "error",
     "traceback": [
      "\u001b[0;31m---------------------------------------------------------------------------\u001b[0m",
      "\u001b[0;31mFileNotFoundError\u001b[0m                         Traceback (most recent call last)",
      "\u001b[0;32m<ipython-input-50-afa25fa33aaf>\u001b[0m in \u001b[0;36m<module>\u001b[0;34m()\u001b[0m\n\u001b[1;32m      3\u001b[0m         \u001b[0mprint\u001b[0m\u001b[1;33m(\u001b[0m\u001b[0mfolder\u001b[0m\u001b[1;33m)\u001b[0m\u001b[1;33m\u001b[0m\u001b[0m\n\u001b[1;32m      4\u001b[0m         \u001b[0mzip_file\u001b[0m \u001b[1;33m=\u001b[0m \u001b[0mzipfile\u001b[0m\u001b[1;33m.\u001b[0m\u001b[0mZipFile\u001b[0m\u001b[1;33m(\u001b[0m\u001b[0mpasta\u001b[0m\u001b[1;33m+\u001b[0m\u001b[1;34m\"\\\\\"\u001b[0m\u001b[1;33m+\u001b[0m\u001b[0mfolder\u001b[0m\u001b[1;33m,\u001b[0m \u001b[1;34m'w'\u001b[0m\u001b[1;33m)\u001b[0m\u001b[1;33m\u001b[0m\u001b[0m\n\u001b[0;32m----> 5\u001b[0;31m         \u001b[0mzip_file\u001b[0m\u001b[1;33m.\u001b[0m\u001b[0mwrite\u001b[0m\u001b[1;33m(\u001b[0m\u001b[0mpasta\u001b[0m\u001b[1;33m+\u001b[0m\u001b[1;34m'\\\\'\u001b[0m\u001b[1;33m+\u001b[0m\u001b[0mfolder\u001b[0m\u001b[1;33m[\u001b[0m\u001b[1;33m:\u001b[0m\u001b[1;33m-\u001b[0m\u001b[1;36m4\u001b[0m\u001b[1;33m]\u001b[0m\u001b[1;33m,\u001b[0m \u001b[0mcompress_type\u001b[0m\u001b[1;33m=\u001b[0m\u001b[0mzipfile\u001b[0m\u001b[1;33m.\u001b[0m\u001b[0mZIP_DEFLATED\u001b[0m\u001b[1;33m)\u001b[0m\u001b[1;33m\u001b[0m\u001b[0m\n\u001b[0m\u001b[1;32m      6\u001b[0m         \u001b[0mzip_file\u001b[0m\u001b[1;33m.\u001b[0m\u001b[0mclose\u001b[0m\u001b[1;33m(\u001b[0m\u001b[1;33m)\u001b[0m\u001b[1;33m\u001b[0m\u001b[0m\n\u001b[1;32m      7\u001b[0m \u001b[1;31m#        for z in zip_file.namelist():\u001b[0m\u001b[1;33m\u001b[0m\u001b[1;33m\u001b[0m\u001b[0m\n",
      "\u001b[0;32mC:\\ProgramData\\Anaconda3\\Lib\\zipfile.py\u001b[0m in \u001b[0;36mwrite\u001b[0;34m(self, filename, arcname, compress_type)\u001b[0m\n\u001b[1;32m   1578\u001b[0m             )\n\u001b[1;32m   1579\u001b[0m \u001b[1;33m\u001b[0m\u001b[0m\n\u001b[0;32m-> 1580\u001b[0;31m         \u001b[0mzinfo\u001b[0m \u001b[1;33m=\u001b[0m \u001b[0mZipInfo\u001b[0m\u001b[1;33m.\u001b[0m\u001b[0mfrom_file\u001b[0m\u001b[1;33m(\u001b[0m\u001b[0mfilename\u001b[0m\u001b[1;33m,\u001b[0m \u001b[0marcname\u001b[0m\u001b[1;33m)\u001b[0m\u001b[1;33m\u001b[0m\u001b[0m\n\u001b[0m\u001b[1;32m   1581\u001b[0m \u001b[1;33m\u001b[0m\u001b[0m\n\u001b[1;32m   1582\u001b[0m         \u001b[1;32mif\u001b[0m \u001b[0mzinfo\u001b[0m\u001b[1;33m.\u001b[0m\u001b[0mis_dir\u001b[0m\u001b[1;33m(\u001b[0m\u001b[1;33m)\u001b[0m\u001b[1;33m:\u001b[0m\u001b[1;33m\u001b[0m\u001b[0m\n",
      "\u001b[0;32mC:\\ProgramData\\Anaconda3\\Lib\\zipfile.py\u001b[0m in \u001b[0;36mfrom_file\u001b[0;34m(cls, filename, arcname)\u001b[0m\n\u001b[1;32m    480\u001b[0m         leading path separators removed).\n\u001b[1;32m    481\u001b[0m         \"\"\"\n\u001b[0;32m--> 482\u001b[0;31m         \u001b[0mst\u001b[0m \u001b[1;33m=\u001b[0m \u001b[0mos\u001b[0m\u001b[1;33m.\u001b[0m\u001b[0mstat\u001b[0m\u001b[1;33m(\u001b[0m\u001b[0mfilename\u001b[0m\u001b[1;33m)\u001b[0m\u001b[1;33m\u001b[0m\u001b[0m\n\u001b[0m\u001b[1;32m    483\u001b[0m         \u001b[0misdir\u001b[0m \u001b[1;33m=\u001b[0m \u001b[0mstat\u001b[0m\u001b[1;33m.\u001b[0m\u001b[0mS_ISDIR\u001b[0m\u001b[1;33m(\u001b[0m\u001b[0mst\u001b[0m\u001b[1;33m.\u001b[0m\u001b[0mst_mode\u001b[0m\u001b[1;33m)\u001b[0m\u001b[1;33m\u001b[0m\u001b[0m\n\u001b[1;32m    484\u001b[0m         \u001b[0mmtime\u001b[0m \u001b[1;33m=\u001b[0m \u001b[0mtime\u001b[0m\u001b[1;33m.\u001b[0m\u001b[0mlocaltime\u001b[0m\u001b[1;33m(\u001b[0m\u001b[0mst\u001b[0m\u001b[1;33m.\u001b[0m\u001b[0mst_mtime\u001b[0m\u001b[1;33m)\u001b[0m\u001b[1;33m\u001b[0m\u001b[0m\n",
      "\u001b[0;31mFileNotFoundError\u001b[0m: [WinError 2] The system cannot find the file specified: 'C:\\\\Users\\\\correigu\\\\OneDrive - Banco BTG Pactual S.A\\\\Desktop\\\\email\\\\BillingUSEmail.MCLBTGPA(14024677)'"
     ]
    }
   ],
   "source": [
    "for folder in os.listdir(pasta):\n",
    "    if '.zip' in folder:\n",
    "        print(folder)\n",
    "        zip_file = zipfile.ZipFile(pasta+\"\\\\\"+folder, 'w')\n",
    "        zip_file.write(pasta+'\\\\'+folder[:-4], compress_type=zipfile.ZIP_DEFLATED)\n",
    "        zip_file.close()\n",
    "#        for z in zip_file.namelist():\n",
    "#            print(z)\n",
    "        \n",
    "#        zip_file.write(pasta)\n",
    "#        zip_file.close()"
   ]
  },
  {
   "cell_type": "code",
   "execution_count": null,
   "metadata": {
    "collapsed": true
   },
   "outputs": [],
   "source": []
  },
  {
   "cell_type": "code",
   "execution_count": null,
   "metadata": {
    "collapsed": true
   },
   "outputs": [],
   "source": []
  },
  {
   "cell_type": "code",
   "execution_count": null,
   "metadata": {
    "collapsed": true
   },
   "outputs": [],
   "source": []
  },
  {
   "cell_type": "code",
   "execution_count": null,
   "metadata": {
    "collapsed": true
   },
   "outputs": [],
   "source": []
  },
  {
   "cell_type": "code",
   "execution_count": null,
   "metadata": {
    "collapsed": true
   },
   "outputs": [],
   "source": []
  },
  {
   "cell_type": "code",
   "execution_count": null,
   "metadata": {
    "collapsed": true
   },
   "outputs": [],
   "source": []
  }
 ],
 "metadata": {
  "kernelspec": {
   "display_name": "Python 3",
   "language": "python",
   "name": "python3"
  },
  "language_info": {
   "codemirror_mode": {
    "name": "ipython",
    "version": 3
   },
   "file_extension": ".py",
   "mimetype": "text/x-python",
   "name": "python",
   "nbconvert_exporter": "python",
   "pygments_lexer": "ipython3",
   "version": "3.6.0"
  }
 },
 "nbformat": 4,
 "nbformat_minor": 2
}
