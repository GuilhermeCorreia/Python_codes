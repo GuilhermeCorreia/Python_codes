{
 "cells": [
  {
   "cell_type": "code",
   "execution_count": 1,
   "metadata": {
    "collapsed": true
   },
   "outputs": [],
   "source": [
    "%load_ext autoreload\n",
    "%autoreload 2\n",
    "\n",
    "import os\n",
    "import sys\n",
    "\n",
    "sys.path.append('%s/../' % os.getcwd())"
   ]
  },
  {
   "cell_type": "code",
   "execution_count": 2,
   "metadata": {
    "collapsed": true
   },
   "outputs": [],
   "source": [
    "import datetime\n",
    "import pandas as pd\n",
    "import numpy as np\n",
    "import getpass\n",
    "\n",
    "import win32com.client\n",
    "outlook = win32com.client.Dispatch('outlook.application')\n",
    "namespace = outlook.GetNamespace(\"MAPI\")\n",
    "root_folder = namespace.Folders.Item(1)"
   ]
  },
  {
   "cell_type": "code",
   "execution_count": 15,
   "metadata": {
    "collapsed": true
   },
   "outputs": [],
   "source": [
    "folder_search = ['Calypso', 'ubs']"
   ]
  },
  {
   "cell_type": "code",
   "execution_count": 4,
   "metadata": {
    "collapsed": true
   },
   "outputs": [],
   "source": [
    "path = r'C:\\Users\\%s\\OneDrive - Banco BTG Pactual S.A\\Desktop\\relatorios_offshore' % getpass.getuser()"
   ]
  },
  {
   "cell_type": "code",
   "execution_count": 5,
   "metadata": {
    "collapsed": true
   },
   "outputs": [],
   "source": [
    "os.mkdir(path)"
   ]
  },
  {
   "cell_type": "code",
   "execution_count": 10,
   "metadata": {
    "collapsed": false
   },
   "outputs": [
    {
     "name": "stdout",
     "output_type": "stream",
     "text": [
      "confirmation\n",
      "ubs\n"
     ]
    }
   ],
   "source": [
    "for subfolder in folder_search:\n",
    "    print(subfolder)"
   ]
  },
  {
   "cell_type": "code",
   "execution_count": 17,
   "metadata": {
    "collapsed": false,
    "scrolled": true
   },
   "outputs": [
    {
     "name": "stdout",
     "output_type": "stream",
     "text": [
      "Automatic Scheduled Task from Calypso : REPORT/Equity – Posição Custo Aluguel INT C\n",
      "Automatic Scheduled Task from Calypso : REPORT/Equity – Posição Custo Aluguel PROP+ASSET - old\n",
      "Automatic Scheduled Task from Calypso : REPORT/Equity – Posição Custo Aluguel INT C\n",
      "Automatic Scheduled Task from Calypso : REPORT/Equity – Posição Custo Aluguel Total\n",
      "Automatic Scheduled Task from Calypso : REPORT/Equity – Posição Custo Aluguel Lux\n",
      "Automatic Scheduled Task from Calypso : REPORT/Equity – Posição Custo Aluguel PROP+ASSET - old\n",
      "Automatic Scheduled Task from Calypso : REPORT/Equity – Posição Custo Aluguel Clients BD+WM - old\n",
      "Automatic Scheduled Task from Calypso : REPORT/Equity – Posição Custo Aluguel PROP+ASSET - old\n",
      "Automatic Scheduled Task from Calypso : REPORT/Equity – Posição Custo Aluguel Clients BD+WM - old\n",
      "Automatic Scheduled Task from Calypso : REPORT/Equity – Posição Custo Aluguel INT C\n",
      "Automatic Scheduled Task from Calypso : REPORT/Equity – Posição Custo Aluguel Lux\n",
      "Automatic Scheduled Task from Calypso : REPORT/Equity – Posição Custo Aluguel Total\n",
      "Automatic Scheduled Task from Calypso : REPORT/Equity – Posição Custo Aluguel PROP+ASSET - old\n",
      "Automatic Scheduled Task from Calypso : REPORT/Equity – Posição Custo Aluguel INT C\n",
      "Automatic Scheduled Task from Calypso : REPORT/Equity – Posição Custo Aluguel INT C\n",
      "Automatic Scheduled Task from Calypso : REPORT/Equity – Posição Custo Aluguel INT C\n",
      "Automatic Scheduled Task from Calypso : REPORT/Equity – Posição Custo Aluguel Lux\n",
      "Automatic Scheduled Task from Calypso : REPORT/Equity – Posição Custo Aluguel INT C\n",
      "Automatic Scheduled Task from Calypso : REPORT/Equity – Posição Custo Aluguel Lux\n",
      "Automatic Scheduled Task from Calypso : REPORT/Equity – Posição Custo Aluguel INT C\n",
      "Automatic Scheduled Task from Calypso : REPORT/Equity – Posição Custo Aluguel PROP+ASSET - old\n",
      "Automatic Scheduled Task from Calypso : REPORT/Equity – Posição Custo Aluguel Clients BD+WM - old\n",
      "Automatic Scheduled Task from Calypso : REPORT/Equity – Posição Custo Aluguel INT C\n",
      "Automatic Scheduled Task from Calypso : REPORT/Equity – Posição Custo Aluguel PROP+ASSET - old\n",
      "Automatic Scheduled Task from Calypso : REPORT/Equity – Posição Custo Aluguel Total\n",
      "Automatic Scheduled Task from Calypso : REPORT/Equity – Posição Custo Aluguel Lux\n",
      "Automatic Scheduled Task from Calypso : REPORT/Equity – Posição Custo Aluguel INT C\n",
      "Automatic Scheduled Task from Calypso : REPORT/Equity – Posição Custo Aluguel PROP+ASSET - old\n",
      "Automatic Scheduled Task from Calypso : REPORT/Equity – Posição Custo Aluguel Lux\n",
      "Automatic Scheduled Task from Calypso : REPORT/Equity – Posição Custo Aluguel INT C\n",
      "Automatic Scheduled Task from Calypso : REPORT/Equity – Posição Custo Aluguel Total\n",
      "Automatic Scheduled Task from Calypso : REPORT/Equity – Posição Custo Aluguel Clients BD+WM - old\n",
      "Automatic Scheduled Task from Calypso : REPORT/Equity – Posição Custo Aluguel INT C\n",
      "Automatic Scheduled Task from Calypso : REPORT/Equity – Posição Custo Aluguel PROP+ASSET - old\n",
      "Automatic Scheduled Task from Calypso : REPORT/Equity – Posição Custo Aluguel INT C\n",
      "Automatic Scheduled Task from Calypso : REPORT/Equity – Posição Custo Aluguel PROP+ASSET - old\n",
      "Automatic Scheduled Task from Calypso : REPORT/Equity – Posição Custo Aluguel Lux\n",
      "Automatic Scheduled Task from Calypso : REPORT/Equity – Posição Custo Aluguel Total\n",
      "Automatic Scheduled Task from Calypso : REPORT/Equity – Posição Custo Aluguel INT C\n",
      "Automatic Scheduled Task from Calypso : REPORT/Equity – Posição Custo Aluguel Clients BD+WM - old\n",
      "Automatic Scheduled Task from Calypso : REPORT/Equity – Posição Custo Aluguel PROP+ASSET - old\n",
      "Automatic Scheduled Task from Calypso : REPORT/Equity – Posição Custo Aluguel INT C\n",
      "Automatic Scheduled Task from Calypso : REPORT/Equity – Posição Custo Aluguel PROP+ASSET - old\n",
      "Automatic Scheduled Task from Calypso : REPORT/Equity – Posição Custo Aluguel Lux\n",
      "Automatic Scheduled Task from Calypso : REPORT/Equity – Posição Custo Aluguel Total\n",
      "Automatic Scheduled Task from Calypso : REPORT/Equity – Posição Custo Aluguel INT C\n",
      "Automatic Scheduled Task from Calypso : REPORT/Equity – Posição Custo Aluguel Clients BD+WM - old\n",
      "Automatic Scheduled Task from Calypso : REPORT/Equity – Posição Custo Aluguel PROP+ASSET - old\n",
      "Automatic Scheduled Task from Calypso : REPORT/Equity – Posição Custo Aluguel INT C\n",
      "Automatic Scheduled Task from Calypso : REPORT/Equity – Posição Custo Aluguel Total\n",
      "Automatic Scheduled Task from Calypso : REPORT/Equity – Posição Custo Aluguel Lux\n",
      "Automatic Scheduled Task from Calypso : REPORT/Equity – Posição Custo Aluguel PROP+ASSET - old\n",
      "Automatic Scheduled Task from Calypso : REPORT/Equity – Posição Custo Aluguel Clients BD+WM - old\n",
      "Automatic Scheduled Task from Calypso : REPORT/Equity – Posição Custo Aluguel INT C\n",
      "Automatic Scheduled Task from Calypso : REPORT/Equity – Posição Custo Aluguel PROP+ASSET - old\n",
      "FW: UBS Prime Brokerage Report - Billing US Regular - Multiclient BTG Pactual\n"
     ]
    }
   ],
   "source": [
    "for subfolder in folder_search:\n",
    "    subfolder_path = root_folder.Folders['Caixa de Entrada'].Folders[subfolder]\n",
    "    message = subfolder_path.Items\n",
    "    \n",
    "    for msg in message:\n",
    "        \n",
    "        if 'Calypso : REPORT/Equity – Posição Custo Aluguel' in msg.Subject:\n",
    "            count_attachments = msg.Attachments.Count\n",
    "            print(msg.Subject)\n",
    "            if count_attachments > 0:\n",
    "                for item in range(count_attachments):\n",
    "                    file_name = msg.Attachments.Item(item + 1).Filename\n",
    "                \n",
    "            \n",
    "                    attach = msg.Attachments.Item(item+1)\n",
    "                    attach.SaveAsFile(path+'\\\\'+file_name+'.csv')\n",
    "        \n",
    "        elif 'Multiclient BTG Pactual' in msg.Subject:\n",
    "            print(msg.Subject)\n",
    "            count_attachments = msg.Attachments.Count\n",
    "            if count_attachments > 0:\n",
    "                for item in range(count_attachments):\n",
    "                    file_name = msg.Attachments.Item(item + 1).Filename\n",
    "\n",
    "\n",
    "                    attach = msg.Attachments.Item(item+1)\n",
    "                    attach.SaveAsFile(path+'\\\\'+file_name+'.zip')"
   ]
  },
  {
   "cell_type": "code",
   "execution_count": null,
   "metadata": {
    "collapsed": true
   },
   "outputs": [],
   "source": []
  },
  {
   "cell_type": "code",
   "execution_count": 32,
   "metadata": {
    "collapsed": false
   },
   "outputs": [],
   "source": [
    "sender_list = []\n",
    "recipients_list = []\n",
    "\n",
    "for subfolder in folder_search:\n",
    "    subfolder_path = root_folder.Folders['Caixa de Entrada'].Folders[subfolder]\n",
    "    message = subfolder_path.Items\n",
    "    \n",
    "    for msg in message:\n",
    "        sender = msg.SenderName\n",
    "        recipients = msg.Recipients\n",
    "    \n",
    "    \n",
    "        sender_list.append(str(sender))\n",
    "        for r in recipients:\n",
    "            recipients_list.append(r.Address)"
   ]
  },
  {
   "cell_type": "code",
   "execution_count": 38,
   "metadata": {
    "collapsed": false
   },
   "outputs": [],
   "source": [
    "recipient_xlsx = pd.DataFrame(recipients_list).drop_duplicates()\n",
    "sender_xlsx = pd.DataFrame(sender_list).drop_duplicates()"
   ]
  },
  {
   "cell_type": "code",
   "execution_count": null,
   "metadata": {
    "collapsed": true
   },
   "outputs": [],
   "source": [
    "recipient_xlsx.to_excel('recipient_xlsx.xlsx')\n",
    "sender_xlsx.to_excel('sender_xlsx')"
   ]
  },
  {
   "cell_type": "code",
   "execution_count": null,
   "metadata": {
    "collapsed": true
   },
   "outputs": [],
   "source": []
  },
  {
   "cell_type": "code",
   "execution_count": null,
   "metadata": {
    "collapsed": true
   },
   "outputs": [],
   "source": []
  }
 ],
 "metadata": {
  "kernelspec": {
   "display_name": "Python 3",
   "language": "python",
   "name": "python3"
  },
  "language_info": {
   "codemirror_mode": {
    "name": "ipython",
    "version": 3
   },
   "file_extension": ".py",
   "mimetype": "text/x-python",
   "name": "python",
   "nbconvert_exporter": "python",
   "pygments_lexer": "ipython3",
   "version": "3.6.0"
  }
 },
 "nbformat": 4,
 "nbformat_minor": 2
}
