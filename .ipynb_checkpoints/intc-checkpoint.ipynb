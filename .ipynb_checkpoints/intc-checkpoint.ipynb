{
 "cells": [
  {
   "cell_type": "code",
   "execution_count": null,
   "metadata": {
    "collapsed": true
   },
   "outputs": [],
   "source": [
    "%load_ext autoreload\n",
    "%autoreload 2\n",
    "\n",
    "import os\n",
    "import sys\n",
    "sys.path.append('%s/../' % os.getcwd())\n",
    "\n",
    "import datetime\n",
    "import pandas as pd\n",
    "import numpy as np\n",
    "import getpass"
   ]
  },
  {
   "cell_type": "code",
   "execution_count": null,
   "metadata": {
    "collapsed": true
   },
   "outputs": [],
   "source": [
    "pasta = r'C:\\Users\\correigu\\OneDrive - Banco BTG Pactual S.A\\Desktop\\aqruivos_offshore'"
   ]
  },
  {
   "cell_type": "code",
   "execution_count": null,
   "metadata": {
    "collapsed": true
   },
   "outputs": [],
   "source": []
  },
  {
   "cell_type": "code",
   "execution_count": null,
   "metadata": {
    "collapsed": true
   },
   "outputs": [],
   "source": [
    "%%time\n",
    "\n",
    "for file in os.listdir(pasta):\n",
    "    #if 'Loan Fee Summary ' in file:\n",
    "    #    data = file[-12:-4]\n",
    "    #    try:\n",
    "    #        ubs_2\n",
    "    #    except:\n",
    "    #        ubs_2 = pd.read_csv(pasta+'\\\\'+file)\n",
    "    #        ubs_2['date'] = data\n",
    "    #    else:\n",
    "    #        ubs_3 = pd.read_csv(pasta+'\\\\'+file)\n",
    "    #        ubs_3['date'] = data\n",
    "    #        ubs_2 = pd.concat([ubs_2,ubs_3], axis=0)\n",
    "    \n",
    "    if 'Ajuste' in file:\n",
    "        data = file[-14:-4]\n",
    "        try:\n",
    "            ubs\n",
    "        except:\n",
    "            ubs = pd.read_csv(pasta+'\\\\'+file)\n",
    "            ubs['date']=data\n",
    "        else:\n",
    "            ubs_1 = pd.read_csv(pasta+'\\\\'+file)\n",
    "            ubs_1['date']=data\n",
    "            ubs = pd.concat([ubs,ubs_1], axis=0)\n",
    "    \n",
    "    \n",
    "    \n",
    "    elif 'PROP+ASSET' in file:\n",
    "        try:\n",
    "            pras\n",
    "        except:\n",
    "            pras = pd.read_excel(pasta+'\\\\'+file)\n",
    "            pras['date'] = pras.columns[7]\n",
    "            pras = pras.rename(columns={pras.columns[7]:'shares'})\n",
    "        else:\n",
    "            pras_1 = pd.read_excel(pasta+'\\\\'+file)\n",
    "            pras_1['date'] = pras_1.columns[7]\n",
    "            pras_1 = pras_1.rename(columns={pras_1.columns[7]:'shares'})\n",
    "            pras = pd.concat([pras,pras_1], axis=0)\n",
    "            \n",
    "            \n",
    "    \n",
    "    elif 'Aluguel INT C' in file:\n",
    "        try:\n",
    "            intc\n",
    "        except:\n",
    "            intc = pd.read_excel(pasta+'\\\\'+file)\n",
    "            intc['date'] = intc.columns[7]\n",
    "            intc = intc.rename(columns={intc.columns[7]:'shares'})\n",
    "        else:\n",
    "            intc_1 = pd.read_excel(pasta+'\\\\'+file)\n",
    "            intc_1['date'] = intc_1.columns[7]\n",
    "            intc_1 = intc_1.rename(columns={intc_1.columns[7]:'shares'})\n",
    "            intc = pd.concat([intc,intc_1], axis=0)\n",
    "    \n",
    "    elif 'Clients BD+WM' in file:\n",
    "        try:\n",
    "            bdwm\n",
    "        except:\n",
    "            bdwm = pd.read_excel(pasta+'\\\\'+file)\n",
    "            bdwm['date'] = bdwm.columns[31]\n",
    "            bdwm = bdwm.rename(columns={bdwm.columns[31]:'shares'})\n",
    "        else:\n",
    "            bdwm_1 = pd.read_excel(pasta+'\\\\'+file)\n",
    "            bdwm_1['date'] = bdwm_1.columns[31]\n",
    "            bdwm_1 = bdwm_1.rename(columns={bdwm_1.columns[31]:'shares'})\n",
    "            bdwm = pd.concat([bdwm,bdwm_1], axis=0)\n",
    "            #print (str(bdwm_1.shape)+' ------ '+str(bdwm.shape))\n",
    "    \n",
    "    elif ('038CDBD08_IN150DX' in file)|('038CDB895_IN150DX' in file):\n",
    "        try:\n",
    "            morgan\n",
    "        except:\n",
    "            morgan = pd.read_csv(pasta+'\\\\'+file, skipfooter=1, engine='python')\n",
    "        else:\n",
    "            morgan_1 = pd.read_csv(pasta+'\\\\'+file, skipfooter=1, engine='python')\n",
    "            morgan = pd.concat([morgan, morgan_1], axis = 0)\n",
    "        \n",
    "    else:\n",
    "        print (file)\n",
    "\n",
    "\n",
    "ticker_diffs = pd.read_excel(pasta+'\\\\'+ 'tickers_diffs.xlsx')"
   ]
  },
  {
   "cell_type": "code",
   "execution_count": null,
   "metadata": {
    "collapsed": true
   },
   "outputs": [],
   "source": [
    "months_dict = {\n",
    "    1:'jan',\n",
    "    2:'fev',\n",
    "    3:'mar',\n",
    "    4:'abr',\n",
    "    5:'mai',\n",
    "    6:'jun',\n",
    "    7:'jul',\n",
    "    8:'ago',\n",
    "    9:'set',\n",
    "    10:'out',\n",
    "    11:'nov',\n",
    "    12:'dez'\n",
    "}\n",
    "\n",
    "def ajuste_ubs(ubs):\n",
    "    \n",
    "    ubs['date'] = pd.to_datetime(ubs['date'], format='%Y-%m-%d')\n",
    "    ubs['date'] = np.where(ubs['date'].dt.weekday==6, ubs['date']-datetime.timedelta(2), ubs['date'])\n",
    "    ubs = ubs[ubs['date'].dt.weekday<5]\n",
    "    ubs['Daily Accrual'] = (ubs['Daily Accrual'].str.replace('\\(', '-')).str.replace('\\)', '').astype(float).copy()\n",
    "    #ubs['Daily Accrual'] = ubs['Daily Accrual'].copy()/ubs['FX Rate'].copy()\n",
    "    \n",
    "    \n",
    "    ubs['pb'] = 'ubs'\n",
    "    ubs['month_number'] = ubs['date'].dt.month\n",
    "    ubs['month']=ubs['month_number'].apply(lambda x: months_dict[x]).copy()\n",
    "    ubs['year'] = ubs['date'].dt.year\n",
    "    \n",
    "    ubs['cusip'] = np.nan\n",
    "    ubs = ubs[['Reference Account Id' ,'pb', 'date', 'Ticker', 'ISIN', 'cusip', 'Quantity',\n",
    "               'Daily Accrual', 'Billing CCY', 'month', 'year']].reset_index(drop=True)\n",
    "    ubs.columns = ['conta', 'pb', 'data_ref', 'ticker', 'isin', 'cusip', 'qt', 'accrual', 'currency', 'month', 'year']\n",
    "        \n",
    "    return ubs\n",
    "\n",
    "def ajuste_calypso(pras, bdwm, intc):\n",
    "    pras['tipo'] = 'ASSET'\n",
    "    bdwm['tipo'] = 'WM'\n",
    "    intc['tipo'] = 'INT C'\n",
    "\n",
    "    calypso = pd.concat([pras, bdwm, intc], axis=0).reset_index(drop=True)\n",
    "    \n",
    "    calypso['date'] = pd.to_datetime(calypso['date'])\n",
    "    calypso['month_number'] = calypso['date'].dt.month\n",
    "    calypso['month']=calypso['month_number'].apply(lambda x: months_dict[x])\n",
    "    calypso['year'] = calypso['date'].dt.year\n",
    "\n",
    "    calypso = calypso[['Account Name','tipo', 'Agent','date', 'shares', 'Book', 'PRODUCT_CODE.TICKER', 'PRODUCT_CODE.ISIN', \n",
    "                       'PRODUCT_CODE.CUSIP', 'Product Currency', 'month', 'year']]\n",
    "    calypso.columns = ['conta_pb','conta', 'agent', 'data_ref', 'quantidade', 'book', 'ticker', 'isin', 'cusip', 'currency', 'month', 'year']\n",
    "    return calypso\n",
    "\n",
    "\n",
    "def ajuste_morgan(morgan):\n",
    "    morgan['date'] = pd.to_datetime(morgan['Value Date'], errors='coerce', format = '%m/%d/%Y')\n",
    "\n",
    "    morgan['pb'] = 'ms'\n",
    "    morgan['month_number'] = morgan['date'].dt.month\n",
    "    morgan['month']=morgan['month_number'].apply(lambda x: months_dict[x])\n",
    "    morgan['year'] = morgan['date'].dt.year\n",
    "\n",
    "    morgan = morgan[['Account', 'pb', 'date', 'Symbol', 'ISIN', 'Cusip', 'Shares', 'Net Borrow Cost', 'Currency', 'month', 'year']] \n",
    "\n",
    "    morgan.columns = ['conta', 'pb', 'data_ref', 'ticker', 'isin', 'cusip', 'qt', 'accrual', 'currency', 'month', 'year']\n",
    "    \n",
    "    morgan['data_ref'] = np.where(morgan['data_ref'].dt.weekday==6, morgan['data_ref']-datetime.timedelta(2), morgan['data_ref'])\n",
    "    \n",
    "    return morgan\n",
    "\n",
    "def get_pb(morgan, ubs):\n",
    "    ubs = ajuste_ubs(ubs)\n",
    "    morgan = ajuste_morgan(morgan)\n",
    "    \n",
    "    pb = pd.concat([morgan, ubs], axis=0).reset_index(drop=True)\n",
    "    \n",
    "    pb.qt = (pb.qt.replace( '[)]','', regex=True )\n",
    "               .replace( '[(]','-',   regex=True ).astype(float))\n",
    "    \n",
    "    \n",
    "    return pb"
   ]
  },
  {
   "cell_type": "code",
   "execution_count": null,
   "metadata": {
    "collapsed": true
   },
   "outputs": [],
   "source": []
  },
  {
   "cell_type": "code",
   "execution_count": null,
   "metadata": {
    "collapsed": true
   },
   "outputs": [],
   "source": []
  },
  {
   "cell_type": "code",
   "execution_count": null,
   "metadata": {
    "collapsed": true
   },
   "outputs": [],
   "source": []
  },
  {
   "cell_type": "code",
   "execution_count": null,
   "metadata": {
    "collapsed": true
   },
   "outputs": [],
   "source": []
  },
  {
   "cell_type": "code",
   "execution_count": null,
   "metadata": {
    "collapsed": true
   },
   "outputs": [],
   "source": []
  },
  {
   "cell_type": "code",
   "execution_count": null,
   "metadata": {
    "collapsed": true
   },
   "outputs": [],
   "source": []
  },
  {
   "cell_type": "code",
   "execution_count": null,
   "metadata": {
    "collapsed": true
   },
   "outputs": [],
   "source": []
  },
  {
   "cell_type": "code",
   "execution_count": null,
   "metadata": {
    "collapsed": true
   },
   "outputs": [],
   "source": []
  },
  {
   "cell_type": "code",
   "execution_count": null,
   "metadata": {
    "collapsed": true
   },
   "outputs": [],
   "source": []
  },
  {
   "cell_type": "code",
   "execution_count": null,
   "metadata": {
    "collapsed": true
   },
   "outputs": [],
   "source": []
  },
  {
   "cell_type": "code",
   "execution_count": null,
   "metadata": {
    "collapsed": true
   },
   "outputs": [],
   "source": []
  },
  {
   "cell_type": "code",
   "execution_count": null,
   "metadata": {
    "collapsed": true
   },
   "outputs": [],
   "source": []
  }
 ],
 "metadata": {
  "kernelspec": {
   "display_name": "Python 3",
   "language": "python",
   "name": "python3"
  },
  "language_info": {
   "codemirror_mode": {
    "name": "ipython",
    "version": 3
   },
   "file_extension": ".py",
   "mimetype": "text/x-python",
   "name": "python",
   "nbconvert_exporter": "python",
   "pygments_lexer": "ipython3",
   "version": "3.6.0"
  }
 },
 "nbformat": 4,
 "nbformat_minor": 2
}
