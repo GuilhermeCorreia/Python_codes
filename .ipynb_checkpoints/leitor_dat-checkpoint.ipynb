{
 "cells": [
  {
   "cell_type": "code",
   "execution_count": 1,
   "metadata": {
    "collapsed": true
   },
   "outputs": [],
   "source": [
    "%load_ext autoreload\n",
    "%autoreload 2\n",
    "\n",
    "import os\n",
    "import sys\n",
    "sys.path.append('%s/../' % os.getcwd())\n",
    "\n",
    "import datetime\n",
    "import pandas as pd\n",
    "import numpy as np\n",
    "import getpass"
   ]
  },
  {
   "cell_type": "code",
   "execution_count": 3,
   "metadata": {
    "collapsed": false
   },
   "outputs": [],
   "source": [
    "file = r'C:\\Users\\correigu\\Downloads\\CMVD20180611220844.DAT'"
   ]
  },
  {
   "cell_type": "code",
   "execution_count": 21,
   "metadata": {
    "collapsed": false,
    "scrolled": true
   },
   "outputs": [
    {
     "name": "stderr",
     "output_type": "stream",
     "text": [
      "b'Skipping line 3: expected 7 fields, saw 13\\nSkipping line 5: expected 7 fields, saw 14\\nSkipping line 6: expected 7 fields, saw 13\\nSkipping line 8: expected 7 fields, saw 15\\nSkipping line 9: expected 7 fields, saw 15\\n'\n"
     ]
    }
   ],
   "source": [
    "df = pd.read_csv(file, sep='\\s+',error_bad_lines=False)"
   ]
  },
  {
   "cell_type": "code",
   "execution_count": 22,
   "metadata": {
    "collapsed": false
   },
   "outputs": [
    {
     "data": {
      "text/html": [
       "<div>\n",
       "<table border=\"1\" class=\"dataframe\">\n",
       "  <thead>\n",
       "    <tr style=\"text-align: right;\">\n",
       "      <th></th>\n",
       "      <th></th>\n",
       "      <th></th>\n",
       "      <th></th>\n",
       "      <th></th>\n",
       "      <th>00CMVD0085CBLC</th>\n",
       "      <th>00850000026482018061120180611</th>\n",
       "    </tr>\n",
       "  </thead>\n",
       "  <tbody>\n",
       "    <tr>\n",
       "      <th>010008500147214699000000006693120030128001TITULAR</th>\n",
       "      <th>ASCENSION</th>\n",
       "      <th>HEALTH</th>\n",
       "      <th>MASTER</th>\n",
       "      <th>PENSION</th>\n",
       "      <td>TRUST</td>\n",
       "      <td>0268200162711000000000000000</td>\n",
       "    </tr>\n",
       "    <tr>\n",
       "      <th>010008500216680799000000010293820060327001TITULAR</th>\n",
       "      <th>C</th>\n",
       "      <th>WORLDWIDE</th>\n",
       "      <th>2291800004311000000000000000</th>\n",
       "      <th>NaN</th>\n",
       "      <td>NaN</td>\n",
       "      <td>NaN</td>\n",
       "    </tr>\n",
       "    <tr>\n",
       "      <th>010008509999300604381515800012219890213001TITULAR</th>\n",
       "      <th>BTG</th>\n",
       "      <th>PACTUAL</th>\n",
       "      <th>CTVM</th>\n",
       "      <th>S/A</th>\n",
       "      <td>000000000000000</td>\n",
       "      <td>NaN</td>\n",
       "    </tr>\n",
       "    <tr>\n",
       "      <th>99CMVD0085CBLC</th>\n",
       "      <th>00850000026482018061100000001020180611</th>\n",
       "      <th>NaN</th>\n",
       "      <th>NaN</th>\n",
       "      <th>NaN</th>\n",
       "      <td>NaN</td>\n",
       "      <td>NaN</td>\n",
       "    </tr>\n",
       "  </tbody>\n",
       "</table>\n",
       "</div>"
      ],
      "text/plain": [
       "                                                                                                                                          00CMVD0085CBLC  \\\n",
       "010008500147214699000000006693120030128001TITULAR ASCENSION                              HEALTH    MASTER                       PENSION            TRUST   \n",
       "010008500216680799000000010293820060327001TITULAR C                                      WORLDWIDE 2291800004311000000000000000 NaN                  NaN   \n",
       "010008509999300604381515800012219890213001TITULAR BTG                                    PACTUAL   CTVM                         S/A      000000000000000   \n",
       "99CMVD0085CBLC                                    00850000026482018061100000001020180611 NaN       NaN                          NaN                  NaN   \n",
       "\n",
       "                                                                                                                                        00850000026482018061120180611  \n",
       "010008500147214699000000006693120030128001TITULAR ASCENSION                              HEALTH    MASTER                       PENSION  0268200162711000000000000000  \n",
       "010008500216680799000000010293820060327001TITULAR C                                      WORLDWIDE 2291800004311000000000000000 NaN                               NaN  \n",
       "010008509999300604381515800012219890213001TITULAR BTG                                    PACTUAL   CTVM                         S/A                               NaN  \n",
       "99CMVD0085CBLC                                    00850000026482018061100000001020180611 NaN       NaN                          NaN                               NaN  "
      ]
     },
     "execution_count": 22,
     "metadata": {},
     "output_type": "execute_result"
    }
   ],
   "source": [
    "df"
   ]
  },
  {
   "cell_type": "code",
   "execution_count": null,
   "metadata": {
    "collapsed": true
   },
   "outputs": [],
   "source": []
  },
  {
   "cell_type": "code",
   "execution_count": null,
   "metadata": {
    "collapsed": true
   },
   "outputs": [],
   "source": []
  },
  {
   "cell_type": "code",
   "execution_count": null,
   "metadata": {
    "collapsed": true
   },
   "outputs": [],
   "source": []
  },
  {
   "cell_type": "code",
   "execution_count": null,
   "metadata": {
    "collapsed": true
   },
   "outputs": [],
   "source": []
  },
  {
   "cell_type": "code",
   "execution_count": null,
   "metadata": {
    "collapsed": true
   },
   "outputs": [],
   "source": []
  }
 ],
 "metadata": {
  "kernelspec": {
   "display_name": "Python 3",
   "language": "python",
   "name": "python3"
  }
 },
 "nbformat": 4,
 "nbformat_minor": 2
}
