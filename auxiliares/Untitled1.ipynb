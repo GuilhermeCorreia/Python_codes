{
 "cells": [
  {
   "cell_type": "code",
   "execution_count": 1,
   "metadata": {
    "collapsed": true
   },
   "outputs": [],
   "source": [
    "%load_ext autoreload\n",
    "%autoreload 2\n",
    "\n",
    "import os\n",
    "import sys\n",
    "sys.path.append('%s/../' % os.getcwd())\n",
    "\n",
    "import datetime\n",
    "import pandas as pd\n",
    "import numpy as np\n",
    "import getpass\n",
    "import win32com.client"
   ]
  },
  {
   "cell_type": "code",
   "execution_count": 16,
   "metadata": {
    "collapsed": true
   },
   "outputs": [],
   "source": [
    "import smtplib\n",
    "\n",
    "from email.mime.text import MIMEText\n",
    "from email.mime.multipart import MIMEMultipart\n",
    "from email.mime.base import MIMEBase\n",
    "from email import encoders"
   ]
  },
  {
   "cell_type": "code",
   "execution_count": 2,
   "metadata": {
    "collapsed": true
   },
   "outputs": [],
   "source": [
    "path = r'C:\\Users\\correigu\\OneDrive - Banco BTG Pactual S.A\\Desktop\\chile\\jun'"
   ]
  },
  {
   "cell_type": "code",
   "execution_count": 3,
   "metadata": {
    "collapsed": true
   },
   "outputs": [],
   "source": [
    "outlook = win32com.client.Dispatch('outlook.application').GetNamespace(\"MAPI\")"
   ]
  },
  {
   "cell_type": "code",
   "execution_count": null,
   "metadata": {
    "collapsed": true
   },
   "outputs": [],
   "source": []
  },
  {
   "cell_type": "code",
   "execution_count": 5,
   "metadata": {
    "collapsed": false
   },
   "outputs": [
    {
     "name": "stdout",
     "output_type": "stream",
     "text": [
      "BANCO BTG PACTUAL S A  (ASSET) - BTG Pactual    Feb 27th.msg\n"
     ]
    }
   ],
   "source": [
    "j=1\n",
    "for msg in os.listdir(path):\n",
    "    try:\n",
    "        msg = outlook.OpenSharedItem(path+'\\\\'+msg)\n",
    "        count_attachments = msg.Attachments.Count\n",
    "        if count_attachments > 0:\n",
    "            for item in range(count_attachments):\n",
    "                file_name = msg.Attachments.Item(item + 1).Filename\n",
    "                if 'Accrued Stock' in file_name:\n",
    "                    attach = msg.Attachments.Item(item+1)\n",
    "                    attach.SaveAsFile(path+'\\\\'+str(j)+' - '+file_name)\n",
    "                    j+=1\n",
    "    except:\n",
    "        print(msg)"
   ]
  },
  {
   "cell_type": "code",
   "execution_count": 11,
   "metadata": {
    "collapsed": true
   },
   "outputs": [],
   "source": [
    "list_files = []"
   ]
  },
  {
   "cell_type": "code",
   "execution_count": 12,
   "metadata": {
    "collapsed": false
   },
   "outputs": [],
   "source": [
    "for file in os.listdir(path):\n",
    "    if '.xlsx' in file:\n",
    "        list_files.append(path+'\\\\'+file)"
   ]
  },
  {
   "cell_type": "code",
   "execution_count": 17,
   "metadata": {
    "collapsed": true
   },
   "outputs": [],
   "source": [
    "def email_sender(email_from, email_to, email_subject, email_body, attachment_pathlist=[]):\n",
    "    msg = MIMEMultipart()\n",
    "    msg['FROM'] = email_from\n",
    "    msg['To'] = email_to\n",
    "    msg['Subject'] = email_subject\n",
    "\n",
    "    body = email_body\n",
    "    msg.attach(MIMEText(body, 'plain'))\n",
    "\n",
    "    if len(attachment_pathlist)>0:\n",
    "        for file in attachment_pathlist:\n",
    "            name = os.path.basename(file)\n",
    "            part = MIMEBase('application', 'octet-stream')\n",
    "\n",
    "            with open(file, 'rb') as file:\n",
    "                part.set_payload(file.read())\n",
    "            encoders.encode_base64(part)\n",
    "            part.add_header('Content-Disposition', \"attachment; filename= %s\" % name)\n",
    "\n",
    "            msg.attach(part)\n",
    "\n",
    "    text = msg.as_string()\n",
    "    \n",
    "    server = smtplib.SMTP('srvmail-sp.pactual.net')\n",
    "    server.sendmail(email_from, email_to.split(';') , text)\n",
    "    server.quit()"
   ]
  },
  {
   "cell_type": "code",
   "execution_count": 18,
   "metadata": {
    "collapsed": false
   },
   "outputs": [],
   "source": [
    "email_sender('guilherme.correia@btgpactual.com', 'guilherme.correia@btgpactual.com', 'CARTOLAS CHILE', 'CARTOLAS', list_files)"
   ]
  },
  {
   "cell_type": "code",
   "execution_count": null,
   "metadata": {
    "collapsed": true
   },
   "outputs": [],
   "source": []
  },
  {
   "cell_type": "code",
   "execution_count": null,
   "metadata": {
    "collapsed": true
   },
   "outputs": [],
   "source": []
  },
  {
   "cell_type": "code",
   "execution_count": null,
   "metadata": {
    "collapsed": true
   },
   "outputs": [],
   "source": []
  },
  {
   "cell_type": "code",
   "execution_count": null,
   "metadata": {
    "collapsed": true
   },
   "outputs": [],
   "source": []
  }
 ],
 "metadata": {
  "kernelspec": {
   "display_name": "Python 3",
   "language": "python",
   "name": "python3"
  },
  "language_info": {
   "codemirror_mode": {
    "name": "ipython",
    "version": 3
   },
   "file_extension": ".py",
   "mimetype": "text/x-python",
   "name": "python",
   "nbconvert_exporter": "python",
   "pygments_lexer": "ipython3",
   "version": "3.6.0"
  }
 },
 "nbformat": 4,
 "nbformat_minor": 2
}
