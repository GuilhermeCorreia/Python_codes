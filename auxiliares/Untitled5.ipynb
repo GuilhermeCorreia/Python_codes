{
 "cells": [
  {
   "cell_type": "code",
   "execution_count": 1,
   "metadata": {
    "collapsed": true
   },
   "outputs": [],
   "source": [
    "%load_ext autoreload\n",
    "%autoreload 2\n",
    "\n",
    "import os\n",
    "import sys\n",
    "sys.path.append('%s/../' % os.getcwd())\n",
    "\n",
    "import datetime\n",
    "import pandas as pd\n",
    "import numpy as np\n",
    "import getpass"
   ]
  },
  {
   "cell_type": "code",
   "execution_count": 5,
   "metadata": {
    "collapsed": true
   },
   "outputs": [],
   "source": [
    "file = r'C:\\Users\\correigu\\OneDrive - Banco BTG Pactual S.A\\Documents\\client-subacc.xlsm'"
   ]
  },
  {
   "cell_type": "code",
   "execution_count": 6,
   "metadata": {
    "collapsed": false
   },
   "outputs": [],
   "source": [
    "xls = pd.ExcelFile(file)"
   ]
  },
  {
   "cell_type": "code",
   "execution_count": 7,
   "metadata": {
    "collapsed": true
   },
   "outputs": [],
   "source": [
    "df1 = pd.read_excel(xls, 'Sheet1')\n",
    "df2 = pd.read_excel(xls, 'Sheet2')"
   ]
  },
  {
   "cell_type": "code",
   "execution_count": 13,
   "metadata": {
    "collapsed": false
   },
   "outputs": [],
   "source": [
    "df1.columns = ['data','cod_cliente', 'group','subacc','apelido_masterBD','side','ticker','qt','price','comm','mkt_fee',\n",
    "               'cblc_fee','total_charges','repasse']"
   ]
  },
  {
   "cell_type": "code",
   "execution_count": 15,
   "metadata": {
    "collapsed": false
   },
   "outputs": [
    {
     "data": {
      "text/plain": [
       "Index(['Exchange ID', 'Trade Date', 'Value date', 'Broker of Interest code',\n",
       "       'Counterparty account code', 'Client/Book', 'Fund ID', 'Sedol',\n",
       "       'Symbol', 'Unnamed: 9', 'Volume', 'AvgPrc', 'Gross consideration',\n",
       "       'Comm rate', 'Isin code', 'Other charges', 'Settlement consideration',\n",
       "       'Settlement currency ID', 'Comm rate.1', 'Comm type', 'Payment method',\n",
       "       'Dealt to settlement exchange rate', 'Status', 'Market charges total',\n",
       "       'Total commission', 'Other charges.1', 'Total charges',\n",
       "       'Dealt currency', 'Quantity', 'Service'],\n",
       "      dtype='object')"
      ]
     },
     "execution_count": 15,
     "metadata": {},
     "output_type": "execute_result"
    }
   ],
   "source": [
    "df2.columns"
   ]
  },
  {
   "cell_type": "code",
   "execution_count": 17,
   "metadata": {
    "collapsed": false
   },
   "outputs": [],
   "source": [
    "df2.columns = ['exchange','data','sd','lbg_acc','subacc','group','subacc_code','sedol','ticker','side','qt','price',\n",
    "               'gross_amount','comm','isin','mkt_fee','settlement_amount','settlement_ccy','comm_rate','comm_type',\n",
    "              'payment_method','dealt_to_settlement_ccy','status','total_mkt_charges','total_comission','mkt_fee_1',\n",
    "               'total_charges','dealt_ccy','qt_block','service']"
   ]
  },
  {
   "cell_type": "code",
   "execution_count": null,
   "metadata": {
    "collapsed": true
   },
   "outputs": [],
   "source": []
  },
  {
   "cell_type": "code",
   "execution_count": null,
   "metadata": {
    "collapsed": true
   },
   "outputs": [],
   "source": []
  },
  {
   "cell_type": "code",
   "execution_count": null,
   "metadata": {
    "collapsed": true
   },
   "outputs": [],
   "source": []
  },
  {
   "cell_type": "code",
   "execution_count": null,
   "metadata": {
    "collapsed": true
   },
   "outputs": [],
   "source": []
  },
  {
   "cell_type": "code",
   "execution_count": null,
   "metadata": {
    "collapsed": true
   },
   "outputs": [],
   "source": []
  }
 ],
 "metadata": {
  "kernelspec": {
   "display_name": "Python 3",
   "language": "python",
   "name": "python3"
  },
  "language_info": {
   "codemirror_mode": {
    "name": "ipython",
    "version": 3
   },
   "file_extension": ".py",
   "mimetype": "text/x-python",
   "name": "python",
   "nbconvert_exporter": "python",
   "pygments_lexer": "ipython3",
   "version": "3.6.0"
  }
 },
 "nbformat": 4,
 "nbformat_minor": 2
}
