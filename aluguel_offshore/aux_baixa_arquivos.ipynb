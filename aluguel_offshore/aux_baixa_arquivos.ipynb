{
 "cells": [
  {
   "cell_type": "code",
   "execution_count": 1,
   "metadata": {
    "collapsed": false
   },
   "outputs": [],
   "source": [
    "%load_ext autoreload\n",
    "%autoreload 2\n",
    "\n",
    "import os\n",
    "import sys\n",
    "sys.path.append('%s/../' % os.getcwd())\n",
    "\n",
    "import datetime\n",
    "import pandas as pd\n",
    "import numpy as np\n",
    "import getpass"
   ]
  },
  {
   "cell_type": "code",
   "execution_count": 2,
   "metadata": {
    "collapsed": true
   },
   "outputs": [],
   "source": [
    "import csv\n",
    "from xlsxwriter.workbook import Workbook\n",
    "import win32com.client\n",
    "import PyPDF2\n",
    "from shutil import copyfile\n",
    "import zipfile\n",
    "import shutil"
   ]
  },
  {
   "cell_type": "code",
   "execution_count": null,
   "metadata": {
    "collapsed": true
   },
   "outputs": [],
   "source": []
  },
  {
   "cell_type": "code",
   "execution_count": 3,
   "metadata": {
    "collapsed": true
   },
   "outputs": [],
   "source": [
    "pasta_calypso = r'\\\\drioc439pfs\\PROD_FILES\\DASH\\OPERATIONS\\Broker Dealer Offshore\\Position (NY)\\Equity\\Calypso'\n",
    "pasta_final = r'C:\\Users\\correigu\\OneDrive - Banco BTG Pactual S.A\\Desktop\\aqruivos_offshore\\Ajustes'\n",
    "pasta_downloads = r'C:\\Users\\correigu\\Downloads'"
   ]
  },
  {
   "cell_type": "code",
   "execution_count": 4,
   "metadata": {
    "collapsed": true
   },
   "outputs": [],
   "source": [
    "# Transforma de .csv para .xslx\n",
    "def csv_to_excel(csvfile):\n",
    "    workbook = Workbook(csvfile[:-4] + '.xlsx')\n",
    "    worksheet = workbook.add_worksheet()\n",
    "    with open(csvfile, 'rt', encoding='latin-1') as f:\n",
    "        reader = csv.reader(f)\n",
    "        for r, row in enumerate(reader):\n",
    "            for c, col in enumerate(row):\n",
    "                worksheet.write(r,c,col)\n",
    "    workbook.close()"
   ]
  },
  {
   "cell_type": "code",
   "execution_count": null,
   "metadata": {
    "collapsed": true
   },
   "outputs": [],
   "source": []
  },
  {
   "cell_type": "code",
   "execution_count": 5,
   "metadata": {
    "collapsed": false
   },
   "outputs": [],
   "source": [
    "today = datetime.datetime.today().strftime('%Y%m%d')"
   ]
  },
  {
   "cell_type": "markdown",
   "metadata": {},
   "source": [
    "## Calypso (pasta)"
   ]
  },
  {
   "cell_type": "code",
   "execution_count": 9,
   "metadata": {
    "collapsed": false,
    "scrolled": true
   },
   "outputs": [],
   "source": [
    "for file in os.listdir(pasta_calypso):\n",
    "    if (today in file)&('Equity' in file):\n",
    "        copyfile(pasta_calypso+'\\\\'+file, pasta_final+'\\\\'+file)"
   ]
  },
  {
   "cell_type": "code",
   "execution_count": 18,
   "metadata": {
    "collapsed": false
   },
   "outputs": [],
   "source": [
    "# Aplica a transformação para os files da pasta\n",
    "for file in os.listdir(pasta_final):\n",
    "    #print(file)\n",
    "    csv_to_excel(pasta_final+'\\\\'+file)"
   ]
  },
  {
   "cell_type": "code",
   "execution_count": 19,
   "metadata": {
    "collapsed": false
   },
   "outputs": [],
   "source": [
    "for file in os.listdir(pasta_final):\n",
    "    if '.csv' in file:\n",
    "        os.remove(pasta_final+'\\\\'+file)"
   ]
  },
  {
   "cell_type": "code",
   "execution_count": 20,
   "metadata": {
    "collapsed": false
   },
   "outputs": [],
   "source": [
    "# Ajusta o nome do file\n",
    "for file in os.listdir(pasta_final):\n",
    "    if 'BD+WM' in file:\n",
    "        base = 'CUserssvc_calypso_prod.DOMAINCalypsoEquity  Posição Custo Aluguel Clients BD+WM - '\n",
    "    elif 'INT C' in file:\n",
    "        base = 'CUserssvc_calypso_prod.DOMAINCalypsoEquity - Posição Custo Aluguel INT C - '\n",
    "    elif 'PROP+ASSET' in file:\n",
    "        base = 'CUserssvc_calypso_prod.DOMAINCalypsoEquity  Posição Custo Aluguel PROP+ASSET - '\n",
    "    else:\n",
    "        print (file)\n",
    "    \n",
    "    os.rename(pasta_final+'\\\\'+file, pasta_final+'\\\\'+base+file[-13:-5]+'.xlsx')"
   ]
  },
  {
   "cell_type": "code",
   "execution_count": 21,
   "metadata": {
    "collapsed": false,
    "scrolled": true
   },
   "outputs": [],
   "source": [
    "for file in os.listdir(pasta_final):\n",
    "    try: \n",
    "        if 'BD+WM' in file:\n",
    "            df = pd.read_excel(pasta_final+'\\\\'+file)\n",
    "            data = df.columns[31]\n",
    "        else:\n",
    "            df = pd.read_excel(pasta_final+'\\\\'+file)\n",
    "            data = df.columns[7]\n",
    "        data = pd.to_datetime(data)\n",
    "        ano = data.year\n",
    "        mes = \"{:02}\".format(data.month)\n",
    "        dia = \"{:02}\".format(data.day)\n",
    "\n",
    "        string = str(ano)+str(mes)+str(dia)\n",
    "        os.rename(pasta_final+'\\\\'+file, pasta_final+'\\\\'+file[:-13]+string+'.xlsx')\n",
    "    except FileExistsError:\n",
    "        print(file)    "
   ]
  },
  {
   "cell_type": "code",
   "execution_count": 22,
   "metadata": {
    "collapsed": false
   },
   "outputs": [
    {
     "ename": "FileExistsError",
     "evalue": "[WinError 183] Cannot create a file when that file already exists: 'C:\\\\Users\\\\correigu\\\\OneDrive - Banco BTG Pactual S.A\\\\Desktop\\\\aqruivos_offshore\\\\Ajustes\\\\CUserssvc_calypso_prod.DOMAINCalypsoEquity - Posição Custo Aluguel INT C - 20181031.xlsx' -> 'C:\\\\Users\\\\correigu\\\\OneDrive - Banco BTG Pactual S.A\\\\Desktop\\\\aqruivos_offshore\\\\CUserssvc_calypso_prod.DOMAINCalypsoEquity - Posição Custo Aluguel INT C - 20181031.xlsx'",
     "output_type": "error",
     "traceback": [
      "\u001b[0;31m---------------------------------------------------------------------------\u001b[0m",
      "\u001b[0;31mFileExistsError\u001b[0m                           Traceback (most recent call last)",
      "\u001b[0;32m<ipython-input-22-26844b818093>\u001b[0m in \u001b[0;36m<module>\u001b[0;34m()\u001b[0m\n\u001b[1;32m      1\u001b[0m \u001b[1;32mfor\u001b[0m \u001b[0mfile\u001b[0m \u001b[1;32min\u001b[0m \u001b[0mos\u001b[0m\u001b[1;33m.\u001b[0m\u001b[0mlistdir\u001b[0m\u001b[1;33m(\u001b[0m\u001b[0mpasta_final\u001b[0m\u001b[1;33m)\u001b[0m\u001b[1;33m:\u001b[0m\u001b[1;33m\u001b[0m\u001b[0m\n\u001b[0;32m----> 2\u001b[0;31m     \u001b[0mos\u001b[0m\u001b[1;33m.\u001b[0m\u001b[0mrename\u001b[0m\u001b[1;33m(\u001b[0m\u001b[0mpasta_final\u001b[0m\u001b[1;33m+\u001b[0m\u001b[1;34m'\\\\'\u001b[0m\u001b[1;33m+\u001b[0m\u001b[0mfile\u001b[0m\u001b[1;33m,\u001b[0m \u001b[0mpasta_final\u001b[0m\u001b[1;33m[\u001b[0m\u001b[1;33m:\u001b[0m\u001b[1;33m-\u001b[0m\u001b[1;36m8\u001b[0m\u001b[1;33m]\u001b[0m\u001b[1;33m+\u001b[0m\u001b[1;34m'\\\\'\u001b[0m\u001b[1;33m+\u001b[0m\u001b[0mfile\u001b[0m\u001b[1;33m)\u001b[0m\u001b[1;33m\u001b[0m\u001b[0m\n\u001b[0m",
      "\u001b[0;31mFileExistsError\u001b[0m: [WinError 183] Cannot create a file when that file already exists: 'C:\\\\Users\\\\correigu\\\\OneDrive - Banco BTG Pactual S.A\\\\Desktop\\\\aqruivos_offshore\\\\Ajustes\\\\CUserssvc_calypso_prod.DOMAINCalypsoEquity - Posição Custo Aluguel INT C - 20181031.xlsx' -> 'C:\\\\Users\\\\correigu\\\\OneDrive - Banco BTG Pactual S.A\\\\Desktop\\\\aqruivos_offshore\\\\CUserssvc_calypso_prod.DOMAINCalypsoEquity - Posição Custo Aluguel INT C - 20181031.xlsx'"
     ]
    }
   ],
   "source": [
    "for file in os.listdir(pasta_final):\n",
    "    os.rename(pasta_final+'\\\\'+file, pasta_final[:-8]+'\\\\'+file)"
   ]
  },
  {
   "cell_type": "code",
   "execution_count": null,
   "metadata": {
    "collapsed": true
   },
   "outputs": [],
   "source": []
  },
  {
   "cell_type": "markdown",
   "metadata": {},
   "source": [
    "## Morgan"
   ]
  },
  {
   "cell_type": "code",
   "execution_count": 8,
   "metadata": {
    "collapsed": false
   },
   "outputs": [],
   "source": [
    "for file in os.listdir(pasta_final):\n",
    "    morgan = pd.read_csv(pasta_final+'\\\\'+file, skipfooter=1, engine='python')\n",
    "    data = pd.to_datetime(morgan['Value Date'].drop_duplicates().reset_index(drop=True)[0])\n",
    "    ano = data.year\n",
    "    mes = \"{:02}\".format(data.month)\n",
    "    dia = \"{:02}\".format(data.day)\n",
    "    string = str(ano)+str(mes)+str(dia)\n",
    "    \n",
    "    \n",
    "    if '038CDB895' in file:\n",
    "        base = '038CDB895_IN150DX - '\n",
    "    elif '038CDBD08' in file:\n",
    "        base = '038CDBD08_IN150DX - '\n",
    "    \n",
    "    os.rename(pasta_final+'\\\\'+file, pasta_final+'\\\\'+base+string+'.csv')\n",
    "    os.rename(pasta_final+'\\\\'+base+string+'.csv', pasta_final[:-8]+'\\\\'+base+string+'.csv')"
   ]
  },
  {
   "cell_type": "markdown",
   "metadata": {},
   "source": [
    "## UBS (e-mail)"
   ]
  },
  {
   "cell_type": "code",
   "execution_count": 15,
   "metadata": {
    "collapsed": true
   },
   "outputs": [],
   "source": [
    "email_sender = 'guilherme.correia@btgpactual.com'"
   ]
  },
  {
   "cell_type": "code",
   "execution_count": 16,
   "metadata": {
    "collapsed": false
   },
   "outputs": [
    {
     "name": "stdout",
     "output_type": "stream",
     "text": [
      "Guilherme.Correia@btgpactual.com\n"
     ]
    }
   ],
   "source": [
    "outlook = win32com.client.Dispatch('outlook.application')\n",
    "namespace = outlook.GetNamespace(\"MAPI\")\n",
    "dict_index = {}\n",
    "i=1\n",
    "for folder in namespace.Folders:\n",
    "    dict_index.update({str(folder).lower():i})\n",
    "    i+=1\n",
    "root_folder = namespace.Folders.Item(dict_index[email_sender])\n",
    "print(root_folder)"
   ]
  },
  {
   "cell_type": "code",
   "execution_count": 17,
   "metadata": {
    "collapsed": false
   },
   "outputs": [],
   "source": [
    "subfolder = root_folder.Folders['Caixa de Entrada'].Folders['Aluguel offshore']"
   ]
  },
  {
   "cell_type": "code",
   "execution_count": 18,
   "metadata": {
    "collapsed": true
   },
   "outputs": [],
   "source": [
    "message = subfolder.Items"
   ]
  },
  {
   "cell_type": "code",
   "execution_count": 13,
   "metadata": {
    "collapsed": false
   },
   "outputs": [
    {
     "ename": "NameError",
     "evalue": "name 'message' is not defined",
     "output_type": "error",
     "traceback": [
      "\u001b[0;31m---------------------------------------------------------------------------\u001b[0m",
      "\u001b[0;31mNameError\u001b[0m                                 Traceback (most recent call last)",
      "\u001b[0;32m<ipython-input-13-85998ec5338f>\u001b[0m in \u001b[0;36m<module>\u001b[0;34m()\u001b[0m\n\u001b[0;32m----> 1\u001b[0;31m \u001b[1;32mfor\u001b[0m \u001b[0mmsg\u001b[0m \u001b[1;32min\u001b[0m \u001b[0mmessage\u001b[0m\u001b[1;33m:\u001b[0m\u001b[1;33m\u001b[0m\u001b[0m\n\u001b[0m\u001b[1;32m      2\u001b[0m     \u001b[0mmsg_sub\u001b[0m \u001b[1;33m=\u001b[0m \u001b[0mmsg\u001b[0m\u001b[1;33m.\u001b[0m\u001b[0mSubject\u001b[0m\u001b[1;33m\u001b[0m\u001b[0m\n\u001b[1;32m      3\u001b[0m     \u001b[1;32mif\u001b[0m \u001b[1;34m'Multiclient'\u001b[0m \u001b[1;32min\u001b[0m \u001b[0mmsg_sub\u001b[0m\u001b[1;33m:\u001b[0m\u001b[1;33m\u001b[0m\u001b[0m\n\u001b[1;32m      4\u001b[0m         \u001b[0mcount_attachments\u001b[0m \u001b[1;33m=\u001b[0m \u001b[0mmsg\u001b[0m\u001b[1;33m.\u001b[0m\u001b[0mAttachments\u001b[0m\u001b[1;33m.\u001b[0m\u001b[0mCount\u001b[0m\u001b[1;33m\u001b[0m\u001b[0m\n\u001b[1;32m      5\u001b[0m         \u001b[1;32mif\u001b[0m \u001b[0mcount_attachments\u001b[0m \u001b[1;33m>\u001b[0m \u001b[1;36m0\u001b[0m\u001b[1;33m:\u001b[0m\u001b[1;33m\u001b[0m\u001b[0m\n",
      "\u001b[0;31mNameError\u001b[0m: name 'message' is not defined"
     ]
    }
   ],
   "source": [
    "for msg in message:\n",
    "    msg_sub = msg.Subject\n",
    "    if 'Multiclient' in msg_sub:\n",
    "        count_attachments = msg.Attachments.Count\n",
    "        if count_attachments > 0:\n",
    "            for item in range(count_attachments):\n",
    "                file_name = msg.Attachments.Item(item + 1).Filename\n",
    "                if 'USEmail' in file_name:\n",
    "                    attach = msg.Attachments.Item(item+1)\n",
    "                    attach.SaveAsFile(pasta_final+'\\\\'+file_name)"
   ]
  },
  {
   "cell_type": "code",
   "execution_count": 13,
   "metadata": {
    "collapsed": false
   },
   "outputs": [],
   "source": [
    "for subfolder in os.listdir(pasta_final):\n",
    "    if subfolder.endswith('.zip'):\n",
    "        file_name = pasta_final+'\\\\'+subfolder\n",
    "        zip_ref = zipfile.ZipFile(file_name)\n",
    "        zip_ref.extractall(file_name[:-4])\n",
    "        zip_ref.close()\n",
    "        os.remove(file_name)"
   ]
  },
  {
   "cell_type": "code",
   "execution_count": 15,
   "metadata": {
    "collapsed": false
   },
   "outputs": [
    {
     "ename": "IndexError",
     "evalue": "single positional indexer is out-of-bounds",
     "output_type": "error",
     "traceback": [
      "\u001b[0;31m---------------------------------------------------------------------------\u001b[0m",
      "\u001b[0;31mIndexError\u001b[0m                                Traceback (most recent call last)",
      "\u001b[0;32m<ipython-input-15-76b2f7b86c0e>\u001b[0m in \u001b[0;36m<module>\u001b[0;34m()\u001b[0m\n\u001b[1;32m      9\u001b[0m                     \u001b[0mpageObj\u001b[0m \u001b[1;33m=\u001b[0m \u001b[0mfileReader\u001b[0m\u001b[1;33m.\u001b[0m\u001b[0mgetPage\u001b[0m\u001b[1;33m(\u001b[0m\u001b[1;36m0\u001b[0m\u001b[1;33m)\u001b[0m\u001b[1;33m\u001b[0m\u001b[0m\n\u001b[1;32m     10\u001b[0m                     \u001b[1;32mfor\u001b[0m \u001b[0mi\u001b[0m \u001b[1;32min\u001b[0m \u001b[0mrange\u001b[0m\u001b[1;33m(\u001b[0m\u001b[1;36m11\u001b[0m\u001b[1;33m,\u001b[0m\u001b[1;36m14\u001b[0m\u001b[1;33m)\u001b[0m\u001b[1;33m:\u001b[0m\u001b[1;33m\u001b[0m\u001b[0m\n\u001b[0;32m---> 11\u001b[0;31m                         \u001b[0mdata\u001b[0m \u001b[1;33m=\u001b[0m \u001b[0mpd\u001b[0m\u001b[1;33m.\u001b[0m\u001b[0mDataFrame\u001b[0m\u001b[1;33m(\u001b[0m\u001b[0mpageObj\u001b[0m\u001b[1;33m.\u001b[0m\u001b[0mextractText\u001b[0m\u001b[1;33m(\u001b[0m\u001b[1;33m)\u001b[0m\u001b[1;33m.\u001b[0m\u001b[0msplit\u001b[0m\u001b[1;33m(\u001b[0m\u001b[1;33m)\u001b[0m\u001b[1;33m)\u001b[0m\u001b[1;33m.\u001b[0m\u001b[0miloc\u001b[0m\u001b[1;33m[\u001b[0m\u001b[0mi\u001b[0m\u001b[1;33m]\u001b[0m\u001b[1;33m[\u001b[0m\u001b[1;36m0\u001b[0m\u001b[1;33m]\u001b[0m\u001b[1;33m\u001b[0m\u001b[0m\n\u001b[0m\u001b[1;32m     12\u001b[0m                         \u001b[1;32mif\u001b[0m \u001b[1;34m'/'\u001b[0m \u001b[1;32min\u001b[0m \u001b[0mdata\u001b[0m\u001b[1;33m:\u001b[0m\u001b[1;33m\u001b[0m\u001b[0m\n\u001b[1;32m     13\u001b[0m                             \u001b[0mdata\u001b[0m \u001b[1;33m=\u001b[0m \u001b[0mstr\u001b[0m\u001b[1;33m(\u001b[0m\u001b[0mpd\u001b[0m\u001b[1;33m.\u001b[0m\u001b[0mto_datetime\u001b[0m\u001b[1;33m(\u001b[0m\u001b[0mdata\u001b[0m\u001b[1;33m[\u001b[0m\u001b[1;33m-\u001b[0m\u001b[1;36m14\u001b[0m\u001b[1;33m:\u001b[0m\u001b[1;33m-\u001b[0m\u001b[1;36m4\u001b[0m\u001b[1;33m]\u001b[0m\u001b[1;33m,\u001b[0m \u001b[0mformat\u001b[0m \u001b[1;33m=\u001b[0m \u001b[1;34m'%m/%d/%Y'\u001b[0m\u001b[1;33m)\u001b[0m\u001b[1;33m)\u001b[0m\u001b[1;33m.\u001b[0m\u001b[0msplit\u001b[0m\u001b[1;33m(\u001b[0m\u001b[1;33m)\u001b[0m\u001b[1;33m[\u001b[0m\u001b[1;36m0\u001b[0m\u001b[1;33m]\u001b[0m\u001b[1;33m\u001b[0m\u001b[0m\n",
      "\u001b[0;32mC:\\ProgramData\\Anaconda3\\lib\\site-packages\\pandas\\core\\indexing.py\u001b[0m in \u001b[0;36m__getitem__\u001b[0;34m(self, key)\u001b[0m\n\u001b[1;32m   1310\u001b[0m             \u001b[1;32mreturn\u001b[0m \u001b[0mself\u001b[0m\u001b[1;33m.\u001b[0m\u001b[0m_getitem_tuple\u001b[0m\u001b[1;33m(\u001b[0m\u001b[0mkey\u001b[0m\u001b[1;33m)\u001b[0m\u001b[1;33m\u001b[0m\u001b[0m\n\u001b[1;32m   1311\u001b[0m         \u001b[1;32melse\u001b[0m\u001b[1;33m:\u001b[0m\u001b[1;33m\u001b[0m\u001b[0m\n\u001b[0;32m-> 1312\u001b[0;31m             \u001b[1;32mreturn\u001b[0m \u001b[0mself\u001b[0m\u001b[1;33m.\u001b[0m\u001b[0m_getitem_axis\u001b[0m\u001b[1;33m(\u001b[0m\u001b[0mkey\u001b[0m\u001b[1;33m,\u001b[0m \u001b[0maxis\u001b[0m\u001b[1;33m=\u001b[0m\u001b[1;36m0\u001b[0m\u001b[1;33m)\u001b[0m\u001b[1;33m\u001b[0m\u001b[0m\n\u001b[0m\u001b[1;32m   1313\u001b[0m \u001b[1;33m\u001b[0m\u001b[0m\n\u001b[1;32m   1314\u001b[0m     \u001b[1;32mdef\u001b[0m \u001b[0m_getitem_axis\u001b[0m\u001b[1;33m(\u001b[0m\u001b[0mself\u001b[0m\u001b[1;33m,\u001b[0m \u001b[0mkey\u001b[0m\u001b[1;33m,\u001b[0m \u001b[0maxis\u001b[0m\u001b[1;33m=\u001b[0m\u001b[1;36m0\u001b[0m\u001b[1;33m)\u001b[0m\u001b[1;33m:\u001b[0m\u001b[1;33m\u001b[0m\u001b[0m\n",
      "\u001b[0;32mC:\\ProgramData\\Anaconda3\\lib\\site-packages\\pandas\\core\\indexing.py\u001b[0m in \u001b[0;36m_getitem_axis\u001b[0;34m(self, key, axis)\u001b[0m\n\u001b[1;32m   1626\u001b[0m \u001b[1;33m\u001b[0m\u001b[0m\n\u001b[1;32m   1627\u001b[0m                 \u001b[1;31m# validate the location\u001b[0m\u001b[1;33m\u001b[0m\u001b[1;33m\u001b[0m\u001b[0m\n\u001b[0;32m-> 1628\u001b[0;31m                 \u001b[0mself\u001b[0m\u001b[1;33m.\u001b[0m\u001b[0m_is_valid_integer\u001b[0m\u001b[1;33m(\u001b[0m\u001b[0mkey\u001b[0m\u001b[1;33m,\u001b[0m \u001b[0maxis\u001b[0m\u001b[1;33m)\u001b[0m\u001b[1;33m\u001b[0m\u001b[0m\n\u001b[0m\u001b[1;32m   1629\u001b[0m \u001b[1;33m\u001b[0m\u001b[0m\n\u001b[1;32m   1630\u001b[0m             \u001b[1;32mreturn\u001b[0m \u001b[0mself\u001b[0m\u001b[1;33m.\u001b[0m\u001b[0m_get_loc\u001b[0m\u001b[1;33m(\u001b[0m\u001b[0mkey\u001b[0m\u001b[1;33m,\u001b[0m \u001b[0maxis\u001b[0m\u001b[1;33m=\u001b[0m\u001b[0maxis\u001b[0m\u001b[1;33m)\u001b[0m\u001b[1;33m\u001b[0m\u001b[0m\n",
      "\u001b[0;32mC:\\ProgramData\\Anaconda3\\lib\\site-packages\\pandas\\core\\indexing.py\u001b[0m in \u001b[0;36m_is_valid_integer\u001b[0;34m(self, key, axis)\u001b[0m\n\u001b[1;32m   1540\u001b[0m         \u001b[0ml\u001b[0m \u001b[1;33m=\u001b[0m \u001b[0mlen\u001b[0m\u001b[1;33m(\u001b[0m\u001b[0max\u001b[0m\u001b[1;33m)\u001b[0m\u001b[1;33m\u001b[0m\u001b[0m\n\u001b[1;32m   1541\u001b[0m         \u001b[1;32mif\u001b[0m \u001b[0mkey\u001b[0m \u001b[1;33m>=\u001b[0m \u001b[0ml\u001b[0m \u001b[1;32mor\u001b[0m \u001b[0mkey\u001b[0m \u001b[1;33m<\u001b[0m \u001b[1;33m-\u001b[0m\u001b[0ml\u001b[0m\u001b[1;33m:\u001b[0m\u001b[1;33m\u001b[0m\u001b[0m\n\u001b[0;32m-> 1542\u001b[0;31m             \u001b[1;32mraise\u001b[0m \u001b[0mIndexError\u001b[0m\u001b[1;33m(\u001b[0m\u001b[1;34m\"single positional indexer is out-of-bounds\"\u001b[0m\u001b[1;33m)\u001b[0m\u001b[1;33m\u001b[0m\u001b[0m\n\u001b[0m\u001b[1;32m   1543\u001b[0m         \u001b[1;32mreturn\u001b[0m \u001b[1;32mTrue\u001b[0m\u001b[1;33m\u001b[0m\u001b[0m\n\u001b[1;32m   1544\u001b[0m \u001b[1;33m\u001b[0m\u001b[0m\n",
      "\u001b[0;31mIndexError\u001b[0m: single positional indexer is out-of-bounds"
     ]
    }
   ],
   "source": [
    "path = pasta_final\n",
    "base = 'Ajuste - Daily Stock Loan Fee Summary - '\n",
    "try:\n",
    "    for file in os.listdir(path):\n",
    "        if len(os.listdir(path+'\\\\'+file))>2:\n",
    "            for arquivo in os.listdir(path+'\\\\'+file):\n",
    "                if ('.PDF' in arquivo)|('.pdf' in arquivo):\n",
    "                    fileReader = PyPDF2.PdfFileReader(path+'\\\\'+file+'\\\\'+arquivo)\n",
    "                    pageObj = fileReader.getPage(0)\n",
    "                    for i in range(11,14):\n",
    "                        data = pd.DataFrame(pageObj.extractText().split()).iloc[i][0]\n",
    "                        if '/' in data:\n",
    "                            data = str(pd.to_datetime(data[-14:-4], format = '%m/%d/%Y')).split()[0]               \n",
    "                            for arquivo in os.listdir(path+'\\\\'+file):\n",
    "                                if ('StockLoanFee' in arquivo)&(('.csv' in arquivo)|('.CSV' in arquivo)):\n",
    "                                    os.rename(path+'\\\\'+file+'\\\\'+arquivo, path+'\\\\'+file+'\\\\'+base+str(data).split()[0]+'.csv')\n",
    "except FileExistsError:\n",
    "    print (file+'\\\\'+arquivo)"
   ]
  },
  {
   "cell_type": "code",
   "execution_count": 15,
   "metadata": {
    "collapsed": false
   },
   "outputs": [],
   "source": [
    "for subfolder in os.listdir(path):\n",
    "    for item in os.listdir(path+'\\\\'+subfolder):\n",
    "        if 'Ajuste' in item:\n",
    "            try:\n",
    "                os.rename(path+'\\\\'+subfolder+'\\\\'+item, path[:-8]+'\\\\'+item)\n",
    "                print (item)\n",
    "            except FileExistsError:\n",
    "                continue\n",
    "            else:\n",
    "                break"
   ]
  },
  {
   "cell_type": "code",
   "execution_count": null,
   "metadata": {
    "collapsed": false
   },
   "outputs": [],
   "source": [
    "for subfolder in os.listdir(path):\n",
    "    shutil.rmtree(path+'\\\\'+subfolder)"
   ]
  },
  {
   "cell_type": "code",
   "execution_count": null,
   "metadata": {
    "collapsed": true
   },
   "outputs": [],
   "source": []
  },
  {
   "cell_type": "code",
   "execution_count": null,
   "metadata": {
    "collapsed": true
   },
   "outputs": [],
   "source": []
  },
  {
   "cell_type": "code",
   "execution_count": null,
   "metadata": {
    "collapsed": true
   },
   "outputs": [],
   "source": []
  },
  {
   "cell_type": "code",
   "execution_count": null,
   "metadata": {
    "collapsed": true
   },
   "outputs": [],
   "source": []
  },
  {
   "cell_type": "code",
   "execution_count": null,
   "metadata": {
    "collapsed": true
   },
   "outputs": [],
   "source": []
  }
 ],
 "metadata": {
  "kernelspec": {
   "display_name": "Python 3",
   "language": "python",
   "name": "python3"
  },
  "language_info": {
   "codemirror_mode": {
    "name": "ipython",
    "version": 3
   },
   "file_extension": ".py",
   "mimetype": "text/x-python",
   "name": "python",
   "nbconvert_exporter": "python",
   "pygments_lexer": "ipython3",
   "version": "3.6.0"
  }
 },
 "nbformat": 4,
 "nbformat_minor": 2
}
