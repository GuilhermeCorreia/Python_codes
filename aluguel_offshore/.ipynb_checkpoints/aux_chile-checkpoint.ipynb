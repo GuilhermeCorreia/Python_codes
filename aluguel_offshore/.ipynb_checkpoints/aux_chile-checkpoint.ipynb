{
 "cells": [
  {
   "cell_type": "code",
   "execution_count": 1,
   "metadata": {
    "collapsed": false
   },
   "outputs": [],
   "source": [
    "%load_ext autoreload\n",
    "%autoreload 2\n",
    "\n",
    "import os\n",
    "import sys\n",
    "sys.path.append('%s/../' % os.getcwd())\n",
    "\n",
    "import datetime\n",
    "import pandas as pd\n",
    "import numpy as np\n",
    "import getpass"
   ]
  },
  {
   "cell_type": "code",
   "execution_count": 2,
   "metadata": {
    "collapsed": true
   },
   "outputs": [],
   "source": [
    "#pasta = r'C:\\Users\\correigu\\OneDrive - Banco BTG Pactual S.A\\Desktop\\aqruivos_offshore\\janfev'\n",
    "pasta = r'C:\\Temp\\CHILE'"
   ]
  },
  {
   "cell_type": "code",
   "execution_count": 3,
   "metadata": {
    "collapsed": true
   },
   "outputs": [],
   "source": [
    "import win32com.client"
   ]
  },
  {
   "cell_type": "code",
   "execution_count": 4,
   "metadata": {
    "collapsed": true
   },
   "outputs": [],
   "source": [
    "email_sender = 'guilherme.correia@btgpactual.com'"
   ]
  },
  {
   "cell_type": "code",
   "execution_count": null,
   "metadata": {
    "collapsed": true
   },
   "outputs": [],
   "source": []
  },
  {
   "cell_type": "code",
   "execution_count": 12,
   "metadata": {
    "collapsed": false
   },
   "outputs": [],
   "source": [
    "outlook = win32com.client.Dispatch('outlook.application')\n",
    "namespace = outlook.GetNamespace(\"MAPI\")\n",
    "i=0\n",
    "j = 1\n",
    "for folder in namespace.Folders:\n",
    "    if folder!=email_sender:\n",
    "        i+=1   \n",
    "root_folder = namespace.Folders.Item(i)"
   ]
  },
  {
   "cell_type": "code",
   "execution_count": 13,
   "metadata": {
    "collapsed": true
   },
   "outputs": [],
   "source": [
    "subfolder = root_folder.Folders['Caixa de Entrada'].Folders['aluguel_offshore_chile']"
   ]
  },
  {
   "cell_type": "code",
   "execution_count": 17,
   "metadata": {
    "collapsed": false
   },
   "outputs": [
    {
     "name": "stdout",
     "output_type": "stream",
     "text": [
      "FW: Cartolas BTG Pactual\n",
      " \r\n",
      " \r\n",
      "Ana Luisa Godoy\r\n",
      "Operations – Equities & Futures\r\n",
      "Tel. +55 11 3383-3283\r\n",
      "Cel. +55 21 9 9919-6192\r\n",
      "\r\n",
      " \r\n",
      "From: Longa, Maura \r\n",
      "Sent: Friday,19 January, 2018 09:59\r\n",
      "To: OL-equity-backoffice <OL-equity-backoffice@btgpactual.com>\r\n",
      "Cc: Servicio al Cliente-CL <OL-servicio.cliente@btgpactual.com>; Its Latam-CL <OL-its.Latam@btgpactual.com>; Urrutia, Claudio <Claudio.Urrutia@btgpactual.com>; OL-EQUITYBD <OL-EQUITYBD@btgpactual.com>; ol-sbl <ol-sbl@btgpactual.com>; Ol-corporateaction <Ol-corporateaction@btgpactual.com>\r\n",
      "Subject: Cartolas BTG Pactual\r\n",
      " \r\n",
      "FYI\r\n",
      " \r\n",
      "Maura Longa T.\r\n",
      "Customer Service - Client Support\r\n",
      " \r\n",
      "\r\n",
      " \r\n",
      "Av. Costanera Sur 2730, Piso 20\r\n",
      "Torre B, Las Condes, Santiago, Chile\r\n",
      "Tel  +562 2587 5111\r\n",
      "maura.longa@btgpactual.com <mailto:maura.longa@btgpactual.com> \r\n",
      "btgpactual.com/chile <http://www.btgpactual.com/chile> \r\n",
      " \n",
      "FW: Cartolas BTG Pactual\n",
      " \r\n",
      " \r\n",
      "Ana Luisa Godoy\r\n",
      "Operations – Equities & Futures\r\n",
      "Tel. +55 11 3383-3283\r\n",
      "Cel. +55 21 9 9919-6192\r\n",
      "\r\n",
      " \r\n",
      "From: Longa, Maura \r\n",
      "Sent: Friday,19 January, 2018 09:59\r\n",
      "To: OL-equity-backoffice <OL-equity-backoffice@btgpactual.com>\r\n",
      "Cc: Servicio al Cliente-CL <OL-servicio.cliente@btgpactual.com>; Its Latam-CL <OL-its.Latam@btgpactual.com>; Urrutia, Claudio <Claudio.Urrutia@btgpactual.com>; OL-EQUITYBD <OL-EQUITYBD@btgpactual.com>; ol-sbl <ol-sbl@btgpactual.com>; Ol-corporateaction <Ol-corporateaction@btgpactual.com>\r\n",
      "Subject: Cartolas BTG Pactual\r\n",
      " \r\n",
      "FYI\r\n",
      " \r\n",
      "Maura Longa T.\r\n",
      "Customer Service - Client Support\r\n",
      " \r\n",
      "\r\n",
      " \r\n",
      "Av. Costanera Sur 2730, Piso 20\r\n",
      "Torre B, Las Condes, Santiago, Chile\r\n",
      "Tel  +562 2587 5111\r\n",
      "maura.longa@btgpactual.com <mailto:maura.longa@btgpactual.com> \r\n",
      "btgpactual.com/chile <http://www.btgpactual.com/chile> \r\n",
      " \n",
      "FW: Cartolas BTG Pactual\n",
      " \r\n",
      " \r\n",
      "Ana Luisa Godoy\r\n",
      "Operations – Equities & Futures\r\n",
      "Tel. +55 11 3383-3283\r\n",
      "Cel. +55 21 9 9919-6192\r\n",
      "\r\n",
      " \r\n",
      "From: Longa, Maura \r\n",
      "Sent: Friday,19 January, 2018 09:59\r\n",
      "To: OL-equity-backoffice <OL-equity-backoffice@btgpactual.com>\r\n",
      "Cc: Servicio al Cliente-CL <OL-servicio.cliente@btgpactual.com>; Its Latam-CL <OL-its.Latam@btgpactual.com>; Urrutia, Claudio <Claudio.Urrutia@btgpactual.com>; OL-EQUITYBD <OL-EQUITYBD@btgpactual.com>; ol-sbl <ol-sbl@btgpactual.com>; Ol-corporateaction <Ol-corporateaction@btgpactual.com>\r\n",
      "Subject: Cartolas BTG Pactual\r\n",
      " \r\n",
      "FYI\r\n",
      " \r\n",
      "Maura Longa T.\r\n",
      "Customer Service - Client Support\r\n",
      " \r\n",
      "\r\n",
      " \r\n",
      "Av. Costanera Sur 2730, Piso 20\r\n",
      "Torre B, Las Condes, Santiago, Chile\r\n",
      "Tel  +562 2587 5111\r\n",
      "maura.longa@btgpactual.com <mailto:maura.longa@btgpactual.com> \r\n",
      "btgpactual.com/chile <http://www.btgpactual.com/chile> \r\n",
      " \n",
      "FW: Cartolas BTG Pactual\n",
      " \r\n",
      " \r\n",
      "Ana Luisa Godoy\r\n",
      "Operations – Equities & Futures\r\n",
      "Tel. +55 11 3383-3283\r\n",
      "Cel. +55 21 9 9919-6192\r\n",
      "\r\n",
      " \r\n",
      "From: Longa, Maura \r\n",
      "Sent: Friday,19 January, 2018 09:59\r\n",
      "To: OL-equity-backoffice <OL-equity-backoffice@btgpactual.com>\r\n",
      "Cc: Servicio al Cliente-CL <OL-servicio.cliente@btgpactual.com>; Its Latam-CL <OL-its.Latam@btgpactual.com>; Urrutia, Claudio <Claudio.Urrutia@btgpactual.com>; OL-EQUITYBD <OL-EQUITYBD@btgpactual.com>; ol-sbl <ol-sbl@btgpactual.com>; Ol-corporateaction <Ol-corporateaction@btgpactual.com>\r\n",
      "Subject: Cartolas BTG Pactual\r\n",
      " \r\n",
      "FYI\r\n",
      " \r\n",
      "Maura Longa T.\r\n",
      "Customer Service - Client Support\r\n",
      " \r\n",
      "\r\n",
      " \r\n",
      "Av. Costanera Sur 2730, Piso 20\r\n",
      "Torre B, Las Condes, Santiago, Chile\r\n",
      "Tel  +562 2587 5111\r\n",
      "maura.longa@btgpactual.com <mailto:maura.longa@btgpactual.com> \r\n",
      "btgpactual.com/chile <http://www.btgpactual.com/chile> \r\n",
      " \n",
      "FW: Cartolas BTG Pactual\n",
      " \r\n",
      " \r\n",
      "Ana Luisa Godoy\r\n",
      "Operations – Equities & Futures\r\n",
      "Tel. +55 11 3383-3283\r\n",
      "Cel. +55 21 9 9919-6192\r\n",
      "\r\n",
      " \r\n",
      "From: Longa, Maura \r\n",
      "Sent: Friday,19 January, 2018 09:59\r\n",
      "To: OL-equity-backoffice <OL-equity-backoffice@btgpactual.com>\r\n",
      "Cc: Servicio al Cliente-CL <OL-servicio.cliente@btgpactual.com>; Its Latam-CL <OL-its.Latam@btgpactual.com>; Urrutia, Claudio <Claudio.Urrutia@btgpactual.com>; OL-EQUITYBD <OL-EQUITYBD@btgpactual.com>; ol-sbl <ol-sbl@btgpactual.com>; Ol-corporateaction <Ol-corporateaction@btgpactual.com>\r\n",
      "Subject: Cartolas BTG Pactual\r\n",
      " \r\n",
      "FYI\r\n",
      " \r\n",
      "Maura Longa T.\r\n",
      "Customer Service - Client Support\r\n",
      " \r\n",
      "\r\n",
      " \r\n",
      "Av. Costanera Sur 2730, Piso 20\r\n",
      "Torre B, Las Condes, Santiago, Chile\r\n",
      "Tel  +562 2587 5111\r\n",
      "maura.longa@btgpactual.com <mailto:maura.longa@btgpactual.com> \r\n",
      "btgpactual.com/chile <http://www.btgpactual.com/chile> \r\n",
      " \n"
     ]
    }
   ],
   "source": [
    "message = subfolder.Items\n",
    "for msg in message:\n",
    "    body_content = msg.body\n",
    "    msg_sub = msg.Subject\n",
    "    count_attachments = msg.Attachments.Count\n",
    "    if count_attachments > 0:\n",
    "        for item in range(count_attachments):\n",
    "            file_name = msg.Attachments.Item(item + 1).Filename\n",
    "            if '19-01-2018' in file_name:\n",
    "                print(msg_sub)\n",
    "                print(body_content)"
   ]
  },
  {
   "cell_type": "code",
   "execution_count": null,
   "metadata": {
    "collapsed": true
   },
   "outputs": [],
   "source": []
  },
  {
   "cell_type": "code",
   "execution_count": null,
   "metadata": {
    "collapsed": true
   },
   "outputs": [],
   "source": []
  },
  {
   "cell_type": "code",
   "execution_count": 5,
   "metadata": {
    "collapsed": false
   },
   "outputs": [
    {
     "data": {
      "text/plain": [
       "'C:\\\\Temp\\\\CHILE'"
      ]
     },
     "execution_count": 5,
     "metadata": {},
     "output_type": "execute_result"
    }
   ],
   "source": [
    "pasta"
   ]
  },
  {
   "cell_type": "code",
   "execution_count": 7,
   "metadata": {
    "collapsed": false,
    "scrolled": true
   },
   "outputs": [
    {
     "name": "stdout",
     "output_type": "stream",
     "text": [
      "001482_13062018_PBL Client.xls\n"
     ]
    },
    {
     "ename": "XLRDError",
     "evalue": "No sheet named <'Movements'>",
     "output_type": "error",
     "traceback": [
      "\u001b[0;31m---------------------------------------------------------------------------\u001b[0m",
      "\u001b[0;31mNameError\u001b[0m                                 Traceback (most recent call last)",
      "\u001b[0;32m<ipython-input-7-87491c76ce76>\u001b[0m in \u001b[0;36m<module>\u001b[0;34m()\u001b[0m\n\u001b[1;32m      4\u001b[0m         \u001b[1;32mtry\u001b[0m\u001b[1;33m:\u001b[0m\u001b[1;33m\u001b[0m\u001b[0m\n\u001b[0;32m----> 5\u001b[0;31m             \u001b[0mdf\u001b[0m\u001b[1;33m\u001b[0m\u001b[0m\n\u001b[0m\u001b[1;32m      6\u001b[0m         \u001b[1;32mexcept\u001b[0m\u001b[1;33m:\u001b[0m\u001b[1;33m\u001b[0m\u001b[0m\n",
      "\u001b[0;31mNameError\u001b[0m: name 'df' is not defined",
      "\nDuring handling of the above exception, another exception occurred:\n",
      "\u001b[0;31mValueError\u001b[0m                                Traceback (most recent call last)",
      "\u001b[0;32mC:\\ProgramData\\Anaconda3\\lib\\site-packages\\xlrd\\book.py\u001b[0m in \u001b[0;36msheet_by_name\u001b[0;34m(self, sheet_name)\u001b[0m\n\u001b[1;32m    438\u001b[0m         \u001b[1;32mtry\u001b[0m\u001b[1;33m:\u001b[0m\u001b[1;33m\u001b[0m\u001b[0m\n\u001b[0;32m--> 439\u001b[0;31m             \u001b[0msheetx\u001b[0m \u001b[1;33m=\u001b[0m \u001b[0mself\u001b[0m\u001b[1;33m.\u001b[0m\u001b[0m_sheet_names\u001b[0m\u001b[1;33m.\u001b[0m\u001b[0mindex\u001b[0m\u001b[1;33m(\u001b[0m\u001b[0msheet_name\u001b[0m\u001b[1;33m)\u001b[0m\u001b[1;33m\u001b[0m\u001b[0m\n\u001b[0m\u001b[1;32m    440\u001b[0m         \u001b[1;32mexcept\u001b[0m \u001b[0mValueError\u001b[0m\u001b[1;33m:\u001b[0m\u001b[1;33m\u001b[0m\u001b[0m\n",
      "\u001b[0;31mValueError\u001b[0m: 'Movements' is not in list",
      "\nDuring handling of the above exception, another exception occurred:\n",
      "\u001b[0;31mXLRDError\u001b[0m                                 Traceback (most recent call last)",
      "\u001b[0;32m<ipython-input-7-87491c76ce76>\u001b[0m in \u001b[0;36m<module>\u001b[0;34m()\u001b[0m\n\u001b[1;32m      5\u001b[0m             \u001b[0mdf\u001b[0m\u001b[1;33m\u001b[0m\u001b[0m\n\u001b[1;32m      6\u001b[0m         \u001b[1;32mexcept\u001b[0m\u001b[1;33m:\u001b[0m\u001b[1;33m\u001b[0m\u001b[0m\n\u001b[0;32m----> 7\u001b[0;31m             \u001b[0mdf\u001b[0m \u001b[1;33m=\u001b[0m \u001b[0mpd\u001b[0m\u001b[1;33m.\u001b[0m\u001b[0mread_excel\u001b[0m\u001b[1;33m(\u001b[0m\u001b[0mpasta\u001b[0m\u001b[1;33m+\u001b[0m\u001b[1;34m'\\\\'\u001b[0m\u001b[1;33m+\u001b[0m\u001b[0mfile\u001b[0m\u001b[1;33m,\u001b[0m \u001b[0msheetname\u001b[0m\u001b[1;33m=\u001b[0m\u001b[1;34m'Movements'\u001b[0m\u001b[1;33m,\u001b[0m \u001b[0mskiprows\u001b[0m \u001b[1;33m=\u001b[0m \u001b[1;36m13\u001b[0m\u001b[1;33m)\u001b[0m\u001b[1;33m\u001b[0m\u001b[0m\n\u001b[0m\u001b[1;32m      8\u001b[0m         \u001b[1;32melse\u001b[0m\u001b[1;33m:\u001b[0m\u001b[1;33m\u001b[0m\u001b[0m\n\u001b[1;32m      9\u001b[0m             \u001b[1;32mtry\u001b[0m\u001b[1;33m:\u001b[0m\u001b[1;33m\u001b[0m\u001b[0m\n",
      "\u001b[0;32mC:\\ProgramData\\Anaconda3\\lib\\site-packages\\pandas\\io\\excel.py\u001b[0m in \u001b[0;36mread_excel\u001b[0;34m(io, sheetname, header, skiprows, skip_footer, index_col, names, parse_cols, parse_dates, date_parser, na_values, thousands, convert_float, has_index_names, converters, true_values, false_values, engine, squeeze, **kwds)\u001b[0m\n\u001b[1;32m    198\u001b[0m         \u001b[0mskip_footer\u001b[0m\u001b[1;33m=\u001b[0m\u001b[0mskip_footer\u001b[0m\u001b[1;33m,\u001b[0m \u001b[0mconverters\u001b[0m\u001b[1;33m=\u001b[0m\u001b[0mconverters\u001b[0m\u001b[1;33m,\u001b[0m\u001b[1;33m\u001b[0m\u001b[0m\n\u001b[1;32m    199\u001b[0m         \u001b[0mtrue_values\u001b[0m\u001b[1;33m=\u001b[0m\u001b[0mtrue_values\u001b[0m\u001b[1;33m,\u001b[0m \u001b[0mfalse_values\u001b[0m\u001b[1;33m=\u001b[0m\u001b[0mfalse_values\u001b[0m\u001b[1;33m,\u001b[0m \u001b[0msqueeze\u001b[0m\u001b[1;33m=\u001b[0m\u001b[0msqueeze\u001b[0m\u001b[1;33m,\u001b[0m\u001b[1;33m\u001b[0m\u001b[0m\n\u001b[0;32m--> 200\u001b[0;31m         **kwds)\n\u001b[0m\u001b[1;32m    201\u001b[0m \u001b[1;33m\u001b[0m\u001b[0m\n\u001b[1;32m    202\u001b[0m \u001b[1;33m\u001b[0m\u001b[0m\n",
      "\u001b[0;32mC:\\ProgramData\\Anaconda3\\lib\\site-packages\\pandas\\io\\excel.py\u001b[0m in \u001b[0;36m_parse_excel\u001b[0;34m(self, sheetname, header, skiprows, names, skip_footer, index_col, has_index_names, parse_cols, parse_dates, date_parser, na_values, thousands, convert_float, true_values, false_values, verbose, squeeze, **kwds)\u001b[0m\n\u001b[1;32m    428\u001b[0m \u001b[1;33m\u001b[0m\u001b[0m\n\u001b[1;32m    429\u001b[0m             \u001b[1;32mif\u001b[0m \u001b[0misinstance\u001b[0m\u001b[1;33m(\u001b[0m\u001b[0masheetname\u001b[0m\u001b[1;33m,\u001b[0m \u001b[0mcompat\u001b[0m\u001b[1;33m.\u001b[0m\u001b[0mstring_types\u001b[0m\u001b[1;33m)\u001b[0m\u001b[1;33m:\u001b[0m\u001b[1;33m\u001b[0m\u001b[0m\n\u001b[0;32m--> 430\u001b[0;31m                 \u001b[0msheet\u001b[0m \u001b[1;33m=\u001b[0m \u001b[0mself\u001b[0m\u001b[1;33m.\u001b[0m\u001b[0mbook\u001b[0m\u001b[1;33m.\u001b[0m\u001b[0msheet_by_name\u001b[0m\u001b[1;33m(\u001b[0m\u001b[0masheetname\u001b[0m\u001b[1;33m)\u001b[0m\u001b[1;33m\u001b[0m\u001b[0m\n\u001b[0m\u001b[1;32m    431\u001b[0m             \u001b[1;32melse\u001b[0m\u001b[1;33m:\u001b[0m  \u001b[1;31m# assume an integer if not a string\u001b[0m\u001b[1;33m\u001b[0m\u001b[0m\n\u001b[1;32m    432\u001b[0m                 \u001b[0msheet\u001b[0m \u001b[1;33m=\u001b[0m \u001b[0mself\u001b[0m\u001b[1;33m.\u001b[0m\u001b[0mbook\u001b[0m\u001b[1;33m.\u001b[0m\u001b[0msheet_by_index\u001b[0m\u001b[1;33m(\u001b[0m\u001b[0masheetname\u001b[0m\u001b[1;33m)\u001b[0m\u001b[1;33m\u001b[0m\u001b[0m\n",
      "\u001b[0;32mC:\\ProgramData\\Anaconda3\\lib\\site-packages\\xlrd\\book.py\u001b[0m in \u001b[0;36msheet_by_name\u001b[0;34m(self, sheet_name)\u001b[0m\n\u001b[1;32m    439\u001b[0m             \u001b[0msheetx\u001b[0m \u001b[1;33m=\u001b[0m \u001b[0mself\u001b[0m\u001b[1;33m.\u001b[0m\u001b[0m_sheet_names\u001b[0m\u001b[1;33m.\u001b[0m\u001b[0mindex\u001b[0m\u001b[1;33m(\u001b[0m\u001b[0msheet_name\u001b[0m\u001b[1;33m)\u001b[0m\u001b[1;33m\u001b[0m\u001b[0m\n\u001b[1;32m    440\u001b[0m         \u001b[1;32mexcept\u001b[0m \u001b[0mValueError\u001b[0m\u001b[1;33m:\u001b[0m\u001b[1;33m\u001b[0m\u001b[0m\n\u001b[0;32m--> 441\u001b[0;31m             \u001b[1;32mraise\u001b[0m \u001b[0mXLRDError\u001b[0m\u001b[1;33m(\u001b[0m\u001b[1;34m'No sheet named <%r>'\u001b[0m \u001b[1;33m%\u001b[0m \u001b[0msheet_name\u001b[0m\u001b[1;33m)\u001b[0m\u001b[1;33m\u001b[0m\u001b[0m\n\u001b[0m\u001b[1;32m    442\u001b[0m         \u001b[1;32mreturn\u001b[0m \u001b[0mself\u001b[0m\u001b[1;33m.\u001b[0m\u001b[0msheet_by_index\u001b[0m\u001b[1;33m(\u001b[0m\u001b[0msheetx\u001b[0m\u001b[1;33m)\u001b[0m\u001b[1;33m\u001b[0m\u001b[0m\n\u001b[1;32m    443\u001b[0m \u001b[1;33m\u001b[0m\u001b[0m\n",
      "\u001b[0;31mXLRDError\u001b[0m: No sheet named <'Movements'>"
     ]
    }
   ],
   "source": [
    "for file in os.listdir(pasta):\n",
    "    if 'Stock Loan' not in file:\n",
    "        print (file)\n",
    "        try:\n",
    "            df\n",
    "        except:\n",
    "            df = pd.read_excel(pasta+'\\\\'+file, sheetname='Movements', skiprows = 13)\n",
    "        else:\n",
    "            try:\n",
    "                df_1 = pd.read_excel(pasta+'\\\\'+file, sheetname='Movements', skiprows = 13)\n",
    "                df = pd.concat([df,df_1], axis=0)\n",
    "            except:\n",
    "                print(pasta+'\\\\'+file)"
   ]
  },
  {
   "cell_type": "code",
   "execution_count": 7,
   "metadata": {
    "collapsed": false
   },
   "outputs": [],
   "source": [
    "df[df['Movimiento']=='Venta Corta'].drop_duplicates().to_excel('venta_corta.xlsx')"
   ]
  },
  {
   "cell_type": "code",
   "execution_count": null,
   "metadata": {
    "collapsed": true
   },
   "outputs": [],
   "source": []
  },
  {
   "cell_type": "code",
   "execution_count": 5,
   "metadata": {
    "collapsed": false
   },
   "outputs": [
    {
     "data": {
      "text/plain": [
       "True"
      ]
     },
     "execution_count": 5,
     "metadata": {},
     "output_type": "execute_result"
    }
   ],
   "source": [
    "'Movements'=='Movements'"
   ]
  },
  {
   "cell_type": "code",
   "execution_count": null,
   "metadata": {
    "collapsed": true
   },
   "outputs": [],
   "source": []
  },
  {
   "cell_type": "code",
   "execution_count": null,
   "metadata": {
    "collapsed": true
   },
   "outputs": [],
   "source": []
  },
  {
   "cell_type": "code",
   "execution_count": null,
   "metadata": {
    "collapsed": true
   },
   "outputs": [],
   "source": []
  },
  {
   "cell_type": "code",
   "execution_count": null,
   "metadata": {
    "collapsed": false
   },
   "outputs": [],
   "source": [
    "for file in os.listdir(pasta):\n",
    "    data = file[-12:-4]\n",
    "    ano = str(data[:4])\n",
    "    mes = str(data[4:6])\n",
    "    dia = str(data[-2:])\n",
    "    \n",
    "    name = 'Ajuste - Daily Stock Loan Fee Summary - %s-%s-%s.csv' %(ano, mes, dia)\n",
    "    \n",
    "    os.rename(pasta+'\\\\'+file, pasta+'\\\\'+name)"
   ]
  },
  {
   "cell_type": "code",
   "execution_count": null,
   "metadata": {
    "collapsed": true
   },
   "outputs": [],
   "source": []
  },
  {
   "cell_type": "code",
   "execution_count": null,
   "metadata": {
    "collapsed": false
   },
   "outputs": [],
   "source": [
    "for file in os.listdir(pasta):\n",
    "    df = pd.read_csv(pasta+'\\\\'+file, skipfooter=1)\n",
    "    data = df['Value Date'].drop_duplicates()[0]\n",
    "    year = data[-4:]\n",
    "    day = data[-7:-5]\n",
    "    month = data[:2]\n",
    "    data_ref = year+month+day\n",
    "    \n",
    "    if '038CDB895' in file:\n",
    "        string = '038CDB895_IN150DX - ' + data_ref\n",
    "        os.rename(pasta+'\\\\'+file, pasta+'\\\\'+string+'.csv')\n",
    "        \n",
    "    elif '038CDBD08' in file:\n",
    "        string = '038CDBD08_IN150DX - ' + data_ref\n",
    "        os.rename(pasta+'\\\\'+file, pasta+'\\\\'+string+'.csv')        \n",
    "        "
   ]
  },
  {
   "cell_type": "code",
   "execution_count": null,
   "metadata": {
    "collapsed": false
   },
   "outputs": [],
   "source": []
  },
  {
   "cell_type": "code",
   "execution_count": null,
   "metadata": {
    "collapsed": true
   },
   "outputs": [],
   "source": []
  },
  {
   "cell_type": "code",
   "execution_count": null,
   "metadata": {
    "collapsed": true
   },
   "outputs": [],
   "source": []
  },
  {
   "cell_type": "code",
   "execution_count": null,
   "metadata": {
    "collapsed": true
   },
   "outputs": [],
   "source": []
  },
  {
   "cell_type": "code",
   "execution_count": null,
   "metadata": {
    "collapsed": true
   },
   "outputs": [],
   "source": []
  },
  {
   "cell_type": "code",
   "execution_count": null,
   "metadata": {
    "collapsed": true
   },
   "outputs": [],
   "source": []
  },
  {
   "cell_type": "code",
   "execution_count": null,
   "metadata": {
    "collapsed": true
   },
   "outputs": [],
   "source": []
  },
  {
   "cell_type": "code",
   "execution_count": null,
   "metadata": {
    "collapsed": true
   },
   "outputs": [],
   "source": []
  },
  {
   "cell_type": "code",
   "execution_count": null,
   "metadata": {
    "collapsed": true
   },
   "outputs": [],
   "source": []
  },
  {
   "cell_type": "code",
   "execution_count": null,
   "metadata": {
    "collapsed": true
   },
   "outputs": [],
   "source": []
  },
  {
   "cell_type": "code",
   "execution_count": null,
   "metadata": {
    "collapsed": true
   },
   "outputs": [],
   "source": []
  },
  {
   "cell_type": "code",
   "execution_count": null,
   "metadata": {
    "collapsed": true
   },
   "outputs": [],
   "source": []
  },
  {
   "cell_type": "code",
   "execution_count": null,
   "metadata": {
    "collapsed": true
   },
   "outputs": [],
   "source": []
  },
  {
   "cell_type": "code",
   "execution_count": null,
   "metadata": {
    "collapsed": false
   },
   "outputs": [],
   "source": [
    "for file in os.listdir(pasta): \n",
    "    if 'Cayman - UBS' in file:\n",
    "        data = file[-14:-4]\n",
    "        try:\n",
    "            ubs\n",
    "        except:\n",
    "            ubs = pd.read_excel(pasta+'\\\\'+file)\n",
    "            ubs['conta']= 'ubs'\n",
    "        else:\n",
    "            ubs_1 = pd.read_excel(pasta+'\\\\'+file)\n",
    "            ubs_1['conta']= 'ubs'\n",
    "            ubs = pd.concat([ubs,ubs_1], axis=0)\n",
    "        \n",
    "    elif 'Cayman - MS' in file:\n",
    "        try:\n",
    "            morgan\n",
    "        except:\n",
    "            morgan = pd.read_excel(pasta+'\\\\'+file)\n",
    "            morgan['conta'] = 'morgan'\n",
    "        else:\n",
    "            morgan_1 = pd.read_excel(pasta+'\\\\'+file)\n",
    "            morgan_1['conta'] = 'morgan'\n",
    "            morgan = pd.concat([morgan, morgan_1], axis = 0)\n",
    "\n",
    "    \n",
    "    elif 'Calypso - INT C' in file:\n",
    "        try:\n",
    "            intc\n",
    "        except:\n",
    "            intc = pd.read_excel(pasta+'\\\\'+file)\n",
    "            intc['conta'] = 'intc'\n",
    "        else:\n",
    "            intc_1 = pd.read_excel(pasta+'\\\\'+file)\n",
    "            intc_1['conta'] = 'intc'\n",
    "            intc = pd.concat([intc, intc_1], axis = 0)\n",
    "    "
   ]
  },
  {
   "cell_type": "code",
   "execution_count": null,
   "metadata": {
    "collapsed": true
   },
   "outputs": [],
   "source": []
  },
  {
   "cell_type": "code",
   "execution_count": null,
   "metadata": {
    "collapsed": false
   },
   "outputs": [],
   "source": [
    "dash = pd.concat([ubs,morgan,intc],axis=0)"
   ]
  },
  {
   "cell_type": "code",
   "execution_count": null,
   "metadata": {
    "collapsed": false
   },
   "outputs": [],
   "source": [
    "dash"
   ]
  },
  {
   "cell_type": "code",
   "execution_count": null,
   "metadata": {
    "collapsed": false
   },
   "outputs": [],
   "source": [
    "dash.columns = ['account', 'asset', 'currency','accrual', 'pb', 'book','date','sedol', 'qt', 'ticker', 'conta']"
   ]
  },
  {
   "cell_type": "code",
   "execution_count": null,
   "metadata": {
    "collapsed": false
   },
   "outputs": [],
   "source": [
    "dash = dash.drop(['account', 'sedol', 'qt'], axis=1)"
   ]
  },
  {
   "cell_type": "code",
   "execution_count": null,
   "metadata": {
    "collapsed": true
   },
   "outputs": [],
   "source": []
  },
  {
   "cell_type": "code",
   "execution_count": null,
   "metadata": {
    "collapsed": false
   },
   "outputs": [],
   "source": [
    "dash['date'] = pd.to_datetime(dash['date'], format='%d/%m/%Y')"
   ]
  },
  {
   "cell_type": "code",
   "execution_count": null,
   "metadata": {
    "collapsed": false
   },
   "outputs": [],
   "source": [
    "dash['month'] = dash['date'].dt.month"
   ]
  },
  {
   "cell_type": "code",
   "execution_count": null,
   "metadata": {
    "collapsed": false
   },
   "outputs": [],
   "source": [
    "dash"
   ]
  },
  {
   "cell_type": "code",
   "execution_count": null,
   "metadata": {
    "collapsed": false
   },
   "outputs": [],
   "source": [
    "dash_by_book = dash.groupby(by=['month', 'conta', 'pb', 'book', 'currency']).sum().reset_index()"
   ]
  },
  {
   "cell_type": "code",
   "execution_count": null,
   "metadata": {
    "collapsed": false
   },
   "outputs": [],
   "source": [
    "dash_by_book = dash_by_book[dash_by_book['accrual']!=0].reset_index(drop=True)"
   ]
  },
  {
   "cell_type": "code",
   "execution_count": null,
   "metadata": {
    "collapsed": false
   },
   "outputs": [],
   "source": [
    "dash_batimento = dash_by_book.groupby(by=['month', 'conta', 'currency']).sum().reset_index()"
   ]
  },
  {
   "cell_type": "code",
   "execution_count": null,
   "metadata": {
    "collapsed": true
   },
   "outputs": [],
   "source": [
    "dict_accrual = [2290.07, 2600.76,-1.23,-410018.67,-193547.92, -747445.48, -32656.22, 2492.32, 1482.73, 6117.58,\n",
    "                                 -1.07, -999326.27, -152710.77, -721047.90, -0]"
   ]
  },
  {
   "cell_type": "code",
   "execution_count": null,
   "metadata": {
    "collapsed": true
   },
   "outputs": [],
   "source": [
    "dash_batimento['accrual_cayman'] = dict_accrual"
   ]
  },
  {
   "cell_type": "code",
   "execution_count": null,
   "metadata": {
    "collapsed": false
   },
   "outputs": [],
   "source": [
    "dash_batimento['ajuste'] = dash_batimento['accrual_cayman']/dash_batimento['accrual']"
   ]
  },
  {
   "cell_type": "code",
   "execution_count": null,
   "metadata": {
    "collapsed": false,
    "scrolled": true
   },
   "outputs": [],
   "source": [
    "dash_batimento"
   ]
  },
  {
   "cell_type": "code",
   "execution_count": null,
   "metadata": {
    "collapsed": false
   },
   "outputs": [],
   "source": [
    "dash_ajustado = pd.merge(dash_by_book, dash_batimento, on=['month', 'conta', 'currency'], how='left')"
   ]
  },
  {
   "cell_type": "code",
   "execution_count": null,
   "metadata": {
    "collapsed": false
   },
   "outputs": [],
   "source": [
    "dash_ajustado['accrual_x'] = dash_ajustado['accrual_x']*dash_ajustado['ajuste'] "
   ]
  },
  {
   "cell_type": "code",
   "execution_count": null,
   "metadata": {
    "collapsed": false
   },
   "outputs": [],
   "source": [
    "dash_ajustado_check = dash_ajustado.groupby(['month', 'conta', 'currency']).sum().drop(['accrual_y', 'accrual_cayman', \n",
    "                                                                                        'ajuste'], axis=1)"
   ]
  },
  {
   "cell_type": "code",
   "execution_count": null,
   "metadata": {
    "collapsed": true
   },
   "outputs": [],
   "source": [
    "dash_ajustado_check['accrual_cayman'] = dict_accrual"
   ]
  },
  {
   "cell_type": "code",
   "execution_count": null,
   "metadata": {
    "collapsed": false
   },
   "outputs": [],
   "source": [
    "dash_ajustado_check"
   ]
  },
  {
   "cell_type": "code",
   "execution_count": null,
   "metadata": {
    "collapsed": false
   },
   "outputs": [],
   "source": [
    "dash_ajustado = dash_ajustado.drop(['accrual_y', 'accrual_cayman', 'ajuste'], axis=1)"
   ]
  },
  {
   "cell_type": "code",
   "execution_count": null,
   "metadata": {
    "collapsed": false
   },
   "outputs": [],
   "source": [
    "dash_ajustado[dash_ajustado.month==3].drop(['month'], axis=1).to_excel('batimento_marco.xlsx', index=False)"
   ]
  },
  {
   "cell_type": "code",
   "execution_count": null,
   "metadata": {
    "collapsed": true
   },
   "outputs": [],
   "source": [
    "dash_ajustado[dash_ajustado.month==4].drop(['month'], axis=1).to_excel('batimento_abril.xlsx', index=False)"
   ]
  },
  {
   "cell_type": "code",
   "execution_count": null,
   "metadata": {
    "collapsed": true
   },
   "outputs": [],
   "source": []
  },
  {
   "cell_type": "code",
   "execution_count": null,
   "metadata": {
    "collapsed": true
   },
   "outputs": [],
   "source": []
  },
  {
   "cell_type": "code",
   "execution_count": null,
   "metadata": {
    "collapsed": true
   },
   "outputs": [],
   "source": []
  },
  {
   "cell_type": "code",
   "execution_count": null,
   "metadata": {
    "collapsed": true
   },
   "outputs": [],
   "source": []
  },
  {
   "cell_type": "code",
   "execution_count": null,
   "metadata": {
    "collapsed": true
   },
   "outputs": [],
   "source": []
  },
  {
   "cell_type": "code",
   "execution_count": null,
   "metadata": {
    "collapsed": true
   },
   "outputs": [],
   "source": []
  },
  {
   "cell_type": "code",
   "execution_count": null,
   "metadata": {
    "collapsed": true
   },
   "outputs": [],
   "source": []
  },
  {
   "cell_type": "code",
   "execution_count": null,
   "metadata": {
    "collapsed": true
   },
   "outputs": [],
   "source": []
  },
  {
   "cell_type": "code",
   "execution_count": null,
   "metadata": {
    "collapsed": true
   },
   "outputs": [],
   "source": []
  },
  {
   "cell_type": "code",
   "execution_count": null,
   "metadata": {
    "collapsed": true
   },
   "outputs": [],
   "source": []
  },
  {
   "cell_type": "code",
   "execution_count": null,
   "metadata": {
    "collapsed": true
   },
   "outputs": [],
   "source": []
  },
  {
   "cell_type": "code",
   "execution_count": null,
   "metadata": {
    "collapsed": true
   },
   "outputs": [],
   "source": []
  },
  {
   "cell_type": "code",
   "execution_count": null,
   "metadata": {
    "collapsed": true
   },
   "outputs": [],
   "source": []
  }
 ],
 "metadata": {
  "kernelspec": {
   "display_name": "Python 3",
   "language": "python",
   "name": "python3"
  },
  "language_info": {
   "codemirror_mode": {
    "name": "ipython",
    "version": 3
   },
   "file_extension": ".py",
   "mimetype": "text/x-python",
   "name": "python",
   "nbconvert_exporter": "python",
   "pygments_lexer": "ipython3",
   "version": "3.6.0"
  }
 },
 "nbformat": 4,
 "nbformat_minor": 2
}
