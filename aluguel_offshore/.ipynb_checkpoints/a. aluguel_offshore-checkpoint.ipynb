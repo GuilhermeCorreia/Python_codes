{
 "cells": [
  {
   "cell_type": "code",
   "execution_count": 1,
   "metadata": {
    "collapsed": false,
    "scrolled": true
   },
   "outputs": [],
   "source": [
    "%load_ext autoreload\n",
    "%autoreload 2\n",
    "\n",
    "import os\n",
    "import sys\n",
    "sys.path.append('%s/../' % os.getcwd())\n",
    "\n",
    "import datetime\n",
    "import pandas as pd\n",
    "import numpy as np\n",
    "import getpass"
   ]
  },
  {
   "cell_type": "code",
   "execution_count": 2,
   "metadata": {
    "collapsed": false
   },
   "outputs": [],
   "source": [
    "#importa as fórmulas do arquivo aluguel_offshore.py - note que este arquivo deverá estar na mesma pasta deste notebook\n",
    "from aluguel_offshore import *\n",
    "from formulas_auxiliares_ticker import *\n",
    "from confirmacoes.aux_emails import email_sender"
   ]
  },
  {
   "cell_type": "code",
   "execution_count": null,
   "metadata": {
    "collapsed": true
   },
   "outputs": [],
   "source": []
  },
  {
   "cell_type": "code",
   "execution_count": 3,
   "metadata": {
    "collapsed": true,
    "scrolled": true
   },
   "outputs": [],
   "source": [
    "#pasta em que estão os arquivos no seu computador.\n",
    "pasta = r'C:\\Users\\correigu\\OneDrive - Banco BTG Pactual S.A\\Desktop\\aqruivos_offshore'"
   ]
  },
  {
   "cell_type": "code",
   "execution_count": 4,
   "metadata": {
    "collapsed": false
   },
   "outputs": [],
   "source": [
    "data_inicio = pd.to_datetime('2018-10-01')\n",
    "data_final = pd.to_datetime('2018-10-31')"
   ]
  },
  {
   "cell_type": "code",
   "execution_count": 5,
   "metadata": {
    "collapsed": true
   },
   "outputs": [],
   "source": [
    "c = ImportAluguelOffshore(pasta,data_inicio,data_final)"
   ]
  },
  {
   "cell_type": "code",
   "execution_count": 6,
   "metadata": {
    "collapsed": false,
    "scrolled": true
   },
   "outputs": [
    {
     "name": "stdout",
     "output_type": "stream",
     "text": [
      "Povoando lista de arquivos que serão baixados para a memória\n",
      "    O arquivo Ajustes não possui data registrada\n",
      "    O arquivo Ajustes não pôde ser comparado com os demais\n",
      "    O arquivo old_v2 não possui data registrada\n",
      "    O arquivo old_v2 não pôde ser comparado com os demais\n",
      "    O arquivo Outubro não possui data registrada\n",
      "    O arquivo Outubro não pôde ser comparado com os demais\n",
      "    O arquivo tickers_diffs.xlsx não possui data registrada\n",
      "    O arquivo tickers_diffs.xlsx não pôde ser comparado com os demais\n",
      "--------------------------------------------------------------------------------------------------------------\n",
      "Baixando arquivos!!\n",
      "    23 arquivos do ubs importados\n",
      "    46 arquivos da morgan importados\n",
      "    23 arquivos do Calypso PROP+ASSET importados\n",
      "    23 arquivos do Calypso BD+WM importados\n",
      "    30 arquivos do Calypso INTC importados\n",
      "--------------------------------------------------------------------------------------------------------------\n"
     ]
    }
   ],
   "source": [
    "ubs, morgan, intc, bdwm, pras = c.baixa_dados_df()\n",
    "ticker_diffs = pd.read_excel(pasta+'\\\\'+ 'tickers_diffs.xlsx')"
   ]
  },
  {
   "cell_type": "code",
   "execution_count": null,
   "metadata": {
    "collapsed": true
   },
   "outputs": [],
   "source": []
  },
  {
   "cell_type": "code",
   "execution_count": null,
   "metadata": {
    "collapsed": true
   },
   "outputs": [],
   "source": []
  },
  {
   "cell_type": "markdown",
   "metadata": {},
   "source": [
    "# Ajustes base"
   ]
  },
  {
   "cell_type": "code",
   "execution_count": 7,
   "metadata": {
    "collapsed": false,
    "scrolled": true
   },
   "outputs": [],
   "source": [
    "pb, calypso, calypso_1 = ImportAluguelOffshore(pasta,data_inicio,data_final).tabelas_ajustadas(ubs, morgan, pras, bdwm, intc)"
   ]
  },
  {
   "cell_type": "code",
   "execution_count": 8,
   "metadata": {
    "collapsed": true
   },
   "outputs": [],
   "source": [
    "calypso = ajuste_contas_calypso(calypso)"
   ]
  },
  {
   "cell_type": "code",
   "execution_count": 9,
   "metadata": {
    "collapsed": false
   },
   "outputs": [],
   "source": [
    "mes_ref= pb['month'].drop_duplicates().reset_index(drop=True)[0]\n",
    "ano_ref = pb['year'].drop_duplicates().reset_index(drop=True)[0]\n",
    "data = pb.data_ref.max()\n",
    "referencia = 'month'"
   ]
  },
  {
   "cell_type": "code",
   "execution_count": 10,
   "metadata": {
    "collapsed": false
   },
   "outputs": [],
   "source": [
    "out_path = final_path(mes_ref, ano_ref, referencia, data)"
   ]
  },
  {
   "cell_type": "code",
   "execution_count": 11,
   "metadata": {
    "collapsed": false
   },
   "outputs": [],
   "source": [
    "mapa_tickers = pb[['ticker','isin','cusip','sedol']].drop_duplicates().reset_index(drop=True)"
   ]
  },
  {
   "cell_type": "code",
   "execution_count": 12,
   "metadata": {
    "collapsed": false,
    "scrolled": true
   },
   "outputs": [
    {
     "name": "stdout",
     "output_type": "stream",
     "text": [
      "O ticker BAK não foi encontrado pelos códigos.\n",
      " Tentaremos agora pelo nome\n",
      "Nós aconselhamos que você confira o ticker BAK, porque ele foi ajustado pelo Isin.\n",
      "Caso ele esteja ERRADO você deverá fazer o ajuste na próxima parte.\n"
     ]
    }
   ],
   "source": [
    "lista_tickers = [get_ticker_bases(calypso, mapa_tickers, x) for x in mapa_tickers.index]"
   ]
  },
  {
   "cell_type": "code",
   "execution_count": null,
   "metadata": {
    "collapsed": false
   },
   "outputs": [],
   "source": [
    "#calypso[calypso['ticker'].str.contains('TPX')]"
   ]
  },
  {
   "cell_type": "code",
   "execution_count": null,
   "metadata": {
    "collapsed": false
   },
   "outputs": [],
   "source": [
    "#pb[pb['ticker'].str.contains('TPX')]"
   ]
  },
  {
   "cell_type": "code",
   "execution_count": null,
   "metadata": {
    "collapsed": true
   },
   "outputs": [],
   "source": []
  },
  {
   "cell_type": "code",
   "execution_count": null,
   "metadata": {
    "collapsed": true
   },
   "outputs": [],
   "source": []
  },
  {
   "cell_type": "code",
   "execution_count": 13,
   "metadata": {
    "collapsed": false,
    "scrolled": true
   },
   "outputs": [],
   "source": [
    "mapeados = pd.DataFrame(lista_tickers).rename(columns={0:'ticker_calypso', 1:'construct'})"
   ]
  },
  {
   "cell_type": "code",
   "execution_count": 14,
   "metadata": {
    "collapsed": false
   },
   "outputs": [],
   "source": [
    "mapa_tickers = pd.concat([mapa_tickers, mapeados], axis=1)"
   ]
  },
  {
   "cell_type": "code",
   "execution_count": 15,
   "metadata": {
    "collapsed": false,
    "scrolled": true
   },
   "outputs": [
    {
     "data": {
      "text/html": [
       "<div>\n",
       "<table border=\"1\" class=\"dataframe\">\n",
       "  <thead>\n",
       "    <tr style=\"text-align: right;\">\n",
       "      <th></th>\n",
       "      <th>ticker</th>\n",
       "      <th>isin</th>\n",
       "      <th>cusip</th>\n",
       "      <th>sedol</th>\n",
       "      <th>ticker_calypso</th>\n",
       "      <th>construct</th>\n",
       "    </tr>\n",
       "  </thead>\n",
       "  <tbody>\n",
       "    <tr>\n",
       "      <th>173</th>\n",
       "      <td>BAK</td>\n",
       "      <td>US1055321053</td>\n",
       "      <td>105532105</td>\n",
       "      <td>2222835</td>\n",
       "      <td>BAK US</td>\n",
       "      <td>construido_ticker</td>\n",
       "    </tr>\n",
       "  </tbody>\n",
       "</table>\n",
       "</div>"
      ],
      "text/plain": [
       "    ticker          isin      cusip    sedol ticker_calypso          construct\n",
       "173    BAK  US1055321053  105532105  2222835         BAK US  construido_ticker"
      ]
     },
     "execution_count": 15,
     "metadata": {},
     "output_type": "execute_result"
    }
   ],
   "source": [
    "mapa_tickers[mapa_tickers['construct']=='construido_ticker']"
   ]
  },
  {
   "cell_type": "code",
   "execution_count": null,
   "metadata": {
    "collapsed": true
   },
   "outputs": [],
   "source": []
  },
  {
   "cell_type": "code",
   "execution_count": 16,
   "metadata": {
    "collapsed": true
   },
   "outputs": [],
   "source": [
    "writer_1 = pd.ExcelWriter(out_path+'\\\\mapa_tickers.xlsx')"
   ]
  },
  {
   "cell_type": "code",
   "execution_count": 17,
   "metadata": {
    "collapsed": true
   },
   "outputs": [],
   "source": [
    "mapa_tickers.to_excel(writer_1, sheet_name='tickers', index=False)\n",
    "writer_1.save()"
   ]
  },
  {
   "cell_type": "code",
   "execution_count": null,
   "metadata": {
    "collapsed": true
   },
   "outputs": [],
   "source": []
  },
  {
   "cell_type": "markdown",
   "metadata": {},
   "source": [
    "###### Ajustar ticker entre essas duas linhas!!!"
   ]
  },
  {
   "cell_type": "code",
   "execution_count": null,
   "metadata": {
    "collapsed": true
   },
   "outputs": [],
   "source": []
  },
  {
   "cell_type": "code",
   "execution_count": 18,
   "metadata": {
    "collapsed": false
   },
   "outputs": [],
   "source": [
    "mapa_tickers= pd.read_excel(out_path+'\\\\mapa_tickers.xlsx', sheetname='tickers')"
   ]
  },
  {
   "cell_type": "code",
   "execution_count": 19,
   "metadata": {
    "collapsed": false,
    "scrolled": true
   },
   "outputs": [],
   "source": [
    "mapa_tickers = mapa_tickers.drop(['isin', 'cusip', 'sedol', 'construct'], axis=1)"
   ]
  },
  {
   "cell_type": "code",
   "execution_count": 20,
   "metadata": {
    "collapsed": false
   },
   "outputs": [],
   "source": [
    "pb['id'] = range(0, len(pb))"
   ]
  },
  {
   "cell_type": "code",
   "execution_count": 21,
   "metadata": {
    "collapsed": false,
    "scrolled": true
   },
   "outputs": [],
   "source": [
    "pb_1 = pd.merge(pb, mapa_tickers, on='ticker', how='left').drop_duplicates()"
   ]
  },
  {
   "cell_type": "code",
   "execution_count": 22,
   "metadata": {
    "collapsed": false,
    "scrolled": true
   },
   "outputs": [],
   "source": [
    "# Isso aqui tem que ser zero para estar tudo ok!\n",
    "check_1 = pb_1[~pb_1['id'].isin(pb['id'])].shape[0]+pb[~pb['id'].isin(pb_1['id'])].shape[0]\n",
    "if check_1 == 0:\n",
    "    pb = pb_1.drop(['ticker', 'isin','cusip','sedol','id'], axis=1)[['conta', 'pb', 'data_ref','ticker_calypso', 'currency',\n",
    "                                                                    'qt', 'accrual', 'month','year']].rename(columns={\n",
    "        'ticker_calypso':'ticker'\n",
    "    })\n",
    "else:\n",
    "    print('Houve algum problema na hora do mapeamento! será necessário fazer ajustes')"
   ]
  },
  {
   "cell_type": "code",
   "execution_count": null,
   "metadata": {
    "collapsed": true
   },
   "outputs": [],
   "source": []
  },
  {
   "cell_type": "markdown",
   "metadata": {},
   "source": [
    "# Batimento mensal"
   ]
  },
  {
   "cell_type": "markdown",
   "metadata": {},
   "source": [
    "#### Bate os arquivos do calypso contra o pb para ver se todos os que estão no calypso estão no pb"
   ]
  },
  {
   "cell_type": "code",
   "execution_count": 23,
   "metadata": {
    "collapsed": false
   },
   "outputs": [],
   "source": [
    "calypso_month = calypso.drop(['book', 'isin', 'cusip', 'month', 'year'], axis=1).reset_index(drop=True).copy()\n",
    "pb_month = pb.drop(['month', 'year'], axis=1).reset_index(drop=True).copy()\n",
    "pb_month['acc'] = pb_month['conta'].map(dict_contas)"
   ]
  },
  {
   "cell_type": "code",
   "execution_count": 24,
   "metadata": {
    "collapsed": false,
    "scrolled": true
   },
   "outputs": [],
   "source": [
    "dias_calypso = calypso_month[['acc', 'data_ref']].copy()\n",
    "dias_calypso['tipo'] = 'calypso'\n",
    "dias_pb = pb_month[['acc', 'data_ref']].copy()\n",
    "dias_pb['tipo'] = 'pb'\n",
    "dias_ok = pd.concat([dias_calypso, dias_pb], axis=0)\n",
    "dias_ok['check'] = 1\n",
    "pvt = pd.pivot_table(dias_ok, values=['check'],\n",
    "                     index='data_ref', columns=['tipo','acc'])"
   ]
  },
  {
   "cell_type": "code",
   "execution_count": 25,
   "metadata": {
    "collapsed": false,
    "scrolled": true
   },
   "outputs": [],
   "source": [
    "if pvt.shape!=pvt.dropna().shape:\n",
    "    print('Nem todos os arquivos estão disponíveis!')\n",
    "    print(pvt)\n",
    "    raise error"
   ]
  },
  {
   "cell_type": "code",
   "execution_count": null,
   "metadata": {
    "collapsed": true
   },
   "outputs": [],
   "source": []
  },
  {
   "cell_type": "code",
   "execution_count": null,
   "metadata": {
    "collapsed": true
   },
   "outputs": [],
   "source": []
  },
  {
   "cell_type": "code",
   "execution_count": null,
   "metadata": {
    "collapsed": true
   },
   "outputs": [],
   "source": []
  },
  {
   "cell_type": "code",
   "execution_count": 26,
   "metadata": {
    "collapsed": true
   },
   "outputs": [],
   "source": [
    "#Agrupa as informações que estão no calypso eliminando books. Junta em conta_pb, agent, data_ref, ticker e currency\n",
    "calypso_batimento = calypso_month.groupby(by=['conta_pb','agent','data_ref','ticker','currency']).sum().copy().reset_index()\n",
    "calypso_batimento['acc'] = calypso_batimento['conta_pb'].map(dict_contas)\n",
    "calypso_batimento = calypso_batimento[calypso_batimento['quantidade']<0].reset_index(drop=True)\n",
    "calypso_batimento = calypso_batimento.groupby(by=['acc','data_ref', 'ticker','currency']).sum().reset_index()  \n",
    "#é somente um indice para poder checar quais informações do calypso não passaram pelo filtro da PB\n",
    "calypso_batimento['id'] = range(1, calypso_batimento.shape[0] +1)\n",
    "pb_month = pb_month.groupby(by=['acc','data_ref','ticker','currency']).sum().reset_index()"
   ]
  },
  {
   "cell_type": "code",
   "execution_count": null,
   "metadata": {
    "collapsed": true
   },
   "outputs": [],
   "source": []
  },
  {
   "cell_type": "code",
   "execution_count": 27,
   "metadata": {
    "collapsed": true
   },
   "outputs": [],
   "source": [
    "calypso_bate_pb = pd.merge(pb_month, calypso_batimento, on=['acc','data_ref','ticker','currency'],  how='left')"
   ]
  },
  {
   "cell_type": "code",
   "execution_count": 28,
   "metadata": {
    "collapsed": false,
    "scrolled": true
   },
   "outputs": [
    {
     "name": "stdout",
     "output_type": "stream",
     "text": [
      "Abaixo estão os tickers que não acharam correspondência no PB (in calypso not in PB)\n"
     ]
    },
    {
     "data": {
      "text/plain": [
       "168          CNE CN\n",
       "2174         BAK US\n",
       "3698       BSMXB MM\n",
       "3774      FUNO11 MM\n",
       "3889    CEMEXCPO MM\n",
       "4196        AMCX US\n",
       "4234        ITCB US\n",
       "4269         BCH US\n",
       "4287        FIZZ US\n",
       "4366          HD US\n",
       "4453        NFLX US\n",
       "4483         CCU US\n",
       "4519         LTM US\n",
       "4575        GRAM US\n",
       "4624         BVN US\n",
       "4686        AMXL MM\n",
       "4919         CLX US\n",
       "5091         HSY US\n",
       "Name: ticker, dtype: object"
      ]
     },
     "execution_count": 28,
     "metadata": {},
     "output_type": "execute_result"
    }
   ],
   "source": [
    "print('Abaixo estão os tickers que não acharam correspondência no PB (in calypso not in PB)')\n",
    "calypso_bate_pb[calypso_bate_pb['quantidade'].isnull()==True].ticker.drop_duplicates()"
   ]
  },
  {
   "cell_type": "code",
   "execution_count": null,
   "metadata": {
    "collapsed": true
   },
   "outputs": [],
   "source": []
  },
  {
   "cell_type": "code",
   "execution_count": 29,
   "metadata": {
    "collapsed": false
   },
   "outputs": [],
   "source": [
    "check_2 = calypso_bate_pb.shape[0]-pb_month.shape[0]\n",
    "if check_2!=0:\n",
    "    print ('%s linhas foram duplicadas durante o merge. Favor verificar se houve algo de errado' %check_2)"
   ]
  },
  {
   "cell_type": "code",
   "execution_count": null,
   "metadata": {
    "collapsed": true
   },
   "outputs": [],
   "source": []
  },
  {
   "cell_type": "code",
   "execution_count": 30,
   "metadata": {
    "collapsed": false,
    "scrolled": true
   },
   "outputs": [],
   "source": [
    "# Sobra de destino são os tickers que estavam no pb, mas não tinham correspondência no Calypso\n",
    "sobra_destino = calypso_bate_pb[(calypso_bate_pb['quantidade'].isnull()==True)&(calypso_bate_pb['accrual']!=0)]"
   ]
  },
  {
   "cell_type": "code",
   "execution_count": 31,
   "metadata": {
    "collapsed": true
   },
   "outputs": [],
   "source": [
    "calypso_bate_pb = calypso_bate_pb[calypso_bate_pb['quantidade'].isnull()==False]"
   ]
  },
  {
   "cell_type": "code",
   "execution_count": 32,
   "metadata": {
    "collapsed": true
   },
   "outputs": [],
   "source": [
    "# Sobra de origem são os tickers que estavam no Calypso, mas não tinham correspondência no pb\n",
    "sobra_origem = calypso_batimento[~calypso_batimento['id'].isin(calypso_bate_pb['id'].dropna().drop_duplicates())]"
   ]
  },
  {
   "cell_type": "code",
   "execution_count": 33,
   "metadata": {
    "collapsed": false
   },
   "outputs": [
    {
     "name": "stdout",
     "output_type": "stream",
     "text": [
      "0.6150297905054776 pct dos trades estão no prime broker, mas não acharam correspondência no Calypso\n",
      "0.4983057604145904 pct dos trades foram achados no calypso, mas não têm correspondência no prime broker\n"
     ]
    }
   ],
   "source": [
    "pct_in_pb_not_in_calypso = (sobra_destino.shape[0]/pb_month.shape[0])*100\n",
    "pct_in_calypso_not_in_pb= (sobra_origem.shape[0]/calypso_batimento.shape[0])*100 \n",
    "texto_1 = '%s pct dos trades estão no prime broker, mas não acharam correspondência no Calypso' % pct_in_pb_not_in_calypso\n",
    "texto_2 = '%s pct dos trades foram achados no calypso, mas não têm correspondência no prime broker' % pct_in_calypso_not_in_pb\n",
    "\n",
    "print (texto_1)\n",
    "print(texto_2)"
   ]
  },
  {
   "cell_type": "code",
   "execution_count": null,
   "metadata": {
    "collapsed": true
   },
   "outputs": [],
   "source": []
  },
  {
   "cell_type": "code",
   "execution_count": null,
   "metadata": {
    "collapsed": true
   },
   "outputs": [],
   "source": []
  },
  {
   "cell_type": "code",
   "execution_count": null,
   "metadata": {
    "collapsed": true
   },
   "outputs": [],
   "source": []
  },
  {
   "cell_type": "code",
   "execution_count": 34,
   "metadata": {
    "collapsed": false
   },
   "outputs": [],
   "source": [
    "batido = calypso_bate_pb[calypso_bate_pb['qt']==calypso_bate_pb['quantidade']].copy()\n",
    "batido['status']='batido'\n",
    "divergentes = calypso_bate_pb[calypso_bate_pb['qt']!=calypso_bate_pb['quantidade']].copy()\n",
    "corrigidos = divergentes[((divergentes['ticker'].isin(ticker_diffs['stock']))&(divergentes['acc']!='ubs_cayman'))].copy()\n",
    "corrigidos['status'] = 'corrigido'\n",
    "n_batidos = divergentes[~((divergentes['ticker'].isin(ticker_diffs['stock']))&(divergentes['acc']!='ubs_cayman'))].copy()\n",
    "n_batidos['status']='n_batido'\n",
    "distribuidos = pd.concat([batido, corrigidos, n_batidos], axis=0)"
   ]
  },
  {
   "cell_type": "code",
   "execution_count": null,
   "metadata": {
    "collapsed": true
   },
   "outputs": [],
   "source": []
  },
  {
   "cell_type": "code",
   "execution_count": 35,
   "metadata": {
    "collapsed": true
   },
   "outputs": [],
   "source": [
    "writer_2 = pd.ExcelWriter(out_path+'\\\\distribuicao_intermediaria_por_quantidade.xlsx')"
   ]
  },
  {
   "cell_type": "code",
   "execution_count": 36,
   "metadata": {
    "collapsed": true
   },
   "outputs": [],
   "source": [
    "batido.to_excel(writer_2, sheet_name='trades_batidos', index=False)\n",
    "divergentes.to_excel(writer_2, sheet_name='trades_divergentes', index=False)\n",
    "corrigidos.to_excel(writer_2, sheet_name='trades_corrigidos', index=False)\n",
    "n_batidos.to_excel(writer_2, sheet_name='trades_n_batidos', index=False)\n",
    "distribuidos.to_excel(writer_2, sheet_name='trades_distribuidos', index=False)\n",
    "writer_2.save()"
   ]
  },
  {
   "cell_type": "code",
   "execution_count": null,
   "metadata": {
    "collapsed": true
   },
   "outputs": [],
   "source": []
  },
  {
   "cell_type": "markdown",
   "metadata": {},
   "source": [
    "##### Fazer qualquer alteração necessária na planilha entre esses dois códigos!!"
   ]
  },
  {
   "cell_type": "code",
   "execution_count": null,
   "metadata": {
    "collapsed": true
   },
   "outputs": [],
   "source": []
  },
  {
   "cell_type": "code",
   "execution_count": 37,
   "metadata": {
    "collapsed": false
   },
   "outputs": [],
   "source": [
    "batido= pd.read_excel(out_path+'\\\\distribuicao_intermediaria_por_quantidade.xlsx', sheetname='trades_batidos')\n",
    "divergentes= pd.read_excel(out_path+'\\\\distribuicao_intermediaria_por_quantidade.xlsx', sheetname='trades_divergentes')\n",
    "corrigidos= pd.read_excel(out_path+'\\\\distribuicao_intermediaria_por_quantidade.xlsx', sheetname='trades_corrigidos')\n",
    "n_batidos= pd.read_excel(out_path+'\\\\distribuicao_intermediaria_por_quantidade.xlsx', sheetname='trades_n_batidos')\n",
    "distribuidos= pd.read_excel(out_path+'\\\\distribuicao_intermediaria_por_quantidade.xlsx', sheetname='trades_distribuidos')"
   ]
  },
  {
   "cell_type": "code",
   "execution_count": null,
   "metadata": {
    "collapsed": true
   },
   "outputs": [],
   "source": []
  },
  {
   "cell_type": "code",
   "execution_count": null,
   "metadata": {
    "collapsed": true
   },
   "outputs": [],
   "source": []
  },
  {
   "cell_type": "markdown",
   "metadata": {},
   "source": [
    "### Distribuição por books"
   ]
  },
  {
   "cell_type": "code",
   "execution_count": 38,
   "metadata": {
    "collapsed": false
   },
   "outputs": [],
   "source": [
    "calypso_month_books = calypso.copy()"
   ]
  },
  {
   "cell_type": "code",
   "execution_count": 39,
   "metadata": {
    "collapsed": true
   },
   "outputs": [],
   "source": [
    "calypso_month_books = pd.merge(calypso_month_books, calypso_batimento.drop('id', axis=1), \\\n",
    "                               on=['acc','data_ref','ticker','currency'], how='left').rename(columns={\n",
    "    'quantidade_x':'quantidade_book',\n",
    "    'quantidade_y':'quantidade_ticker'\n",
    "})"
   ]
  },
  {
   "cell_type": "code",
   "execution_count": 40,
   "metadata": {
    "collapsed": false
   },
   "outputs": [],
   "source": [
    "check_3 = calypso_month_books.shape[0]-calypso.shape[0]\n",
    "if check_3 != 0:\n",
    "    print ('%s linhas foram adicionadas durante o merge. Favor verificar quais erros aconteceram.' %check_3)"
   ]
  },
  {
   "cell_type": "code",
   "execution_count": 41,
   "metadata": {
    "collapsed": true
   },
   "outputs": [],
   "source": [
    "calypso_month_books = calypso_month_books[calypso_month_books['quantidade_ticker'].isnull()==False]"
   ]
  },
  {
   "cell_type": "code",
   "execution_count": 42,
   "metadata": {
    "collapsed": false
   },
   "outputs": [],
   "source": [
    "check_4 = calypso_month_books.shape[0]-calypso.shape[0]\n",
    "if check_4 != 0 :\n",
    "    print ('%s trades foram perdidos durante o merge. Favor ferificar quais erros aconteceram.' %check_4)"
   ]
  },
  {
   "cell_type": "code",
   "execution_count": 43,
   "metadata": {
    "collapsed": true
   },
   "outputs": [],
   "source": [
    "# Aqui a gente está adicionando a coluna de Accrual pros trades do calyspo\n",
    "calypso_month_books = pd.merge(calypso_month_books, distribuidos, on=['acc','data_ref','ticker','currency'], how='left')\n",
    "calypso_month_books = calypso_month_books[calypso_month_books['accrual'].isnull()==False]"
   ]
  },
  {
   "cell_type": "code",
   "execution_count": 44,
   "metadata": {
    "collapsed": false,
    "scrolled": false
   },
   "outputs": [
    {
     "name": "stdout",
     "output_type": "stream",
     "text": [
      "-117 trades não foram encontrados durante a distribuição. Eles provavelmente não foram batidos.\n"
     ]
    }
   ],
   "source": [
    "check_5 = calypso_month_books.shape[0]-calypso.shape[0]\n",
    "print ('%s trades não foram encontrados durante a distribuição. Eles provavelmente não foram batidos.' %check_5)"
   ]
  },
  {
   "cell_type": "code",
   "execution_count": 45,
   "metadata": {
    "collapsed": false
   },
   "outputs": [
    {
     "name": "stdout",
     "output_type": "stream",
     "text": [
      "117 linhas foram retiradas da base por terem quantidade zerada. Ainda restam 7157 linhas de operações.\n",
      "Ajustes na base do calypso estão prontos. Dados estão prontos para serem distribuídos entre os books.\n"
     ]
    }
   ],
   "source": [
    "calypso_month_books = calypso_month_books[calypso_month_books['quantidade_book']!=0]\n",
    "check_6 = calypso.shape[0]-calypso_month_books.shape[0]\n",
    "print ('''%s linhas foram retiradas da base por terem quantidade zerada. Ainda restam %s linhas de operações.\n",
    "Ajustes na base do calypso estão prontos. Dados estão prontos para serem distribuídos entre os books.''' \\\n",
    "                                                                       %(check_6, calypso_month_books.shape[0]))"
   ]
  },
  {
   "cell_type": "code",
   "execution_count": 46,
   "metadata": {
    "collapsed": true
   },
   "outputs": [],
   "source": [
    "por_conta = calypso_month_books.groupby(by=['conta_pb','data_ref','ticker','currency']).sum().reset_index()"
   ]
  },
  {
   "cell_type": "code",
   "execution_count": null,
   "metadata": {
    "collapsed": true
   },
   "outputs": [],
   "source": []
  },
  {
   "cell_type": "code",
   "execution_count": 47,
   "metadata": {
    "collapsed": false,
    "scrolled": true
   },
   "outputs": [],
   "source": [
    "# Juntando a quantidade por sub_account do pb para poder dropar as contas positivas (que estão net doadas)\n",
    "calypso_month_books = pd.merge(calypso_month_books, por_conta.drop(['year', 'qt', 'accrual',\\\n",
    "                                                                   'quantidade', 'id', 'quantidade_ticker'], axis=1), \\\n",
    "                                                       on=['conta_pb','data_ref','ticker','currency'], how='left')\\\n",
    ".rename(columns={\n",
    "    'quantidade_book_x':'quantidade_book',\n",
    "    'quantidade_book_y':'quantidade_conta_pb'\n",
    "})"
   ]
  },
  {
   "cell_type": "code",
   "execution_count": 48,
   "metadata": {
    "collapsed": true
   },
   "outputs": [],
   "source": [
    "calypso_month_books = calypso_month_books[calypso_month_books['quantidade_conta_pb']<0]"
   ]
  },
  {
   "cell_type": "code",
   "execution_count": 49,
   "metadata": {
    "collapsed": false
   },
   "outputs": [
    {
     "name": "stdout",
     "output_type": "stream",
     "text": [
      "Foram feitos os casamentos de trade por sub_account\n"
     ]
    }
   ],
   "source": [
    "calypso_month_books = calypso_month_books[calypso_month_books['accrual'].isnull()==False]\n",
    "print ('Foram feitos os casamentos de trade por sub_account')"
   ]
  },
  {
   "cell_type": "code",
   "execution_count": 50,
   "metadata": {
    "collapsed": false
   },
   "outputs": [],
   "source": [
    "abertura = calypso_month_books[calypso_month_books['id'].isin(distribuidos['id'].drop_duplicates())==True]\n",
    "trades_out_abertura = calypso_month_books[calypso_month_books['id'].isin(distribuidos['id'].drop_duplicates())==False]\n",
    "if trades_out_abertura.shape[0]!=0:\n",
    "    print('ATENÇãO!!! %s trades foram encontrados em ambas as bases, porém não foram distribuídos.'%trades_out_abertura.shape[0])"
   ]
  },
  {
   "cell_type": "code",
   "execution_count": 51,
   "metadata": {
    "collapsed": false
   },
   "outputs": [],
   "source": [
    "abertura = abertura.drop(['isin', 'cusip','month', 'year', 'quantidade', 'id'], axis=1)"
   ]
  },
  {
   "cell_type": "code",
   "execution_count": 52,
   "metadata": {
    "collapsed": false
   },
   "outputs": [],
   "source": [
    "abertura['percent'] = abertura['quantidade_book']/abertura['quantidade_ticker']"
   ]
  },
  {
   "cell_type": "code",
   "execution_count": 53,
   "metadata": {
    "collapsed": false
   },
   "outputs": [],
   "source": [
    "check_7 = abertura.groupby(by=['acc','data_ref','ticker','currency']).sum().reset_index()\n",
    "check_7 = check_7[np.isclose(check_7['percent'], 1)==False].shape[0]\n",
    "if check_7 != 0:\n",
    "    print ('O batimento não foi feito!!! %s contas somam valor diferente a 100\\%')"
   ]
  },
  {
   "cell_type": "code",
   "execution_count": 54,
   "metadata": {
    "collapsed": false
   },
   "outputs": [],
   "source": [
    "abertura['accrual_final'] = abertura['percent']*abertura['accrual']"
   ]
  },
  {
   "cell_type": "code",
   "execution_count": null,
   "metadata": {
    "collapsed": true
   },
   "outputs": [],
   "source": []
  },
  {
   "cell_type": "code",
   "execution_count": 55,
   "metadata": {
    "collapsed": false
   },
   "outputs": [],
   "source": [
    "abertura = abertura.drop(['conta_pb', 'quantidade_ticker', 'qt', 'accrual','quantidade_conta_pb', \n",
    "                          'percent'], axis=1).reset_index(drop=True)"
   ]
  },
  {
   "cell_type": "code",
   "execution_count": null,
   "metadata": {
    "collapsed": true
   },
   "outputs": [],
   "source": []
  },
  {
   "cell_type": "code",
   "execution_count": 56,
   "metadata": {
    "collapsed": true
   },
   "outputs": [],
   "source": [
    "# Tickers que estão batidos ou que foram corrigidos. Todos distribuídos\n",
    "abertura_batidos = abertura[abertura['status']!='n_batido'].reset_index(drop=True)\n",
    "# Tickers que NÃO ESTÃO BATIDOS EM QUANTIDADE, mas que foram distribuídos, pois foram encontrados em ambas as bases\n",
    "abertura_n_batidos = abertura[abertura['status']=='n_batido'].reset_index(drop=True)"
   ]
  },
  {
   "cell_type": "code",
   "execution_count": null,
   "metadata": {
    "collapsed": true
   },
   "outputs": [],
   "source": []
  },
  {
   "cell_type": "code",
   "execution_count": 57,
   "metadata": {
    "collapsed": true
   },
   "outputs": [],
   "source": [
    "bate_soma = abertura.groupby(by=['acc', 'currency']).sum().reset_index()\n",
    "bate_soma_pb = pb_month.groupby(by=['acc', 'currency']).sum().reset_index()"
   ]
  },
  {
   "cell_type": "code",
   "execution_count": 58,
   "metadata": {
    "collapsed": false,
    "scrolled": true
   },
   "outputs": [],
   "source": [
    "check_8 = pd.merge(bate_soma_pb, bate_soma, on=['acc', 'currency'], how='left').rename(columns={\n",
    "'qt':'quantidade_pb',\n",
    "'accrual':'custos_pb',\n",
    "'quantidade_book':'quantidade_calypso',\n",
    "'accrual_final':'custos_batidos'\n",
    "})\n",
    "check_8['bate_qt'] = check_8['quantidade_pb']-check_8['quantidade_calypso']\n",
    "check_8['bate_custos'] = check_8['custos_pb']-check_8['custos_batidos']\n",
    "check_8['bate_custos_pct'] = check_8['custos_pb']/check_8['custos_batidos']\n",
    "check_8 = check_8[['acc', 'currency', 'quantidade_pb', 'quantidade_calypso', 'bate_qt', 'custos_pb', 'custos_batidos',\n",
    "      'bate_custos', 'bate_custos_pct']]   "
   ]
  },
  {
   "cell_type": "code",
   "execution_count": 59,
   "metadata": {
    "collapsed": false,
    "scrolled": true
   },
   "outputs": [],
   "source": [
    "check_9 = check_8[(check_8['bate_custos_pct']<0.95)|(check_8['bate_custos_pct']>1.05)].shape[0]\n",
    "if check_9!=0:\n",
    "    print('%s contas tiveram diferença maior do que 5pct do valor do prime broker' %check_9)"
   ]
  },
  {
   "cell_type": "code",
   "execution_count": 60,
   "metadata": {
    "collapsed": false
   },
   "outputs": [
    {
     "data": {
      "text/html": [
       "<div>\n",
       "<table border=\"1\" class=\"dataframe\">\n",
       "  <thead>\n",
       "    <tr style=\"text-align: right;\">\n",
       "      <th></th>\n",
       "      <th>acc</th>\n",
       "      <th>currency</th>\n",
       "      <th>custos_pb</th>\n",
       "      <th>custos_batidos</th>\n",
       "      <th>bate_custos</th>\n",
       "      <th>bate_custos_pct</th>\n",
       "    </tr>\n",
       "  </thead>\n",
       "  <tbody>\n",
       "    <tr>\n",
       "      <th>0</th>\n",
       "      <td>int_c</td>\n",
       "      <td>AUD</td>\n",
       "      <td>-3356.20</td>\n",
       "      <td>-3356.20</td>\n",
       "      <td>-9.094947e-13</td>\n",
       "      <td>1.000000</td>\n",
       "    </tr>\n",
       "    <tr>\n",
       "      <th>1</th>\n",
       "      <td>int_c</td>\n",
       "      <td>USD</td>\n",
       "      <td>-387.40</td>\n",
       "      <td>-387.40</td>\n",
       "      <td>-1.136868e-13</td>\n",
       "      <td>1.000000</td>\n",
       "    </tr>\n",
       "    <tr>\n",
       "      <th>2</th>\n",
       "      <td>ms_cayman</td>\n",
       "      <td>MXN</td>\n",
       "      <td>-721855.03</td>\n",
       "      <td>-721855.03</td>\n",
       "      <td>5.820766e-10</td>\n",
       "      <td>1.000000</td>\n",
       "    </tr>\n",
       "    <tr>\n",
       "      <th>3</th>\n",
       "      <td>ms_cayman</td>\n",
       "      <td>USD</td>\n",
       "      <td>-122973.05</td>\n",
       "      <td>-122356.98</td>\n",
       "      <td>-6.160700e+02</td>\n",
       "      <td>1.005035</td>\n",
       "    </tr>\n",
       "    <tr>\n",
       "      <th>4</th>\n",
       "      <td>ubs_cayman</td>\n",
       "      <td>MXN</td>\n",
       "      <td>-583686.38</td>\n",
       "      <td>-580144.39</td>\n",
       "      <td>-3.541990e+03</td>\n",
       "      <td>1.006105</td>\n",
       "    </tr>\n",
       "    <tr>\n",
       "      <th>5</th>\n",
       "      <td>ubs_cayman</td>\n",
       "      <td>USD</td>\n",
       "      <td>115916.74</td>\n",
       "      <td>115919.91</td>\n",
       "      <td>-3.170000e+00</td>\n",
       "      <td>0.999973</td>\n",
       "    </tr>\n",
       "  </tbody>\n",
       "</table>\n",
       "</div>"
      ],
      "text/plain": [
       "          acc currency  custos_pb  custos_batidos   bate_custos  \\\n",
       "0       int_c      AUD   -3356.20        -3356.20 -9.094947e-13   \n",
       "1       int_c      USD    -387.40         -387.40 -1.136868e-13   \n",
       "2   ms_cayman      MXN -721855.03      -721855.03  5.820766e-10   \n",
       "3   ms_cayman      USD -122973.05      -122356.98 -6.160700e+02   \n",
       "4  ubs_cayman      MXN -583686.38      -580144.39 -3.541990e+03   \n",
       "5  ubs_cayman      USD  115916.74       115919.91 -3.170000e+00   \n",
       "\n",
       "   bate_custos_pct  \n",
       "0         1.000000  \n",
       "1         1.000000  \n",
       "2         1.000000  \n",
       "3         1.005035  \n",
       "4         1.006105  \n",
       "5         0.999973  "
      ]
     },
     "execution_count": 60,
     "metadata": {},
     "output_type": "execute_result"
    }
   ],
   "source": [
    "check_8.drop(['quantidade_pb','quantidade_calypso','bate_qt'],axis=1)"
   ]
  },
  {
   "cell_type": "code",
   "execution_count": 61,
   "metadata": {
    "collapsed": false
   },
   "outputs": [],
   "source": [
    "abertura_consol = abertura.groupby(by=['acc', 'book', 'currency']).sum().reset_index().drop('quantidade_book', axis=1)"
   ]
  },
  {
   "cell_type": "code",
   "execution_count": null,
   "metadata": {
    "collapsed": true
   },
   "outputs": [],
   "source": []
  },
  {
   "cell_type": "code",
   "execution_count": 62,
   "metadata": {
    "collapsed": false
   },
   "outputs": [],
   "source": [
    "writer_3 = pd.ExcelWriter(out_path+'\\\\abertura_asset.xlsx')"
   ]
  },
  {
   "cell_type": "code",
   "execution_count": 63,
   "metadata": {
    "collapsed": true
   },
   "outputs": [],
   "source": [
    "abertura.to_excel(writer_3, sheet_name='abertura', index=False)\n",
    "abertura_batidos.to_excel(writer_3, sheet_name='abertura_batidos', index=False)\n",
    "abertura_n_batidos.to_excel(writer_3, sheet_name='abertura_n_batidos', index=False)\n",
    "check_8.to_excel(writer_3, sheet_name='check', index=False)\n",
    "writer_3.save()"
   ]
  },
  {
   "cell_type": "code",
   "execution_count": null,
   "metadata": {
    "collapsed": true
   },
   "outputs": [],
   "source": []
  },
  {
   "cell_type": "code",
   "execution_count": null,
   "metadata": {
    "collapsed": true
   },
   "outputs": [],
   "source": []
  },
  {
   "cell_type": "markdown",
   "metadata": {},
   "source": [
    "# Abertura WM NEW"
   ]
  },
  {
   "cell_type": "code",
   "execution_count": 64,
   "metadata": {
    "collapsed": true
   },
   "outputs": [],
   "source": [
    "pb_wm = abertura[(abertura['book'].str.contains('PRIVATE'))\\\n",
    "                 |(abertura['book'].str.contains('CLIENT'))].copy()"
   ]
  },
  {
   "cell_type": "code",
   "execution_count": null,
   "metadata": {
    "collapsed": true
   },
   "outputs": [],
   "source": []
  },
  {
   "cell_type": "code",
   "execution_count": 65,
   "metadata": {
    "collapsed": true
   },
   "outputs": [],
   "source": [
    "pras_ajuste = pras.copy()\n",
    "pras_ajuste.loc[:,'Book']= np.where(pras.loc[:,'Book']=='PRIVATE_DEFAULT_PLEDGE_UBS','PRIVATE_DEFAULT_UBS',pras.loc[:,'Book'])\n",
    "calypso_pras_wm = pras_ajuste[(pras_ajuste['Book']=='PRIVATE_DEFAULT_UBS')\\\n",
    "                 |(pras_ajuste['Book']=='BD_CLIENTS_UBS')].copy()"
   ]
  },
  {
   "cell_type": "code",
   "execution_count": 66,
   "metadata": {
    "collapsed": true
   },
   "outputs": [],
   "source": [
    "calypso_pras_wm.columns = ['bd','account_id','account_name','book_full_name','ticker','prd_description','book','shares',\n",
    "                        'product_type','attributes_asset','attributes_book','mov_type', 'posi_type','product_id','traded_ccy',\n",
    "                        'sedol_id','country','account','agent','agg_type', 'balance','actual_balance','parent_balance',\n",
    "                        'usable_balance','exchange','status','cusip','trading_size','name','isin','sedol','currency','date',\n",
    "                        'tipo']"
   ]
  },
  {
   "cell_type": "code",
   "execution_count": 67,
   "metadata": {
    "collapsed": true
   },
   "outputs": [],
   "source": [
    "calypso_pras_wm = calypso_pras_wm[['date','book_full_name','book','ticker','shares',\n",
    "                             'account','cusip','isin','sedol','currency','tipo']]\n",
    "pras_book_wm = pras.copy()"
   ]
  },
  {
   "cell_type": "code",
   "execution_count": 68,
   "metadata": {
    "collapsed": false
   },
   "outputs": [],
   "source": [
    "calypso_pras_wm['date'] = pd.to_datetime(calypso_pras_wm['date'])\n",
    "calypso_pras_wm['shares'] = calypso_pras_wm['shares'].replace(',','', regex=True)\n",
    "calypso_pras_wm['shares'] = calypso_pras_wm['shares'].astype(float)\n",
    "\n",
    "\n",
    "pras_book_wm['date'] = pd.to_datetime(pras_book_wm['date'])\n",
    "pras_book_wm['shares'] = pras_book_wm['shares'].replace(',','', regex=True)\n",
    "pras_book_wm['shares'] = pras_book_wm['shares'].astype(float)"
   ]
  },
  {
   "cell_type": "code",
   "execution_count": 69,
   "metadata": {
    "collapsed": true
   },
   "outputs": [],
   "source": [
    "calypso_pras_wm = calypso_pras_wm[calypso_pras_wm['shares']!=0].reset_index(drop=True)"
   ]
  },
  {
   "cell_type": "code",
   "execution_count": null,
   "metadata": {
    "collapsed": true
   },
   "outputs": [],
   "source": []
  },
  {
   "cell_type": "code",
   "execution_count": 70,
   "metadata": {
    "collapsed": false,
    "scrolled": true
   },
   "outputs": [
    {
     "data": {
      "text/html": [
       "<div>\n",
       "<table border=\"1\" class=\"dataframe\">\n",
       "  <thead>\n",
       "    <tr style=\"text-align: right;\">\n",
       "      <th></th>\n",
       "      <th>date</th>\n",
       "      <th>ticker</th>\n",
       "      <th>shares</th>\n",
       "    </tr>\n",
       "  </thead>\n",
       "  <tbody>\n",
       "  </tbody>\n",
       "</table>\n",
       "</div>"
      ],
      "text/plain": [
       "Empty DataFrame\n",
       "Columns: [date, ticker, shares]\n",
       "Index: []"
      ]
     },
     "execution_count": 70,
     "metadata": {},
     "output_type": "execute_result"
    }
   ],
   "source": [
    "check_1 = calypso_pras_wm.groupby(by=['date','ticker']).sum().reset_index()\n",
    "if check_1[check_1['shares']!=0].shape[0]!=0:\n",
    "    print('Alguns trades de WM não zeram! Eles serão descartados!!')\n",
    "check_1[check_1['shares']!=0]"
   ]
  },
  {
   "cell_type": "code",
   "execution_count": 71,
   "metadata": {
    "collapsed": true
   },
   "outputs": [],
   "source": [
    "calypso_pras_wm_grouped = calypso_pras_wm.groupby(by=['date','book','ticker']).sum().reset_index()\n",
    "calypso_pras_wm = pd.merge(calypso_pras_wm,calypso_pras_wm_grouped, on=['date','book','ticker'], how='left')\n",
    "calypso_pras_wm = calypso_pras_wm[calypso_pras_wm['shares_y']==0].drop(['shares_y'], axis=1).rename(columns={\n",
    "    'shares_x':'shares'\n",
    "}).reset_index(drop=True)"
   ]
  },
  {
   "cell_type": "code",
   "execution_count": null,
   "metadata": {
    "collapsed": true
   },
   "outputs": [],
   "source": []
  },
  {
   "cell_type": "code",
   "execution_count": 72,
   "metadata": {
    "collapsed": true
   },
   "outputs": [],
   "source": [
    "calypso_pras_wm_trade = calypso_pras_wm[calypso_pras_wm['book_full_name'].isnull()==True].copy()"
   ]
  },
  {
   "cell_type": "code",
   "execution_count": 73,
   "metadata": {
    "collapsed": true
   },
   "outputs": [],
   "source": [
    "calypso_pras_wm_book = calypso_pras_wm[calypso_pras_wm['book_full_name'].isnull()==False].copy()"
   ]
  },
  {
   "cell_type": "code",
   "execution_count": null,
   "metadata": {
    "collapsed": true
   },
   "outputs": [],
   "source": []
  },
  {
   "cell_type": "code",
   "execution_count": 74,
   "metadata": {
    "collapsed": false
   },
   "outputs": [],
   "source": [
    "###\n",
    "calypso_pras_wm_trade = calypso_pras_wm_trade[calypso_pras_wm_trade['shares']<0]"
   ]
  },
  {
   "cell_type": "code",
   "execution_count": 75,
   "metadata": {
    "collapsed": false
   },
   "outputs": [],
   "source": [
    "calypso_pras_wm_trade.loc[:,'shares'] = -1*calypso_pras_wm_trade.loc[:,'shares']"
   ]
  },
  {
   "cell_type": "code",
   "execution_count": 76,
   "metadata": {
    "collapsed": true
   },
   "outputs": [],
   "source": [
    "calypso_batimento_wm = calypso_pras_wm_book.reset_index(drop=True).copy()"
   ]
  },
  {
   "cell_type": "code",
   "execution_count": 77,
   "metadata": {
    "collapsed": false
   },
   "outputs": [],
   "source": [
    "###\n",
    "calypso_batimento_wm = pd.merge(calypso_batimento_wm, calypso_pras_wm_trade, on=['date','book','ticker',\n",
    "                                                                                 'currency','shares'], how='left')"
   ]
  },
  {
   "cell_type": "code",
   "execution_count": 78,
   "metadata": {
    "collapsed": true
   },
   "outputs": [],
   "source": [
    "calypso_batimento_wm = calypso_batimento_wm[calypso_batimento_wm['account_y'].isnull()==False]"
   ]
  },
  {
   "cell_type": "code",
   "execution_count": 79,
   "metadata": {
    "collapsed": false
   },
   "outputs": [],
   "source": [
    "calypso_batimento_wm = calypso_batimento_wm[calypso_batimento_wm['account_y'].isnull()==False]\\\n",
    "                    .drop(calypso_batimento_wm.columns[-6:], axis=1).rename(columns={\n",
    "                        'book_full_name_x':'book_full_name',\n",
    "                        'account_x':'account',\n",
    "                        'cusip_x':'cusip',\n",
    "                        'isin_x':'isin',\n",
    "                        'sedol_x':'sedol',\n",
    "                        'tipo_x':'tipo',\n",
    "                    }).reset_index(drop=True)"
   ]
  },
  {
   "cell_type": "code",
   "execution_count": null,
   "metadata": {
    "collapsed": true
   },
   "outputs": [],
   "source": []
  },
  {
   "cell_type": "code",
   "execution_count": 80,
   "metadata": {
    "collapsed": true
   },
   "outputs": [],
   "source": [
    "# AQUI QUE TEM QUE ALTERAR\n",
    "calypso_batimento_wm_grouped = calypso_batimento_wm.groupby(by=['date','book','ticker']).sum().reset_index()"
   ]
  },
  {
   "cell_type": "code",
   "execution_count": 81,
   "metadata": {
    "collapsed": true
   },
   "outputs": [],
   "source": [
    "calypso_batimento_wm = pd.merge(calypso_batimento_wm, calypso_batimento_wm_grouped, on=['date','book','ticker'], how = 'left')"
   ]
  },
  {
   "cell_type": "code",
   "execution_count": 82,
   "metadata": {
    "collapsed": true
   },
   "outputs": [],
   "source": [
    "calypso_batimento_wm = calypso_batimento_wm.rename(columns={\n",
    "    'shares_x':'qt_client',\n",
    "    'shares_y':'qt_asset'\n",
    "})"
   ]
  },
  {
   "cell_type": "code",
   "execution_count": null,
   "metadata": {
    "collapsed": true
   },
   "outputs": [],
   "source": []
  },
  {
   "cell_type": "code",
   "execution_count": 83,
   "metadata": {
    "collapsed": false,
    "scrolled": true
   },
   "outputs": [],
   "source": [
    "calypso_batimento_wm = calypso_batimento_wm[calypso_batimento_wm['qt_asset']>0]"
   ]
  },
  {
   "cell_type": "code",
   "execution_count": null,
   "metadata": {
    "collapsed": true
   },
   "outputs": [],
   "source": []
  },
  {
   "cell_type": "code",
   "execution_count": 84,
   "metadata": {
    "collapsed": true
   },
   "outputs": [],
   "source": [
    "pb_wm = pb_wm.rename(columns={\n",
    "    'data_ref':'date',\n",
    "    'quantidade_book':'qt_asset'\n",
    "})"
   ]
  },
  {
   "cell_type": "code",
   "execution_count": 85,
   "metadata": {
    "collapsed": true
   },
   "outputs": [],
   "source": [
    "abertura_wm = pd.merge(pb_wm, calypso_batimento_wm, on=['date','book','ticker'], how='left')"
   ]
  },
  {
   "cell_type": "code",
   "execution_count": null,
   "metadata": {
    "collapsed": true
   },
   "outputs": [],
   "source": []
  },
  {
   "cell_type": "code",
   "execution_count": 86,
   "metadata": {
    "collapsed": false,
    "scrolled": true
   },
   "outputs": [
    {
     "name": "stdout",
     "output_type": "stream",
     "text": [
      "Nem todos os trades de WM foram redistribuídos\n"
     ]
    },
    {
     "data": {
      "text/html": [
       "<div>\n",
       "<table border=\"1\" class=\"dataframe\">\n",
       "  <thead>\n",
       "    <tr style=\"text-align: right;\">\n",
       "      <th></th>\n",
       "      <th>conta</th>\n",
       "      <th>agent</th>\n",
       "      <th>date</th>\n",
       "      <th>qt_asset_x</th>\n",
       "      <th>book</th>\n",
       "      <th>ticker</th>\n",
       "      <th>sedol_x</th>\n",
       "      <th>currency_x</th>\n",
       "      <th>acc</th>\n",
       "      <th>status</th>\n",
       "      <th>accrual_final</th>\n",
       "      <th>book_full_name</th>\n",
       "      <th>qt_client</th>\n",
       "      <th>account</th>\n",
       "      <th>cusip</th>\n",
       "      <th>isin</th>\n",
       "      <th>sedol_y</th>\n",
       "      <th>currency_y</th>\n",
       "      <th>tipo</th>\n",
       "      <th>qt_asset_y</th>\n",
       "    </tr>\n",
       "  </thead>\n",
       "  <tbody>\n",
       "    <tr>\n",
       "      <th>70</th>\n",
       "      <td>ASSET</td>\n",
       "      <td>UBS SECURITIES LLC</td>\n",
       "      <td>2018-10-09</td>\n",
       "      <td>-47412.0</td>\n",
       "      <td>BD_CLIENTS_UBS</td>\n",
       "      <td>LTM US</td>\n",
       "      <td>2518932</td>\n",
       "      <td>USD</td>\n",
       "      <td>ubs_cayman</td>\n",
       "      <td>batido</td>\n",
       "      <td>-70.33</td>\n",
       "      <td>NaN</td>\n",
       "      <td>NaN</td>\n",
       "      <td>NaN</td>\n",
       "      <td>NaN</td>\n",
       "      <td>NaN</td>\n",
       "      <td>NaN</td>\n",
       "      <td>NaN</td>\n",
       "      <td>NaN</td>\n",
       "      <td>NaN</td>\n",
       "    </tr>\n",
       "    <tr>\n",
       "      <th>161</th>\n",
       "      <td>ASSET</td>\n",
       "      <td>UBS SECURITIES LLC</td>\n",
       "      <td>2018-10-18</td>\n",
       "      <td>-15079.0</td>\n",
       "      <td>BD_CLIENTS_UBS</td>\n",
       "      <td>BAP US</td>\n",
       "      <td>2232878</td>\n",
       "      <td>USD</td>\n",
       "      <td>ubs_cayman</td>\n",
       "      <td>batido</td>\n",
       "      <td>173.26</td>\n",
       "      <td>NaN</td>\n",
       "      <td>NaN</td>\n",
       "      <td>NaN</td>\n",
       "      <td>NaN</td>\n",
       "      <td>NaN</td>\n",
       "      <td>NaN</td>\n",
       "      <td>NaN</td>\n",
       "      <td>NaN</td>\n",
       "      <td>NaN</td>\n",
       "    </tr>\n",
       "    <tr>\n",
       "      <th>183</th>\n",
       "      <td>ASSET</td>\n",
       "      <td>UBS SECURITIES LLC</td>\n",
       "      <td>2018-10-22</td>\n",
       "      <td>-15072.0</td>\n",
       "      <td>BD_CLIENTS_UBS</td>\n",
       "      <td>BAP US</td>\n",
       "      <td>2232878</td>\n",
       "      <td>USD</td>\n",
       "      <td>ubs_cayman</td>\n",
       "      <td>n_batido</td>\n",
       "      <td>171.44</td>\n",
       "      <td>NaN</td>\n",
       "      <td>NaN</td>\n",
       "      <td>NaN</td>\n",
       "      <td>NaN</td>\n",
       "      <td>NaN</td>\n",
       "      <td>NaN</td>\n",
       "      <td>NaN</td>\n",
       "      <td>NaN</td>\n",
       "      <td>NaN</td>\n",
       "    </tr>\n",
       "    <tr>\n",
       "      <th>194</th>\n",
       "      <td>ASSET</td>\n",
       "      <td>UBS SECURITIES LLC</td>\n",
       "      <td>2018-10-23</td>\n",
       "      <td>-15072.0</td>\n",
       "      <td>BD_CLIENTS_UBS</td>\n",
       "      <td>BAP US</td>\n",
       "      <td>2232878</td>\n",
       "      <td>USD</td>\n",
       "      <td>ubs_cayman</td>\n",
       "      <td>n_batido</td>\n",
       "      <td>172.04</td>\n",
       "      <td>NaN</td>\n",
       "      <td>NaN</td>\n",
       "      <td>NaN</td>\n",
       "      <td>NaN</td>\n",
       "      <td>NaN</td>\n",
       "      <td>NaN</td>\n",
       "      <td>NaN</td>\n",
       "      <td>NaN</td>\n",
       "      <td>NaN</td>\n",
       "    </tr>\n",
       "    <tr>\n",
       "      <th>206</th>\n",
       "      <td>ASSET</td>\n",
       "      <td>UBS SECURITIES LLC</td>\n",
       "      <td>2018-10-24</td>\n",
       "      <td>-18000.0</td>\n",
       "      <td>PRIVATE_DEFAULT_UBS</td>\n",
       "      <td>PAGS US</td>\n",
       "      <td>BFWK4R7</td>\n",
       "      <td>USD</td>\n",
       "      <td>ubs_cayman</td>\n",
       "      <td>batido</td>\n",
       "      <td>27.96</td>\n",
       "      <td>NaN</td>\n",
       "      <td>NaN</td>\n",
       "      <td>NaN</td>\n",
       "      <td>NaN</td>\n",
       "      <td>NaN</td>\n",
       "      <td>NaN</td>\n",
       "      <td>NaN</td>\n",
       "      <td>NaN</td>\n",
       "      <td>NaN</td>\n",
       "    </tr>\n",
       "    <tr>\n",
       "      <th>216</th>\n",
       "      <td>ASSET</td>\n",
       "      <td>UBS SECURITIES LLC</td>\n",
       "      <td>2018-10-25</td>\n",
       "      <td>-18000.0</td>\n",
       "      <td>PRIVATE_DEFAULT_UBS</td>\n",
       "      <td>PAGS US</td>\n",
       "      <td>BFWK4R7</td>\n",
       "      <td>USD</td>\n",
       "      <td>ubs_cayman</td>\n",
       "      <td>batido</td>\n",
       "      <td>27.50</td>\n",
       "      <td>NaN</td>\n",
       "      <td>NaN</td>\n",
       "      <td>NaN</td>\n",
       "      <td>NaN</td>\n",
       "      <td>NaN</td>\n",
       "      <td>NaN</td>\n",
       "      <td>NaN</td>\n",
       "      <td>NaN</td>\n",
       "      <td>NaN</td>\n",
       "    </tr>\n",
       "    <tr>\n",
       "      <th>227</th>\n",
       "      <td>ASSET</td>\n",
       "      <td>UBS SECURITIES LLC</td>\n",
       "      <td>2018-10-26</td>\n",
       "      <td>-18000.0</td>\n",
       "      <td>PRIVATE_DEFAULT_UBS</td>\n",
       "      <td>PAGS US</td>\n",
       "      <td>BFWK4R7</td>\n",
       "      <td>USD</td>\n",
       "      <td>ubs_cayman</td>\n",
       "      <td>batido</td>\n",
       "      <td>77.37</td>\n",
       "      <td>NaN</td>\n",
       "      <td>NaN</td>\n",
       "      <td>NaN</td>\n",
       "      <td>NaN</td>\n",
       "      <td>NaN</td>\n",
       "      <td>NaN</td>\n",
       "      <td>NaN</td>\n",
       "      <td>NaN</td>\n",
       "      <td>NaN</td>\n",
       "    </tr>\n",
       "    <tr>\n",
       "      <th>238</th>\n",
       "      <td>ASSET</td>\n",
       "      <td>UBS SECURITIES LLC</td>\n",
       "      <td>2018-10-29</td>\n",
       "      <td>-18000.0</td>\n",
       "      <td>PRIVATE_DEFAULT_UBS</td>\n",
       "      <td>PAGS US</td>\n",
       "      <td>BFWK4R7</td>\n",
       "      <td>USD</td>\n",
       "      <td>ubs_cayman</td>\n",
       "      <td>batido</td>\n",
       "      <td>24.02</td>\n",
       "      <td>NaN</td>\n",
       "      <td>NaN</td>\n",
       "      <td>NaN</td>\n",
       "      <td>NaN</td>\n",
       "      <td>NaN</td>\n",
       "      <td>NaN</td>\n",
       "      <td>NaN</td>\n",
       "      <td>NaN</td>\n",
       "      <td>NaN</td>\n",
       "    </tr>\n",
       "  </tbody>\n",
       "</table>\n",
       "</div>"
      ],
      "text/plain": [
       "     conta               agent       date  qt_asset_x                 book  \\\n",
       "70   ASSET  UBS SECURITIES LLC 2018-10-09    -47412.0       BD_CLIENTS_UBS   \n",
       "161  ASSET  UBS SECURITIES LLC 2018-10-18    -15079.0       BD_CLIENTS_UBS   \n",
       "183  ASSET  UBS SECURITIES LLC 2018-10-22    -15072.0       BD_CLIENTS_UBS   \n",
       "194  ASSET  UBS SECURITIES LLC 2018-10-23    -15072.0       BD_CLIENTS_UBS   \n",
       "206  ASSET  UBS SECURITIES LLC 2018-10-24    -18000.0  PRIVATE_DEFAULT_UBS   \n",
       "216  ASSET  UBS SECURITIES LLC 2018-10-25    -18000.0  PRIVATE_DEFAULT_UBS   \n",
       "227  ASSET  UBS SECURITIES LLC 2018-10-26    -18000.0  PRIVATE_DEFAULT_UBS   \n",
       "238  ASSET  UBS SECURITIES LLC 2018-10-29    -18000.0  PRIVATE_DEFAULT_UBS   \n",
       "\n",
       "      ticker  sedol_x currency_x         acc    status  accrual_final  \\\n",
       "70    LTM US  2518932        USD  ubs_cayman    batido         -70.33   \n",
       "161   BAP US  2232878        USD  ubs_cayman    batido         173.26   \n",
       "183   BAP US  2232878        USD  ubs_cayman  n_batido         171.44   \n",
       "194   BAP US  2232878        USD  ubs_cayman  n_batido         172.04   \n",
       "206  PAGS US  BFWK4R7        USD  ubs_cayman    batido          27.96   \n",
       "216  PAGS US  BFWK4R7        USD  ubs_cayman    batido          27.50   \n",
       "227  PAGS US  BFWK4R7        USD  ubs_cayman    batido          77.37   \n",
       "238  PAGS US  BFWK4R7        USD  ubs_cayman    batido          24.02   \n",
       "\n",
       "    book_full_name  qt_client account cusip isin sedol_y currency_y tipo  \\\n",
       "70             NaN        NaN     NaN   NaN  NaN     NaN        NaN  NaN   \n",
       "161            NaN        NaN     NaN   NaN  NaN     NaN        NaN  NaN   \n",
       "183            NaN        NaN     NaN   NaN  NaN     NaN        NaN  NaN   \n",
       "194            NaN        NaN     NaN   NaN  NaN     NaN        NaN  NaN   \n",
       "206            NaN        NaN     NaN   NaN  NaN     NaN        NaN  NaN   \n",
       "216            NaN        NaN     NaN   NaN  NaN     NaN        NaN  NaN   \n",
       "227            NaN        NaN     NaN   NaN  NaN     NaN        NaN  NaN   \n",
       "238            NaN        NaN     NaN   NaN  NaN     NaN        NaN  NaN   \n",
       "\n",
       "     qt_asset_y  \n",
       "70          NaN  \n",
       "161         NaN  \n",
       "183         NaN  \n",
       "194         NaN  \n",
       "206         NaN  \n",
       "216         NaN  \n",
       "227         NaN  \n",
       "238         NaN  "
      ]
     },
     "execution_count": 86,
     "metadata": {},
     "output_type": "execute_result"
    }
   ],
   "source": [
    "if abertura_wm[abertura_wm['qt_asset_y'].isnull()==True].shape[0]!=0:\n",
    "    print ('Nem todos os trades de WM foram redistribuídos')\n",
    "abertura_wm[abertura_wm['qt_asset_y'].isnull()==True]"
   ]
  },
  {
   "cell_type": "code",
   "execution_count": 87,
   "metadata": {
    "collapsed": false
   },
   "outputs": [],
   "source": [
    "abertura_wm = abertura_wm[abertura_wm['qt_asset_y'].isnull()==False]"
   ]
  },
  {
   "cell_type": "code",
   "execution_count": 88,
   "metadata": {
    "collapsed": false
   },
   "outputs": [],
   "source": [
    "abertura_wm = abertura_wm.rename(columns={\n",
    "    'qt_asset_x':'qt_asset_pb',\n",
    "    'qt_asset_y':'qt_asset_calypso',\n",
    "    'currency_x':'currency_pb',\n",
    "    'currency_y':'currency_calypso',\n",
    "    \n",
    "}).drop(['sedol_x','sedol_y'], axis=1)[['conta','agent','account','acc','date','book','book_full_name','ticker',\n",
    "                                                 'qt_client','qt_asset_pb','qt_asset_calypso','currency_pb','currency_calypso',\n",
    "                                                'accrual_final']].copy()"
   ]
  },
  {
   "cell_type": "code",
   "execution_count": 89,
   "metadata": {
    "collapsed": false
   },
   "outputs": [],
   "source": [
    "check_31=abertura_wm[abs(abertura_wm['qt_asset_pb'])!=abs(abertura_wm['qt_asset_calypso'])].shape[0]\n",
    "check_32 = check_31/abertura_wm.shape[0]*100\n",
    "if check_31!=0:\n",
    "    print('Alguns [%s ou %s pct dos trades] trades não estão batidos!! tem que conferir' % (check_31, check_32))"
   ]
  },
  {
   "cell_type": "code",
   "execution_count": 90,
   "metadata": {
    "collapsed": true
   },
   "outputs": [],
   "source": [
    "abertura_wm['pct'] = abertura_wm['qt_client']/abertura_wm['qt_asset_calypso']\n",
    "abertura_wm['custo_book'] = abertura_wm['pct']*abertura_wm['accrual_final']"
   ]
  },
  {
   "cell_type": "code",
   "execution_count": 91,
   "metadata": {
    "collapsed": false,
    "scrolled": true
   },
   "outputs": [
    {
     "data": {
      "text/plain": [
       "accrual_final   NaN\n",
       "custo_book      NaN\n",
       "dtype: float64"
      ]
     },
     "execution_count": 91,
     "metadata": {},
     "output_type": "execute_result"
    }
   ],
   "source": [
    "abertura_wm[['custo_book']].sum()+pb_wm[['accrual_final']].sum()"
   ]
  },
  {
   "cell_type": "code",
   "execution_count": null,
   "metadata": {
    "collapsed": true
   },
   "outputs": [],
   "source": []
  },
  {
   "cell_type": "code",
   "execution_count": null,
   "metadata": {
    "collapsed": true
   },
   "outputs": [],
   "source": []
  },
  {
   "cell_type": "code",
   "execution_count": 92,
   "metadata": {
    "collapsed": true
   },
   "outputs": [],
   "source": [
    "abertura_wm_ajuste = abertura_wm.groupby(by=['date','ticker']).sum().reset_index()"
   ]
  },
  {
   "cell_type": "code",
   "execution_count": 93,
   "metadata": {
    "collapsed": false
   },
   "outputs": [
    {
     "data": {
      "text/html": [
       "<div>\n",
       "<table border=\"1\" class=\"dataframe\">\n",
       "  <thead>\n",
       "    <tr style=\"text-align: right;\">\n",
       "      <th></th>\n",
       "      <th>date</th>\n",
       "      <th>ticker</th>\n",
       "      <th>qt_client</th>\n",
       "      <th>qt_asset_pb</th>\n",
       "      <th>qt_asset_calypso</th>\n",
       "      <th>accrual_final</th>\n",
       "      <th>pct</th>\n",
       "      <th>custo_book</th>\n",
       "    </tr>\n",
       "  </thead>\n",
       "  <tbody>\n",
       "    <tr>\n",
       "      <th>0</th>\n",
       "      <td>2018-10-01</td>\n",
       "      <td>BAP US</td>\n",
       "      <td>15000.0</td>\n",
       "      <td>-15000.0</td>\n",
       "      <td>15000.0</td>\n",
       "      <td>176.610000</td>\n",
       "      <td>1.0</td>\n",
       "      <td>176.610000</td>\n",
       "    </tr>\n",
       "    <tr>\n",
       "      <th>1</th>\n",
       "      <td>2018-10-01</td>\n",
       "      <td>CAKE US</td>\n",
       "      <td>700.0</td>\n",
       "      <td>-700.0</td>\n",
       "      <td>700.0</td>\n",
       "      <td>1.530000</td>\n",
       "      <td>1.0</td>\n",
       "      <td>1.530000</td>\n",
       "    </tr>\n",
       "    <tr>\n",
       "      <th>2</th>\n",
       "      <td>2018-10-01</td>\n",
       "      <td>DRI US</td>\n",
       "      <td>600.0</td>\n",
       "      <td>-600.0</td>\n",
       "      <td>600.0</td>\n",
       "      <td>3.400000</td>\n",
       "      <td>1.0</td>\n",
       "      <td>3.400000</td>\n",
       "    </tr>\n",
       "    <tr>\n",
       "      <th>3</th>\n",
       "      <td>2018-10-01</td>\n",
       "      <td>EWZ US</td>\n",
       "      <td>15000.0</td>\n",
       "      <td>-15000.0</td>\n",
       "      <td>15000.0</td>\n",
       "      <td>12.289791</td>\n",
       "      <td>1.0</td>\n",
       "      <td>12.289791</td>\n",
       "    </tr>\n",
       "    <tr>\n",
       "      <th>4</th>\n",
       "      <td>2018-10-01</td>\n",
       "      <td>KO US</td>\n",
       "      <td>1000.0</td>\n",
       "      <td>-1000.0</td>\n",
       "      <td>1000.0</td>\n",
       "      <td>2.400000</td>\n",
       "      <td>1.0</td>\n",
       "      <td>2.400000</td>\n",
       "    </tr>\n",
       "    <tr>\n",
       "      <th>5</th>\n",
       "      <td>2018-10-01</td>\n",
       "      <td>LTM US</td>\n",
       "      <td>45756.0</td>\n",
       "      <td>-45756.0</td>\n",
       "      <td>45756.0</td>\n",
       "      <td>-66.580000</td>\n",
       "      <td>1.0</td>\n",
       "      <td>-66.580000</td>\n",
       "    </tr>\n",
       "    <tr>\n",
       "      <th>6</th>\n",
       "      <td>2018-10-01</td>\n",
       "      <td>MELI US</td>\n",
       "      <td>5414.0</td>\n",
       "      <td>-5414.0</td>\n",
       "      <td>5414.0</td>\n",
       "      <td>93.510000</td>\n",
       "      <td>2.0</td>\n",
       "      <td>93.510000</td>\n",
       "    </tr>\n",
       "    <tr>\n",
       "      <th>7</th>\n",
       "      <td>2018-10-01</td>\n",
       "      <td>ORCL US</td>\n",
       "      <td>800.0</td>\n",
       "      <td>-800.0</td>\n",
       "      <td>800.0</td>\n",
       "      <td>2.150000</td>\n",
       "      <td>1.0</td>\n",
       "      <td>2.150000</td>\n",
       "    </tr>\n",
       "    <tr>\n",
       "      <th>8</th>\n",
       "      <td>2018-10-01</td>\n",
       "      <td>PAGS US</td>\n",
       "      <td>74837.0</td>\n",
       "      <td>-74837.0</td>\n",
       "      <td>74837.0</td>\n",
       "      <td>109.351372</td>\n",
       "      <td>2.0</td>\n",
       "      <td>109.351372</td>\n",
       "    </tr>\n",
       "    <tr>\n",
       "      <th>9</th>\n",
       "      <td>2018-10-01</td>\n",
       "      <td>WU US</td>\n",
       "      <td>2500.0</td>\n",
       "      <td>-2500.0</td>\n",
       "      <td>2500.0</td>\n",
       "      <td>2.470000</td>\n",
       "      <td>1.0</td>\n",
       "      <td>2.470000</td>\n",
       "    </tr>\n",
       "    <tr>\n",
       "      <th>10</th>\n",
       "      <td>2018-10-02</td>\n",
       "      <td>BAP US</td>\n",
       "      <td>15000.0</td>\n",
       "      <td>-15000.0</td>\n",
       "      <td>15000.0</td>\n",
       "      <td>176.340000</td>\n",
       "      <td>1.0</td>\n",
       "      <td>176.340000</td>\n",
       "    </tr>\n",
       "    <tr>\n",
       "      <th>11</th>\n",
       "      <td>2018-10-02</td>\n",
       "      <td>CAKE US</td>\n",
       "      <td>700.0</td>\n",
       "      <td>-700.0</td>\n",
       "      <td>700.0</td>\n",
       "      <td>0.000000</td>\n",
       "      <td>1.0</td>\n",
       "      <td>0.000000</td>\n",
       "    </tr>\n",
       "    <tr>\n",
       "      <th>12</th>\n",
       "      <td>2018-10-02</td>\n",
       "      <td>DRI US</td>\n",
       "      <td>600.0</td>\n",
       "      <td>-600.0</td>\n",
       "      <td>600.0</td>\n",
       "      <td>0.000000</td>\n",
       "      <td>1.0</td>\n",
       "      <td>0.000000</td>\n",
       "    </tr>\n",
       "    <tr>\n",
       "      <th>13</th>\n",
       "      <td>2018-10-02</td>\n",
       "      <td>KO US</td>\n",
       "      <td>1000.0</td>\n",
       "      <td>-1000.0</td>\n",
       "      <td>1000.0</td>\n",
       "      <td>0.000000</td>\n",
       "      <td>1.0</td>\n",
       "      <td>0.000000</td>\n",
       "    </tr>\n",
       "    <tr>\n",
       "      <th>14</th>\n",
       "      <td>2018-10-02</td>\n",
       "      <td>LTM US</td>\n",
       "      <td>45756.0</td>\n",
       "      <td>-45756.0</td>\n",
       "      <td>45756.0</td>\n",
       "      <td>-71.110000</td>\n",
       "      <td>1.0</td>\n",
       "      <td>-71.110000</td>\n",
       "    </tr>\n",
       "    <tr>\n",
       "      <th>15</th>\n",
       "      <td>2018-10-02</td>\n",
       "      <td>MELI US</td>\n",
       "      <td>5414.0</td>\n",
       "      <td>-5414.0</td>\n",
       "      <td>5414.0</td>\n",
       "      <td>99.530000</td>\n",
       "      <td>2.0</td>\n",
       "      <td>99.530000</td>\n",
       "    </tr>\n",
       "    <tr>\n",
       "      <th>16</th>\n",
       "      <td>2018-10-02</td>\n",
       "      <td>ORCL US</td>\n",
       "      <td>800.0</td>\n",
       "      <td>-800.0</td>\n",
       "      <td>800.0</td>\n",
       "      <td>2.090000</td>\n",
       "      <td>1.0</td>\n",
       "      <td>2.090000</td>\n",
       "    </tr>\n",
       "    <tr>\n",
       "      <th>17</th>\n",
       "      <td>2018-10-02</td>\n",
       "      <td>PAGS US</td>\n",
       "      <td>74837.0</td>\n",
       "      <td>-74837.0</td>\n",
       "      <td>74837.0</td>\n",
       "      <td>0.008447</td>\n",
       "      <td>2.0</td>\n",
       "      <td>0.008447</td>\n",
       "    </tr>\n",
       "    <tr>\n",
       "      <th>18</th>\n",
       "      <td>2018-10-02</td>\n",
       "      <td>WU US</td>\n",
       "      <td>2500.0</td>\n",
       "      <td>-2500.0</td>\n",
       "      <td>2500.0</td>\n",
       "      <td>2.450000</td>\n",
       "      <td>1.0</td>\n",
       "      <td>2.450000</td>\n",
       "    </tr>\n",
       "    <tr>\n",
       "      <th>19</th>\n",
       "      <td>2018-10-03</td>\n",
       "      <td>BAP US</td>\n",
       "      <td>15000.0</td>\n",
       "      <td>-15000.0</td>\n",
       "      <td>15000.0</td>\n",
       "      <td>176.670000</td>\n",
       "      <td>1.0</td>\n",
       "      <td>176.670000</td>\n",
       "    </tr>\n",
       "    <tr>\n",
       "      <th>20</th>\n",
       "      <td>2018-10-03</td>\n",
       "      <td>CAKE US</td>\n",
       "      <td>700.0</td>\n",
       "      <td>-700.0</td>\n",
       "      <td>700.0</td>\n",
       "      <td>1.520000</td>\n",
       "      <td>1.0</td>\n",
       "      <td>1.520000</td>\n",
       "    </tr>\n",
       "    <tr>\n",
       "      <th>21</th>\n",
       "      <td>2018-10-03</td>\n",
       "      <td>DRI US</td>\n",
       "      <td>600.0</td>\n",
       "      <td>-600.0</td>\n",
       "      <td>600.0</td>\n",
       "      <td>3.360000</td>\n",
       "      <td>1.0</td>\n",
       "      <td>3.360000</td>\n",
       "    </tr>\n",
       "    <tr>\n",
       "      <th>22</th>\n",
       "      <td>2018-10-03</td>\n",
       "      <td>KO US</td>\n",
       "      <td>1000.0</td>\n",
       "      <td>-1000.0</td>\n",
       "      <td>1000.0</td>\n",
       "      <td>2.380000</td>\n",
       "      <td>1.0</td>\n",
       "      <td>2.380000</td>\n",
       "    </tr>\n",
       "    <tr>\n",
       "      <th>23</th>\n",
       "      <td>2018-10-03</td>\n",
       "      <td>LTM US</td>\n",
       "      <td>34912.0</td>\n",
       "      <td>-34912.0</td>\n",
       "      <td>34912.0</td>\n",
       "      <td>-57.260000</td>\n",
       "      <td>1.0</td>\n",
       "      <td>-57.260000</td>\n",
       "    </tr>\n",
       "    <tr>\n",
       "      <th>24</th>\n",
       "      <td>2018-10-03</td>\n",
       "      <td>MELI US</td>\n",
       "      <td>5414.0</td>\n",
       "      <td>-5414.0</td>\n",
       "      <td>5414.0</td>\n",
       "      <td>99.580000</td>\n",
       "      <td>2.0</td>\n",
       "      <td>99.580000</td>\n",
       "    </tr>\n",
       "    <tr>\n",
       "      <th>25</th>\n",
       "      <td>2018-10-03</td>\n",
       "      <td>ORCL US</td>\n",
       "      <td>800.0</td>\n",
       "      <td>-800.0</td>\n",
       "      <td>800.0</td>\n",
       "      <td>2.070000</td>\n",
       "      <td>1.0</td>\n",
       "      <td>2.070000</td>\n",
       "    </tr>\n",
       "    <tr>\n",
       "      <th>26</th>\n",
       "      <td>2018-10-03</td>\n",
       "      <td>PAGS US</td>\n",
       "      <td>74837.0</td>\n",
       "      <td>-74837.0</td>\n",
       "      <td>74837.0</td>\n",
       "      <td>115.300195</td>\n",
       "      <td>2.0</td>\n",
       "      <td>115.300195</td>\n",
       "    </tr>\n",
       "    <tr>\n",
       "      <th>27</th>\n",
       "      <td>2018-10-03</td>\n",
       "      <td>WU US</td>\n",
       "      <td>2500.0</td>\n",
       "      <td>-2500.0</td>\n",
       "      <td>2500.0</td>\n",
       "      <td>2.480000</td>\n",
       "      <td>1.0</td>\n",
       "      <td>2.480000</td>\n",
       "    </tr>\n",
       "    <tr>\n",
       "      <th>28</th>\n",
       "      <td>2018-10-04</td>\n",
       "      <td>BAP US</td>\n",
       "      <td>15000.0</td>\n",
       "      <td>-15000.0</td>\n",
       "      <td>15000.0</td>\n",
       "      <td>173.800000</td>\n",
       "      <td>1.0</td>\n",
       "      <td>173.800000</td>\n",
       "    </tr>\n",
       "    <tr>\n",
       "      <th>29</th>\n",
       "      <td>2018-10-04</td>\n",
       "      <td>CAKE US</td>\n",
       "      <td>700.0</td>\n",
       "      <td>-700.0</td>\n",
       "      <td>700.0</td>\n",
       "      <td>1.510000</td>\n",
       "      <td>1.0</td>\n",
       "      <td>1.510000</td>\n",
       "    </tr>\n",
       "    <tr>\n",
       "      <th>...</th>\n",
       "      <td>...</td>\n",
       "      <td>...</td>\n",
       "      <td>...</td>\n",
       "      <td>...</td>\n",
       "      <td>...</td>\n",
       "      <td>...</td>\n",
       "      <td>...</td>\n",
       "      <td>...</td>\n",
       "    </tr>\n",
       "    <tr>\n",
       "      <th>198</th>\n",
       "      <td>2018-10-29</td>\n",
       "      <td>DRI US</td>\n",
       "      <td>600.0</td>\n",
       "      <td>-600.0</td>\n",
       "      <td>600.0</td>\n",
       "      <td>3.310000</td>\n",
       "      <td>1.0</td>\n",
       "      <td>3.310000</td>\n",
       "    </tr>\n",
       "    <tr>\n",
       "      <th>199</th>\n",
       "      <td>2018-10-29</td>\n",
       "      <td>EEM US</td>\n",
       "      <td>19500.0</td>\n",
       "      <td>-19500.0</td>\n",
       "      <td>19500.0</td>\n",
       "      <td>23.160000</td>\n",
       "      <td>1.0</td>\n",
       "      <td>23.160000</td>\n",
       "    </tr>\n",
       "    <tr>\n",
       "      <th>200</th>\n",
       "      <td>2018-10-29</td>\n",
       "      <td>GOOG US</td>\n",
       "      <td>500.0</td>\n",
       "      <td>-500.0</td>\n",
       "      <td>500.0</td>\n",
       "      <td>26.780000</td>\n",
       "      <td>1.0</td>\n",
       "      <td>26.780000</td>\n",
       "    </tr>\n",
       "    <tr>\n",
       "      <th>201</th>\n",
       "      <td>2018-10-29</td>\n",
       "      <td>KO US</td>\n",
       "      <td>2000.0</td>\n",
       "      <td>-2000.0</td>\n",
       "      <td>2000.0</td>\n",
       "      <td>4.880000</td>\n",
       "      <td>1.0</td>\n",
       "      <td>4.880000</td>\n",
       "    </tr>\n",
       "    <tr>\n",
       "      <th>202</th>\n",
       "      <td>2018-10-29</td>\n",
       "      <td>MELI US</td>\n",
       "      <td>2409.0</td>\n",
       "      <td>-2409.0</td>\n",
       "      <td>2409.0</td>\n",
       "      <td>36.340000</td>\n",
       "      <td>2.0</td>\n",
       "      <td>36.340000</td>\n",
       "    </tr>\n",
       "    <tr>\n",
       "      <th>203</th>\n",
       "      <td>2018-10-29</td>\n",
       "      <td>ORCL US</td>\n",
       "      <td>800.0</td>\n",
       "      <td>-800.0</td>\n",
       "      <td>800.0</td>\n",
       "      <td>1.970000</td>\n",
       "      <td>1.0</td>\n",
       "      <td>1.970000</td>\n",
       "    </tr>\n",
       "    <tr>\n",
       "      <th>204</th>\n",
       "      <td>2018-10-29</td>\n",
       "      <td>WU US</td>\n",
       "      <td>2500.0</td>\n",
       "      <td>-2500.0</td>\n",
       "      <td>2500.0</td>\n",
       "      <td>2.310000</td>\n",
       "      <td>1.0</td>\n",
       "      <td>2.310000</td>\n",
       "    </tr>\n",
       "    <tr>\n",
       "      <th>205</th>\n",
       "      <td>2018-10-30</td>\n",
       "      <td>BAP US</td>\n",
       "      <td>25000.0</td>\n",
       "      <td>-25000.0</td>\n",
       "      <td>25000.0</td>\n",
       "      <td>289.450000</td>\n",
       "      <td>1.0</td>\n",
       "      <td>289.450000</td>\n",
       "    </tr>\n",
       "    <tr>\n",
       "      <th>206</th>\n",
       "      <td>2018-10-30</td>\n",
       "      <td>CAKE US</td>\n",
       "      <td>700.0</td>\n",
       "      <td>-700.0</td>\n",
       "      <td>700.0</td>\n",
       "      <td>1.430000</td>\n",
       "      <td>1.0</td>\n",
       "      <td>1.430000</td>\n",
       "    </tr>\n",
       "    <tr>\n",
       "      <th>207</th>\n",
       "      <td>2018-10-30</td>\n",
       "      <td>DRI US</td>\n",
       "      <td>600.0</td>\n",
       "      <td>-600.0</td>\n",
       "      <td>600.0</td>\n",
       "      <td>3.400000</td>\n",
       "      <td>1.0</td>\n",
       "      <td>3.400000</td>\n",
       "    </tr>\n",
       "    <tr>\n",
       "      <th>208</th>\n",
       "      <td>2018-10-30</td>\n",
       "      <td>EEM US</td>\n",
       "      <td>19500.0</td>\n",
       "      <td>-19500.0</td>\n",
       "      <td>19500.0</td>\n",
       "      <td>39.660000</td>\n",
       "      <td>1.0</td>\n",
       "      <td>39.660000</td>\n",
       "    </tr>\n",
       "    <tr>\n",
       "      <th>209</th>\n",
       "      <td>2018-10-30</td>\n",
       "      <td>GOOG US</td>\n",
       "      <td>500.0</td>\n",
       "      <td>-500.0</td>\n",
       "      <td>500.0</td>\n",
       "      <td>27.200000</td>\n",
       "      <td>1.0</td>\n",
       "      <td>27.200000</td>\n",
       "    </tr>\n",
       "    <tr>\n",
       "      <th>210</th>\n",
       "      <td>2018-10-30</td>\n",
       "      <td>KO US</td>\n",
       "      <td>2000.0</td>\n",
       "      <td>-2000.0</td>\n",
       "      <td>2000.0</td>\n",
       "      <td>5.000000</td>\n",
       "      <td>1.0</td>\n",
       "      <td>5.000000</td>\n",
       "    </tr>\n",
       "    <tr>\n",
       "      <th>211</th>\n",
       "      <td>2018-10-30</td>\n",
       "      <td>MELI US</td>\n",
       "      <td>2409.0</td>\n",
       "      <td>-2409.0</td>\n",
       "      <td>2409.0</td>\n",
       "      <td>39.260000</td>\n",
       "      <td>2.0</td>\n",
       "      <td>39.260000</td>\n",
       "    </tr>\n",
       "    <tr>\n",
       "      <th>212</th>\n",
       "      <td>2018-10-30</td>\n",
       "      <td>ORCL US</td>\n",
       "      <td>800.0</td>\n",
       "      <td>-800.0</td>\n",
       "      <td>800.0</td>\n",
       "      <td>2.040000</td>\n",
       "      <td>1.0</td>\n",
       "      <td>2.040000</td>\n",
       "    </tr>\n",
       "    <tr>\n",
       "      <th>213</th>\n",
       "      <td>2018-10-30</td>\n",
       "      <td>PAGS US</td>\n",
       "      <td>16000.0</td>\n",
       "      <td>-16000.0</td>\n",
       "      <td>16000.0</td>\n",
       "      <td>21.810000</td>\n",
       "      <td>1.0</td>\n",
       "      <td>21.810000</td>\n",
       "    </tr>\n",
       "    <tr>\n",
       "      <th>214</th>\n",
       "      <td>2018-10-30</td>\n",
       "      <td>STNE US</td>\n",
       "      <td>5000.0</td>\n",
       "      <td>-5000.0</td>\n",
       "      <td>5000.0</td>\n",
       "      <td>7.530000</td>\n",
       "      <td>1.0</td>\n",
       "      <td>7.530000</td>\n",
       "    </tr>\n",
       "    <tr>\n",
       "      <th>215</th>\n",
       "      <td>2018-10-30</td>\n",
       "      <td>WU US</td>\n",
       "      <td>2500.0</td>\n",
       "      <td>-2500.0</td>\n",
       "      <td>2500.0</td>\n",
       "      <td>2.350000</td>\n",
       "      <td>1.0</td>\n",
       "      <td>2.350000</td>\n",
       "    </tr>\n",
       "    <tr>\n",
       "      <th>216</th>\n",
       "      <td>2018-10-31</td>\n",
       "      <td>AKO/B US</td>\n",
       "      <td>430.0</td>\n",
       "      <td>-430.0</td>\n",
       "      <td>430.0</td>\n",
       "      <td>-1.240000</td>\n",
       "      <td>1.0</td>\n",
       "      <td>-1.240000</td>\n",
       "    </tr>\n",
       "    <tr>\n",
       "      <th>217</th>\n",
       "      <td>2018-10-31</td>\n",
       "      <td>BAP US</td>\n",
       "      <td>25000.0</td>\n",
       "      <td>-25000.0</td>\n",
       "      <td>25000.0</td>\n",
       "      <td>296.240000</td>\n",
       "      <td>1.0</td>\n",
       "      <td>296.240000</td>\n",
       "    </tr>\n",
       "    <tr>\n",
       "      <th>218</th>\n",
       "      <td>2018-10-31</td>\n",
       "      <td>CAKE US</td>\n",
       "      <td>700.0</td>\n",
       "      <td>-700.0</td>\n",
       "      <td>700.0</td>\n",
       "      <td>1.410000</td>\n",
       "      <td>1.0</td>\n",
       "      <td>1.410000</td>\n",
       "    </tr>\n",
       "    <tr>\n",
       "      <th>219</th>\n",
       "      <td>2018-10-31</td>\n",
       "      <td>DRI US</td>\n",
       "      <td>600.0</td>\n",
       "      <td>-600.0</td>\n",
       "      <td>600.0</td>\n",
       "      <td>3.360000</td>\n",
       "      <td>1.0</td>\n",
       "      <td>3.360000</td>\n",
       "    </tr>\n",
       "    <tr>\n",
       "      <th>220</th>\n",
       "      <td>2018-10-31</td>\n",
       "      <td>EEM US</td>\n",
       "      <td>19500.0</td>\n",
       "      <td>-19500.0</td>\n",
       "      <td>19500.0</td>\n",
       "      <td>40.090000</td>\n",
       "      <td>1.0</td>\n",
       "      <td>40.090000</td>\n",
       "    </tr>\n",
       "    <tr>\n",
       "      <th>221</th>\n",
       "      <td>2018-10-31</td>\n",
       "      <td>GOOG US</td>\n",
       "      <td>500.0</td>\n",
       "      <td>-500.0</td>\n",
       "      <td>500.0</td>\n",
       "      <td>28.270000</td>\n",
       "      <td>1.0</td>\n",
       "      <td>28.270000</td>\n",
       "    </tr>\n",
       "    <tr>\n",
       "      <th>222</th>\n",
       "      <td>2018-10-31</td>\n",
       "      <td>KO US</td>\n",
       "      <td>2000.0</td>\n",
       "      <td>-2000.0</td>\n",
       "      <td>2000.0</td>\n",
       "      <td>5.030000</td>\n",
       "      <td>1.0</td>\n",
       "      <td>5.030000</td>\n",
       "    </tr>\n",
       "    <tr>\n",
       "      <th>223</th>\n",
       "      <td>2018-10-31</td>\n",
       "      <td>MELI US</td>\n",
       "      <td>2409.0</td>\n",
       "      <td>-2409.0</td>\n",
       "      <td>2409.0</td>\n",
       "      <td>41.040000</td>\n",
       "      <td>2.0</td>\n",
       "      <td>41.040000</td>\n",
       "    </tr>\n",
       "    <tr>\n",
       "      <th>224</th>\n",
       "      <td>2018-10-31</td>\n",
       "      <td>ORCL US</td>\n",
       "      <td>800.0</td>\n",
       "      <td>-800.0</td>\n",
       "      <td>800.0</td>\n",
       "      <td>2.050000</td>\n",
       "      <td>1.0</td>\n",
       "      <td>2.050000</td>\n",
       "    </tr>\n",
       "    <tr>\n",
       "      <th>225</th>\n",
       "      <td>2018-10-31</td>\n",
       "      <td>PAGS US</td>\n",
       "      <td>16000.0</td>\n",
       "      <td>-16000.0</td>\n",
       "      <td>16000.0</td>\n",
       "      <td>22.670000</td>\n",
       "      <td>1.0</td>\n",
       "      <td>22.670000</td>\n",
       "    </tr>\n",
       "    <tr>\n",
       "      <th>226</th>\n",
       "      <td>2018-10-31</td>\n",
       "      <td>STNE US</td>\n",
       "      <td>10000.0</td>\n",
       "      <td>-10000.0</td>\n",
       "      <td>10000.0</td>\n",
       "      <td>-7.970000</td>\n",
       "      <td>1.0</td>\n",
       "      <td>-7.970000</td>\n",
       "    </tr>\n",
       "    <tr>\n",
       "      <th>227</th>\n",
       "      <td>2018-10-31</td>\n",
       "      <td>WU US</td>\n",
       "      <td>2500.0</td>\n",
       "      <td>-2500.0</td>\n",
       "      <td>2500.0</td>\n",
       "      <td>2.370000</td>\n",
       "      <td>1.0</td>\n",
       "      <td>2.370000</td>\n",
       "    </tr>\n",
       "  </tbody>\n",
       "</table>\n",
       "<p>228 rows × 8 columns</p>\n",
       "</div>"
      ],
      "text/plain": [
       "          date    ticker  qt_client  qt_asset_pb  qt_asset_calypso  \\\n",
       "0   2018-10-01    BAP US    15000.0     -15000.0           15000.0   \n",
       "1   2018-10-01   CAKE US      700.0       -700.0             700.0   \n",
       "2   2018-10-01    DRI US      600.0       -600.0             600.0   \n",
       "3   2018-10-01    EWZ US    15000.0     -15000.0           15000.0   \n",
       "4   2018-10-01     KO US     1000.0      -1000.0            1000.0   \n",
       "5   2018-10-01    LTM US    45756.0     -45756.0           45756.0   \n",
       "6   2018-10-01   MELI US     5414.0      -5414.0            5414.0   \n",
       "7   2018-10-01   ORCL US      800.0       -800.0             800.0   \n",
       "8   2018-10-01   PAGS US    74837.0     -74837.0           74837.0   \n",
       "9   2018-10-01     WU US     2500.0      -2500.0            2500.0   \n",
       "10  2018-10-02    BAP US    15000.0     -15000.0           15000.0   \n",
       "11  2018-10-02   CAKE US      700.0       -700.0             700.0   \n",
       "12  2018-10-02    DRI US      600.0       -600.0             600.0   \n",
       "13  2018-10-02     KO US     1000.0      -1000.0            1000.0   \n",
       "14  2018-10-02    LTM US    45756.0     -45756.0           45756.0   \n",
       "15  2018-10-02   MELI US     5414.0      -5414.0            5414.0   \n",
       "16  2018-10-02   ORCL US      800.0       -800.0             800.0   \n",
       "17  2018-10-02   PAGS US    74837.0     -74837.0           74837.0   \n",
       "18  2018-10-02     WU US     2500.0      -2500.0            2500.0   \n",
       "19  2018-10-03    BAP US    15000.0     -15000.0           15000.0   \n",
       "20  2018-10-03   CAKE US      700.0       -700.0             700.0   \n",
       "21  2018-10-03    DRI US      600.0       -600.0             600.0   \n",
       "22  2018-10-03     KO US     1000.0      -1000.0            1000.0   \n",
       "23  2018-10-03    LTM US    34912.0     -34912.0           34912.0   \n",
       "24  2018-10-03   MELI US     5414.0      -5414.0            5414.0   \n",
       "25  2018-10-03   ORCL US      800.0       -800.0             800.0   \n",
       "26  2018-10-03   PAGS US    74837.0     -74837.0           74837.0   \n",
       "27  2018-10-03     WU US     2500.0      -2500.0            2500.0   \n",
       "28  2018-10-04    BAP US    15000.0     -15000.0           15000.0   \n",
       "29  2018-10-04   CAKE US      700.0       -700.0             700.0   \n",
       "..         ...       ...        ...          ...               ...   \n",
       "198 2018-10-29    DRI US      600.0       -600.0             600.0   \n",
       "199 2018-10-29    EEM US    19500.0     -19500.0           19500.0   \n",
       "200 2018-10-29   GOOG US      500.0       -500.0             500.0   \n",
       "201 2018-10-29     KO US     2000.0      -2000.0            2000.0   \n",
       "202 2018-10-29   MELI US     2409.0      -2409.0            2409.0   \n",
       "203 2018-10-29   ORCL US      800.0       -800.0             800.0   \n",
       "204 2018-10-29     WU US     2500.0      -2500.0            2500.0   \n",
       "205 2018-10-30    BAP US    25000.0     -25000.0           25000.0   \n",
       "206 2018-10-30   CAKE US      700.0       -700.0             700.0   \n",
       "207 2018-10-30    DRI US      600.0       -600.0             600.0   \n",
       "208 2018-10-30    EEM US    19500.0     -19500.0           19500.0   \n",
       "209 2018-10-30   GOOG US      500.0       -500.0             500.0   \n",
       "210 2018-10-30     KO US     2000.0      -2000.0            2000.0   \n",
       "211 2018-10-30   MELI US     2409.0      -2409.0            2409.0   \n",
       "212 2018-10-30   ORCL US      800.0       -800.0             800.0   \n",
       "213 2018-10-30   PAGS US    16000.0     -16000.0           16000.0   \n",
       "214 2018-10-30   STNE US     5000.0      -5000.0            5000.0   \n",
       "215 2018-10-30     WU US     2500.0      -2500.0            2500.0   \n",
       "216 2018-10-31  AKO/B US      430.0       -430.0             430.0   \n",
       "217 2018-10-31    BAP US    25000.0     -25000.0           25000.0   \n",
       "218 2018-10-31   CAKE US      700.0       -700.0             700.0   \n",
       "219 2018-10-31    DRI US      600.0       -600.0             600.0   \n",
       "220 2018-10-31    EEM US    19500.0     -19500.0           19500.0   \n",
       "221 2018-10-31   GOOG US      500.0       -500.0             500.0   \n",
       "222 2018-10-31     KO US     2000.0      -2000.0            2000.0   \n",
       "223 2018-10-31   MELI US     2409.0      -2409.0            2409.0   \n",
       "224 2018-10-31   ORCL US      800.0       -800.0             800.0   \n",
       "225 2018-10-31   PAGS US    16000.0     -16000.0           16000.0   \n",
       "226 2018-10-31   STNE US    10000.0     -10000.0           10000.0   \n",
       "227 2018-10-31     WU US     2500.0      -2500.0            2500.0   \n",
       "\n",
       "     accrual_final  pct  custo_book  \n",
       "0       176.610000  1.0  176.610000  \n",
       "1         1.530000  1.0    1.530000  \n",
       "2         3.400000  1.0    3.400000  \n",
       "3        12.289791  1.0   12.289791  \n",
       "4         2.400000  1.0    2.400000  \n",
       "5       -66.580000  1.0  -66.580000  \n",
       "6        93.510000  2.0   93.510000  \n",
       "7         2.150000  1.0    2.150000  \n",
       "8       109.351372  2.0  109.351372  \n",
       "9         2.470000  1.0    2.470000  \n",
       "10      176.340000  1.0  176.340000  \n",
       "11        0.000000  1.0    0.000000  \n",
       "12        0.000000  1.0    0.000000  \n",
       "13        0.000000  1.0    0.000000  \n",
       "14      -71.110000  1.0  -71.110000  \n",
       "15       99.530000  2.0   99.530000  \n",
       "16        2.090000  1.0    2.090000  \n",
       "17        0.008447  2.0    0.008447  \n",
       "18        2.450000  1.0    2.450000  \n",
       "19      176.670000  1.0  176.670000  \n",
       "20        1.520000  1.0    1.520000  \n",
       "21        3.360000  1.0    3.360000  \n",
       "22        2.380000  1.0    2.380000  \n",
       "23      -57.260000  1.0  -57.260000  \n",
       "24       99.580000  2.0   99.580000  \n",
       "25        2.070000  1.0    2.070000  \n",
       "26      115.300195  2.0  115.300195  \n",
       "27        2.480000  1.0    2.480000  \n",
       "28      173.800000  1.0  173.800000  \n",
       "29        1.510000  1.0    1.510000  \n",
       "..             ...  ...         ...  \n",
       "198       3.310000  1.0    3.310000  \n",
       "199      23.160000  1.0   23.160000  \n",
       "200      26.780000  1.0   26.780000  \n",
       "201       4.880000  1.0    4.880000  \n",
       "202      36.340000  2.0   36.340000  \n",
       "203       1.970000  1.0    1.970000  \n",
       "204       2.310000  1.0    2.310000  \n",
       "205     289.450000  1.0  289.450000  \n",
       "206       1.430000  1.0    1.430000  \n",
       "207       3.400000  1.0    3.400000  \n",
       "208      39.660000  1.0   39.660000  \n",
       "209      27.200000  1.0   27.200000  \n",
       "210       5.000000  1.0    5.000000  \n",
       "211      39.260000  2.0   39.260000  \n",
       "212       2.040000  1.0    2.040000  \n",
       "213      21.810000  1.0   21.810000  \n",
       "214       7.530000  1.0    7.530000  \n",
       "215       2.350000  1.0    2.350000  \n",
       "216      -1.240000  1.0   -1.240000  \n",
       "217     296.240000  1.0  296.240000  \n",
       "218       1.410000  1.0    1.410000  \n",
       "219       3.360000  1.0    3.360000  \n",
       "220      40.090000  1.0   40.090000  \n",
       "221      28.270000  1.0   28.270000  \n",
       "222       5.030000  1.0    5.030000  \n",
       "223      41.040000  2.0   41.040000  \n",
       "224       2.050000  1.0    2.050000  \n",
       "225      22.670000  1.0   22.670000  \n",
       "226      -7.970000  1.0   -7.970000  \n",
       "227       2.370000  1.0    2.370000  \n",
       "\n",
       "[228 rows x 8 columns]"
      ]
     },
     "execution_count": 93,
     "metadata": {},
     "output_type": "execute_result"
    }
   ],
   "source": [
    "abertura_wm_ajuste"
   ]
  },
  {
   "cell_type": "code",
   "execution_count": null,
   "metadata": {
    "collapsed": true
   },
   "outputs": [],
   "source": []
  },
  {
   "cell_type": "code",
   "execution_count": 94,
   "metadata": {
    "collapsed": true
   },
   "outputs": [],
   "source": [
    "abertura_wm_consol = abertura_wm.groupby(by=['acc','book_full_name','currency_pb']).sum().reset_index()"
   ]
  },
  {
   "cell_type": "code",
   "execution_count": 95,
   "metadata": {
    "collapsed": false
   },
   "outputs": [],
   "source": [
    "abertura_wm_consol = abertura_wm_consol[['acc','book_full_name','currency_pb','custo_book']].copy()"
   ]
  },
  {
   "cell_type": "code",
   "execution_count": 96,
   "metadata": {
    "collapsed": false
   },
   "outputs": [],
   "source": [
    "#abertura_wm_consol['custo_book'] = -abs(abertura_wm_consol['custo_book'])"
   ]
  },
  {
   "cell_type": "code",
   "execution_count": null,
   "metadata": {
    "collapsed": true
   },
   "outputs": [],
   "source": []
  },
  {
   "cell_type": "code",
   "execution_count": 97,
   "metadata": {
    "collapsed": true
   },
   "outputs": [],
   "source": [
    "writer_4 = pd.ExcelWriter(out_path+'\\\\abertura_wm.xlsx')"
   ]
  },
  {
   "cell_type": "code",
   "execution_count": 98,
   "metadata": {
    "collapsed": false
   },
   "outputs": [],
   "source": [
    "abertura_wm.to_excel(writer_4, sheet_name='abertura_wm', index=False)\n",
    "abertura_wm_consol.to_excel(writer_4, sheet_name='abertura_wm_consol', index=False)\n",
    "writer_4.save()"
   ]
  },
  {
   "cell_type": "code",
   "execution_count": null,
   "metadata": {
    "collapsed": true
   },
   "outputs": [],
   "source": []
  },
  {
   "cell_type": "markdown",
   "metadata": {},
   "source": [
    "### Abertura TREAS_OPS.CAYMAN"
   ]
  },
  {
   "cell_type": "code",
   "execution_count": 99,
   "metadata": {
    "collapsed": false
   },
   "outputs": [],
   "source": [
    "calypso_pras = pras[pras['Book']=='TREAS_OPS.CAYMAN'].copy()"
   ]
  },
  {
   "cell_type": "code",
   "execution_count": 100,
   "metadata": {
    "collapsed": false
   },
   "outputs": [],
   "source": [
    "calypso_pras.columns = ['bd','account_id','account_name','book_full_name','ticker','prd_description','book','shares',\n",
    "                        'product_type','attributes_asset','attributes_book','mov_type', 'posi_type','product_id','traded_ccy',\n",
    "                        'sedol_id','country','account','agent','agg_type', 'balance','actual_balance','parent_balance',\n",
    "                        'usable_balance','exchange','status','cusip','trading_size','name','isin','sedol','currency','date',\n",
    "                        'tipo']"
   ]
  },
  {
   "cell_type": "code",
   "execution_count": 101,
   "metadata": {
    "collapsed": false
   },
   "outputs": [],
   "source": [
    "calypso_pras = calypso_pras[['date','book_full_name','book','ticker','shares',\n",
    "                             'account','cusip','isin','sedol','currency','tipo']]\n",
    "pras_book = pras.copy()"
   ]
  },
  {
   "cell_type": "code",
   "execution_count": 102,
   "metadata": {
    "collapsed": false,
    "scrolled": true
   },
   "outputs": [],
   "source": [
    "calypso_pras['date'] = pd.to_datetime(calypso_pras['date'])\n",
    "calypso_pras['shares'] = calypso_pras['shares'].replace(',','', regex=True)\n",
    "calypso_pras['shares'] = calypso_pras['shares'].astype(float)\n",
    "\n",
    "\n",
    "pras_book['date'] = pd.to_datetime(pras_book['date'])\n",
    "pras_book['shares'] = pras_book['shares'].replace(',','', regex=True)\n",
    "pras_book['shares'] = pras_book['shares'].astype(float)"
   ]
  },
  {
   "cell_type": "code",
   "execution_count": 103,
   "metadata": {
    "collapsed": false
   },
   "outputs": [],
   "source": [
    "calypso_pras = calypso_pras[calypso_pras['shares']!=0].reset_index(drop=True)"
   ]
  },
  {
   "cell_type": "code",
   "execution_count": 104,
   "metadata": {
    "collapsed": false
   },
   "outputs": [
    {
     "data": {
      "text/html": [
       "<div>\n",
       "<table border=\"1\" class=\"dataframe\">\n",
       "  <thead>\n",
       "    <tr style=\"text-align: right;\">\n",
       "      <th></th>\n",
       "      <th>date</th>\n",
       "      <th>ticker</th>\n",
       "      <th>shares</th>\n",
       "    </tr>\n",
       "  </thead>\n",
       "  <tbody>\n",
       "  </tbody>\n",
       "</table>\n",
       "</div>"
      ],
      "text/plain": [
       "Empty DataFrame\n",
       "Columns: [date, ticker, shares]\n",
       "Index: []"
      ]
     },
     "execution_count": 104,
     "metadata": {},
     "output_type": "execute_result"
    }
   ],
   "source": [
    "check_1 = calypso_pras.groupby(by=['date','ticker']).sum().reset_index()\n",
    "if check_1[check_1['shares']!=0].shape[0]!=0:\n",
    "    print('Os trades de TREAS_OPS.CAYMAN não zeram! alguns trades estão com quantidades diferentes!!')\n",
    "check_1[check_1['shares']!=0]"
   ]
  },
  {
   "cell_type": "code",
   "execution_count": null,
   "metadata": {
    "collapsed": true
   },
   "outputs": [],
   "source": []
  },
  {
   "cell_type": "code",
   "execution_count": 105,
   "metadata": {
    "collapsed": false
   },
   "outputs": [],
   "source": [
    "calypso_pras_trade = calypso_pras[calypso_pras['book_full_name'].isnull()==True].copy()"
   ]
  },
  {
   "cell_type": "code",
   "execution_count": 106,
   "metadata": {
    "collapsed": true
   },
   "outputs": [],
   "source": [
    "calypso_pras_book = calypso_pras[calypso_pras['book_full_name'].isnull()==False].copy()"
   ]
  },
  {
   "cell_type": "code",
   "execution_count": null,
   "metadata": {
    "collapsed": true
   },
   "outputs": [],
   "source": []
  },
  {
   "cell_type": "code",
   "execution_count": 107,
   "metadata": {
    "collapsed": true
   },
   "outputs": [],
   "source": [
    "calypso_batimento_treas = calypso_pras_book.reset_index(drop=True).copy()"
   ]
  },
  {
   "cell_type": "code",
   "execution_count": 108,
   "metadata": {
    "collapsed": false
   },
   "outputs": [],
   "source": [
    "calypso_batimento_treas_grouped = calypso_batimento_treas.groupby(by=['date','ticker']).sum().reset_index()"
   ]
  },
  {
   "cell_type": "code",
   "execution_count": 109,
   "metadata": {
    "collapsed": false,
    "scrolled": true
   },
   "outputs": [],
   "source": [
    "calypso_batimento_treas = pd.merge(calypso_batimento_treas, calypso_batimento_treas_grouped, on=['date','ticker'], how = 'left')"
   ]
  },
  {
   "cell_type": "code",
   "execution_count": 110,
   "metadata": {
    "collapsed": false
   },
   "outputs": [],
   "source": [
    "calypso_batimento_treas = calypso_batimento_treas.rename(columns={\n",
    "    'shares_x':'qt_client',\n",
    "    'shares_y':'qt_asset'\n",
    "})"
   ]
  },
  {
   "cell_type": "code",
   "execution_count": 111,
   "metadata": {
    "collapsed": false
   },
   "outputs": [],
   "source": [
    "calypso_batimento_treas = calypso_batimento_treas[calypso_batimento_treas['qt_asset']>0]"
   ]
  },
  {
   "cell_type": "code",
   "execution_count": null,
   "metadata": {
    "collapsed": true
   },
   "outputs": [],
   "source": []
  },
  {
   "cell_type": "code",
   "execution_count": 112,
   "metadata": {
    "collapsed": false
   },
   "outputs": [],
   "source": [
    "abertura_pb_treas_ops = abertura[abertura['book']=='TREAS_OPS.CAYMAN'].copy()"
   ]
  },
  {
   "cell_type": "code",
   "execution_count": 113,
   "metadata": {
    "collapsed": false
   },
   "outputs": [],
   "source": [
    "abertura_pb_treas_ops = abertura_pb_treas_ops.rename(columns={\n",
    "    'data_ref':'date',\n",
    "    'quantidade_book':'qt_asset'\n",
    "})"
   ]
  },
  {
   "cell_type": "code",
   "execution_count": 114,
   "metadata": {
    "collapsed": false
   },
   "outputs": [],
   "source": [
    "abertura_treas_ops = pd.merge(abertura_pb_treas_ops, calypso_batimento_treas, on=['date','ticker'], how='left')"
   ]
  },
  {
   "cell_type": "code",
   "execution_count": null,
   "metadata": {
    "collapsed": true
   },
   "outputs": [],
   "source": []
  },
  {
   "cell_type": "code",
   "execution_count": 115,
   "metadata": {
    "collapsed": false
   },
   "outputs": [],
   "source": [
    "if abertura_treas_ops[abertura_treas_ops['qt_asset_y'].isnull()==True].shape[0]!=0:\n",
    "    print ('Nem todos os trades de TREAS_OPS.CAYMAN foram redistribuídos')"
   ]
  },
  {
   "cell_type": "code",
   "execution_count": null,
   "metadata": {
    "collapsed": true
   },
   "outputs": [],
   "source": []
  },
  {
   "cell_type": "code",
   "execution_count": 116,
   "metadata": {
    "collapsed": false
   },
   "outputs": [],
   "source": [
    "abertura_treas_ops = abertura_treas_ops.rename(columns={\n",
    "    'qt_asset_x':'qt_asset_pb',\n",
    "    'qt_asset_y':'qt_asset_calypso',\n",
    "    'book_x':'book',\n",
    "    'currency_x':'currency_pb',\n",
    "    'currency_y':'currency_calypso',\n",
    "    \n",
    "}).drop(['book_y','sedol_x','sedol_y'], axis=1)[['conta','agent','account','acc','date','book','book_full_name','ticker',\n",
    "                                                 'qt_client','qt_asset_pb','qt_asset_calypso','currency_pb','currency_calypso',\n",
    "                                                'accrual_final']].copy()"
   ]
  },
  {
   "cell_type": "code",
   "execution_count": 117,
   "metadata": {
    "collapsed": false
   },
   "outputs": [],
   "source": [
    "check_30=abertura_treas_ops[abs(abertura_treas_ops['qt_asset_pb'])!=abs(abertura_treas_ops['qt_asset_calypso'])].shape[0]\n",
    "if check_30!=0:\n",
    "    print('Alguns [%s] trades não estão batidos!! tem que conferir' %check_30)"
   ]
  },
  {
   "cell_type": "code",
   "execution_count": null,
   "metadata": {
    "collapsed": true
   },
   "outputs": [],
   "source": []
  },
  {
   "cell_type": "code",
   "execution_count": 118,
   "metadata": {
    "collapsed": false,
    "scrolled": false
   },
   "outputs": [],
   "source": [
    "abertura_treas_ops.loc[:,'pct'] = abertura_treas_ops['qt_client']/abertura_treas_ops['qt_asset_calypso']\n",
    "abertura_treas_ops.loc[:,'custo_book'] = abertura_treas_ops['pct']*abertura_treas_ops['accrual_final']\n",
    "abertura_treas_ops.loc[:,'conta_client_n_adjusted'] = abertura_treas_ops['book_full_name'].str.split(' ').str[0]\n",
    "abertura_treas_ops.loc[:,'conta_client_mapped']=abertura_treas_ops.loc[:,'conta_client_n_adjusted'].map(client_acc_change_name_dict)\n",
    "abertura_treas_ops.loc[:,'conta_client'] = np.where(abertura_treas_ops.loc[:,'conta_client_mapped'].isnull()==False,\n",
    "                                                   abertura_treas_ops.loc[:,'conta_client_mapped'],\n",
    "                                                   abertura_treas_ops.loc[:,'conta_client_n_adjusted'])\n",
    "abertura_treas_ops = abertura_treas_ops.drop(['conta_client_n_adjusted', 'conta_client_mapped'], axis=1)"
   ]
  },
  {
   "cell_type": "code",
   "execution_count": null,
   "metadata": {
    "collapsed": true
   },
   "outputs": [],
   "source": []
  },
  {
   "cell_type": "code",
   "execution_count": 119,
   "metadata": {
    "collapsed": false,
    "scrolled": true
   },
   "outputs": [
    {
     "data": {
      "text/plain": [
       "accrual_final   NaN\n",
       "custo_book      NaN\n",
       "dtype: float64"
      ]
     },
     "execution_count": 119,
     "metadata": {},
     "output_type": "execute_result"
    }
   ],
   "source": [
    "abertura_treas_ops[['custo_book']].sum()+abertura_pb_treas_ops[['accrual_final']].sum()"
   ]
  },
  {
   "cell_type": "code",
   "execution_count": null,
   "metadata": {
    "collapsed": true
   },
   "outputs": [],
   "source": []
  },
  {
   "cell_type": "code",
   "execution_count": 120,
   "metadata": {
    "collapsed": false,
    "scrolled": true
   },
   "outputs": [
    {
     "name": "stdout",
     "output_type": "stream",
     "text": [
      "4780 -- -156427.0 -- ALSEA* MM -- 2018-10-01 00:00:00\n",
      "BTG INT G BTG CAYMAN USD -- -215927.0 -- ALFAA MM -- 2018-10-01 00:00:00\n",
      "4780 -- -5403125.0 -- AMXL MM -- 2018-10-01 00:00:00\n",
      "BTG INT G BTG CAYMAN USD -- -843011.0 -- AMXL MM -- 2018-10-01 00:00:00\n",
      "4780 -- -722191.0 -- CEMEXCPO MM -- 2018-10-01 00:00:00\n",
      "BTG INT G BTG CAYMAN USD -- 214225.0 -- CEMEXCPO MM -- 2018-10-01 00:00:00\n",
      "4780 -- -936764.0 -- FUNO11 MM -- 2018-10-01 00:00:00\n",
      "4780 -- -807679.0 -- GMEXICOB MM -- 2018-10-01 00:00:00\n",
      "4780 -- -59101.0 -- LIVEPOLC MM -- 2018-10-01 00:00:00\n",
      "4780 -- -489133.0 -- KIMBERA MM -- 2018-10-01 00:00:00\n",
      "4780 -- -112889.0 -- KOFL MM -- 2018-10-01 00:00:00\n",
      "BTG INT G BTG CAYMAN USD -- -10350.0 -- PE&OLES* MM -- 2018-10-01 00:00:00\n",
      "BTG INT G BTG CAYMAN USD -- -334079.0 -- WALMEX* MM -- 2018-10-01 00:00:00\n",
      "BTG INT G BTG CAYMAN USD -- -150465.0 -- TLEVICPO MM -- 2018-10-01 00:00:00\n",
      "4780 -- -591068.0 -- BSMXB MM -- 2018-10-01 00:00:00\n",
      "BTG INT G BTG CAYMAN USD -- -19589.0 -- SPY US -- 2018-10-01 00:00:00\n",
      "BTG INT G BTG CAYMAN USD -- -258134.0 -- EWW US -- 2018-10-01 00:00:00\n",
      "4780 -- -415047.0 -- EWW US -- 2018-10-01 00:00:00\n",
      "4780 -- -459826.0 -- ALSEA* MM -- 2018-10-02 00:00:00\n",
      "BTG INT G BTG CAYMAN USD -- -149117.0 -- ALSEA* MM -- 2018-10-02 00:00:00\n",
      "BTG INT G BTG CAYMAN USD -- -242732.0 -- ALFAA MM -- 2018-10-02 00:00:00\n",
      "4780 -- -6197802.0 -- AMXL MM -- 2018-10-02 00:00:00\n",
      "BTG INT G BTG CAYMAN USD -- -1079852.0 -- AMXL MM -- 2018-10-02 00:00:00\n",
      "4780 -- -1013623.0 -- CEMEXCPO MM -- 2018-10-02 00:00:00\n",
      "BTG INT G BTG CAYMAN USD -- 146831.0 -- CEMEXCPO MM -- 2018-10-02 00:00:00\n",
      "4780 -- -1012877.0 -- FUNO11 MM -- 2018-10-02 00:00:00\n",
      "4780 -- -875029.0 -- GMEXICOB MM -- 2018-10-02 00:00:00\n",
      "4780 -- -63808.0 -- LIVEPOLC MM -- 2018-10-02 00:00:00\n",
      "4780 -- -528591.0 -- KIMBERA MM -- 2018-10-02 00:00:00\n",
      "4780 -- -121902.0 -- KOFL MM -- 2018-10-02 00:00:00\n",
      "BTG INT G BTG CAYMAN USD -- -11614.0 -- PE&OLES* MM -- 2018-10-02 00:00:00\n",
      "BTG INT G BTG CAYMAN USD -- -372702.0 -- WALMEX* MM -- 2018-10-02 00:00:00\n",
      "BTG INT G BTG CAYMAN USD -- -169153.0 -- TLEVICPO MM -- 2018-10-02 00:00:00\n",
      "BTG INT G BTG CAYMAN USD -- -19691.0 -- SPY US -- 2018-10-02 00:00:00\n",
      "BTG INT G BTG CAYMAN USD -- -246867.0 -- EWW US -- 2018-10-02 00:00:00\n",
      "4780 -- -336782.0 -- EWW US -- 2018-10-02 00:00:00\n",
      "4780 -- -465585.0 -- ALSEA* MM -- 2018-10-03 00:00:00\n",
      "BTG INT G BTG CAYMAN USD -- -151224.0 -- ALSEA* MM -- 2018-10-03 00:00:00\n",
      "BTG INT G BTG CAYMAN USD -- -255374.0 -- ALFAA MM -- 2018-10-03 00:00:00\n",
      "4780 -- -6553329.0 -- AMXL MM -- 2018-10-03 00:00:00\n",
      "BTG INT G BTG CAYMAN USD -- -1209939.0 -- AMXL MM -- 2018-10-03 00:00:00\n",
      "4780 -- -789791.0 -- CEMEXCPO MM -- 2018-10-03 00:00:00\n",
      "BTG INT G BTG CAYMAN USD -- 228731.0 -- CEMEXCPO MM -- 2018-10-03 00:00:00\n",
      "4780 -- -904072.0 -- GMEXICOB MM -- 2018-10-03 00:00:00\n",
      "4780 -- -65561.0 -- LIVEPOLC MM -- 2018-10-03 00:00:00\n",
      "4780 -- -545115.0 -- KIMBERA MM -- 2018-10-03 00:00:00\n",
      "4780 -- -125908.0 -- KOFL MM -- 2018-10-03 00:00:00\n",
      "BTG INT G BTG CAYMAN USD -- -12072.0 -- PE&OLES* MM -- 2018-10-03 00:00:00\n",
      "BTG INT G BTG CAYMAN USD -- -389925.0 -- WALMEX* MM -- 2018-10-03 00:00:00\n",
      "BTG INT G BTG CAYMAN USD -- -177764.0 -- TLEVICPO MM -- 2018-10-03 00:00:00\n",
      "BTG INT G BTG CAYMAN USD -- -19691.0 -- SPY US -- 2018-10-03 00:00:00\n",
      "BTG INT G BTG CAYMAN USD -- -246867.0 -- EWW US -- 2018-10-03 00:00:00\n",
      "4780 -- -336782.0 -- EWW US -- 2018-10-03 00:00:00\n",
      "4780 -- -539194.0 -- ALSEA* MM -- 2018-10-04 00:00:00\n",
      "BTG INT G BTG CAYMAN USD -- -178157.0 -- ALSEA* MM -- 2018-10-04 00:00:00\n",
      "BTG INT G BTG CAYMAN USD -- -255374.0 -- ALFAA MM -- 2018-10-04 00:00:00\n",
      "4780 -- -6553329.0 -- AMXL MM -- 2018-10-04 00:00:00\n",
      "BTG INT G BTG CAYMAN USD -- -1209939.0 -- AMXL MM -- 2018-10-04 00:00:00\n",
      "4780 -- -434264.0 -- CEMEXCPO MM -- 2018-10-04 00:00:00\n",
      "BTG INT G BTG CAYMAN USD -- 358817.0 -- CEMEXCPO MM -- 2018-10-04 00:00:00\n",
      "4780 -- -904072.0 -- GMEXICOB MM -- 2018-10-04 00:00:00\n",
      "4780 -- -65561.0 -- LIVEPOLC MM -- 2018-10-04 00:00:00\n",
      "4780 -- -545115.0 -- KIMBERA MM -- 2018-10-04 00:00:00\n",
      "4780 -- -125908.0 -- KOFL MM -- 2018-10-04 00:00:00\n",
      "BTG INT G BTG CAYMAN USD -- -12072.0 -- PE&OLES* MM -- 2018-10-04 00:00:00\n",
      "BTG INT G BTG CAYMAN USD -- -389925.0 -- WALMEX* MM -- 2018-10-04 00:00:00\n",
      "BTG INT G BTG CAYMAN USD -- -177764.0 -- TLEVICPO MM -- 2018-10-04 00:00:00\n",
      "BTG INT G BTG CAYMAN USD -- -22180.0 -- SPY US -- 2018-10-04 00:00:00\n",
      "BTG INT G BTG CAYMAN USD -- -246867.0 -- EWW US -- 2018-10-04 00:00:00\n",
      "4780 -- -336782.0 -- EWW US -- 2018-10-04 00:00:00\n",
      "4780 -- -613754.0 -- ALSEA* MM -- 2018-10-05 00:00:00\n",
      "BTG INT G BTG CAYMAN USD -- -205439.0 -- ALSEA* MM -- 2018-10-05 00:00:00\n",
      "BTG INT G BTG CAYMAN USD -- -255374.0 -- ALFAA MM -- 2018-10-05 00:00:00\n",
      "4780 -- -6553329.0 -- AMXL MM -- 2018-10-05 00:00:00\n",
      "BTG INT G BTG CAYMAN USD -- -1209939.0 -- AMXL MM -- 2018-10-05 00:00:00\n",
      "4780 -- -904072.0 -- GMEXICOB MM -- 2018-10-05 00:00:00\n",
      "4780 -- -65561.0 -- LIVEPOLC MM -- 2018-10-05 00:00:00\n",
      "4780 -- -545115.0 -- KIMBERA MM -- 2018-10-05 00:00:00\n",
      "4780 -- -125908.0 -- KOFL MM -- 2018-10-05 00:00:00\n",
      "BTG INT G BTG CAYMAN USD -- -12072.0 -- PE&OLES* MM -- 2018-10-05 00:00:00\n",
      "BTG INT G BTG CAYMAN USD -- -389925.0 -- WALMEX* MM -- 2018-10-05 00:00:00\n",
      "BTG INT G BTG CAYMAN USD -- -177764.0 -- TLEVICPO MM -- 2018-10-05 00:00:00\n",
      "BTG INT G BTG CAYMAN USD -- -20935.0 -- SPY US -- 2018-10-05 00:00:00\n",
      "BTG INT G BTG CAYMAN USD -- -246867.0 -- EWW US -- 2018-10-05 00:00:00\n",
      "4780 -- -336782.0 -- EWW US -- 2018-10-05 00:00:00\n",
      "4780 -- -619892.0 -- ALSEA* MM -- 2018-10-08 00:00:00\n",
      "BTG INT G BTG CAYMAN USD -- -207685.0 -- ALSEA* MM -- 2018-10-08 00:00:00\n",
      "BTG INT G BTG CAYMAN USD -- -268498.0 -- ALFAA MM -- 2018-10-08 00:00:00\n",
      "4780 -- -6936178.0 -- AMXL MM -- 2018-10-08 00:00:00\n",
      "BTG INT G BTG CAYMAN USD -- -1350023.0 -- AMXL MM -- 2018-10-08 00:00:00\n",
      "4780 -- -934756.0 -- GMEXICOB MM -- 2018-10-08 00:00:00\n",
      "4780 -- -67582.0 -- LIVEPOLC MM -- 2018-10-08 00:00:00\n",
      "4780 -- -562868.0 -- KIMBERA MM -- 2018-10-08 00:00:00\n",
      "4780 -- -129989.0 -- KOFL MM -- 2018-10-08 00:00:00\n",
      "BTG INT G BTG CAYMAN USD -- -12617.0 -- PE&OLES* MM -- 2018-10-08 00:00:00\n",
      "BTG INT G BTG CAYMAN USD -- -408604.0 -- WALMEX* MM -- 2018-10-08 00:00:00\n",
      "BTG INT G BTG CAYMAN USD -- -187012.0 -- TLEVICPO MM -- 2018-10-08 00:00:00\n",
      "BTG INT G BTG CAYMAN USD -- -20935.0 -- SPY US -- 2018-10-08 00:00:00\n",
      "BTG INT G BTG CAYMAN USD -- -246867.0 -- EWW US -- 2018-10-08 00:00:00\n",
      "4780 -- -336782.0 -- EWW US -- 2018-10-08 00:00:00\n",
      "4780 -- -619892.0 -- ALSEA* MM -- 2018-10-09 00:00:00\n",
      "BTG INT G BTG CAYMAN USD -- -214125.0 -- ALSEA* MM -- 2018-10-09 00:00:00\n",
      "BTG INT G BTG CAYMAN USD -- -268498.0 -- ALFAA MM -- 2018-10-09 00:00:00\n",
      "4780 -- -6936178.0 -- AMXL MM -- 2018-10-09 00:00:00\n",
      "BTG INT G BTG CAYMAN USD -- -1289783.0 -- AMXL MM -- 2018-10-09 00:00:00\n",
      "4780 -- -934756.0 -- GMEXICOB MM -- 2018-10-09 00:00:00\n",
      "4780 -- -67582.0 -- LIVEPOLC MM -- 2018-10-09 00:00:00\n",
      "4780 -- -562868.0 -- KIMBERA MM -- 2018-10-09 00:00:00\n",
      "4780 -- -129989.0 -- KOFL MM -- 2018-10-09 00:00:00\n",
      "BTG INT G BTG CAYMAN USD -- -12617.0 -- PE&OLES* MM -- 2018-10-09 00:00:00\n",
      "BTG INT G BTG CAYMAN USD -- -408604.0 -- WALMEX* MM -- 2018-10-09 00:00:00\n",
      "BTG INT G BTG CAYMAN USD -- -187012.0 -- TLEVICPO MM -- 2018-10-09 00:00:00\n",
      "BTG INT G BTG CAYMAN USD -- -20935.0 -- SPY US -- 2018-10-09 00:00:00\n",
      "BTG INT G BTG CAYMAN USD -- -217074.0 -- EWW US -- 2018-10-09 00:00:00\n",
      "4780 -- -255357.0 -- EWW US -- 2018-10-09 00:00:00\n",
      "4780 -- -619892.0 -- ALSEA* MM -- 2018-10-10 00:00:00\n",
      "BTG INT G BTG CAYMAN USD -- -214125.0 -- ALSEA* MM -- 2018-10-10 00:00:00\n",
      "BTG INT G BTG CAYMAN USD -- -268498.0 -- ALFAA MM -- 2018-10-10 00:00:00\n",
      "4780 -- -1169635.0 -- AMXL MM -- 2018-10-10 00:00:00\n",
      "BTG INT G BTG CAYMAN USD -- 820183.0 -- AMXL MM -- 2018-10-10 00:00:00\n",
      "4780 -- -934756.0 -- GMEXICOB MM -- 2018-10-10 00:00:00\n",
      "4780 -- -67582.0 -- LIVEPOLC MM -- 2018-10-10 00:00:00\n",
      "4780 -- -562868.0 -- KIMBERA MM -- 2018-10-10 00:00:00\n",
      "4780 -- -129989.0 -- KOFL MM -- 2018-10-10 00:00:00\n",
      "BTG INT G BTG CAYMAN USD -- -12617.0 -- PE&OLES* MM -- 2018-10-10 00:00:00\n",
      "BTG INT G BTG CAYMAN USD -- -408604.0 -- WALMEX* MM -- 2018-10-10 00:00:00\n",
      "BTG INT G BTG CAYMAN USD -- -187012.0 -- TLEVICPO MM -- 2018-10-10 00:00:00\n",
      "BTG INT G BTG CAYMAN USD -- -22035.0 -- SPY US -- 2018-10-10 00:00:00\n",
      "BTG INT G BTG CAYMAN USD -- -269830.0 -- EWW US -- 2018-10-10 00:00:00\n",
      "4780 -- -346492.0 -- EWW US -- 2018-10-10 00:00:00\n",
      "4780 -- -619892.0 -- ALSEA* MM -- 2018-10-11 00:00:00\n",
      "BTG INT G BTG CAYMAN USD -- -214125.0 -- ALSEA* MM -- 2018-10-11 00:00:00\n",
      "BTG INT G BTG CAYMAN USD -- -268498.0 -- ALFAA MM -- 2018-10-11 00:00:00\n",
      "4780 -- -1169635.0 -- AMXL MM -- 2018-10-11 00:00:00\n",
      "BTG INT G BTG CAYMAN USD -- 820183.0 -- AMXL MM -- 2018-10-11 00:00:00\n",
      "4780 -- -934756.0 -- GMEXICOB MM -- 2018-10-11 00:00:00\n",
      "4780 -- -67582.0 -- LIVEPOLC MM -- 2018-10-11 00:00:00\n",
      "4780 -- -562868.0 -- KIMBERA MM -- 2018-10-11 00:00:00\n",
      "4780 -- -129989.0 -- KOFL MM -- 2018-10-11 00:00:00\n",
      "BTG INT G BTG CAYMAN USD -- -12617.0 -- PE&OLES* MM -- 2018-10-11 00:00:00\n",
      "BTG INT G BTG CAYMAN USD -- -408604.0 -- WALMEX* MM -- 2018-10-11 00:00:00\n",
      "BTG INT G BTG CAYMAN USD -- -187012.0 -- TLEVICPO MM -- 2018-10-11 00:00:00\n",
      "BTG INT G BTG CAYMAN USD -- -22035.0 -- SPY US -- 2018-10-11 00:00:00\n",
      "BTG INT G BTG CAYMAN USD -- -269830.0 -- EWW US -- 2018-10-11 00:00:00\n",
      "4780 -- -346492.0 -- EWW US -- 2018-10-11 00:00:00\n",
      "4780 -- -619892.0 -- ALSEA* MM -- 2018-10-12 00:00:00\n",
      "BTG INT G BTG CAYMAN USD -- -214125.0 -- ALSEA* MM -- 2018-10-12 00:00:00\n",
      "BTG INT G BTG CAYMAN USD -- -268498.0 -- ALFAA MM -- 2018-10-12 00:00:00\n",
      "4780 -- -1169635.0 -- AMXL MM -- 2018-10-12 00:00:00\n",
      "BTG INT G BTG CAYMAN USD -- 820183.0 -- AMXL MM -- 2018-10-12 00:00:00\n",
      "4780 -- -934756.0 -- GMEXICOB MM -- 2018-10-12 00:00:00\n",
      "4780 -- -67582.0 -- LIVEPOLC MM -- 2018-10-12 00:00:00\n",
      "4780 -- -562868.0 -- KIMBERA MM -- 2018-10-12 00:00:00\n",
      "4780 -- -129989.0 -- KOFL MM -- 2018-10-12 00:00:00\n",
      "BTG INT G BTG CAYMAN USD -- -12617.0 -- PE&OLES* MM -- 2018-10-12 00:00:00\n",
      "BTG INT G BTG CAYMAN USD -- -408604.0 -- WALMEX* MM -- 2018-10-12 00:00:00\n",
      "BTG INT G BTG CAYMAN USD -- -187012.0 -- TLEVICPO MM -- 2018-10-12 00:00:00\n",
      "BTG INT G BTG CAYMAN USD -- -24575.0 -- SPY US -- 2018-10-12 00:00:00\n",
      "BTG INT G BTG CAYMAN USD -- -269830.0 -- EWW US -- 2018-10-12 00:00:00\n",
      "4780 -- -346492.0 -- EWW US -- 2018-10-12 00:00:00\n",
      "4780 -- -619892.0 -- ALSEA* MM -- 2018-10-15 00:00:00\n",
      "BTG INT G BTG CAYMAN USD -- -214125.0 -- ALSEA* MM -- 2018-10-15 00:00:00\n",
      "BTG INT G BTG CAYMAN USD -- -268498.0 -- ALFAA MM -- 2018-10-15 00:00:00\n",
      "4780 -- -1169635.0 -- AMXL MM -- 2018-10-15 00:00:00\n",
      "BTG INT G BTG CAYMAN USD -- 820183.0 -- AMXL MM -- 2018-10-15 00:00:00\n",
      "4780 -- -934756.0 -- GMEXICOB MM -- 2018-10-15 00:00:00\n",
      "4780 -- -67582.0 -- LIVEPOLC MM -- 2018-10-15 00:00:00\n",
      "4780 -- -562868.0 -- KIMBERA MM -- 2018-10-15 00:00:00\n",
      "4780 -- -129989.0 -- KOFL MM -- 2018-10-15 00:00:00\n",
      "BTG INT G BTG CAYMAN USD -- -12617.0 -- PE&OLES* MM -- 2018-10-15 00:00:00\n",
      "BTG INT G BTG CAYMAN USD -- -408604.0 -- WALMEX* MM -- 2018-10-15 00:00:00\n",
      "BTG INT G BTG CAYMAN USD -- -187012.0 -- TLEVICPO MM -- 2018-10-15 00:00:00\n",
      "BTG INT G BTG CAYMAN USD -- -24575.0 -- SPY US -- 2018-10-15 00:00:00\n",
      "BTG INT G BTG CAYMAN USD -- -269830.0 -- EWW US -- 2018-10-15 00:00:00\n",
      "4780 -- -346492.0 -- EWW US -- 2018-10-15 00:00:00\n",
      "4780 -- -619892.0 -- ALSEA* MM -- 2018-10-16 00:00:00\n",
      "BTG INT G BTG CAYMAN USD -- -214125.0 -- ALSEA* MM -- 2018-10-16 00:00:00\n",
      "BTG INT G BTG CAYMAN USD -- -268498.0 -- ALFAA MM -- 2018-10-16 00:00:00\n",
      "4780 -- -1169635.0 -- AMXL MM -- 2018-10-16 00:00:00\n",
      "BTG INT G BTG CAYMAN USD -- 820183.0 -- AMXL MM -- 2018-10-16 00:00:00\n",
      "4780 -- -934756.0 -- GMEXICOB MM -- 2018-10-16 00:00:00\n",
      "4780 -- -67582.0 -- LIVEPOLC MM -- 2018-10-16 00:00:00\n",
      "4780 -- -562868.0 -- KIMBERA MM -- 2018-10-16 00:00:00\n",
      "4780 -- -129989.0 -- KOFL MM -- 2018-10-16 00:00:00\n",
      "BTG INT G BTG CAYMAN USD -- -12617.0 -- PE&OLES* MM -- 2018-10-16 00:00:00\n",
      "BTG INT G BTG CAYMAN USD -- -408604.0 -- WALMEX* MM -- 2018-10-16 00:00:00\n",
      "BTG INT G BTG CAYMAN USD -- -187012.0 -- TLEVICPO MM -- 2018-10-16 00:00:00\n",
      "BTG INT G BTG CAYMAN USD -- -24575.0 -- SPY US -- 2018-10-16 00:00:00\n",
      "BTG INT G BTG CAYMAN USD -- -269830.0 -- EWW US -- 2018-10-16 00:00:00\n",
      "4780 -- -346492.0 -- EWW US -- 2018-10-16 00:00:00\n",
      "4780 -- -619892.0 -- ALSEA* MM -- 2018-10-17 00:00:00\n",
      "BTG INT G BTG CAYMAN USD -- -221095.0 -- ALSEA* MM -- 2018-10-17 00:00:00\n",
      "BTG INT G BTG CAYMAN USD -- -268498.0 -- ALFAA MM -- 2018-10-17 00:00:00\n",
      "4780 -- -1169635.0 -- AMXL MM -- 2018-10-17 00:00:00\n",
      "BTG INT G BTG CAYMAN USD -- 973403.0 -- AMXL MM -- 2018-10-17 00:00:00\n",
      "4780 -- -934756.0 -- GMEXICOB MM -- 2018-10-17 00:00:00\n",
      "4780 -- -67582.0 -- LIVEPOLC MM -- 2018-10-17 00:00:00\n",
      "4780 -- -562868.0 -- KIMBERA MM -- 2018-10-17 00:00:00\n",
      "4780 -- -129989.0 -- KOFL MM -- 2018-10-17 00:00:00\n",
      "BTG INT G BTG CAYMAN USD -- -12617.0 -- PE&OLES* MM -- 2018-10-17 00:00:00\n",
      "BTG INT G BTG CAYMAN USD -- -408604.0 -- WALMEX* MM -- 2018-10-17 00:00:00\n",
      "BTG INT G BTG CAYMAN USD -- -187012.0 -- TLEVICPO MM -- 2018-10-17 00:00:00\n",
      "BTG INT G BTG CAYMAN USD -- -25093.0 -- SPY US -- 2018-10-17 00:00:00\n",
      "BTG INT G BTG CAYMAN USD -- -292220.0 -- EWW US -- 2018-10-17 00:00:00\n",
      "4780 -- -346492.0 -- EWW US -- 2018-10-17 00:00:00\n",
      "4780 -- -619892.0 -- ALSEA* MM -- 2018-10-18 00:00:00\n",
      "BTG INT G BTG CAYMAN USD -- -221095.0 -- ALSEA* MM -- 2018-10-18 00:00:00\n",
      "BTG INT G BTG CAYMAN USD -- -268498.0 -- ALFAA MM -- 2018-10-18 00:00:00\n",
      "4780 -- -1169635.0 -- AMXL MM -- 2018-10-18 00:00:00\n",
      "BTG INT G BTG CAYMAN USD -- 973403.0 -- AMXL MM -- 2018-10-18 00:00:00\n",
      "4780 -- -934756.0 -- GMEXICOB MM -- 2018-10-18 00:00:00\n",
      "4780 -- -67582.0 -- LIVEPOLC MM -- 2018-10-18 00:00:00\n",
      "4780 -- -562868.0 -- KIMBERA MM -- 2018-10-18 00:00:00\n",
      "4780 -- -129989.0 -- KOFL MM -- 2018-10-18 00:00:00\n",
      "BTG INT G BTG CAYMAN USD -- -12617.0 -- PE&OLES* MM -- 2018-10-18 00:00:00\n",
      "BTG INT G BTG CAYMAN USD -- -408604.0 -- WALMEX* MM -- 2018-10-18 00:00:00\n",
      "BTG INT G BTG CAYMAN USD -- -187012.0 -- TLEVICPO MM -- 2018-10-18 00:00:00\n",
      "BTG INT G BTG CAYMAN USD -- -25093.0 -- SPY US -- 2018-10-18 00:00:00\n",
      "BTG INT G BTG CAYMAN USD -- -292220.0 -- EWW US -- 2018-10-18 00:00:00\n",
      "4780 -- -346492.0 -- EWW US -- 2018-10-18 00:00:00\n",
      "4780 -- -619892.0 -- ALSEA* MM -- 2018-10-19 00:00:00\n",
      "BTG INT G BTG CAYMAN USD -- -221095.0 -- ALSEA* MM -- 2018-10-19 00:00:00\n",
      "BTG INT G BTG CAYMAN USD -- -268498.0 -- ALFAA MM -- 2018-10-19 00:00:00\n",
      "4780 -- -1169635.0 -- AMXL MM -- 2018-10-19 00:00:00\n",
      "BTG INT G BTG CAYMAN USD -- 973403.0 -- AMXL MM -- 2018-10-19 00:00:00\n",
      "4780 -- -934756.0 -- GMEXICOB MM -- 2018-10-19 00:00:00\n",
      "4780 -- -67582.0 -- LIVEPOLC MM -- 2018-10-19 00:00:00\n",
      "4780 -- -562868.0 -- KIMBERA MM -- 2018-10-19 00:00:00\n",
      "4780 -- -129989.0 -- KOFL MM -- 2018-10-19 00:00:00\n",
      "BTG INT G BTG CAYMAN USD -- -12617.0 -- PE&OLES* MM -- 2018-10-19 00:00:00\n",
      "BTG INT G BTG CAYMAN USD -- -408604.0 -- WALMEX* MM -- 2018-10-19 00:00:00\n",
      "BTG INT G BTG CAYMAN USD -- -187012.0 -- TLEVICPO MM -- 2018-10-19 00:00:00\n",
      "BTG INT G BTG CAYMAN USD -- -24043.0 -- SPY US -- 2018-10-19 00:00:00\n",
      "BTG INT G BTG CAYMAN USD -- -292220.0 -- EWW US -- 2018-10-19 00:00:00\n",
      "4780 -- -346492.0 -- EWW US -- 2018-10-19 00:00:00\n",
      "4780 -- -619892.0 -- ALSEA* MM -- 2018-10-22 00:00:00\n",
      "BTG INT G BTG CAYMAN USD -- -227965.0 -- ALSEA* MM -- 2018-10-22 00:00:00\n",
      "BTG INT G BTG CAYMAN USD -- -268498.0 -- ALFAA MM -- 2018-10-22 00:00:00\n",
      "4780 -- -1169635.0 -- AMXL MM -- 2018-10-22 00:00:00\n",
      "BTG INT G BTG CAYMAN USD -- 1124563.0 -- AMXL MM -- 2018-10-22 00:00:00\n",
      "4780 -- -934756.0 -- GMEXICOB MM -- 2018-10-22 00:00:00\n",
      "4780 -- -67582.0 -- LIVEPOLC MM -- 2018-10-22 00:00:00\n",
      "4780 -- -562868.0 -- KIMBERA MM -- 2018-10-22 00:00:00\n",
      "4780 -- -129989.0 -- KOFL MM -- 2018-10-22 00:00:00\n",
      "BTG INT G BTG CAYMAN USD -- -12617.0 -- PE&OLES* MM -- 2018-10-22 00:00:00\n",
      "BTG INT G BTG CAYMAN USD -- -408604.0 -- WALMEX* MM -- 2018-10-22 00:00:00\n",
      "BTG INT G BTG CAYMAN USD -- -187012.0 -- TLEVICPO MM -- 2018-10-22 00:00:00\n",
      "BTG INT G BTG CAYMAN USD -- -19843.0 -- SPY US -- 2018-10-22 00:00:00\n",
      "BTG INT G BTG CAYMAN USD -- -350945.0 -- EWW US -- 2018-10-22 00:00:00\n",
      "4780 -- -446640.0 -- EWW US -- 2018-10-22 00:00:00\n",
      "4780 -- -570936.0 -- ALSEA* MM -- 2018-10-23 00:00:00\n",
      "BTG INT G BTG CAYMAN USD -- -245059.0 -- ALSEA* MM -- 2018-10-23 00:00:00\n",
      "BTG INT G BTG CAYMAN USD -- -334583.0 -- ALFAA MM -- 2018-10-23 00:00:00\n",
      "4780 -- -706066.0 -- GMEXICOB MM -- 2018-10-23 00:00:00\n",
      "4780 -- -50821.0 -- LIVEPOLC MM -- 2018-10-23 00:00:00\n",
      "4780 -- -424366.0 -- KIMBERA MM -- 2018-10-23 00:00:00\n",
      "4780 -- -98013.0 -- KOFL MM -- 2018-10-23 00:00:00\n",
      "BTG INT G BTG CAYMAN USD -- -15771.0 -- PE&OLES* MM -- 2018-10-23 00:00:00\n",
      "BTG INT G BTG CAYMAN USD -- -510407.0 -- WALMEX* MM -- 2018-10-23 00:00:00\n",
      "BTG INT G BTG CAYMAN USD -- -233173.0 -- TLEVICPO MM -- 2018-10-23 00:00:00\n",
      "BTG INT G BTG CAYMAN USD -- -19843.0 -- SPY US -- 2018-10-23 00:00:00\n",
      "BTG INT G BTG CAYMAN USD -- -314624.0 -- EWW US -- 2018-10-23 00:00:00\n",
      "4780 -- -733006.0 -- EWW US -- 2018-10-23 00:00:00\n",
      "4780 -- -570936.0 -- ALSEA* MM -- 2018-10-24 00:00:00\n",
      "BTG INT G BTG CAYMAN USD -- -245059.0 -- ALSEA* MM -- 2018-10-24 00:00:00\n",
      "BTG INT G BTG CAYMAN USD -- -334583.0 -- ALFAA MM -- 2018-10-24 00:00:00\n",
      "4780 -- -706066.0 -- GMEXICOB MM -- 2018-10-24 00:00:00\n",
      "4780 -- -50821.0 -- LIVEPOLC MM -- 2018-10-24 00:00:00\n",
      "4780 -- -424366.0 -- KIMBERA MM -- 2018-10-24 00:00:00\n",
      "4780 -- -98013.0 -- KOFL MM -- 2018-10-24 00:00:00\n",
      "BTG INT G BTG CAYMAN USD -- -15771.0 -- PE&OLES* MM -- 2018-10-24 00:00:00\n",
      "BTG INT G BTG CAYMAN USD -- -510407.0 -- WALMEX* MM -- 2018-10-24 00:00:00\n",
      "BTG INT G BTG CAYMAN USD -- -233173.0 -- TLEVICPO MM -- 2018-10-24 00:00:00\n",
      "BTG INT G BTG CAYMAN USD -- -19843.0 -- SPY US -- 2018-10-24 00:00:00\n",
      "BTG INT G BTG CAYMAN USD -- -314624.0 -- EWW US -- 2018-10-24 00:00:00\n",
      "4780 -- -733006.0 -- EWW US -- 2018-10-24 00:00:00\n",
      "4780 -- -570936.0 -- ALSEA* MM -- 2018-10-25 00:00:00\n",
      "BTG INT G BTG CAYMAN USD -- -245059.0 -- ALSEA* MM -- 2018-10-25 00:00:00\n",
      "BTG INT G BTG CAYMAN USD -- -334583.0 -- ALFAA MM -- 2018-10-25 00:00:00\n",
      "4780 -- -706066.0 -- GMEXICOB MM -- 2018-10-25 00:00:00\n",
      "4780 -- -50821.0 -- LIVEPOLC MM -- 2018-10-25 00:00:00\n",
      "4780 -- -424366.0 -- KIMBERA MM -- 2018-10-25 00:00:00\n",
      "4780 -- -98013.0 -- KOFL MM -- 2018-10-25 00:00:00\n",
      "BTG INT G BTG CAYMAN USD -- -15771.0 -- PE&OLES* MM -- 2018-10-25 00:00:00\n",
      "BTG INT G BTG CAYMAN USD -- -510407.0 -- WALMEX* MM -- 2018-10-25 00:00:00\n",
      "BTG INT G BTG CAYMAN USD -- -233173.0 -- TLEVICPO MM -- 2018-10-25 00:00:00\n",
      "BTG INT G BTG CAYMAN USD -- -19843.0 -- SPY US -- 2018-10-25 00:00:00\n",
      "BTG INT G BTG CAYMAN USD -- -314624.0 -- EWW US -- 2018-10-25 00:00:00\n",
      "4780 -- -733006.0 -- EWW US -- 2018-10-25 00:00:00\n",
      "4780 -- -570936.0 -- ALSEA* MM -- 2018-10-26 00:00:00\n",
      "BTG INT G BTG CAYMAN USD -- -245059.0 -- ALSEA* MM -- 2018-10-26 00:00:00\n",
      "BTG INT G BTG CAYMAN USD -- -334583.0 -- ALFAA MM -- 2018-10-26 00:00:00\n",
      "4780 -- -706066.0 -- GMEXICOB MM -- 2018-10-26 00:00:00\n",
      "4780 -- -50821.0 -- LIVEPOLC MM -- 2018-10-26 00:00:00\n",
      "4780 -- -424366.0 -- KIMBERA MM -- 2018-10-26 00:00:00\n",
      "4780 -- -98013.0 -- KOFL MM -- 2018-10-26 00:00:00\n",
      "BTG INT G BTG CAYMAN USD -- -15771.0 -- PE&OLES* MM -- 2018-10-26 00:00:00\n",
      "BTG INT G BTG CAYMAN USD -- -510407.0 -- WALMEX* MM -- 2018-10-26 00:00:00\n",
      "BTG INT G BTG CAYMAN USD -- -233173.0 -- TLEVICPO MM -- 2018-10-26 00:00:00\n",
      "BTG INT G BTG CAYMAN USD -- -24043.0 -- SPY US -- 2018-10-26 00:00:00\n",
      "BTG INT G BTG CAYMAN USD -- -314624.0 -- EWW US -- 2018-10-26 00:00:00\n",
      "4780 -- -733006.0 -- EWW US -- 2018-10-26 00:00:00\n",
      "4780 -- -570936.0 -- ALSEA* MM -- 2018-10-29 00:00:00\n",
      "BTG INT G BTG CAYMAN USD -- -245059.0 -- ALSEA* MM -- 2018-10-29 00:00:00\n",
      "BTG INT G BTG CAYMAN USD -- -334583.0 -- ALFAA MM -- 2018-10-29 00:00:00\n",
      "4780 -- -706066.0 -- GMEXICOB MM -- 2018-10-29 00:00:00\n",
      "4780 -- -50821.0 -- LIVEPOLC MM -- 2018-10-29 00:00:00\n",
      "4780 -- -424366.0 -- KIMBERA MM -- 2018-10-29 00:00:00\n",
      "4780 -- -98013.0 -- KOFL MM -- 2018-10-29 00:00:00\n",
      "BTG INT G BTG CAYMAN USD -- -15771.0 -- PE&OLES* MM -- 2018-10-29 00:00:00\n",
      "BTG INT G BTG CAYMAN USD -- -510407.0 -- WALMEX* MM -- 2018-10-29 00:00:00\n",
      "BTG INT G BTG CAYMAN USD -- -233173.0 -- TLEVICPO MM -- 2018-10-29 00:00:00\n",
      "BTG INT G BTG CAYMAN USD -- -24043.0 -- SPY US -- 2018-10-29 00:00:00\n",
      "BTG INT G BTG CAYMAN USD -- -314624.0 -- EWW US -- 2018-10-29 00:00:00\n",
      "4780 -- -733006.0 -- EWW US -- 2018-10-29 00:00:00\n",
      "4780 -- -570936.0 -- ALSEA* MM -- 2018-10-30 00:00:00\n",
      "BTG INT G BTG CAYMAN USD -- -245059.0 -- ALSEA* MM -- 2018-10-30 00:00:00\n",
      "BTG INT G BTG CAYMAN USD -- -334583.0 -- ALFAA MM -- 2018-10-30 00:00:00\n",
      "4780 -- -706066.0 -- GMEXICOB MM -- 2018-10-30 00:00:00\n",
      "4780 -- -50821.0 -- LIVEPOLC MM -- 2018-10-30 00:00:00\n",
      "4780 -- -424366.0 -- KIMBERA MM -- 2018-10-30 00:00:00\n",
      "4780 -- -98013.0 -- KOFL MM -- 2018-10-30 00:00:00\n",
      "BTG INT G BTG CAYMAN USD -- -15771.0 -- PE&OLES* MM -- 2018-10-30 00:00:00\n",
      "BTG INT G BTG CAYMAN USD -- -510407.0 -- WALMEX* MM -- 2018-10-30 00:00:00\n",
      "BTG INT G BTG CAYMAN USD -- -233173.0 -- TLEVICPO MM -- 2018-10-30 00:00:00\n",
      "BTG INT G BTG CAYMAN USD -- -24043.0 -- SPY US -- 2018-10-30 00:00:00\n",
      "BTG INT G BTG CAYMAN USD -- -323766.0 -- EWW US -- 2018-10-30 00:00:00\n",
      "4780 -- -754307.0 -- EWW US -- 2018-10-30 00:00:00\n",
      "4780 -- -574746.0 -- ALSEA* MM -- 2018-10-31 00:00:00\n",
      "BTG INT G BTG CAYMAN USD -- -245059.0 -- ALSEA* MM -- 2018-10-31 00:00:00\n",
      "BTG INT G BTG CAYMAN USD -- -334583.0 -- ALFAA MM -- 2018-10-31 00:00:00\n",
      "4780 -- -706066.0 -- GMEXICOB MM -- 2018-10-31 00:00:00\n",
      "4780 -- -50821.0 -- LIVEPOLC MM -- 2018-10-31 00:00:00\n",
      "BTG INT G BTG CAYMAN USD -- -467861.0 -- KIMBERA MM -- 2018-10-31 00:00:00\n",
      "4780 -- -1090018.0 -- KIMBERA MM -- 2018-10-31 00:00:00\n",
      "4780 -- -98013.0 -- KOFL MM -- 2018-10-31 00:00:00\n",
      "BTG INT G BTG CAYMAN USD -- -15771.0 -- PE&OLES* MM -- 2018-10-31 00:00:00\n",
      "BTG INT G BTG CAYMAN USD -- -510407.0 -- WALMEX* MM -- 2018-10-31 00:00:00\n",
      "BTG INT G BTG CAYMAN USD -- -233173.0 -- TLEVICPO MM -- 2018-10-31 00:00:00\n",
      "BTG INT G BTG CAYMAN USD -- -327174.0 -- EWW US -- 2018-10-31 00:00:00\n",
      "4780 -- -775646.0 -- EWW US -- 2018-10-31 00:00:00\n"
     ]
    }
   ],
   "source": [
    "lista_books = [puxa_ticker_client(x, pras_book ,abertura_treas_ops) for x in abertura_treas_ops.index.tolist()]\n",
    "abertura_treas_ops.loc[:,'book_alocado'] = lista_books"
   ]
  },
  {
   "cell_type": "code",
   "execution_count": 121,
   "metadata": {
    "collapsed": false
   },
   "outputs": [],
   "source": [
    "#pras_book[(pras_book['PRODUCT_CODE.TICKER']=='SPY US')&\\\n",
    "#                (pras_book['date']==pd.to_datetime('2018-08-01'))]"
   ]
  },
  {
   "cell_type": "code",
   "execution_count": 122,
   "metadata": {
    "collapsed": true
   },
   "outputs": [],
   "source": [
    "abertura_treas_ops = abertura_treas_ops[abertura_treas_ops['book_alocado']!='TREAS_OPS.CAYMAN']"
   ]
  },
  {
   "cell_type": "code",
   "execution_count": null,
   "metadata": {
    "collapsed": true
   },
   "outputs": [],
   "source": []
  },
  {
   "cell_type": "code",
   "execution_count": 123,
   "metadata": {
    "collapsed": false,
    "scrolled": true
   },
   "outputs": [],
   "source": [
    "abertura_treas_ops_consol = abertura_treas_ops.groupby(by=['acc','book_alocado','currency_pb']).sum().reset_index()"
   ]
  },
  {
   "cell_type": "code",
   "execution_count": 124,
   "metadata": {
    "collapsed": false,
    "scrolled": true
   },
   "outputs": [],
   "source": [
    "abertura_treas_ops_consol = abertura_treas_ops_consol[['acc','book_alocado','currency_pb','custo_book']].copy()"
   ]
  },
  {
   "cell_type": "code",
   "execution_count": 125,
   "metadata": {
    "collapsed": false
   },
   "outputs": [
    {
     "data": {
      "text/html": [
       "<div>\n",
       "<table border=\"1\" class=\"dataframe\">\n",
       "  <thead>\n",
       "    <tr style=\"text-align: right;\">\n",
       "      <th></th>\n",
       "      <th>acc</th>\n",
       "      <th>book_alocado</th>\n",
       "      <th>currency_pb</th>\n",
       "      <th>custo_book</th>\n",
       "    </tr>\n",
       "  </thead>\n",
       "  <tbody>\n",
       "    <tr>\n",
       "      <th>0</th>\n",
       "      <td>ubs_cayman</td>\n",
       "      <td>HF_EWW_BASKET.BTGINH</td>\n",
       "      <td>MXN</td>\n",
       "      <td>-310233.869903</td>\n",
       "    </tr>\n",
       "    <tr>\n",
       "      <th>1</th>\n",
       "      <td>ubs_cayman</td>\n",
       "      <td>HF_GLOBAL CONSUMER.BTGINH(46300)</td>\n",
       "      <td>USD</td>\n",
       "      <td>53000.967123</td>\n",
       "    </tr>\n",
       "    <tr>\n",
       "      <th>2</th>\n",
       "      <td>ubs_cayman</td>\n",
       "      <td>HF_L&amp;S_CHILE.BTGINH</td>\n",
       "      <td>USD</td>\n",
       "      <td>-3580.190098</td>\n",
       "    </tr>\n",
       "    <tr>\n",
       "      <th>3</th>\n",
       "      <td>ubs_cayman</td>\n",
       "      <td>HF_LONG&amp;SHORTMEXICO.BTGINH</td>\n",
       "      <td>MXN</td>\n",
       "      <td>-0.870000</td>\n",
       "    </tr>\n",
       "    <tr>\n",
       "      <th>4</th>\n",
       "      <td>ubs_cayman</td>\n",
       "      <td>HF_LONG&amp;SHORTMEXICO.BTGINH</td>\n",
       "      <td>USD</td>\n",
       "      <td>27.880741</td>\n",
       "    </tr>\n",
       "    <tr>\n",
       "      <th>5</th>\n",
       "      <td>ubs_cayman</td>\n",
       "      <td>HF_PAGS.BTGINH</td>\n",
       "      <td>USD</td>\n",
       "      <td>4110.707712</td>\n",
       "    </tr>\n",
       "    <tr>\n",
       "      <th>6</th>\n",
       "      <td>ubs_cayman</td>\n",
       "      <td>HF_TRADING.BTGINH</td>\n",
       "      <td>USD</td>\n",
       "      <td>148.337696</td>\n",
       "    </tr>\n",
       "    <tr>\n",
       "      <th>7</th>\n",
       "      <td>ubs_cayman</td>\n",
       "      <td>LS_EWW_BASKET.BTINTG</td>\n",
       "      <td>MXN</td>\n",
       "      <td>-76269.292698</td>\n",
       "    </tr>\n",
       "    <tr>\n",
       "      <th>8</th>\n",
       "      <td>ubs_cayman</td>\n",
       "      <td>LS_GLOBAL CONSUMER.ABSGLS(46328)</td>\n",
       "      <td>USD</td>\n",
       "      <td>11465.527923</td>\n",
       "    </tr>\n",
       "    <tr>\n",
       "      <th>9</th>\n",
       "      <td>ubs_cayman</td>\n",
       "      <td>LS_GLOBAL CONSUMER.BTINTG(46328)</td>\n",
       "      <td>USD</td>\n",
       "      <td>8705.219455</td>\n",
       "    </tr>\n",
       "    <tr>\n",
       "      <th>10</th>\n",
       "      <td>ubs_cayman</td>\n",
       "      <td>LS_L&amp;S_CHILE.BTINTG</td>\n",
       "      <td>USD</td>\n",
       "      <td>-1568.481572</td>\n",
       "    </tr>\n",
       "    <tr>\n",
       "      <th>11</th>\n",
       "      <td>ubs_cayman</td>\n",
       "      <td>LS_LONG&amp;SHORTMEXICO.BTINTG</td>\n",
       "      <td>MXN</td>\n",
       "      <td>0.580000</td>\n",
       "    </tr>\n",
       "    <tr>\n",
       "      <th>12</th>\n",
       "      <td>ubs_cayman</td>\n",
       "      <td>LS_LONG&amp;SHORTMEXICO.BTINTG</td>\n",
       "      <td>USD</td>\n",
       "      <td>81.179259</td>\n",
       "    </tr>\n",
       "    <tr>\n",
       "      <th>13</th>\n",
       "      <td>ubs_cayman</td>\n",
       "      <td>LS_PAGS.BTINTG</td>\n",
       "      <td>USD</td>\n",
       "      <td>1147.842935</td>\n",
       "    </tr>\n",
       "    <tr>\n",
       "      <th>14</th>\n",
       "      <td>ubs_cayman</td>\n",
       "      <td>LS_TRADING.BTINTG</td>\n",
       "      <td>USD</td>\n",
       "      <td>34.718722</td>\n",
       "    </tr>\n",
       "    <tr>\n",
       "      <th>15</th>\n",
       "      <td>ubs_cayman</td>\n",
       "      <td>XG_PORTFOLIO.ABGEQ</td>\n",
       "      <td>USD</td>\n",
       "      <td>1795.409721</td>\n",
       "    </tr>\n",
       "    <tr>\n",
       "      <th>16</th>\n",
       "      <td>ubs_cayman</td>\n",
       "      <td>XG_PORTFOLIO.ABGEQM</td>\n",
       "      <td>USD</td>\n",
       "      <td>313.278542</td>\n",
       "    </tr>\n",
       "  </tbody>\n",
       "</table>\n",
       "</div>"
      ],
      "text/plain": [
       "           acc                      book_alocado currency_pb     custo_book\n",
       "0   ubs_cayman              HF_EWW_BASKET.BTGINH         MXN -310233.869903\n",
       "1   ubs_cayman  HF_GLOBAL CONSUMER.BTGINH(46300)         USD   53000.967123\n",
       "2   ubs_cayman               HF_L&S_CHILE.BTGINH         USD   -3580.190098\n",
       "3   ubs_cayman        HF_LONG&SHORTMEXICO.BTGINH         MXN      -0.870000\n",
       "4   ubs_cayman        HF_LONG&SHORTMEXICO.BTGINH         USD      27.880741\n",
       "5   ubs_cayman                    HF_PAGS.BTGINH         USD    4110.707712\n",
       "6   ubs_cayman                 HF_TRADING.BTGINH         USD     148.337696\n",
       "7   ubs_cayman              LS_EWW_BASKET.BTINTG         MXN  -76269.292698\n",
       "8   ubs_cayman  LS_GLOBAL CONSUMER.ABSGLS(46328)         USD   11465.527923\n",
       "9   ubs_cayman  LS_GLOBAL CONSUMER.BTINTG(46328)         USD    8705.219455\n",
       "10  ubs_cayman               LS_L&S_CHILE.BTINTG         USD   -1568.481572\n",
       "11  ubs_cayman        LS_LONG&SHORTMEXICO.BTINTG         MXN       0.580000\n",
       "12  ubs_cayman        LS_LONG&SHORTMEXICO.BTINTG         USD      81.179259\n",
       "13  ubs_cayman                    LS_PAGS.BTINTG         USD    1147.842935\n",
       "14  ubs_cayman                 LS_TRADING.BTINTG         USD      34.718722\n",
       "15  ubs_cayman                XG_PORTFOLIO.ABGEQ         USD    1795.409721\n",
       "16  ubs_cayman               XG_PORTFOLIO.ABGEQM         USD     313.278542"
      ]
     },
     "execution_count": 125,
     "metadata": {},
     "output_type": "execute_result"
    }
   ],
   "source": [
    "abertura_treas_ops_consol#.groupby(by=['currency_pb']).sum()"
   ]
  },
  {
   "cell_type": "code",
   "execution_count": null,
   "metadata": {
    "collapsed": true
   },
   "outputs": [],
   "source": []
  },
  {
   "cell_type": "code",
   "execution_count": 126,
   "metadata": {
    "collapsed": false
   },
   "outputs": [],
   "source": [
    "writer_5 = pd.ExcelWriter(out_path+'\\\\abertura_treas_ops.xlsx')"
   ]
  },
  {
   "cell_type": "code",
   "execution_count": 127,
   "metadata": {
    "collapsed": false
   },
   "outputs": [],
   "source": [
    "abertura_treas_ops.to_excel(writer_5, sheet_name='abertura_treas_ops', index=False)\n",
    "abertura_treas_ops_consol.to_excel(writer_5, sheet_name='abertura_treas_ops_consol', index=False)\n",
    "writer_5.save()"
   ]
  },
  {
   "cell_type": "code",
   "execution_count": null,
   "metadata": {
    "collapsed": true
   },
   "outputs": [],
   "source": []
  },
  {
   "cell_type": "markdown",
   "metadata": {},
   "source": [
    "# Resultados"
   ]
  },
  {
   "cell_type": "code",
   "execution_count": 128,
   "metadata": {
    "collapsed": false
   },
   "outputs": [],
   "source": [
    "writer = pd.ExcelWriter(out_path+'\\\\alguel_offshore_base.xlsx')"
   ]
  },
  {
   "cell_type": "code",
   "execution_count": 129,
   "metadata": {
    "collapsed": false
   },
   "outputs": [],
   "source": [
    "abertura.to_excel(writer, sheet_name = 'Custos base', index=False)\n",
    "abertura_wm.to_excel(writer, sheet_name = 'Distrib WM base', index=False)\n",
    "abertura_treas_ops.to_excel(writer, sheet_name = 'Treas OPS base', index=False)\n",
    "writer.save()"
   ]
  },
  {
   "cell_type": "code",
   "execution_count": null,
   "metadata": {
    "collapsed": true
   },
   "outputs": [],
   "source": []
  },
  {
   "cell_type": "code",
   "execution_count": null,
   "metadata": {
    "collapsed": true
   },
   "outputs": [],
   "source": []
  },
  {
   "cell_type": "code",
   "execution_count": 130,
   "metadata": {
    "collapsed": true
   },
   "outputs": [],
   "source": [
    "writer_consol = pd.ExcelWriter(out_path+'\\\\alguel_offshore_consolidado.xlsx')"
   ]
  },
  {
   "cell_type": "code",
   "execution_count": 131,
   "metadata": {
    "collapsed": true
   },
   "outputs": [],
   "source": [
    "abertura_consol.to_excel(writer_consol, sheet_name = 'Custos Colsolidados', index=False)\n",
    "abertura_wm_consol.to_excel(writer_consol, sheet_name = 'Custos WM Colsolidados', index=False)\n",
    "abertura_treas_ops_consol.to_excel(writer_consol, sheet_name = 'Custos TREAS OPS Colsolidados', index=False)\n",
    "writer_consol.save()"
   ]
  },
  {
   "cell_type": "code",
   "execution_count": null,
   "metadata": {
    "collapsed": true
   },
   "outputs": [],
   "source": []
  },
  {
   "cell_type": "code",
   "execution_count": 132,
   "metadata": {
    "collapsed": false
   },
   "outputs": [],
   "source": [
    "writer_sobras = pd.ExcelWriter(out_path+'\\\\sobras_distribuicao.xlsx')"
   ]
  },
  {
   "cell_type": "code",
   "execution_count": 133,
   "metadata": {
    "collapsed": false
   },
   "outputs": [],
   "source": [
    "sobra_origem.to_excel(writer_sobras, sheet_name = 'GLOBAL_sobra_origem', index=False)\n",
    "sobra_destino.to_excel(writer_sobras, sheet_name = 'GLOBAL_sobra_destino', index=False)\n",
    "divergentes.to_excel(writer_sobras, sheet_name = 'GLOBAL_divergentes', index=False)\n",
    "corrigidos.to_excel(writer_sobras, sheet_name = 'GLOBAL_corrigidos', index=False)\n",
    "n_batidos.to_excel(writer_sobras, sheet_name = 'GLOBAL_n_batidos', index=False)\n",
    "abertura_n_batidos.to_excel(writer_sobras, sheet_name = 'DISTRIB_abertura_n_batidos', index=False)"
   ]
  },
  {
   "cell_type": "code",
   "execution_count": 134,
   "metadata": {
    "collapsed": false
   },
   "outputs": [],
   "source": [
    "writer_sobras.save()"
   ]
  },
  {
   "cell_type": "code",
   "execution_count": null,
   "metadata": {
    "collapsed": true
   },
   "outputs": [],
   "source": []
  },
  {
   "cell_type": "code",
   "execution_count": null,
   "metadata": {
    "collapsed": true
   },
   "outputs": [],
   "source": [
    "lista_files = [out_path+'\\\\alguel_offshore_consolidado.xlsx',\n",
    "               out_path+'\\\\sobras_distribuicao.xlsx']"
   ]
  },
  {
   "cell_type": "code",
   "execution_count": null,
   "metadata": {
    "collapsed": true
   },
   "outputs": [],
   "source": [
    "body = '''Legenda: \n",
    "    abertura_n_batidos são os que possuem diferença de quantidade. \n",
    "    sobra_origem são os que tem no calypso e não no pb'''"
   ]
  },
  {
   "cell_type": "code",
   "execution_count": null,
   "metadata": {
    "collapsed": false
   },
   "outputs": [],
   "source": [
    "#string = data.strftime('%Y-%m-%d')"
   ]
  },
  {
   "cell_type": "code",
   "execution_count": null,
   "metadata": {
    "collapsed": false
   },
   "outputs": [],
   "source": [
    "if referencia!='month':\n",
    "    email_sender('guilherme.correia@btgpactual.com', 'OL-equity-backoffice@btgpactual.com;OL-EQUITYBD@btgpactual.com;',\\\n",
    "                 'Aluguel Offshore | Batimento Parcial - %s' %(string), body, lista_files)"
   ]
  },
  {
   "cell_type": "code",
   "execution_count": null,
   "metadata": {
    "collapsed": true
   },
   "outputs": [],
   "source": []
  }
 ],
 "metadata": {
  "kernelspec": {
   "display_name": "Python 3",
   "language": "python",
   "name": "python3"
  },
  "language_info": {
   "codemirror_mode": {
    "name": "ipython",
    "version": 3
   },
   "file_extension": ".py",
   "mimetype": "text/x-python",
   "name": "python",
   "nbconvert_exporter": "python",
   "pygments_lexer": "ipython3",
   "version": "3.6.0"
  }
 },
 "nbformat": 4,
 "nbformat_minor": 2
}
