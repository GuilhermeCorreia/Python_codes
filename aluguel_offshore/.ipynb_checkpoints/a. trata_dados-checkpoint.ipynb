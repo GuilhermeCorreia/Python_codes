{
 "cells": [
  {
   "cell_type": "code",
   "execution_count": 1,
   "metadata": {
    "collapsed": false
   },
   "outputs": [],
   "source": [
    "%load_ext autoreload\n",
    "%autoreload 2\n",
    "\n",
    "import os\n",
    "import sys\n",
    "sys.path.append('%s/../' % os.getcwd())\n",
    "\n",
    "import datetime\n",
    "import pandas as pd\n",
    "import numpy as np\n",
    "import getpass"
   ]
  },
  {
   "cell_type": "code",
   "execution_count": 2,
   "metadata": {
    "collapsed": false
   },
   "outputs": [],
   "source": [
    "import formulas_auxiliares_ajuste_base as aux\n",
    "from formulas_auxiliares_ticker import *"
   ]
  },
  {
   "cell_type": "code",
   "execution_count": 3,
   "metadata": {
    "collapsed": true
   },
   "outputs": [],
   "source": [
    "pasta = r'C:\\Users\\correigu\\OneDrive - Banco BTG Pactual S.A\\Desktop\\aqruivos_offshore'"
   ]
  },
  {
   "cell_type": "code",
   "execution_count": null,
   "metadata": {
    "collapsed": true
   },
   "outputs": [],
   "source": []
  },
  {
   "cell_type": "code",
   "execution_count": 4,
   "metadata": {
    "collapsed": true
   },
   "outputs": [],
   "source": [
    "data_inicio = pd.to_datetime('2018-07-01')\n",
    "data_final = pd.to_datetime('2018-07-15')"
   ]
  },
  {
   "cell_type": "code",
   "execution_count": 5,
   "metadata": {
    "collapsed": false,
    "scrolled": true
   },
   "outputs": [
    {
     "name": "stdout",
     "output_type": "stream",
     "text": [
      "Povoando lista de arquivos que serão baixados para a memória\n",
      "    O arquivo Ajustes não possui data registrada\n",
      "    O arquivo Ajustes não pôde ser comparado com os demais\n",
      "    O arquivo tickers_diffs.xlsx não possui data registrada\n",
      "    O arquivo tickers_diffs.xlsx não pôde ser comparado com os demais\n",
      "--------------------------------------------------------------------------------------------------------------\n",
      "Baixando arquivos!!\n",
      "    10 arquivos do ubs importados\n",
      "    20 arquivos da morgan importados\n",
      "    10 arquivos do Calypso PROP+ASSET importados\n",
      "    10 arquivos do Calypso BD+WM importados\n",
      "    10 arquivos do Calypso INTC importados\n",
      "--------------------------------------------------------------------------------------------------------------\n"
     ]
    }
   ],
   "source": [
    "pb, calypso, calypso_1 = aux.TratamentoDosDados(pasta, data_inicio, data_final).tabelas_ajustadas()\n",
    "calypso = aux.ajuste_contas_calypso(calypso)\n",
    "ticker_diffs = pd.read_excel(pasta+'\\\\'+ 'tickers_diffs.xlsx')"
   ]
  },
  {
   "cell_type": "code",
   "execution_count": 6,
   "metadata": {
    "collapsed": true
   },
   "outputs": [],
   "source": [
    "mapa_tickers = pb[['ticker','isin','cusip','sedol']].drop_duplicates().reset_index(drop=True).fillna('')"
   ]
  },
  {
   "cell_type": "code",
   "execution_count": 7,
   "metadata": {
    "collapsed": false
   },
   "outputs": [
    {
     "name": "stdout",
     "output_type": "stream",
     "text": [
      "O ticker FOUREC não foi encontrado pelos códigos.\n",
      " Tentaremos agora pelo nome\n",
      "Nós aconselhamos que você confira o ticker FOUREC, porque ele foi ajustado pelo Isin.\n",
      "Caso ele esteja ERRADO você deverá fazer o ajuste na próxima parte.\n",
      "O ticker GOLD não foi encontrado pelos códigos.\n",
      " Tentaremos agora pelo nome\n",
      "O ticker GOLD não foi encontrado pelo nome.\n",
      " Ele será então contruído pelo Ticker + Isin\n",
      "O ticker CRFFFA não foi encontrado pelos códigos.\n",
      " Tentaremos agora pelo nome\n",
      "Nós aconselhamos que você confira o ticker CRFFFA, porque ele foi ajustado pelo Isin.\n",
      "Caso ele esteja ERRADO você deverá fazer o ajuste na próxima parte.\n"
     ]
    }
   ],
   "source": [
    "lista_tickers = [get_ticker_bases(calypso, mapa_tickers, x) for x in mapa_tickers.index]"
   ]
  },
  {
   "cell_type": "code",
   "execution_count": 8,
   "metadata": {
    "collapsed": true
   },
   "outputs": [],
   "source": [
    "mapeados = pd.DataFrame(lista_tickers).rename(columns={0:'ticker_calypso', 1:'construct'})"
   ]
  },
  {
   "cell_type": "code",
   "execution_count": 9,
   "metadata": {
    "collapsed": true
   },
   "outputs": [],
   "source": [
    "mapa_tickers = pd.concat([mapa_tickers, mapeados], axis=1)"
   ]
  },
  {
   "cell_type": "code",
   "execution_count": 10,
   "metadata": {
    "collapsed": false
   },
   "outputs": [],
   "source": [
    "ticker_diffs = ticker_diffs.rename(columns={\n",
    "    'Stock':'ticker',\n",
    "    'Isin':'isin',\n",
    "    'Cusip':'cusip',\n",
    "    'Sedol':'sedol'\n",
    "})"
   ]
  },
  {
   "cell_type": "code",
   "execution_count": 11,
   "metadata": {
    "collapsed": true
   },
   "outputs": [],
   "source": [
    "mapa_tickers_diffs = ticker_diffs[['ticker','isin','cusip','sedol']].drop_duplicates().reset_index(drop=True)"
   ]
  },
  {
   "cell_type": "code",
   "execution_count": 12,
   "metadata": {
    "collapsed": false,
    "scrolled": true
   },
   "outputs": [
    {
     "name": "stdout",
     "output_type": "stream",
     "text": [
      "O ticker ABEV não foi encontrado pelos códigos.\n",
      " Tentaremos agora pelo nome\n",
      "Nós aconselhamos que você confira o ticker ABEV, porque ele foi ajustado pelo Isin.\n",
      "Caso ele esteja ERRADO você deverá fazer o ajuste na próxima parte.\n",
      "O ticker BBDO não foi encontrado pelos códigos.\n",
      " Tentaremos agora pelo nome\n",
      "Nós aconselhamos que você confira o ticker BBDO, porque ele foi ajustado pelo Isin.\n",
      "Caso ele esteja ERRADO você deverá fazer o ajuste na próxima parte.\n",
      "O ticker BBVA não foi encontrado pelos códigos.\n",
      " Tentaremos agora pelo nome\n",
      "Nós aconselhamos que você confira o ticker BBVA, porque ele foi ajustado pelo Isin.\n",
      "Caso ele esteja ERRADO você deverá fazer o ajuste na próxima parte.\n",
      "O ticker BUD não foi encontrado pelos códigos.\n",
      " Tentaremos agora pelo nome\n",
      "Nós aconselhamos que você confira o ticker BUD, porque ele foi ajustado pelo Isin.\n",
      "Caso ele esteja ERRADO você deverá fazer o ajuste na próxima parte.\n",
      "O ticker CS não foi encontrado pelos códigos.\n",
      " Tentaremos agora pelo nome\n",
      "O ticker CS não foi encontrado pelo nome.\n",
      " Ele será então contruído pelo Ticker + Isin\n",
      "O ticker ELP não foi encontrado pelos códigos.\n",
      " Tentaremos agora pelo nome\n",
      "Nós aconselhamos que você confira o ticker ELP, porque ele foi ajustado pelo Isin.\n",
      "Caso ele esteja ERRADO você deverá fazer o ajuste na próxima parte.\n",
      "O ticker FMS não foi encontrado pelos códigos.\n",
      " Tentaremos agora pelo nome\n",
      "Nós aconselhamos que você confira o ticker FMS, porque ele foi ajustado pelo Isin.\n",
      "Caso ele esteja ERRADO você deverá fazer o ajuste na próxima parte.\n",
      "O ticker GOL não foi encontrado pelos códigos.\n",
      " Tentaremos agora pelo nome\n",
      "O ticker GOL não foi encontrado pelo nome.\n",
      " Ele será então contruído pelo Ticker + Isin\n",
      "O ticker OIBR não foi encontrado pelos códigos.\n",
      " Tentaremos agora pelo nome\n",
      "Nós aconselhamos que você confira o ticker OIBR, porque ele foi ajustado pelo Isin.\n",
      "Caso ele esteja ERRADO você deverá fazer o ajuste na próxima parte.\n",
      "O ticker SAN não foi encontrado pelos códigos.\n",
      " Tentaremos agora pelo nome\n",
      "O ticker SAN não foi encontrado pelo nome.\n",
      " Ele será então contruído pelo Ticker + Isin\n",
      "O ticker SBS não foi encontrado pelos códigos.\n",
      " Tentaremos agora pelo nome\n",
      "Nós aconselhamos que você confira o ticker SBS, porque ele foi ajustado pelo Isin.\n",
      "Caso ele esteja ERRADO você deverá fazer o ajuste na próxima parte.\n",
      "O ticker SIM não foi encontrado pelos códigos.\n",
      " Tentaremos agora pelo nome\n",
      "Nós aconselhamos que você confira o ticker SIM, porque ele foi ajustado pelo Isin.\n",
      "Caso ele esteja ERRADO você deverá fazer o ajuste na próxima parte.\n",
      "O ticker SYT não foi encontrado pelos códigos.\n",
      " Tentaremos agora pelo nome\n",
      "Nós aconselhamos que você confira o ticker SYT, porque ele foi ajustado pelo Isin.\n",
      "Caso ele esteja ERRADO você deverá fazer o ajuste na próxima parte.\n",
      "O ticker WMMVY não foi encontrado pelos códigos.\n",
      " Tentaremos agora pelo nome\n",
      "Nós aconselhamos que você confira o ticker WMMVY, porque ele foi ajustado pelo Isin.\n",
      "Caso ele esteja ERRADO você deverá fazer o ajuste na próxima parte.\n",
      "O ticker ASML não foi encontrado pelos códigos.\n",
      " Tentaremos agora pelo nome\n",
      "Nós aconselhamos que você confira o ticker ASML, porque ele foi ajustado pelo Isin.\n",
      "Caso ele esteja ERRADO você deverá fazer o ajuste na próxima parte.\n",
      "O ticker BSMX não foi encontrado pelos códigos.\n",
      " Tentaremos agora pelo nome\n",
      "O ticker BSMX não foi encontrado pelo nome.\n",
      " Ele será então contruído pelo Ticker + Isin\n",
      "O ticker CBD não foi encontrado pelos códigos.\n",
      " Tentaremos agora pelo nome\n",
      "Nós aconselhamos que você confira o ticker CBD, porque ele foi ajustado pelo Isin.\n",
      "Caso ele esteja ERRADO você deverá fazer o ajuste na próxima parte.\n",
      "O ticker GGB não foi encontrado pelos códigos.\n",
      " Tentaremos agora pelo nome\n",
      "Nós aconselhamos que você confira o ticker GGB, porque ele foi ajustado pelo Isin.\n",
      "Caso ele esteja ERRADO você deverá fazer o ajuste na próxima parte.\n",
      "O ticker ING não foi encontrado pelos códigos.\n",
      " Tentaremos agora pelo nome\n",
      "Nós aconselhamos que você confira o ticker ING, porque ele foi ajustado pelo Isin.\n",
      "Caso ele esteja ERRADO você deverá fazer o ajuste na próxima parte.\n",
      "O ticker NVS não foi encontrado pelos códigos.\n",
      " Tentaremos agora pelo nome\n",
      "Nós aconselhamos que você confira o ticker NVS, porque ele foi ajustado pelo Isin.\n",
      "Caso ele esteja ERRADO você deverá fazer o ajuste na próxima parte.\n",
      "O ticker SAP não foi encontrado pelos códigos.\n",
      " Tentaremos agora pelo nome\n",
      "Nós aconselhamos que você confira o ticker SAP, porque ele foi ajustado pelo Isin.\n",
      "Caso ele esteja ERRADO você deverá fazer o ajuste na próxima parte.\n",
      "O ticker UN não foi encontrado pelos códigos.\n",
      " Tentaremos agora pelo nome\n",
      "O ticker UN não foi encontrado pelo nome.\n",
      " Ele será então contruído pelo Ticker + Isin\n"
     ]
    }
   ],
   "source": [
    "lista_tickers_diffs = [get_ticker_bases(calypso, mapa_tickers_diffs, x) for x in mapa_tickers_diffs.index]"
   ]
  },
  {
   "cell_type": "code",
   "execution_count": 13,
   "metadata": {
    "collapsed": true
   },
   "outputs": [],
   "source": [
    "mapeados_diff = pd.DataFrame(lista_tickers_diffs).rename(columns={0:'ticker_calypso', 1:'construct'})"
   ]
  },
  {
   "cell_type": "code",
   "execution_count": 14,
   "metadata": {
    "collapsed": true
   },
   "outputs": [],
   "source": [
    "mapa_tickers_diffs = pd.concat([mapa_tickers_diffs, mapeados_diff], axis=1)"
   ]
  },
  {
   "cell_type": "code",
   "execution_count": 15,
   "metadata": {
    "collapsed": true
   },
   "outputs": [],
   "source": [
    "mapa_tickers = mapa_tickers.drop(['isin', 'cusip', 'sedol', 'construct'], axis=1)"
   ]
  },
  {
   "cell_type": "code",
   "execution_count": 16,
   "metadata": {
    "collapsed": false
   },
   "outputs": [],
   "source": [
    "tickers_diffs = mapa_tickers_diffs[['ticker_calypso','isin','cusip']].rename(columns={'ticker_calypso':'ticker'}).copy()"
   ]
  },
  {
   "cell_type": "code",
   "execution_count": 17,
   "metadata": {
    "collapsed": true
   },
   "outputs": [],
   "source": [
    "pb['id'] = range(0, len(pb))"
   ]
  },
  {
   "cell_type": "code",
   "execution_count": null,
   "metadata": {
    "collapsed": true
   },
   "outputs": [],
   "source": []
  },
  {
   "cell_type": "code",
   "execution_count": null,
   "metadata": {
    "collapsed": true
   },
   "outputs": [],
   "source": []
  },
  {
   "cell_type": "code",
   "execution_count": 18,
   "metadata": {
    "collapsed": true
   },
   "outputs": [],
   "source": [
    "pb_1 = pd.merge(pb, mapa_tickers, on='ticker', how='left').drop_duplicates()"
   ]
  },
  {
   "cell_type": "code",
   "execution_count": 19,
   "metadata": {
    "collapsed": true
   },
   "outputs": [],
   "source": [
    "# Isso aqui tem que ser zero para estar tudo ok!\n",
    "check_1 = pb_1[~pb_1['id'].isin(pb['id'])].shape[0]+pb[~pb['id'].isin(pb_1['id'])].shape[0]\n",
    "if check_1 == 0:\n",
    "    pb = pb_1.drop(['ticker', 'isin','cusip','sedol','id'], axis=1)[['conta', 'pb', 'data_ref','ticker_calypso', 'currency',\n",
    "                                                                    'qt', 'accrual', 'month','year']].rename(columns={\n",
    "        'ticker_calypso':'ticker'\n",
    "    })\n",
    "else:\n",
    "    print('Houve algum problema na hora do mapeamento! será necessário fazer ajustes')"
   ]
  },
  {
   "cell_type": "code",
   "execution_count": 20,
   "metadata": {
    "collapsed": false
   },
   "outputs": [],
   "source": [
    "mes = pb.month.drop_duplicates()[0]\n",
    "ano = pb.year.drop_duplicates()[0]\n",
    "folder = str(mes)+str(ano)+ r'\\consolidado'\n",
    "\n",
    "subpasta = '\\\\\\\\DRIOC0231PFS\\\\Apoio_SB\\\\Geral\\\\BD\\\\Aluguel_Offshore\\\\Arquivos diários\\\\'\n",
    "subpasta+folder\n",
    "if os.path.isdir(subpasta+folder)==False:\n",
    "    os.mkdir(subpasta+folder)\n",
    "\n",
    "pasta_final = subpasta+folder"
   ]
  },
  {
   "cell_type": "code",
   "execution_count": 21,
   "metadata": {
    "collapsed": false
   },
   "outputs": [
    {
     "data": {
      "text/plain": [
       "'\\\\\\\\DRIOC0231PFS\\\\Apoio_SB\\\\Geral\\\\BD\\\\Aluguel_Offshore\\\\Arquivos diários\\\\jul2018\\\\consolidado'"
      ]
     },
     "execution_count": 21,
     "metadata": {},
     "output_type": "execute_result"
    }
   ],
   "source": [
    "pasta_final"
   ]
  },
  {
   "cell_type": "code",
   "execution_count": 22,
   "metadata": {
    "collapsed": true
   },
   "outputs": [],
   "source": [
    "writer = pd.ExcelWriter(pasta_final+'\\\\bases_batimento_pb_calypso.xlsx')"
   ]
  },
  {
   "cell_type": "code",
   "execution_count": 23,
   "metadata": {
    "collapsed": true
   },
   "outputs": [],
   "source": [
    "pb.to_excel(writer, sheet_name='base_pb', index=False)\n",
    "calypso.to_excel(writer, sheet_name='base_calypso', index=False)\n",
    "tickers_diffs.to_excel(writer, sheet_name='ticker_diffs', index=False)\n",
    "writer.save()"
   ]
  },
  {
   "cell_type": "code",
   "execution_count": null,
   "metadata": {
    "collapsed": true
   },
   "outputs": [],
   "source": []
  }
 ],
 "metadata": {
  "kernelspec": {
   "display_name": "Python 3",
   "language": "python",
   "name": "python3"
  },
  "language_info": {
   "codemirror_mode": {
    "name": "ipython",
    "version": 3
   },
   "file_extension": ".py",
   "mimetype": "text/x-python",
   "name": "python",
   "nbconvert_exporter": "python",
   "pygments_lexer": "ipython3",
   "version": "3.6.0"
  }
 },
 "nbformat": 4,
 "nbformat_minor": 2
}
