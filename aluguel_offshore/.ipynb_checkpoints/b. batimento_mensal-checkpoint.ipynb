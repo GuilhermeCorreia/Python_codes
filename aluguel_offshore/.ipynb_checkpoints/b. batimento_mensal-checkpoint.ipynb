{
 "cells": [
  {
   "cell_type": "code",
   "execution_count": 1,
   "metadata": {
    "collapsed": false
   },
   "outputs": [],
   "source": [
    "%load_ext autoreload\n",
    "%autoreload 2\n",
    "\n",
    "import os\n",
    "import sys\n",
    "sys.path.append('%s/../' % os.getcwd())\n",
    "\n",
    "import datetime\n",
    "import pandas as pd\n",
    "import numpy as np\n",
    "import getpass"
   ]
  },
  {
   "cell_type": "code",
   "execution_count": 2,
   "metadata": {
    "collapsed": false
   },
   "outputs": [],
   "source": [
    "from formulas_auxiliares_ajuste_base import months_dict, dict_contas\n",
    "from class_ajusta_batimento_email import *"
   ]
  },
  {
   "cell_type": "code",
   "execution_count": null,
   "metadata": {
    "collapsed": true
   },
   "outputs": [],
   "source": []
  },
  {
   "cell_type": "code",
   "execution_count": 3,
   "metadata": {
    "collapsed": true
   },
   "outputs": [],
   "source": [
    "path = '\\\\\\\\DRIOC0231PFS\\\\Apoio_SB\\\\Geral\\\\BD\\\\Aluguel_Offshore\\\\Arquivos diários\\\\jul2018\\\\consolidado\\\\'\n",
    "file = 'bases_batimento_pb_calypso.xlsx'\n",
    "arquivo = path+file"
   ]
  },
  {
   "cell_type": "code",
   "execution_count": 4,
   "metadata": {
    "collapsed": false
   },
   "outputs": [],
   "source": [
    "pb = pd.read_excel(arquivo, sheetname='base_pb')\n",
    "calypso = pd.read_excel(arquivo, sheetname='base_calypso')\n",
    "ticker_diffs = pd.read_excel(arquivo, sheetname='ticker_diffs')"
   ]
  },
  {
   "cell_type": "code",
   "execution_count": null,
   "metadata": {
    "collapsed": true
   },
   "outputs": [],
   "source": []
  },
  {
   "cell_type": "code",
   "execution_count": null,
   "metadata": {
    "collapsed": true
   },
   "outputs": [],
   "source": []
  },
  {
   "cell_type": "markdown",
   "metadata": {},
   "source": [
    "##### Distribuição intermediária (somente quantidade. não abre os books)"
   ]
  },
  {
   "cell_type": "code",
   "execution_count": 5,
   "metadata": {
    "collapsed": false
   },
   "outputs": [],
   "source": [
    "calypso_month = calypso.drop(['month', 'year'], axis=1).reset_index(drop=True).copy()\n",
    "pb_month = pb.drop(['month', 'year'], axis=1).reset_index(drop=True).copy()\n",
    "pb_month['acc'] = pb_month['conta'].map(dict_contas)\n",
    "calypso_month['acc'] = calypso_month['conta'].map(dict_contas)"
   ]
  },
  {
   "cell_type": "code",
   "execution_count": 6,
   "metadata": {
    "collapsed": false
   },
   "outputs": [],
   "source": [
    "dias_calypso = calypso_month[['acc', 'data_ref']].copy()\n",
    "dias_calypso['tipo'] = 'calypso'\n",
    "dias_pb = pb_month[['acc', 'data_ref']].copy()\n",
    "dias_pb['tipo'] = 'pb'\n",
    "dias_ok = pd.concat([dias_calypso, dias_pb], axis=0)\n",
    "dias_ok['check'] = 1\n",
    "pvt = pd.pivot_table(dias_ok, values=['check'],\n",
    "                     index='data_ref', columns=['tipo','acc'])"
   ]
  },
  {
   "cell_type": "code",
   "execution_count": 7,
   "metadata": {
    "collapsed": false
   },
   "outputs": [],
   "source": [
    "if pvt.shape!=pvt.dropna().shape:\n",
    "    print('Nem todos os arquivos estão disponíveis!')\n",
    "    print(pvt)\n",
    "    raise error"
   ]
  },
  {
   "cell_type": "code",
   "execution_count": 8,
   "metadata": {
    "collapsed": false
   },
   "outputs": [],
   "source": [
    "#Agrupa as informações que estão no calypso eliminando books. Junta em conta_pb, agent, data_ref, ticker e currency\n",
    "calypso_batimento = calypso_month.groupby(by=['conta_pb','agent','data_ref','ticker','currency']).sum().copy().reset_index()\n",
    "calypso_batimento['acc'] = calypso_batimento['conta_pb'].map(dict_contas)\n",
    "calypso_batimento = calypso_batimento[calypso_batimento['quantidade']<0].reset_index(drop=True)\n",
    "calypso_batimento = calypso_batimento.groupby(by=['acc','data_ref', 'ticker','currency']).sum().reset_index()  \n",
    "#é somente um indice para poder checar quais informações do calypso não passaram pelo filtro da PB\n",
    "calypso_batimento['id'] = range(1, calypso_batimento.shape[0] +1)\n",
    "pb_month = pb_month.groupby(by=['acc','data_ref','ticker','currency']).sum().reset_index()"
   ]
  },
  {
   "cell_type": "code",
   "execution_count": 9,
   "metadata": {
    "collapsed": true
   },
   "outputs": [],
   "source": [
    "calypso_bate_pb = pd.merge(pb_month, calypso_batimento, on=['acc','data_ref','ticker','currency'],  how='left')"
   ]
  },
  {
   "cell_type": "code",
   "execution_count": 10,
   "metadata": {
    "collapsed": true
   },
   "outputs": [],
   "source": [
    "check_2 = calypso_bate_pb.shape[0]-pb_month.shape[0]\n",
    "if check_2!=0:\n",
    "    print ('%s linhas foram duplicadas durante o merge. Favor verificar se houve algo de errado' %check_2)"
   ]
  },
  {
   "cell_type": "code",
   "execution_count": 11,
   "metadata": {
    "collapsed": true
   },
   "outputs": [],
   "source": [
    "# Sobra de destino são os tickers que estavam no pb, mas não tinham correspondência no Calypso\n",
    "sobra_destino = calypso_bate_pb[(calypso_bate_pb['quantidade'].isnull()==True)&(calypso_bate_pb['accrual']!=0)]"
   ]
  },
  {
   "cell_type": "code",
   "execution_count": 12,
   "metadata": {
    "collapsed": true
   },
   "outputs": [],
   "source": [
    "calypso_bate_pb = calypso_bate_pb[calypso_bate_pb['quantidade'].isnull()==False]"
   ]
  },
  {
   "cell_type": "code",
   "execution_count": 13,
   "metadata": {
    "collapsed": true
   },
   "outputs": [],
   "source": [
    "# Sobra de origem são os tickers que estavam no Calypso, mas não tinham correspondência no pb\n",
    "sobra_origem = calypso_batimento[~calypso_batimento['id'].isin(calypso_bate_pb['id'].dropna().drop_duplicates())]"
   ]
  },
  {
   "cell_type": "code",
   "execution_count": 14,
   "metadata": {
    "collapsed": false
   },
   "outputs": [
    {
     "name": "stdout",
     "output_type": "stream",
     "text": [
      "3.759398496240607 pct dos trades estão no prime broker, mas não acharam correspondência no Calypso\n",
      "0.7751937984496124 pct dos trades foram achados no calypso, mas não têm correspondência no prime broker\n"
     ]
    }
   ],
   "source": [
    "pct_in_pb_not_in_calypso = (1-calypso_bate_pb.shape[0]/pb_month.shape[0])*100\n",
    "pct_in_calypso_not_in_pb=calypso_batimento[~calypso_batimento['id'].isin(calypso_bate_pb['id'].dropna().drop_duplicates())].shape[0]/\\\n",
    "                                calypso_batimento.shape[0]*100 \n",
    "texto_1 = '%s pct dos trades estão no prime broker, mas não acharam correspondência no Calypso' % pct_in_pb_not_in_calypso\n",
    "texto_2 = '%s pct dos trades foram achados no calypso, mas não têm correspondência no prime broker' % pct_in_calypso_not_in_pb\n",
    "\n",
    "print (texto_1)\n",
    "print(texto_2)"
   ]
  },
  {
   "cell_type": "code",
   "execution_count": 15,
   "metadata": {
    "collapsed": false
   },
   "outputs": [],
   "source": [
    "batido = calypso_bate_pb[calypso_bate_pb['qt']==calypso_bate_pb['quantidade']].copy()\n",
    "batido['status']='batido'\n",
    "divergentes = calypso_bate_pb[calypso_bate_pb['qt']!=calypso_bate_pb['quantidade']].copy()\n",
    "corrigidos = divergentes[((divergentes['ticker'].isin(ticker_diffs['ticker']))&(divergentes['acc']!='ubs_cayman'))].copy()\n",
    "corrigidos['status'] = 'corrigido'\n",
    "n_batidos = divergentes[~((divergentes['ticker'].isin(ticker_diffs['ticker']))&(divergentes['acc']!='ubs_cayman'))].copy()\n",
    "n_batidos['status']='n_batido'\n",
    "distribuidos = pd.concat([batido, corrigidos, n_batidos], axis=0)"
   ]
  },
  {
   "cell_type": "code",
   "execution_count": null,
   "metadata": {
    "collapsed": true
   },
   "outputs": [],
   "source": []
  },
  {
   "cell_type": "code",
   "execution_count": 16,
   "metadata": {
    "collapsed": true
   },
   "outputs": [],
   "source": [
    "writer_1 = pd.ExcelWriter(path+'distribuicao_intermediaria_por_quantidade.xlsx')"
   ]
  },
  {
   "cell_type": "code",
   "execution_count": 17,
   "metadata": {
    "collapsed": false
   },
   "outputs": [],
   "source": [
    "batido.to_excel(writer_1, sheet_name='trades_batidos', index=False)\n",
    "divergentes.to_excel(writer_1, sheet_name='trades_divergentes', index=False)\n",
    "corrigidos.to_excel(writer_1, sheet_name='trades_corrigidos', index=False)\n",
    "n_batidos.to_excel(writer_1, sheet_name='trades_n_batidos', index=False)\n",
    "distribuidos.to_excel(writer_1, sheet_name='trades_distribuidos', index=False)\n",
    "writer_1.save()"
   ]
  },
  {
   "cell_type": "code",
   "execution_count": null,
   "metadata": {
    "collapsed": true
   },
   "outputs": [],
   "source": []
  },
  {
   "cell_type": "code",
   "execution_count": 18,
   "metadata": {
    "collapsed": true
   },
   "outputs": [],
   "source": [
    "# Fazer qualquer alteração necessária na planilha entre esses dois códigos!!"
   ]
  },
  {
   "cell_type": "code",
   "execution_count": null,
   "metadata": {
    "collapsed": true
   },
   "outputs": [],
   "source": []
  },
  {
   "cell_type": "code",
   "execution_count": 19,
   "metadata": {
    "collapsed": true
   },
   "outputs": [],
   "source": [
    "batido= pd.read_excel(path+'distribuicao_intermediaria_por_quantidade.xlsx', sheetname='trades_batidos')\n",
    "divergentes= pd.read_excel(path+'distribuicao_intermediaria_por_quantidade.xlsx', sheetname='trades_divergentes')\n",
    "corrigidos= pd.read_excel(path+'distribuicao_intermediaria_por_quantidade.xlsx', sheetname='trades_corrigidos')\n",
    "n_batidos= pd.read_excel(path+'distribuicao_intermediaria_por_quantidade.xlsx', sheetname='trades_n_batidos')\n",
    "distribuidos= pd.read_excel(path+'distribuicao_intermediaria_por_quantidade.xlsx', sheetname='trades_distribuidos')"
   ]
  },
  {
   "cell_type": "code",
   "execution_count": null,
   "metadata": {
    "collapsed": true
   },
   "outputs": [],
   "source": []
  },
  {
   "cell_type": "code",
   "execution_count": null,
   "metadata": {
    "collapsed": true
   },
   "outputs": [],
   "source": []
  },
  {
   "cell_type": "code",
   "execution_count": null,
   "metadata": {
    "collapsed": true
   },
   "outputs": [],
   "source": []
  },
  {
   "cell_type": "markdown",
   "metadata": {},
   "source": [
    "#### Distribuição por books"
   ]
  },
  {
   "cell_type": "code",
   "execution_count": 20,
   "metadata": {
    "collapsed": true
   },
   "outputs": [],
   "source": [
    "# em algum momento dessa parte eu vou ter que tirar o que é TREAS_OPS"
   ]
  },
  {
   "cell_type": "code",
   "execution_count": null,
   "metadata": {
    "collapsed": true
   },
   "outputs": [],
   "source": []
  },
  {
   "cell_type": "code",
   "execution_count": 21,
   "metadata": {
    "collapsed": true
   },
   "outputs": [],
   "source": [
    "calypso_month_books = calypso.copy()"
   ]
  },
  {
   "cell_type": "code",
   "execution_count": 22,
   "metadata": {
    "collapsed": true
   },
   "outputs": [],
   "source": [
    "calypso_month_books = pd.merge(calypso_month_books, calypso_batimento.drop('id', axis=1), \\\n",
    "                               on=['acc','data_ref','ticker','currency'], how='left').rename(columns={\n",
    "    'quantidade_x':'quantidade_book',\n",
    "    'quantidade_y':'quantidade_ticker'\n",
    "})"
   ]
  },
  {
   "cell_type": "code",
   "execution_count": 23,
   "metadata": {
    "collapsed": true
   },
   "outputs": [],
   "source": [
    "check_3 = calypso_month_books.shape[0]-calypso.shape[0]\n",
    "if check_3 != 0:\n",
    "    print ('%s linhas foram adicionadas durante o merge. Favor verificar quais erros aconteceram.' %check_3)"
   ]
  },
  {
   "cell_type": "code",
   "execution_count": 24,
   "metadata": {
    "collapsed": true
   },
   "outputs": [],
   "source": [
    "calypso_month_books = calypso_month_books[calypso_month_books['quantidade_ticker'].isnull()==False]"
   ]
  },
  {
   "cell_type": "code",
   "execution_count": 25,
   "metadata": {
    "collapsed": true
   },
   "outputs": [],
   "source": [
    "check_4 = calypso_month_books.shape[0]-calypso.shape[0]\n",
    "if check_4 != 0 :\n",
    "    print ('%s trades foram perdidos durante o merge. Favor ferificar quais erros aconteceram.' %check_4)"
   ]
  },
  {
   "cell_type": "code",
   "execution_count": 26,
   "metadata": {
    "collapsed": true
   },
   "outputs": [],
   "source": [
    "# Aqui a gente está adicionando a coluna de Accrual pros trades do calyspo\n",
    "calypso_month_books = pd.merge(calypso_month_books, distribuidos, on=['acc','data_ref','ticker','currency'], how='left')\n",
    "calypso_month_books = calypso_month_books[calypso_month_books['accrual'].isnull()==False]"
   ]
  },
  {
   "cell_type": "code",
   "execution_count": 27,
   "metadata": {
    "collapsed": false
   },
   "outputs": [
    {
     "name": "stdout",
     "output_type": "stream",
     "text": [
      "-57 trades não foram encontrados durante a distribuição. Eles provavelmente não foram batidos.\n"
     ]
    }
   ],
   "source": [
    "check_5 = calypso_month_books.shape[0]-calypso.shape[0]\n",
    "print ('%s trades não foram encontrados durante a distribuição. Eles provavelmente não foram batidos.' %check_5)"
   ]
  },
  {
   "cell_type": "code",
   "execution_count": 28,
   "metadata": {
    "collapsed": false
   },
   "outputs": [
    {
     "name": "stdout",
     "output_type": "stream",
     "text": [
      "57 linhas foram retiradas da base por terem quantidade zerada. Ainda restam 3129 linhas de operações.\n",
      "Ajustes na base do calypso estão prontos. Dados estão prontos para serem distribuídos entre os books.\n"
     ]
    }
   ],
   "source": [
    "calypso_month_books = calypso_month_books[calypso_month_books['quantidade_book']!=0]\n",
    "check_6 = calypso.shape[0]-calypso_month_books.shape[0]\n",
    "print ('''%s linhas foram retiradas da base por terem quantidade zerada. Ainda restam %s linhas de operações.\n",
    "Ajustes na base do calypso estão prontos. Dados estão prontos para serem distribuídos entre os books.''' \\\n",
    "                                                                       %(check_6, calypso_month_books.shape[0]))"
   ]
  },
  {
   "cell_type": "code",
   "execution_count": 29,
   "metadata": {
    "collapsed": true
   },
   "outputs": [],
   "source": [
    "por_conta = calypso_month_books.groupby(by=['conta_pb','data_ref','ticker','currency']).sum().reset_index()"
   ]
  },
  {
   "cell_type": "code",
   "execution_count": 30,
   "metadata": {
    "collapsed": true
   },
   "outputs": [],
   "source": [
    "# Juntando a quantidade por sub_account do pb para poder dropar as contas positivas (que estão net doadas)\n",
    "calypso_month_books = pd.merge(calypso_month_books, por_conta.drop(['year', 'qt', 'accrual',\\\n",
    "                                                                   'quantidade', 'id', 'quantidade_ticker'], axis=1), \\\n",
    "                                                       on=['conta_pb','data_ref','ticker','currency'], how='left')\\\n",
    ".rename(columns={\n",
    "    'quantidade_book_x':'quantidade_book',\n",
    "    'quantidade_book_y':'quantidade_conta_pb'\n",
    "})"
   ]
  },
  {
   "cell_type": "code",
   "execution_count": 31,
   "metadata": {
    "collapsed": true
   },
   "outputs": [],
   "source": [
    "calypso_month_books = calypso_month_books[calypso_month_books['quantidade_conta_pb']<0]"
   ]
  },
  {
   "cell_type": "code",
   "execution_count": 32,
   "metadata": {
    "collapsed": false
   },
   "outputs": [
    {
     "name": "stdout",
     "output_type": "stream",
     "text": [
      "Foram feitos os casamentos de trade por sub_account\n"
     ]
    }
   ],
   "source": [
    "calypso_month_books = calypso_month_books[calypso_month_books['accrual'].isnull()==False]\n",
    "print ('Foram feitos os casamentos de trade por sub_account')"
   ]
  },
  {
   "cell_type": "code",
   "execution_count": 33,
   "metadata": {
    "collapsed": true
   },
   "outputs": [],
   "source": [
    "abertura = calypso_month_books[calypso_month_books['id'].isin(distribuidos['id'].drop_duplicates())==True]\n",
    "trades_out_abertura = calypso_month_books[calypso_month_books['id'].isin(distribuidos['id'].drop_duplicates())==False]\n",
    "if trades_out_abertura.shape[0]!=0:\n",
    "    print('ATENÇãO!!! %s trades foram encontrados em ambas as bases, porém não foram distribuídos.'%trades_out_abertura.shape[0])"
   ]
  },
  {
   "cell_type": "code",
   "execution_count": 34,
   "metadata": {
    "collapsed": true
   },
   "outputs": [],
   "source": [
    "abertura = abertura.drop(['isin', 'cusip','month', 'year', 'quantidade', 'id'], axis=1)"
   ]
  },
  {
   "cell_type": "code",
   "execution_count": 35,
   "metadata": {
    "collapsed": true
   },
   "outputs": [],
   "source": [
    "abertura['percent'] = abertura['quantidade_book']/abertura['quantidade_ticker']"
   ]
  },
  {
   "cell_type": "code",
   "execution_count": 36,
   "metadata": {
    "collapsed": true
   },
   "outputs": [],
   "source": [
    "check_7 = abertura.groupby(by=['acc','data_ref','ticker','currency']).sum().reset_index()\n",
    "check_7 = check_7[np.isclose(check_7['percent'], 1)==False].shape[0]\n",
    "if check_7 != 0:\n",
    "    print ('O batimento não foi feito!!! %s contas somam valor diferente a 100\\%')"
   ]
  },
  {
   "cell_type": "code",
   "execution_count": 37,
   "metadata": {
    "collapsed": true
   },
   "outputs": [],
   "source": [
    "abertura['accrual_final'] = abertura['percent']*abertura['accrual']"
   ]
  },
  {
   "cell_type": "code",
   "execution_count": 38,
   "metadata": {
    "collapsed": true
   },
   "outputs": [],
   "source": [
    "abertura = abertura.drop(['conta_pb', 'quantidade_ticker', 'qt', 'accrual','quantidade_conta_pb', \n",
    "                          'percent'], axis=1).reset_index(drop=True)"
   ]
  },
  {
   "cell_type": "code",
   "execution_count": 39,
   "metadata": {
    "collapsed": true
   },
   "outputs": [],
   "source": [
    "# Tickers que estão batidos ou que foram corrigidos. Todos distribuídos\n",
    "abertura_batidos = abertura[abertura['status']!='n_batido']\n",
    "# Tickers que NÃO ESTÃO BATIDOS EM QUANTIDADE, mas que foram distribuídos, pois foram encontrados em ambas as bases\n",
    "abertura_n_batidos = abertura[abertura['status']=='n_batido']"
   ]
  },
  {
   "cell_type": "code",
   "execution_count": 40,
   "metadata": {
    "collapsed": true
   },
   "outputs": [],
   "source": [
    "bate_soma = abertura.groupby(by=['acc', 'currency']).sum().reset_index()\n",
    "bate_soma_pb = pb_month.groupby(by=['acc', 'currency']).sum().reset_index()"
   ]
  },
  {
   "cell_type": "code",
   "execution_count": 41,
   "metadata": {
    "collapsed": true
   },
   "outputs": [],
   "source": [
    "check_8 = pd.merge(bate_soma_pb, bate_soma, on=['acc', 'currency'], how='left').rename(columns={\n",
    "'qt':'quantidade_pb',\n",
    "'accrual':'custos_pb',\n",
    "'quantidade_book':'quantidade_calypso',\n",
    "'accrual_final':'custos_batidos'\n",
    "})\n",
    "check_8['bate_qt'] = check_8['quantidade_pb']-check_8['quantidade_calypso']\n",
    "check_8['bate_custos'] = check_8['custos_pb']-check_8['custos_batidos']\n",
    "check_8['bate_custos_pct'] = check_8['custos_pb']/check_8['custos_batidos']\n",
    "check_8 = check_8[['acc', 'currency', 'quantidade_pb', 'quantidade_calypso', 'bate_qt', 'custos_pb', 'custos_batidos',\n",
    "      'bate_custos', 'bate_custos_pct']]   "
   ]
  },
  {
   "cell_type": "code",
   "execution_count": 42,
   "metadata": {
    "collapsed": false
   },
   "outputs": [
    {
     "name": "stdout",
     "output_type": "stream",
     "text": [
      "1 contas tiveram diferença maior do que 5pct do valor do prime broker\n"
     ]
    }
   ],
   "source": [
    "check_9 = check_8[(check_8['bate_custos_pct']<0.95)|(check_8['bate_custos_pct']>1.05)].shape[0]\n",
    "if check_9!=0:\n",
    "    print('%s contas tiveram diferença maior do que 5pct do valor do prime broker' %check_9)"
   ]
  },
  {
   "cell_type": "code",
   "execution_count": 43,
   "metadata": {
    "collapsed": true
   },
   "outputs": [],
   "source": [
    "check_8 = check_8.drop(['quantidade_pb','quantidade_calypso','bate_qt'],axis=1)"
   ]
  },
  {
   "cell_type": "code",
   "execution_count": null,
   "metadata": {
    "collapsed": true
   },
   "outputs": [],
   "source": []
  },
  {
   "cell_type": "code",
   "execution_count": null,
   "metadata": {
    "collapsed": true
   },
   "outputs": [],
   "source": []
  },
  {
   "cell_type": "code",
   "execution_count": null,
   "metadata": {
    "collapsed": true
   },
   "outputs": [],
   "source": []
  },
  {
   "cell_type": "code",
   "execution_count": 44,
   "metadata": {
    "collapsed": true
   },
   "outputs": [],
   "source": [
    "## Aqui você copia as informações que vêm do e-mail de Cayman!\n",
    "info_emails = pd.DataFrame({\n",
    "    'acc':['ms_cayman','ms_cayman','ms_cayman','ms_cayman','ubs_cayman','int_c','int_c','int_c'],\n",
    "    'currency':['USD','EUR','GBP','MXN','MXN','AUD','USD','MXN'],\n",
    "    'accrual_final':[-151302.90,-4.18,-1.20,-1774308.52,-993668.89,-2588.31,-23637.36,-289.12]\n",
    "})"
   ]
  },
  {
   "cell_type": "code",
   "execution_count": 45,
   "metadata": {
    "collapsed": false,
    "scrolled": true
   },
   "outputs": [
    {
     "data": {
      "text/html": [
       "<div>\n",
       "<table border=\"1\" class=\"dataframe\">\n",
       "  <thead>\n",
       "    <tr style=\"text-align: right;\">\n",
       "      <th></th>\n",
       "      <th>acc</th>\n",
       "      <th>accrual_final</th>\n",
       "      <th>currency</th>\n",
       "    </tr>\n",
       "  </thead>\n",
       "  <tbody>\n",
       "    <tr>\n",
       "      <th>0</th>\n",
       "      <td>ms_cayman</td>\n",
       "      <td>-151302.90</td>\n",
       "      <td>USD</td>\n",
       "    </tr>\n",
       "    <tr>\n",
       "      <th>1</th>\n",
       "      <td>ms_cayman</td>\n",
       "      <td>-4.18</td>\n",
       "      <td>EUR</td>\n",
       "    </tr>\n",
       "    <tr>\n",
       "      <th>2</th>\n",
       "      <td>ms_cayman</td>\n",
       "      <td>-1.20</td>\n",
       "      <td>GBP</td>\n",
       "    </tr>\n",
       "    <tr>\n",
       "      <th>3</th>\n",
       "      <td>ms_cayman</td>\n",
       "      <td>-1774308.52</td>\n",
       "      <td>MXN</td>\n",
       "    </tr>\n",
       "    <tr>\n",
       "      <th>4</th>\n",
       "      <td>ubs_cayman</td>\n",
       "      <td>-993668.89</td>\n",
       "      <td>MXN</td>\n",
       "    </tr>\n",
       "    <tr>\n",
       "      <th>5</th>\n",
       "      <td>int_c</td>\n",
       "      <td>-2588.31</td>\n",
       "      <td>AUD</td>\n",
       "    </tr>\n",
       "    <tr>\n",
       "      <th>6</th>\n",
       "      <td>int_c</td>\n",
       "      <td>-23637.36</td>\n",
       "      <td>USD</td>\n",
       "    </tr>\n",
       "    <tr>\n",
       "      <th>7</th>\n",
       "      <td>int_c</td>\n",
       "      <td>-289.12</td>\n",
       "      <td>MXN</td>\n",
       "    </tr>\n",
       "  </tbody>\n",
       "</table>\n",
       "</div>"
      ],
      "text/plain": [
       "          acc  accrual_final currency\n",
       "0   ms_cayman     -151302.90      USD\n",
       "1   ms_cayman          -4.18      EUR\n",
       "2   ms_cayman          -1.20      GBP\n",
       "3   ms_cayman    -1774308.52      MXN\n",
       "4  ubs_cayman     -993668.89      MXN\n",
       "5       int_c       -2588.31      AUD\n",
       "6       int_c      -23637.36      USD\n",
       "7       int_c        -289.12      MXN"
      ]
     },
     "execution_count": 45,
     "metadata": {},
     "output_type": "execute_result"
    }
   ],
   "source": [
    "info_emails"
   ]
  },
  {
   "cell_type": "code",
   "execution_count": null,
   "metadata": {
    "collapsed": true
   },
   "outputs": [],
   "source": []
  },
  {
   "cell_type": "code",
   "execution_count": 46,
   "metadata": {
    "collapsed": false
   },
   "outputs": [
    {
     "name": "stdout",
     "output_type": "stream",
     "text": [
      "1 linhas foram dropadas da base, porque os valores não foram descontados no conta.\n",
      "454 tickers_book foram dropados da abertura porque suas contas não faziam sentido com o que foi cobrado\n"
     ]
    }
   ],
   "source": [
    "abertura_batidos_ajustado, abertura_batidos_consol, ajuste = \\\n",
    "                            AjustaBatimentoEmailCayman(path).ajuste_dados_email(info_emails, abertura_batidos)"
   ]
  },
  {
   "cell_type": "code",
   "execution_count": null,
   "metadata": {
    "collapsed": true
   },
   "outputs": [],
   "source": []
  },
  {
   "cell_type": "code",
   "execution_count": 47,
   "metadata": {
    "collapsed": true
   },
   "outputs": [],
   "source": [
    "writer_2 = pd.ExcelWriter(path+'distribuicao_asset_consolidada_ajustada_email_cayman.xlsx')"
   ]
  },
  {
   "cell_type": "code",
   "execution_count": 48,
   "metadata": {
    "collapsed": false
   },
   "outputs": [],
   "source": [
    "abertura_batidos_ajustado.to_excel(writer_2, sheet_name='trades_batidos_ajustados', index=False)\n",
    "abertura_batidos_consol.to_excel(writer_2, sheet_name='trades_abertura_batidos_consol', index=False)\n",
    "check_8.to_excel(writer_2, sheet_name='check_distribuicao_igual_pb', index=False)\n",
    "abertura.to_excel(writer_2, sheet_name='tickers_abertura', index=False)\n",
    "abertura_batidos.to_excel(writer_2, sheet_name='tickers_batidos_corrigidos', index=False)\n",
    "abertura_n_batidos.to_excel(writer_2, sheet_name='n_batidos_mas_distribuidos', index=False)\n",
    "ajuste.to_excel(writer_2, sheet_name='ajuste', index=False)\n",
    "writer_2.save()"
   ]
  },
  {
   "cell_type": "code",
   "execution_count": null,
   "metadata": {
    "collapsed": true
   },
   "outputs": [],
   "source": []
  }
 ],
 "metadata": {
  "kernelspec": {
   "display_name": "Python 3",
   "language": "python",
   "name": "python3"
  },
  "language_info": {
   "codemirror_mode": {
    "name": "ipython",
    "version": 3
   },
   "file_extension": ".py",
   "mimetype": "text/x-python",
   "name": "python",
   "nbconvert_exporter": "python",
   "pygments_lexer": "ipython3",
   "version": "3.6.0"
  }
 },
 "nbformat": 4,
 "nbformat_minor": 2
}
