{
 "cells": [
  {
   "cell_type": "code",
   "execution_count": 1,
   "metadata": {
    "collapsed": false
   },
   "outputs": [],
   "source": [
    "%load_ext autoreload\n",
    "%autoreload 2\n",
    "\n",
    "import os\n",
    "import sys\n",
    "sys.path.append('%s/../' % os.getcwd())\n",
    "\n",
    "import datetime\n",
    "import pandas as pd\n",
    "import numpy as np\n",
    "import getpass"
   ]
  },
  {
   "cell_type": "code",
   "execution_count": 2,
   "metadata": {
    "collapsed": true
   },
   "outputs": [],
   "source": [
    "#importa as fórmulas do arquivo aluguel_offshore.py - note que este arquivo deverá estar na mesma pasta deste notebook\n",
    "from aluguel_offshore import *\n",
    "from formulas_auxiliares_ticker import *\n",
    "from confirmacoes.aux_emails import email_sender"
   ]
  },
  {
   "cell_type": "code",
   "execution_count": null,
   "metadata": {
    "collapsed": true
   },
   "outputs": [],
   "source": []
  },
  {
   "cell_type": "code",
   "execution_count": 3,
   "metadata": {
    "collapsed": true
   },
   "outputs": [],
   "source": [
    "path = r'\\\\DRIOC0231PFS\\Apoio_SB\\Geral\\BD\\Aluguel_Offshore\\Arquivos diários\\out2018\\consolidado\\alguel_offshore_consolidado.xlsx'\n",
    "save_path = r'\\\\DRIOC0231PFS\\Apoio_SB\\Geral\\BD\\Aluguel_Offshore\\Arquivos diários\\out2018\\consolidado'"
   ]
  },
  {
   "cell_type": "code",
   "execution_count": 4,
   "metadata": {
    "collapsed": false
   },
   "outputs": [],
   "source": [
    "abertura_consol = pd.read_excel(path, sheetname = 'Custos Colsolidados')\n",
    "abertura_wm_consol = pd.read_excel(path, sheetname = 'Custos WM Colsolidados',)\n",
    "abertura_treas_ops_consol = pd.read_excel(path, sheetname = 'Custos TREAS OPS Colsolidados')"
   ]
  },
  {
   "cell_type": "code",
   "execution_count": 5,
   "metadata": {
    "collapsed": false
   },
   "outputs": [],
   "source": [
    "abertura_consol.columns = ['acc', 'book', 'currency', 'accrual']\n",
    "abertura_consol.loc[:,'tipo'] = 'geral'\n",
    "abertura_wm_consol.columns = ['acc', 'book', 'currency', 'accrual']\n",
    "abertura_wm_consol.loc[:,'tipo'] = 'WM'\n",
    "abertura_treas_ops_consol.columns = ['acc', 'book', 'currency', 'accrual']\n",
    "abertura_treas_ops_consol.loc[:,'tipo'] = 'TREAS'\n",
    "\n",
    "df = pd.concat([abertura_consol,abertura_wm_consol,abertura_treas_ops_consol], axis=0).reset_index(drop=True)\n",
    "df = df[df['accrual']!=0]"
   ]
  },
  {
   "cell_type": "code",
   "execution_count": 6,
   "metadata": {
    "collapsed": false,
    "scrolled": true
   },
   "outputs": [
    {
     "data": {
      "text/html": [
       "<div>\n",
       "<table border=\"1\" class=\"dataframe\">\n",
       "  <thead>\n",
       "    <tr style=\"text-align: right;\">\n",
       "      <th></th>\n",
       "      <th>acc</th>\n",
       "      <th>book</th>\n",
       "      <th>currency</th>\n",
       "      <th>accrual</th>\n",
       "      <th>tipo</th>\n",
       "    </tr>\n",
       "  </thead>\n",
       "  <tbody>\n",
       "    <tr>\n",
       "      <th>0</th>\n",
       "      <td>int_c</td>\n",
       "      <td>ACOES_OFFSHORE_.INTC</td>\n",
       "      <td>AUD</td>\n",
       "      <td>-3356.200000</td>\n",
       "      <td>geral</td>\n",
       "    </tr>\n",
       "    <tr>\n",
       "      <th>1</th>\n",
       "      <td>int_c</td>\n",
       "      <td>ACOES_OFFSHORE_.INTC</td>\n",
       "      <td>USD</td>\n",
       "      <td>323.205352</td>\n",
       "      <td>geral</td>\n",
       "    </tr>\n",
       "    <tr>\n",
       "      <th>2</th>\n",
       "      <td>int_c</td>\n",
       "      <td>ACOES_OFFSHORE_INTC</td>\n",
       "      <td>USD</td>\n",
       "      <td>-586.295352</td>\n",
       "      <td>geral</td>\n",
       "    </tr>\n",
       "    <tr>\n",
       "      <th>3</th>\n",
       "      <td>int_c</td>\n",
       "      <td>INTRADAY_PAIRS.INTC</td>\n",
       "      <td>USD</td>\n",
       "      <td>-50.878938</td>\n",
       "      <td>geral</td>\n",
       "    </tr>\n",
       "    <tr>\n",
       "      <th>4</th>\n",
       "      <td>int_c</td>\n",
       "      <td>LOCAL_ADR_INTC</td>\n",
       "      <td>USD</td>\n",
       "      <td>516.741270</td>\n",
       "      <td>geral</td>\n",
       "    </tr>\n",
       "    <tr>\n",
       "      <th>5</th>\n",
       "      <td>int_c</td>\n",
       "      <td>LOCAL_ADR_MR.INTC</td>\n",
       "      <td>USD</td>\n",
       "      <td>-590.172332</td>\n",
       "      <td>geral</td>\n",
       "    </tr>\n",
       "    <tr>\n",
       "      <th>6</th>\n",
       "      <td>ms_cayman</td>\n",
       "      <td>13F_COMM.CAYMAN</td>\n",
       "      <td>USD</td>\n",
       "      <td>-2616.350000</td>\n",
       "      <td>geral</td>\n",
       "    </tr>\n",
       "    <tr>\n",
       "      <th>7</th>\n",
       "      <td>ms_cayman</td>\n",
       "      <td>13F_CONS_CYCL.CAYMAN</td>\n",
       "      <td>USD</td>\n",
       "      <td>-1224.737759</td>\n",
       "      <td>geral</td>\n",
       "    </tr>\n",
       "    <tr>\n",
       "      <th>8</th>\n",
       "      <td>ms_cayman</td>\n",
       "      <td>13F_CONS_N_CYCL.CAYMAN</td>\n",
       "      <td>USD</td>\n",
       "      <td>-1826.935541</td>\n",
       "      <td>geral</td>\n",
       "    </tr>\n",
       "    <tr>\n",
       "      <th>9</th>\n",
       "      <td>ms_cayman</td>\n",
       "      <td>13F_ENERGY.CAYMAN</td>\n",
       "      <td>USD</td>\n",
       "      <td>-1775.570000</td>\n",
       "      <td>geral</td>\n",
       "    </tr>\n",
       "    <tr>\n",
       "      <th>10</th>\n",
       "      <td>ms_cayman</td>\n",
       "      <td>13F_HEALTH.CAYMAN</td>\n",
       "      <td>USD</td>\n",
       "      <td>-1463.371361</td>\n",
       "      <td>geral</td>\n",
       "    </tr>\n",
       "    <tr>\n",
       "      <th>11</th>\n",
       "      <td>ms_cayman</td>\n",
       "      <td>13F_INDU.CAYMAN</td>\n",
       "      <td>USD</td>\n",
       "      <td>-1204.220105</td>\n",
       "      <td>geral</td>\n",
       "    </tr>\n",
       "    <tr>\n",
       "      <th>12</th>\n",
       "      <td>ms_cayman</td>\n",
       "      <td>ARB_PARITY</td>\n",
       "      <td>USD</td>\n",
       "      <td>-32.342546</td>\n",
       "      <td>geral</td>\n",
       "    </tr>\n",
       "    <tr>\n",
       "      <th>13</th>\n",
       "      <td>ms_cayman</td>\n",
       "      <td>CHILE_DIRECIONAL</td>\n",
       "      <td>USD</td>\n",
       "      <td>-3623.354318</td>\n",
       "      <td>geral</td>\n",
       "    </tr>\n",
       "    <tr>\n",
       "      <th>14</th>\n",
       "      <td>ms_cayman</td>\n",
       "      <td>CHILE_ISSUANCE</td>\n",
       "      <td>USD</td>\n",
       "      <td>-13.431221</td>\n",
       "      <td>geral</td>\n",
       "    </tr>\n",
       "    <tr>\n",
       "      <th>15</th>\n",
       "      <td>ms_cayman</td>\n",
       "      <td>CHILE_NETTING</td>\n",
       "      <td>USD</td>\n",
       "      <td>-1703.800000</td>\n",
       "      <td>geral</td>\n",
       "    </tr>\n",
       "    <tr>\n",
       "      <th>16</th>\n",
       "      <td>ms_cayman</td>\n",
       "      <td>CO_ARB.CAYMAN</td>\n",
       "      <td>USD</td>\n",
       "      <td>29983.999187</td>\n",
       "      <td>geral</td>\n",
       "    </tr>\n",
       "    <tr>\n",
       "      <th>17</th>\n",
       "      <td>ms_cayman</td>\n",
       "      <td>CO_FUT.CAYMAN</td>\n",
       "      <td>USD</td>\n",
       "      <td>-1612.359312</td>\n",
       "      <td>geral</td>\n",
       "    </tr>\n",
       "    <tr>\n",
       "      <th>18</th>\n",
       "      <td>ms_cayman</td>\n",
       "      <td>CO_PAIRS.CAYMAN</td>\n",
       "      <td>USD</td>\n",
       "      <td>-32772.957328</td>\n",
       "      <td>geral</td>\n",
       "    </tr>\n",
       "    <tr>\n",
       "      <th>19</th>\n",
       "      <td>ms_cayman</td>\n",
       "      <td>FLOW_US_EWZ.CAYMAN</td>\n",
       "      <td>USD</td>\n",
       "      <td>-644.786995</td>\n",
       "      <td>geral</td>\n",
       "    </tr>\n",
       "    <tr>\n",
       "      <th>20</th>\n",
       "      <td>ms_cayman</td>\n",
       "      <td>FLOW_US_NOTAS.CAYMAN</td>\n",
       "      <td>USD</td>\n",
       "      <td>-37.649730</td>\n",
       "      <td>geral</td>\n",
       "    </tr>\n",
       "    <tr>\n",
       "      <th>21</th>\n",
       "      <td>ms_cayman</td>\n",
       "      <td>HDG_ABS_MEX.CAYMAN</td>\n",
       "      <td>MXN</td>\n",
       "      <td>-505188.760000</td>\n",
       "      <td>geral</td>\n",
       "    </tr>\n",
       "    <tr>\n",
       "      <th>22</th>\n",
       "      <td>ms_cayman</td>\n",
       "      <td>HDG_ABS_MEX.CAYMAN</td>\n",
       "      <td>USD</td>\n",
       "      <td>-13817.483931</td>\n",
       "      <td>geral</td>\n",
       "    </tr>\n",
       "    <tr>\n",
       "      <th>23</th>\n",
       "      <td>ms_cayman</td>\n",
       "      <td>HDG_GLOB_EQ.CAYMAN</td>\n",
       "      <td>USD</td>\n",
       "      <td>-2028.187115</td>\n",
       "      <td>geral</td>\n",
       "    </tr>\n",
       "    <tr>\n",
       "      <th>24</th>\n",
       "      <td>ms_cayman</td>\n",
       "      <td>HDG_MEX</td>\n",
       "      <td>USD</td>\n",
       "      <td>-13304.263100</td>\n",
       "      <td>geral</td>\n",
       "    </tr>\n",
       "    <tr>\n",
       "      <th>25</th>\n",
       "      <td>ms_cayman</td>\n",
       "      <td>HDG_MEX.Cayman</td>\n",
       "      <td>USD</td>\n",
       "      <td>2747.705376</td>\n",
       "      <td>geral</td>\n",
       "    </tr>\n",
       "    <tr>\n",
       "      <th>26</th>\n",
       "      <td>ms_cayman</td>\n",
       "      <td>INTRADAY_PAIRS.CAYMAN</td>\n",
       "      <td>USD</td>\n",
       "      <td>-2080.664442</td>\n",
       "      <td>geral</td>\n",
       "    </tr>\n",
       "    <tr>\n",
       "      <th>27</th>\n",
       "      <td>ms_cayman</td>\n",
       "      <td>KIG</td>\n",
       "      <td>USD</td>\n",
       "      <td>26.662682</td>\n",
       "      <td>geral</td>\n",
       "    </tr>\n",
       "    <tr>\n",
       "      <th>28</th>\n",
       "      <td>ms_cayman</td>\n",
       "      <td>LATAM_BANKS.CAYMAN</td>\n",
       "      <td>MXN</td>\n",
       "      <td>-61264.054065</td>\n",
       "      <td>geral</td>\n",
       "    </tr>\n",
       "    <tr>\n",
       "      <th>29</th>\n",
       "      <td>ms_cayman</td>\n",
       "      <td>LATAM_FOODBEV.CAYMAN</td>\n",
       "      <td>MXN</td>\n",
       "      <td>-27028.260910</td>\n",
       "      <td>geral</td>\n",
       "    </tr>\n",
       "    <tr>\n",
       "      <th>...</th>\n",
       "      <td>...</td>\n",
       "      <td>...</td>\n",
       "      <td>...</td>\n",
       "      <td>...</td>\n",
       "      <td>...</td>\n",
       "    </tr>\n",
       "    <tr>\n",
       "      <th>45</th>\n",
       "      <td>ms_cayman</td>\n",
       "      <td>QUANT_STRAT.CAYMAN</td>\n",
       "      <td>USD</td>\n",
       "      <td>-575.105147</td>\n",
       "      <td>geral</td>\n",
       "    </tr>\n",
       "    <tr>\n",
       "      <th>46</th>\n",
       "      <td>ms_cayman</td>\n",
       "      <td>VI_MACRO_EQUITY.CAYMAN</td>\n",
       "      <td>USD</td>\n",
       "      <td>-1979.995688</td>\n",
       "      <td>geral</td>\n",
       "    </tr>\n",
       "    <tr>\n",
       "      <th>47</th>\n",
       "      <td>ubs_cayman</td>\n",
       "      <td>BD_CLIENTS_UBS</td>\n",
       "      <td>USD</td>\n",
       "      <td>8189.016541</td>\n",
       "      <td>geral</td>\n",
       "    </tr>\n",
       "    <tr>\n",
       "      <th>48</th>\n",
       "      <td>ubs_cayman</td>\n",
       "      <td>PRIVATE_DEFAULT_UBS</td>\n",
       "      <td>USD</td>\n",
       "      <td>1958.094433</td>\n",
       "      <td>geral</td>\n",
       "    </tr>\n",
       "    <tr>\n",
       "      <th>49</th>\n",
       "      <td>ubs_cayman</td>\n",
       "      <td>SICAV LATAM HEDGE.CAYMAN_UBS</td>\n",
       "      <td>USD</td>\n",
       "      <td>2754.771680</td>\n",
       "      <td>geral</td>\n",
       "    </tr>\n",
       "    <tr>\n",
       "      <th>50</th>\n",
       "      <td>ubs_cayman</td>\n",
       "      <td>TREAS_OPS.CAYMAN</td>\n",
       "      <td>MXN</td>\n",
       "      <td>-580144.390000</td>\n",
       "      <td>geral</td>\n",
       "    </tr>\n",
       "    <tr>\n",
       "      <th>51</th>\n",
       "      <td>ubs_cayman</td>\n",
       "      <td>TREAS_OPS.CAYMAN</td>\n",
       "      <td>USD</td>\n",
       "      <td>103018.027345</td>\n",
       "      <td>geral</td>\n",
       "    </tr>\n",
       "    <tr>\n",
       "      <th>52</th>\n",
       "      <td>ubs_cayman</td>\n",
       "      <td>16017 EUROAMERICA CORREDORES DE BOLSA SA (PBL)</td>\n",
       "      <td>USD</td>\n",
       "      <td>5.070000</td>\n",
       "      <td>WM</td>\n",
       "    </tr>\n",
       "    <tr>\n",
       "      <th>53</th>\n",
       "      <td>ubs_cayman</td>\n",
       "      <td>18028 BTG PACTUAL CHILE SA CORREDORES DE BOLSA</td>\n",
       "      <td>USD</td>\n",
       "      <td>89.631622</td>\n",
       "      <td>WM</td>\n",
       "    </tr>\n",
       "    <tr>\n",
       "      <th>54</th>\n",
       "      <td>ubs_cayman</td>\n",
       "      <td>18348 BTG PACTUAL PERU SA SAB</td>\n",
       "      <td>USD</td>\n",
       "      <td>-16.400000</td>\n",
       "      <td>WM</td>\n",
       "    </tr>\n",
       "    <tr>\n",
       "      <th>55</th>\n",
       "      <td>ubs_cayman</td>\n",
       "      <td>26497 BEAVER CREEK GLOBAL FUND SPC ARROBA 3 GL...</td>\n",
       "      <td>USD</td>\n",
       "      <td>391.858976</td>\n",
       "      <td>WM</td>\n",
       "    </tr>\n",
       "    <tr>\n",
       "      <th>56</th>\n",
       "      <td>ubs_cayman</td>\n",
       "      <td>27428 BTG PACTUAL INTL PORT FUND II SPC - SP E...</td>\n",
       "      <td>USD</td>\n",
       "      <td>7664.304919</td>\n",
       "      <td>WM</td>\n",
       "    </tr>\n",
       "    <tr>\n",
       "      <th>57</th>\n",
       "      <td>ubs_cayman</td>\n",
       "      <td>487 PLATINA MULTI STRATEGY FUND - SEGREGATED P...</td>\n",
       "      <td>USD</td>\n",
       "      <td>1409.385458</td>\n",
       "      <td>WM</td>\n",
       "    </tr>\n",
       "    <tr>\n",
       "      <th>58</th>\n",
       "      <td>ubs_cayman</td>\n",
       "      <td>HF_EWW_BASKET.BTGINH</td>\n",
       "      <td>MXN</td>\n",
       "      <td>-310233.869903</td>\n",
       "      <td>TREAS</td>\n",
       "    </tr>\n",
       "    <tr>\n",
       "      <th>59</th>\n",
       "      <td>ubs_cayman</td>\n",
       "      <td>HF_GLOBAL CONSUMER.BTGINH(46300)</td>\n",
       "      <td>USD</td>\n",
       "      <td>53000.967123</td>\n",
       "      <td>TREAS</td>\n",
       "    </tr>\n",
       "    <tr>\n",
       "      <th>60</th>\n",
       "      <td>ubs_cayman</td>\n",
       "      <td>HF_L&amp;S_CHILE.BTGINH</td>\n",
       "      <td>USD</td>\n",
       "      <td>-3580.190098</td>\n",
       "      <td>TREAS</td>\n",
       "    </tr>\n",
       "    <tr>\n",
       "      <th>61</th>\n",
       "      <td>ubs_cayman</td>\n",
       "      <td>HF_LONG&amp;SHORTMEXICO.BTGINH</td>\n",
       "      <td>MXN</td>\n",
       "      <td>-0.870000</td>\n",
       "      <td>TREAS</td>\n",
       "    </tr>\n",
       "    <tr>\n",
       "      <th>62</th>\n",
       "      <td>ubs_cayman</td>\n",
       "      <td>HF_LONG&amp;SHORTMEXICO.BTGINH</td>\n",
       "      <td>USD</td>\n",
       "      <td>27.880741</td>\n",
       "      <td>TREAS</td>\n",
       "    </tr>\n",
       "    <tr>\n",
       "      <th>63</th>\n",
       "      <td>ubs_cayman</td>\n",
       "      <td>HF_PAGS.BTGINH</td>\n",
       "      <td>USD</td>\n",
       "      <td>4110.707712</td>\n",
       "      <td>TREAS</td>\n",
       "    </tr>\n",
       "    <tr>\n",
       "      <th>64</th>\n",
       "      <td>ubs_cayman</td>\n",
       "      <td>HF_TRADING.BTGINH</td>\n",
       "      <td>USD</td>\n",
       "      <td>148.337696</td>\n",
       "      <td>TREAS</td>\n",
       "    </tr>\n",
       "    <tr>\n",
       "      <th>65</th>\n",
       "      <td>ubs_cayman</td>\n",
       "      <td>LS_EWW_BASKET.BTINTG</td>\n",
       "      <td>MXN</td>\n",
       "      <td>-76269.292698</td>\n",
       "      <td>TREAS</td>\n",
       "    </tr>\n",
       "    <tr>\n",
       "      <th>66</th>\n",
       "      <td>ubs_cayman</td>\n",
       "      <td>LS_GLOBAL CONSUMER.ABSGLS(46328)</td>\n",
       "      <td>USD</td>\n",
       "      <td>11465.527923</td>\n",
       "      <td>TREAS</td>\n",
       "    </tr>\n",
       "    <tr>\n",
       "      <th>67</th>\n",
       "      <td>ubs_cayman</td>\n",
       "      <td>LS_GLOBAL CONSUMER.BTINTG(46328)</td>\n",
       "      <td>USD</td>\n",
       "      <td>8705.219455</td>\n",
       "      <td>TREAS</td>\n",
       "    </tr>\n",
       "    <tr>\n",
       "      <th>68</th>\n",
       "      <td>ubs_cayman</td>\n",
       "      <td>LS_L&amp;S_CHILE.BTINTG</td>\n",
       "      <td>USD</td>\n",
       "      <td>-1568.481572</td>\n",
       "      <td>TREAS</td>\n",
       "    </tr>\n",
       "    <tr>\n",
       "      <th>69</th>\n",
       "      <td>ubs_cayman</td>\n",
       "      <td>LS_LONG&amp;SHORTMEXICO.BTINTG</td>\n",
       "      <td>MXN</td>\n",
       "      <td>0.580000</td>\n",
       "      <td>TREAS</td>\n",
       "    </tr>\n",
       "    <tr>\n",
       "      <th>70</th>\n",
       "      <td>ubs_cayman</td>\n",
       "      <td>LS_LONG&amp;SHORTMEXICO.BTINTG</td>\n",
       "      <td>USD</td>\n",
       "      <td>81.179259</td>\n",
       "      <td>TREAS</td>\n",
       "    </tr>\n",
       "    <tr>\n",
       "      <th>71</th>\n",
       "      <td>ubs_cayman</td>\n",
       "      <td>LS_PAGS.BTINTG</td>\n",
       "      <td>USD</td>\n",
       "      <td>1147.842935</td>\n",
       "      <td>TREAS</td>\n",
       "    </tr>\n",
       "    <tr>\n",
       "      <th>72</th>\n",
       "      <td>ubs_cayman</td>\n",
       "      <td>LS_TRADING.BTINTG</td>\n",
       "      <td>USD</td>\n",
       "      <td>34.718722</td>\n",
       "      <td>TREAS</td>\n",
       "    </tr>\n",
       "    <tr>\n",
       "      <th>73</th>\n",
       "      <td>ubs_cayman</td>\n",
       "      <td>XG_PORTFOLIO.ABGEQ</td>\n",
       "      <td>USD</td>\n",
       "      <td>1795.409721</td>\n",
       "      <td>TREAS</td>\n",
       "    </tr>\n",
       "    <tr>\n",
       "      <th>74</th>\n",
       "      <td>ubs_cayman</td>\n",
       "      <td>XG_PORTFOLIO.ABGEQM</td>\n",
       "      <td>USD</td>\n",
       "      <td>313.278542</td>\n",
       "      <td>TREAS</td>\n",
       "    </tr>\n",
       "  </tbody>\n",
       "</table>\n",
       "<p>75 rows × 5 columns</p>\n",
       "</div>"
      ],
      "text/plain": [
       "           acc                                               book currency  \\\n",
       "0        int_c                               ACOES_OFFSHORE_.INTC      AUD   \n",
       "1        int_c                               ACOES_OFFSHORE_.INTC      USD   \n",
       "2        int_c                                ACOES_OFFSHORE_INTC      USD   \n",
       "3        int_c                                INTRADAY_PAIRS.INTC      USD   \n",
       "4        int_c                                     LOCAL_ADR_INTC      USD   \n",
       "5        int_c                                  LOCAL_ADR_MR.INTC      USD   \n",
       "6    ms_cayman                                    13F_COMM.CAYMAN      USD   \n",
       "7    ms_cayman                               13F_CONS_CYCL.CAYMAN      USD   \n",
       "8    ms_cayman                             13F_CONS_N_CYCL.CAYMAN      USD   \n",
       "9    ms_cayman                                  13F_ENERGY.CAYMAN      USD   \n",
       "10   ms_cayman                                  13F_HEALTH.CAYMAN      USD   \n",
       "11   ms_cayman                                    13F_INDU.CAYMAN      USD   \n",
       "12   ms_cayman                                         ARB_PARITY      USD   \n",
       "13   ms_cayman                                   CHILE_DIRECIONAL      USD   \n",
       "14   ms_cayman                                     CHILE_ISSUANCE      USD   \n",
       "15   ms_cayman                                      CHILE_NETTING      USD   \n",
       "16   ms_cayman                                      CO_ARB.CAYMAN      USD   \n",
       "17   ms_cayman                                      CO_FUT.CAYMAN      USD   \n",
       "18   ms_cayman                                    CO_PAIRS.CAYMAN      USD   \n",
       "19   ms_cayman                                 FLOW_US_EWZ.CAYMAN      USD   \n",
       "20   ms_cayman                               FLOW_US_NOTAS.CAYMAN      USD   \n",
       "21   ms_cayman                                 HDG_ABS_MEX.CAYMAN      MXN   \n",
       "22   ms_cayman                                 HDG_ABS_MEX.CAYMAN      USD   \n",
       "23   ms_cayman                                 HDG_GLOB_EQ.CAYMAN      USD   \n",
       "24   ms_cayman                                            HDG_MEX      USD   \n",
       "25   ms_cayman                                     HDG_MEX.Cayman      USD   \n",
       "26   ms_cayman                              INTRADAY_PAIRS.CAYMAN      USD   \n",
       "27   ms_cayman                                                KIG      USD   \n",
       "28   ms_cayman                                 LATAM_BANKS.CAYMAN      MXN   \n",
       "29   ms_cayman                               LATAM_FOODBEV.CAYMAN      MXN   \n",
       "..         ...                                                ...      ...   \n",
       "45   ms_cayman                                 QUANT_STRAT.CAYMAN      USD   \n",
       "46   ms_cayman                             VI_MACRO_EQUITY.CAYMAN      USD   \n",
       "47  ubs_cayman                                     BD_CLIENTS_UBS      USD   \n",
       "48  ubs_cayman                                PRIVATE_DEFAULT_UBS      USD   \n",
       "49  ubs_cayman                       SICAV LATAM HEDGE.CAYMAN_UBS      USD   \n",
       "50  ubs_cayman                                   TREAS_OPS.CAYMAN      MXN   \n",
       "51  ubs_cayman                                   TREAS_OPS.CAYMAN      USD   \n",
       "52  ubs_cayman     16017 EUROAMERICA CORREDORES DE BOLSA SA (PBL)      USD   \n",
       "53  ubs_cayman     18028 BTG PACTUAL CHILE SA CORREDORES DE BOLSA      USD   \n",
       "54  ubs_cayman                      18348 BTG PACTUAL PERU SA SAB      USD   \n",
       "55  ubs_cayman  26497 BEAVER CREEK GLOBAL FUND SPC ARROBA 3 GL...      USD   \n",
       "56  ubs_cayman  27428 BTG PACTUAL INTL PORT FUND II SPC - SP E...      USD   \n",
       "57  ubs_cayman  487 PLATINA MULTI STRATEGY FUND - SEGREGATED P...      USD   \n",
       "58  ubs_cayman                               HF_EWW_BASKET.BTGINH      MXN   \n",
       "59  ubs_cayman                   HF_GLOBAL CONSUMER.BTGINH(46300)      USD   \n",
       "60  ubs_cayman                                HF_L&S_CHILE.BTGINH      USD   \n",
       "61  ubs_cayman                         HF_LONG&SHORTMEXICO.BTGINH      MXN   \n",
       "62  ubs_cayman                         HF_LONG&SHORTMEXICO.BTGINH      USD   \n",
       "63  ubs_cayman                                     HF_PAGS.BTGINH      USD   \n",
       "64  ubs_cayman                                  HF_TRADING.BTGINH      USD   \n",
       "65  ubs_cayman                               LS_EWW_BASKET.BTINTG      MXN   \n",
       "66  ubs_cayman                   LS_GLOBAL CONSUMER.ABSGLS(46328)      USD   \n",
       "67  ubs_cayman                   LS_GLOBAL CONSUMER.BTINTG(46328)      USD   \n",
       "68  ubs_cayman                                LS_L&S_CHILE.BTINTG      USD   \n",
       "69  ubs_cayman                         LS_LONG&SHORTMEXICO.BTINTG      MXN   \n",
       "70  ubs_cayman                         LS_LONG&SHORTMEXICO.BTINTG      USD   \n",
       "71  ubs_cayman                                     LS_PAGS.BTINTG      USD   \n",
       "72  ubs_cayman                                  LS_TRADING.BTINTG      USD   \n",
       "73  ubs_cayman                                 XG_PORTFOLIO.ABGEQ      USD   \n",
       "74  ubs_cayman                                XG_PORTFOLIO.ABGEQM      USD   \n",
       "\n",
       "          accrual   tipo  \n",
       "0    -3356.200000  geral  \n",
       "1      323.205352  geral  \n",
       "2     -586.295352  geral  \n",
       "3      -50.878938  geral  \n",
       "4      516.741270  geral  \n",
       "5     -590.172332  geral  \n",
       "6    -2616.350000  geral  \n",
       "7    -1224.737759  geral  \n",
       "8    -1826.935541  geral  \n",
       "9    -1775.570000  geral  \n",
       "10   -1463.371361  geral  \n",
       "11   -1204.220105  geral  \n",
       "12     -32.342546  geral  \n",
       "13   -3623.354318  geral  \n",
       "14     -13.431221  geral  \n",
       "15   -1703.800000  geral  \n",
       "16   29983.999187  geral  \n",
       "17   -1612.359312  geral  \n",
       "18  -32772.957328  geral  \n",
       "19    -644.786995  geral  \n",
       "20     -37.649730  geral  \n",
       "21 -505188.760000  geral  \n",
       "22  -13817.483931  geral  \n",
       "23   -2028.187115  geral  \n",
       "24  -13304.263100  geral  \n",
       "25    2747.705376  geral  \n",
       "26   -2080.664442  geral  \n",
       "27      26.662682  geral  \n",
       "28  -61264.054065  geral  \n",
       "29  -27028.260910  geral  \n",
       "..            ...    ...  \n",
       "45    -575.105147  geral  \n",
       "46   -1979.995688  geral  \n",
       "47    8189.016541  geral  \n",
       "48    1958.094433  geral  \n",
       "49    2754.771680  geral  \n",
       "50 -580144.390000  geral  \n",
       "51  103018.027345  geral  \n",
       "52       5.070000     WM  \n",
       "53      89.631622     WM  \n",
       "54     -16.400000     WM  \n",
       "55     391.858976     WM  \n",
       "56    7664.304919     WM  \n",
       "57    1409.385458     WM  \n",
       "58 -310233.869903  TREAS  \n",
       "59   53000.967123  TREAS  \n",
       "60   -3580.190098  TREAS  \n",
       "61      -0.870000  TREAS  \n",
       "62      27.880741  TREAS  \n",
       "63    4110.707712  TREAS  \n",
       "64     148.337696  TREAS  \n",
       "65  -76269.292698  TREAS  \n",
       "66   11465.527923  TREAS  \n",
       "67    8705.219455  TREAS  \n",
       "68   -1568.481572  TREAS  \n",
       "69       0.580000  TREAS  \n",
       "70      81.179259  TREAS  \n",
       "71    1147.842935  TREAS  \n",
       "72      34.718722  TREAS  \n",
       "73    1795.409721  TREAS  \n",
       "74     313.278542  TREAS  \n",
       "\n",
       "[75 rows x 5 columns]"
      ]
     },
     "execution_count": 6,
     "metadata": {},
     "output_type": "execute_result"
    }
   ],
   "source": [
    "df"
   ]
  },
  {
   "cell_type": "code",
   "execution_count": 7,
   "metadata": {
    "collapsed": false
   },
   "outputs": [],
   "source": [
    "df = df[(df['book']!='TREAS_OPS.CAYMAN')&(~(df['book'].str.contains('PRIVATE')|df['book'].str.contains('CLIENT')))]"
   ]
  },
  {
   "cell_type": "code",
   "execution_count": null,
   "metadata": {
    "collapsed": true
   },
   "outputs": [],
   "source": []
  },
  {
   "cell_type": "code",
   "execution_count": null,
   "metadata": {
    "collapsed": true
   },
   "outputs": [],
   "source": []
  },
  {
   "cell_type": "code",
   "execution_count": null,
   "metadata": {
    "collapsed": true
   },
   "outputs": [],
   "source": []
  },
  {
   "cell_type": "code",
   "execution_count": null,
   "metadata": {
    "collapsed": true
   },
   "outputs": [],
   "source": []
  },
  {
   "cell_type": "code",
   "execution_count": null,
   "metadata": {
    "collapsed": true
   },
   "outputs": [],
   "source": []
  },
  {
   "cell_type": "markdown",
   "metadata": {},
   "source": [
    "#### Ajuste do output final"
   ]
  },
  {
   "cell_type": "code",
   "execution_count": 8,
   "metadata": {
    "collapsed": false
   },
   "outputs": [],
   "source": [
    "df_g = df.groupby(by=['acc', 'currency']).sum().reset_index()\n",
    "#abertura_consol_grouped = abertura_consol.groupby(by=['acc', 'currency']).sum().reset_index()\n",
    "#abertura_treas_ops_consol_grouped = abertura_treas_ops_consol.groupby(by=['acc', 'currency']).sum().reset_index()"
   ]
  },
  {
   "cell_type": "code",
   "execution_count": 9,
   "metadata": {
    "collapsed": true
   },
   "outputs": [],
   "source": [
    "info_emails = pd.DataFrame({\n",
    "    'acc':['ms_cayman','ms_cayman','ubs_cayman','int_c','int_c'],\n",
    "    'currency':['MXN','USD','MXN','USD','AUD'],\n",
    "    'accrual_final':[-721885.03,-125142.35,-583686.48,-387.40,-3356.20]\n",
    "})"
   ]
  },
  {
   "cell_type": "code",
   "execution_count": 10,
   "metadata": {
    "collapsed": false
   },
   "outputs": [
    {
     "data": {
      "text/html": [
       "<div>\n",
       "<table border=\"1\" class=\"dataframe\">\n",
       "  <thead>\n",
       "    <tr style=\"text-align: right;\">\n",
       "      <th></th>\n",
       "      <th>acc</th>\n",
       "      <th>accrual_final</th>\n",
       "      <th>currency</th>\n",
       "    </tr>\n",
       "  </thead>\n",
       "  <tbody>\n",
       "    <tr>\n",
       "      <th>0</th>\n",
       "      <td>ms_cayman</td>\n",
       "      <td>-721885.03</td>\n",
       "      <td>MXN</td>\n",
       "    </tr>\n",
       "    <tr>\n",
       "      <th>1</th>\n",
       "      <td>ms_cayman</td>\n",
       "      <td>-125142.35</td>\n",
       "      <td>USD</td>\n",
       "    </tr>\n",
       "    <tr>\n",
       "      <th>2</th>\n",
       "      <td>ubs_cayman</td>\n",
       "      <td>-583686.48</td>\n",
       "      <td>MXN</td>\n",
       "    </tr>\n",
       "    <tr>\n",
       "      <th>3</th>\n",
       "      <td>int_c</td>\n",
       "      <td>-387.40</td>\n",
       "      <td>USD</td>\n",
       "    </tr>\n",
       "    <tr>\n",
       "      <th>4</th>\n",
       "      <td>int_c</td>\n",
       "      <td>-3356.20</td>\n",
       "      <td>AUD</td>\n",
       "    </tr>\n",
       "  </tbody>\n",
       "</table>\n",
       "</div>"
      ],
      "text/plain": [
       "          acc  accrual_final currency\n",
       "0   ms_cayman     -721885.03      MXN\n",
       "1   ms_cayman     -125142.35      USD\n",
       "2  ubs_cayman     -583686.48      MXN\n",
       "3       int_c        -387.40      USD\n",
       "4       int_c       -3356.20      AUD"
      ]
     },
     "execution_count": 10,
     "metadata": {},
     "output_type": "execute_result"
    }
   ],
   "source": [
    "info_emails"
   ]
  },
  {
   "cell_type": "code",
   "execution_count": 11,
   "metadata": {
    "collapsed": false
   },
   "outputs": [],
   "source": [
    "ajuste = pd.merge(df_g, info_emails, on=['acc','currency'], how='left')"
   ]
  },
  {
   "cell_type": "code",
   "execution_count": 12,
   "metadata": {
    "collapsed": false
   },
   "outputs": [
    {
     "data": {
      "text/html": [
       "<div>\n",
       "<table border=\"1\" class=\"dataframe\">\n",
       "  <thead>\n",
       "    <tr style=\"text-align: right;\">\n",
       "      <th></th>\n",
       "      <th>acc</th>\n",
       "      <th>currency</th>\n",
       "      <th>accrual</th>\n",
       "      <th>accrual_final</th>\n",
       "    </tr>\n",
       "  </thead>\n",
       "  <tbody>\n",
       "    <tr>\n",
       "      <th>0</th>\n",
       "      <td>int_c</td>\n",
       "      <td>AUD</td>\n",
       "      <td>-3356.200000</td>\n",
       "      <td>-3356.20</td>\n",
       "    </tr>\n",
       "    <tr>\n",
       "      <th>1</th>\n",
       "      <td>int_c</td>\n",
       "      <td>USD</td>\n",
       "      <td>-387.400000</td>\n",
       "      <td>-387.40</td>\n",
       "    </tr>\n",
       "    <tr>\n",
       "      <th>2</th>\n",
       "      <td>ms_cayman</td>\n",
       "      <td>MXN</td>\n",
       "      <td>-721855.030000</td>\n",
       "      <td>-721885.03</td>\n",
       "    </tr>\n",
       "    <tr>\n",
       "      <th>3</th>\n",
       "      <td>ms_cayman</td>\n",
       "      <td>USD</td>\n",
       "      <td>-122356.980000</td>\n",
       "      <td>-125142.35</td>\n",
       "    </tr>\n",
       "    <tr>\n",
       "      <th>4</th>\n",
       "      <td>ubs_cayman</td>\n",
       "      <td>MXN</td>\n",
       "      <td>-386503.452602</td>\n",
       "      <td>-583686.48</td>\n",
       "    </tr>\n",
       "    <tr>\n",
       "      <th>5</th>\n",
       "      <td>ubs_cayman</td>\n",
       "      <td>USD</td>\n",
       "      <td>87981.020814</td>\n",
       "      <td>NaN</td>\n",
       "    </tr>\n",
       "  </tbody>\n",
       "</table>\n",
       "</div>"
      ],
      "text/plain": [
       "          acc currency        accrual  accrual_final\n",
       "0       int_c      AUD   -3356.200000       -3356.20\n",
       "1       int_c      USD    -387.400000        -387.40\n",
       "2   ms_cayman      MXN -721855.030000     -721885.03\n",
       "3   ms_cayman      USD -122356.980000     -125142.35\n",
       "4  ubs_cayman      MXN -386503.452602     -583686.48\n",
       "5  ubs_cayman      USD   87981.020814            NaN"
      ]
     },
     "execution_count": 12,
     "metadata": {},
     "output_type": "execute_result"
    }
   ],
   "source": [
    "ajuste"
   ]
  },
  {
   "cell_type": "code",
   "execution_count": 13,
   "metadata": {
    "collapsed": true
   },
   "outputs": [],
   "source": [
    "ajuste.loc[:,'multiplicador'] = ajuste.loc[:,'accrual_final']/ajuste.loc[:,'accrual']"
   ]
  },
  {
   "cell_type": "code",
   "execution_count": 14,
   "metadata": {
    "collapsed": true
   },
   "outputs": [],
   "source": [
    "ajuste.loc[:,'diff'] = ajuste.loc[:,'accrual_final']-ajuste.loc[:,'accrual']"
   ]
  },
  {
   "cell_type": "code",
   "execution_count": 15,
   "metadata": {
    "collapsed": false
   },
   "outputs": [
    {
     "data": {
      "text/html": [
       "<div>\n",
       "<table border=\"1\" class=\"dataframe\">\n",
       "  <thead>\n",
       "    <tr style=\"text-align: right;\">\n",
       "      <th></th>\n",
       "      <th>acc</th>\n",
       "      <th>currency</th>\n",
       "      <th>accrual</th>\n",
       "      <th>accrual_final</th>\n",
       "      <th>multiplicador</th>\n",
       "      <th>diff</th>\n",
       "    </tr>\n",
       "  </thead>\n",
       "  <tbody>\n",
       "    <tr>\n",
       "      <th>0</th>\n",
       "      <td>int_c</td>\n",
       "      <td>AUD</td>\n",
       "      <td>-3356.200000</td>\n",
       "      <td>-3356.20</td>\n",
       "      <td>1.000000</td>\n",
       "      <td>-9.094947e-13</td>\n",
       "    </tr>\n",
       "    <tr>\n",
       "      <th>1</th>\n",
       "      <td>int_c</td>\n",
       "      <td>USD</td>\n",
       "      <td>-387.400000</td>\n",
       "      <td>-387.40</td>\n",
       "      <td>1.000000</td>\n",
       "      <td>-1.136868e-13</td>\n",
       "    </tr>\n",
       "    <tr>\n",
       "      <th>2</th>\n",
       "      <td>ms_cayman</td>\n",
       "      <td>MXN</td>\n",
       "      <td>-721855.030000</td>\n",
       "      <td>-721885.03</td>\n",
       "      <td>1.000042</td>\n",
       "      <td>-3.000000e+01</td>\n",
       "    </tr>\n",
       "    <tr>\n",
       "      <th>3</th>\n",
       "      <td>ms_cayman</td>\n",
       "      <td>USD</td>\n",
       "      <td>-122356.980000</td>\n",
       "      <td>-125142.35</td>\n",
       "      <td>1.022764</td>\n",
       "      <td>-2.785370e+03</td>\n",
       "    </tr>\n",
       "    <tr>\n",
       "      <th>4</th>\n",
       "      <td>ubs_cayman</td>\n",
       "      <td>MXN</td>\n",
       "      <td>-386503.452602</td>\n",
       "      <td>-583686.48</td>\n",
       "      <td>1.510171</td>\n",
       "      <td>-1.971830e+05</td>\n",
       "    </tr>\n",
       "    <tr>\n",
       "      <th>5</th>\n",
       "      <td>ubs_cayman</td>\n",
       "      <td>USD</td>\n",
       "      <td>87981.020814</td>\n",
       "      <td>NaN</td>\n",
       "      <td>NaN</td>\n",
       "      <td>NaN</td>\n",
       "    </tr>\n",
       "  </tbody>\n",
       "</table>\n",
       "</div>"
      ],
      "text/plain": [
       "          acc currency        accrual  accrual_final  multiplicador  \\\n",
       "0       int_c      AUD   -3356.200000       -3356.20       1.000000   \n",
       "1       int_c      USD    -387.400000        -387.40       1.000000   \n",
       "2   ms_cayman      MXN -721855.030000     -721885.03       1.000042   \n",
       "3   ms_cayman      USD -122356.980000     -125142.35       1.022764   \n",
       "4  ubs_cayman      MXN -386503.452602     -583686.48       1.510171   \n",
       "5  ubs_cayman      USD   87981.020814            NaN            NaN   \n",
       "\n",
       "           diff  \n",
       "0 -9.094947e-13  \n",
       "1 -1.136868e-13  \n",
       "2 -3.000000e+01  \n",
       "3 -2.785370e+03  \n",
       "4 -1.971830e+05  \n",
       "5           NaN  "
      ]
     },
     "execution_count": 15,
     "metadata": {},
     "output_type": "execute_result"
    }
   ],
   "source": [
    "ajuste"
   ]
  },
  {
   "cell_type": "code",
   "execution_count": 16,
   "metadata": {
    "collapsed": false
   },
   "outputs": [],
   "source": [
    "df = pd.merge(df, ajuste.drop(['accrual_final','accrual'], axis=1), on=['acc','currency'], how='left')"
   ]
  },
  {
   "cell_type": "code",
   "execution_count": 17,
   "metadata": {
    "collapsed": false
   },
   "outputs": [],
   "source": [
    "df.loc[:,'accrual_final'] = df.loc[:,'accrual']*df.loc[:,'multiplicador']"
   ]
  },
  {
   "cell_type": "code",
   "execution_count": 18,
   "metadata": {
    "collapsed": false
   },
   "outputs": [],
   "source": [
    "df = df.drop(['accrual','multiplicador'], axis=1)"
   ]
  },
  {
   "cell_type": "code",
   "execution_count": null,
   "metadata": {
    "collapsed": true
   },
   "outputs": [],
   "source": []
  },
  {
   "cell_type": "code",
   "execution_count": 19,
   "metadata": {
    "collapsed": false
   },
   "outputs": [],
   "source": [
    "df_posi = df[df.loc[:,'accrual_final']>0].copy()\n",
    "df_neg = df[df.loc[:,'accrual_final']<0].copy()"
   ]
  },
  {
   "cell_type": "code",
   "execution_count": null,
   "metadata": {
    "collapsed": true
   },
   "outputs": [],
   "source": []
  },
  {
   "cell_type": "code",
   "execution_count": 20,
   "metadata": {
    "collapsed": true
   },
   "outputs": [],
   "source": [
    "df_posi = df_posi.groupby(by=['acc','currency']).sum().reset_index().rename(columns={\n",
    "    'accrual_final':'accrual_positivo'\n",
    "})"
   ]
  },
  {
   "cell_type": "code",
   "execution_count": 21,
   "metadata": {
    "collapsed": false
   },
   "outputs": [],
   "source": [
    "df_neg_g = df_neg.groupby(by=['acc','currency']).sum().reset_index().rename(columns={'accrual_final':'accrual_agrupado'})"
   ]
  },
  {
   "cell_type": "code",
   "execution_count": 22,
   "metadata": {
    "collapsed": false
   },
   "outputs": [],
   "source": [
    "df_neg = pd.merge(df_neg, df_neg_g, on=['acc','currency'], how='left')"
   ]
  },
  {
   "cell_type": "code",
   "execution_count": 23,
   "metadata": {
    "collapsed": false
   },
   "outputs": [],
   "source": [
    "df_neg.loc[:,'pct'] = df_neg.loc[:,'accrual_final']/df_neg.loc[:,'accrual_agrupado']"
   ]
  },
  {
   "cell_type": "code",
   "execution_count": 24,
   "metadata": {
    "collapsed": false
   },
   "outputs": [],
   "source": [
    "df = pd.merge(df_neg, df_posi, on=['acc','currency'], how='left').fillna(0)"
   ]
  },
  {
   "cell_type": "code",
   "execution_count": 25,
   "metadata": {
    "collapsed": false
   },
   "outputs": [],
   "source": [
    "df.loc[:,'accrual'] = df.loc[:,'accrual_positivo']*df.loc[:,'pct']+df.loc[:,'accrual_final']"
   ]
  },
  {
   "cell_type": "code",
   "execution_count": 26,
   "metadata": {
    "collapsed": false
   },
   "outputs": [],
   "source": [
    "df = df.drop(['accrual_final','accrual_agrupado','pct','accrual_positivo'], axis=1)"
   ]
  },
  {
   "cell_type": "code",
   "execution_count": 27,
   "metadata": {
    "collapsed": false
   },
   "outputs": [],
   "source": [
    "check_final = pd.merge(df.groupby(by=['acc','currency']).sum().reset_index(), info_emails, on=['acc','currency'], how='left')"
   ]
  },
  {
   "cell_type": "code",
   "execution_count": null,
   "metadata": {
    "collapsed": true
   },
   "outputs": [],
   "source": []
  },
  {
   "cell_type": "code",
   "execution_count": null,
   "metadata": {
    "collapsed": true
   },
   "outputs": [],
   "source": []
  },
  {
   "cell_type": "code",
   "execution_count": 28,
   "metadata": {
    "collapsed": true
   },
   "outputs": [],
   "source": [
    "writer = pd.ExcelWriter(save_path+'\\\\Custos_de_Aluguel_Final.xlsx')"
   ]
  },
  {
   "cell_type": "code",
   "execution_count": 29,
   "metadata": {
    "collapsed": false
   },
   "outputs": [],
   "source": [
    "df.to_excel(writer, sheet_name='Custos Aluguel Offshore', index=False)\n",
    "check_final.to_excel(writer, sheet_name='Tabela', index=False)"
   ]
  },
  {
   "cell_type": "code",
   "execution_count": 30,
   "metadata": {
    "collapsed": true
   },
   "outputs": [],
   "source": [
    "writer.save()"
   ]
  },
  {
   "cell_type": "code",
   "execution_count": null,
   "metadata": {
    "collapsed": true
   },
   "outputs": [],
   "source": []
  },
  {
   "cell_type": "code",
   "execution_count": 31,
   "metadata": {
    "collapsed": true
   },
   "outputs": [],
   "source": [
    "lista_files = [save_path+'\\\\Custos_de_Aluguel_Final.xlsx']"
   ]
  },
  {
   "cell_type": "code",
   "execution_count": 35,
   "metadata": {
    "collapsed": false
   },
   "outputs": [
    {
     "data": {
      "text/plain": [
       "'\\\\\\\\DRIOC0231PFS\\\\Apoio_SB\\\\Geral\\\\BD\\\\Aluguel_Offshore\\\\Arquivos diários\\\\out2018\\\\consolidado'"
      ]
     },
     "execution_count": 35,
     "metadata": {},
     "output_type": "execute_result"
    }
   ],
   "source": [
    "save_path"
   ]
  },
  {
   "cell_type": "code",
   "execution_count": 32,
   "metadata": {
    "collapsed": true
   },
   "outputs": [],
   "source": [
    "body = '''Legenda: \n",
    "    Aba Custos Aluguel Offshore contem os custos consolidados\n",
    "        Tipo Geral: books Asset\n",
    "        Tipo TREAS: book TREAS_OPS\n",
    "        Tipo WM: Custos dos clients WM\n",
    "    Aba Tabela contém os custos somados por Account e por moeda\n",
    "        accrual: Dados distribuídos\n",
    "        accrual_final: custos debitados da conta em cayman'''"
   ]
  },
  {
   "cell_type": "code",
   "execution_count": 33,
   "metadata": {
    "collapsed": true
   },
   "outputs": [],
   "source": [
    "send_to = 'OL-equity-backoffice@btgpactual.com;OL-EQUITYBD@btgpactual.com;DL-Finance-EQUITIES@btgpactual.onmicrosoft.com;\\\n",
    "DL-Finance-BUC-Colombia@btgpactual.com;DL-Finance-Trading@btgpactual.com;OL-Finance-Trading@btgpactual.com;\\\n",
    "Alexandre.Tex@btgpactual.com;Joao.Seidel@btgpactual.com;Valesca.Cidronio@btgpactual.com;Rafael.Barbirato@btgpactual.com;\\\n",
    "DL-DataOffice@btgpactual.com'"
   ]
  },
  {
   "cell_type": "code",
   "execution_count": 34,
   "metadata": {
    "collapsed": true
   },
   "outputs": [],
   "source": [
    "mes = 'October'"
   ]
  },
  {
   "cell_type": "code",
   "execution_count": 36,
   "metadata": {
    "collapsed": true
   },
   "outputs": [],
   "source": [
    "email_sender('OL-EQUITYBD@btgpactual.com',send_to,'Stock Loan | Monthly Costs  - %s' %mes, body, lista_files)"
   ]
  },
  {
   "cell_type": "code",
   "execution_count": null,
   "metadata": {
    "collapsed": true
   },
   "outputs": [],
   "source": []
  }
 ],
 "metadata": {
  "kernelspec": {
   "display_name": "Python 3",
   "language": "python",
   "name": "python3"
  },
  "language_info": {
   "codemirror_mode": {
    "name": "ipython",
    "version": 3
   },
   "file_extension": ".py",
   "mimetype": "text/x-python",
   "name": "python",
   "nbconvert_exporter": "python",
   "pygments_lexer": "ipython3",
   "version": "3.6.0"
  }
 },
 "nbformat": 4,
 "nbformat_minor": 2
}
