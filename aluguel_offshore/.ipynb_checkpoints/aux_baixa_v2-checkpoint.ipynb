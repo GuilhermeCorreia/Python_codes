{
 "cells": [
  {
   "cell_type": "code",
   "execution_count": 1,
   "metadata": {
    "collapsed": true
   },
   "outputs": [],
   "source": [
    "%load_ext autoreload\n",
    "%autoreload 2\n",
    "\n",
    "import os\n",
    "import sys\n",
    "sys.path.append('%s/../' % os.getcwd())\n",
    "\n",
    "import datetime\n",
    "import pandas as pd\n",
    "import numpy as np\n",
    "import getpass"
   ]
  },
  {
   "cell_type": "code",
   "execution_count": 2,
   "metadata": {
    "collapsed": true
   },
   "outputs": [],
   "source": [
    "import smtplib\n",
    "\n",
    "from email.mime.text import MIMEText\n",
    "from email.mime.multipart import MIMEMultipart\n",
    "from email.mime.base import MIMEBase\n",
    "from email import encoders\n",
    "\n",
    "import os\n",
    "import getpass\n",
    "\n",
    "\n",
    "import win32com.client"
   ]
  },
  {
   "cell_type": "code",
   "execution_count": null,
   "metadata": {
    "collapsed": true
   },
   "outputs": [],
   "source": [
    "path = r'C:\\Users\\correigu\\OneDrive - Banco BTG Pactual S.A\\Desktop\\aqruivos_offshore\\Ajustes'"
   ]
  },
  {
   "cell_type": "code",
   "execution_count": null,
   "metadata": {
    "collapsed": true
   },
   "outputs": [],
   "source": []
  },
  {
   "cell_type": "code",
   "execution_count": null,
   "metadata": {
    "collapsed": true
   },
   "outputs": [],
   "source": [
    "outlook = win32com.client.Dispatch('outlook.application')\n",
    "namespace = outlook.GetNamespace(\"MAPI\")\n",
    "dict_index = {}\n",
    "i=1\n",
    "j=0\n",
    "for folder in namespace.Folders:\n",
    "    dict_index.update({str(folder).lower():i})\n",
    "    i+=1"
   ]
  },
  {
   "cell_type": "code",
   "execution_count": null,
   "metadata": {
    "collapsed": true
   },
   "outputs": [],
   "source": [
    "root_folder = namespace.Folders.Item(dict_index[email_sender])\n",
    "print(root_folder)"
   ]
  },
  {
   "cell_type": "code",
   "execution_count": null,
   "metadata": {
    "collapsed": true
   },
   "outputs": [],
   "source": []
  },
  {
   "cell_type": "code",
   "execution_count": null,
   "metadata": {
    "collapsed": true
   },
   "outputs": [],
   "source": []
  },
  {
   "cell_type": "code",
   "execution_count": null,
   "metadata": {
    "collapsed": true
   },
   "outputs": [],
   "source": []
  },
  {
   "cell_type": "code",
   "execution_count": null,
   "metadata": {
    "collapsed": true
   },
   "outputs": [],
   "source": []
  },
  {
   "cell_type": "code",
   "execution_count": null,
   "metadata": {
    "collapsed": true
   },
   "outputs": [],
   "source": [
    "\n",
    "\n",
    "\n",
    "\n",
    "\n",
    "cliente = cliente.lower()\n",
    "data = data[-4:]+data[3:5]+data[:2]\n",
    "\n",
    "if os.path.isdir(path+'\\\\'+cliente)==True:\n",
    "    if os.path.isdir(path+'\\\\'+cliente+'\\\\'+data)==False:\n",
    "        os.mkdir(path+'\\\\'+cliente+'\\\\'+data)\n",
    "else:\n",
    "    os.mkdir(path+'\\\\'+cliente)\n",
    "    os.mkdir(path+'\\\\'+cliente+'\\\\'+data)\n",
    "n_path = path+'\\\\'+cliente+'\\\\'+data\n",
    "\n",
    "for folder in folders_search:\n",
    "    print(main_folder)\n",
    "    print(folder)\n",
    "    subfolder = root_folder.Folders[main_folder].Folders[folder]\n",
    "    message = subfolder.Items\n",
    "\n",
    "    for msg in message:\n",
    "        if j>total:\n",
    "            break\n",
    "        else:\n",
    "            body_content = msg.body\n",
    "            msg_sub = msg.Subject\n",
    "            if (search_string in body_content)&(data in msg_sub):\n",
    "                count_attachments = msg.Attachments.Count\n",
    "\n",
    "                string = msg_sub.split(\" \")\n",
    "                for i in range(0, len(string)):\n",
    "                    if string[i] == 'of':\n",
    "                        ticker = string[i+1]\n",
    "                        if '*' in ticker:\n",
    "                            ticker = ticker.replace(\"*\", '')\n",
    "                        elif \"&\" in ticker:\n",
    "                            ticker = ticker.replace(\"&\", '')\n",
    "\n",
    "                if count_attachments > 0:\n",
    "                    for item in range(count_attachments):\n",
    "                        file_name = msg.Attachments.Item(item + 1).Filename\n",
    "                        if '.pdf' in file_name:\n",
    "                            attach = msg.Attachments.Item(item+1)\n",
    "                            attach.SaveAsFile(n_path+'\\\\'+str(j)+' - '+ticker+'.pdf')\n",
    "                            j+=1"
   ]
  },
  {
   "cell_type": "code",
   "execution_count": null,
   "metadata": {
    "collapsed": true
   },
   "outputs": [],
   "source": []
  },
  {
   "cell_type": "code",
   "execution_count": null,
   "metadata": {
    "collapsed": true
   },
   "outputs": [],
   "source": []
  },
  {
   "cell_type": "code",
   "execution_count": null,
   "metadata": {
    "collapsed": true
   },
   "outputs": [],
   "source": []
  },
  {
   "cell_type": "code",
   "execution_count": null,
   "metadata": {
    "collapsed": true
   },
   "outputs": [],
   "source": []
  },
  {
   "cell_type": "code",
   "execution_count": null,
   "metadata": {
    "collapsed": true
   },
   "outputs": [],
   "source": []
  },
  {
   "cell_type": "code",
   "execution_count": null,
   "metadata": {
    "collapsed": true
   },
   "outputs": [],
   "source": []
  },
  {
   "cell_type": "code",
   "execution_count": null,
   "metadata": {
    "collapsed": true
   },
   "outputs": [],
   "source": []
  },
  {
   "cell_type": "code",
   "execution_count": null,
   "metadata": {
    "collapsed": true
   },
   "outputs": [],
   "source": []
  },
  {
   "cell_type": "code",
   "execution_count": null,
   "metadata": {
    "collapsed": true
   },
   "outputs": [],
   "source": []
  }
 ],
 "metadata": {
  "kernelspec": {
   "display_name": "Python 3",
   "language": "python",
   "name": "python3"
  },
  "language_info": {
   "codemirror_mode": {
    "name": "ipython",
    "version": 3
   },
   "file_extension": ".py",
   "mimetype": "text/x-python",
   "name": "python",
   "nbconvert_exporter": "python",
   "pygments_lexer": "ipython3",
   "version": "3.6.0"
  }
 },
 "nbformat": 4,
 "nbformat_minor": 2
}
