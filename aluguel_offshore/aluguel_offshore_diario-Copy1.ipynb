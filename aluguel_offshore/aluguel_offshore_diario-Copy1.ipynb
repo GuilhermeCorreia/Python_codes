{
 "cells": [
  {
   "cell_type": "code",
   "execution_count": 1,
   "metadata": {
    "collapsed": false,
    "scrolled": true
   },
   "outputs": [],
   "source": [
    "%load_ext autoreload\n",
    "%autoreload 2\n",
    "\n",
    "import os\n",
    "import sys\n",
    "sys.path.append('%s/../' % os.getcwd())\n",
    "\n",
    "import datetime\n",
    "import pandas as pd\n",
    "import numpy as np\n",
    "import getpass"
   ]
  },
  {
   "cell_type": "code",
   "execution_count": 2,
   "metadata": {
    "collapsed": false
   },
   "outputs": [],
   "source": [
    "#importa as fórmulas do arquivo aluguel_offshore.py - note que este arquivo deverá estar na mesma pasta deste notebook\n",
    "from aluguel_offshore import *\n",
    "from confirmacoes.aux_emails import email_sender"
   ]
  },
  {
   "cell_type": "code",
   "execution_count": null,
   "metadata": {
    "collapsed": true
   },
   "outputs": [],
   "source": []
  },
  {
   "cell_type": "code",
   "execution_count": 3,
   "metadata": {
    "collapsed": true,
    "scrolled": true
   },
   "outputs": [],
   "source": [
    "#pasta em que estão os arquivos no seu computador.\n",
    "pasta = r'C:\\Users\\correigu\\OneDrive - Banco BTG Pactual S.A\\Desktop\\aqruivos_offshore'\n",
    "#pasta = r'C:\\Users\\correigu\\OneDrive - Banco BTG Pactual S.A\\Desktop\\aqruivos_offshore\\janfev'"
   ]
  },
  {
   "cell_type": "code",
   "execution_count": 4,
   "metadata": {
    "collapsed": false
   },
   "outputs": [],
   "source": [
    "data_inicio = pd.to_datetime('2018-01-01')\n",
    "data_final = pd.to_datetime('2018-08-30')"
   ]
  },
  {
   "cell_type": "code",
   "execution_count": null,
   "metadata": {
    "collapsed": true
   },
   "outputs": [],
   "source": []
  },
  {
   "cell_type": "code",
   "execution_count": 5,
   "metadata": {
    "collapsed": false
   },
   "outputs": [],
   "source": [
    "def pega_data_file(file):\n",
    "    lista_erros = []\n",
    "    try:\n",
    "        try:\n",
    "            data = pd.to_datetime(file[-12:-4], format='%Y%m%d')\n",
    "        except ValueError:\n",
    "            try:\n",
    "                data = pd.to_datetime(file[-14:-4], format='%Y-%m-%d')\n",
    "            except ValueError:\n",
    "                data = pd.to_datetime(file[-13:-5], format='%Y%m%d')    \n",
    "    except ValueError:\n",
    "        print ('O arquivo %s não possui data registrada' %(file))\n",
    "        data = 0\n",
    "    return data"
   ]
  },
  {
   "cell_type": "code",
   "execution_count": 6,
   "metadata": {
    "collapsed": false,
    "scrolled": true
   },
   "outputs": [
    {
     "name": "stdout",
     "output_type": "stream",
     "text": [
      "O arquivo Ajustes não possui data registrada\n",
      "O arquivo Ajustes não pôde ser comparado com os demais\n",
      "O arquivo old_v2 não possui data registrada\n",
      "O arquivo old_v2 não pôde ser comparado com os demais\n",
      "O arquivo tickers_diffs.xlsx não possui data registrada\n",
      "O arquivo tickers_diffs.xlsx não pôde ser comparado com os demais\n"
     ]
    }
   ],
   "source": [
    "lista_files = []\n",
    "for file in os.listdir(pasta):\n",
    "    data = pega_data_file(file)\n",
    "    \n",
    "    try:\n",
    "        if (data>=data_inicio)&(data<=data_final):\n",
    "            lista_files.append(pasta+'\\\\'+file)\n",
    "    except TypeError:\n",
    "        print ('O arquivo %s não pôde ser comparado com os demais' %(file))"
   ]
  },
  {
   "cell_type": "code",
   "execution_count": 7,
   "metadata": {
    "collapsed": false,
    "scrolled": false
   },
   "outputs": [
    {
     "name": "stdout",
     "output_type": "stream",
     "text": [
      "188 aqrivos do ubs importados\n",
      "342 aqrivos da morgan importados\n",
      "170 aqrivos do Calypso PROP+ASSET importados\n",
      "168 aqrivos do Calypso BD+WM importados\n",
      "180 aqrivos do Calypso INTC importados\n",
      "Wall time: 5min 46s\n"
     ]
    }
   ],
   "source": [
    "%%time\n",
    "ubs_count=0\n",
    "morgan_count=0\n",
    "pras_count=0\n",
    "bdwm_count=0\n",
    "intc_count=0     \n",
    "for file in lista_files:\n",
    "    if 'Ajuste' in file:\n",
    "        data = file[-14:-4]\n",
    "        try:\n",
    "            ubs\n",
    "        except:\n",
    "            ubs = pd.read_csv(file)\n",
    "            ubs['date']=data\n",
    "        else:\n",
    "            ubs_1 = pd.read_csv(file)\n",
    "            ubs_1['date']=data\n",
    "            ubs = pd.concat([ubs,ubs_1], axis=0)\n",
    "        ubs_count+=1\n",
    "\n",
    "    elif 'PROP+ASSET' in file:\n",
    "        try:\n",
    "            pras\n",
    "        except:\n",
    "            pras = pd.read_excel(file)\n",
    "            pras['date'] = pras.columns[7]\n",
    "            pras = pras.rename(columns={pras.columns[7]:'shares'})\n",
    "        else:\n",
    "            pras_1 = pd.read_excel(file)\n",
    "            pras_1['date'] = pras_1.columns[7]\n",
    "            pras_1 = pras_1.rename(columns={pras_1.columns[7]:'shares'})\n",
    "            pras = pd.concat([pras,pras_1], axis=0)\n",
    "\n",
    "        pras_count+=1\n",
    "\n",
    "    elif 'Aluguel INT C' in file:\n",
    "        try:\n",
    "            intc\n",
    "        except:\n",
    "            intc = pd.read_excel(file)\n",
    "            intc['date'] = intc.columns[7]\n",
    "            intc = intc.rename(columns={intc.columns[7]:'shares'})\n",
    "        else:\n",
    "            intc_1 = pd.read_excel(file)\n",
    "            intc_1['date'] = intc_1.columns[7]\n",
    "            intc_1 = intc_1.rename(columns={intc_1.columns[7]:'shares'})\n",
    "            intc = pd.concat([intc,intc_1], axis=0)\n",
    "\n",
    "        intc_count+=1\n",
    "\n",
    "    elif 'Clients BD+WM' in file:\n",
    "        try:\n",
    "            bdwm\n",
    "        except:\n",
    "            bdwm = pd.read_excel(file)\n",
    "            bdwm['date'] = bdwm.columns[31]\n",
    "            bdwm = bdwm.rename(columns={bdwm.columns[31]:'shares'})\n",
    "        else:\n",
    "            bdwm_1 = pd.read_excel(file)\n",
    "            bdwm_1['date'] = bdwm_1.columns[31]\n",
    "            bdwm_1 = bdwm_1.rename(columns={bdwm_1.columns[31]:'shares'})\n",
    "            bdwm = pd.concat([bdwm,bdwm_1], axis=0)\n",
    "\n",
    "        bdwm_count+=1\n",
    "\n",
    "    elif ('038CDBD08_IN150DX' in file)|('038CDB895_IN150DX' in file):\n",
    "        try:\n",
    "            morgan\n",
    "        except:\n",
    "            morgan = pd.read_csv(file, skipfooter=1, engine='python')\n",
    "        else:\n",
    "            morgan_1 = pd.read_csv(file, skipfooter=1, engine='python')\n",
    "            morgan = pd.concat([morgan, morgan_1], axis = 0)\n",
    "\n",
    "        morgan_count+=1\n",
    "\n",
    "\n",
    "ticker_diffs = pd.read_excel(pasta+'\\\\'+ 'tickers_diffs.xlsx')\n",
    "\n",
    "print(str(ubs_count) + ' aqrivos do ubs importados')\n",
    "print(str(morgan_count) + ' aqrivos da morgan importados')\n",
    "print(str(pras_count) + ' aqrivos do Calypso PROP+ASSET importados')\n",
    "print(str(bdwm_count) + ' aqrivos do Calypso BD+WM importados')\n",
    "print(str(intc_count) + ' aqrivos do Calypso INTC importados')"
   ]
  },
  {
   "cell_type": "code",
   "execution_count": null,
   "metadata": {
    "collapsed": true
   },
   "outputs": [],
   "source": []
  },
  {
   "cell_type": "markdown",
   "metadata": {},
   "source": [
    "# Ajustes base"
   ]
  },
  {
   "cell_type": "code",
   "execution_count": 8,
   "metadata": {
    "collapsed": true
   },
   "outputs": [],
   "source": [
    "ubs['date'] = pd.to_datetime(ubs['date'], format='%Y-%m-%d')\n",
    "ubs['date'] = np.where(ubs['date'].dt.weekday==6, ubs['date']-datetime.timedelta(2), ubs['date'])\n",
    "ubs['pb'] = 'ubs'\n",
    "ubs['month_number'] = ubs['date'].dt.month\n",
    "ubs['year'] = ubs['date'].dt.year\n",
    "ubs['month'] = ubs['month_number'].map(months_dict)\n",
    "ubs['cusip'] = np.nan"
   ]
  },
  {
   "cell_type": "code",
   "execution_count": 13,
   "metadata": {
    "collapsed": true
   },
   "outputs": [],
   "source": [
    "ubs = ubs[['Reference Account Id' ,'pb', 'date', 'Ticker', 'ISIN', 'cusip', 'SEDOL', 'Quantity',\n",
    "           'Daily Accrual', 'Billing CCY', 'month', 'year']].drop_duplicates()\n",
    "ubs.columns = ['conta', 'pb', 'data_ref', 'ticker', 'isin', 'cusip', 'sedol', 'qt', 'accrual', 'currency', 'month', 'year']\n",
    "ubs = ubs.drop_duplicates(subset=['conta', 'data_ref', 'ticker', 'qt', 'currency'])\n",
    "ubs = ubs[ubs['conta'].isnull()==False]"
   ]
  },
  {
   "cell_type": "code",
   "execution_count": 10,
   "metadata": {
    "collapsed": true
   },
   "outputs": [],
   "source": [
    "morgan['date'] = pd.to_datetime(morgan['Value Date'], errors='coerce', format = '%m/%d/%Y')\n",
    "morgan['pb'] = 'ms'\n",
    "morgan['month_number'] = morgan['date'].dt.month\n",
    "morgan['year'] = morgan['date'].dt.year\n",
    "morgan['month'] = morgan['month_number'].map(months_dict)"
   ]
  },
  {
   "cell_type": "code",
   "execution_count": 14,
   "metadata": {
    "collapsed": true
   },
   "outputs": [],
   "source": [
    "morgan = morgan[['Account', 'pb', 'date', 'Symbol', 'ISIN', 'Cusip', 'Sedol', 'Shares', 'Net Borrow Cost', 'Currency', 'month', 'year']] \n",
    "morgan.columns = ['conta', 'pb', 'data_ref', 'ticker', 'isin', 'cusip', 'sedol', 'qt', 'accrual', 'currency', 'month', 'year']  \n",
    "nparray = np.where(morgan['data_ref'].dt.weekday==6, morgan['data_ref']-datetime.timedelta(2),morgan['data_ref'])\n",
    "morgan = morgan.drop('data_ref', axis=1)\n",
    "morgan['data_ref'] = nparray\n",
    "morgan = morgan.drop_duplicates().reset_index(drop=True) \n",
    "morgan = morgan[morgan['conta'].isnull()==False]"
   ]
  },
  {
   "cell_type": "code",
   "execution_count": 15,
   "metadata": {
    "collapsed": false
   },
   "outputs": [],
   "source": [
    "pb = pd.concat([morgan, ubs], axis=0).reset_index(drop=True)\n",
    "pb.qt = (pb.qt.replace( '[)]','', regex=True )\n",
    "           .replace( '[(]','-',   regex=True ).astype(float))    \n",
    "pb.accrual = (pb.accrual.replace( '[)]','', regex=True )\n",
    "           .replace( '[(]','-',   regex=True ).astype(float))\n",
    "pb['qt'] = -abs(pb['qt'])\n",
    "pb = pb[pb.data_ref.dt.weekday<5]\n",
    "#Como estamos pegando somente os dias úteis, multiplica o valor de sexta por 3 para levar em consideração dias corridos\n",
    "nparray = np.where(pb.data_ref.dt.weekday==4, pb['accrual']*3, pb['accrual'])\n",
    "pb['accrual'] = nparray\n",
    "contas =  pb['conta'].astype(str).copy()\n",
    "pb['conta'] = contas\n",
    "#Aplica o dicionário de contas que também está no aluguel_offshore.py\n",
    "pb['acc'] = pb['conta'].apply(lambda x: dict_contas[x])\n",
    "pb = pb[['conta', 'pb', 'data_ref', 'ticker', 'isin', 'cusip','sedol','qt', 'accrual','currency','month','year']]"
   ]
  },
  {
   "cell_type": "code",
   "execution_count": 16,
   "metadata": {
    "collapsed": false
   },
   "outputs": [
    {
     "name": "stdout",
     "output_type": "stream",
     "text": [
      "Wall time: 1min 28s\n"
     ]
    }
   ],
   "source": [
    "%%time\n",
    "pras['tipo'] = 'ASSET'\n",
    "bdwm['tipo'] = 'WM'\n",
    "intc['tipo'] = 'INT C'\n",
    "calypso = pd.concat([pras, bdwm, intc], axis=0).reset_index(drop=True)    \n",
    "calypso['date'] = pd.to_datetime(calypso['date'])\n",
    "calypso['month_number'] = calypso['date'].dt.month\n",
    "calypso['year'] = calypso['date'].dt.year\n",
    "calypso['month'] = calypso['month_number'].map(months_dict)\n",
    "calypso = calypso[['Account Name','tipo', 'Agent','date', 'shares', 'Book', 'PRODUCT_CODE.TICKER', 'PRODUCT_CODE.ISIN', \n",
    "                   'PRODUCT_CODE.CUSIP', 'Underlying.Product Code.SEDOL', 'Product Currency', 'month', 'year']].reset_index(drop=True)\n",
    "calypso.columns = ['conta_pb','conta', 'agent', 'data_ref', 'quantidade', 'book', 'ticker', 'isin', 'cusip', 'sedol',\n",
    "                   'currency', 'month', 'year']"
   ]
  },
  {
   "cell_type": "code",
   "execution_count": 17,
   "metadata": {
    "collapsed": true
   },
   "outputs": [],
   "source": [
    "calypso['quantidade'] = calypso['quantidade'].replace(',','', regex=True)\n",
    "calypso['quantidade'] = calypso['quantidade'].astype(float)"
   ]
  },
  {
   "cell_type": "code",
   "execution_count": 18,
   "metadata": {
    "collapsed": true
   },
   "outputs": [],
   "source": [
    "calypso.conta_pb = calypso.conta_pb.astype(str)\n",
    "calypso = calypso[calypso.data_ref.dt.weekday<5]\n",
    "calypso_1 = calypso.copy()\n",
    "calypso_1['acc'] = calypso_1['conta_pb'].map(dict_contas)\n",
    "#Pega somente os arquivos do calypso que se referem às contas da asset\n",
    "calypso = calypso[calypso.conta_pb.isin(dict_contas.keys())].copy()"
   ]
  },
  {
   "cell_type": "code",
   "execution_count": null,
   "metadata": {
    "collapsed": true
   },
   "outputs": [],
   "source": []
  },
  {
   "cell_type": "code",
   "execution_count": 19,
   "metadata": {
    "collapsed": true
   },
   "outputs": [],
   "source": [
    "# Faz o ajuste das contas do calypso, somando pelas variáveis abaixo e pegando somente as linhas negativas\n",
    "calypso_ajuste = calypso.groupby(by=['conta_pb','data_ref', 'ticker','currency']).sum().reset_index()\n",
    "calypso_ajuste = calypso_ajuste[calypso_ajuste['quantidade']<0].copy()\n",
    "calypso_ajuste['acc'] = calypso_ajuste['conta_pb'].map(dict_contas)\n",
    "calypso_ajuste = calypso_ajuste.groupby(by=['acc','data_ref', 'ticker','currency']).sum().reset_index()\n",
    "calypso['acc'] = calypso['conta_pb'].map(dict_contas)"
   ]
  },
  {
   "cell_type": "code",
   "execution_count": 20,
   "metadata": {
    "collapsed": true
   },
   "outputs": [],
   "source": [
    "# Aqui ainda faz parte do calypso_ajuste. Estou transferindo as informações entre as bases\n",
    "calypso = pd.merge(calypso, calypso_ajuste, on=['acc', 'data_ref', 'ticker', 'currency'], how='left')\n",
    "#Aqui eu estou tirando as linhas que não foram encontradas na volta. lembrar que o Calypso_teste derrubou um monte de linhas\n",
    "#todas aquelas que não tinham as informações que eram de aluguel doado.\n",
    "#Assim, teoricamente, todas as linhas desse novo calypso dizem respeito a posições tomadoras de aluguel.\n",
    "calypso = calypso[calypso['quantidade_y'].isnull()==False].copy().reset_index(drop=True)\n",
    "calypso = calypso.drop(['quantidade_y', 'year_y'], axis=1).rename(columns={\n",
    "    'quantidade_x':'quantidade',\n",
    "    'year_x':'year',\n",
    "})"
   ]
  },
  {
   "cell_type": "code",
   "execution_count": null,
   "metadata": {
    "collapsed": true
   },
   "outputs": [],
   "source": []
  },
  {
   "cell_type": "code",
   "execution_count": null,
   "metadata": {
    "collapsed": true
   },
   "outputs": [],
   "source": []
  },
  {
   "cell_type": "code",
   "execution_count": 21,
   "metadata": {
    "collapsed": false
   },
   "outputs": [],
   "source": [
    "def info_base_pb_to_get_ticker(pb, x):\n",
    "    ticker = str(pb[pb.index==x]['ticker'][x]).replace('/', '')\n",
    "    isin = str(pb[pb.index==x]['isin'][x])\n",
    "    cusip = str(pb[pb.index==x]['cusip'][x])\n",
    "    sedol = str(pb[pb.index==x]['sedol'][x])\n",
    "\n",
    "    return ticker, isin, cusip, sedol"
   ]
  },
  {
   "cell_type": "code",
   "execution_count": 22,
   "metadata": {
    "collapsed": false
   },
   "outputs": [],
   "source": [
    "def get_ticker_bases(calypso, pb, x):\n",
    "    try:\n",
    "        ticker_pb, isin, cusip, sedol = info_base_pb_to_get_ticker(pb, x)\n",
    "        try:\n",
    "            ticker = calypso[calypso['isin']==isin].drop_duplicates(subset=['ticker']).reset_index(drop=True)['ticker'][0]\n",
    "            construct = 'isin'\n",
    "        except IndexError:\n",
    "            try:\n",
    "                ticker = calypso[calypso['cusip']==cusip].drop_duplicates(subset=['ticker']).reset_index(drop=True)['ticker'][0]\n",
    "                construct = 'cusip'\n",
    "            except IndexError:\n",
    "                ticker = calypso[calypso['sedol']==sedol].drop_duplicates(subset=['ticker']).reset_index(drop=True)['ticker'][0]\n",
    "                construct = 'sedol'\n",
    "        return [ticker, construct]\n",
    "    except IndexError:\n",
    "        ticker_pb, isin, cusip, sedol = info_base_pb_to_get_ticker(pb, x)\n",
    "        print('O ticker %s não foi encontrado pelos códigos.\\n Tentaremos agora pelo nome' %(ticker_pb))\n",
    "        try:\n",
    "            ticker = ticker_pb.split('.')[0]\n",
    "            ticker = calypso[calypso.ticker.str.contains(ticker_pb)].drop_duplicates(subset=['ticker'])\\\n",
    "                                                            .reset_index(drop=True)['ticker'][0]\n",
    "            construct = 'nome'\n",
    "            print('O ticker %s não foi encontrado pelo nome.\\n Ele será então contruído pelo Ticker + Isin' %(ticker_pb))\n",
    "        except IndexError:\n",
    "            ticker = ticker.split('.')[0]\n",
    "            ticker = str(ticker_pb)+' '+str(isin)[:2]\n",
    "            construct = 'construido_ticker'\n",
    "            print ('''Nós aconselhamos que você confira o ticker %s, porque ele foi ajustado pelo Isin.\n",
    "Caso ele esteja ERRADO você deverá fazer o ajuste na próxima parte.''' %(ticker_pb))\n",
    "        return [ticker, construct]\n",
    "    except ValueError:\n",
    "        print(r'O ticker %s não foi encontrado em nenhuma instância.\\n Proceder com inserção manual' %(ticker_pb))\n",
    "        return [np.nan, np.nan]"
   ]
  },
  {
   "cell_type": "code",
   "execution_count": 23,
   "metadata": {
    "collapsed": false
   },
   "outputs": [
    {
     "data": {
      "text/plain": [
       "['FMG AU', 'isin']"
      ]
     },
     "execution_count": 23,
     "metadata": {},
     "output_type": "execute_result"
    }
   ],
   "source": [
    "get_ticker_bases(calypso, pb, 0)"
   ]
  },
  {
   "cell_type": "code",
   "execution_count": 24,
   "metadata": {
    "collapsed": false
   },
   "outputs": [],
   "source": [
    "mapa_tickers = pb[['ticker','isin','cusip','sedol']].drop_duplicates().reset_index(drop=True)"
   ]
  },
  {
   "cell_type": "code",
   "execution_count": 25,
   "metadata": {
    "collapsed": false,
    "scrolled": true
   },
   "outputs": [
    {
     "name": "stdout",
     "output_type": "stream",
     "text": [
      "O ticker VALE não foi encontrado pelos códigos.\n",
      " Tentaremos agora pelo nome\n",
      "O ticker VALE não foi encontrado pelo nome.\n",
      " Ele será então contruído pelo Ticker + Isin\n",
      "O ticker BSMXB_OLD.MX não foi encontrado pelos códigos.\n",
      " Tentaremos agora pelo nome\n",
      "Nós aconselhamos que você confira o ticker BSMXB_OLD.MX, porque ele foi ajustado pelo Isin.\n",
      "Caso ele esteja ERRADO você deverá fazer o ajuste na próxima parte.\n",
      "O ticker EFGINT não foi encontrado pelos códigos.\n",
      " Tentaremos agora pelo nome\n",
      "Nós aconselhamos que você confira o ticker EFGINT, porque ele foi ajustado pelo Isin.\n",
      "Caso ele esteja ERRADO você deverá fazer o ajuste na próxima parte.\n",
      "O ticker GOLD não foi encontrado pelos códigos.\n",
      " Tentaremos agora pelo nome\n",
      "O ticker GOLD não foi encontrado pelo nome.\n",
      " Ele será então contruído pelo Ticker + Isin\n",
      "O ticker FOUREC não foi encontrado pelos códigos.\n",
      " Tentaremos agora pelo nome\n",
      "Nós aconselhamos que você confira o ticker FOUREC, porque ele foi ajustado pelo Isin.\n",
      "Caso ele esteja ERRADO você deverá fazer o ajuste na próxima parte.\n",
      "O ticker FECCF não foi encontrado pelos códigos.\n",
      " Tentaremos agora pelo nome\n",
      "Nós aconselhamos que você confira o ticker FECCF, porque ele foi ajustado pelo Isin.\n",
      "Caso ele esteja ERRADO você deverá fazer o ajuste na próxima parte.\n",
      "O ticker CNI não foi encontrado pelos códigos.\n",
      " Tentaremos agora pelo nome\n",
      "Nós aconselhamos que você confira o ticker CNI, porque ele foi ajustado pelo Isin.\n",
      "Caso ele esteja ERRADO você deverá fazer o ajuste na próxima parte.\n",
      "O ticker TAL não foi encontrado pelos códigos.\n",
      " Tentaremos agora pelo nome\n",
      "O ticker TAL não foi encontrado pelo nome.\n",
      " Ele será então contruído pelo Ticker + Isin\n",
      "O ticker ARCO não foi encontrado pelos códigos.\n",
      " Tentaremos agora pelo nome\n",
      "Nós aconselhamos que você confira o ticker ARCO, porque ele foi ajustado pelo Isin.\n",
      "Caso ele esteja ERRADO você deverá fazer o ajuste na próxima parte.\n",
      "O ticker EVOP não foi encontrado pelos códigos.\n",
      " Tentaremos agora pelo nome\n",
      "Nós aconselhamos que você confira o ticker EVOP, porque ele foi ajustado pelo Isin.\n",
      "Caso ele esteja ERRADO você deverá fazer o ajuste na próxima parte.\n",
      "O ticker NRG não foi encontrado pelos códigos.\n",
      " Tentaremos agora pelo nome\n",
      "Nós aconselhamos que você confira o ticker NRG, porque ele foi ajustado pelo Isin.\n",
      "Caso ele esteja ERRADO você deverá fazer o ajuste na próxima parte.\n",
      "O ticker DATA não foi encontrado pelos códigos.\n",
      " Tentaremos agora pelo nome\n",
      "Nós aconselhamos que você confira o ticker DATA, porque ele foi ajustado pelo Isin.\n",
      "Caso ele esteja ERRADO você deverá fazer o ajuste na próxima parte.\n"
     ]
    }
   ],
   "source": [
    "lista_tickers = [get_ticker_bases(calypso, mapa_tickers, x) for x in mapa_tickers.index]"
   ]
  },
  {
   "cell_type": "code",
   "execution_count": 26,
   "metadata": {
    "collapsed": false,
    "scrolled": true
   },
   "outputs": [],
   "source": [
    "mapeados = pd.DataFrame(lista_tickers).rename(columns={0:'ticker_calypso', 1:'construct'})"
   ]
  },
  {
   "cell_type": "code",
   "execution_count": 27,
   "metadata": {
    "collapsed": false
   },
   "outputs": [],
   "source": [
    "mapa_tickers = pd.concat([mapa_tickers, mapeados], axis=1)"
   ]
  },
  {
   "cell_type": "code",
   "execution_count": 28,
   "metadata": {
    "collapsed": false
   },
   "outputs": [
    {
     "data": {
      "text/html": [
       "<div>\n",
       "<table border=\"1\" class=\"dataframe\">\n",
       "  <thead>\n",
       "    <tr style=\"text-align: right;\">\n",
       "      <th></th>\n",
       "      <th>ticker</th>\n",
       "      <th>isin</th>\n",
       "      <th>cusip</th>\n",
       "      <th>sedol</th>\n",
       "      <th>ticker_calypso</th>\n",
       "      <th>construct</th>\n",
       "    </tr>\n",
       "  </thead>\n",
       "  <tbody>\n",
       "    <tr>\n",
       "      <th>99</th>\n",
       "      <td>BSMXB_OLD.MX</td>\n",
       "      <td>NaN</td>\n",
       "      <td>99AJNSZQ9</td>\n",
       "      <td>NaN</td>\n",
       "      <td>BSMXB_OLD.MX na</td>\n",
       "      <td>construido_ticker</td>\n",
       "    </tr>\n",
       "    <tr>\n",
       "      <th>109</th>\n",
       "      <td>EFGINT</td>\n",
       "      <td>CH0022268228</td>\n",
       "      <td>99ABKGR43</td>\n",
       "      <td>B0LF188</td>\n",
       "      <td>EFGINT CH</td>\n",
       "      <td>construido_ticker</td>\n",
       "    </tr>\n",
       "    <tr>\n",
       "      <th>261</th>\n",
       "      <td>FOUREC</td>\n",
       "      <td>FR0013341955</td>\n",
       "      <td>99GDBHRU3</td>\n",
       "      <td>BG88TW2</td>\n",
       "      <td>FOUREC FR</td>\n",
       "      <td>construido_ticker</td>\n",
       "    </tr>\n",
       "    <tr>\n",
       "      <th>339</th>\n",
       "      <td>FECCF</td>\n",
       "      <td>CA35905B1076</td>\n",
       "      <td>35905B107</td>\n",
       "      <td>BYSX6T9</td>\n",
       "      <td>FECCF CA</td>\n",
       "      <td>construido_ticker</td>\n",
       "    </tr>\n",
       "    <tr>\n",
       "      <th>356</th>\n",
       "      <td>CNI</td>\n",
       "      <td>CA1363751027</td>\n",
       "      <td>136375102</td>\n",
       "      <td>2210959</td>\n",
       "      <td>CNI CA</td>\n",
       "      <td>construido_ticker</td>\n",
       "    </tr>\n",
       "    <tr>\n",
       "      <th>442</th>\n",
       "      <td>ARCO</td>\n",
       "      <td>VGG0457F1071</td>\n",
       "      <td>NaN</td>\n",
       "      <td>B529PQ0</td>\n",
       "      <td>ARCO VG</td>\n",
       "      <td>construido_ticker</td>\n",
       "    </tr>\n",
       "    <tr>\n",
       "      <th>459</th>\n",
       "      <td>EVOP</td>\n",
       "      <td>US26927E1047</td>\n",
       "      <td>NaN</td>\n",
       "      <td>BG5NSM3</td>\n",
       "      <td>EVOP US</td>\n",
       "      <td>construido_ticker</td>\n",
       "    </tr>\n",
       "    <tr>\n",
       "      <th>480</th>\n",
       "      <td>NRG</td>\n",
       "      <td>US6293775085</td>\n",
       "      <td>NaN</td>\n",
       "      <td>2212922</td>\n",
       "      <td>NRG US</td>\n",
       "      <td>construido_ticker</td>\n",
       "    </tr>\n",
       "    <tr>\n",
       "      <th>481</th>\n",
       "      <td>DATA</td>\n",
       "      <td>US87336U1051</td>\n",
       "      <td>NaN</td>\n",
       "      <td>B8DJFL5</td>\n",
       "      <td>DATA US</td>\n",
       "      <td>construido_ticker</td>\n",
       "    </tr>\n",
       "  </tbody>\n",
       "</table>\n",
       "</div>"
      ],
      "text/plain": [
       "           ticker          isin      cusip    sedol   ticker_calypso  \\\n",
       "99   BSMXB_OLD.MX           NaN  99AJNSZQ9      NaN  BSMXB_OLD.MX na   \n",
       "109        EFGINT  CH0022268228  99ABKGR43  B0LF188        EFGINT CH   \n",
       "261        FOUREC  FR0013341955  99GDBHRU3  BG88TW2        FOUREC FR   \n",
       "339         FECCF  CA35905B1076  35905B107  BYSX6T9         FECCF CA   \n",
       "356           CNI  CA1363751027  136375102  2210959           CNI CA   \n",
       "442          ARCO  VGG0457F1071        NaN  B529PQ0          ARCO VG   \n",
       "459          EVOP  US26927E1047        NaN  BG5NSM3          EVOP US   \n",
       "480           NRG  US6293775085        NaN  2212922           NRG US   \n",
       "481          DATA  US87336U1051        NaN  B8DJFL5          DATA US   \n",
       "\n",
       "             construct  \n",
       "99   construido_ticker  \n",
       "109  construido_ticker  \n",
       "261  construido_ticker  \n",
       "339  construido_ticker  \n",
       "356  construido_ticker  \n",
       "442  construido_ticker  \n",
       "459  construido_ticker  \n",
       "480  construido_ticker  \n",
       "481  construido_ticker  "
      ]
     },
     "execution_count": 28,
     "metadata": {},
     "output_type": "execute_result"
    }
   ],
   "source": [
    "mapa_tickers[mapa_tickers['construct']=='construido_ticker']"
   ]
  },
  {
   "cell_type": "code",
   "execution_count": 29,
   "metadata": {
    "collapsed": true
   },
   "outputs": [],
   "source": [
    "ticker_diffs = ticker_diffs.rename(columns={\n",
    "    'Stock':'ticker',\n",
    "    'Isin':'isin',\n",
    "    'Cusip':'cusip',\n",
    "    'Sedol':'sedol'\n",
    "})"
   ]
  },
  {
   "cell_type": "code",
   "execution_count": null,
   "metadata": {
    "collapsed": true
   },
   "outputs": [],
   "source": []
  },
  {
   "cell_type": "code",
   "execution_count": 30,
   "metadata": {
    "collapsed": false
   },
   "outputs": [],
   "source": [
    "#mapa_tickers_diffs = ticker_diffs[['ticker','isin','cusip','sedol']].drop_duplicates().reset_index(drop=True)"
   ]
  },
  {
   "cell_type": "code",
   "execution_count": 31,
   "metadata": {
    "collapsed": false,
    "scrolled": true
   },
   "outputs": [],
   "source": [
    "#lista_tickers_diffs = [get_ticker_bases(calypso, mapa_tickers_diffs, x) for x in mapa_tickers_diffs.index]"
   ]
  },
  {
   "cell_type": "code",
   "execution_count": 32,
   "metadata": {
    "collapsed": true
   },
   "outputs": [],
   "source": [
    "#mapeados_diff = pd.DataFrame(lista_tickers_diffs).rename(columns={0:'ticker_calypso', 1:'construct'})"
   ]
  },
  {
   "cell_type": "code",
   "execution_count": 33,
   "metadata": {
    "collapsed": true
   },
   "outputs": [],
   "source": [
    "#mapa_tickers_diffs = pd.concat([mapa_tickers_diffs, mapeados_diff], axis=1)"
   ]
  },
  {
   "cell_type": "code",
   "execution_count": null,
   "metadata": {
    "collapsed": true
   },
   "outputs": [],
   "source": []
  },
  {
   "cell_type": "code",
   "execution_count": null,
   "metadata": {
    "collapsed": true
   },
   "outputs": [],
   "source": []
  },
  {
   "cell_type": "code",
   "execution_count": 34,
   "metadata": {
    "collapsed": false,
    "scrolled": true
   },
   "outputs": [],
   "source": [
    "mapa_tickers = mapa_tickers.drop(['isin', 'cusip', 'sedol', 'construct'], axis=1)"
   ]
  },
  {
   "cell_type": "code",
   "execution_count": 35,
   "metadata": {
    "collapsed": false
   },
   "outputs": [],
   "source": [
    "pb['id'] = range(0, len(pb))"
   ]
  },
  {
   "cell_type": "code",
   "execution_count": 36,
   "metadata": {
    "collapsed": false,
    "scrolled": true
   },
   "outputs": [],
   "source": [
    "pb_1 = pd.merge(pb, mapa_tickers, on='ticker', how='left').drop_duplicates()"
   ]
  },
  {
   "cell_type": "code",
   "execution_count": 37,
   "metadata": {
    "collapsed": false,
    "scrolled": true
   },
   "outputs": [],
   "source": [
    "# Isso aqui tem que ser zero para estar tudo ok!\n",
    "check_1 = pb_1[~pb_1['id'].isin(pb['id'])].shape[0]+pb[~pb['id'].isin(pb_1['id'])].shape[0]\n",
    "if check_1 == 0:\n",
    "    pb = pb_1.drop(['ticker', 'isin','cusip','sedol','id'], axis=1)[['conta', 'pb', 'data_ref','ticker_calypso', 'currency',\n",
    "                                                                    'qt', 'accrual', 'month','year']].rename(columns={\n",
    "        'ticker_calypso':'ticker'\n",
    "    })\n",
    "else:\n",
    "    print('Houve algum problema na hora do mapeamento! será necessário fazer ajustes')"
   ]
  },
  {
   "cell_type": "markdown",
   "metadata": {},
   "source": [
    "# Batimento mensal"
   ]
  },
  {
   "cell_type": "markdown",
   "metadata": {},
   "source": [
    "#### Bate os arquivos do calypso contra o pb para ver se todos os que estão no calypso estão no pb"
   ]
  },
  {
   "cell_type": "code",
   "execution_count": 38,
   "metadata": {
    "collapsed": false
   },
   "outputs": [],
   "source": [
    "calypso_month = calypso.drop(['book', 'isin', 'cusip', 'month', 'year'], axis=1).reset_index(drop=True).copy()\n",
    "pb_month = pb.drop(['month', 'year'], axis=1).reset_index(drop=True).copy()\n",
    "pb_month['acc'] = pb_month['conta'].map(dict_contas)"
   ]
  },
  {
   "cell_type": "code",
   "execution_count": 39,
   "metadata": {
    "collapsed": false,
    "scrolled": true
   },
   "outputs": [],
   "source": [
    "dias_calypso = calypso_month[['acc', 'data_ref']].copy()\n",
    "dias_calypso['tipo'] = 'calypso'\n",
    "dias_pb = pb_month[['acc', 'data_ref']].copy()\n",
    "dias_pb['tipo'] = 'pb'\n",
    "dias_ok = pd.concat([dias_calypso, dias_pb], axis=0)\n",
    "dias_ok['check'] = 1\n",
    "pvt = pd.pivot_table(dias_ok, values=['check'],\n",
    "                     index='data_ref', columns=['tipo','acc'])"
   ]
  },
  {
   "cell_type": "code",
   "execution_count": null,
   "metadata": {
    "collapsed": true
   },
   "outputs": [],
   "source": []
  },
  {
   "cell_type": "code",
   "execution_count": 40,
   "metadata": {
    "collapsed": false,
    "scrolled": true
   },
   "outputs": [
    {
     "data": {
      "text/html": [
       "<div>\n",
       "<table border=\"1\" class=\"dataframe\">\n",
       "  <thead>\n",
       "    <tr>\n",
       "      <th></th>\n",
       "      <th colspan=\"6\" halign=\"left\">check</th>\n",
       "    </tr>\n",
       "    <tr>\n",
       "      <th>tipo</th>\n",
       "      <th colspan=\"3\" halign=\"left\">calypso</th>\n",
       "      <th colspan=\"3\" halign=\"left\">pb</th>\n",
       "    </tr>\n",
       "    <tr>\n",
       "      <th>acc</th>\n",
       "      <th>int_c</th>\n",
       "      <th>ms_cayman</th>\n",
       "      <th>ubs_cayman</th>\n",
       "      <th>int_c</th>\n",
       "      <th>ms_cayman</th>\n",
       "      <th>ubs_cayman</th>\n",
       "    </tr>\n",
       "    <tr>\n",
       "      <th>data_ref</th>\n",
       "      <th></th>\n",
       "      <th></th>\n",
       "      <th></th>\n",
       "      <th></th>\n",
       "      <th></th>\n",
       "      <th></th>\n",
       "    </tr>\n",
       "  </thead>\n",
       "  <tbody>\n",
       "    <tr>\n",
       "      <th>2017-12-29</th>\n",
       "      <td>NaN</td>\n",
       "      <td>1.0</td>\n",
       "      <td>1.0</td>\n",
       "      <td>NaN</td>\n",
       "      <td>NaN</td>\n",
       "      <td>NaN</td>\n",
       "    </tr>\n",
       "    <tr>\n",
       "      <th>2018-01-01</th>\n",
       "      <td>1.0</td>\n",
       "      <td>1.0</td>\n",
       "      <td>1.0</td>\n",
       "      <td>1.0</td>\n",
       "      <td>1.0</td>\n",
       "      <td>1.0</td>\n",
       "    </tr>\n",
       "    <tr>\n",
       "      <th>2018-01-02</th>\n",
       "      <td>1.0</td>\n",
       "      <td>1.0</td>\n",
       "      <td>1.0</td>\n",
       "      <td>1.0</td>\n",
       "      <td>1.0</td>\n",
       "      <td>1.0</td>\n",
       "    </tr>\n",
       "    <tr>\n",
       "      <th>2018-01-03</th>\n",
       "      <td>1.0</td>\n",
       "      <td>1.0</td>\n",
       "      <td>1.0</td>\n",
       "      <td>1.0</td>\n",
       "      <td>1.0</td>\n",
       "      <td>1.0</td>\n",
       "    </tr>\n",
       "    <tr>\n",
       "      <th>2018-01-04</th>\n",
       "      <td>1.0</td>\n",
       "      <td>1.0</td>\n",
       "      <td>1.0</td>\n",
       "      <td>1.0</td>\n",
       "      <td>1.0</td>\n",
       "      <td>1.0</td>\n",
       "    </tr>\n",
       "    <tr>\n",
       "      <th>2018-01-05</th>\n",
       "      <td>1.0</td>\n",
       "      <td>1.0</td>\n",
       "      <td>1.0</td>\n",
       "      <td>1.0</td>\n",
       "      <td>1.0</td>\n",
       "      <td>1.0</td>\n",
       "    </tr>\n",
       "    <tr>\n",
       "      <th>2018-01-08</th>\n",
       "      <td>1.0</td>\n",
       "      <td>1.0</td>\n",
       "      <td>1.0</td>\n",
       "      <td>1.0</td>\n",
       "      <td>1.0</td>\n",
       "      <td>1.0</td>\n",
       "    </tr>\n",
       "    <tr>\n",
       "      <th>2018-01-09</th>\n",
       "      <td>1.0</td>\n",
       "      <td>1.0</td>\n",
       "      <td>1.0</td>\n",
       "      <td>1.0</td>\n",
       "      <td>1.0</td>\n",
       "      <td>1.0</td>\n",
       "    </tr>\n",
       "    <tr>\n",
       "      <th>2018-01-10</th>\n",
       "      <td>1.0</td>\n",
       "      <td>1.0</td>\n",
       "      <td>1.0</td>\n",
       "      <td>1.0</td>\n",
       "      <td>1.0</td>\n",
       "      <td>1.0</td>\n",
       "    </tr>\n",
       "    <tr>\n",
       "      <th>2018-01-11</th>\n",
       "      <td>1.0</td>\n",
       "      <td>1.0</td>\n",
       "      <td>1.0</td>\n",
       "      <td>1.0</td>\n",
       "      <td>1.0</td>\n",
       "      <td>1.0</td>\n",
       "    </tr>\n",
       "    <tr>\n",
       "      <th>2018-01-12</th>\n",
       "      <td>1.0</td>\n",
       "      <td>1.0</td>\n",
       "      <td>1.0</td>\n",
       "      <td>1.0</td>\n",
       "      <td>1.0</td>\n",
       "      <td>1.0</td>\n",
       "    </tr>\n",
       "    <tr>\n",
       "      <th>2018-01-15</th>\n",
       "      <td>1.0</td>\n",
       "      <td>1.0</td>\n",
       "      <td>1.0</td>\n",
       "      <td>1.0</td>\n",
       "      <td>1.0</td>\n",
       "      <td>1.0</td>\n",
       "    </tr>\n",
       "    <tr>\n",
       "      <th>2018-01-16</th>\n",
       "      <td>1.0</td>\n",
       "      <td>1.0</td>\n",
       "      <td>1.0</td>\n",
       "      <td>1.0</td>\n",
       "      <td>1.0</td>\n",
       "      <td>1.0</td>\n",
       "    </tr>\n",
       "    <tr>\n",
       "      <th>2018-01-17</th>\n",
       "      <td>NaN</td>\n",
       "      <td>NaN</td>\n",
       "      <td>NaN</td>\n",
       "      <td>NaN</td>\n",
       "      <td>1.0</td>\n",
       "      <td>1.0</td>\n",
       "    </tr>\n",
       "    <tr>\n",
       "      <th>2018-01-18</th>\n",
       "      <td>1.0</td>\n",
       "      <td>1.0</td>\n",
       "      <td>1.0</td>\n",
       "      <td>1.0</td>\n",
       "      <td>1.0</td>\n",
       "      <td>1.0</td>\n",
       "    </tr>\n",
       "    <tr>\n",
       "      <th>2018-01-19</th>\n",
       "      <td>1.0</td>\n",
       "      <td>1.0</td>\n",
       "      <td>1.0</td>\n",
       "      <td>1.0</td>\n",
       "      <td>1.0</td>\n",
       "      <td>1.0</td>\n",
       "    </tr>\n",
       "    <tr>\n",
       "      <th>2018-01-22</th>\n",
       "      <td>1.0</td>\n",
       "      <td>1.0</td>\n",
       "      <td>1.0</td>\n",
       "      <td>1.0</td>\n",
       "      <td>1.0</td>\n",
       "      <td>1.0</td>\n",
       "    </tr>\n",
       "    <tr>\n",
       "      <th>2018-01-23</th>\n",
       "      <td>1.0</td>\n",
       "      <td>1.0</td>\n",
       "      <td>1.0</td>\n",
       "      <td>1.0</td>\n",
       "      <td>1.0</td>\n",
       "      <td>1.0</td>\n",
       "    </tr>\n",
       "    <tr>\n",
       "      <th>2018-01-24</th>\n",
       "      <td>1.0</td>\n",
       "      <td>1.0</td>\n",
       "      <td>1.0</td>\n",
       "      <td>1.0</td>\n",
       "      <td>1.0</td>\n",
       "      <td>1.0</td>\n",
       "    </tr>\n",
       "    <tr>\n",
       "      <th>2018-01-25</th>\n",
       "      <td>1.0</td>\n",
       "      <td>1.0</td>\n",
       "      <td>1.0</td>\n",
       "      <td>1.0</td>\n",
       "      <td>1.0</td>\n",
       "      <td>1.0</td>\n",
       "    </tr>\n",
       "    <tr>\n",
       "      <th>2018-01-26</th>\n",
       "      <td>1.0</td>\n",
       "      <td>1.0</td>\n",
       "      <td>1.0</td>\n",
       "      <td>1.0</td>\n",
       "      <td>1.0</td>\n",
       "      <td>1.0</td>\n",
       "    </tr>\n",
       "    <tr>\n",
       "      <th>2018-01-29</th>\n",
       "      <td>1.0</td>\n",
       "      <td>1.0</td>\n",
       "      <td>1.0</td>\n",
       "      <td>1.0</td>\n",
       "      <td>1.0</td>\n",
       "      <td>1.0</td>\n",
       "    </tr>\n",
       "    <tr>\n",
       "      <th>2018-01-30</th>\n",
       "      <td>1.0</td>\n",
       "      <td>1.0</td>\n",
       "      <td>1.0</td>\n",
       "      <td>1.0</td>\n",
       "      <td>1.0</td>\n",
       "      <td>1.0</td>\n",
       "    </tr>\n",
       "    <tr>\n",
       "      <th>2018-01-31</th>\n",
       "      <td>1.0</td>\n",
       "      <td>1.0</td>\n",
       "      <td>1.0</td>\n",
       "      <td>1.0</td>\n",
       "      <td>1.0</td>\n",
       "      <td>1.0</td>\n",
       "    </tr>\n",
       "    <tr>\n",
       "      <th>2018-02-01</th>\n",
       "      <td>1.0</td>\n",
       "      <td>1.0</td>\n",
       "      <td>1.0</td>\n",
       "      <td>1.0</td>\n",
       "      <td>1.0</td>\n",
       "      <td>1.0</td>\n",
       "    </tr>\n",
       "    <tr>\n",
       "      <th>2018-02-02</th>\n",
       "      <td>1.0</td>\n",
       "      <td>1.0</td>\n",
       "      <td>1.0</td>\n",
       "      <td>1.0</td>\n",
       "      <td>1.0</td>\n",
       "      <td>1.0</td>\n",
       "    </tr>\n",
       "    <tr>\n",
       "      <th>2018-02-05</th>\n",
       "      <td>1.0</td>\n",
       "      <td>1.0</td>\n",
       "      <td>1.0</td>\n",
       "      <td>1.0</td>\n",
       "      <td>1.0</td>\n",
       "      <td>1.0</td>\n",
       "    </tr>\n",
       "    <tr>\n",
       "      <th>2018-02-06</th>\n",
       "      <td>1.0</td>\n",
       "      <td>1.0</td>\n",
       "      <td>1.0</td>\n",
       "      <td>1.0</td>\n",
       "      <td>1.0</td>\n",
       "      <td>1.0</td>\n",
       "    </tr>\n",
       "    <tr>\n",
       "      <th>2018-02-07</th>\n",
       "      <td>1.0</td>\n",
       "      <td>1.0</td>\n",
       "      <td>1.0</td>\n",
       "      <td>1.0</td>\n",
       "      <td>1.0</td>\n",
       "      <td>1.0</td>\n",
       "    </tr>\n",
       "    <tr>\n",
       "      <th>2018-02-08</th>\n",
       "      <td>1.0</td>\n",
       "      <td>1.0</td>\n",
       "      <td>1.0</td>\n",
       "      <td>1.0</td>\n",
       "      <td>1.0</td>\n",
       "      <td>1.0</td>\n",
       "    </tr>\n",
       "    <tr>\n",
       "      <th>...</th>\n",
       "      <td>...</td>\n",
       "      <td>...</td>\n",
       "      <td>...</td>\n",
       "      <td>...</td>\n",
       "      <td>...</td>\n",
       "      <td>...</td>\n",
       "    </tr>\n",
       "    <tr>\n",
       "      <th>2018-07-17</th>\n",
       "      <td>1.0</td>\n",
       "      <td>1.0</td>\n",
       "      <td>1.0</td>\n",
       "      <td>1.0</td>\n",
       "      <td>1.0</td>\n",
       "      <td>1.0</td>\n",
       "    </tr>\n",
       "    <tr>\n",
       "      <th>2018-07-18</th>\n",
       "      <td>1.0</td>\n",
       "      <td>1.0</td>\n",
       "      <td>1.0</td>\n",
       "      <td>1.0</td>\n",
       "      <td>1.0</td>\n",
       "      <td>1.0</td>\n",
       "    </tr>\n",
       "    <tr>\n",
       "      <th>2018-07-19</th>\n",
       "      <td>1.0</td>\n",
       "      <td>1.0</td>\n",
       "      <td>1.0</td>\n",
       "      <td>1.0</td>\n",
       "      <td>1.0</td>\n",
       "      <td>1.0</td>\n",
       "    </tr>\n",
       "    <tr>\n",
       "      <th>2018-07-20</th>\n",
       "      <td>1.0</td>\n",
       "      <td>1.0</td>\n",
       "      <td>1.0</td>\n",
       "      <td>1.0</td>\n",
       "      <td>1.0</td>\n",
       "      <td>1.0</td>\n",
       "    </tr>\n",
       "    <tr>\n",
       "      <th>2018-07-23</th>\n",
       "      <td>1.0</td>\n",
       "      <td>1.0</td>\n",
       "      <td>1.0</td>\n",
       "      <td>1.0</td>\n",
       "      <td>1.0</td>\n",
       "      <td>1.0</td>\n",
       "    </tr>\n",
       "    <tr>\n",
       "      <th>2018-07-24</th>\n",
       "      <td>1.0</td>\n",
       "      <td>1.0</td>\n",
       "      <td>1.0</td>\n",
       "      <td>1.0</td>\n",
       "      <td>1.0</td>\n",
       "      <td>1.0</td>\n",
       "    </tr>\n",
       "    <tr>\n",
       "      <th>2018-07-25</th>\n",
       "      <td>1.0</td>\n",
       "      <td>1.0</td>\n",
       "      <td>1.0</td>\n",
       "      <td>1.0</td>\n",
       "      <td>1.0</td>\n",
       "      <td>1.0</td>\n",
       "    </tr>\n",
       "    <tr>\n",
       "      <th>2018-07-26</th>\n",
       "      <td>1.0</td>\n",
       "      <td>1.0</td>\n",
       "      <td>1.0</td>\n",
       "      <td>1.0</td>\n",
       "      <td>1.0</td>\n",
       "      <td>1.0</td>\n",
       "    </tr>\n",
       "    <tr>\n",
       "      <th>2018-07-27</th>\n",
       "      <td>1.0</td>\n",
       "      <td>1.0</td>\n",
       "      <td>1.0</td>\n",
       "      <td>1.0</td>\n",
       "      <td>1.0</td>\n",
       "      <td>1.0</td>\n",
       "    </tr>\n",
       "    <tr>\n",
       "      <th>2018-07-30</th>\n",
       "      <td>1.0</td>\n",
       "      <td>1.0</td>\n",
       "      <td>1.0</td>\n",
       "      <td>1.0</td>\n",
       "      <td>1.0</td>\n",
       "      <td>1.0</td>\n",
       "    </tr>\n",
       "    <tr>\n",
       "      <th>2018-07-31</th>\n",
       "      <td>1.0</td>\n",
       "      <td>1.0</td>\n",
       "      <td>1.0</td>\n",
       "      <td>1.0</td>\n",
       "      <td>1.0</td>\n",
       "      <td>1.0</td>\n",
       "    </tr>\n",
       "    <tr>\n",
       "      <th>2018-08-01</th>\n",
       "      <td>1.0</td>\n",
       "      <td>1.0</td>\n",
       "      <td>1.0</td>\n",
       "      <td>1.0</td>\n",
       "      <td>1.0</td>\n",
       "      <td>1.0</td>\n",
       "    </tr>\n",
       "    <tr>\n",
       "      <th>2018-08-02</th>\n",
       "      <td>1.0</td>\n",
       "      <td>1.0</td>\n",
       "      <td>1.0</td>\n",
       "      <td>1.0</td>\n",
       "      <td>1.0</td>\n",
       "      <td>1.0</td>\n",
       "    </tr>\n",
       "    <tr>\n",
       "      <th>2018-08-03</th>\n",
       "      <td>1.0</td>\n",
       "      <td>1.0</td>\n",
       "      <td>1.0</td>\n",
       "      <td>1.0</td>\n",
       "      <td>1.0</td>\n",
       "      <td>1.0</td>\n",
       "    </tr>\n",
       "    <tr>\n",
       "      <th>2018-08-06</th>\n",
       "      <td>1.0</td>\n",
       "      <td>1.0</td>\n",
       "      <td>1.0</td>\n",
       "      <td>1.0</td>\n",
       "      <td>1.0</td>\n",
       "      <td>1.0</td>\n",
       "    </tr>\n",
       "    <tr>\n",
       "      <th>2018-08-07</th>\n",
       "      <td>1.0</td>\n",
       "      <td>1.0</td>\n",
       "      <td>1.0</td>\n",
       "      <td>1.0</td>\n",
       "      <td>1.0</td>\n",
       "      <td>1.0</td>\n",
       "    </tr>\n",
       "    <tr>\n",
       "      <th>2018-08-08</th>\n",
       "      <td>1.0</td>\n",
       "      <td>1.0</td>\n",
       "      <td>1.0</td>\n",
       "      <td>1.0</td>\n",
       "      <td>1.0</td>\n",
       "      <td>1.0</td>\n",
       "    </tr>\n",
       "    <tr>\n",
       "      <th>2018-08-09</th>\n",
       "      <td>1.0</td>\n",
       "      <td>1.0</td>\n",
       "      <td>1.0</td>\n",
       "      <td>1.0</td>\n",
       "      <td>1.0</td>\n",
       "      <td>1.0</td>\n",
       "    </tr>\n",
       "    <tr>\n",
       "      <th>2018-08-10</th>\n",
       "      <td>1.0</td>\n",
       "      <td>1.0</td>\n",
       "      <td>1.0</td>\n",
       "      <td>1.0</td>\n",
       "      <td>1.0</td>\n",
       "      <td>1.0</td>\n",
       "    </tr>\n",
       "    <tr>\n",
       "      <th>2018-08-13</th>\n",
       "      <td>1.0</td>\n",
       "      <td>1.0</td>\n",
       "      <td>1.0</td>\n",
       "      <td>1.0</td>\n",
       "      <td>1.0</td>\n",
       "      <td>1.0</td>\n",
       "    </tr>\n",
       "    <tr>\n",
       "      <th>2018-08-14</th>\n",
       "      <td>1.0</td>\n",
       "      <td>1.0</td>\n",
       "      <td>1.0</td>\n",
       "      <td>1.0</td>\n",
       "      <td>1.0</td>\n",
       "      <td>1.0</td>\n",
       "    </tr>\n",
       "    <tr>\n",
       "      <th>2018-08-15</th>\n",
       "      <td>1.0</td>\n",
       "      <td>1.0</td>\n",
       "      <td>1.0</td>\n",
       "      <td>1.0</td>\n",
       "      <td>1.0</td>\n",
       "      <td>1.0</td>\n",
       "    </tr>\n",
       "    <tr>\n",
       "      <th>2018-08-16</th>\n",
       "      <td>1.0</td>\n",
       "      <td>1.0</td>\n",
       "      <td>1.0</td>\n",
       "      <td>1.0</td>\n",
       "      <td>1.0</td>\n",
       "      <td>1.0</td>\n",
       "    </tr>\n",
       "    <tr>\n",
       "      <th>2018-08-17</th>\n",
       "      <td>1.0</td>\n",
       "      <td>1.0</td>\n",
       "      <td>1.0</td>\n",
       "      <td>1.0</td>\n",
       "      <td>1.0</td>\n",
       "      <td>1.0</td>\n",
       "    </tr>\n",
       "    <tr>\n",
       "      <th>2018-08-20</th>\n",
       "      <td>1.0</td>\n",
       "      <td>1.0</td>\n",
       "      <td>1.0</td>\n",
       "      <td>1.0</td>\n",
       "      <td>1.0</td>\n",
       "      <td>1.0</td>\n",
       "    </tr>\n",
       "    <tr>\n",
       "      <th>2018-08-21</th>\n",
       "      <td>1.0</td>\n",
       "      <td>1.0</td>\n",
       "      <td>1.0</td>\n",
       "      <td>1.0</td>\n",
       "      <td>1.0</td>\n",
       "      <td>1.0</td>\n",
       "    </tr>\n",
       "    <tr>\n",
       "      <th>2018-08-22</th>\n",
       "      <td>1.0</td>\n",
       "      <td>1.0</td>\n",
       "      <td>1.0</td>\n",
       "      <td>1.0</td>\n",
       "      <td>1.0</td>\n",
       "      <td>1.0</td>\n",
       "    </tr>\n",
       "    <tr>\n",
       "      <th>2018-08-23</th>\n",
       "      <td>1.0</td>\n",
       "      <td>1.0</td>\n",
       "      <td>1.0</td>\n",
       "      <td>1.0</td>\n",
       "      <td>1.0</td>\n",
       "      <td>1.0</td>\n",
       "    </tr>\n",
       "    <tr>\n",
       "      <th>2018-08-24</th>\n",
       "      <td>1.0</td>\n",
       "      <td>1.0</td>\n",
       "      <td>1.0</td>\n",
       "      <td>1.0</td>\n",
       "      <td>1.0</td>\n",
       "      <td>1.0</td>\n",
       "    </tr>\n",
       "    <tr>\n",
       "      <th>2018-08-27</th>\n",
       "      <td>1.0</td>\n",
       "      <td>1.0</td>\n",
       "      <td>1.0</td>\n",
       "      <td>1.0</td>\n",
       "      <td>1.0</td>\n",
       "      <td>1.0</td>\n",
       "    </tr>\n",
       "  </tbody>\n",
       "</table>\n",
       "<p>172 rows × 6 columns</p>\n",
       "</div>"
      ],
      "text/plain": [
       "             check                                                \n",
       "tipo       calypso                         pb                     \n",
       "acc          int_c ms_cayman ubs_cayman int_c ms_cayman ubs_cayman\n",
       "data_ref                                                          \n",
       "2017-12-29     NaN       1.0        1.0   NaN       NaN        NaN\n",
       "2018-01-01     1.0       1.0        1.0   1.0       1.0        1.0\n",
       "2018-01-02     1.0       1.0        1.0   1.0       1.0        1.0\n",
       "2018-01-03     1.0       1.0        1.0   1.0       1.0        1.0\n",
       "2018-01-04     1.0       1.0        1.0   1.0       1.0        1.0\n",
       "2018-01-05     1.0       1.0        1.0   1.0       1.0        1.0\n",
       "2018-01-08     1.0       1.0        1.0   1.0       1.0        1.0\n",
       "2018-01-09     1.0       1.0        1.0   1.0       1.0        1.0\n",
       "2018-01-10     1.0       1.0        1.0   1.0       1.0        1.0\n",
       "2018-01-11     1.0       1.0        1.0   1.0       1.0        1.0\n",
       "2018-01-12     1.0       1.0        1.0   1.0       1.0        1.0\n",
       "2018-01-15     1.0       1.0        1.0   1.0       1.0        1.0\n",
       "2018-01-16     1.0       1.0        1.0   1.0       1.0        1.0\n",
       "2018-01-17     NaN       NaN        NaN   NaN       1.0        1.0\n",
       "2018-01-18     1.0       1.0        1.0   1.0       1.0        1.0\n",
       "2018-01-19     1.0       1.0        1.0   1.0       1.0        1.0\n",
       "2018-01-22     1.0       1.0        1.0   1.0       1.0        1.0\n",
       "2018-01-23     1.0       1.0        1.0   1.0       1.0        1.0\n",
       "2018-01-24     1.0       1.0        1.0   1.0       1.0        1.0\n",
       "2018-01-25     1.0       1.0        1.0   1.0       1.0        1.0\n",
       "2018-01-26     1.0       1.0        1.0   1.0       1.0        1.0\n",
       "2018-01-29     1.0       1.0        1.0   1.0       1.0        1.0\n",
       "2018-01-30     1.0       1.0        1.0   1.0       1.0        1.0\n",
       "2018-01-31     1.0       1.0        1.0   1.0       1.0        1.0\n",
       "2018-02-01     1.0       1.0        1.0   1.0       1.0        1.0\n",
       "2018-02-02     1.0       1.0        1.0   1.0       1.0        1.0\n",
       "2018-02-05     1.0       1.0        1.0   1.0       1.0        1.0\n",
       "2018-02-06     1.0       1.0        1.0   1.0       1.0        1.0\n",
       "2018-02-07     1.0       1.0        1.0   1.0       1.0        1.0\n",
       "2018-02-08     1.0       1.0        1.0   1.0       1.0        1.0\n",
       "...            ...       ...        ...   ...       ...        ...\n",
       "2018-07-17     1.0       1.0        1.0   1.0       1.0        1.0\n",
       "2018-07-18     1.0       1.0        1.0   1.0       1.0        1.0\n",
       "2018-07-19     1.0       1.0        1.0   1.0       1.0        1.0\n",
       "2018-07-20     1.0       1.0        1.0   1.0       1.0        1.0\n",
       "2018-07-23     1.0       1.0        1.0   1.0       1.0        1.0\n",
       "2018-07-24     1.0       1.0        1.0   1.0       1.0        1.0\n",
       "2018-07-25     1.0       1.0        1.0   1.0       1.0        1.0\n",
       "2018-07-26     1.0       1.0        1.0   1.0       1.0        1.0\n",
       "2018-07-27     1.0       1.0        1.0   1.0       1.0        1.0\n",
       "2018-07-30     1.0       1.0        1.0   1.0       1.0        1.0\n",
       "2018-07-31     1.0       1.0        1.0   1.0       1.0        1.0\n",
       "2018-08-01     1.0       1.0        1.0   1.0       1.0        1.0\n",
       "2018-08-02     1.0       1.0        1.0   1.0       1.0        1.0\n",
       "2018-08-03     1.0       1.0        1.0   1.0       1.0        1.0\n",
       "2018-08-06     1.0       1.0        1.0   1.0       1.0        1.0\n",
       "2018-08-07     1.0       1.0        1.0   1.0       1.0        1.0\n",
       "2018-08-08     1.0       1.0        1.0   1.0       1.0        1.0\n",
       "2018-08-09     1.0       1.0        1.0   1.0       1.0        1.0\n",
       "2018-08-10     1.0       1.0        1.0   1.0       1.0        1.0\n",
       "2018-08-13     1.0       1.0        1.0   1.0       1.0        1.0\n",
       "2018-08-14     1.0       1.0        1.0   1.0       1.0        1.0\n",
       "2018-08-15     1.0       1.0        1.0   1.0       1.0        1.0\n",
       "2018-08-16     1.0       1.0        1.0   1.0       1.0        1.0\n",
       "2018-08-17     1.0       1.0        1.0   1.0       1.0        1.0\n",
       "2018-08-20     1.0       1.0        1.0   1.0       1.0        1.0\n",
       "2018-08-21     1.0       1.0        1.0   1.0       1.0        1.0\n",
       "2018-08-22     1.0       1.0        1.0   1.0       1.0        1.0\n",
       "2018-08-23     1.0       1.0        1.0   1.0       1.0        1.0\n",
       "2018-08-24     1.0       1.0        1.0   1.0       1.0        1.0\n",
       "2018-08-27     1.0       1.0        1.0   1.0       1.0        1.0\n",
       "\n",
       "[172 rows x 6 columns]"
      ]
     },
     "execution_count": 40,
     "metadata": {},
     "output_type": "execute_result"
    }
   ],
   "source": [
    "pvt"
   ]
  },
  {
   "cell_type": "code",
   "execution_count": null,
   "metadata": {
    "collapsed": true
   },
   "outputs": [],
   "source": []
  },
  {
   "cell_type": "code",
   "execution_count": 41,
   "metadata": {
    "collapsed": true
   },
   "outputs": [],
   "source": [
    "#Agrupa as informações que estão no calypso eliminando books. Junta em conta_pb, agent, data_ref, ticker e currency\n",
    "calypso_batimento = calypso_month.groupby(by=['conta_pb','agent','data_ref','ticker','currency']).sum().copy().reset_index()\n",
    "calypso_batimento['acc'] = calypso_batimento['conta_pb'].map(dict_contas)\n",
    "calypso_batimento = calypso_batimento[calypso_batimento['quantidade']<0].reset_index(drop=True)\n",
    "calypso_batimento = calypso_batimento.groupby(by=['acc','data_ref', 'ticker','currency']).sum().reset_index()  \n",
    "#é somente um indice para poder checar quais informações do calypso não passaram pelo filtro da PB\n",
    "calypso_batimento['id'] = range(1, calypso_batimento.shape[0] +1)\n",
    "pb_month = pb_month.groupby(by=['acc','data_ref','ticker','currency']).sum().reset_index()"
   ]
  },
  {
   "cell_type": "code",
   "execution_count": null,
   "metadata": {
    "collapsed": true
   },
   "outputs": [],
   "source": []
  },
  {
   "cell_type": "code",
   "execution_count": 42,
   "metadata": {
    "collapsed": true
   },
   "outputs": [],
   "source": [
    "calypso_bate_pb = pd.merge(pb_month, calypso_batimento, on=['acc','data_ref','ticker','currency'],  how='left')"
   ]
  },
  {
   "cell_type": "code",
   "execution_count": null,
   "metadata": {
    "collapsed": true
   },
   "outputs": [],
   "source": []
  },
  {
   "cell_type": "code",
   "execution_count": 43,
   "metadata": {
    "collapsed": false
   },
   "outputs": [],
   "source": [
    "check_2 = calypso_bate_pb.shape[0]-pb_month.shape[0]\n",
    "if check_2!=0:\n",
    "    print ('%s linhas foram duplicadas durante o merge. Favor verificar se houve algo de errado' %check_2)"
   ]
  },
  {
   "cell_type": "code",
   "execution_count": null,
   "metadata": {
    "collapsed": true
   },
   "outputs": [],
   "source": []
  },
  {
   "cell_type": "code",
   "execution_count": 44,
   "metadata": {
    "collapsed": false,
    "scrolled": true
   },
   "outputs": [],
   "source": [
    "# Sobra de destino são os tickers que estavam no pb, mas não tinham correspondência no Calypso\n",
    "sobra_destino = calypso_bate_pb[(calypso_bate_pb['quantidade'].isnull()==True)&(calypso_bate_pb['accrual']!=0)]"
   ]
  },
  {
   "cell_type": "code",
   "execution_count": 45,
   "metadata": {
    "collapsed": true
   },
   "outputs": [],
   "source": [
    "calypso_bate_pb = calypso_bate_pb[calypso_bate_pb['quantidade'].isnull()==False]"
   ]
  },
  {
   "cell_type": "code",
   "execution_count": 46,
   "metadata": {
    "collapsed": true
   },
   "outputs": [],
   "source": [
    "# Sobra de origem são os tickers que estavam no Calypso, mas não tinham correspondência no pb\n",
    "sobra_origem = calypso_batimento[~calypso_batimento['id'].isin(calypso_bate_pb['id'].dropna().drop_duplicates())]"
   ]
  },
  {
   "cell_type": "code",
   "execution_count": 47,
   "metadata": {
    "collapsed": false
   },
   "outputs": [
    {
     "name": "stdout",
     "output_type": "stream",
     "text": [
      "7.975581587196833 pct dos trades estão no prime broker, mas não acharam correspondência no Calypso\n",
      "1.3965986635081145 pct dos trades foram achados no calypso, mas não têm correspondência no prime broker\n"
     ]
    }
   ],
   "source": [
    "pct_in_pb_not_in_calypso = (1-calypso_bate_pb.shape[0]/pb_month.shape[0])*100\n",
    "pct_in_calypso_not_in_pb=calypso_batimento[~calypso_batimento['id'].isin(calypso_bate_pb['id'].dropna().drop_duplicates())].shape[0]/\\\n",
    "                                calypso_batimento.shape[0]*100 \n",
    "texto_1 = '%s pct dos trades estão no prime broker, mas não acharam correspondência no Calypso' % pct_in_pb_not_in_calypso\n",
    "texto_2 = '%s pct dos trades foram achados no calypso, mas não têm correspondência no prime broker' % pct_in_calypso_not_in_pb\n",
    "\n",
    "print (texto_1)\n",
    "print(texto_2)"
   ]
  },
  {
   "cell_type": "code",
   "execution_count": 48,
   "metadata": {
    "collapsed": false
   },
   "outputs": [],
   "source": [
    "batido = calypso_bate_pb[calypso_bate_pb['qt']==calypso_bate_pb['quantidade']].copy()\n",
    "batido['status']='batido'\n",
    "divergentes = calypso_bate_pb[calypso_bate_pb['qt']!=calypso_bate_pb['quantidade']].copy()\n",
    "corrigidos = divergentes[((divergentes['ticker'].isin(ticker_diffs['stock']))&(divergentes['acc']!='ubs_cayman'))].copy()\n",
    "corrigidos['status'] = 'corrigido'\n",
    "n_batidos = divergentes[~((divergentes['ticker'].isin(ticker_diffs['stock']))&(divergentes['acc']!='ubs_cayman'))].copy()\n",
    "n_batidos['status']='n_batido'\n",
    "distribuidos = pd.concat([batido, corrigidos, n_batidos], axis=0)"
   ]
  },
  {
   "cell_type": "code",
   "execution_count": null,
   "metadata": {
    "collapsed": true
   },
   "outputs": [],
   "source": []
  },
  {
   "cell_type": "markdown",
   "metadata": {},
   "source": [
    "### Distribuição por books"
   ]
  },
  {
   "cell_type": "code",
   "execution_count": 49,
   "metadata": {
    "collapsed": false
   },
   "outputs": [],
   "source": [
    "calypso_month_books = calypso.copy()"
   ]
  },
  {
   "cell_type": "code",
   "execution_count": 50,
   "metadata": {
    "collapsed": true
   },
   "outputs": [],
   "source": [
    "calypso_month_books = pd.merge(calypso_month_books, calypso_batimento.drop('id', axis=1), \\\n",
    "                               on=['acc','data_ref','ticker','currency'], how='left').rename(columns={\n",
    "    'quantidade_x':'quantidade_book',\n",
    "    'quantidade_y':'quantidade_ticker'\n",
    "})"
   ]
  },
  {
   "cell_type": "code",
   "execution_count": 51,
   "metadata": {
    "collapsed": false
   },
   "outputs": [],
   "source": [
    "check_3 = calypso_month_books.shape[0]-calypso.shape[0]\n",
    "if check_3 != 0:\n",
    "    print ('%s linhas foram adicionadas durante o merge. Favor verificar quais erros aconteceram.' %check_3)"
   ]
  },
  {
   "cell_type": "code",
   "execution_count": 52,
   "metadata": {
    "collapsed": true
   },
   "outputs": [],
   "source": [
    "calypso_month_books = calypso_month_books[calypso_month_books['quantidade_ticker'].isnull()==False]"
   ]
  },
  {
   "cell_type": "code",
   "execution_count": 53,
   "metadata": {
    "collapsed": false
   },
   "outputs": [],
   "source": [
    "check_4 = calypso_month_books.shape[0]-calypso.shape[0]\n",
    "if check_4 != 0 :\n",
    "    print ('%s trades foram perdidos durante o merge. Favor ferificar quais erros aconteceram.' %check_4)"
   ]
  },
  {
   "cell_type": "code",
   "execution_count": 54,
   "metadata": {
    "collapsed": true
   },
   "outputs": [],
   "source": [
    "# Aqui a gente está adicionando a coluna de Accrual pros trades do calyspo\n",
    "calypso_month_books = pd.merge(calypso_month_books, distribuidos, on=['acc','data_ref','ticker','currency'], how='left')\n",
    "calypso_month_books = calypso_month_books[calypso_month_books['accrual'].isnull()==False]"
   ]
  },
  {
   "cell_type": "code",
   "execution_count": 55,
   "metadata": {
    "collapsed": false,
    "scrolled": false
   },
   "outputs": [
    {
     "name": "stdout",
     "output_type": "stream",
     "text": [
      "-4061 trades não foram encontrados durante a distribuição. Eles provavelmente não foram batidos.\n"
     ]
    }
   ],
   "source": [
    "check_5 = calypso_month_books.shape[0]-calypso.shape[0]\n",
    "print ('%s trades não foram encontrados durante a distribuição. Eles provavelmente não foram batidos.' %check_5)"
   ]
  },
  {
   "cell_type": "code",
   "execution_count": 56,
   "metadata": {
    "collapsed": false
   },
   "outputs": [
    {
     "name": "stdout",
     "output_type": "stream",
     "text": [
      "81924 linhas foram retiradas da base por terem quantidade zerada. Ainda restam 40181 linhas de operações.\n",
      "Ajustes na base do calypso estão prontos. Dados estão prontos para serem distribuídos entre os books.\n"
     ]
    }
   ],
   "source": [
    "calypso_month_books = calypso_month_books[calypso_month_books['quantidade_book']!=0]\n",
    "check_6 = calypso.shape[0]-calypso_month_books.shape[0]\n",
    "print ('''%s linhas foram retiradas da base por terem quantidade zerada. Ainda restam %s linhas de operações.\n",
    "Ajustes na base do calypso estão prontos. Dados estão prontos para serem distribuídos entre os books.''' \\\n",
    "                                                                       %(check_6, calypso_month_books.shape[0]))"
   ]
  },
  {
   "cell_type": "code",
   "execution_count": 57,
   "metadata": {
    "collapsed": true
   },
   "outputs": [],
   "source": [
    "por_conta = calypso_month_books.groupby(by=['conta_pb','data_ref','ticker','currency']).sum().reset_index()"
   ]
  },
  {
   "cell_type": "code",
   "execution_count": null,
   "metadata": {
    "collapsed": true
   },
   "outputs": [],
   "source": []
  },
  {
   "cell_type": "code",
   "execution_count": 58,
   "metadata": {
    "collapsed": false,
    "scrolled": true
   },
   "outputs": [],
   "source": [
    "# Juntando a quantidade por sub_account do pb para poder dropar as contas positivas (que estão net doadas)\n",
    "calypso_month_books = pd.merge(calypso_month_books, por_conta.drop(['year', 'qt', 'accrual',\\\n",
    "                                                                   'quantidade', 'id', 'quantidade_ticker'], axis=1), \\\n",
    "                                                       on=['conta_pb','data_ref','ticker','currency'], how='left')\\\n",
    ".rename(columns={\n",
    "    'quantidade_book_x':'quantidade_book',\n",
    "    'quantidade_book_y':'quantidade_conta_pb'\n",
    "})"
   ]
  },
  {
   "cell_type": "code",
   "execution_count": 59,
   "metadata": {
    "collapsed": true
   },
   "outputs": [],
   "source": [
    "calypso_month_books = calypso_month_books[calypso_month_books['quantidade_conta_pb']<0]"
   ]
  },
  {
   "cell_type": "code",
   "execution_count": 60,
   "metadata": {
    "collapsed": false
   },
   "outputs": [
    {
     "name": "stdout",
     "output_type": "stream",
     "text": [
      "Foram feitos os casamentos de trade por sub_account\n"
     ]
    }
   ],
   "source": [
    "calypso_month_books = calypso_month_books[calypso_month_books['accrual'].isnull()==False]\n",
    "print ('Foram feitos os casamentos de trade por sub_account')"
   ]
  },
  {
   "cell_type": "code",
   "execution_count": 61,
   "metadata": {
    "collapsed": false
   },
   "outputs": [],
   "source": [
    "abertura = calypso_month_books[calypso_month_books['id'].isin(distribuidos['id'].drop_duplicates())==True]\n",
    "trades_out_abertura = calypso_month_books[calypso_month_books['id'].isin(distribuidos['id'].drop_duplicates())==False]\n",
    "if trades_out_abertura.shape[0]!=0:\n",
    "    print('ATENÇãO!!! %s trades foram encontrados em ambas as bases, porém não foram distribuídos.'%trades_out_abertura.shape[0])"
   ]
  },
  {
   "cell_type": "code",
   "execution_count": 62,
   "metadata": {
    "collapsed": true
   },
   "outputs": [],
   "source": [
    "abertura = abertura.drop(['isin', 'cusip','month', 'year', 'quantidade', 'id'], axis=1)"
   ]
  },
  {
   "cell_type": "code",
   "execution_count": 63,
   "metadata": {
    "collapsed": false
   },
   "outputs": [],
   "source": [
    "abertura['percent'] = abertura['quantidade_book']/abertura['quantidade_ticker']"
   ]
  },
  {
   "cell_type": "code",
   "execution_count": 64,
   "metadata": {
    "collapsed": false
   },
   "outputs": [],
   "source": [
    "check_7 = abertura.groupby(by=['acc','data_ref','ticker','currency']).sum().reset_index()\n",
    "check_7 = check_7[np.isclose(check_7['percent'], 1)==False].shape[0]\n",
    "if check_7 != 0:\n",
    "    print ('O batimento não foi feito!!! %s contas somam valor diferente a 100\\%')"
   ]
  },
  {
   "cell_type": "code",
   "execution_count": 65,
   "metadata": {
    "collapsed": false
   },
   "outputs": [],
   "source": [
    "abertura['accrual_final'] = abertura['percent']*abertura['accrual']"
   ]
  },
  {
   "cell_type": "code",
   "execution_count": 66,
   "metadata": {
    "collapsed": false
   },
   "outputs": [],
   "source": [
    "abertura = abertura.drop(['conta_pb', 'quantidade_ticker', 'qt', 'accrual','quantidade_conta_pb', \n",
    "                          'percent'], axis=1).reset_index(drop=True)"
   ]
  },
  {
   "cell_type": "code",
   "execution_count": 67,
   "metadata": {
    "collapsed": true
   },
   "outputs": [],
   "source": [
    "# Tickers que estão batidos ou que foram corrigidos. Todos distribuídos\n",
    "abertura_batidos = abertura[abertura['status']!='n_batido']\n",
    "# Tickers que NÃO ESTÃO BATIDOS EM QUANTIDADE, mas que foram distribuídos, pois foram encontrados em ambas as bases\n",
    "abertura_n_batidos = abertura[abertura['status']=='n_batido']"
   ]
  },
  {
   "cell_type": "code",
   "execution_count": null,
   "metadata": {
    "collapsed": true
   },
   "outputs": [],
   "source": []
  },
  {
   "cell_type": "code",
   "execution_count": 68,
   "metadata": {
    "collapsed": true
   },
   "outputs": [],
   "source": [
    "bate_soma = abertura.groupby(by=['acc', 'currency']).sum().reset_index()\n",
    "bate_soma_pb = pb_month.groupby(by=['acc', 'currency']).sum().reset_index()"
   ]
  },
  {
   "cell_type": "code",
   "execution_count": 69,
   "metadata": {
    "collapsed": false,
    "scrolled": true
   },
   "outputs": [],
   "source": [
    "check_8 = pd.merge(bate_soma_pb, bate_soma, on=['acc', 'currency'], how='left').rename(columns={\n",
    "'qt':'quantidade_pb',\n",
    "'accrual':'custos_pb',\n",
    "'quantidade_book':'quantidade_calypso',\n",
    "'accrual_final':'custos_batidos'\n",
    "})\n",
    "check_8['bate_qt'] = check_8['quantidade_pb']-check_8['quantidade_calypso']\n",
    "check_8['bate_custos'] = check_8['custos_pb']-check_8['custos_batidos']\n",
    "check_8['bate_custos_pct'] = check_8['custos_pb']/check_8['custos_batidos']\n",
    "check_8 = check_8[['acc', 'currency', 'quantidade_pb', 'quantidade_calypso', 'bate_qt', 'custos_pb', 'custos_batidos',\n",
    "      'bate_custos', 'bate_custos_pct']]   "
   ]
  },
  {
   "cell_type": "code",
   "execution_count": 70,
   "metadata": {
    "collapsed": false,
    "scrolled": true
   },
   "outputs": [
    {
     "name": "stdout",
     "output_type": "stream",
     "text": [
      "3 contas tiveram diferença maior do que 5pct do valor do prime broker\n"
     ]
    }
   ],
   "source": [
    "check_9 = check_8[(check_8['bate_custos_pct']<0.95)|(check_8['bate_custos_pct']>1.05)].shape[0]\n",
    "if check_9!=0:\n",
    "    print('%s contas tiveram diferença maior do que 5pct do valor do prime broker' %check_9)"
   ]
  },
  {
   "cell_type": "code",
   "execution_count": 71,
   "metadata": {
    "collapsed": false
   },
   "outputs": [
    {
     "data": {
      "text/html": [
       "<div>\n",
       "<table border=\"1\" class=\"dataframe\">\n",
       "  <thead>\n",
       "    <tr style=\"text-align: right;\">\n",
       "      <th></th>\n",
       "      <th>acc</th>\n",
       "      <th>currency</th>\n",
       "      <th>custos_pb</th>\n",
       "      <th>custos_batidos</th>\n",
       "      <th>bate_custos</th>\n",
       "      <th>bate_custos_pct</th>\n",
       "    </tr>\n",
       "  </thead>\n",
       "  <tbody>\n",
       "    <tr>\n",
       "      <th>0</th>\n",
       "      <td>int_c</td>\n",
       "      <td>AUD</td>\n",
       "      <td>-21091.06</td>\n",
       "      <td>-21091.06</td>\n",
       "      <td>0.000000e+00</td>\n",
       "      <td>1.000000</td>\n",
       "    </tr>\n",
       "    <tr>\n",
       "      <th>1</th>\n",
       "      <td>int_c</td>\n",
       "      <td>CHF</td>\n",
       "      <td>-141.22</td>\n",
       "      <td>-141.22</td>\n",
       "      <td>0.000000e+00</td>\n",
       "      <td>1.000000</td>\n",
       "    </tr>\n",
       "    <tr>\n",
       "      <th>2</th>\n",
       "      <td>int_c</td>\n",
       "      <td>MXN</td>\n",
       "      <td>-5078.40</td>\n",
       "      <td>-5078.40</td>\n",
       "      <td>9.094947e-13</td>\n",
       "      <td>1.000000</td>\n",
       "    </tr>\n",
       "    <tr>\n",
       "      <th>3</th>\n",
       "      <td>int_c</td>\n",
       "      <td>USD</td>\n",
       "      <td>-121603.91</td>\n",
       "      <td>-121603.91</td>\n",
       "      <td>-2.910383e-11</td>\n",
       "      <td>1.000000</td>\n",
       "    </tr>\n",
       "    <tr>\n",
       "      <th>4</th>\n",
       "      <td>ms_cayman</td>\n",
       "      <td>CHF</td>\n",
       "      <td>-38.06</td>\n",
       "      <td>NaN</td>\n",
       "      <td>NaN</td>\n",
       "      <td>NaN</td>\n",
       "    </tr>\n",
       "    <tr>\n",
       "      <th>5</th>\n",
       "      <td>ms_cayman</td>\n",
       "      <td>EUR</td>\n",
       "      <td>-1199.73</td>\n",
       "      <td>-1198.15</td>\n",
       "      <td>-1.580000e+00</td>\n",
       "      <td>1.001319</td>\n",
       "    </tr>\n",
       "    <tr>\n",
       "      <th>6</th>\n",
       "      <td>ms_cayman</td>\n",
       "      <td>GBP</td>\n",
       "      <td>-9.38</td>\n",
       "      <td>-8.00</td>\n",
       "      <td>-1.380000e+00</td>\n",
       "      <td>1.172500</td>\n",
       "    </tr>\n",
       "    <tr>\n",
       "      <th>7</th>\n",
       "      <td>ms_cayman</td>\n",
       "      <td>MXN</td>\n",
       "      <td>-7912017.30</td>\n",
       "      <td>-7791583.94</td>\n",
       "      <td>-1.204334e+05</td>\n",
       "      <td>1.015457</td>\n",
       "    </tr>\n",
       "    <tr>\n",
       "      <th>8</th>\n",
       "      <td>ms_cayman</td>\n",
       "      <td>SEK</td>\n",
       "      <td>-17.52</td>\n",
       "      <td>-17.52</td>\n",
       "      <td>0.000000e+00</td>\n",
       "      <td>1.000000</td>\n",
       "    </tr>\n",
       "    <tr>\n",
       "      <th>9</th>\n",
       "      <td>ms_cayman</td>\n",
       "      <td>USD</td>\n",
       "      <td>-1385614.27</td>\n",
       "      <td>-1318190.00</td>\n",
       "      <td>-6.742427e+04</td>\n",
       "      <td>1.051149</td>\n",
       "    </tr>\n",
       "    <tr>\n",
       "      <th>10</th>\n",
       "      <td>ubs_cayman</td>\n",
       "      <td>MXN</td>\n",
       "      <td>-6315555.23</td>\n",
       "      <td>-6123472.07</td>\n",
       "      <td>-1.920832e+05</td>\n",
       "      <td>1.031368</td>\n",
       "    </tr>\n",
       "    <tr>\n",
       "      <th>11</th>\n",
       "      <td>ubs_cayman</td>\n",
       "      <td>USD</td>\n",
       "      <td>-93160.09</td>\n",
       "      <td>-88132.25</td>\n",
       "      <td>-5.027840e+03</td>\n",
       "      <td>1.057049</td>\n",
       "    </tr>\n",
       "  </tbody>\n",
       "</table>\n",
       "</div>"
      ],
      "text/plain": [
       "           acc currency   custos_pb  custos_batidos   bate_custos  \\\n",
       "0        int_c      AUD   -21091.06       -21091.06  0.000000e+00   \n",
       "1        int_c      CHF     -141.22         -141.22  0.000000e+00   \n",
       "2        int_c      MXN    -5078.40        -5078.40  9.094947e-13   \n",
       "3        int_c      USD  -121603.91      -121603.91 -2.910383e-11   \n",
       "4    ms_cayman      CHF      -38.06             NaN           NaN   \n",
       "5    ms_cayman      EUR    -1199.73        -1198.15 -1.580000e+00   \n",
       "6    ms_cayman      GBP       -9.38           -8.00 -1.380000e+00   \n",
       "7    ms_cayman      MXN -7912017.30     -7791583.94 -1.204334e+05   \n",
       "8    ms_cayman      SEK      -17.52          -17.52  0.000000e+00   \n",
       "9    ms_cayman      USD -1385614.27     -1318190.00 -6.742427e+04   \n",
       "10  ubs_cayman      MXN -6315555.23     -6123472.07 -1.920832e+05   \n",
       "11  ubs_cayman      USD   -93160.09       -88132.25 -5.027840e+03   \n",
       "\n",
       "    bate_custos_pct  \n",
       "0          1.000000  \n",
       "1          1.000000  \n",
       "2          1.000000  \n",
       "3          1.000000  \n",
       "4               NaN  \n",
       "5          1.001319  \n",
       "6          1.172500  \n",
       "7          1.015457  \n",
       "8          1.000000  \n",
       "9          1.051149  \n",
       "10         1.031368  \n",
       "11         1.057049  "
      ]
     },
     "execution_count": 71,
     "metadata": {},
     "output_type": "execute_result"
    }
   ],
   "source": [
    "check_8.drop(['quantidade_pb','quantidade_calypso','bate_qt'],axis=1)"
   ]
  },
  {
   "cell_type": "code",
   "execution_count": null,
   "metadata": {
    "collapsed": true
   },
   "outputs": [],
   "source": []
  },
  {
   "cell_type": "code",
   "execution_count": null,
   "metadata": {
    "collapsed": true
   },
   "outputs": [],
   "source": []
  },
  {
   "cell_type": "code",
   "execution_count": 67,
   "metadata": {
    "collapsed": false
   },
   "outputs": [],
   "source": [
    "abertura_batidos_ajustado = abertura_batidos.copy()"
   ]
  },
  {
   "cell_type": "code",
   "execution_count": 68,
   "metadata": {
    "collapsed": false
   },
   "outputs": [],
   "source": [
    "abertura_batidos_ajustado = abertura_batidos_ajustado.rename(columns={'accrual_final':'accrual'})"
   ]
  },
  {
   "cell_type": "code",
   "execution_count": 69,
   "metadata": {
    "collapsed": true
   },
   "outputs": [],
   "source": [
    "abertura_batidos_ajustado_neg = abertura_batidos_ajustado[abertura_batidos_ajustado['accrual']<0]"
   ]
  },
  {
   "cell_type": "code",
   "execution_count": 70,
   "metadata": {
    "collapsed": true
   },
   "outputs": [],
   "source": [
    "abertura_batidos_ajustado_posi = abertura_batidos_ajustado[abertura_batidos_ajustado['accrual']>=0]"
   ]
  },
  {
   "cell_type": "code",
   "execution_count": 71,
   "metadata": {
    "collapsed": true
   },
   "outputs": [],
   "source": [
    "ajuste_neg_grouped = abertura_batidos_ajustado_neg.groupby(by=['acc','currency']).sum().reset_index()"
   ]
  },
  {
   "cell_type": "code",
   "execution_count": null,
   "metadata": {
    "collapsed": true
   },
   "outputs": [],
   "source": []
  },
  {
   "cell_type": "code",
   "execution_count": 72,
   "metadata": {
    "collapsed": false
   },
   "outputs": [],
   "source": [
    "check_13 = abertura_batidos_ajustado_neg.shape[0]-\\\n",
    "                        pd.merge(abertura_batidos_ajustado_neg, ajuste_neg_grouped, on=['acc','currency'], how='left').shape[0]\n",
    "if check_13 != 0:\n",
    "    print ('%s linhas foram duplicadas durante o ajuste dos números negativos. Verificar!!' %check_13)"
   ]
  },
  {
   "cell_type": "code",
   "execution_count": 73,
   "metadata": {
    "collapsed": true
   },
   "outputs": [],
   "source": [
    "abertura_batidos_ajustado_neg = pd.merge(abertura_batidos_ajustado_neg, ajuste_neg_grouped, on=['acc','currency'], how='left')"
   ]
  },
  {
   "cell_type": "code",
   "execution_count": 74,
   "metadata": {
    "collapsed": true
   },
   "outputs": [],
   "source": [
    "abertura_batidos_ajustado_neg['pct'] = abertura_batidos_ajustado_neg['accrual_x']/abertura_batidos_ajustado_neg['accrual_y']"
   ]
  },
  {
   "cell_type": "code",
   "execution_count": 75,
   "metadata": {
    "collapsed": false
   },
   "outputs": [],
   "source": [
    "check_14 = abertura_batidos_ajustado_neg.groupby(by=['acc','currency']).sum().reset_index()\n",
    "check_14 = check_14[np.isclose(check_14['pct'], 1)==False].shape[0]\n",
    "if check_14 != 0:\n",
    "    print ('O batimento não foi feito!!! %s contas somam valor diferente a 100\\%')"
   ]
  },
  {
   "cell_type": "code",
   "execution_count": 76,
   "metadata": {
    "collapsed": true
   },
   "outputs": [],
   "source": [
    "abertura_batidos_ajustado_posi = abertura_batidos_ajustado_posi.groupby(by=['acc','currency']).sum().reset_index()"
   ]
  },
  {
   "cell_type": "code",
   "execution_count": 77,
   "metadata": {
    "collapsed": true
   },
   "outputs": [],
   "source": [
    "check_15 = abertura_batidos_ajustado_neg.shape[0]-\\\n",
    "                                    pd.merge(abertura_batidos_ajustado_neg, abertura_batidos_ajustado_posi, \\\n",
    "                                                         on=['acc','currency'], how='left').shape[0]\n",
    "if check_15 != 0:\n",
    "    print ('%s linhas foram duplicadas durante o ajuste de quantidades positivas!!!'%check_15)"
   ]
  },
  {
   "cell_type": "code",
   "execution_count": 78,
   "metadata": {
    "collapsed": true
   },
   "outputs": [],
   "source": [
    "abertura_batidos_ajustado_neg = pd.merge(abertura_batidos_ajustado_neg, abertura_batidos_ajustado_posi, \\\n",
    "                                         on=['acc','currency'], how='left').fillna(0)"
   ]
  },
  {
   "cell_type": "code",
   "execution_count": 79,
   "metadata": {
    "collapsed": false
   },
   "outputs": [],
   "source": [
    "abertura_batidos_ajustado_neg['distrib_positives'] = abertura_batidos_ajustado_neg['pct']\\\n",
    "                                                        *abertura_batidos_ajustado_neg['accrual']"
   ]
  },
  {
   "cell_type": "code",
   "execution_count": 80,
   "metadata": {
    "collapsed": true
   },
   "outputs": [],
   "source": [
    "abertura_batidos_ajustado_neg['accrual_final'] = abertura_batidos_ajustado_neg['accrual_x']+\\\n",
    "                                                        abertura_batidos_ajustado_neg['distrib_positives']"
   ]
  },
  {
   "cell_type": "code",
   "execution_count": 81,
   "metadata": {
    "collapsed": true
   },
   "outputs": [],
   "source": [
    "abertura_batidos_ajustado = abertura_batidos_ajustado_neg.drop(['accrual_x', 'accrual_y', 'pct', 'accrual', \n",
    "                                                          'distrib_positives'], axis=1)"
   ]
  },
  {
   "cell_type": "code",
   "execution_count": 82,
   "metadata": {
    "collapsed": true
   },
   "outputs": [],
   "source": [
    "abertura_batidos_consol = abertura_batidos_ajustado.groupby(['acc', 'book', 'currency'])\\\n",
    "                                        .sum().reset_index().drop(['quantidade_book','quantidade_book_y'], axis=1)\\\n",
    "    .rename(columns={'quantidade_book_x':'quantidade_book'})"
   ]
  },
  {
   "cell_type": "code",
   "execution_count": 83,
   "metadata": {
    "collapsed": false
   },
   "outputs": [],
   "source": [
    "data = abertura_batidos_ajustado.data_ref.max()"
   ]
  },
  {
   "cell_type": "code",
   "execution_count": 84,
   "metadata": {
    "collapsed": false
   },
   "outputs": [],
   "source": [
    "abertura_batidos_consol_dia = abertura_batidos_ajustado[abertura_batidos_ajustado.data_ref==\\\n",
    "                                                        abertura_batidos_ajustado.data_ref.max()]\\\n",
    "                                                            .groupby(['acc', 'book', 'currency']).sum().reset_index()\\\n",
    "                                                                .drop(['quantidade_book','quantidade_book_y'], axis=1)\\\n",
    "                                                                    .rename(columns={'quantidade_book_x':'quantidade_book'})"
   ]
  },
  {
   "cell_type": "markdown",
   "metadata": {},
   "source": [
    "### Abertura por WM"
   ]
  },
  {
   "cell_type": "code",
   "execution_count": null,
   "metadata": {
    "collapsed": true
   },
   "outputs": [],
   "source": []
  },
  {
   "cell_type": "code",
   "execution_count": 85,
   "metadata": {
    "collapsed": false
   },
   "outputs": [],
   "source": [
    "pb_wm = abertura[(abertura['book'].str.contains('PRIVATE'))\\\n",
    "                 |(abertura['book'].str.contains('CLIENT'))].copy()"
   ]
  },
  {
   "cell_type": "code",
   "execution_count": null,
   "metadata": {
    "collapsed": true
   },
   "outputs": [],
   "source": []
  },
  {
   "cell_type": "code",
   "execution_count": 86,
   "metadata": {
    "collapsed": false,
    "scrolled": true
   },
   "outputs": [],
   "source": [
    "calypso_wm = bdwm.copy()\n",
    "calypso_wm['tipo'] = 'WM' \n",
    "calypso_wm['date'] = pd.to_datetime(calypso_wm['date'])\n",
    "calypso_wm['month_number'] = calypso_wm['date'].dt.month\n",
    "calypso_wm['year'] = calypso_wm['date'].dt.year\n",
    "calypso_wm['month'] = calypso_wm['month_number'].map(months_dict)\n",
    "calypso_wm = calypso_wm[['Account Name','tipo', 'Agent','date', 'shares', 'Book', 'PRODUCT_CODE.TICKER', 'PRODUCT_CODE.ISIN', \n",
    "                   'PRODUCT_CODE.CUSIP', 'Product Currency', 'month', 'year', 'LE Name']].reset_index(drop=True)\n",
    "calypso_wm.columns = ['conta_pb','conta', 'agent', 'data_ref', 'quantidade', 'book', 'ticker', 'isin', 'cusip', \n",
    "              'currency', 'month', 'year', 'cliente']\n",
    "calypso_wm['quantidade'] = calypso_wm['quantidade'].replace(',','', regex=True).astype(float)"
   ]
  },
  {
   "cell_type": "code",
   "execution_count": 87,
   "metadata": {
    "collapsed": true
   },
   "outputs": [],
   "source": [
    "calypso_wm['quantidade'] = -1*calypso_wm['quantidade']"
   ]
  },
  {
   "cell_type": "code",
   "execution_count": 88,
   "metadata": {
    "collapsed": false,
    "scrolled": true
   },
   "outputs": [],
   "source": [
    "calypso_wm = calypso_wm[calypso_wm['quantidade']<0]"
   ]
  },
  {
   "cell_type": "code",
   "execution_count": 89,
   "metadata": {
    "collapsed": false
   },
   "outputs": [],
   "source": [
    "calypso_wm_grouped =calypso_wm.groupby(by=['data_ref', 'book', 'ticker', 'currency']).sum().reset_index()"
   ]
  },
  {
   "cell_type": "code",
   "execution_count": null,
   "metadata": {
    "collapsed": true
   },
   "outputs": [],
   "source": []
  },
  {
   "cell_type": "code",
   "execution_count": 90,
   "metadata": {
    "collapsed": true
   },
   "outputs": [],
   "source": [
    "check_17 = pb_wm.shape[0]-pd.merge(pb_wm, calypso_wm_grouped, on=['data_ref', 'book', 'ticker', 'currency'], how='left')\\\n",
    "                                                                                    .shape[0]\n",
    "if check_17!=0:\n",
    "    print ('%s linhas foram duplicadas durante o barimento de WM!!!! Verificar!' %check_17)"
   ]
  },
  {
   "cell_type": "code",
   "execution_count": 91,
   "metadata": {
    "collapsed": true
   },
   "outputs": [],
   "source": [
    "batimento_wm = pd.merge(pb_wm, calypso_wm_grouped, on=['data_ref', 'book', 'ticker', 'currency'], how='left')\\\n",
    "                                                                                    .drop('year', axis=1)"
   ]
  },
  {
   "cell_type": "code",
   "execution_count": 92,
   "metadata": {
    "collapsed": false,
    "scrolled": true
   },
   "outputs": [
    {
     "name": "stdout",
     "output_type": "stream",
     "text": [
      "Durante o batimento de WM, 0 trades ficaram como sobra de destino!!\n"
     ]
    }
   ],
   "source": [
    "batimento_wm_sobra_destino = batimento_wm[batimento_wm['quantidade'].isnull()==True].copy()\n",
    "print ('Durante o batimento de WM, %s trades ficaram como sobra de destino!!' %batimento_wm_sobra_destino.shape[0])\n",
    "\n",
    "batimento_wm_sobra_destino['status'] = 'n_batido'"
   ]
  },
  {
   "cell_type": "code",
   "execution_count": 93,
   "metadata": {
    "collapsed": false
   },
   "outputs": [],
   "source": [
    "batimento_wm = batimento_wm[batimento_wm['quantidade'].isnull()==False].copy()\n",
    "batimento_wm_batidos = batimento_wm[batimento_wm['quantidade_book']==batimento_wm['quantidade']].copy()\n",
    "\n",
    "batimento_wm_batidos['status'] = 'batido'"
   ]
  },
  {
   "cell_type": "code",
   "execution_count": 94,
   "metadata": {
    "collapsed": false
   },
   "outputs": [
    {
     "name": "stdout",
     "output_type": "stream",
     "text": [
      "Durante o batimento de WM, 0 trades ficaram com quantidade divergente!!\n"
     ]
    }
   ],
   "source": [
    "batimento_wm_divergentes = batimento_wm[batimento_wm['quantidade_book']!=batimento_wm['quantidade']].copy()\n",
    "print ('Durante o batimento de WM, %s trades ficaram com quantidade divergente!!' %batimento_wm_divergentes.shape[0])"
   ]
  },
  {
   "cell_type": "code",
   "execution_count": 95,
   "metadata": {
    "collapsed": true
   },
   "outputs": [],
   "source": [
    "batimento_wm_divergentes['status'] = 'divergente'"
   ]
  },
  {
   "cell_type": "code",
   "execution_count": 96,
   "metadata": {
    "collapsed": false
   },
   "outputs": [],
   "source": [
    "batimento_wm = pd.concat([batimento_wm_batidos, batimento_wm_divergentes], axis=0)"
   ]
  },
  {
   "cell_type": "code",
   "execution_count": 97,
   "metadata": {
    "collapsed": false
   },
   "outputs": [],
   "source": [
    "batimento_wm['id'] = range(0, batimento_wm.shape[0])"
   ]
  },
  {
   "cell_type": "code",
   "execution_count": 98,
   "metadata": {
    "collapsed": false
   },
   "outputs": [],
   "source": [
    "batimento_wm_distrib = pd.merge(calypso_wm, batimento_wm, on=['data_ref', 'book', 'ticker', 'currency'], how='left')\\\n",
    "[['conta_pb_x', 'agent_x', 'data_ref', 'quantidade_x', 'book', 'ticker', 'currency', 'cliente','quantidade_book', \n",
    "  'acc', 'status','accrual_final', 'id']].rename(columns={\n",
    "    'quantidade_book':'quantidade_ticker',\n",
    "    'quantidade_x':'quantidade_book',\n",
    "    'conta_pb_x':'conta_pb',\n",
    "    'agent_x':'agent',\n",
    "    'cliente':'conta'   \n",
    "})\n",
    "check_18 = batimento_wm_distrib.shape[0]-calypso_wm.shape[0]\n",
    "if check_18!=0:\n",
    "    print ('%s linhas foram duplicadas durante o ajuste de WM' %check_18)"
   ]
  },
  {
   "cell_type": "code",
   "execution_count": 99,
   "metadata": {
    "collapsed": false,
    "scrolled": true
   },
   "outputs": [
    {
     "name": "stdout",
     "output_type": "stream",
     "text": [
      "Durante o batimento de WM, 55 trades não foram distribuídos!!\n"
     ]
    },
    {
     "name": "stderr",
     "output_type": "stream",
     "text": [
      "C:\\ProgramData\\Anaconda3\\lib\\site-packages\\ipykernel\\__main__.py:1: UserWarning: Boolean Series key will be reindexed to match DataFrame index.\n",
      "  if __name__ == '__main__':\n"
     ]
    }
   ],
   "source": [
    "batimento_wm_sobra_origem = batimento_wm[~batimento_wm_distrib['id'].isin(batimento_wm['id'].copy().drop_duplicates())].copy()\n",
    "print ('Durante o batimento de WM, %s trades não foram distribuídos!!' %batimento_wm_sobra_origem.shape[0])"
   ]
  },
  {
   "cell_type": "code",
   "execution_count": 100,
   "metadata": {
    "collapsed": true
   },
   "outputs": [],
   "source": [
    "batimento_wm_distrib = batimento_wm_distrib.drop('id', axis=1)"
   ]
  },
  {
   "cell_type": "code",
   "execution_count": 101,
   "metadata": {
    "collapsed": false
   },
   "outputs": [],
   "source": [
    "n_batimento_wm_distrib = batimento_wm_distrib[batimento_wm_distrib['quantidade_ticker'].isnull()==True]\\\n",
    "                                                                .drop(['quantidade_ticker'], axis=1)"
   ]
  },
  {
   "cell_type": "code",
   "execution_count": 102,
   "metadata": {
    "collapsed": true
   },
   "outputs": [],
   "source": [
    "batimento_wm_distrib = batimento_wm_distrib[batimento_wm_distrib['quantidade_ticker'].isnull()==False]"
   ]
  },
  {
   "cell_type": "code",
   "execution_count": 103,
   "metadata": {
    "collapsed": true
   },
   "outputs": [],
   "source": [
    "batimento_wm_distrib['pct'] = batimento_wm_distrib['quantidade_book']/batimento_wm_distrib['quantidade_ticker']"
   ]
  },
  {
   "cell_type": "code",
   "execution_count": 104,
   "metadata": {
    "collapsed": false,
    "scrolled": true
   },
   "outputs": [
    {
     "data": {
      "text/html": [
       "<div>\n",
       "<table border=\"1\" class=\"dataframe\">\n",
       "  <thead>\n",
       "    <tr style=\"text-align: right;\">\n",
       "      <th></th>\n",
       "      <th></th>\n",
       "      <th></th>\n",
       "      <th></th>\n",
       "      <th>conta_pb</th>\n",
       "      <th>quantidade_book</th>\n",
       "      <th>quantidade_ticker</th>\n",
       "      <th>accrual_final</th>\n",
       "      <th>pct</th>\n",
       "    </tr>\n",
       "    <tr>\n",
       "      <th>data_ref</th>\n",
       "      <th>book</th>\n",
       "      <th>ticker</th>\n",
       "      <th>currency</th>\n",
       "      <th></th>\n",
       "      <th></th>\n",
       "      <th></th>\n",
       "      <th></th>\n",
       "      <th></th>\n",
       "    </tr>\n",
       "  </thead>\n",
       "  <tbody>\n",
       "    <tr>\n",
       "      <th rowspan=\"13\" valign=\"top\">2018-08-01</th>\n",
       "      <th rowspan=\"5\" valign=\"top\">BD_CLIENTS_UBS</th>\n",
       "      <th>BAP US</th>\n",
       "      <th>USD</th>\n",
       "      <td>1823956</td>\n",
       "      <td>-7500.0</td>\n",
       "      <td>-7500.0</td>\n",
       "      <td>76.190000</td>\n",
       "      <td>1.0</td>\n",
       "    </tr>\n",
       "    <tr>\n",
       "      <th>ENPH US</th>\n",
       "      <th>USD</th>\n",
       "      <td>214962</td>\n",
       "      <td>-80000.0</td>\n",
       "      <td>-80000.0</td>\n",
       "      <td>-37.270000</td>\n",
       "      <td>1.0</td>\n",
       "    </tr>\n",
       "    <tr>\n",
       "      <th>LTM US</th>\n",
       "      <th>USD</th>\n",
       "      <td>1823956</td>\n",
       "      <td>-55193.0</td>\n",
       "      <td>-55193.0</td>\n",
       "      <td>-29.620000</td>\n",
       "      <td>1.0</td>\n",
       "    </tr>\n",
       "    <tr>\n",
       "      <th>MELI US</th>\n",
       "      <th>USD</th>\n",
       "      <td>1823956</td>\n",
       "      <td>-5364.0</td>\n",
       "      <td>-5364.0</td>\n",
       "      <td>82.522329</td>\n",
       "      <td>1.0</td>\n",
       "    </tr>\n",
       "    <tr>\n",
       "      <th>PAGS US</th>\n",
       "      <th>USD</th>\n",
       "      <td>1823956</td>\n",
       "      <td>-1000.0</td>\n",
       "      <td>-1000.0</td>\n",
       "      <td>1.175130</td>\n",
       "      <td>1.0</td>\n",
       "    </tr>\n",
       "    <tr>\n",
       "      <th rowspan=\"8\" valign=\"top\">PRIVATE_DEFAULT_UBS</th>\n",
       "      <th>BOX US</th>\n",
       "      <th>USD</th>\n",
       "      <td>463312</td>\n",
       "      <td>-2000.0</td>\n",
       "      <td>-2000.0</td>\n",
       "      <td>2.100000</td>\n",
       "      <td>1.0</td>\n",
       "    </tr>\n",
       "    <tr>\n",
       "      <th>CAKE US</th>\n",
       "      <th>USD</th>\n",
       "      <td>1682709</td>\n",
       "      <td>-1000.0</td>\n",
       "      <td>-1000.0</td>\n",
       "      <td>1.700000</td>\n",
       "      <td>1.0</td>\n",
       "    </tr>\n",
       "    <tr>\n",
       "      <th>DRI US</th>\n",
       "      <th>USD</th>\n",
       "      <td>1682709</td>\n",
       "      <td>-600.0</td>\n",
       "      <td>-600.0</td>\n",
       "      <td>2.840000</td>\n",
       "      <td>1.0</td>\n",
       "    </tr>\n",
       "    <tr>\n",
       "      <th>LE US</th>\n",
       "      <th>USD</th>\n",
       "      <td>1682709</td>\n",
       "      <td>-1500.0</td>\n",
       "      <td>-1500.0</td>\n",
       "      <td>0.000000</td>\n",
       "      <td>1.0</td>\n",
       "    </tr>\n",
       "    <tr>\n",
       "      <th>MELI US</th>\n",
       "      <th>USD</th>\n",
       "      <td>1682709</td>\n",
       "      <td>-150.0</td>\n",
       "      <td>-150.0</td>\n",
       "      <td>2.307671</td>\n",
       "      <td>1.0</td>\n",
       "    </tr>\n",
       "    <tr>\n",
       "      <th>NFLX US</th>\n",
       "      <th>USD</th>\n",
       "      <td>46537</td>\n",
       "      <td>-1000.0</td>\n",
       "      <td>-1000.0</td>\n",
       "      <td>15.040000</td>\n",
       "      <td>1.0</td>\n",
       "    </tr>\n",
       "    <tr>\n",
       "      <th>PAGS US</th>\n",
       "      <th>USD</th>\n",
       "      <td>46537</td>\n",
       "      <td>-16000.0</td>\n",
       "      <td>-16000.0</td>\n",
       "      <td>18.802076</td>\n",
       "      <td>1.0</td>\n",
       "    </tr>\n",
       "    <tr>\n",
       "      <th>WU US</th>\n",
       "      <th>USD</th>\n",
       "      <td>1682709</td>\n",
       "      <td>-2500.0</td>\n",
       "      <td>-2500.0</td>\n",
       "      <td>2.240000</td>\n",
       "      <td>1.0</td>\n",
       "    </tr>\n",
       "    <tr>\n",
       "      <th rowspan=\"13\" valign=\"top\">2018-08-02</th>\n",
       "      <th rowspan=\"5\" valign=\"top\">BD_CLIENTS_UBS</th>\n",
       "      <th>BAP US</th>\n",
       "      <th>USD</th>\n",
       "      <td>1823956</td>\n",
       "      <td>-7500.0</td>\n",
       "      <td>-7500.0</td>\n",
       "      <td>75.420000</td>\n",
       "      <td>1.0</td>\n",
       "    </tr>\n",
       "    <tr>\n",
       "      <th>ENPH US</th>\n",
       "      <th>USD</th>\n",
       "      <td>214962</td>\n",
       "      <td>-80000.0</td>\n",
       "      <td>-80000.0</td>\n",
       "      <td>-38.000000</td>\n",
       "      <td>1.0</td>\n",
       "    </tr>\n",
       "    <tr>\n",
       "      <th>LTM US</th>\n",
       "      <th>USD</th>\n",
       "      <td>1823956</td>\n",
       "      <td>-55193.0</td>\n",
       "      <td>-55193.0</td>\n",
       "      <td>-29.300000</td>\n",
       "      <td>1.0</td>\n",
       "    </tr>\n",
       "    <tr>\n",
       "      <th>MELI US</th>\n",
       "      <th>USD</th>\n",
       "      <td>1823956</td>\n",
       "      <td>-5364.0</td>\n",
       "      <td>-5364.0</td>\n",
       "      <td>80.878303</td>\n",
       "      <td>1.0</td>\n",
       "    </tr>\n",
       "    <tr>\n",
       "      <th>PAGS US</th>\n",
       "      <th>USD</th>\n",
       "      <td>1823956</td>\n",
       "      <td>-1000.0</td>\n",
       "      <td>-1000.0</td>\n",
       "      <td>1.171107</td>\n",
       "      <td>1.0</td>\n",
       "    </tr>\n",
       "    <tr>\n",
       "      <th rowspan=\"8\" valign=\"top\">PRIVATE_DEFAULT_UBS</th>\n",
       "      <th>BOX US</th>\n",
       "      <th>USD</th>\n",
       "      <td>463312</td>\n",
       "      <td>-2000.0</td>\n",
       "      <td>-2000.0</td>\n",
       "      <td>2.190000</td>\n",
       "      <td>1.0</td>\n",
       "    </tr>\n",
       "    <tr>\n",
       "      <th>CAKE US</th>\n",
       "      <th>USD</th>\n",
       "      <td>1682709</td>\n",
       "      <td>-1000.0</td>\n",
       "      <td>-1000.0</td>\n",
       "      <td>1.740000</td>\n",
       "      <td>1.0</td>\n",
       "    </tr>\n",
       "    <tr>\n",
       "      <th>DRI US</th>\n",
       "      <th>USD</th>\n",
       "      <td>1682709</td>\n",
       "      <td>-600.0</td>\n",
       "      <td>-600.0</td>\n",
       "      <td>2.900000</td>\n",
       "      <td>1.0</td>\n",
       "    </tr>\n",
       "    <tr>\n",
       "      <th>LE US</th>\n",
       "      <th>USD</th>\n",
       "      <td>1682709</td>\n",
       "      <td>-1500.0</td>\n",
       "      <td>-1500.0</td>\n",
       "      <td>0.000000</td>\n",
       "      <td>1.0</td>\n",
       "    </tr>\n",
       "    <tr>\n",
       "      <th>MELI US</th>\n",
       "      <th>USD</th>\n",
       "      <td>1682709</td>\n",
       "      <td>-150.0</td>\n",
       "      <td>-150.0</td>\n",
       "      <td>2.261697</td>\n",
       "      <td>1.0</td>\n",
       "    </tr>\n",
       "    <tr>\n",
       "      <th>NFLX US</th>\n",
       "      <th>USD</th>\n",
       "      <td>46537</td>\n",
       "      <td>-1000.0</td>\n",
       "      <td>-1000.0</td>\n",
       "      <td>15.310000</td>\n",
       "      <td>1.0</td>\n",
       "    </tr>\n",
       "    <tr>\n",
       "      <th>PAGS US</th>\n",
       "      <th>USD</th>\n",
       "      <td>46537</td>\n",
       "      <td>-16000.0</td>\n",
       "      <td>-16000.0</td>\n",
       "      <td>18.737718</td>\n",
       "      <td>1.0</td>\n",
       "    </tr>\n",
       "    <tr>\n",
       "      <th>WU US</th>\n",
       "      <th>USD</th>\n",
       "      <td>1682709</td>\n",
       "      <td>-2500.0</td>\n",
       "      <td>-2500.0</td>\n",
       "      <td>2.290000</td>\n",
       "      <td>1.0</td>\n",
       "    </tr>\n",
       "    <tr>\n",
       "      <th rowspan=\"4\" valign=\"top\">2018-08-03</th>\n",
       "      <th rowspan=\"4\" valign=\"top\">BD_CLIENTS_UBS</th>\n",
       "      <th>BAP US</th>\n",
       "      <th>USD</th>\n",
       "      <td>1823956</td>\n",
       "      <td>-7500.0</td>\n",
       "      <td>-7500.0</td>\n",
       "      <td>232.230000</td>\n",
       "      <td>1.0</td>\n",
       "    </tr>\n",
       "    <tr>\n",
       "      <th>ENPH US</th>\n",
       "      <th>USD</th>\n",
       "      <td>214962</td>\n",
       "      <td>-63208.0</td>\n",
       "      <td>-63208.0</td>\n",
       "      <td>-84.690000</td>\n",
       "      <td>1.0</td>\n",
       "    </tr>\n",
       "    <tr>\n",
       "      <th>LTM US</th>\n",
       "      <th>USD</th>\n",
       "      <td>1823956</td>\n",
       "      <td>-55193.0</td>\n",
       "      <td>-55193.0</td>\n",
       "      <td>-90.150000</td>\n",
       "      <td>1.0</td>\n",
       "    </tr>\n",
       "    <tr>\n",
       "      <th>MELI US</th>\n",
       "      <th>USD</th>\n",
       "      <td>1823956</td>\n",
       "      <td>-5364.0</td>\n",
       "      <td>-5364.0</td>\n",
       "      <td>247.479434</td>\n",
       "      <td>1.0</td>\n",
       "    </tr>\n",
       "    <tr>\n",
       "      <th>...</th>\n",
       "      <th>...</th>\n",
       "      <th>...</th>\n",
       "      <th>...</th>\n",
       "      <td>...</td>\n",
       "      <td>...</td>\n",
       "      <td>...</td>\n",
       "      <td>...</td>\n",
       "      <td>...</td>\n",
       "    </tr>\n",
       "    <tr>\n",
       "      <th rowspan=\"15\" valign=\"top\">2018-08-10</th>\n",
       "      <th rowspan=\"6\" valign=\"top\">BD_CLIENTS_UBS</th>\n",
       "      <th>BSAC US</th>\n",
       "      <th>USD</th>\n",
       "      <td>424314</td>\n",
       "      <td>-9002.0</td>\n",
       "      <td>-9002.0</td>\n",
       "      <td>37.561840</td>\n",
       "      <td>1.0</td>\n",
       "    </tr>\n",
       "    <tr>\n",
       "      <th>ENIA US</th>\n",
       "      <th>USD</th>\n",
       "      <td>424314</td>\n",
       "      <td>-6600.0</td>\n",
       "      <td>-6600.0</td>\n",
       "      <td>7.050000</td>\n",
       "      <td>1.0</td>\n",
       "    </tr>\n",
       "    <tr>\n",
       "      <th>ENPH US</th>\n",
       "      <th>USD</th>\n",
       "      <td>214962</td>\n",
       "      <td>-63208.0</td>\n",
       "      <td>-63208.0</td>\n",
       "      <td>-82.710000</td>\n",
       "      <td>1.0</td>\n",
       "    </tr>\n",
       "    <tr>\n",
       "      <th>LTM US</th>\n",
       "      <th>USD</th>\n",
       "      <td>1823956</td>\n",
       "      <td>-55193.0</td>\n",
       "      <td>-55193.0</td>\n",
       "      <td>-79.770000</td>\n",
       "      <td>1.0</td>\n",
       "    </tr>\n",
       "    <tr>\n",
       "      <th>MELI US</th>\n",
       "      <th>USD</th>\n",
       "      <td>1823956</td>\n",
       "      <td>-5364.0</td>\n",
       "      <td>-5364.0</td>\n",
       "      <td>267.966529</td>\n",
       "      <td>1.0</td>\n",
       "    </tr>\n",
       "    <tr>\n",
       "      <th>PAGS US</th>\n",
       "      <th>USD</th>\n",
       "      <td>1823956</td>\n",
       "      <td>-1000.0</td>\n",
       "      <td>-1000.0</td>\n",
       "      <td>3.808954</td>\n",
       "      <td>1.0</td>\n",
       "    </tr>\n",
       "    <tr>\n",
       "      <th rowspan=\"9\" valign=\"top\">PRIVATE_DEFAULT_UBS</th>\n",
       "      <th>CAKE US</th>\n",
       "      <th>USD</th>\n",
       "      <td>1682709</td>\n",
       "      <td>-700.0</td>\n",
       "      <td>-700.0</td>\n",
       "      <td>3.600000</td>\n",
       "      <td>1.0</td>\n",
       "    </tr>\n",
       "    <tr>\n",
       "      <th>DRI US</th>\n",
       "      <th>USD</th>\n",
       "      <td>1682709</td>\n",
       "      <td>-600.0</td>\n",
       "      <td>-600.0</td>\n",
       "      <td>8.812281</td>\n",
       "      <td>1.0</td>\n",
       "    </tr>\n",
       "    <tr>\n",
       "      <th>KO US</th>\n",
       "      <th>USD</th>\n",
       "      <td>1682709</td>\n",
       "      <td>-700.0</td>\n",
       "      <td>-700.0</td>\n",
       "      <td>4.320000</td>\n",
       "      <td>1.0</td>\n",
       "    </tr>\n",
       "    <tr>\n",
       "      <th>LE US</th>\n",
       "      <th>USD</th>\n",
       "      <td>1682709</td>\n",
       "      <td>-1500.0</td>\n",
       "      <td>-1500.0</td>\n",
       "      <td>0.000000</td>\n",
       "      <td>1.0</td>\n",
       "    </tr>\n",
       "    <tr>\n",
       "      <th>MELI US</th>\n",
       "      <th>USD</th>\n",
       "      <td>1682709</td>\n",
       "      <td>-150.0</td>\n",
       "      <td>-150.0</td>\n",
       "      <td>7.493471</td>\n",
       "      <td>1.0</td>\n",
       "    </tr>\n",
       "    <tr>\n",
       "      <th>NFLX US</th>\n",
       "      <th>USD</th>\n",
       "      <td>46537</td>\n",
       "      <td>-1000.0</td>\n",
       "      <td>-1000.0</td>\n",
       "      <td>46.410000</td>\n",
       "      <td>1.0</td>\n",
       "    </tr>\n",
       "    <tr>\n",
       "      <th>PAGS US</th>\n",
       "      <th>USD</th>\n",
       "      <td>46537</td>\n",
       "      <td>-16000.0</td>\n",
       "      <td>-16000.0</td>\n",
       "      <td>60.943263</td>\n",
       "      <td>1.0</td>\n",
       "    </tr>\n",
       "    <tr>\n",
       "      <th>TSLA US</th>\n",
       "      <th>USD</th>\n",
       "      <td>1682709</td>\n",
       "      <td>-200.0</td>\n",
       "      <td>-200.0</td>\n",
       "      <td>-10.380000</td>\n",
       "      <td>1.0</td>\n",
       "    </tr>\n",
       "    <tr>\n",
       "      <th>WU US</th>\n",
       "      <th>USD</th>\n",
       "      <td>1682709</td>\n",
       "      <td>-2500.0</td>\n",
       "      <td>-2500.0</td>\n",
       "      <td>6.330000</td>\n",
       "      <td>1.0</td>\n",
       "    </tr>\n",
       "    <tr>\n",
       "      <th rowspan=\"15\" valign=\"top\">2018-08-13</th>\n",
       "      <th rowspan=\"6\" valign=\"top\">BD_CLIENTS_UBS</th>\n",
       "      <th>BAP US</th>\n",
       "      <th>USD</th>\n",
       "      <td>1823956</td>\n",
       "      <td>-7500.0</td>\n",
       "      <td>-7500.0</td>\n",
       "      <td>75.730000</td>\n",
       "      <td>1.0</td>\n",
       "    </tr>\n",
       "    <tr>\n",
       "      <th>BSAC US</th>\n",
       "      <th>USD</th>\n",
       "      <td>424314</td>\n",
       "      <td>-2500.0</td>\n",
       "      <td>-2500.0</td>\n",
       "      <td>1.617522</td>\n",
       "      <td>1.0</td>\n",
       "    </tr>\n",
       "    <tr>\n",
       "      <th>ENPH US</th>\n",
       "      <th>USD</th>\n",
       "      <td>214962</td>\n",
       "      <td>-63208.0</td>\n",
       "      <td>-63208.0</td>\n",
       "      <td>-24.380000</td>\n",
       "      <td>1.0</td>\n",
       "    </tr>\n",
       "    <tr>\n",
       "      <th>LTM US</th>\n",
       "      <th>USD</th>\n",
       "      <td>1823956</td>\n",
       "      <td>-100193.0</td>\n",
       "      <td>-100193.0</td>\n",
       "      <td>-61.490000</td>\n",
       "      <td>1.0</td>\n",
       "    </tr>\n",
       "    <tr>\n",
       "      <th>MELI US</th>\n",
       "      <th>USD</th>\n",
       "      <td>1823956</td>\n",
       "      <td>-5364.0</td>\n",
       "      <td>-5364.0</td>\n",
       "      <td>102.874270</td>\n",
       "      <td>1.0</td>\n",
       "    </tr>\n",
       "    <tr>\n",
       "      <th>PAGS US</th>\n",
       "      <th>USD</th>\n",
       "      <td>1823956</td>\n",
       "      <td>-1000.0</td>\n",
       "      <td>-1000.0</td>\n",
       "      <td>1.330475</td>\n",
       "      <td>1.0</td>\n",
       "    </tr>\n",
       "    <tr>\n",
       "      <th rowspan=\"9\" valign=\"top\">PRIVATE_DEFAULT_UBS</th>\n",
       "      <th>CAKE US</th>\n",
       "      <th>USD</th>\n",
       "      <td>1682709</td>\n",
       "      <td>-700.0</td>\n",
       "      <td>-700.0</td>\n",
       "      <td>1.220000</td>\n",
       "      <td>1.0</td>\n",
       "    </tr>\n",
       "    <tr>\n",
       "      <th>DRI US</th>\n",
       "      <th>USD</th>\n",
       "      <td>1682709</td>\n",
       "      <td>-600.0</td>\n",
       "      <td>-600.0</td>\n",
       "      <td>2.982456</td>\n",
       "      <td>1.0</td>\n",
       "    </tr>\n",
       "    <tr>\n",
       "      <th>KO US</th>\n",
       "      <th>USD</th>\n",
       "      <td>1682709</td>\n",
       "      <td>-700.0</td>\n",
       "      <td>-700.0</td>\n",
       "      <td>1.440000</td>\n",
       "      <td>1.0</td>\n",
       "    </tr>\n",
       "    <tr>\n",
       "      <th>LE US</th>\n",
       "      <th>USD</th>\n",
       "      <td>1682709</td>\n",
       "      <td>-1500.0</td>\n",
       "      <td>-1500.0</td>\n",
       "      <td>0.540000</td>\n",
       "      <td>1.0</td>\n",
       "    </tr>\n",
       "    <tr>\n",
       "      <th>MELI US</th>\n",
       "      <th>USD</th>\n",
       "      <td>1682709</td>\n",
       "      <td>-200.0</td>\n",
       "      <td>-200.0</td>\n",
       "      <td>3.835730</td>\n",
       "      <td>1.0</td>\n",
       "    </tr>\n",
       "    <tr>\n",
       "      <th>NFLX US</th>\n",
       "      <th>USD</th>\n",
       "      <td>46537</td>\n",
       "      <td>-1000.0</td>\n",
       "      <td>-1000.0</td>\n",
       "      <td>15.090000</td>\n",
       "      <td>1.0</td>\n",
       "    </tr>\n",
       "    <tr>\n",
       "      <th>PAGS US</th>\n",
       "      <th>USD</th>\n",
       "      <td>1729246</td>\n",
       "      <td>-16500.0</td>\n",
       "      <td>-33000.0</td>\n",
       "      <td>43.905688</td>\n",
       "      <td>1.0</td>\n",
       "    </tr>\n",
       "    <tr>\n",
       "      <th>TSLA US</th>\n",
       "      <th>USD</th>\n",
       "      <td>1682709</td>\n",
       "      <td>-200.0</td>\n",
       "      <td>-200.0</td>\n",
       "      <td>-2.410000</td>\n",
       "      <td>1.0</td>\n",
       "    </tr>\n",
       "    <tr>\n",
       "      <th>WU US</th>\n",
       "      <th>USD</th>\n",
       "      <td>1682709</td>\n",
       "      <td>-2500.0</td>\n",
       "      <td>-2500.0</td>\n",
       "      <td>2.100000</td>\n",
       "      <td>1.0</td>\n",
       "    </tr>\n",
       "  </tbody>\n",
       "</table>\n",
       "<p>126 rows × 5 columns</p>\n",
       "</div>"
      ],
      "text/plain": [
       "                                                 conta_pb  quantidade_book  \\\n",
       "data_ref   book                ticker  currency                              \n",
       "2018-08-01 BD_CLIENTS_UBS      BAP US  USD        1823956          -7500.0   \n",
       "                               ENPH US USD         214962         -80000.0   \n",
       "                               LTM US  USD        1823956         -55193.0   \n",
       "                               MELI US USD        1823956          -5364.0   \n",
       "                               PAGS US USD        1823956          -1000.0   \n",
       "           PRIVATE_DEFAULT_UBS BOX US  USD         463312          -2000.0   \n",
       "                               CAKE US USD        1682709          -1000.0   \n",
       "                               DRI US  USD        1682709           -600.0   \n",
       "                               LE US   USD        1682709          -1500.0   \n",
       "                               MELI US USD        1682709           -150.0   \n",
       "                               NFLX US USD          46537          -1000.0   \n",
       "                               PAGS US USD          46537         -16000.0   \n",
       "                               WU US   USD        1682709          -2500.0   \n",
       "2018-08-02 BD_CLIENTS_UBS      BAP US  USD        1823956          -7500.0   \n",
       "                               ENPH US USD         214962         -80000.0   \n",
       "                               LTM US  USD        1823956         -55193.0   \n",
       "                               MELI US USD        1823956          -5364.0   \n",
       "                               PAGS US USD        1823956          -1000.0   \n",
       "           PRIVATE_DEFAULT_UBS BOX US  USD         463312          -2000.0   \n",
       "                               CAKE US USD        1682709          -1000.0   \n",
       "                               DRI US  USD        1682709           -600.0   \n",
       "                               LE US   USD        1682709          -1500.0   \n",
       "                               MELI US USD        1682709           -150.0   \n",
       "                               NFLX US USD          46537          -1000.0   \n",
       "                               PAGS US USD          46537         -16000.0   \n",
       "                               WU US   USD        1682709          -2500.0   \n",
       "2018-08-03 BD_CLIENTS_UBS      BAP US  USD        1823956          -7500.0   \n",
       "                               ENPH US USD         214962         -63208.0   \n",
       "                               LTM US  USD        1823956         -55193.0   \n",
       "                               MELI US USD        1823956          -5364.0   \n",
       "...                                                   ...              ...   \n",
       "2018-08-10 BD_CLIENTS_UBS      BSAC US USD         424314          -9002.0   \n",
       "                               ENIA US USD         424314          -6600.0   \n",
       "                               ENPH US USD         214962         -63208.0   \n",
       "                               LTM US  USD        1823956         -55193.0   \n",
       "                               MELI US USD        1823956          -5364.0   \n",
       "                               PAGS US USD        1823956          -1000.0   \n",
       "           PRIVATE_DEFAULT_UBS CAKE US USD        1682709           -700.0   \n",
       "                               DRI US  USD        1682709           -600.0   \n",
       "                               KO US   USD        1682709           -700.0   \n",
       "                               LE US   USD        1682709          -1500.0   \n",
       "                               MELI US USD        1682709           -150.0   \n",
       "                               NFLX US USD          46537          -1000.0   \n",
       "                               PAGS US USD          46537         -16000.0   \n",
       "                               TSLA US USD        1682709           -200.0   \n",
       "                               WU US   USD        1682709          -2500.0   \n",
       "2018-08-13 BD_CLIENTS_UBS      BAP US  USD        1823956          -7500.0   \n",
       "                               BSAC US USD         424314          -2500.0   \n",
       "                               ENPH US USD         214962         -63208.0   \n",
       "                               LTM US  USD        1823956        -100193.0   \n",
       "                               MELI US USD        1823956          -5364.0   \n",
       "                               PAGS US USD        1823956          -1000.0   \n",
       "           PRIVATE_DEFAULT_UBS CAKE US USD        1682709           -700.0   \n",
       "                               DRI US  USD        1682709           -600.0   \n",
       "                               KO US   USD        1682709           -700.0   \n",
       "                               LE US   USD        1682709          -1500.0   \n",
       "                               MELI US USD        1682709           -200.0   \n",
       "                               NFLX US USD          46537          -1000.0   \n",
       "                               PAGS US USD        1729246         -16500.0   \n",
       "                               TSLA US USD        1682709           -200.0   \n",
       "                               WU US   USD        1682709          -2500.0   \n",
       "\n",
       "                                                 quantidade_ticker  \\\n",
       "data_ref   book                ticker  currency                      \n",
       "2018-08-01 BD_CLIENTS_UBS      BAP US  USD                 -7500.0   \n",
       "                               ENPH US USD                -80000.0   \n",
       "                               LTM US  USD                -55193.0   \n",
       "                               MELI US USD                 -5364.0   \n",
       "                               PAGS US USD                 -1000.0   \n",
       "           PRIVATE_DEFAULT_UBS BOX US  USD                 -2000.0   \n",
       "                               CAKE US USD                 -1000.0   \n",
       "                               DRI US  USD                  -600.0   \n",
       "                               LE US   USD                 -1500.0   \n",
       "                               MELI US USD                  -150.0   \n",
       "                               NFLX US USD                 -1000.0   \n",
       "                               PAGS US USD                -16000.0   \n",
       "                               WU US   USD                 -2500.0   \n",
       "2018-08-02 BD_CLIENTS_UBS      BAP US  USD                 -7500.0   \n",
       "                               ENPH US USD                -80000.0   \n",
       "                               LTM US  USD                -55193.0   \n",
       "                               MELI US USD                 -5364.0   \n",
       "                               PAGS US USD                 -1000.0   \n",
       "           PRIVATE_DEFAULT_UBS BOX US  USD                 -2000.0   \n",
       "                               CAKE US USD                 -1000.0   \n",
       "                               DRI US  USD                  -600.0   \n",
       "                               LE US   USD                 -1500.0   \n",
       "                               MELI US USD                  -150.0   \n",
       "                               NFLX US USD                 -1000.0   \n",
       "                               PAGS US USD                -16000.0   \n",
       "                               WU US   USD                 -2500.0   \n",
       "2018-08-03 BD_CLIENTS_UBS      BAP US  USD                 -7500.0   \n",
       "                               ENPH US USD                -63208.0   \n",
       "                               LTM US  USD                -55193.0   \n",
       "                               MELI US USD                 -5364.0   \n",
       "...                                                            ...   \n",
       "2018-08-10 BD_CLIENTS_UBS      BSAC US USD                 -9002.0   \n",
       "                               ENIA US USD                 -6600.0   \n",
       "                               ENPH US USD                -63208.0   \n",
       "                               LTM US  USD                -55193.0   \n",
       "                               MELI US USD                 -5364.0   \n",
       "                               PAGS US USD                 -1000.0   \n",
       "           PRIVATE_DEFAULT_UBS CAKE US USD                  -700.0   \n",
       "                               DRI US  USD                  -600.0   \n",
       "                               KO US   USD                  -700.0   \n",
       "                               LE US   USD                 -1500.0   \n",
       "                               MELI US USD                  -150.0   \n",
       "                               NFLX US USD                 -1000.0   \n",
       "                               PAGS US USD                -16000.0   \n",
       "                               TSLA US USD                  -200.0   \n",
       "                               WU US   USD                 -2500.0   \n",
       "2018-08-13 BD_CLIENTS_UBS      BAP US  USD                 -7500.0   \n",
       "                               BSAC US USD                 -2500.0   \n",
       "                               ENPH US USD                -63208.0   \n",
       "                               LTM US  USD               -100193.0   \n",
       "                               MELI US USD                 -5364.0   \n",
       "                               PAGS US USD                 -1000.0   \n",
       "           PRIVATE_DEFAULT_UBS CAKE US USD                  -700.0   \n",
       "                               DRI US  USD                  -600.0   \n",
       "                               KO US   USD                  -700.0   \n",
       "                               LE US   USD                 -1500.0   \n",
       "                               MELI US USD                  -200.0   \n",
       "                               NFLX US USD                 -1000.0   \n",
       "                               PAGS US USD                -33000.0   \n",
       "                               TSLA US USD                  -200.0   \n",
       "                               WU US   USD                 -2500.0   \n",
       "\n",
       "                                                 accrual_final  pct  \n",
       "data_ref   book                ticker  currency                      \n",
       "2018-08-01 BD_CLIENTS_UBS      BAP US  USD           76.190000  1.0  \n",
       "                               ENPH US USD          -37.270000  1.0  \n",
       "                               LTM US  USD          -29.620000  1.0  \n",
       "                               MELI US USD           82.522329  1.0  \n",
       "                               PAGS US USD            1.175130  1.0  \n",
       "           PRIVATE_DEFAULT_UBS BOX US  USD            2.100000  1.0  \n",
       "                               CAKE US USD            1.700000  1.0  \n",
       "                               DRI US  USD            2.840000  1.0  \n",
       "                               LE US   USD            0.000000  1.0  \n",
       "                               MELI US USD            2.307671  1.0  \n",
       "                               NFLX US USD           15.040000  1.0  \n",
       "                               PAGS US USD           18.802076  1.0  \n",
       "                               WU US   USD            2.240000  1.0  \n",
       "2018-08-02 BD_CLIENTS_UBS      BAP US  USD           75.420000  1.0  \n",
       "                               ENPH US USD          -38.000000  1.0  \n",
       "                               LTM US  USD          -29.300000  1.0  \n",
       "                               MELI US USD           80.878303  1.0  \n",
       "                               PAGS US USD            1.171107  1.0  \n",
       "           PRIVATE_DEFAULT_UBS BOX US  USD            2.190000  1.0  \n",
       "                               CAKE US USD            1.740000  1.0  \n",
       "                               DRI US  USD            2.900000  1.0  \n",
       "                               LE US   USD            0.000000  1.0  \n",
       "                               MELI US USD            2.261697  1.0  \n",
       "                               NFLX US USD           15.310000  1.0  \n",
       "                               PAGS US USD           18.737718  1.0  \n",
       "                               WU US   USD            2.290000  1.0  \n",
       "2018-08-03 BD_CLIENTS_UBS      BAP US  USD          232.230000  1.0  \n",
       "                               ENPH US USD          -84.690000  1.0  \n",
       "                               LTM US  USD          -90.150000  1.0  \n",
       "                               MELI US USD          247.479434  1.0  \n",
       "...                                                        ...  ...  \n",
       "2018-08-10 BD_CLIENTS_UBS      BSAC US USD           37.561840  1.0  \n",
       "                               ENIA US USD            7.050000  1.0  \n",
       "                               ENPH US USD          -82.710000  1.0  \n",
       "                               LTM US  USD          -79.770000  1.0  \n",
       "                               MELI US USD          267.966529  1.0  \n",
       "                               PAGS US USD            3.808954  1.0  \n",
       "           PRIVATE_DEFAULT_UBS CAKE US USD            3.600000  1.0  \n",
       "                               DRI US  USD            8.812281  1.0  \n",
       "                               KO US   USD            4.320000  1.0  \n",
       "                               LE US   USD            0.000000  1.0  \n",
       "                               MELI US USD            7.493471  1.0  \n",
       "                               NFLX US USD           46.410000  1.0  \n",
       "                               PAGS US USD           60.943263  1.0  \n",
       "                               TSLA US USD          -10.380000  1.0  \n",
       "                               WU US   USD            6.330000  1.0  \n",
       "2018-08-13 BD_CLIENTS_UBS      BAP US  USD           75.730000  1.0  \n",
       "                               BSAC US USD            1.617522  1.0  \n",
       "                               ENPH US USD          -24.380000  1.0  \n",
       "                               LTM US  USD          -61.490000  1.0  \n",
       "                               MELI US USD          102.874270  1.0  \n",
       "                               PAGS US USD            1.330475  1.0  \n",
       "           PRIVATE_DEFAULT_UBS CAKE US USD            1.220000  1.0  \n",
       "                               DRI US  USD            2.982456  1.0  \n",
       "                               KO US   USD            1.440000  1.0  \n",
       "                               LE US   USD            0.540000  1.0  \n",
       "                               MELI US USD            3.835730  1.0  \n",
       "                               NFLX US USD           15.090000  1.0  \n",
       "                               PAGS US USD           43.905688  1.0  \n",
       "                               TSLA US USD           -2.410000  1.0  \n",
       "                               WU US   USD            2.100000  1.0  \n",
       "\n",
       "[126 rows x 5 columns]"
      ]
     },
     "execution_count": 104,
     "metadata": {},
     "output_type": "execute_result"
    }
   ],
   "source": [
    "batimento_wm_distrib.groupby(by=['data_ref', 'book', 'ticker', 'currency']).sum()"
   ]
  },
  {
   "cell_type": "code",
   "execution_count": 105,
   "metadata": {
    "collapsed": true
   },
   "outputs": [],
   "source": [
    "batimento_wm_distrib['accrual'] = batimento_wm_distrib['accrual_final']*batimento_wm_distrib['pct']"
   ]
  },
  {
   "cell_type": "code",
   "execution_count": 106,
   "metadata": {
    "collapsed": false
   },
   "outputs": [],
   "source": [
    "batimento_wm_distrib = batimento_wm_distrib.drop(['quantidade_ticker', 'pct'], axis=1).rename(columns = {\n",
    "'accrual_final':'accrual_n_distrib'})"
   ]
  },
  {
   "cell_type": "code",
   "execution_count": 107,
   "metadata": {
    "collapsed": true
   },
   "outputs": [],
   "source": [
    "abertura_batidos_consol_wm = batimento_wm_distrib.copy()"
   ]
  },
  {
   "cell_type": "code",
   "execution_count": 108,
   "metadata": {
    "collapsed": false
   },
   "outputs": [],
   "source": [
    "abertura_batidos_consol_wm = abertura_batidos_consol_wm[abertura_batidos_consol_wm['accrual']!=0]"
   ]
  },
  {
   "cell_type": "code",
   "execution_count": 109,
   "metadata": {
    "collapsed": false
   },
   "outputs": [
    {
     "data": {
      "text/plain": [
       "\"total_wm = abertura_batidos_consol_wm.groupby(by=['acc','book','currency']).sum().reset_index()\\n\\ntotal_wm_calypso = abertura_batidos_consol[(abertura_batidos_consol['book'].str.contains('CLIENTS'))|                       (abertura_batidos_consol['book'].str.contains('PRIVATE'))].reset_index(drop=True)                                                                .groupby(by=['book', 'currency']).sum().reset_index()\\n\\ntotal_wm_n_distrib = pd.merge(total_wm, total_wm_calypso, on=['book','currency'], how='left').fillna(0)\\n\\nabertura_batidos_consol_wm\\n\\n\\n\\ntotal_wm_n_distrib['accrual_final_n_distrib'] = total_wm_n_distrib['accrual_final']-total_wm_n_distrib['accrual']\\n\\ntotal_wm_n_distrib = total_wm_n_distrib.drop(['accrual', 'accrual_final', 'quantidade_book_x','quantidade_book_y',\\n                                              'conta_pb'], axis=1)\\n\\nabertura_batidos_consol_wm = abertura_batidos_consol_wm.groupby(by=['book','conta','currency']).sum().reset_index()                                                .drop(['conta_pb','quantidade_book'], axis=1)\\n\\ntotal_wm_n_distrib['conta'] = 'OUTROS'\\ntotal_wm_n_distrib = total_wm_n_distrib.rename(columns={'accrual_final_n_distrib':'accrual'})\\n\\nabertura_batidos_consol_wm = abertura_batidos_consol_wm.groupby(by=['conta', 'book','currency']).sum().reset_index()\\nabertura_batidos_consol_wm['acc'] = 'ubs_cayman'\\n\\nabertura_batidos_consol_wm = pd.concat([total_wm_n_distrib, abertura_batidos_consol_wm], axis=0)\\n\\nabertura_batidos_consol_wm\""
      ]
     },
     "execution_count": 109,
     "metadata": {},
     "output_type": "execute_result"
    }
   ],
   "source": [
    "'''total_wm = abertura_batidos_consol_wm.groupby(by=['acc','book','currency']).sum().reset_index()\n",
    "\n",
    "total_wm_calypso = abertura_batidos_consol[(abertura_batidos_consol['book'].str.contains('CLIENTS'))|\\\n",
    "                       (abertura_batidos_consol['book'].str.contains('PRIVATE'))].reset_index(drop=True)\\\n",
    "                                                                .groupby(by=['book', 'currency']).sum().reset_index()\n",
    "\n",
    "total_wm_n_distrib = pd.merge(total_wm, total_wm_calypso, on=['book','currency'], how='left').fillna(0)\n",
    "\n",
    "abertura_batidos_consol_wm\n",
    "\n",
    "\n",
    "\n",
    "total_wm_n_distrib['accrual_final_n_distrib'] = total_wm_n_distrib['accrual_final']-total_wm_n_distrib['accrual']\n",
    "\n",
    "total_wm_n_distrib = total_wm_n_distrib.drop(['accrual', 'accrual_final', 'quantidade_book_x','quantidade_book_y',\n",
    "                                              'conta_pb'], axis=1)\n",
    "\n",
    "abertura_batidos_consol_wm = abertura_batidos_consol_wm.groupby(by=['book','conta','currency']).sum().reset_index()\\\n",
    "                                                .drop(['conta_pb','quantidade_book'], axis=1)\n",
    "\n",
    "total_wm_n_distrib['conta'] = 'OUTROS'\n",
    "total_wm_n_distrib = total_wm_n_distrib.rename(columns={'accrual_final_n_distrib':'accrual'})\n",
    "\n",
    "abertura_batidos_consol_wm = abertura_batidos_consol_wm.groupby(by=['conta', 'book','currency']).sum().reset_index()\n",
    "abertura_batidos_consol_wm['acc'] = 'ubs_cayman'\n",
    "\n",
    "abertura_batidos_consol_wm = pd.concat([total_wm_n_distrib, abertura_batidos_consol_wm], axis=0)\n",
    "\n",
    "abertura_batidos_consol_wm'''"
   ]
  },
  {
   "cell_type": "code",
   "execution_count": null,
   "metadata": {
    "collapsed": true
   },
   "outputs": [],
   "source": []
  },
  {
   "cell_type": "code",
   "execution_count": 110,
   "metadata": {
    "collapsed": false
   },
   "outputs": [],
   "source": [
    "abertura_batidos_consol_wm = abertura_batidos_consol_wm[['acc','conta','book','currency','accrual']]"
   ]
  },
  {
   "cell_type": "code",
   "execution_count": 111,
   "metadata": {
    "collapsed": false,
    "scrolled": true
   },
   "outputs": [],
   "source": [
    "abertura_batidos_consol = abertura_batidos_consol[['acc', 'book', 'currency', 'accrual_final']]"
   ]
  },
  {
   "cell_type": "code",
   "execution_count": 112,
   "metadata": {
    "collapsed": false
   },
   "outputs": [],
   "source": [
    "abertura_batidos_consol_dia = abertura_batidos_consol_dia.drop('quantidade_book', axis=1)"
   ]
  },
  {
   "cell_type": "markdown",
   "metadata": {},
   "source": [
    "# Resultados"
   ]
  },
  {
   "cell_type": "code",
   "execution_count": 113,
   "metadata": {
    "collapsed": false
   },
   "outputs": [],
   "source": [
    "string = str(data.year)+'-'+str(\"{:02}\".format(data.month))+'-'+str(\"{:02}\".format(data.day))"
   ]
  },
  {
   "cell_type": "code",
   "execution_count": 114,
   "metadata": {
    "collapsed": true
   },
   "outputs": [],
   "source": [
    "save_path = r'\\\\DRIOC0231PFS\\Apoio_SB\\Geral\\BD\\Aluguel_Offshore\\Arquivos diários'"
   ]
  },
  {
   "cell_type": "code",
   "execution_count": 115,
   "metadata": {
    "collapsed": false
   },
   "outputs": [],
   "source": [
    "subfolder = months_dict[pd.to_datetime(data).month]+str(pd.to_datetime(data).year)\n",
    "final_path = save_path+'\\\\'+subfolder+'\\\\'+string\n",
    "if os.path.isdir(save_path+'\\\\'+subfolder)==True:\n",
    "    if os.path.isdir(save_path+'\\\\'+subfolder+'\\\\'+string)==False:\n",
    "        os.mkdir(save_path+'\\\\'+subfolder+'\\\\'+string)\n",
    "else:\n",
    "    os.mkdir(save_path+'\\\\'+subfolder)\n",
    "    os.mkdir(save_path+'\\\\'+subfolder+'\\\\'+string)"
   ]
  },
  {
   "cell_type": "code",
   "execution_count": 116,
   "metadata": {
    "collapsed": false
   },
   "outputs": [
    {
     "data": {
      "text/plain": [
       "'\\\\\\\\DRIOC0231PFS\\\\Apoio_SB\\\\Geral\\\\BD\\\\Aluguel_Offshore\\\\Arquivos diários\\\\ago2018\\\\2018-08-13'"
      ]
     },
     "execution_count": 116,
     "metadata": {},
     "output_type": "execute_result"
    }
   ],
   "source": [
    "final_path"
   ]
  },
  {
   "cell_type": "code",
   "execution_count": 117,
   "metadata": {
    "collapsed": false
   },
   "outputs": [],
   "source": [
    "writer = pd.ExcelWriter(final_path+'\\\\batimento_alguel_offshore_'+string+'.xlsx')"
   ]
  },
  {
   "cell_type": "code",
   "execution_count": 118,
   "metadata": {
    "collapsed": true
   },
   "outputs": [],
   "source": [
    "abertura_batidos_consol.to_excel(writer, sheet_name = 'Custos Consolidados', index=False)"
   ]
  },
  {
   "cell_type": "code",
   "execution_count": 119,
   "metadata": {
    "collapsed": true
   },
   "outputs": [],
   "source": [
    "abertura_batidos_consol_wm.to_excel(writer, sheet_name = 'Distrib WM', index=False)"
   ]
  },
  {
   "cell_type": "code",
   "execution_count": 120,
   "metadata": {
    "collapsed": true
   },
   "outputs": [],
   "source": [
    "abertura_batidos_consol_dia.to_excel(writer, sheet_name = string, index=False)"
   ]
  },
  {
   "cell_type": "code",
   "execution_count": 121,
   "metadata": {
    "collapsed": false
   },
   "outputs": [],
   "source": [
    "writer.save()"
   ]
  },
  {
   "cell_type": "code",
   "execution_count": null,
   "metadata": {
    "collapsed": true
   },
   "outputs": [],
   "source": []
  },
  {
   "cell_type": "code",
   "execution_count": 122,
   "metadata": {
    "collapsed": true
   },
   "outputs": [],
   "source": [
    "writer_2 = pd.ExcelWriter(final_path+'\\\\batimento_alguel_offshore_sobras_'+string+'.xlsx')"
   ]
  },
  {
   "cell_type": "code",
   "execution_count": 123,
   "metadata": {
    "collapsed": false
   },
   "outputs": [],
   "source": [
    "abertura_n_batidos.to_excel(writer_2, sheet_name = 'abertura_n_batidos', index=False)\n",
    "sobra_origem.to_excel(writer_2, sheet_name = 'sobra_origem', index=False)\n",
    "#sobra_destino.to_excel(writer_2, sheet_name = 'sobra_destino', index=False)"
   ]
  },
  {
   "cell_type": "code",
   "execution_count": 124,
   "metadata": {
    "collapsed": false
   },
   "outputs": [],
   "source": [
    "writer_2.save()"
   ]
  },
  {
   "cell_type": "code",
   "execution_count": null,
   "metadata": {
    "collapsed": true
   },
   "outputs": [],
   "source": []
  },
  {
   "cell_type": "code",
   "execution_count": 125,
   "metadata": {
    "collapsed": false
   },
   "outputs": [],
   "source": [
    "lista_files = [final_path+'\\\\batimento_alguel_offshore_'+string+'.xlsx',\n",
    "               final_path+'\\\\batimento_alguel_offshore_sobras_'+string+'.xlsx']"
   ]
  },
  {
   "cell_type": "code",
   "execution_count": 126,
   "metadata": {
    "collapsed": true
   },
   "outputs": [],
   "source": [
    "email_sender('guilherme.correia@btgpactual.com', 'OL-equity-backoffice@btgpactual.com;OL-EQUITYBD@btgpactual.com;Analuisa.Godoy@btgpactual.com', \\\n",
    "             'Aluguel Offshore | Batimento Parcial - %s' %(string), \\\n",
    "             'Legenda: abertura_n_batidos são os que possuem diferença de quantidade. sobra_origem são os que tem no calypso e não no pb', \\\n",
    "             lista_files)"
   ]
  },
  {
   "cell_type": "code",
   "execution_count": null,
   "metadata": {
    "collapsed": true
   },
   "outputs": [],
   "source": []
  },
  {
   "cell_type": "code",
   "execution_count": null,
   "metadata": {
    "collapsed": true
   },
   "outputs": [],
   "source": []
  },
  {
   "cell_type": "code",
   "execution_count": null,
   "metadata": {
    "collapsed": true
   },
   "outputs": [],
   "source": []
  }
 ],
 "metadata": {
  "kernelspec": {
   "display_name": "Python 3",
   "language": "python",
   "name": "python3"
  },
  "language_info": {
   "codemirror_mode": {
    "name": "ipython",
    "version": 3
   },
   "file_extension": ".py",
   "mimetype": "text/x-python",
   "name": "python",
   "nbconvert_exporter": "python",
   "pygments_lexer": "ipython3",
   "version": "3.6.0"
  }
 },
 "nbformat": 4,
 "nbformat_minor": 2
}
