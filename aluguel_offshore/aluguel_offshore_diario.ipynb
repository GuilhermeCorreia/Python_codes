{
 "cells": [
  {
   "cell_type": "code",
   "execution_count": 1,
   "metadata": {
    "collapsed": false,
    "scrolled": true
   },
   "outputs": [],
   "source": [
    "%load_ext autoreload\n",
    "%autoreload 2\n",
    "\n",
    "import os\n",
    "import sys\n",
    "sys.path.append('%s/../' % os.getcwd())\n",
    "\n",
    "import datetime\n",
    "import pandas as pd\n",
    "import numpy as np\n",
    "import getpass"
   ]
  },
  {
   "cell_type": "code",
   "execution_count": 2,
   "metadata": {
    "collapsed": false
   },
   "outputs": [],
   "source": [
    "#importa as fórmulas do arquivo aluguel_offshore.py - note que este arquivo deverá estar na mesma pasta deste notebook\n",
    "from aluguel_offshore import *\n",
    "from confirmacoes.aux_emails import email_sender"
   ]
  },
  {
   "cell_type": "code",
   "execution_count": null,
   "metadata": {
    "collapsed": true
   },
   "outputs": [],
   "source": []
  },
  {
   "cell_type": "code",
   "execution_count": 3,
   "metadata": {
    "collapsed": true,
    "scrolled": true
   },
   "outputs": [],
   "source": [
    "#pasta em que estão os arquivos no seu computador.\n",
    "pasta = r'C:\\Users\\correigu\\OneDrive - Banco BTG Pactual S.A\\Desktop\\aqruivos_offshore'\n",
    "#pasta = r'C:\\Users\\correigu\\OneDrive - Banco BTG Pactual S.A\\Desktop\\aqruivos_offshore\\janfev'"
   ]
  },
  {
   "cell_type": "code",
   "execution_count": 4,
   "metadata": {
    "collapsed": false
   },
   "outputs": [],
   "source": [
    "data_inicio = pd.to_datetime('2018-01-01')\n",
    "data_final = pd.to_datetime('2018-08-30')"
   ]
  },
  {
   "cell_type": "code",
   "execution_count": null,
   "metadata": {
    "collapsed": true
   },
   "outputs": [],
   "source": []
  },
  {
   "cell_type": "code",
   "execution_count": 5,
   "metadata": {
    "collapsed": false
   },
   "outputs": [],
   "source": [
    "def pega_data_file(file):\n",
    "    lista_erros = []\n",
    "    try:\n",
    "        try:\n",
    "            data = pd.to_datetime(file[-12:-4], format='%Y%m%d')\n",
    "        except ValueError:\n",
    "            try:\n",
    "                data = pd.to_datetime(file[-14:-4], format='%Y-%m-%d')\n",
    "            except ValueError:\n",
    "                data = pd.to_datetime(file[-13:-5], format='%Y%m%d')    \n",
    "    except ValueError:\n",
    "        print ('O arquivo %s não possui data registrada' %(file))\n",
    "        data = 0\n",
    "    return data"
   ]
  },
  {
   "cell_type": "code",
   "execution_count": 6,
   "metadata": {
    "collapsed": false,
    "scrolled": true
   },
   "outputs": [
    {
     "name": "stdout",
     "output_type": "stream",
     "text": [
      "O arquivo Ajustes não possui data registrada\n",
      "O arquivo Ajustes não pôde ser comparado com os demais\n",
      "O arquivo old_v2 não possui data registrada\n",
      "O arquivo old_v2 não pôde ser comparado com os demais\n",
      "O arquivo tickers_diffs.xlsx não possui data registrada\n",
      "O arquivo tickers_diffs.xlsx não pôde ser comparado com os demais\n"
     ]
    }
   ],
   "source": [
    "lista_files = []\n",
    "for file in os.listdir(pasta):\n",
    "    data = pega_data_file(file)\n",
    "    \n",
    "    try:\n",
    "        if (data>=data_inicio)&(data<=data_final):\n",
    "            lista_files.append(pasta+'\\\\'+file)\n",
    "    except TypeError:\n",
    "        print ('O arquivo %s não pôde ser comparado com os demais' %(file))"
   ]
  },
  {
   "cell_type": "code",
   "execution_count": 7,
   "metadata": {
    "collapsed": false,
    "scrolled": false
   },
   "outputs": [
    {
     "name": "stdout",
     "output_type": "stream",
     "text": [
      "188 aqrivos do ubs importados\n",
      "342 aqrivos da morgan importados\n",
      "160 aqrivos do Calypso PROP+ASSET importados\n",
      "168 aqrivos do Calypso BD+WM importados\n",
      "180 aqrivos do Calypso INTC importados\n",
      "Wall time: 5min 25s\n"
     ]
    }
   ],
   "source": [
    "%%time\n",
    "ubs_count=0\n",
    "morgan_count=0\n",
    "pras_count=0\n",
    "bdwm_count=0\n",
    "intc_count=0     \n",
    "for file in lista_files:\n",
    "    if 'Ajuste' in file:\n",
    "        data = file[-14:-4]\n",
    "        try:\n",
    "            ubs\n",
    "        except:\n",
    "            ubs = pd.read_csv(file)\n",
    "            ubs['date']=data\n",
    "        else:\n",
    "            ubs_1 = pd.read_csv(file)\n",
    "            ubs_1['date']=data\n",
    "            ubs = pd.concat([ubs,ubs_1], axis=0)\n",
    "        ubs_count+=1\n",
    "\n",
    "    elif 'PROP+ASSET' in file:\n",
    "        try:\n",
    "            pras\n",
    "        except:\n",
    "            pras = pd.read_excel(file)\n",
    "            pras['date'] = pras.columns[7]\n",
    "            pras = pras.rename(columns={pras.columns[7]:'shares'})\n",
    "        else:\n",
    "            pras_1 = pd.read_excel(file)\n",
    "            pras_1['date'] = pras_1.columns[7]\n",
    "            pras_1 = pras_1.rename(columns={pras_1.columns[7]:'shares'})\n",
    "            pras = pd.concat([pras,pras_1], axis=0)\n",
    "\n",
    "        pras_count+=1\n",
    "\n",
    "    elif 'Aluguel INT C' in file:\n",
    "        try:\n",
    "            intc\n",
    "        except:\n",
    "            intc = pd.read_excel(file)\n",
    "            intc['date'] = intc.columns[7]\n",
    "            intc = intc.rename(columns={intc.columns[7]:'shares'})\n",
    "        else:\n",
    "            intc_1 = pd.read_excel(file)\n",
    "            intc_1['date'] = intc_1.columns[7]\n",
    "            intc_1 = intc_1.rename(columns={intc_1.columns[7]:'shares'})\n",
    "            intc = pd.concat([intc,intc_1], axis=0)\n",
    "\n",
    "        intc_count+=1\n",
    "\n",
    "    elif 'Clients BD+WM' in file:\n",
    "        try:\n",
    "            bdwm\n",
    "        except:\n",
    "            bdwm = pd.read_excel(file)\n",
    "            bdwm['date'] = bdwm.columns[31]\n",
    "            bdwm = bdwm.rename(columns={bdwm.columns[31]:'shares'})\n",
    "        else:\n",
    "            bdwm_1 = pd.read_excel(file)\n",
    "            bdwm_1['date'] = bdwm_1.columns[31]\n",
    "            bdwm_1 = bdwm_1.rename(columns={bdwm_1.columns[31]:'shares'})\n",
    "            bdwm = pd.concat([bdwm,bdwm_1], axis=0)\n",
    "\n",
    "        bdwm_count+=1\n",
    "\n",
    "    elif ('038CDBD08_IN150DX' in file)|('038CDB895_IN150DX' in file):\n",
    "        try:\n",
    "            morgan\n",
    "        except:\n",
    "            morgan = pd.read_csv(file, skipfooter=1, engine='python')\n",
    "        else:\n",
    "            morgan_1 = pd.read_csv(file, skipfooter=1, engine='python')\n",
    "            morgan = pd.concat([morgan, morgan_1], axis = 0)\n",
    "\n",
    "        morgan_count+=1\n",
    "\n",
    "\n",
    "ticker_diffs = pd.read_excel(pasta+'\\\\'+ 'tickers_diffs.xlsx')\n",
    "\n",
    "print(str(ubs_count) + ' aqrivos do ubs importados')\n",
    "print(str(morgan_count) + ' aqrivos da morgan importados')\n",
    "print(str(pras_count) + ' aqrivos do Calypso PROP+ASSET importados')\n",
    "print(str(bdwm_count) + ' aqrivos do Calypso BD+WM importados')\n",
    "print(str(intc_count) + ' aqrivos do Calypso INTC importados')"
   ]
  },
  {
   "cell_type": "code",
   "execution_count": null,
   "metadata": {
    "collapsed": true
   },
   "outputs": [],
   "source": []
  },
  {
   "cell_type": "markdown",
   "metadata": {},
   "source": [
    "# Ajustes base"
   ]
  },
  {
   "cell_type": "code",
   "execution_count": 8,
   "metadata": {
    "collapsed": true
   },
   "outputs": [],
   "source": [
    "ubs['date'] = pd.to_datetime(ubs['date'], format='%Y-%m-%d')\n",
    "ubs['date'] = np.where(ubs['date'].dt.weekday==6, ubs['date']-datetime.timedelta(2), ubs['date'])\n",
    "ubs['pb'] = 'ubs'\n",
    "ubs['month_number'] = ubs['date'].dt.month\n",
    "ubs['year'] = ubs['date'].dt.year\n",
    "ubs['month'] = ubs['month_number'].map(months_dict)\n",
    "ubs['cusip'] = np.nan"
   ]
  },
  {
   "cell_type": "code",
   "execution_count": 9,
   "metadata": {
    "collapsed": false
   },
   "outputs": [
    {
     "data": {
      "text/html": [
       "<div>\n",
       "<table border=\"1\" class=\"dataframe\">\n",
       "  <thead>\n",
       "    <tr style=\"text-align: right;\">\n",
       "      <th></th>\n",
       "      <th>Account Name</th>\n",
       "      <th>Reference Account Id</th>\n",
       "      <th>Security Category</th>\n",
       "      <th>Billing CCY</th>\n",
       "      <th>FX Rate</th>\n",
       "      <th>Ticker</th>\n",
       "      <th>ISIN</th>\n",
       "      <th>SEDOL</th>\n",
       "      <th>Security Description</th>\n",
       "      <th>Quantity</th>\n",
       "      <th>...</th>\n",
       "      <th>Loan Value (Base CCY)</th>\n",
       "      <th>Daily Accrual</th>\n",
       "      <th>Borrow Value</th>\n",
       "      <th>Daily Accrual (Base CCY)</th>\n",
       "      <th>date</th>\n",
       "      <th>pb</th>\n",
       "      <th>month_number</th>\n",
       "      <th>year</th>\n",
       "      <th>month</th>\n",
       "      <th>cusip</th>\n",
       "    </tr>\n",
       "  </thead>\n",
       "  <tbody>\n",
       "    <tr>\n",
       "      <th>0</th>\n",
       "      <td>Banco BTG Pactual S.A. 2</td>\n",
       "      <td>75201835</td>\n",
       "      <td>US - HOT</td>\n",
       "      <td>USD</td>\n",
       "      <td>1.00000</td>\n",
       "      <td>HP</td>\n",
       "      <td>US4234521015</td>\n",
       "      <td>2420101</td>\n",
       "      <td>HELMERICH &amp; PAYNE.</td>\n",
       "      <td>500</td>\n",
       "      <td>...</td>\n",
       "      <td>32320</td>\n",
       "      <td>(0.22)</td>\n",
       "      <td>32320.00</td>\n",
       "      <td>-0.22</td>\n",
       "      <td>2018-01-01</td>\n",
       "      <td>ubs</td>\n",
       "      <td>1</td>\n",
       "      <td>2018</td>\n",
       "      <td>jan</td>\n",
       "      <td>NaN</td>\n",
       "    </tr>\n",
       "    <tr>\n",
       "      <th>1</th>\n",
       "      <td>Banco BTG Pactual S.A. 3</td>\n",
       "      <td>75202213</td>\n",
       "      <td>US - HOT</td>\n",
       "      <td>USD</td>\n",
       "      <td>1.00000</td>\n",
       "      <td>HYG</td>\n",
       "      <td>US4642885135</td>\n",
       "      <td>B1VZ486</td>\n",
       "      <td>ISHARES TRUST FUNDS HYG....</td>\n",
       "      <td>210475</td>\n",
       "      <td>...</td>\n",
       "      <td>1.8366e+07</td>\n",
       "      <td>(127.54)</td>\n",
       "      <td>18366048.50</td>\n",
       "      <td>-127.54</td>\n",
       "      <td>2018-01-01</td>\n",
       "      <td>ubs</td>\n",
       "      <td>1</td>\n",
       "      <td>2018</td>\n",
       "      <td>jan</td>\n",
       "      <td>NaN</td>\n",
       "    </tr>\n",
       "    <tr>\n",
       "      <th>2</th>\n",
       "      <td>Banco BTG Pactual S.A. 3</td>\n",
       "      <td>75202213</td>\n",
       "      <td>US - HOT</td>\n",
       "      <td>USD</td>\n",
       "      <td>1.00000</td>\n",
       "      <td>ECH</td>\n",
       "      <td>US4642866408</td>\n",
       "      <td>B29FC81</td>\n",
       "      <td>ISHARES MSCI CHILE ETF</td>\n",
       "      <td>9930</td>\n",
       "      <td>...</td>\n",
       "      <td>517949</td>\n",
       "      <td>(17.98)</td>\n",
       "      <td>517948.80</td>\n",
       "      <td>-17.98</td>\n",
       "      <td>2018-01-01</td>\n",
       "      <td>ubs</td>\n",
       "      <td>1</td>\n",
       "      <td>2018</td>\n",
       "      <td>jan</td>\n",
       "      <td>NaN</td>\n",
       "    </tr>\n",
       "    <tr>\n",
       "      <th>3</th>\n",
       "      <td>Banco BTG Pactual S.A. 3</td>\n",
       "      <td>75202213</td>\n",
       "      <td>US - GC</td>\n",
       "      <td>USD</td>\n",
       "      <td>1.00000</td>\n",
       "      <td>SPY</td>\n",
       "      <td>US78462F1030</td>\n",
       "      <td>2840215</td>\n",
       "      <td>SPDR S&amp;P 500 UNITS SER 1 NPV</td>\n",
       "      <td>7700</td>\n",
       "      <td>...</td>\n",
       "      <td>2.05482e+06</td>\n",
       "      <td>63.93</td>\n",
       "      <td>2054822.00</td>\n",
       "      <td>63.93</td>\n",
       "      <td>2018-01-01</td>\n",
       "      <td>ubs</td>\n",
       "      <td>1</td>\n",
       "      <td>2018</td>\n",
       "      <td>jan</td>\n",
       "      <td>NaN</td>\n",
       "    </tr>\n",
       "    <tr>\n",
       "      <th>4</th>\n",
       "      <td>Banco BTG Pactual S.A. 3</td>\n",
       "      <td>75202213</td>\n",
       "      <td>US - HOT</td>\n",
       "      <td>USD</td>\n",
       "      <td>1.00000</td>\n",
       "      <td>EWZ</td>\n",
       "      <td>US4642864007</td>\n",
       "      <td>2726014</td>\n",
       "      <td>ISHARES INC.......</td>\n",
       "      <td>70510</td>\n",
       "      <td>...</td>\n",
       "      <td>2.85213e+06</td>\n",
       "      <td>59.42</td>\n",
       "      <td>2852129.50</td>\n",
       "      <td>59.42</td>\n",
       "      <td>2018-01-01</td>\n",
       "      <td>ubs</td>\n",
       "      <td>1</td>\n",
       "      <td>2018</td>\n",
       "      <td>jan</td>\n",
       "      <td>NaN</td>\n",
       "    </tr>\n",
       "    <tr>\n",
       "      <th>5</th>\n",
       "      <td>Banco BTG Pactual S.A. 3</td>\n",
       "      <td>75202213</td>\n",
       "      <td>US - HOT</td>\n",
       "      <td>USD</td>\n",
       "      <td>1.00000</td>\n",
       "      <td>EWW</td>\n",
       "      <td>US4642868222</td>\n",
       "      <td>2373818</td>\n",
       "      <td>ISHARES INC..</td>\n",
       "      <td>36660</td>\n",
       "      <td>...</td>\n",
       "      <td>1.80697e+06</td>\n",
       "      <td>(62.74)</td>\n",
       "      <td>1806971.40</td>\n",
       "      <td>-62.74</td>\n",
       "      <td>2018-01-01</td>\n",
       "      <td>ubs</td>\n",
       "      <td>1</td>\n",
       "      <td>2018</td>\n",
       "      <td>jan</td>\n",
       "      <td>NaN</td>\n",
       "    </tr>\n",
       "    <tr>\n",
       "      <th>6</th>\n",
       "      <td>Banco BTG Pactual S.A. 3</td>\n",
       "      <td>75202213</td>\n",
       "      <td>US - GC</td>\n",
       "      <td>USD</td>\n",
       "      <td>1.00000</td>\n",
       "      <td>BAP</td>\n",
       "      <td>BMG2519Y1084</td>\n",
       "      <td>2232878</td>\n",
       "      <td>CREDICORP - ORD</td>\n",
       "      <td>69</td>\n",
       "      <td>...</td>\n",
       "      <td>14312.7</td>\n",
       "      <td>0.45</td>\n",
       "      <td>14312.67</td>\n",
       "      <td>0.45</td>\n",
       "      <td>2018-01-01</td>\n",
       "      <td>ubs</td>\n",
       "      <td>1</td>\n",
       "      <td>2018</td>\n",
       "      <td>jan</td>\n",
       "      <td>NaN</td>\n",
       "    </tr>\n",
       "    <tr>\n",
       "      <th>7</th>\n",
       "      <td>Banco BTG Pactual S.A. 3</td>\n",
       "      <td>75202213</td>\n",
       "      <td>US - HOT</td>\n",
       "      <td>USD</td>\n",
       "      <td>1.00000</td>\n",
       "      <td>AKO/B</td>\n",
       "      <td>US29081P3038</td>\n",
       "      <td>2299776</td>\n",
       "      <td>EMBOTELLADORA ANDINA-ADR B</td>\n",
       "      <td>1267</td>\n",
       "      <td>...</td>\n",
       "      <td>37097.8</td>\n",
       "      <td>(5.93)</td>\n",
       "      <td>37097.76</td>\n",
       "      <td>-5.93</td>\n",
       "      <td>2018-01-01</td>\n",
       "      <td>ubs</td>\n",
       "      <td>1</td>\n",
       "      <td>2018</td>\n",
       "      <td>jan</td>\n",
       "      <td>NaN</td>\n",
       "    </tr>\n",
       "    <tr>\n",
       "      <th>8</th>\n",
       "      <td>Banco BTG Pactual S.A. 3</td>\n",
       "      <td>75202213</td>\n",
       "      <td>US - HOT</td>\n",
       "      <td>USD</td>\n",
       "      <td>1.00000</td>\n",
       "      <td>GRAM</td>\n",
       "      <td>US38500P2083</td>\n",
       "      <td>BC9ZHV9</td>\n",
       "      <td>GRANA Y MONTERO SA ADR</td>\n",
       "      <td>21000</td>\n",
       "      <td>...</td>\n",
       "      <td>63000</td>\n",
       "      <td>(2.63)</td>\n",
       "      <td>63000.00</td>\n",
       "      <td>-2.63</td>\n",
       "      <td>2018-01-01</td>\n",
       "      <td>ubs</td>\n",
       "      <td>1</td>\n",
       "      <td>2018</td>\n",
       "      <td>jan</td>\n",
       "      <td>NaN</td>\n",
       "    </tr>\n",
       "    <tr>\n",
       "      <th>9</th>\n",
       "      <td>Banco BTG Pactual S.A. 5</td>\n",
       "      <td>75202215</td>\n",
       "      <td>US - HOT</td>\n",
       "      <td>USD</td>\n",
       "      <td>1.00000</td>\n",
       "      <td>SAM</td>\n",
       "      <td>US1005571070</td>\n",
       "      <td>2113393</td>\n",
       "      <td>BOSTON BEER CL A ORD</td>\n",
       "      <td>3660</td>\n",
       "      <td>...</td>\n",
       "      <td>699426</td>\n",
       "      <td>14.57</td>\n",
       "      <td>699426.00</td>\n",
       "      <td>14.57</td>\n",
       "      <td>2018-01-01</td>\n",
       "      <td>ubs</td>\n",
       "      <td>1</td>\n",
       "      <td>2018</td>\n",
       "      <td>jan</td>\n",
       "      <td>NaN</td>\n",
       "    </tr>\n",
       "    <tr>\n",
       "      <th>10</th>\n",
       "      <td>Banco BTG Pactual S.A. 5</td>\n",
       "      <td>75202215</td>\n",
       "      <td>US - GC</td>\n",
       "      <td>USD</td>\n",
       "      <td>1.00000</td>\n",
       "      <td>CPB</td>\n",
       "      <td>US1344291091</td>\n",
       "      <td>2162845</td>\n",
       "      <td>CAMPBELL SOUP ORD</td>\n",
       "      <td>13715</td>\n",
       "      <td>...</td>\n",
       "      <td>659829</td>\n",
       "      <td>20.53</td>\n",
       "      <td>659828.65</td>\n",
       "      <td>20.53</td>\n",
       "      <td>2018-01-01</td>\n",
       "      <td>ubs</td>\n",
       "      <td>1</td>\n",
       "      <td>2018</td>\n",
       "      <td>jan</td>\n",
       "      <td>NaN</td>\n",
       "    </tr>\n",
       "    <tr>\n",
       "      <th>11</th>\n",
       "      <td>Banco BTG Pactual S.A. 5</td>\n",
       "      <td>75202215</td>\n",
       "      <td>INTL - MXN</td>\n",
       "      <td>MXN</td>\n",
       "      <td>0.05087</td>\n",
       "      <td>SANMEXB</td>\n",
       "      <td>MXP690491412</td>\n",
       "      <td>2374521</td>\n",
       "      <td>GRUPO FIN SANTANDER-B..</td>\n",
       "      <td>(1)</td>\n",
       "      <td>...</td>\n",
       "      <td>-1.46</td>\n",
       "      <td>0.00</td>\n",
       "      <td>(28.73)</td>\n",
       "      <td>0</td>\n",
       "      <td>2018-01-01</td>\n",
       "      <td>ubs</td>\n",
       "      <td>1</td>\n",
       "      <td>2018</td>\n",
       "      <td>jan</td>\n",
       "      <td>NaN</td>\n",
       "    </tr>\n",
       "    <tr>\n",
       "      <th>12</th>\n",
       "      <td>Banco BTG Pactual S.A. 5</td>\n",
       "      <td>75202215</td>\n",
       "      <td>US - GC</td>\n",
       "      <td>USD</td>\n",
       "      <td>1.00000</td>\n",
       "      <td>SPY</td>\n",
       "      <td>US78462F1030</td>\n",
       "      <td>2840215</td>\n",
       "      <td>SPDR S&amp;P 500 UNITS SER 1 NPV</td>\n",
       "      <td>32223</td>\n",
       "      <td>...</td>\n",
       "      <td>8.59903e+06</td>\n",
       "      <td>267.53</td>\n",
       "      <td>8599029.78</td>\n",
       "      <td>267.53</td>\n",
       "      <td>2018-01-01</td>\n",
       "      <td>ubs</td>\n",
       "      <td>1</td>\n",
       "      <td>2018</td>\n",
       "      <td>jan</td>\n",
       "      <td>NaN</td>\n",
       "    </tr>\n",
       "    <tr>\n",
       "      <th>13</th>\n",
       "      <td>Banco BTG Pactual S.A. 5</td>\n",
       "      <td>75202215</td>\n",
       "      <td>US - GC</td>\n",
       "      <td>USD</td>\n",
       "      <td>1.00000</td>\n",
       "      <td>QQQ</td>\n",
       "      <td>US73935A1043</td>\n",
       "      <td>2402433</td>\n",
       "      <td>POWERSHARES QQQ TRUST</td>\n",
       "      <td>25175</td>\n",
       "      <td>...</td>\n",
       "      <td>3.92126e+06</td>\n",
       "      <td>121.99</td>\n",
       "      <td>3921258.00</td>\n",
       "      <td>121.99</td>\n",
       "      <td>2018-01-01</td>\n",
       "      <td>ubs</td>\n",
       "      <td>1</td>\n",
       "      <td>2018</td>\n",
       "      <td>jan</td>\n",
       "      <td>NaN</td>\n",
       "    </tr>\n",
       "    <tr>\n",
       "      <th>14</th>\n",
       "      <td>Banco BTG Pactual S.A. 5</td>\n",
       "      <td>75202215</td>\n",
       "      <td>US - GC</td>\n",
       "      <td>USD</td>\n",
       "      <td>1.00000</td>\n",
       "      <td>DRI</td>\n",
       "      <td>US2371941053</td>\n",
       "      <td>2289874</td>\n",
       "      <td>DARDEN RESTAURANTS ORD</td>\n",
       "      <td>3714</td>\n",
       "      <td>...</td>\n",
       "      <td>356618</td>\n",
       "      <td>11.09</td>\n",
       "      <td>356618.28</td>\n",
       "      <td>11.09</td>\n",
       "      <td>2018-01-01</td>\n",
       "      <td>ubs</td>\n",
       "      <td>1</td>\n",
       "      <td>2018</td>\n",
       "      <td>jan</td>\n",
       "      <td>NaN</td>\n",
       "    </tr>\n",
       "    <tr>\n",
       "      <th>15</th>\n",
       "      <td>Banco BTG Pactual S.A. 5</td>\n",
       "      <td>75202215</td>\n",
       "      <td>US - GC</td>\n",
       "      <td>USD</td>\n",
       "      <td>1.00000</td>\n",
       "      <td>OII</td>\n",
       "      <td>US6752321025</td>\n",
       "      <td>2655583</td>\n",
       "      <td>OCEANEERING INTERNATIONAL ORD</td>\n",
       "      <td>1000</td>\n",
       "      <td>...</td>\n",
       "      <td>21140</td>\n",
       "      <td>0.66</td>\n",
       "      <td>21140.00</td>\n",
       "      <td>0.66</td>\n",
       "      <td>2018-01-01</td>\n",
       "      <td>ubs</td>\n",
       "      <td>1</td>\n",
       "      <td>2018</td>\n",
       "      <td>jan</td>\n",
       "      <td>NaN</td>\n",
       "    </tr>\n",
       "    <tr>\n",
       "      <th>16</th>\n",
       "      <td>Banco BTG Pactual S.A. 5</td>\n",
       "      <td>75202215</td>\n",
       "      <td>US - HOT</td>\n",
       "      <td>USD</td>\n",
       "      <td>1.00000</td>\n",
       "      <td>SONC</td>\n",
       "      <td>US8354511052</td>\n",
       "      <td>2821113</td>\n",
       "      <td>SONIC CORP</td>\n",
       "      <td>10396</td>\n",
       "      <td>...</td>\n",
       "      <td>285682</td>\n",
       "      <td>(11.90)</td>\n",
       "      <td>285682.08</td>\n",
       "      <td>-11.9</td>\n",
       "      <td>2018-01-01</td>\n",
       "      <td>ubs</td>\n",
       "      <td>1</td>\n",
       "      <td>2018</td>\n",
       "      <td>jan</td>\n",
       "      <td>NaN</td>\n",
       "    </tr>\n",
       "    <tr>\n",
       "      <th>17</th>\n",
       "      <td>Banco BTG Pactual S.A. 5</td>\n",
       "      <td>75202215</td>\n",
       "      <td>US - HOT</td>\n",
       "      <td>USD</td>\n",
       "      <td>1.00000</td>\n",
       "      <td>JCP</td>\n",
       "      <td>US7081601061</td>\n",
       "      <td>2680303</td>\n",
       "      <td>J.C. PENNEY CO INC...</td>\n",
       "      <td>148714</td>\n",
       "      <td>...</td>\n",
       "      <td>469936</td>\n",
       "      <td>(140.33)</td>\n",
       "      <td>469936.24</td>\n",
       "      <td>-140.33</td>\n",
       "      <td>2018-01-01</td>\n",
       "      <td>ubs</td>\n",
       "      <td>1</td>\n",
       "      <td>2018</td>\n",
       "      <td>jan</td>\n",
       "      <td>NaN</td>\n",
       "    </tr>\n",
       "    <tr>\n",
       "      <th>18</th>\n",
       "      <td>Banco BTG Pactual S.A. 5</td>\n",
       "      <td>75202215</td>\n",
       "      <td>US - GC</td>\n",
       "      <td>USD</td>\n",
       "      <td>1.00000</td>\n",
       "      <td>JWN</td>\n",
       "      <td>US6556641008</td>\n",
       "      <td>2641827</td>\n",
       "      <td>NORDSTROM ORD</td>\n",
       "      <td>6323</td>\n",
       "      <td>...</td>\n",
       "      <td>299584</td>\n",
       "      <td>9.32</td>\n",
       "      <td>299583.74</td>\n",
       "      <td>9.32</td>\n",
       "      <td>2018-01-01</td>\n",
       "      <td>ubs</td>\n",
       "      <td>1</td>\n",
       "      <td>2018</td>\n",
       "      <td>jan</td>\n",
       "      <td>NaN</td>\n",
       "    </tr>\n",
       "    <tr>\n",
       "      <th>19</th>\n",
       "      <td>Banco BTG Pactual S.A. 5</td>\n",
       "      <td>75202215</td>\n",
       "      <td>US - HOT</td>\n",
       "      <td>USD</td>\n",
       "      <td>1.00000</td>\n",
       "      <td>XLP</td>\n",
       "      <td>US81369Y3080</td>\n",
       "      <td>2369389</td>\n",
       "      <td>CONSUMER STAPLES SELECT SECTOR SPDR FUND</td>\n",
       "      <td>142541</td>\n",
       "      <td>...</td>\n",
       "      <td>8.10916e+06</td>\n",
       "      <td>140.78</td>\n",
       "      <td>8109157.49</td>\n",
       "      <td>140.78</td>\n",
       "      <td>2018-01-01</td>\n",
       "      <td>ubs</td>\n",
       "      <td>1</td>\n",
       "      <td>2018</td>\n",
       "      <td>jan</td>\n",
       "      <td>NaN</td>\n",
       "    </tr>\n",
       "    <tr>\n",
       "      <th>20</th>\n",
       "      <td>Banco BTG Pactual S.A. 5</td>\n",
       "      <td>75202215</td>\n",
       "      <td>INTL - MXN</td>\n",
       "      <td>MXN</td>\n",
       "      <td>0.05087</td>\n",
       "      <td>ALFAA</td>\n",
       "      <td>MXP000511016</td>\n",
       "      <td>2043423</td>\n",
       "      <td>ALFA SAB DE CV...</td>\n",
       "      <td>(1)</td>\n",
       "      <td>...</td>\n",
       "      <td>-1.1</td>\n",
       "      <td>0.00</td>\n",
       "      <td>(21.57)</td>\n",
       "      <td>0</td>\n",
       "      <td>2018-01-01</td>\n",
       "      <td>ubs</td>\n",
       "      <td>1</td>\n",
       "      <td>2018</td>\n",
       "      <td>jan</td>\n",
       "      <td>NaN</td>\n",
       "    </tr>\n",
       "    <tr>\n",
       "      <th>21</th>\n",
       "      <td>Banco BTG Pactual S.A. 5</td>\n",
       "      <td>75202215</td>\n",
       "      <td>US - GC</td>\n",
       "      <td>USD</td>\n",
       "      <td>1.00000</td>\n",
       "      <td>COST</td>\n",
       "      <td>US22160K1051</td>\n",
       "      <td>2701271</td>\n",
       "      <td>COSTCO WHOLESALE ORD</td>\n",
       "      <td>3632</td>\n",
       "      <td>...</td>\n",
       "      <td>675988</td>\n",
       "      <td>21.03</td>\n",
       "      <td>675987.84</td>\n",
       "      <td>21.03</td>\n",
       "      <td>2018-01-01</td>\n",
       "      <td>ubs</td>\n",
       "      <td>1</td>\n",
       "      <td>2018</td>\n",
       "      <td>jan</td>\n",
       "      <td>NaN</td>\n",
       "    </tr>\n",
       "    <tr>\n",
       "      <th>22</th>\n",
       "      <td>Banco BTG Pactual S.A. 5</td>\n",
       "      <td>75202215</td>\n",
       "      <td>US - GC</td>\n",
       "      <td>USD</td>\n",
       "      <td>1.00000</td>\n",
       "      <td>BBBY</td>\n",
       "      <td>US0758961009</td>\n",
       "      <td>2085878</td>\n",
       "      <td>BED BATH AND BEYOND ORD</td>\n",
       "      <td>44089</td>\n",
       "      <td>...</td>\n",
       "      <td>969517</td>\n",
       "      <td>30.16</td>\n",
       "      <td>969517.11</td>\n",
       "      <td>30.16</td>\n",
       "      <td>2018-01-01</td>\n",
       "      <td>ubs</td>\n",
       "      <td>1</td>\n",
       "      <td>2018</td>\n",
       "      <td>jan</td>\n",
       "      <td>NaN</td>\n",
       "    </tr>\n",
       "    <tr>\n",
       "      <th>23</th>\n",
       "      <td>Banco BTG Pactual S.A. 5</td>\n",
       "      <td>75202215</td>\n",
       "      <td>US - HOT</td>\n",
       "      <td>USD</td>\n",
       "      <td>1.00000</td>\n",
       "      <td>EWW</td>\n",
       "      <td>US4642868222</td>\n",
       "      <td>2373818</td>\n",
       "      <td>ISHARES INC..</td>\n",
       "      <td>338547</td>\n",
       "      <td>...</td>\n",
       "      <td>1.6687e+07</td>\n",
       "      <td>(579.41)</td>\n",
       "      <td>16686981.63</td>\n",
       "      <td>-579.41</td>\n",
       "      <td>2018-01-01</td>\n",
       "      <td>ubs</td>\n",
       "      <td>1</td>\n",
       "      <td>2018</td>\n",
       "      <td>jan</td>\n",
       "      <td>NaN</td>\n",
       "    </tr>\n",
       "    <tr>\n",
       "      <th>24</th>\n",
       "      <td>Banco BTG Pactual S.A. 5</td>\n",
       "      <td>75202215</td>\n",
       "      <td>US - GC</td>\n",
       "      <td>USD</td>\n",
       "      <td>1.00000</td>\n",
       "      <td>BSAC</td>\n",
       "      <td>US05965X1090</td>\n",
       "      <td>2136646</td>\n",
       "      <td>BANCO SANTANDER CHILE ORD</td>\n",
       "      <td>2214</td>\n",
       "      <td>...</td>\n",
       "      <td>69231.8</td>\n",
       "      <td>2.15</td>\n",
       "      <td>69231.78</td>\n",
       "      <td>2.15</td>\n",
       "      <td>2018-01-01</td>\n",
       "      <td>ubs</td>\n",
       "      <td>1</td>\n",
       "      <td>2018</td>\n",
       "      <td>jan</td>\n",
       "      <td>NaN</td>\n",
       "    </tr>\n",
       "    <tr>\n",
       "      <th>25</th>\n",
       "      <td>Banco BTG Pactual S.A. 5</td>\n",
       "      <td>75202215</td>\n",
       "      <td>INTL - MXN</td>\n",
       "      <td>MXN</td>\n",
       "      <td>0.05087</td>\n",
       "      <td>TLV1</td>\n",
       "      <td>MXP4987V1378</td>\n",
       "      <td>2380108</td>\n",
       "      <td>GRUPO TELEVISA CPO</td>\n",
       "      <td>(1)</td>\n",
       "      <td>...</td>\n",
       "      <td>-3.76</td>\n",
       "      <td>0.00</td>\n",
       "      <td>(73.84)</td>\n",
       "      <td>0</td>\n",
       "      <td>2018-01-01</td>\n",
       "      <td>ubs</td>\n",
       "      <td>1</td>\n",
       "      <td>2018</td>\n",
       "      <td>jan</td>\n",
       "      <td>NaN</td>\n",
       "    </tr>\n",
       "    <tr>\n",
       "      <th>26</th>\n",
       "      <td>Banco BTG Pactual S.A. 5</td>\n",
       "      <td>75202215</td>\n",
       "      <td>INTL - MXN</td>\n",
       "      <td>MXN</td>\n",
       "      <td>0.05087</td>\n",
       "      <td>KIMBERA</td>\n",
       "      <td>MXP606941179</td>\n",
       "      <td>2491914</td>\n",
       "      <td>KIMBERLY CLARK DE MEXICO CL A ORD</td>\n",
       "      <td>(3)</td>\n",
       "      <td>...</td>\n",
       "      <td>-5.29</td>\n",
       "      <td>0.00</td>\n",
       "      <td>(103.95)</td>\n",
       "      <td>0</td>\n",
       "      <td>2018-01-01</td>\n",
       "      <td>ubs</td>\n",
       "      <td>1</td>\n",
       "      <td>2018</td>\n",
       "      <td>jan</td>\n",
       "      <td>NaN</td>\n",
       "    </tr>\n",
       "    <tr>\n",
       "      <th>27</th>\n",
       "      <td>Banco BTG Pactual S.A. 5</td>\n",
       "      <td>75202215</td>\n",
       "      <td>INTL - MXN</td>\n",
       "      <td>MXN</td>\n",
       "      <td>0.05087</td>\n",
       "      <td>MFRISCOA</td>\n",
       "      <td>MX01MF010000</td>\n",
       "      <td>B3QHKH2</td>\n",
       "      <td>MINERA FRISCO SAB DE CV-A1</td>\n",
       "      <td>(1)</td>\n",
       "      <td>...</td>\n",
       "      <td>-0.58</td>\n",
       "      <td>0.00</td>\n",
       "      <td>(11.41)</td>\n",
       "      <td>0</td>\n",
       "      <td>2018-01-01</td>\n",
       "      <td>ubs</td>\n",
       "      <td>1</td>\n",
       "      <td>2018</td>\n",
       "      <td>jan</td>\n",
       "      <td>NaN</td>\n",
       "    </tr>\n",
       "    <tr>\n",
       "      <th>28</th>\n",
       "      <td>Banco BTG Pactual S.A. 5</td>\n",
       "      <td>75202215</td>\n",
       "      <td>INTL - MXN</td>\n",
       "      <td>MXN</td>\n",
       "      <td>0.05087</td>\n",
       "      <td>GFINBURO</td>\n",
       "      <td>MXP370641013</td>\n",
       "      <td>2822398</td>\n",
       "      <td>GPO FIN INBURSA O - ORD</td>\n",
       "      <td>(1479909)</td>\n",
       "      <td>...</td>\n",
       "      <td>-2.41796e+06</td>\n",
       "      <td>(722.81)</td>\n",
       "      <td>(47534677.08)</td>\n",
       "      <td>-36.77</td>\n",
       "      <td>2018-01-01</td>\n",
       "      <td>ubs</td>\n",
       "      <td>1</td>\n",
       "      <td>2018</td>\n",
       "      <td>jan</td>\n",
       "      <td>NaN</td>\n",
       "    </tr>\n",
       "    <tr>\n",
       "      <th>29</th>\n",
       "      <td>Banco BTG Pactual S.A. 5</td>\n",
       "      <td>75202215</td>\n",
       "      <td>INTL - MXN</td>\n",
       "      <td>MXN</td>\n",
       "      <td>0.05087</td>\n",
       "      <td>FUNO11</td>\n",
       "      <td>MXCFFU000001</td>\n",
       "      <td>B671GT8</td>\n",
       "      <td>FIBRA UNO ADMINISTRACION SA-</td>\n",
       "      <td>(2)</td>\n",
       "      <td>...</td>\n",
       "      <td>-2.96</td>\n",
       "      <td>0.00</td>\n",
       "      <td>(58.28)</td>\n",
       "      <td>0</td>\n",
       "      <td>2018-01-01</td>\n",
       "      <td>ubs</td>\n",
       "      <td>1</td>\n",
       "      <td>2018</td>\n",
       "      <td>jan</td>\n",
       "      <td>NaN</td>\n",
       "    </tr>\n",
       "    <tr>\n",
       "      <th>...</th>\n",
       "      <td>...</td>\n",
       "      <td>...</td>\n",
       "      <td>...</td>\n",
       "      <td>...</td>\n",
       "      <td>...</td>\n",
       "      <td>...</td>\n",
       "      <td>...</td>\n",
       "      <td>...</td>\n",
       "      <td>...</td>\n",
       "      <td>...</td>\n",
       "      <td>...</td>\n",
       "      <td>...</td>\n",
       "      <td>...</td>\n",
       "      <td>...</td>\n",
       "      <td>...</td>\n",
       "      <td>...</td>\n",
       "      <td>...</td>\n",
       "      <td>...</td>\n",
       "      <td>...</td>\n",
       "      <td>...</td>\n",
       "      <td>...</td>\n",
       "    </tr>\n",
       "    <tr>\n",
       "      <th>36</th>\n",
       "      <td>Banco BTG Pactual S.A. 5</td>\n",
       "      <td>75202215</td>\n",
       "      <td>US - GC</td>\n",
       "      <td>USD</td>\n",
       "      <td>1.00000</td>\n",
       "      <td>KHC</td>\n",
       "      <td>US5007541064</td>\n",
       "      <td>BYRY499</td>\n",
       "      <td>KRAFT HEINZ CO..............</td>\n",
       "      <td>0</td>\n",
       "      <td>...</td>\n",
       "      <td>550659.20</td>\n",
       "      <td>0.00</td>\n",
       "      <td>0.00</td>\n",
       "      <td>0.00</td>\n",
       "      <td>2018-08-27</td>\n",
       "      <td>ubs</td>\n",
       "      <td>8</td>\n",
       "      <td>2018</td>\n",
       "      <td>ago</td>\n",
       "      <td>NaN</td>\n",
       "    </tr>\n",
       "    <tr>\n",
       "      <th>37</th>\n",
       "      <td>Banco BTG Pactual S.A. 5</td>\n",
       "      <td>75202215</td>\n",
       "      <td>US - HOT</td>\n",
       "      <td>USD</td>\n",
       "      <td>1.00000</td>\n",
       "      <td>PZZA</td>\n",
       "      <td>US6988131024</td>\n",
       "      <td>2696117</td>\n",
       "      <td>PAPA JOHNS INTERNATIONAL ORD</td>\n",
       "      <td>0</td>\n",
       "      <td>...</td>\n",
       "      <td>376160.40</td>\n",
       "      <td>0.00</td>\n",
       "      <td>0.00</td>\n",
       "      <td>0.00</td>\n",
       "      <td>2018-08-27</td>\n",
       "      <td>ubs</td>\n",
       "      <td>8</td>\n",
       "      <td>2018</td>\n",
       "      <td>ago</td>\n",
       "      <td>NaN</td>\n",
       "    </tr>\n",
       "    <tr>\n",
       "      <th>38</th>\n",
       "      <td>Banco BTG Pactual S.A. 3</td>\n",
       "      <td>75202213</td>\n",
       "      <td>US - GC</td>\n",
       "      <td>USD</td>\n",
       "      <td>1.00000</td>\n",
       "      <td>WU</td>\n",
       "      <td>US9598021098</td>\n",
       "      <td>B1F76F9</td>\n",
       "      <td>WESTERN UNION COMPANY -- (THE)</td>\n",
       "      <td>2500</td>\n",
       "      <td>...</td>\n",
       "      <td>47100.00</td>\n",
       "      <td>2.11</td>\n",
       "      <td>47100.00</td>\n",
       "      <td>2.11</td>\n",
       "      <td>2018-08-27</td>\n",
       "      <td>ubs</td>\n",
       "      <td>8</td>\n",
       "      <td>2018</td>\n",
       "      <td>ago</td>\n",
       "      <td>NaN</td>\n",
       "    </tr>\n",
       "    <tr>\n",
       "      <th>39</th>\n",
       "      <td>Banco BTG Pactual S.A. 3</td>\n",
       "      <td>75202213</td>\n",
       "      <td>US - GC</td>\n",
       "      <td>USD</td>\n",
       "      <td>1.00000</td>\n",
       "      <td>PAGS</td>\n",
       "      <td>KYG687071012</td>\n",
       "      <td>BFWK4R7</td>\n",
       "      <td>PAGSEGURO DIGITAL CL A ORD..</td>\n",
       "      <td>34337</td>\n",
       "      <td>...</td>\n",
       "      <td>907183.54</td>\n",
       "      <td>40.57</td>\n",
       "      <td>907183.54</td>\n",
       "      <td>40.57</td>\n",
       "      <td>2018-08-27</td>\n",
       "      <td>ubs</td>\n",
       "      <td>8</td>\n",
       "      <td>2018</td>\n",
       "      <td>ago</td>\n",
       "      <td>NaN</td>\n",
       "    </tr>\n",
       "    <tr>\n",
       "      <th>40</th>\n",
       "      <td>Banco BTG Pactual S.A. 3</td>\n",
       "      <td>75202213</td>\n",
       "      <td>US - GC</td>\n",
       "      <td>USD</td>\n",
       "      <td>1.00000</td>\n",
       "      <td>MELI</td>\n",
       "      <td>US58733R1023</td>\n",
       "      <td>B23X1H3</td>\n",
       "      <td>MERCADOLIBRE ORD</td>\n",
       "      <td>5414</td>\n",
       "      <td>...</td>\n",
       "      <td>2029437.90</td>\n",
       "      <td>90.76</td>\n",
       "      <td>2029437.90</td>\n",
       "      <td>90.76</td>\n",
       "      <td>2018-08-27</td>\n",
       "      <td>ubs</td>\n",
       "      <td>8</td>\n",
       "      <td>2018</td>\n",
       "      <td>ago</td>\n",
       "      <td>NaN</td>\n",
       "    </tr>\n",
       "    <tr>\n",
       "      <th>41</th>\n",
       "      <td>Banco BTG Pactual S.A. 3</td>\n",
       "      <td>75202213</td>\n",
       "      <td>US - HOT</td>\n",
       "      <td>USD</td>\n",
       "      <td>1.00000</td>\n",
       "      <td>ECH</td>\n",
       "      <td>US4642866408</td>\n",
       "      <td>B29FC81</td>\n",
       "      <td>ISHARES MSCI</td>\n",
       "      <td>9930</td>\n",
       "      <td>...</td>\n",
       "      <td>449133.90</td>\n",
       "      <td>(18.71)</td>\n",
       "      <td>449133.90</td>\n",
       "      <td>(18.71)</td>\n",
       "      <td>2018-08-27</td>\n",
       "      <td>ubs</td>\n",
       "      <td>8</td>\n",
       "      <td>2018</td>\n",
       "      <td>ago</td>\n",
       "      <td>NaN</td>\n",
       "    </tr>\n",
       "    <tr>\n",
       "      <th>42</th>\n",
       "      <td>Banco BTG Pactual S.A. 3</td>\n",
       "      <td>75202213</td>\n",
       "      <td>US - GC</td>\n",
       "      <td>USD</td>\n",
       "      <td>1.00000</td>\n",
       "      <td>DRI</td>\n",
       "      <td>US2371941053</td>\n",
       "      <td>2289874</td>\n",
       "      <td>DARDEN RESTAURANTS ORD</td>\n",
       "      <td>600</td>\n",
       "      <td>...</td>\n",
       "      <td>68328.00</td>\n",
       "      <td>3.06</td>\n",
       "      <td>68328.00</td>\n",
       "      <td>3.06</td>\n",
       "      <td>2018-08-27</td>\n",
       "      <td>ubs</td>\n",
       "      <td>8</td>\n",
       "      <td>2018</td>\n",
       "      <td>ago</td>\n",
       "      <td>NaN</td>\n",
       "    </tr>\n",
       "    <tr>\n",
       "      <th>43</th>\n",
       "      <td>Banco BTG Pactual S.A. 3</td>\n",
       "      <td>75202213</td>\n",
       "      <td>US - GC</td>\n",
       "      <td>USD</td>\n",
       "      <td>1.00000</td>\n",
       "      <td>EWZ</td>\n",
       "      <td>US4642864007</td>\n",
       "      <td>2726014</td>\n",
       "      <td>ISHARES INC</td>\n",
       "      <td>70510</td>\n",
       "      <td>...</td>\n",
       "      <td>2313433.10</td>\n",
       "      <td>103.46</td>\n",
       "      <td>2313433.10</td>\n",
       "      <td>103.46</td>\n",
       "      <td>2018-08-27</td>\n",
       "      <td>ubs</td>\n",
       "      <td>8</td>\n",
       "      <td>2018</td>\n",
       "      <td>ago</td>\n",
       "      <td>NaN</td>\n",
       "    </tr>\n",
       "    <tr>\n",
       "      <th>44</th>\n",
       "      <td>Banco BTG Pactual S.A. 3</td>\n",
       "      <td>75202213</td>\n",
       "      <td>US - HOT</td>\n",
       "      <td>USD</td>\n",
       "      <td>1.00000</td>\n",
       "      <td>CCU</td>\n",
       "      <td>US2044291043</td>\n",
       "      <td>2217596</td>\n",
       "      <td>COMPANIA CERVECERIAS ADR REP 2 ORD</td>\n",
       "      <td>0</td>\n",
       "      <td>...</td>\n",
       "      <td>529400.00</td>\n",
       "      <td>0.00</td>\n",
       "      <td>0.00</td>\n",
       "      <td>0.00</td>\n",
       "      <td>2018-08-27</td>\n",
       "      <td>ubs</td>\n",
       "      <td>8</td>\n",
       "      <td>2018</td>\n",
       "      <td>ago</td>\n",
       "      <td>NaN</td>\n",
       "    </tr>\n",
       "    <tr>\n",
       "      <th>45</th>\n",
       "      <td>Banco BTG Pactual S.A. 3</td>\n",
       "      <td>75202213</td>\n",
       "      <td>US - HOT</td>\n",
       "      <td>USD</td>\n",
       "      <td>1.00000</td>\n",
       "      <td>CAKE</td>\n",
       "      <td>US1630721017</td>\n",
       "      <td>2192392</td>\n",
       "      <td>CHEESECAKE FACTORY ORD</td>\n",
       "      <td>700</td>\n",
       "      <td>...</td>\n",
       "      <td>36757.00</td>\n",
       "      <td>1.28</td>\n",
       "      <td>36757.00</td>\n",
       "      <td>1.28</td>\n",
       "      <td>2018-08-27</td>\n",
       "      <td>ubs</td>\n",
       "      <td>8</td>\n",
       "      <td>2018</td>\n",
       "      <td>ago</td>\n",
       "      <td>NaN</td>\n",
       "    </tr>\n",
       "    <tr>\n",
       "      <th>46</th>\n",
       "      <td>Banco BTG Pactual S.A. 3</td>\n",
       "      <td>75202213</td>\n",
       "      <td>US - HOT</td>\n",
       "      <td>USD</td>\n",
       "      <td>1.00000</td>\n",
       "      <td>EWW</td>\n",
       "      <td>US4642868222</td>\n",
       "      <td>2373818</td>\n",
       "      <td>ISHARES INC..</td>\n",
       "      <td>36660</td>\n",
       "      <td>...</td>\n",
       "      <td>1914385.20</td>\n",
       "      <td>(66.47)</td>\n",
       "      <td>1914385.20</td>\n",
       "      <td>(66.47)</td>\n",
       "      <td>2018-08-27</td>\n",
       "      <td>ubs</td>\n",
       "      <td>8</td>\n",
       "      <td>2018</td>\n",
       "      <td>ago</td>\n",
       "      <td>NaN</td>\n",
       "    </tr>\n",
       "    <tr>\n",
       "      <th>47</th>\n",
       "      <td>Banco BTG Pactual S.A. 3</td>\n",
       "      <td>75202213</td>\n",
       "      <td>US - GC</td>\n",
       "      <td>USD</td>\n",
       "      <td>1.00000</td>\n",
       "      <td>BSAC</td>\n",
       "      <td>US05965X1090</td>\n",
       "      <td>2136646</td>\n",
       "      <td>BANCO SANTANDER CHILE ORD</td>\n",
       "      <td>0</td>\n",
       "      <td>...</td>\n",
       "      <td>45855.00</td>\n",
       "      <td>0.00</td>\n",
       "      <td>0.00</td>\n",
       "      <td>0.00</td>\n",
       "      <td>2018-08-27</td>\n",
       "      <td>ubs</td>\n",
       "      <td>8</td>\n",
       "      <td>2018</td>\n",
       "      <td>ago</td>\n",
       "      <td>NaN</td>\n",
       "    </tr>\n",
       "    <tr>\n",
       "      <th>48</th>\n",
       "      <td>Banco BTG Pactual S.A. 3</td>\n",
       "      <td>75202213</td>\n",
       "      <td>US - HOT</td>\n",
       "      <td>USD</td>\n",
       "      <td>1.00000</td>\n",
       "      <td>TSLA</td>\n",
       "      <td>US88160R1014</td>\n",
       "      <td>B616C79</td>\n",
       "      <td>TESLA MOTORS INC--</td>\n",
       "      <td>0</td>\n",
       "      <td>...</td>\n",
       "      <td>46266.00</td>\n",
       "      <td>0.00</td>\n",
       "      <td>0.00</td>\n",
       "      <td>0.00</td>\n",
       "      <td>2018-08-27</td>\n",
       "      <td>ubs</td>\n",
       "      <td>8</td>\n",
       "      <td>2018</td>\n",
       "      <td>ago</td>\n",
       "      <td>NaN</td>\n",
       "    </tr>\n",
       "    <tr>\n",
       "      <th>49</th>\n",
       "      <td>Banco BTG Pactual S.A. 3</td>\n",
       "      <td>75202213</td>\n",
       "      <td>US - GC</td>\n",
       "      <td>USD</td>\n",
       "      <td>1.00000</td>\n",
       "      <td>BAP</td>\n",
       "      <td>BMG2519Y1084</td>\n",
       "      <td>2232878</td>\n",
       "      <td>CREDICORP - ORD</td>\n",
       "      <td>15000</td>\n",
       "      <td>...</td>\n",
       "      <td>3352500.00</td>\n",
       "      <td>149.93</td>\n",
       "      <td>3352500.00</td>\n",
       "      <td>149.93</td>\n",
       "      <td>2018-08-27</td>\n",
       "      <td>ubs</td>\n",
       "      <td>8</td>\n",
       "      <td>2018</td>\n",
       "      <td>ago</td>\n",
       "      <td>NaN</td>\n",
       "    </tr>\n",
       "    <tr>\n",
       "      <th>50</th>\n",
       "      <td>Banco BTG Pactual S.A. 3</td>\n",
       "      <td>75202213</td>\n",
       "      <td>US - HOT</td>\n",
       "      <td>USD</td>\n",
       "      <td>1.00000</td>\n",
       "      <td>TPX</td>\n",
       "      <td>US88023U1016</td>\n",
       "      <td>2216991</td>\n",
       "      <td>TEMPUR SEALY INTERNATI</td>\n",
       "      <td>0</td>\n",
       "      <td>...</td>\n",
       "      <td>484500.00</td>\n",
       "      <td>0.00</td>\n",
       "      <td>0.00</td>\n",
       "      <td>0.00</td>\n",
       "      <td>2018-08-27</td>\n",
       "      <td>ubs</td>\n",
       "      <td>8</td>\n",
       "      <td>2018</td>\n",
       "      <td>ago</td>\n",
       "      <td>NaN</td>\n",
       "    </tr>\n",
       "    <tr>\n",
       "      <th>51</th>\n",
       "      <td>Banco BTG Pactual S.A. 3</td>\n",
       "      <td>75202213</td>\n",
       "      <td>US - GC</td>\n",
       "      <td>USD</td>\n",
       "      <td>1.00000</td>\n",
       "      <td>NFLX</td>\n",
       "      <td>US64110L1061</td>\n",
       "      <td>2857817</td>\n",
       "      <td>NETFLIX ORD..</td>\n",
       "      <td>0</td>\n",
       "      <td>...</td>\n",
       "      <td>338020.00</td>\n",
       "      <td>0.00</td>\n",
       "      <td>0.00</td>\n",
       "      <td>0.00</td>\n",
       "      <td>2018-08-27</td>\n",
       "      <td>ubs</td>\n",
       "      <td>8</td>\n",
       "      <td>2018</td>\n",
       "      <td>ago</td>\n",
       "      <td>NaN</td>\n",
       "    </tr>\n",
       "    <tr>\n",
       "      <th>52</th>\n",
       "      <td>Banco BTG Pactual S.A. 3</td>\n",
       "      <td>75202213</td>\n",
       "      <td>US - HOT</td>\n",
       "      <td>USD</td>\n",
       "      <td>1.00000</td>\n",
       "      <td>AKO/B</td>\n",
       "      <td>US29081P3038</td>\n",
       "      <td>2299776</td>\n",
       "      <td>EMBOTELLADORA ANDINA-ADR B</td>\n",
       "      <td>0</td>\n",
       "      <td>...</td>\n",
       "      <td>23088.00</td>\n",
       "      <td>0.00</td>\n",
       "      <td>0.00</td>\n",
       "      <td>0.00</td>\n",
       "      <td>2018-08-27</td>\n",
       "      <td>ubs</td>\n",
       "      <td>8</td>\n",
       "      <td>2018</td>\n",
       "      <td>ago</td>\n",
       "      <td>NaN</td>\n",
       "    </tr>\n",
       "    <tr>\n",
       "      <th>53</th>\n",
       "      <td>Banco BTG Pactual S.A. 3</td>\n",
       "      <td>75202213</td>\n",
       "      <td>US - GC</td>\n",
       "      <td>USD</td>\n",
       "      <td>1.00000</td>\n",
       "      <td>NRG</td>\n",
       "      <td>US6293775085</td>\n",
       "      <td>2212922</td>\n",
       "      <td>NRG ENERGY ORD</td>\n",
       "      <td>0</td>\n",
       "      <td>...</td>\n",
       "      <td>33950.00</td>\n",
       "      <td>0.00</td>\n",
       "      <td>0.00</td>\n",
       "      <td>0.00</td>\n",
       "      <td>2018-08-27</td>\n",
       "      <td>ubs</td>\n",
       "      <td>8</td>\n",
       "      <td>2018</td>\n",
       "      <td>ago</td>\n",
       "      <td>NaN</td>\n",
       "    </tr>\n",
       "    <tr>\n",
       "      <th>54</th>\n",
       "      <td>Banco BTG Pactual S.A. 3</td>\n",
       "      <td>75202213</td>\n",
       "      <td>US - GC</td>\n",
       "      <td>USD</td>\n",
       "      <td>1.00000</td>\n",
       "      <td>ENIA</td>\n",
       "      <td>US29274F1049</td>\n",
       "      <td>2314947</td>\n",
       "      <td>ENEL AMERICAS SA-ADR....</td>\n",
       "      <td>0</td>\n",
       "      <td>...</td>\n",
       "      <td>52536.00</td>\n",
       "      <td>0.00</td>\n",
       "      <td>0.00</td>\n",
       "      <td>0.00</td>\n",
       "      <td>2018-08-27</td>\n",
       "      <td>ubs</td>\n",
       "      <td>8</td>\n",
       "      <td>2018</td>\n",
       "      <td>ago</td>\n",
       "      <td>NaN</td>\n",
       "    </tr>\n",
       "    <tr>\n",
       "      <th>55</th>\n",
       "      <td>Banco BTG Pactual S.A. 3</td>\n",
       "      <td>75202213</td>\n",
       "      <td>US - GC</td>\n",
       "      <td>USD</td>\n",
       "      <td>1.00000</td>\n",
       "      <td>KO</td>\n",
       "      <td>US1912161007</td>\n",
       "      <td>2206657</td>\n",
       "      <td>COCA-COLA CO</td>\n",
       "      <td>1000</td>\n",
       "      <td>...</td>\n",
       "      <td>45690.00</td>\n",
       "      <td>2.04</td>\n",
       "      <td>45690.00</td>\n",
       "      <td>2.04</td>\n",
       "      <td>2018-08-27</td>\n",
       "      <td>ubs</td>\n",
       "      <td>8</td>\n",
       "      <td>2018</td>\n",
       "      <td>ago</td>\n",
       "      <td>NaN</td>\n",
       "    </tr>\n",
       "    <tr>\n",
       "      <th>56</th>\n",
       "      <td>Banco BTG Pactual S.A. 3</td>\n",
       "      <td>75202213</td>\n",
       "      <td>US - GC</td>\n",
       "      <td>USD</td>\n",
       "      <td>1.00000</td>\n",
       "      <td>ORCL</td>\n",
       "      <td>US68389X1054</td>\n",
       "      <td>2661568</td>\n",
       "      <td>ORACLE ORD</td>\n",
       "      <td>800</td>\n",
       "      <td>...</td>\n",
       "      <td>39464.00</td>\n",
       "      <td>1.76</td>\n",
       "      <td>39464.00</td>\n",
       "      <td>1.76</td>\n",
       "      <td>2018-08-27</td>\n",
       "      <td>ubs</td>\n",
       "      <td>8</td>\n",
       "      <td>2018</td>\n",
       "      <td>ago</td>\n",
       "      <td>NaN</td>\n",
       "    </tr>\n",
       "    <tr>\n",
       "      <th>57</th>\n",
       "      <td>Banco BTG Pactual S.A. 3</td>\n",
       "      <td>75202213</td>\n",
       "      <td>US - HOT</td>\n",
       "      <td>USD</td>\n",
       "      <td>1.00000</td>\n",
       "      <td>ENPH</td>\n",
       "      <td>US29355A1079</td>\n",
       "      <td>B65SQW4</td>\n",
       "      <td>ENPHASE ENERGY ORD</td>\n",
       "      <td>10000</td>\n",
       "      <td>...</td>\n",
       "      <td>47900.00</td>\n",
       "      <td>(2.99)</td>\n",
       "      <td>47900.00</td>\n",
       "      <td>(2.99)</td>\n",
       "      <td>2018-08-27</td>\n",
       "      <td>ubs</td>\n",
       "      <td>8</td>\n",
       "      <td>2018</td>\n",
       "      <td>ago</td>\n",
       "      <td>NaN</td>\n",
       "    </tr>\n",
       "    <tr>\n",
       "      <th>58</th>\n",
       "      <td>Banco BTG Pactual S.A. 3</td>\n",
       "      <td>75202213</td>\n",
       "      <td>US - HOT</td>\n",
       "      <td>USD</td>\n",
       "      <td>1.00000</td>\n",
       "      <td>BCH</td>\n",
       "      <td>US0595201064</td>\n",
       "      <td>2834252</td>\n",
       "      <td>BANCO DE CHILE ADR REP 600 ORD</td>\n",
       "      <td>0</td>\n",
       "      <td>...</td>\n",
       "      <td>8911.00</td>\n",
       "      <td>0.00</td>\n",
       "      <td>0.00</td>\n",
       "      <td>0.00</td>\n",
       "      <td>2018-08-27</td>\n",
       "      <td>ubs</td>\n",
       "      <td>8</td>\n",
       "      <td>2018</td>\n",
       "      <td>ago</td>\n",
       "      <td>NaN</td>\n",
       "    </tr>\n",
       "    <tr>\n",
       "      <th>59</th>\n",
       "      <td>Banco BTG Pactual S.A. 3</td>\n",
       "      <td>75202213</td>\n",
       "      <td>US - HOT</td>\n",
       "      <td>USD</td>\n",
       "      <td>1.00000</td>\n",
       "      <td>LTM</td>\n",
       "      <td>US51817R1068</td>\n",
       "      <td>B84FQ53</td>\n",
       "      <td>LATAM AIRLINES GROUP SA</td>\n",
       "      <td>100193</td>\n",
       "      <td>...</td>\n",
       "      <td>923779.46</td>\n",
       "      <td>(57.74)</td>\n",
       "      <td>923779.46</td>\n",
       "      <td>(57.74)</td>\n",
       "      <td>2018-08-27</td>\n",
       "      <td>ubs</td>\n",
       "      <td>8</td>\n",
       "      <td>2018</td>\n",
       "      <td>ago</td>\n",
       "      <td>NaN</td>\n",
       "    </tr>\n",
       "    <tr>\n",
       "      <th>60</th>\n",
       "      <td>Banco BTG Pactual S.A. 3</td>\n",
       "      <td>75202213</td>\n",
       "      <td>US - GC</td>\n",
       "      <td>USD</td>\n",
       "      <td>1.00000</td>\n",
       "      <td>DATA</td>\n",
       "      <td>US87336U1051</td>\n",
       "      <td>B8DJFL5</td>\n",
       "      <td>TABLEAU SOFTWARE INC-CL A</td>\n",
       "      <td>0</td>\n",
       "      <td>...</td>\n",
       "      <td>49270.00</td>\n",
       "      <td>0.00</td>\n",
       "      <td>0.00</td>\n",
       "      <td>0.00</td>\n",
       "      <td>2018-08-27</td>\n",
       "      <td>ubs</td>\n",
       "      <td>8</td>\n",
       "      <td>2018</td>\n",
       "      <td>ago</td>\n",
       "      <td>NaN</td>\n",
       "    </tr>\n",
       "    <tr>\n",
       "      <th>61</th>\n",
       "      <td>Banco BTG Pactual S.A. 3</td>\n",
       "      <td>75202213</td>\n",
       "      <td>US - GC</td>\n",
       "      <td>USD</td>\n",
       "      <td>1.00000</td>\n",
       "      <td>GRAMY</td>\n",
       "      <td>US38500P2083</td>\n",
       "      <td>BC9ZHV9</td>\n",
       "      <td>GRANA Y MONTERO SA ADR</td>\n",
       "      <td>0</td>\n",
       "      <td>...</td>\n",
       "      <td>97939.80</td>\n",
       "      <td>0.00</td>\n",
       "      <td>0.00</td>\n",
       "      <td>0.00</td>\n",
       "      <td>2018-08-27</td>\n",
       "      <td>ubs</td>\n",
       "      <td>8</td>\n",
       "      <td>2018</td>\n",
       "      <td>ago</td>\n",
       "      <td>NaN</td>\n",
       "    </tr>\n",
       "    <tr>\n",
       "      <th>62</th>\n",
       "      <td>Banco BTG Pactual S.A. 3</td>\n",
       "      <td>75202213</td>\n",
       "      <td>US - HOT</td>\n",
       "      <td>USD</td>\n",
       "      <td>1.00000</td>\n",
       "      <td>LE</td>\n",
       "      <td>US51509F1057</td>\n",
       "      <td>BKWQKM7</td>\n",
       "      <td>LANDS END - INC</td>\n",
       "      <td>1000</td>\n",
       "      <td>...</td>\n",
       "      <td>24000.00</td>\n",
       "      <td>0.33</td>\n",
       "      <td>24000.00</td>\n",
       "      <td>0.33</td>\n",
       "      <td>2018-08-27</td>\n",
       "      <td>ubs</td>\n",
       "      <td>8</td>\n",
       "      <td>2018</td>\n",
       "      <td>ago</td>\n",
       "      <td>NaN</td>\n",
       "    </tr>\n",
       "    <tr>\n",
       "      <th>63</th>\n",
       "      <td>Banco BTG Pactual S.A. 3</td>\n",
       "      <td>75202213</td>\n",
       "      <td>US - GC</td>\n",
       "      <td>USD</td>\n",
       "      <td>1.00000</td>\n",
       "      <td>BOX</td>\n",
       "      <td>US10316T1043</td>\n",
       "      <td>BVB3BV2</td>\n",
       "      <td>BOX INC - CLASS A.....</td>\n",
       "      <td>0</td>\n",
       "      <td>...</td>\n",
       "      <td>51120.00</td>\n",
       "      <td>0.00</td>\n",
       "      <td>0.00</td>\n",
       "      <td>0.00</td>\n",
       "      <td>2018-08-27</td>\n",
       "      <td>ubs</td>\n",
       "      <td>8</td>\n",
       "      <td>2018</td>\n",
       "      <td>ago</td>\n",
       "      <td>NaN</td>\n",
       "    </tr>\n",
       "    <tr>\n",
       "      <th>64</th>\n",
       "      <td>Banco BTG Pactual S.A. 3</td>\n",
       "      <td>75202213</td>\n",
       "      <td>US - HOT</td>\n",
       "      <td>USD</td>\n",
       "      <td>1.00000</td>\n",
       "      <td>MTCH</td>\n",
       "      <td>US57665R1068</td>\n",
       "      <td>BYT5JW8</td>\n",
       "      <td>MATCH GROUP INC..</td>\n",
       "      <td>0</td>\n",
       "      <td>...</td>\n",
       "      <td>13109.20</td>\n",
       "      <td>0.00</td>\n",
       "      <td>0.00</td>\n",
       "      <td>0.00</td>\n",
       "      <td>2018-08-27</td>\n",
       "      <td>ubs</td>\n",
       "      <td>8</td>\n",
       "      <td>2018</td>\n",
       "      <td>ago</td>\n",
       "      <td>NaN</td>\n",
       "    </tr>\n",
       "    <tr>\n",
       "      <th>65</th>\n",
       "      <td>Banco BTG Pactual S.A. 3</td>\n",
       "      <td>75202213</td>\n",
       "      <td>US - HOT</td>\n",
       "      <td>USD</td>\n",
       "      <td>1.00000</td>\n",
       "      <td>ITCB</td>\n",
       "      <td>US45033E1055</td>\n",
       "      <td>BZ30DD5</td>\n",
       "      <td>ITAU CORPBANCA....</td>\n",
       "      <td>0</td>\n",
       "      <td>...</td>\n",
       "      <td>61326.10</td>\n",
       "      <td>0.00</td>\n",
       "      <td>0.00</td>\n",
       "      <td>0.00</td>\n",
       "      <td>2018-08-27</td>\n",
       "      <td>ubs</td>\n",
       "      <td>8</td>\n",
       "      <td>2018</td>\n",
       "      <td>ago</td>\n",
       "      <td>NaN</td>\n",
       "    </tr>\n",
       "  </tbody>\n",
       "</table>\n",
       "<p>10508 rows × 22 columns</p>\n",
       "</div>"
      ],
      "text/plain": [
       "                Account Name  Reference Account Id Security Category  \\\n",
       "0   Banco BTG Pactual S.A. 2              75201835          US - HOT   \n",
       "1   Banco BTG Pactual S.A. 3              75202213          US - HOT   \n",
       "2   Banco BTG Pactual S.A. 3              75202213          US - HOT   \n",
       "3   Banco BTG Pactual S.A. 3              75202213           US - GC   \n",
       "4   Banco BTG Pactual S.A. 3              75202213          US - HOT   \n",
       "5   Banco BTG Pactual S.A. 3              75202213          US - HOT   \n",
       "6   Banco BTG Pactual S.A. 3              75202213           US - GC   \n",
       "7   Banco BTG Pactual S.A. 3              75202213          US - HOT   \n",
       "8   Banco BTG Pactual S.A. 3              75202213          US - HOT   \n",
       "9   Banco BTG Pactual S.A. 5              75202215          US - HOT   \n",
       "10  Banco BTG Pactual S.A. 5              75202215           US - GC   \n",
       "11  Banco BTG Pactual S.A. 5              75202215        INTL - MXN   \n",
       "12  Banco BTG Pactual S.A. 5              75202215           US - GC   \n",
       "13  Banco BTG Pactual S.A. 5              75202215           US - GC   \n",
       "14  Banco BTG Pactual S.A. 5              75202215           US - GC   \n",
       "15  Banco BTG Pactual S.A. 5              75202215           US - GC   \n",
       "16  Banco BTG Pactual S.A. 5              75202215          US - HOT   \n",
       "17  Banco BTG Pactual S.A. 5              75202215          US - HOT   \n",
       "18  Banco BTG Pactual S.A. 5              75202215           US - GC   \n",
       "19  Banco BTG Pactual S.A. 5              75202215          US - HOT   \n",
       "20  Banco BTG Pactual S.A. 5              75202215        INTL - MXN   \n",
       "21  Banco BTG Pactual S.A. 5              75202215           US - GC   \n",
       "22  Banco BTG Pactual S.A. 5              75202215           US - GC   \n",
       "23  Banco BTG Pactual S.A. 5              75202215          US - HOT   \n",
       "24  Banco BTG Pactual S.A. 5              75202215           US - GC   \n",
       "25  Banco BTG Pactual S.A. 5              75202215        INTL - MXN   \n",
       "26  Banco BTG Pactual S.A. 5              75202215        INTL - MXN   \n",
       "27  Banco BTG Pactual S.A. 5              75202215        INTL - MXN   \n",
       "28  Banco BTG Pactual S.A. 5              75202215        INTL - MXN   \n",
       "29  Banco BTG Pactual S.A. 5              75202215        INTL - MXN   \n",
       "..                       ...                   ...               ...   \n",
       "36  Banco BTG Pactual S.A. 5              75202215           US - GC   \n",
       "37  Banco BTG Pactual S.A. 5              75202215          US - HOT   \n",
       "38  Banco BTG Pactual S.A. 3              75202213           US - GC   \n",
       "39  Banco BTG Pactual S.A. 3              75202213           US - GC   \n",
       "40  Banco BTG Pactual S.A. 3              75202213           US - GC   \n",
       "41  Banco BTG Pactual S.A. 3              75202213          US - HOT   \n",
       "42  Banco BTG Pactual S.A. 3              75202213           US - GC   \n",
       "43  Banco BTG Pactual S.A. 3              75202213           US - GC   \n",
       "44  Banco BTG Pactual S.A. 3              75202213          US - HOT   \n",
       "45  Banco BTG Pactual S.A. 3              75202213          US - HOT   \n",
       "46  Banco BTG Pactual S.A. 3              75202213          US - HOT   \n",
       "47  Banco BTG Pactual S.A. 3              75202213           US - GC   \n",
       "48  Banco BTG Pactual S.A. 3              75202213          US - HOT   \n",
       "49  Banco BTG Pactual S.A. 3              75202213           US - GC   \n",
       "50  Banco BTG Pactual S.A. 3              75202213          US - HOT   \n",
       "51  Banco BTG Pactual S.A. 3              75202213           US - GC   \n",
       "52  Banco BTG Pactual S.A. 3              75202213          US - HOT   \n",
       "53  Banco BTG Pactual S.A. 3              75202213           US - GC   \n",
       "54  Banco BTG Pactual S.A. 3              75202213           US - GC   \n",
       "55  Banco BTG Pactual S.A. 3              75202213           US - GC   \n",
       "56  Banco BTG Pactual S.A. 3              75202213           US - GC   \n",
       "57  Banco BTG Pactual S.A. 3              75202213          US - HOT   \n",
       "58  Banco BTG Pactual S.A. 3              75202213          US - HOT   \n",
       "59  Banco BTG Pactual S.A. 3              75202213          US - HOT   \n",
       "60  Banco BTG Pactual S.A. 3              75202213           US - GC   \n",
       "61  Banco BTG Pactual S.A. 3              75202213           US - GC   \n",
       "62  Banco BTG Pactual S.A. 3              75202213          US - HOT   \n",
       "63  Banco BTG Pactual S.A. 3              75202213           US - GC   \n",
       "64  Banco BTG Pactual S.A. 3              75202213          US - HOT   \n",
       "65  Banco BTG Pactual S.A. 3              75202213          US - HOT   \n",
       "\n",
       "   Billing CCY  FX Rate    Ticker          ISIN    SEDOL  \\\n",
       "0          USD  1.00000        HP  US4234521015  2420101   \n",
       "1          USD  1.00000       HYG  US4642885135  B1VZ486   \n",
       "2          USD  1.00000       ECH  US4642866408  B29FC81   \n",
       "3          USD  1.00000       SPY  US78462F1030  2840215   \n",
       "4          USD  1.00000       EWZ  US4642864007  2726014   \n",
       "5          USD  1.00000       EWW  US4642868222  2373818   \n",
       "6          USD  1.00000       BAP  BMG2519Y1084  2232878   \n",
       "7          USD  1.00000     AKO/B  US29081P3038  2299776   \n",
       "8          USD  1.00000      GRAM  US38500P2083  BC9ZHV9   \n",
       "9          USD  1.00000       SAM  US1005571070  2113393   \n",
       "10         USD  1.00000       CPB  US1344291091  2162845   \n",
       "11         MXN  0.05087   SANMEXB  MXP690491412  2374521   \n",
       "12         USD  1.00000       SPY  US78462F1030  2840215   \n",
       "13         USD  1.00000       QQQ  US73935A1043  2402433   \n",
       "14         USD  1.00000       DRI  US2371941053  2289874   \n",
       "15         USD  1.00000       OII  US6752321025  2655583   \n",
       "16         USD  1.00000      SONC  US8354511052  2821113   \n",
       "17         USD  1.00000       JCP  US7081601061  2680303   \n",
       "18         USD  1.00000       JWN  US6556641008  2641827   \n",
       "19         USD  1.00000       XLP  US81369Y3080  2369389   \n",
       "20         MXN  0.05087     ALFAA  MXP000511016  2043423   \n",
       "21         USD  1.00000      COST  US22160K1051  2701271   \n",
       "22         USD  1.00000      BBBY  US0758961009  2085878   \n",
       "23         USD  1.00000       EWW  US4642868222  2373818   \n",
       "24         USD  1.00000      BSAC  US05965X1090  2136646   \n",
       "25         MXN  0.05087      TLV1  MXP4987V1378  2380108   \n",
       "26         MXN  0.05087   KIMBERA  MXP606941179  2491914   \n",
       "27         MXN  0.05087  MFRISCOA  MX01MF010000  B3QHKH2   \n",
       "28         MXN  0.05087  GFINBURO  MXP370641013  2822398   \n",
       "29         MXN  0.05087    FUNO11  MXCFFU000001  B671GT8   \n",
       "..         ...      ...       ...           ...      ...   \n",
       "36         USD  1.00000       KHC  US5007541064  BYRY499   \n",
       "37         USD  1.00000      PZZA  US6988131024  2696117   \n",
       "38         USD  1.00000        WU  US9598021098  B1F76F9   \n",
       "39         USD  1.00000      PAGS  KYG687071012  BFWK4R7   \n",
       "40         USD  1.00000      MELI  US58733R1023  B23X1H3   \n",
       "41         USD  1.00000       ECH  US4642866408  B29FC81   \n",
       "42         USD  1.00000       DRI  US2371941053  2289874   \n",
       "43         USD  1.00000       EWZ  US4642864007  2726014   \n",
       "44         USD  1.00000       CCU  US2044291043  2217596   \n",
       "45         USD  1.00000      CAKE  US1630721017  2192392   \n",
       "46         USD  1.00000       EWW  US4642868222  2373818   \n",
       "47         USD  1.00000      BSAC  US05965X1090  2136646   \n",
       "48         USD  1.00000      TSLA  US88160R1014  B616C79   \n",
       "49         USD  1.00000       BAP  BMG2519Y1084  2232878   \n",
       "50         USD  1.00000       TPX  US88023U1016  2216991   \n",
       "51         USD  1.00000      NFLX  US64110L1061  2857817   \n",
       "52         USD  1.00000     AKO/B  US29081P3038  2299776   \n",
       "53         USD  1.00000       NRG  US6293775085  2212922   \n",
       "54         USD  1.00000      ENIA  US29274F1049  2314947   \n",
       "55         USD  1.00000        KO  US1912161007  2206657   \n",
       "56         USD  1.00000      ORCL  US68389X1054  2661568   \n",
       "57         USD  1.00000      ENPH  US29355A1079  B65SQW4   \n",
       "58         USD  1.00000       BCH  US0595201064  2834252   \n",
       "59         USD  1.00000       LTM  US51817R1068  B84FQ53   \n",
       "60         USD  1.00000      DATA  US87336U1051  B8DJFL5   \n",
       "61         USD  1.00000     GRAMY  US38500P2083  BC9ZHV9   \n",
       "62         USD  1.00000        LE  US51509F1057  BKWQKM7   \n",
       "63         USD  1.00000       BOX  US10316T1043  BVB3BV2   \n",
       "64         USD  1.00000      MTCH  US57665R1068  BYT5JW8   \n",
       "65         USD  1.00000      ITCB  US45033E1055  BZ30DD5   \n",
       "\n",
       "                        Security Description   Quantity  ...    \\\n",
       "0                         HELMERICH & PAYNE.        500  ...     \n",
       "1                ISHARES TRUST FUNDS HYG....     210475  ...     \n",
       "2                     ISHARES MSCI CHILE ETF       9930  ...     \n",
       "3               SPDR S&P 500 UNITS SER 1 NPV       7700  ...     \n",
       "4                         ISHARES INC.......      70510  ...     \n",
       "5                              ISHARES INC..      36660  ...     \n",
       "6                            CREDICORP - ORD         69  ...     \n",
       "7                 EMBOTELLADORA ANDINA-ADR B       1267  ...     \n",
       "8                     GRANA Y MONTERO SA ADR      21000  ...     \n",
       "9                       BOSTON BEER CL A ORD       3660  ...     \n",
       "10                         CAMPBELL SOUP ORD      13715  ...     \n",
       "11                   GRUPO FIN SANTANDER-B..        (1)  ...     \n",
       "12              SPDR S&P 500 UNITS SER 1 NPV      32223  ...     \n",
       "13                     POWERSHARES QQQ TRUST      25175  ...     \n",
       "14                    DARDEN RESTAURANTS ORD       3714  ...     \n",
       "15             OCEANEERING INTERNATIONAL ORD       1000  ...     \n",
       "16                                SONIC CORP      10396  ...     \n",
       "17                     J.C. PENNEY CO INC...     148714  ...     \n",
       "18                             NORDSTROM ORD       6323  ...     \n",
       "19  CONSUMER STAPLES SELECT SECTOR SPDR FUND     142541  ...     \n",
       "20                         ALFA SAB DE CV...        (1)  ...     \n",
       "21                      COSTCO WHOLESALE ORD       3632  ...     \n",
       "22                   BED BATH AND BEYOND ORD      44089  ...     \n",
       "23                             ISHARES INC..     338547  ...     \n",
       "24                 BANCO SANTANDER CHILE ORD       2214  ...     \n",
       "25                        GRUPO TELEVISA CPO        (1)  ...     \n",
       "26         KIMBERLY CLARK DE MEXICO CL A ORD        (3)  ...     \n",
       "27                MINERA FRISCO SAB DE CV-A1        (1)  ...     \n",
       "28                   GPO FIN INBURSA O - ORD  (1479909)  ...     \n",
       "29              FIBRA UNO ADMINISTRACION SA-        (2)  ...     \n",
       "..                                       ...        ...  ...     \n",
       "36              KRAFT HEINZ CO..............          0  ...     \n",
       "37              PAPA JOHNS INTERNATIONAL ORD          0  ...     \n",
       "38            WESTERN UNION COMPANY -- (THE)       2500  ...     \n",
       "39              PAGSEGURO DIGITAL CL A ORD..      34337  ...     \n",
       "40                          MERCADOLIBRE ORD       5414  ...     \n",
       "41                              ISHARES MSCI       9930  ...     \n",
       "42                    DARDEN RESTAURANTS ORD        600  ...     \n",
       "43                               ISHARES INC      70510  ...     \n",
       "44        COMPANIA CERVECERIAS ADR REP 2 ORD          0  ...     \n",
       "45                    CHEESECAKE FACTORY ORD        700  ...     \n",
       "46                             ISHARES INC..      36660  ...     \n",
       "47                 BANCO SANTANDER CHILE ORD          0  ...     \n",
       "48                        TESLA MOTORS INC--          0  ...     \n",
       "49                           CREDICORP - ORD      15000  ...     \n",
       "50                    TEMPUR SEALY INTERNATI          0  ...     \n",
       "51                             NETFLIX ORD..          0  ...     \n",
       "52                EMBOTELLADORA ANDINA-ADR B          0  ...     \n",
       "53                            NRG ENERGY ORD          0  ...     \n",
       "54                  ENEL AMERICAS SA-ADR....          0  ...     \n",
       "55                              COCA-COLA CO       1000  ...     \n",
       "56                                ORACLE ORD        800  ...     \n",
       "57                        ENPHASE ENERGY ORD      10000  ...     \n",
       "58            BANCO DE CHILE ADR REP 600 ORD          0  ...     \n",
       "59                   LATAM AIRLINES GROUP SA     100193  ...     \n",
       "60                 TABLEAU SOFTWARE INC-CL A          0  ...     \n",
       "61                    GRANA Y MONTERO SA ADR          0  ...     \n",
       "62                           LANDS END - INC       1000  ...     \n",
       "63                    BOX INC - CLASS A.....          0  ...     \n",
       "64                         MATCH GROUP INC..          0  ...     \n",
       "65                        ITAU CORPBANCA....          0  ...     \n",
       "\n",
       "   Loan Value (Base CCY) Daily Accrual   Borrow Value  \\\n",
       "0                  32320        (0.22)       32320.00   \n",
       "1             1.8366e+07      (127.54)    18366048.50   \n",
       "2                 517949       (17.98)      517948.80   \n",
       "3            2.05482e+06         63.93     2054822.00   \n",
       "4            2.85213e+06         59.42     2852129.50   \n",
       "5            1.80697e+06       (62.74)     1806971.40   \n",
       "6                14312.7          0.45       14312.67   \n",
       "7                37097.8        (5.93)       37097.76   \n",
       "8                  63000        (2.63)       63000.00   \n",
       "9                 699426         14.57      699426.00   \n",
       "10                659829         20.53      659828.65   \n",
       "11                 -1.46          0.00        (28.73)   \n",
       "12           8.59903e+06        267.53     8599029.78   \n",
       "13           3.92126e+06        121.99     3921258.00   \n",
       "14                356618         11.09      356618.28   \n",
       "15                 21140          0.66       21140.00   \n",
       "16                285682       (11.90)      285682.08   \n",
       "17                469936      (140.33)      469936.24   \n",
       "18                299584          9.32      299583.74   \n",
       "19           8.10916e+06        140.78     8109157.49   \n",
       "20                  -1.1          0.00        (21.57)   \n",
       "21                675988         21.03      675987.84   \n",
       "22                969517         30.16      969517.11   \n",
       "23            1.6687e+07      (579.41)    16686981.63   \n",
       "24               69231.8          2.15       69231.78   \n",
       "25                 -3.76          0.00        (73.84)   \n",
       "26                 -5.29          0.00       (103.95)   \n",
       "27                 -0.58          0.00        (11.41)   \n",
       "28          -2.41796e+06      (722.81)  (47534677.08)   \n",
       "29                 -2.96          0.00        (58.28)   \n",
       "..                   ...           ...            ...   \n",
       "36             550659.20          0.00           0.00   \n",
       "37             376160.40          0.00           0.00   \n",
       "38              47100.00          2.11       47100.00   \n",
       "39             907183.54         40.57      907183.54   \n",
       "40            2029437.90         90.76     2029437.90   \n",
       "41             449133.90       (18.71)      449133.90   \n",
       "42              68328.00          3.06       68328.00   \n",
       "43            2313433.10        103.46     2313433.10   \n",
       "44             529400.00          0.00           0.00   \n",
       "45              36757.00          1.28       36757.00   \n",
       "46            1914385.20       (66.47)     1914385.20   \n",
       "47              45855.00          0.00           0.00   \n",
       "48              46266.00          0.00           0.00   \n",
       "49            3352500.00        149.93     3352500.00   \n",
       "50             484500.00          0.00           0.00   \n",
       "51             338020.00          0.00           0.00   \n",
       "52              23088.00          0.00           0.00   \n",
       "53              33950.00          0.00           0.00   \n",
       "54              52536.00          0.00           0.00   \n",
       "55              45690.00          2.04       45690.00   \n",
       "56              39464.00          1.76       39464.00   \n",
       "57              47900.00        (2.99)       47900.00   \n",
       "58               8911.00          0.00           0.00   \n",
       "59             923779.46       (57.74)      923779.46   \n",
       "60              49270.00          0.00           0.00   \n",
       "61              97939.80          0.00           0.00   \n",
       "62              24000.00          0.33       24000.00   \n",
       "63              51120.00          0.00           0.00   \n",
       "64              13109.20          0.00           0.00   \n",
       "65              61326.10          0.00           0.00   \n",
       "\n",
       "   Daily Accrual (Base CCY)       date   pb month_number  year  month  cusip  \n",
       "0                     -0.22 2018-01-01  ubs            1  2018    jan    NaN  \n",
       "1                   -127.54 2018-01-01  ubs            1  2018    jan    NaN  \n",
       "2                    -17.98 2018-01-01  ubs            1  2018    jan    NaN  \n",
       "3                     63.93 2018-01-01  ubs            1  2018    jan    NaN  \n",
       "4                     59.42 2018-01-01  ubs            1  2018    jan    NaN  \n",
       "5                    -62.74 2018-01-01  ubs            1  2018    jan    NaN  \n",
       "6                      0.45 2018-01-01  ubs            1  2018    jan    NaN  \n",
       "7                     -5.93 2018-01-01  ubs            1  2018    jan    NaN  \n",
       "8                     -2.63 2018-01-01  ubs            1  2018    jan    NaN  \n",
       "9                     14.57 2018-01-01  ubs            1  2018    jan    NaN  \n",
       "10                    20.53 2018-01-01  ubs            1  2018    jan    NaN  \n",
       "11                        0 2018-01-01  ubs            1  2018    jan    NaN  \n",
       "12                   267.53 2018-01-01  ubs            1  2018    jan    NaN  \n",
       "13                   121.99 2018-01-01  ubs            1  2018    jan    NaN  \n",
       "14                    11.09 2018-01-01  ubs            1  2018    jan    NaN  \n",
       "15                     0.66 2018-01-01  ubs            1  2018    jan    NaN  \n",
       "16                    -11.9 2018-01-01  ubs            1  2018    jan    NaN  \n",
       "17                  -140.33 2018-01-01  ubs            1  2018    jan    NaN  \n",
       "18                     9.32 2018-01-01  ubs            1  2018    jan    NaN  \n",
       "19                   140.78 2018-01-01  ubs            1  2018    jan    NaN  \n",
       "20                        0 2018-01-01  ubs            1  2018    jan    NaN  \n",
       "21                    21.03 2018-01-01  ubs            1  2018    jan    NaN  \n",
       "22                    30.16 2018-01-01  ubs            1  2018    jan    NaN  \n",
       "23                  -579.41 2018-01-01  ubs            1  2018    jan    NaN  \n",
       "24                     2.15 2018-01-01  ubs            1  2018    jan    NaN  \n",
       "25                        0 2018-01-01  ubs            1  2018    jan    NaN  \n",
       "26                        0 2018-01-01  ubs            1  2018    jan    NaN  \n",
       "27                        0 2018-01-01  ubs            1  2018    jan    NaN  \n",
       "28                   -36.77 2018-01-01  ubs            1  2018    jan    NaN  \n",
       "29                        0 2018-01-01  ubs            1  2018    jan    NaN  \n",
       "..                      ...        ...  ...          ...   ...    ...    ...  \n",
       "36                     0.00 2018-08-27  ubs            8  2018    ago    NaN  \n",
       "37                     0.00 2018-08-27  ubs            8  2018    ago    NaN  \n",
       "38                     2.11 2018-08-27  ubs            8  2018    ago    NaN  \n",
       "39                    40.57 2018-08-27  ubs            8  2018    ago    NaN  \n",
       "40                    90.76 2018-08-27  ubs            8  2018    ago    NaN  \n",
       "41                  (18.71) 2018-08-27  ubs            8  2018    ago    NaN  \n",
       "42                     3.06 2018-08-27  ubs            8  2018    ago    NaN  \n",
       "43                   103.46 2018-08-27  ubs            8  2018    ago    NaN  \n",
       "44                     0.00 2018-08-27  ubs            8  2018    ago    NaN  \n",
       "45                     1.28 2018-08-27  ubs            8  2018    ago    NaN  \n",
       "46                  (66.47) 2018-08-27  ubs            8  2018    ago    NaN  \n",
       "47                     0.00 2018-08-27  ubs            8  2018    ago    NaN  \n",
       "48                     0.00 2018-08-27  ubs            8  2018    ago    NaN  \n",
       "49                   149.93 2018-08-27  ubs            8  2018    ago    NaN  \n",
       "50                     0.00 2018-08-27  ubs            8  2018    ago    NaN  \n",
       "51                     0.00 2018-08-27  ubs            8  2018    ago    NaN  \n",
       "52                     0.00 2018-08-27  ubs            8  2018    ago    NaN  \n",
       "53                     0.00 2018-08-27  ubs            8  2018    ago    NaN  \n",
       "54                     0.00 2018-08-27  ubs            8  2018    ago    NaN  \n",
       "55                     2.04 2018-08-27  ubs            8  2018    ago    NaN  \n",
       "56                     1.76 2018-08-27  ubs            8  2018    ago    NaN  \n",
       "57                   (2.99) 2018-08-27  ubs            8  2018    ago    NaN  \n",
       "58                     0.00 2018-08-27  ubs            8  2018    ago    NaN  \n",
       "59                  (57.74) 2018-08-27  ubs            8  2018    ago    NaN  \n",
       "60                     0.00 2018-08-27  ubs            8  2018    ago    NaN  \n",
       "61                     0.00 2018-08-27  ubs            8  2018    ago    NaN  \n",
       "62                     0.33 2018-08-27  ubs            8  2018    ago    NaN  \n",
       "63                     0.00 2018-08-27  ubs            8  2018    ago    NaN  \n",
       "64                     0.00 2018-08-27  ubs            8  2018    ago    NaN  \n",
       "65                     0.00 2018-08-27  ubs            8  2018    ago    NaN  \n",
       "\n",
       "[10508 rows x 22 columns]"
      ]
     },
     "execution_count": 9,
     "metadata": {},
     "output_type": "execute_result"
    }
   ],
   "source": [
    "ubs"
   ]
  },
  {
   "cell_type": "code",
   "execution_count": null,
   "metadata": {
    "collapsed": true
   },
   "outputs": [],
   "source": [
    "ubs = ubs[['Reference Account Id' ,'pb', 'date', 'Ticker', 'ISIN', 'cusip', 'SEDOL', 'Quantity',\n",
    "           'Daily Accrual', 'Billing CCY', 'month', 'year']].drop_duplicates()\n",
    "ubs.columns = ['conta', 'pb', 'data_ref', 'ticker', 'isin', 'cusip', 'sedol', 'qt', 'accrual', 'currency', 'month', 'year']\n",
    "ubs = ubs.drop_duplicates(subset=['conta', 'data_ref', 'ticker', 'qt', 'currency'])\n",
    "ubs = ubs[ubs['conta'].isnull()==False]"
   ]
  },
  {
   "cell_type": "code",
   "execution_count": 9,
   "metadata": {
    "collapsed": true
   },
   "outputs": [],
   "source": [
    "morgan['date'] = pd.to_datetime(morgan['Value Date'], errors='coerce', format = '%m/%d/%Y')\n",
    "morgan['pb'] = 'ms'\n",
    "morgan['month_number'] = morgan['date'].dt.month\n",
    "morgan['year'] = morgan['date'].dt.year\n",
    "morgan['month'] = morgan['month_number'].map(months_dict)\n",
    "morgan = morgan[['Account', 'pb', 'date', 'Symbol', 'ISIN', 'Cusip', 'Sedol', 'Shares', 'Net Borrow Cost', 'Currency', 'month', 'year']] \n",
    "morgan.columns = ['conta', 'pb', 'data_ref', 'ticker', 'isin', 'cusip', 'sedol', 'qt', 'accrual', 'currency', 'month', 'year']  \n",
    "nparray = np.where(morgan['data_ref'].dt.weekday==6, morgan['data_ref']-datetime.timedelta(2),morgan['data_ref'])\n",
    "morgan = morgan.drop('data_ref', axis=1)\n",
    "morgan['data_ref'] = nparray\n",
    "morgan = morgan.drop_duplicates().reset_index(drop=True) \n",
    "morgan = morgan[morgan['conta'].isnull()==False]"
   ]
  },
  {
   "cell_type": "code",
   "execution_count": 10,
   "metadata": {
    "collapsed": false
   },
   "outputs": [],
   "source": [
    "pb = pd.concat([morgan, ubs], axis=0).reset_index(drop=True)\n",
    "pb.qt = (pb.qt.replace( '[)]','', regex=True )\n",
    "           .replace( '[(]','-',   regex=True ).astype(float))    \n",
    "pb.accrual = (pb.accrual.replace( '[)]','', regex=True )\n",
    "           .replace( '[(]','-',   regex=True ).astype(float))\n",
    "pb['qt'] = -abs(pb['qt'])\n",
    "pb = pb[pb.data_ref.dt.weekday<5]\n",
    "#Como estamos pegando somente os dias úteis, multiplica o valor de sexta por 3 para levar em consideração dias corridos\n",
    "nparray = np.where(pb.data_ref.dt.weekday==4, pb['accrual']*3, pb['accrual'])\n",
    "pb['accrual'] = nparray\n",
    "contas =  pb['conta'].astype(str).copy()\n",
    "pb['conta'] = contas\n",
    "#Aplica o dicionário de contas que também está no aluguel_offshore.py\n",
    "pb['acc'] = pb['conta'].apply(lambda x: dict_contas[x])\n",
    "pb = pb[['conta', 'pb', 'data_ref', 'ticker', 'isin', 'cusip','sedol','qt', 'accrual','currency','month','year']]"
   ]
  },
  {
   "cell_type": "code",
   "execution_count": 11,
   "metadata": {
    "collapsed": false
   },
   "outputs": [
    {
     "name": "stdout",
     "output_type": "stream",
     "text": [
      "Wall time: 5.46 s\n"
     ]
    }
   ],
   "source": [
    "%%time\n",
    "pras['tipo'] = 'ASSET'\n",
    "bdwm['tipo'] = 'WM'\n",
    "intc['tipo'] = 'INT C'\n",
    "calypso = pd.concat([pras, bdwm, intc], axis=0).reset_index(drop=True)    \n",
    "calypso['date'] = pd.to_datetime(calypso['date'])\n",
    "calypso['month_number'] = calypso['date'].dt.month\n",
    "calypso['year'] = calypso['date'].dt.year\n",
    "calypso['month'] = calypso['month_number'].map(months_dict)\n",
    "calypso = calypso[['Account Name','tipo', 'Agent','date', 'shares', 'Book', 'PRODUCT_CODE.TICKER', 'PRODUCT_CODE.ISIN', \n",
    "                   'PRODUCT_CODE.CUSIP', 'Underlying.Product Code.SEDOL', 'Product Currency', 'month', 'year']].reset_index(drop=True)\n",
    "calypso.columns = ['conta_pb','conta', 'agent', 'data_ref', 'quantidade', 'book', 'ticker', 'isin', 'cusip', 'sedol',\n",
    "                   'currency', 'month', 'year']"
   ]
  },
  {
   "cell_type": "code",
   "execution_count": 12,
   "metadata": {
    "collapsed": true
   },
   "outputs": [],
   "source": [
    "calypso['quantidade'] = calypso['quantidade'].replace(',','', regex=True)\n",
    "calypso['quantidade'] = calypso['quantidade'].astype(float)"
   ]
  },
  {
   "cell_type": "code",
   "execution_count": 13,
   "metadata": {
    "collapsed": true
   },
   "outputs": [],
   "source": [
    "calypso.conta_pb = calypso.conta_pb.astype(str)\n",
    "calypso = calypso[calypso.data_ref.dt.weekday<5]\n",
    "calypso_1 = calypso.copy()\n",
    "calypso_1['acc'] = calypso_1['conta_pb'].map(dict_contas)\n",
    "#Pega somente os arquivos do calypso que se referem às contas da asset\n",
    "calypso = calypso[calypso.conta_pb.isin(dict_contas.keys())].copy()"
   ]
  },
  {
   "cell_type": "code",
   "execution_count": null,
   "metadata": {
    "collapsed": true
   },
   "outputs": [],
   "source": []
  },
  {
   "cell_type": "code",
   "execution_count": 14,
   "metadata": {
    "collapsed": true
   },
   "outputs": [],
   "source": [
    "# Faz o ajuste das contas do calypso, somando pelas variáveis abaixo e pegando somente as linhas negativas\n",
    "calypso_ajuste = calypso.groupby(by=['conta_pb','data_ref', 'ticker','currency']).sum().reset_index()\n",
    "calypso_ajuste = calypso_ajuste[calypso_ajuste['quantidade']<0].copy()\n",
    "calypso_ajuste['acc'] = calypso_ajuste['conta_pb'].map(dict_contas)\n",
    "calypso_ajuste = calypso_ajuste.groupby(by=['acc','data_ref', 'ticker','currency']).sum().reset_index()\n",
    "calypso['acc'] = calypso['conta_pb'].map(dict_contas)"
   ]
  },
  {
   "cell_type": "code",
   "execution_count": 15,
   "metadata": {
    "collapsed": true
   },
   "outputs": [],
   "source": [
    "# Aqui ainda faz parte do calypso_ajuste. Estou transferindo as informações entre as bases\n",
    "calypso = pd.merge(calypso, calypso_ajuste, on=['acc', 'data_ref', 'ticker', 'currency'], how='left')\n",
    "#Aqui eu estou tirando as linhas que não foram encontradas na volta. lembrar que o Calypso_teste derrubou um monte de linhas\n",
    "#todas aquelas que não tinham as informações que eram de aluguel doado.\n",
    "#Assim, teoricamente, todas as linhas desse novo calypso dizem respeito a posições tomadoras de aluguel.\n",
    "calypso = calypso[calypso['quantidade_y'].isnull()==False].copy().reset_index(drop=True)\n",
    "calypso = calypso.drop(['quantidade_y', 'year_y'], axis=1).rename(columns={\n",
    "    'quantidade_x':'quantidade',\n",
    "    'year_x':'year',\n",
    "})"
   ]
  },
  {
   "cell_type": "code",
   "execution_count": null,
   "metadata": {
    "collapsed": true
   },
   "outputs": [],
   "source": []
  },
  {
   "cell_type": "code",
   "execution_count": null,
   "metadata": {
    "collapsed": true
   },
   "outputs": [],
   "source": []
  },
  {
   "cell_type": "code",
   "execution_count": 16,
   "metadata": {
    "collapsed": false
   },
   "outputs": [],
   "source": [
    "def info_base_pb_to_get_ticker(pb, x):\n",
    "    ticker = str(pb[pb.index==x]['ticker'][x]).replace('/', '')\n",
    "    isin = str(pb[pb.index==x]['isin'][x])\n",
    "    cusip = str(pb[pb.index==x]['cusip'][x])\n",
    "    sedol = str(pb[pb.index==x]['sedol'][x])\n",
    "\n",
    "    return ticker, isin, cusip, sedol"
   ]
  },
  {
   "cell_type": "code",
   "execution_count": 17,
   "metadata": {
    "collapsed": false
   },
   "outputs": [],
   "source": [
    "def get_ticker_bases(calypso, pb, x):\n",
    "    try:\n",
    "        ticker_pb, isin, cusip, sedol = info_base_pb_to_get_ticker(pb, x)\n",
    "        try:\n",
    "            ticker = calypso[calypso['isin']==isin].drop_duplicates(subset=['ticker']).reset_index(drop=True)['ticker'][0]\n",
    "            construct = 'isin'\n",
    "        except IndexError:\n",
    "            try:\n",
    "                ticker = calypso[calypso['cusip']==cusip].drop_duplicates(subset=['ticker']).reset_index(drop=True)['ticker'][0]\n",
    "                construct = 'cusip'\n",
    "            except IndexError:\n",
    "                ticker = calypso[calypso['sedol']==sedol].drop_duplicates(subset=['ticker']).reset_index(drop=True)['ticker'][0]\n",
    "                construct = 'sedol'\n",
    "        return [ticker, construct]\n",
    "    except IndexError:\n",
    "        ticker_pb, isin, cusip, sedol = info_base_pb_to_get_ticker(pb, x)\n",
    "        print('O ticker %s não foi encontrado pelos códigos.\\n Tentaremos agora pelo nome' %(ticker_pb))\n",
    "        try:\n",
    "            ticker = ticker_pb.split('.')[0]\n",
    "            ticker = calypso[calypso.ticker.str.contains(ticker_pb)].drop_duplicates(subset=['ticker'])\\\n",
    "                                                            .reset_index(drop=True)['ticker'][0]\n",
    "            construct = 'nome'\n",
    "            print('O ticker %s não foi encontrado pelo nome.\\n Ele será então contruído pelo Ticker + Isin' %(ticker_pb))\n",
    "        except IndexError:\n",
    "            ticker = ticker.split('.')[0]\n",
    "            ticker = str(ticker_pb)+' '+str(isin)[:2]\n",
    "            construct = 'construido_ticker'\n",
    "            print ('''Nós aconselhamos que você confira o ticker %s, porque ele foi ajustado pelo Isin.\n",
    "Caso ele esteja ERRADO você deverá fazer o ajuste na próxima parte.''' %(ticker_pb))\n",
    "        return [ticker, construct]\n",
    "    except ValueError:\n",
    "        print(r'O ticker %s não foi encontrado em nenhuma instância.\\n Proceder com inserção manual' %(ticker_pb))\n",
    "        return [np.nan, np.nan]"
   ]
  },
  {
   "cell_type": "code",
   "execution_count": 18,
   "metadata": {
    "collapsed": false
   },
   "outputs": [
    {
     "data": {
      "text/plain": [
       "['FMG AU', 'isin']"
      ]
     },
     "execution_count": 18,
     "metadata": {},
     "output_type": "execute_result"
    }
   ],
   "source": [
    "get_ticker_bases(calypso, pb, 0)"
   ]
  },
  {
   "cell_type": "code",
   "execution_count": 19,
   "metadata": {
    "collapsed": false
   },
   "outputs": [],
   "source": [
    "mapa_tickers = pb[['ticker','isin','cusip','sedol']].drop_duplicates().reset_index(drop=True)"
   ]
  },
  {
   "cell_type": "code",
   "execution_count": 20,
   "metadata": {
    "collapsed": false,
    "scrolled": true
   },
   "outputs": [
    {
     "name": "stdout",
     "output_type": "stream",
     "text": [
      "O ticker GOLD não foi encontrado pelos códigos.\n",
      " Tentaremos agora pelo nome\n",
      "O ticker GOLD não foi encontrado pelo nome.\n",
      " Ele será então contruído pelo Ticker + Isin\n",
      "O ticker CNI não foi encontrado pelos códigos.\n",
      " Tentaremos agora pelo nome\n",
      "Nós aconselhamos que você confira o ticker CNI, porque ele foi ajustado pelo Isin.\n",
      "Caso ele esteja ERRADO você deverá fazer o ajuste na próxima parte.\n",
      "O ticker TPX não foi encontrado pelos códigos.\n",
      " Tentaremos agora pelo nome\n",
      "Nós aconselhamos que você confira o ticker TPX, porque ele foi ajustado pelo Isin.\n",
      "Caso ele esteja ERRADO você deverá fazer o ajuste na próxima parte.\n",
      "O ticker GRAMY não foi encontrado pelos códigos.\n",
      " Tentaremos agora pelo nome\n",
      "Nós aconselhamos que você confira o ticker GRAMY, porque ele foi ajustado pelo Isin.\n",
      "Caso ele esteja ERRADO você deverá fazer o ajuste na próxima parte.\n",
      "O ticker NRG não foi encontrado pelos códigos.\n",
      " Tentaremos agora pelo nome\n",
      "Nós aconselhamos que você confira o ticker NRG, porque ele foi ajustado pelo Isin.\n",
      "Caso ele esteja ERRADO você deverá fazer o ajuste na próxima parte.\n",
      "O ticker DATA não foi encontrado pelos códigos.\n",
      " Tentaremos agora pelo nome\n",
      "Nós aconselhamos que você confira o ticker DATA, porque ele foi ajustado pelo Isin.\n",
      "Caso ele esteja ERRADO você deverá fazer o ajuste na próxima parte.\n"
     ]
    }
   ],
   "source": [
    "lista_tickers = [get_ticker_bases(calypso, mapa_tickers, x) for x in mapa_tickers.index]"
   ]
  },
  {
   "cell_type": "code",
   "execution_count": 21,
   "metadata": {
    "collapsed": false,
    "scrolled": true
   },
   "outputs": [],
   "source": [
    "mapeados = pd.DataFrame(lista_tickers).rename(columns={0:'ticker_calypso', 1:'construct'})"
   ]
  },
  {
   "cell_type": "code",
   "execution_count": 22,
   "metadata": {
    "collapsed": false
   },
   "outputs": [],
   "source": [
    "mapa_tickers = pd.concat([mapa_tickers, mapeados], axis=1)"
   ]
  },
  {
   "cell_type": "code",
   "execution_count": 23,
   "metadata": {
    "collapsed": false
   },
   "outputs": [
    {
     "data": {
      "text/html": [
       "<div>\n",
       "<table border=\"1\" class=\"dataframe\">\n",
       "  <thead>\n",
       "    <tr style=\"text-align: right;\">\n",
       "      <th></th>\n",
       "      <th>ticker</th>\n",
       "      <th>isin</th>\n",
       "      <th>cusip</th>\n",
       "      <th>sedol</th>\n",
       "      <th>ticker_calypso</th>\n",
       "      <th>construct</th>\n",
       "    </tr>\n",
       "  </thead>\n",
       "  <tbody>\n",
       "    <tr>\n",
       "      <th>183</th>\n",
       "      <td>CNI</td>\n",
       "      <td>CA1363751027</td>\n",
       "      <td>136375102</td>\n",
       "      <td>2210959</td>\n",
       "      <td>CNI CA</td>\n",
       "      <td>construido_ticker</td>\n",
       "    </tr>\n",
       "    <tr>\n",
       "      <th>225</th>\n",
       "      <td>TPX</td>\n",
       "      <td>US88023U1016</td>\n",
       "      <td>NaN</td>\n",
       "      <td>2216991</td>\n",
       "      <td>TPX US</td>\n",
       "      <td>construido_ticker</td>\n",
       "    </tr>\n",
       "    <tr>\n",
       "      <th>235</th>\n",
       "      <td>GRAMY</td>\n",
       "      <td>US38500P2083</td>\n",
       "      <td>NaN</td>\n",
       "      <td>BC9ZHV9</td>\n",
       "      <td>GRAMY US</td>\n",
       "      <td>construido_ticker</td>\n",
       "    </tr>\n",
       "    <tr>\n",
       "      <th>237</th>\n",
       "      <td>NRG</td>\n",
       "      <td>US6293775085</td>\n",
       "      <td>NaN</td>\n",
       "      <td>2212922</td>\n",
       "      <td>NRG US</td>\n",
       "      <td>construido_ticker</td>\n",
       "    </tr>\n",
       "    <tr>\n",
       "      <th>238</th>\n",
       "      <td>DATA</td>\n",
       "      <td>US87336U1051</td>\n",
       "      <td>NaN</td>\n",
       "      <td>B8DJFL5</td>\n",
       "      <td>DATA US</td>\n",
       "      <td>construido_ticker</td>\n",
       "    </tr>\n",
       "  </tbody>\n",
       "</table>\n",
       "</div>"
      ],
      "text/plain": [
       "    ticker          isin      cusip    sedol ticker_calypso          construct\n",
       "183    CNI  CA1363751027  136375102  2210959         CNI CA  construido_ticker\n",
       "225    TPX  US88023U1016        NaN  2216991         TPX US  construido_ticker\n",
       "235  GRAMY  US38500P2083        NaN  BC9ZHV9       GRAMY US  construido_ticker\n",
       "237    NRG  US6293775085        NaN  2212922         NRG US  construido_ticker\n",
       "238   DATA  US87336U1051        NaN  B8DJFL5        DATA US  construido_ticker"
      ]
     },
     "execution_count": 23,
     "metadata": {},
     "output_type": "execute_result"
    }
   ],
   "source": [
    "mapa_tickers[mapa_tickers['construct']=='construido_ticker']"
   ]
  },
  {
   "cell_type": "code",
   "execution_count": 24,
   "metadata": {
    "collapsed": true
   },
   "outputs": [],
   "source": [
    "ticker_diffs = ticker_diffs.rename(columns={\n",
    "    'Stock':'ticker',\n",
    "    'Isin':'isin',\n",
    "    'Cusip':'cusip',\n",
    "    'Sedol':'sedol'\n",
    "})"
   ]
  },
  {
   "cell_type": "code",
   "execution_count": null,
   "metadata": {
    "collapsed": true
   },
   "outputs": [],
   "source": []
  },
  {
   "cell_type": "code",
   "execution_count": 25,
   "metadata": {
    "collapsed": false
   },
   "outputs": [],
   "source": [
    "#mapa_tickers_diffs = ticker_diffs[['ticker','isin','cusip','sedol']].drop_duplicates().reset_index(drop=True)"
   ]
  },
  {
   "cell_type": "code",
   "execution_count": 26,
   "metadata": {
    "collapsed": false,
    "scrolled": true
   },
   "outputs": [],
   "source": [
    "#lista_tickers_diffs = [get_ticker_bases(calypso, mapa_tickers_diffs, x) for x in mapa_tickers_diffs.index]"
   ]
  },
  {
   "cell_type": "code",
   "execution_count": 27,
   "metadata": {
    "collapsed": true
   },
   "outputs": [],
   "source": [
    "#mapeados_diff = pd.DataFrame(lista_tickers_diffs).rename(columns={0:'ticker_calypso', 1:'construct'})"
   ]
  },
  {
   "cell_type": "code",
   "execution_count": 28,
   "metadata": {
    "collapsed": true
   },
   "outputs": [],
   "source": [
    "#mapa_tickers_diffs = pd.concat([mapa_tickers_diffs, mapeados_diff], axis=1)"
   ]
  },
  {
   "cell_type": "code",
   "execution_count": null,
   "metadata": {
    "collapsed": true
   },
   "outputs": [],
   "source": []
  },
  {
   "cell_type": "code",
   "execution_count": null,
   "metadata": {
    "collapsed": true
   },
   "outputs": [],
   "source": []
  },
  {
   "cell_type": "code",
   "execution_count": 29,
   "metadata": {
    "collapsed": false,
    "scrolled": true
   },
   "outputs": [],
   "source": [
    "mapa_tickers = mapa_tickers.drop(['isin', 'cusip', 'sedol', 'construct'], axis=1)"
   ]
  },
  {
   "cell_type": "code",
   "execution_count": 30,
   "metadata": {
    "collapsed": false
   },
   "outputs": [],
   "source": [
    "pb['id'] = range(0, len(pb))"
   ]
  },
  {
   "cell_type": "code",
   "execution_count": 31,
   "metadata": {
    "collapsed": false,
    "scrolled": true
   },
   "outputs": [],
   "source": [
    "pb_1 = pd.merge(pb, mapa_tickers, on='ticker', how='left').drop_duplicates()"
   ]
  },
  {
   "cell_type": "code",
   "execution_count": 32,
   "metadata": {
    "collapsed": false,
    "scrolled": true
   },
   "outputs": [],
   "source": [
    "# Isso aqui tem que ser zero para estar tudo ok!\n",
    "check_1 = pb_1[~pb_1['id'].isin(pb['id'])].shape[0]+pb[~pb['id'].isin(pb_1['id'])].shape[0]\n",
    "if check_1 == 0:\n",
    "    pb = pb_1.drop(['ticker', 'isin','cusip','sedol','id'], axis=1)[['conta', 'pb', 'data_ref','ticker_calypso', 'currency',\n",
    "                                                                    'qt', 'accrual', 'month','year']].rename(columns={\n",
    "        'ticker_calypso':'ticker'\n",
    "    })\n",
    "else:\n",
    "    print('Houve algum problema na hora do mapeamento! será necessário fazer ajustes')"
   ]
  },
  {
   "cell_type": "markdown",
   "metadata": {},
   "source": [
    "# Batimento mensal"
   ]
  },
  {
   "cell_type": "markdown",
   "metadata": {},
   "source": [
    "#### Bate os arquivos do calypso contra o pb para ver se todos os que estão no calypso estão no pb"
   ]
  },
  {
   "cell_type": "code",
   "execution_count": 33,
   "metadata": {
    "collapsed": false
   },
   "outputs": [],
   "source": [
    "calypso_month = calypso.drop(['book', 'isin', 'cusip', 'month', 'year'], axis=1).reset_index(drop=True).copy()\n",
    "pb_month = pb.drop(['month', 'year'], axis=1).reset_index(drop=True).copy()\n",
    "pb_month['acc'] = pb_month['conta'].map(dict_contas)"
   ]
  },
  {
   "cell_type": "code",
   "execution_count": 34,
   "metadata": {
    "collapsed": false,
    "scrolled": true
   },
   "outputs": [],
   "source": [
    "dias_calypso = calypso_month[['acc', 'data_ref']].copy()\n",
    "dias_calypso['tipo'] = 'calypso'\n",
    "dias_pb = pb_month[['acc', 'data_ref']].copy()\n",
    "dias_pb['tipo'] = 'pb'\n",
    "dias_ok = pd.concat([dias_calypso, dias_pb], axis=0)\n",
    "dias_ok['check'] = 1\n",
    "pvt = pd.pivot_table(dias_ok, values=['check'],\n",
    "                     index='data_ref', columns=['tipo','acc'])"
   ]
  },
  {
   "cell_type": "code",
   "execution_count": null,
   "metadata": {
    "collapsed": true
   },
   "outputs": [],
   "source": []
  },
  {
   "cell_type": "code",
   "execution_count": 35,
   "metadata": {
    "collapsed": false,
    "scrolled": true
   },
   "outputs": [
    {
     "data": {
      "text/html": [
       "<div>\n",
       "<table border=\"1\" class=\"dataframe\">\n",
       "  <thead>\n",
       "    <tr>\n",
       "      <th></th>\n",
       "      <th colspan=\"6\" halign=\"left\">check</th>\n",
       "    </tr>\n",
       "    <tr>\n",
       "      <th>tipo</th>\n",
       "      <th colspan=\"3\" halign=\"left\">calypso</th>\n",
       "      <th colspan=\"3\" halign=\"left\">pb</th>\n",
       "    </tr>\n",
       "    <tr>\n",
       "      <th>acc</th>\n",
       "      <th>int_c</th>\n",
       "      <th>ms_cayman</th>\n",
       "      <th>ubs_cayman</th>\n",
       "      <th>int_c</th>\n",
       "      <th>ms_cayman</th>\n",
       "      <th>ubs_cayman</th>\n",
       "    </tr>\n",
       "    <tr>\n",
       "      <th>data_ref</th>\n",
       "      <th></th>\n",
       "      <th></th>\n",
       "      <th></th>\n",
       "      <th></th>\n",
       "      <th></th>\n",
       "      <th></th>\n",
       "    </tr>\n",
       "  </thead>\n",
       "  <tbody>\n",
       "    <tr>\n",
       "      <th>2018-08-01</th>\n",
       "      <td>1</td>\n",
       "      <td>1</td>\n",
       "      <td>1</td>\n",
       "      <td>1</td>\n",
       "      <td>1</td>\n",
       "      <td>1</td>\n",
       "    </tr>\n",
       "    <tr>\n",
       "      <th>2018-08-02</th>\n",
       "      <td>1</td>\n",
       "      <td>1</td>\n",
       "      <td>1</td>\n",
       "      <td>1</td>\n",
       "      <td>1</td>\n",
       "      <td>1</td>\n",
       "    </tr>\n",
       "    <tr>\n",
       "      <th>2018-08-03</th>\n",
       "      <td>1</td>\n",
       "      <td>1</td>\n",
       "      <td>1</td>\n",
       "      <td>1</td>\n",
       "      <td>1</td>\n",
       "      <td>1</td>\n",
       "    </tr>\n",
       "    <tr>\n",
       "      <th>2018-08-06</th>\n",
       "      <td>1</td>\n",
       "      <td>1</td>\n",
       "      <td>1</td>\n",
       "      <td>1</td>\n",
       "      <td>1</td>\n",
       "      <td>1</td>\n",
       "    </tr>\n",
       "    <tr>\n",
       "      <th>2018-08-07</th>\n",
       "      <td>1</td>\n",
       "      <td>1</td>\n",
       "      <td>1</td>\n",
       "      <td>1</td>\n",
       "      <td>1</td>\n",
       "      <td>1</td>\n",
       "    </tr>\n",
       "    <tr>\n",
       "      <th>2018-08-08</th>\n",
       "      <td>1</td>\n",
       "      <td>1</td>\n",
       "      <td>1</td>\n",
       "      <td>1</td>\n",
       "      <td>1</td>\n",
       "      <td>1</td>\n",
       "    </tr>\n",
       "    <tr>\n",
       "      <th>2018-08-09</th>\n",
       "      <td>1</td>\n",
       "      <td>1</td>\n",
       "      <td>1</td>\n",
       "      <td>1</td>\n",
       "      <td>1</td>\n",
       "      <td>1</td>\n",
       "    </tr>\n",
       "    <tr>\n",
       "      <th>2018-08-10</th>\n",
       "      <td>1</td>\n",
       "      <td>1</td>\n",
       "      <td>1</td>\n",
       "      <td>1</td>\n",
       "      <td>1</td>\n",
       "      <td>1</td>\n",
       "    </tr>\n",
       "    <tr>\n",
       "      <th>2018-08-13</th>\n",
       "      <td>1</td>\n",
       "      <td>1</td>\n",
       "      <td>1</td>\n",
       "      <td>1</td>\n",
       "      <td>1</td>\n",
       "      <td>1</td>\n",
       "    </tr>\n",
       "  </tbody>\n",
       "</table>\n",
       "</div>"
      ],
      "text/plain": [
       "             check                                                \n",
       "tipo       calypso                         pb                     \n",
       "acc          int_c ms_cayman ubs_cayman int_c ms_cayman ubs_cayman\n",
       "data_ref                                                          \n",
       "2018-08-01       1         1          1     1         1          1\n",
       "2018-08-02       1         1          1     1         1          1\n",
       "2018-08-03       1         1          1     1         1          1\n",
       "2018-08-06       1         1          1     1         1          1\n",
       "2018-08-07       1         1          1     1         1          1\n",
       "2018-08-08       1         1          1     1         1          1\n",
       "2018-08-09       1         1          1     1         1          1\n",
       "2018-08-10       1         1          1     1         1          1\n",
       "2018-08-13       1         1          1     1         1          1"
      ]
     },
     "execution_count": 35,
     "metadata": {},
     "output_type": "execute_result"
    }
   ],
   "source": [
    "pvt"
   ]
  },
  {
   "cell_type": "code",
   "execution_count": null,
   "metadata": {
    "collapsed": true
   },
   "outputs": [],
   "source": []
  },
  {
   "cell_type": "code",
   "execution_count": 36,
   "metadata": {
    "collapsed": true
   },
   "outputs": [],
   "source": [
    "#Agrupa as informações que estão no calypso eliminando books. Junta em conta_pb, agent, data_ref, ticker e currency\n",
    "calypso_batimento = calypso_month.groupby(by=['conta_pb','agent','data_ref','ticker','currency']).sum().copy().reset_index()\n",
    "calypso_batimento['acc'] = calypso_batimento['conta_pb'].map(dict_contas)\n",
    "calypso_batimento = calypso_batimento[calypso_batimento['quantidade']<0].reset_index(drop=True)\n",
    "calypso_batimento = calypso_batimento.groupby(by=['acc','data_ref', 'ticker','currency']).sum().reset_index()  \n",
    "#é somente um indice para poder checar quais informações do calypso não passaram pelo filtro da PB\n",
    "calypso_batimento['id'] = range(1, calypso_batimento.shape[0] +1)\n",
    "pb_month = pb_month.groupby(by=['acc','data_ref','ticker','currency']).sum().reset_index()"
   ]
  },
  {
   "cell_type": "code",
   "execution_count": null,
   "metadata": {
    "collapsed": true
   },
   "outputs": [],
   "source": []
  },
  {
   "cell_type": "code",
   "execution_count": 37,
   "metadata": {
    "collapsed": true
   },
   "outputs": [],
   "source": [
    "calypso_bate_pb = pd.merge(pb_month, calypso_batimento, on=['acc','data_ref','ticker','currency'],  how='left')"
   ]
  },
  {
   "cell_type": "code",
   "execution_count": null,
   "metadata": {
    "collapsed": true
   },
   "outputs": [],
   "source": []
  },
  {
   "cell_type": "code",
   "execution_count": 38,
   "metadata": {
    "collapsed": false
   },
   "outputs": [],
   "source": [
    "check_2 = calypso_bate_pb.shape[0]-pb_month.shape[0]\n",
    "if check_2!=0:\n",
    "    print ('%s linhas foram duplicadas durante o merge. Favor verificar se houve algo de errado' %check_2)"
   ]
  },
  {
   "cell_type": "code",
   "execution_count": null,
   "metadata": {
    "collapsed": true
   },
   "outputs": [],
   "source": []
  },
  {
   "cell_type": "code",
   "execution_count": 39,
   "metadata": {
    "collapsed": false,
    "scrolled": true
   },
   "outputs": [],
   "source": [
    "# Sobra de destino são os tickers que estavam no pb, mas não tinham correspondência no Calypso\n",
    "sobra_destino = calypso_bate_pb[(calypso_bate_pb['quantidade'].isnull()==True)&(calypso_bate_pb['accrual']!=0)]"
   ]
  },
  {
   "cell_type": "code",
   "execution_count": 40,
   "metadata": {
    "collapsed": true
   },
   "outputs": [],
   "source": [
    "calypso_bate_pb = calypso_bate_pb[calypso_bate_pb['quantidade'].isnull()==False]"
   ]
  },
  {
   "cell_type": "code",
   "execution_count": 41,
   "metadata": {
    "collapsed": true
   },
   "outputs": [],
   "source": [
    "# Sobra de origem são os tickers que estavam no Calypso, mas não tinham correspondência no pb\n",
    "sobra_origem = calypso_batimento[~calypso_batimento['id'].isin(calypso_bate_pb['id'].dropna().drop_duplicates())]"
   ]
  },
  {
   "cell_type": "code",
   "execution_count": 42,
   "metadata": {
    "collapsed": false
   },
   "outputs": [
    {
     "name": "stdout",
     "output_type": "stream",
     "text": [
      "2.868646200301961 pct dos trades estão no prime broker, mas não acharam correspondência no Calypso\n",
      "0.5667181865018033 pct dos trades foram achados no calypso, mas não têm correspondência no prime broker\n"
     ]
    }
   ],
   "source": [
    "pct_in_pb_not_in_calypso = (1-calypso_bate_pb.shape[0]/pb_month.shape[0])*100\n",
    "pct_in_calypso_not_in_pb=calypso_batimento[~calypso_batimento['id'].isin(calypso_bate_pb['id'].dropna().drop_duplicates())].shape[0]/\\\n",
    "                                calypso_batimento.shape[0]*100 \n",
    "texto_1 = '%s pct dos trades estão no prime broker, mas não acharam correspondência no Calypso' % pct_in_pb_not_in_calypso\n",
    "texto_2 = '%s pct dos trades foram achados no calypso, mas não têm correspondência no prime broker' % pct_in_calypso_not_in_pb\n",
    "\n",
    "print (texto_1)\n",
    "print(texto_2)"
   ]
  },
  {
   "cell_type": "code",
   "execution_count": 43,
   "metadata": {
    "collapsed": false
   },
   "outputs": [],
   "source": [
    "batido = calypso_bate_pb[calypso_bate_pb['qt']==calypso_bate_pb['quantidade']].copy()\n",
    "batido['status']='batido'\n",
    "divergentes = calypso_bate_pb[calypso_bate_pb['qt']!=calypso_bate_pb['quantidade']].copy()\n",
    "corrigidos = divergentes[((divergentes['ticker'].isin(ticker_diffs['stock']))&(divergentes['acc']!='ubs_cayman'))].copy()\n",
    "corrigidos['status'] = 'corrigido'\n",
    "n_batidos = divergentes[~((divergentes['ticker'].isin(ticker_diffs['stock']))&(divergentes['acc']!='ubs_cayman'))].copy()\n",
    "n_batidos['status']='n_batido'\n",
    "distribuidos = pd.concat([batido, corrigidos, n_batidos], axis=0)"
   ]
  },
  {
   "cell_type": "code",
   "execution_count": null,
   "metadata": {
    "collapsed": true
   },
   "outputs": [],
   "source": []
  },
  {
   "cell_type": "markdown",
   "metadata": {},
   "source": [
    "### Distribuição por books"
   ]
  },
  {
   "cell_type": "code",
   "execution_count": 44,
   "metadata": {
    "collapsed": false
   },
   "outputs": [],
   "source": [
    "calypso_month_books = calypso.copy()"
   ]
  },
  {
   "cell_type": "code",
   "execution_count": 45,
   "metadata": {
    "collapsed": true
   },
   "outputs": [],
   "source": [
    "calypso_month_books = pd.merge(calypso_month_books, calypso_batimento.drop('id', axis=1), \\\n",
    "                               on=['acc','data_ref','ticker','currency'], how='left').rename(columns={\n",
    "    'quantidade_x':'quantidade_book',\n",
    "    'quantidade_y':'quantidade_ticker'\n",
    "})"
   ]
  },
  {
   "cell_type": "code",
   "execution_count": 46,
   "metadata": {
    "collapsed": false
   },
   "outputs": [],
   "source": [
    "check_3 = calypso_month_books.shape[0]-calypso.shape[0]\n",
    "if check_3 != 0:\n",
    "    print ('%s linhas foram adicionadas durante o merge. Favor verificar quais erros aconteceram.' %check_3)"
   ]
  },
  {
   "cell_type": "code",
   "execution_count": 47,
   "metadata": {
    "collapsed": true
   },
   "outputs": [],
   "source": [
    "calypso_month_books = calypso_month_books[calypso_month_books['quantidade_ticker'].isnull()==False]"
   ]
  },
  {
   "cell_type": "code",
   "execution_count": 48,
   "metadata": {
    "collapsed": false
   },
   "outputs": [],
   "source": [
    "check_4 = calypso_month_books.shape[0]-calypso.shape[0]\n",
    "if check_4 != 0 :\n",
    "    print ('%s trades foram perdidos durante o merge. Favor ferificar quais erros aconteceram.' %check_4)"
   ]
  },
  {
   "cell_type": "code",
   "execution_count": 49,
   "metadata": {
    "collapsed": true
   },
   "outputs": [],
   "source": [
    "# Aqui a gente está adicionando a coluna de Accrual pros trades do calyspo\n",
    "calypso_month_books = pd.merge(calypso_month_books, distribuidos, on=['acc','data_ref','ticker','currency'], how='left')\n",
    "calypso_month_books = calypso_month_books[calypso_month_books['accrual'].isnull()==False]"
   ]
  },
  {
   "cell_type": "code",
   "execution_count": 50,
   "metadata": {
    "collapsed": false,
    "scrolled": false
   },
   "outputs": [
    {
     "name": "stdout",
     "output_type": "stream",
     "text": [
      "-159 trades não foram encontrados durante a distribuição. Eles provavelmente não foram batidos.\n"
     ]
    }
   ],
   "source": [
    "check_5 = calypso_month_books.shape[0]-calypso.shape[0]\n",
    "print ('%s trades não foram encontrados durante a distribuição. Eles provavelmente não foram batidos.' %check_5)"
   ]
  },
  {
   "cell_type": "code",
   "execution_count": 51,
   "metadata": {
    "collapsed": false
   },
   "outputs": [
    {
     "name": "stdout",
     "output_type": "stream",
     "text": [
      "4518 linhas foram retiradas da base por terem quantidade zerada. Ainda restam 2809 linhas de operações.\n",
      "Ajustes na base do calypso estão prontos. Dados estão prontos para serem distribuídos entre os books.\n"
     ]
    }
   ],
   "source": [
    "calypso_month_books = calypso_month_books[calypso_month_books['quantidade_book']!=0]\n",
    "check_6 = calypso.shape[0]-calypso_month_books.shape[0]\n",
    "print ('''%s linhas foram retiradas da base por terem quantidade zerada. Ainda restam %s linhas de operações.\n",
    "Ajustes na base do calypso estão prontos. Dados estão prontos para serem distribuídos entre os books.''' \\\n",
    "                                                                       %(check_6, calypso_month_books.shape[0]))"
   ]
  },
  {
   "cell_type": "code",
   "execution_count": 52,
   "metadata": {
    "collapsed": true
   },
   "outputs": [],
   "source": [
    "por_conta = calypso_month_books.groupby(by=['conta_pb','data_ref','ticker','currency']).sum().reset_index()"
   ]
  },
  {
   "cell_type": "code",
   "execution_count": null,
   "metadata": {
    "collapsed": true
   },
   "outputs": [],
   "source": []
  },
  {
   "cell_type": "code",
   "execution_count": 53,
   "metadata": {
    "collapsed": false,
    "scrolled": true
   },
   "outputs": [],
   "source": [
    "# Juntando a quantidade por sub_account do pb para poder dropar as contas positivas (que estão net doadas)\n",
    "calypso_month_books = pd.merge(calypso_month_books, por_conta.drop(['year', 'qt', 'accrual',\\\n",
    "                                                                   'quantidade', 'id', 'quantidade_ticker'], axis=1), \\\n",
    "                                                       on=['conta_pb','data_ref','ticker','currency'], how='left')\\\n",
    ".rename(columns={\n",
    "    'quantidade_book_x':'quantidade_book',\n",
    "    'quantidade_book_y':'quantidade_conta_pb'\n",
    "})"
   ]
  },
  {
   "cell_type": "code",
   "execution_count": 54,
   "metadata": {
    "collapsed": true
   },
   "outputs": [],
   "source": [
    "calypso_month_books = calypso_month_books[calypso_month_books['quantidade_conta_pb']<0]"
   ]
  },
  {
   "cell_type": "code",
   "execution_count": 55,
   "metadata": {
    "collapsed": false
   },
   "outputs": [
    {
     "name": "stdout",
     "output_type": "stream",
     "text": [
      "Foram feitos os casamentos de trade por sub_account\n"
     ]
    }
   ],
   "source": [
    "calypso_month_books = calypso_month_books[calypso_month_books['accrual'].isnull()==False]\n",
    "print ('Foram feitos os casamentos de trade por sub_account')"
   ]
  },
  {
   "cell_type": "code",
   "execution_count": 56,
   "metadata": {
    "collapsed": false
   },
   "outputs": [],
   "source": [
    "abertura = calypso_month_books[calypso_month_books['id'].isin(distribuidos['id'].drop_duplicates())==True]\n",
    "trades_out_abertura = calypso_month_books[calypso_month_books['id'].isin(distribuidos['id'].drop_duplicates())==False]\n",
    "if trades_out_abertura.shape[0]!=0:\n",
    "    print('ATENÇãO!!! %s trades foram encontrados em ambas as bases, porém não foram distribuídos.'%trades_out_abertura.shape[0])"
   ]
  },
  {
   "cell_type": "code",
   "execution_count": 57,
   "metadata": {
    "collapsed": true
   },
   "outputs": [],
   "source": [
    "abertura = abertura.drop(['isin', 'cusip','month', 'year', 'quantidade', 'id'], axis=1)"
   ]
  },
  {
   "cell_type": "code",
   "execution_count": 58,
   "metadata": {
    "collapsed": false
   },
   "outputs": [],
   "source": [
    "abertura['percent'] = abertura['quantidade_book']/abertura['quantidade_ticker']"
   ]
  },
  {
   "cell_type": "code",
   "execution_count": 59,
   "metadata": {
    "collapsed": false
   },
   "outputs": [],
   "source": [
    "check_7 = abertura.groupby(by=['acc','data_ref','ticker','currency']).sum().reset_index()\n",
    "check_7 = check_7[np.isclose(check_7['percent'], 1)==False].shape[0]\n",
    "if check_7 != 0:\n",
    "    print ('O batimento não foi feito!!! %s contas somam valor diferente a 100\\%')"
   ]
  },
  {
   "cell_type": "code",
   "execution_count": 60,
   "metadata": {
    "collapsed": false
   },
   "outputs": [],
   "source": [
    "abertura['accrual_final'] = abertura['percent']*abertura['accrual']"
   ]
  },
  {
   "cell_type": "code",
   "execution_count": 61,
   "metadata": {
    "collapsed": false
   },
   "outputs": [],
   "source": [
    "abertura = abertura.drop(['conta_pb', 'quantidade_ticker', 'qt', 'accrual','quantidade_conta_pb', \n",
    "                          'percent'], axis=1).reset_index(drop=True)"
   ]
  },
  {
   "cell_type": "code",
   "execution_count": 62,
   "metadata": {
    "collapsed": true
   },
   "outputs": [],
   "source": [
    "# Tickers que estão batidos ou que foram corrigidos. Todos distribuídos\n",
    "abertura_batidos = abertura[abertura['status']!='n_batido']\n",
    "# Tickers que NÃO ESTÃO BATIDOS EM QUANTIDADE, mas que foram distribuídos, pois foram encontrados em ambas as bases\n",
    "abertura_n_batidos = abertura[abertura['status']=='n_batido']"
   ]
  },
  {
   "cell_type": "code",
   "execution_count": null,
   "metadata": {
    "collapsed": true
   },
   "outputs": [],
   "source": []
  },
  {
   "cell_type": "code",
   "execution_count": 63,
   "metadata": {
    "collapsed": true
   },
   "outputs": [],
   "source": [
    "bate_soma = abertura.groupby(by=['acc', 'currency']).sum().reset_index()\n",
    "bate_soma_pb = pb_month.groupby(by=['acc', 'currency']).sum().reset_index()"
   ]
  },
  {
   "cell_type": "code",
   "execution_count": 64,
   "metadata": {
    "collapsed": false,
    "scrolled": true
   },
   "outputs": [],
   "source": [
    "check_8 = pd.merge(bate_soma_pb, bate_soma, on=['acc', 'currency'], how='left').rename(columns={\n",
    "'qt':'quantidade_pb',\n",
    "'accrual':'custos_pb',\n",
    "'quantidade_book':'quantidade_calypso',\n",
    "'accrual_final':'custos_batidos'\n",
    "})\n",
    "check_8['bate_qt'] = check_8['quantidade_pb']-check_8['quantidade_calypso']\n",
    "check_8['bate_custos'] = check_8['custos_pb']-check_8['custos_batidos']\n",
    "check_8['bate_custos_pct'] = check_8['custos_pb']/check_8['custos_batidos']\n",
    "check_8 = check_8[['acc', 'currency', 'quantidade_pb', 'quantidade_calypso', 'bate_qt', 'custos_pb', 'custos_batidos',\n",
    "      'bate_custos', 'bate_custos_pct']]   "
   ]
  },
  {
   "cell_type": "code",
   "execution_count": 65,
   "metadata": {
    "collapsed": false,
    "scrolled": true
   },
   "outputs": [],
   "source": [
    "check_9 = check_8[(check_8['bate_custos_pct']<0.95)|(check_8['bate_custos_pct']>1.05)].shape[0]\n",
    "if check_9!=0:\n",
    "    print('%s contas tiveram diferença maior do que 5pct do valor do prime broker' %check_9)"
   ]
  },
  {
   "cell_type": "code",
   "execution_count": 66,
   "metadata": {
    "collapsed": false
   },
   "outputs": [
    {
     "data": {
      "text/html": [
       "<div>\n",
       "<table border=\"1\" class=\"dataframe\">\n",
       "  <thead>\n",
       "    <tr style=\"text-align: right;\">\n",
       "      <th></th>\n",
       "      <th>acc</th>\n",
       "      <th>currency</th>\n",
       "      <th>custos_pb</th>\n",
       "      <th>custos_batidos</th>\n",
       "      <th>bate_custos</th>\n",
       "      <th>bate_custos_pct</th>\n",
       "    </tr>\n",
       "  </thead>\n",
       "  <tbody>\n",
       "    <tr>\n",
       "      <th>0</th>\n",
       "      <td>int_c</td>\n",
       "      <td>AUD</td>\n",
       "      <td>-1073.05</td>\n",
       "      <td>-1073.05</td>\n",
       "      <td>0.000000e+00</td>\n",
       "      <td>1.000000</td>\n",
       "    </tr>\n",
       "    <tr>\n",
       "      <th>1</th>\n",
       "      <td>int_c</td>\n",
       "      <td>USD</td>\n",
       "      <td>-125.00</td>\n",
       "      <td>-125.00</td>\n",
       "      <td>-1.421085e-14</td>\n",
       "      <td>1.000000</td>\n",
       "    </tr>\n",
       "    <tr>\n",
       "      <th>2</th>\n",
       "      <td>ms_cayman</td>\n",
       "      <td>EUR</td>\n",
       "      <td>0.00</td>\n",
       "      <td>0.00</td>\n",
       "      <td>0.000000e+00</td>\n",
       "      <td>NaN</td>\n",
       "    </tr>\n",
       "    <tr>\n",
       "      <th>3</th>\n",
       "      <td>ms_cayman</td>\n",
       "      <td>MXN</td>\n",
       "      <td>-1076039.82</td>\n",
       "      <td>-1076039.82</td>\n",
       "      <td>-2.328306e-10</td>\n",
       "      <td>1.000000</td>\n",
       "    </tr>\n",
       "    <tr>\n",
       "      <th>4</th>\n",
       "      <td>ms_cayman</td>\n",
       "      <td>USD</td>\n",
       "      <td>-54767.15</td>\n",
       "      <td>-52888.39</td>\n",
       "      <td>-1.878760e+03</td>\n",
       "      <td>1.035523</td>\n",
       "    </tr>\n",
       "    <tr>\n",
       "      <th>5</th>\n",
       "      <td>ubs_cayman</td>\n",
       "      <td>MXN</td>\n",
       "      <td>-434645.64</td>\n",
       "      <td>-434645.64</td>\n",
       "      <td>-5.820766e-11</td>\n",
       "      <td>1.000000</td>\n",
       "    </tr>\n",
       "    <tr>\n",
       "      <th>6</th>\n",
       "      <td>ubs_cayman</td>\n",
       "      <td>USD</td>\n",
       "      <td>-14663.60</td>\n",
       "      <td>-14685.22</td>\n",
       "      <td>2.162000e+01</td>\n",
       "      <td>0.998528</td>\n",
       "    </tr>\n",
       "  </tbody>\n",
       "</table>\n",
       "</div>"
      ],
      "text/plain": [
       "          acc currency   custos_pb  custos_batidos   bate_custos  \\\n",
       "0       int_c      AUD    -1073.05        -1073.05  0.000000e+00   \n",
       "1       int_c      USD     -125.00         -125.00 -1.421085e-14   \n",
       "2   ms_cayman      EUR        0.00            0.00  0.000000e+00   \n",
       "3   ms_cayman      MXN -1076039.82     -1076039.82 -2.328306e-10   \n",
       "4   ms_cayman      USD   -54767.15       -52888.39 -1.878760e+03   \n",
       "5  ubs_cayman      MXN  -434645.64      -434645.64 -5.820766e-11   \n",
       "6  ubs_cayman      USD   -14663.60       -14685.22  2.162000e+01   \n",
       "\n",
       "   bate_custos_pct  \n",
       "0         1.000000  \n",
       "1         1.000000  \n",
       "2              NaN  \n",
       "3         1.000000  \n",
       "4         1.035523  \n",
       "5         1.000000  \n",
       "6         0.998528  "
      ]
     },
     "execution_count": 66,
     "metadata": {},
     "output_type": "execute_result"
    }
   ],
   "source": [
    "check_8.drop(['quantidade_pb','quantidade_calypso','bate_qt'],axis=1)"
   ]
  },
  {
   "cell_type": "code",
   "execution_count": null,
   "metadata": {
    "collapsed": true
   },
   "outputs": [],
   "source": []
  },
  {
   "cell_type": "code",
   "execution_count": 67,
   "metadata": {
    "collapsed": false
   },
   "outputs": [],
   "source": [
    "abertura_batidos_ajustado = abertura_batidos.copy()"
   ]
  },
  {
   "cell_type": "code",
   "execution_count": 68,
   "metadata": {
    "collapsed": false
   },
   "outputs": [],
   "source": [
    "abertura_batidos_ajustado = abertura_batidos_ajustado.rename(columns={'accrual_final':'accrual'})"
   ]
  },
  {
   "cell_type": "code",
   "execution_count": 69,
   "metadata": {
    "collapsed": true
   },
   "outputs": [],
   "source": [
    "abertura_batidos_ajustado_neg = abertura_batidos_ajustado[abertura_batidos_ajustado['accrual']<0]"
   ]
  },
  {
   "cell_type": "code",
   "execution_count": 70,
   "metadata": {
    "collapsed": true
   },
   "outputs": [],
   "source": [
    "abertura_batidos_ajustado_posi = abertura_batidos_ajustado[abertura_batidos_ajustado['accrual']>=0]"
   ]
  },
  {
   "cell_type": "code",
   "execution_count": 71,
   "metadata": {
    "collapsed": true
   },
   "outputs": [],
   "source": [
    "ajuste_neg_grouped = abertura_batidos_ajustado_neg.groupby(by=['acc','currency']).sum().reset_index()"
   ]
  },
  {
   "cell_type": "code",
   "execution_count": null,
   "metadata": {
    "collapsed": true
   },
   "outputs": [],
   "source": []
  },
  {
   "cell_type": "code",
   "execution_count": 72,
   "metadata": {
    "collapsed": false
   },
   "outputs": [],
   "source": [
    "check_13 = abertura_batidos_ajustado_neg.shape[0]-\\\n",
    "                        pd.merge(abertura_batidos_ajustado_neg, ajuste_neg_grouped, on=['acc','currency'], how='left').shape[0]\n",
    "if check_13 != 0:\n",
    "    print ('%s linhas foram duplicadas durante o ajuste dos números negativos. Verificar!!' %check_13)"
   ]
  },
  {
   "cell_type": "code",
   "execution_count": 73,
   "metadata": {
    "collapsed": true
   },
   "outputs": [],
   "source": [
    "abertura_batidos_ajustado_neg = pd.merge(abertura_batidos_ajustado_neg, ajuste_neg_grouped, on=['acc','currency'], how='left')"
   ]
  },
  {
   "cell_type": "code",
   "execution_count": 74,
   "metadata": {
    "collapsed": true
   },
   "outputs": [],
   "source": [
    "abertura_batidos_ajustado_neg['pct'] = abertura_batidos_ajustado_neg['accrual_x']/abertura_batidos_ajustado_neg['accrual_y']"
   ]
  },
  {
   "cell_type": "code",
   "execution_count": 75,
   "metadata": {
    "collapsed": false
   },
   "outputs": [],
   "source": [
    "check_14 = abertura_batidos_ajustado_neg.groupby(by=['acc','currency']).sum().reset_index()\n",
    "check_14 = check_14[np.isclose(check_14['pct'], 1)==False].shape[0]\n",
    "if check_14 != 0:\n",
    "    print ('O batimento não foi feito!!! %s contas somam valor diferente a 100\\%')"
   ]
  },
  {
   "cell_type": "code",
   "execution_count": 76,
   "metadata": {
    "collapsed": true
   },
   "outputs": [],
   "source": [
    "abertura_batidos_ajustado_posi = abertura_batidos_ajustado_posi.groupby(by=['acc','currency']).sum().reset_index()"
   ]
  },
  {
   "cell_type": "code",
   "execution_count": 77,
   "metadata": {
    "collapsed": true
   },
   "outputs": [],
   "source": [
    "check_15 = abertura_batidos_ajustado_neg.shape[0]-\\\n",
    "                                    pd.merge(abertura_batidos_ajustado_neg, abertura_batidos_ajustado_posi, \\\n",
    "                                                         on=['acc','currency'], how='left').shape[0]\n",
    "if check_15 != 0:\n",
    "    print ('%s linhas foram duplicadas durante o ajuste de quantidades positivas!!!'%check_15)"
   ]
  },
  {
   "cell_type": "code",
   "execution_count": 78,
   "metadata": {
    "collapsed": true
   },
   "outputs": [],
   "source": [
    "abertura_batidos_ajustado_neg = pd.merge(abertura_batidos_ajustado_neg, abertura_batidos_ajustado_posi, \\\n",
    "                                         on=['acc','currency'], how='left').fillna(0)"
   ]
  },
  {
   "cell_type": "code",
   "execution_count": 79,
   "metadata": {
    "collapsed": false
   },
   "outputs": [],
   "source": [
    "abertura_batidos_ajustado_neg['distrib_positives'] = abertura_batidos_ajustado_neg['pct']\\\n",
    "                                                        *abertura_batidos_ajustado_neg['accrual']"
   ]
  },
  {
   "cell_type": "code",
   "execution_count": 80,
   "metadata": {
    "collapsed": true
   },
   "outputs": [],
   "source": [
    "abertura_batidos_ajustado_neg['accrual_final'] = abertura_batidos_ajustado_neg['accrual_x']+\\\n",
    "                                                        abertura_batidos_ajustado_neg['distrib_positives']"
   ]
  },
  {
   "cell_type": "code",
   "execution_count": 81,
   "metadata": {
    "collapsed": true
   },
   "outputs": [],
   "source": [
    "abertura_batidos_ajustado = abertura_batidos_ajustado_neg.drop(['accrual_x', 'accrual_y', 'pct', 'accrual', \n",
    "                                                          'distrib_positives'], axis=1)"
   ]
  },
  {
   "cell_type": "code",
   "execution_count": 82,
   "metadata": {
    "collapsed": true
   },
   "outputs": [],
   "source": [
    "abertura_batidos_consol = abertura_batidos_ajustado.groupby(['acc', 'book', 'currency'])\\\n",
    "                                        .sum().reset_index().drop(['quantidade_book','quantidade_book_y'], axis=1)\\\n",
    "    .rename(columns={'quantidade_book_x':'quantidade_book'})"
   ]
  },
  {
   "cell_type": "code",
   "execution_count": 83,
   "metadata": {
    "collapsed": false
   },
   "outputs": [],
   "source": [
    "data = abertura_batidos_ajustado.data_ref.max()"
   ]
  },
  {
   "cell_type": "code",
   "execution_count": 84,
   "metadata": {
    "collapsed": false
   },
   "outputs": [],
   "source": [
    "abertura_batidos_consol_dia = abertura_batidos_ajustado[abertura_batidos_ajustado.data_ref==\\\n",
    "                                                        abertura_batidos_ajustado.data_ref.max()]\\\n",
    "                                                            .groupby(['acc', 'book', 'currency']).sum().reset_index()\\\n",
    "                                                                .drop(['quantidade_book','quantidade_book_y'], axis=1)\\\n",
    "                                                                    .rename(columns={'quantidade_book_x':'quantidade_book'})"
   ]
  },
  {
   "cell_type": "markdown",
   "metadata": {},
   "source": [
    "### Abertura por WM"
   ]
  },
  {
   "cell_type": "code",
   "execution_count": null,
   "metadata": {
    "collapsed": true
   },
   "outputs": [],
   "source": []
  },
  {
   "cell_type": "code",
   "execution_count": 85,
   "metadata": {
    "collapsed": false
   },
   "outputs": [],
   "source": [
    "pb_wm = abertura[(abertura['book'].str.contains('PRIVATE'))\\\n",
    "                 |(abertura['book'].str.contains('CLIENT'))].copy()"
   ]
  },
  {
   "cell_type": "code",
   "execution_count": null,
   "metadata": {
    "collapsed": true
   },
   "outputs": [],
   "source": []
  },
  {
   "cell_type": "code",
   "execution_count": 86,
   "metadata": {
    "collapsed": false,
    "scrolled": true
   },
   "outputs": [],
   "source": [
    "calypso_wm = bdwm.copy()\n",
    "calypso_wm['tipo'] = 'WM' \n",
    "calypso_wm['date'] = pd.to_datetime(calypso_wm['date'])\n",
    "calypso_wm['month_number'] = calypso_wm['date'].dt.month\n",
    "calypso_wm['year'] = calypso_wm['date'].dt.year\n",
    "calypso_wm['month'] = calypso_wm['month_number'].map(months_dict)\n",
    "calypso_wm = calypso_wm[['Account Name','tipo', 'Agent','date', 'shares', 'Book', 'PRODUCT_CODE.TICKER', 'PRODUCT_CODE.ISIN', \n",
    "                   'PRODUCT_CODE.CUSIP', 'Product Currency', 'month', 'year', 'LE Name']].reset_index(drop=True)\n",
    "calypso_wm.columns = ['conta_pb','conta', 'agent', 'data_ref', 'quantidade', 'book', 'ticker', 'isin', 'cusip', \n",
    "              'currency', 'month', 'year', 'cliente']\n",
    "calypso_wm['quantidade'] = calypso_wm['quantidade'].replace(',','', regex=True).astype(float)"
   ]
  },
  {
   "cell_type": "code",
   "execution_count": 87,
   "metadata": {
    "collapsed": true
   },
   "outputs": [],
   "source": [
    "calypso_wm['quantidade'] = -1*calypso_wm['quantidade']"
   ]
  },
  {
   "cell_type": "code",
   "execution_count": 88,
   "metadata": {
    "collapsed": false,
    "scrolled": true
   },
   "outputs": [],
   "source": [
    "calypso_wm = calypso_wm[calypso_wm['quantidade']<0]"
   ]
  },
  {
   "cell_type": "code",
   "execution_count": 89,
   "metadata": {
    "collapsed": false
   },
   "outputs": [],
   "source": [
    "calypso_wm_grouped =calypso_wm.groupby(by=['data_ref', 'book', 'ticker', 'currency']).sum().reset_index()"
   ]
  },
  {
   "cell_type": "code",
   "execution_count": null,
   "metadata": {
    "collapsed": true
   },
   "outputs": [],
   "source": []
  },
  {
   "cell_type": "code",
   "execution_count": 90,
   "metadata": {
    "collapsed": true
   },
   "outputs": [],
   "source": [
    "check_17 = pb_wm.shape[0]-pd.merge(pb_wm, calypso_wm_grouped, on=['data_ref', 'book', 'ticker', 'currency'], how='left')\\\n",
    "                                                                                    .shape[0]\n",
    "if check_17!=0:\n",
    "    print ('%s linhas foram duplicadas durante o barimento de WM!!!! Verificar!' %check_17)"
   ]
  },
  {
   "cell_type": "code",
   "execution_count": 91,
   "metadata": {
    "collapsed": true
   },
   "outputs": [],
   "source": [
    "batimento_wm = pd.merge(pb_wm, calypso_wm_grouped, on=['data_ref', 'book', 'ticker', 'currency'], how='left')\\\n",
    "                                                                                    .drop('year', axis=1)"
   ]
  },
  {
   "cell_type": "code",
   "execution_count": 92,
   "metadata": {
    "collapsed": false,
    "scrolled": true
   },
   "outputs": [
    {
     "name": "stdout",
     "output_type": "stream",
     "text": [
      "Durante o batimento de WM, 0 trades ficaram como sobra de destino!!\n"
     ]
    }
   ],
   "source": [
    "batimento_wm_sobra_destino = batimento_wm[batimento_wm['quantidade'].isnull()==True].copy()\n",
    "print ('Durante o batimento de WM, %s trades ficaram como sobra de destino!!' %batimento_wm_sobra_destino.shape[0])\n",
    "\n",
    "batimento_wm_sobra_destino['status'] = 'n_batido'"
   ]
  },
  {
   "cell_type": "code",
   "execution_count": 93,
   "metadata": {
    "collapsed": false
   },
   "outputs": [],
   "source": [
    "batimento_wm = batimento_wm[batimento_wm['quantidade'].isnull()==False].copy()\n",
    "batimento_wm_batidos = batimento_wm[batimento_wm['quantidade_book']==batimento_wm['quantidade']].copy()\n",
    "\n",
    "batimento_wm_batidos['status'] = 'batido'"
   ]
  },
  {
   "cell_type": "code",
   "execution_count": 94,
   "metadata": {
    "collapsed": false
   },
   "outputs": [
    {
     "name": "stdout",
     "output_type": "stream",
     "text": [
      "Durante o batimento de WM, 0 trades ficaram com quantidade divergente!!\n"
     ]
    }
   ],
   "source": [
    "batimento_wm_divergentes = batimento_wm[batimento_wm['quantidade_book']!=batimento_wm['quantidade']].copy()\n",
    "print ('Durante o batimento de WM, %s trades ficaram com quantidade divergente!!' %batimento_wm_divergentes.shape[0])"
   ]
  },
  {
   "cell_type": "code",
   "execution_count": 95,
   "metadata": {
    "collapsed": true
   },
   "outputs": [],
   "source": [
    "batimento_wm_divergentes['status'] = 'divergente'"
   ]
  },
  {
   "cell_type": "code",
   "execution_count": 96,
   "metadata": {
    "collapsed": false
   },
   "outputs": [],
   "source": [
    "batimento_wm = pd.concat([batimento_wm_batidos, batimento_wm_divergentes], axis=0)"
   ]
  },
  {
   "cell_type": "code",
   "execution_count": 97,
   "metadata": {
    "collapsed": false
   },
   "outputs": [],
   "source": [
    "batimento_wm['id'] = range(0, batimento_wm.shape[0])"
   ]
  },
  {
   "cell_type": "code",
   "execution_count": 98,
   "metadata": {
    "collapsed": false
   },
   "outputs": [],
   "source": [
    "batimento_wm_distrib = pd.merge(calypso_wm, batimento_wm, on=['data_ref', 'book', 'ticker', 'currency'], how='left')\\\n",
    "[['conta_pb_x', 'agent_x', 'data_ref', 'quantidade_x', 'book', 'ticker', 'currency', 'cliente','quantidade_book', \n",
    "  'acc', 'status','accrual_final', 'id']].rename(columns={\n",
    "    'quantidade_book':'quantidade_ticker',\n",
    "    'quantidade_x':'quantidade_book',\n",
    "    'conta_pb_x':'conta_pb',\n",
    "    'agent_x':'agent',\n",
    "    'cliente':'conta'   \n",
    "})\n",
    "check_18 = batimento_wm_distrib.shape[0]-calypso_wm.shape[0]\n",
    "if check_18!=0:\n",
    "    print ('%s linhas foram duplicadas durante o ajuste de WM' %check_18)"
   ]
  },
  {
   "cell_type": "code",
   "execution_count": 99,
   "metadata": {
    "collapsed": false,
    "scrolled": true
   },
   "outputs": [
    {
     "name": "stdout",
     "output_type": "stream",
     "text": [
      "Durante o batimento de WM, 55 trades não foram distribuídos!!\n"
     ]
    },
    {
     "name": "stderr",
     "output_type": "stream",
     "text": [
      "C:\\ProgramData\\Anaconda3\\lib\\site-packages\\ipykernel\\__main__.py:1: UserWarning: Boolean Series key will be reindexed to match DataFrame index.\n",
      "  if __name__ == '__main__':\n"
     ]
    }
   ],
   "source": [
    "batimento_wm_sobra_origem = batimento_wm[~batimento_wm_distrib['id'].isin(batimento_wm['id'].copy().drop_duplicates())].copy()\n",
    "print ('Durante o batimento de WM, %s trades não foram distribuídos!!' %batimento_wm_sobra_origem.shape[0])"
   ]
  },
  {
   "cell_type": "code",
   "execution_count": 100,
   "metadata": {
    "collapsed": true
   },
   "outputs": [],
   "source": [
    "batimento_wm_distrib = batimento_wm_distrib.drop('id', axis=1)"
   ]
  },
  {
   "cell_type": "code",
   "execution_count": 101,
   "metadata": {
    "collapsed": false
   },
   "outputs": [],
   "source": [
    "n_batimento_wm_distrib = batimento_wm_distrib[batimento_wm_distrib['quantidade_ticker'].isnull()==True]\\\n",
    "                                                                .drop(['quantidade_ticker'], axis=1)"
   ]
  },
  {
   "cell_type": "code",
   "execution_count": 102,
   "metadata": {
    "collapsed": true
   },
   "outputs": [],
   "source": [
    "batimento_wm_distrib = batimento_wm_distrib[batimento_wm_distrib['quantidade_ticker'].isnull()==False]"
   ]
  },
  {
   "cell_type": "code",
   "execution_count": 103,
   "metadata": {
    "collapsed": true
   },
   "outputs": [],
   "source": [
    "batimento_wm_distrib['pct'] = batimento_wm_distrib['quantidade_book']/batimento_wm_distrib['quantidade_ticker']"
   ]
  },
  {
   "cell_type": "code",
   "execution_count": 104,
   "metadata": {
    "collapsed": false,
    "scrolled": true
   },
   "outputs": [
    {
     "data": {
      "text/html": [
       "<div>\n",
       "<table border=\"1\" class=\"dataframe\">\n",
       "  <thead>\n",
       "    <tr style=\"text-align: right;\">\n",
       "      <th></th>\n",
       "      <th></th>\n",
       "      <th></th>\n",
       "      <th></th>\n",
       "      <th>conta_pb</th>\n",
       "      <th>quantidade_book</th>\n",
       "      <th>quantidade_ticker</th>\n",
       "      <th>accrual_final</th>\n",
       "      <th>pct</th>\n",
       "    </tr>\n",
       "    <tr>\n",
       "      <th>data_ref</th>\n",
       "      <th>book</th>\n",
       "      <th>ticker</th>\n",
       "      <th>currency</th>\n",
       "      <th></th>\n",
       "      <th></th>\n",
       "      <th></th>\n",
       "      <th></th>\n",
       "      <th></th>\n",
       "    </tr>\n",
       "  </thead>\n",
       "  <tbody>\n",
       "    <tr>\n",
       "      <th rowspan=\"13\" valign=\"top\">2018-08-01</th>\n",
       "      <th rowspan=\"5\" valign=\"top\">BD_CLIENTS_UBS</th>\n",
       "      <th>BAP US</th>\n",
       "      <th>USD</th>\n",
       "      <td>1823956</td>\n",
       "      <td>-7500.0</td>\n",
       "      <td>-7500.0</td>\n",
       "      <td>76.190000</td>\n",
       "      <td>1.0</td>\n",
       "    </tr>\n",
       "    <tr>\n",
       "      <th>ENPH US</th>\n",
       "      <th>USD</th>\n",
       "      <td>214962</td>\n",
       "      <td>-80000.0</td>\n",
       "      <td>-80000.0</td>\n",
       "      <td>-37.270000</td>\n",
       "      <td>1.0</td>\n",
       "    </tr>\n",
       "    <tr>\n",
       "      <th>LTM US</th>\n",
       "      <th>USD</th>\n",
       "      <td>1823956</td>\n",
       "      <td>-55193.0</td>\n",
       "      <td>-55193.0</td>\n",
       "      <td>-29.620000</td>\n",
       "      <td>1.0</td>\n",
       "    </tr>\n",
       "    <tr>\n",
       "      <th>MELI US</th>\n",
       "      <th>USD</th>\n",
       "      <td>1823956</td>\n",
       "      <td>-5364.0</td>\n",
       "      <td>-5364.0</td>\n",
       "      <td>82.522329</td>\n",
       "      <td>1.0</td>\n",
       "    </tr>\n",
       "    <tr>\n",
       "      <th>PAGS US</th>\n",
       "      <th>USD</th>\n",
       "      <td>1823956</td>\n",
       "      <td>-1000.0</td>\n",
       "      <td>-1000.0</td>\n",
       "      <td>1.175130</td>\n",
       "      <td>1.0</td>\n",
       "    </tr>\n",
       "    <tr>\n",
       "      <th rowspan=\"8\" valign=\"top\">PRIVATE_DEFAULT_UBS</th>\n",
       "      <th>BOX US</th>\n",
       "      <th>USD</th>\n",
       "      <td>463312</td>\n",
       "      <td>-2000.0</td>\n",
       "      <td>-2000.0</td>\n",
       "      <td>2.100000</td>\n",
       "      <td>1.0</td>\n",
       "    </tr>\n",
       "    <tr>\n",
       "      <th>CAKE US</th>\n",
       "      <th>USD</th>\n",
       "      <td>1682709</td>\n",
       "      <td>-1000.0</td>\n",
       "      <td>-1000.0</td>\n",
       "      <td>1.700000</td>\n",
       "      <td>1.0</td>\n",
       "    </tr>\n",
       "    <tr>\n",
       "      <th>DRI US</th>\n",
       "      <th>USD</th>\n",
       "      <td>1682709</td>\n",
       "      <td>-600.0</td>\n",
       "      <td>-600.0</td>\n",
       "      <td>2.840000</td>\n",
       "      <td>1.0</td>\n",
       "    </tr>\n",
       "    <tr>\n",
       "      <th>LE US</th>\n",
       "      <th>USD</th>\n",
       "      <td>1682709</td>\n",
       "      <td>-1500.0</td>\n",
       "      <td>-1500.0</td>\n",
       "      <td>0.000000</td>\n",
       "      <td>1.0</td>\n",
       "    </tr>\n",
       "    <tr>\n",
       "      <th>MELI US</th>\n",
       "      <th>USD</th>\n",
       "      <td>1682709</td>\n",
       "      <td>-150.0</td>\n",
       "      <td>-150.0</td>\n",
       "      <td>2.307671</td>\n",
       "      <td>1.0</td>\n",
       "    </tr>\n",
       "    <tr>\n",
       "      <th>NFLX US</th>\n",
       "      <th>USD</th>\n",
       "      <td>46537</td>\n",
       "      <td>-1000.0</td>\n",
       "      <td>-1000.0</td>\n",
       "      <td>15.040000</td>\n",
       "      <td>1.0</td>\n",
       "    </tr>\n",
       "    <tr>\n",
       "      <th>PAGS US</th>\n",
       "      <th>USD</th>\n",
       "      <td>46537</td>\n",
       "      <td>-16000.0</td>\n",
       "      <td>-16000.0</td>\n",
       "      <td>18.802076</td>\n",
       "      <td>1.0</td>\n",
       "    </tr>\n",
       "    <tr>\n",
       "      <th>WU US</th>\n",
       "      <th>USD</th>\n",
       "      <td>1682709</td>\n",
       "      <td>-2500.0</td>\n",
       "      <td>-2500.0</td>\n",
       "      <td>2.240000</td>\n",
       "      <td>1.0</td>\n",
       "    </tr>\n",
       "    <tr>\n",
       "      <th rowspan=\"13\" valign=\"top\">2018-08-02</th>\n",
       "      <th rowspan=\"5\" valign=\"top\">BD_CLIENTS_UBS</th>\n",
       "      <th>BAP US</th>\n",
       "      <th>USD</th>\n",
       "      <td>1823956</td>\n",
       "      <td>-7500.0</td>\n",
       "      <td>-7500.0</td>\n",
       "      <td>75.420000</td>\n",
       "      <td>1.0</td>\n",
       "    </tr>\n",
       "    <tr>\n",
       "      <th>ENPH US</th>\n",
       "      <th>USD</th>\n",
       "      <td>214962</td>\n",
       "      <td>-80000.0</td>\n",
       "      <td>-80000.0</td>\n",
       "      <td>-38.000000</td>\n",
       "      <td>1.0</td>\n",
       "    </tr>\n",
       "    <tr>\n",
       "      <th>LTM US</th>\n",
       "      <th>USD</th>\n",
       "      <td>1823956</td>\n",
       "      <td>-55193.0</td>\n",
       "      <td>-55193.0</td>\n",
       "      <td>-29.300000</td>\n",
       "      <td>1.0</td>\n",
       "    </tr>\n",
       "    <tr>\n",
       "      <th>MELI US</th>\n",
       "      <th>USD</th>\n",
       "      <td>1823956</td>\n",
       "      <td>-5364.0</td>\n",
       "      <td>-5364.0</td>\n",
       "      <td>80.878303</td>\n",
       "      <td>1.0</td>\n",
       "    </tr>\n",
       "    <tr>\n",
       "      <th>PAGS US</th>\n",
       "      <th>USD</th>\n",
       "      <td>1823956</td>\n",
       "      <td>-1000.0</td>\n",
       "      <td>-1000.0</td>\n",
       "      <td>1.171107</td>\n",
       "      <td>1.0</td>\n",
       "    </tr>\n",
       "    <tr>\n",
       "      <th rowspan=\"8\" valign=\"top\">PRIVATE_DEFAULT_UBS</th>\n",
       "      <th>BOX US</th>\n",
       "      <th>USD</th>\n",
       "      <td>463312</td>\n",
       "      <td>-2000.0</td>\n",
       "      <td>-2000.0</td>\n",
       "      <td>2.190000</td>\n",
       "      <td>1.0</td>\n",
       "    </tr>\n",
       "    <tr>\n",
       "      <th>CAKE US</th>\n",
       "      <th>USD</th>\n",
       "      <td>1682709</td>\n",
       "      <td>-1000.0</td>\n",
       "      <td>-1000.0</td>\n",
       "      <td>1.740000</td>\n",
       "      <td>1.0</td>\n",
       "    </tr>\n",
       "    <tr>\n",
       "      <th>DRI US</th>\n",
       "      <th>USD</th>\n",
       "      <td>1682709</td>\n",
       "      <td>-600.0</td>\n",
       "      <td>-600.0</td>\n",
       "      <td>2.900000</td>\n",
       "      <td>1.0</td>\n",
       "    </tr>\n",
       "    <tr>\n",
       "      <th>LE US</th>\n",
       "      <th>USD</th>\n",
       "      <td>1682709</td>\n",
       "      <td>-1500.0</td>\n",
       "      <td>-1500.0</td>\n",
       "      <td>0.000000</td>\n",
       "      <td>1.0</td>\n",
       "    </tr>\n",
       "    <tr>\n",
       "      <th>MELI US</th>\n",
       "      <th>USD</th>\n",
       "      <td>1682709</td>\n",
       "      <td>-150.0</td>\n",
       "      <td>-150.0</td>\n",
       "      <td>2.261697</td>\n",
       "      <td>1.0</td>\n",
       "    </tr>\n",
       "    <tr>\n",
       "      <th>NFLX US</th>\n",
       "      <th>USD</th>\n",
       "      <td>46537</td>\n",
       "      <td>-1000.0</td>\n",
       "      <td>-1000.0</td>\n",
       "      <td>15.310000</td>\n",
       "      <td>1.0</td>\n",
       "    </tr>\n",
       "    <tr>\n",
       "      <th>PAGS US</th>\n",
       "      <th>USD</th>\n",
       "      <td>46537</td>\n",
       "      <td>-16000.0</td>\n",
       "      <td>-16000.0</td>\n",
       "      <td>18.737718</td>\n",
       "      <td>1.0</td>\n",
       "    </tr>\n",
       "    <tr>\n",
       "      <th>WU US</th>\n",
       "      <th>USD</th>\n",
       "      <td>1682709</td>\n",
       "      <td>-2500.0</td>\n",
       "      <td>-2500.0</td>\n",
       "      <td>2.290000</td>\n",
       "      <td>1.0</td>\n",
       "    </tr>\n",
       "    <tr>\n",
       "      <th rowspan=\"4\" valign=\"top\">2018-08-03</th>\n",
       "      <th rowspan=\"4\" valign=\"top\">BD_CLIENTS_UBS</th>\n",
       "      <th>BAP US</th>\n",
       "      <th>USD</th>\n",
       "      <td>1823956</td>\n",
       "      <td>-7500.0</td>\n",
       "      <td>-7500.0</td>\n",
       "      <td>232.230000</td>\n",
       "      <td>1.0</td>\n",
       "    </tr>\n",
       "    <tr>\n",
       "      <th>ENPH US</th>\n",
       "      <th>USD</th>\n",
       "      <td>214962</td>\n",
       "      <td>-63208.0</td>\n",
       "      <td>-63208.0</td>\n",
       "      <td>-84.690000</td>\n",
       "      <td>1.0</td>\n",
       "    </tr>\n",
       "    <tr>\n",
       "      <th>LTM US</th>\n",
       "      <th>USD</th>\n",
       "      <td>1823956</td>\n",
       "      <td>-55193.0</td>\n",
       "      <td>-55193.0</td>\n",
       "      <td>-90.150000</td>\n",
       "      <td>1.0</td>\n",
       "    </tr>\n",
       "    <tr>\n",
       "      <th>MELI US</th>\n",
       "      <th>USD</th>\n",
       "      <td>1823956</td>\n",
       "      <td>-5364.0</td>\n",
       "      <td>-5364.0</td>\n",
       "      <td>247.479434</td>\n",
       "      <td>1.0</td>\n",
       "    </tr>\n",
       "    <tr>\n",
       "      <th>...</th>\n",
       "      <th>...</th>\n",
       "      <th>...</th>\n",
       "      <th>...</th>\n",
       "      <td>...</td>\n",
       "      <td>...</td>\n",
       "      <td>...</td>\n",
       "      <td>...</td>\n",
       "      <td>...</td>\n",
       "    </tr>\n",
       "    <tr>\n",
       "      <th rowspan=\"15\" valign=\"top\">2018-08-10</th>\n",
       "      <th rowspan=\"6\" valign=\"top\">BD_CLIENTS_UBS</th>\n",
       "      <th>BSAC US</th>\n",
       "      <th>USD</th>\n",
       "      <td>424314</td>\n",
       "      <td>-9002.0</td>\n",
       "      <td>-9002.0</td>\n",
       "      <td>37.561840</td>\n",
       "      <td>1.0</td>\n",
       "    </tr>\n",
       "    <tr>\n",
       "      <th>ENIA US</th>\n",
       "      <th>USD</th>\n",
       "      <td>424314</td>\n",
       "      <td>-6600.0</td>\n",
       "      <td>-6600.0</td>\n",
       "      <td>7.050000</td>\n",
       "      <td>1.0</td>\n",
       "    </tr>\n",
       "    <tr>\n",
       "      <th>ENPH US</th>\n",
       "      <th>USD</th>\n",
       "      <td>214962</td>\n",
       "      <td>-63208.0</td>\n",
       "      <td>-63208.0</td>\n",
       "      <td>-82.710000</td>\n",
       "      <td>1.0</td>\n",
       "    </tr>\n",
       "    <tr>\n",
       "      <th>LTM US</th>\n",
       "      <th>USD</th>\n",
       "      <td>1823956</td>\n",
       "      <td>-55193.0</td>\n",
       "      <td>-55193.0</td>\n",
       "      <td>-79.770000</td>\n",
       "      <td>1.0</td>\n",
       "    </tr>\n",
       "    <tr>\n",
       "      <th>MELI US</th>\n",
       "      <th>USD</th>\n",
       "      <td>1823956</td>\n",
       "      <td>-5364.0</td>\n",
       "      <td>-5364.0</td>\n",
       "      <td>267.966529</td>\n",
       "      <td>1.0</td>\n",
       "    </tr>\n",
       "    <tr>\n",
       "      <th>PAGS US</th>\n",
       "      <th>USD</th>\n",
       "      <td>1823956</td>\n",
       "      <td>-1000.0</td>\n",
       "      <td>-1000.0</td>\n",
       "      <td>3.808954</td>\n",
       "      <td>1.0</td>\n",
       "    </tr>\n",
       "    <tr>\n",
       "      <th rowspan=\"9\" valign=\"top\">PRIVATE_DEFAULT_UBS</th>\n",
       "      <th>CAKE US</th>\n",
       "      <th>USD</th>\n",
       "      <td>1682709</td>\n",
       "      <td>-700.0</td>\n",
       "      <td>-700.0</td>\n",
       "      <td>3.600000</td>\n",
       "      <td>1.0</td>\n",
       "    </tr>\n",
       "    <tr>\n",
       "      <th>DRI US</th>\n",
       "      <th>USD</th>\n",
       "      <td>1682709</td>\n",
       "      <td>-600.0</td>\n",
       "      <td>-600.0</td>\n",
       "      <td>8.812281</td>\n",
       "      <td>1.0</td>\n",
       "    </tr>\n",
       "    <tr>\n",
       "      <th>KO US</th>\n",
       "      <th>USD</th>\n",
       "      <td>1682709</td>\n",
       "      <td>-700.0</td>\n",
       "      <td>-700.0</td>\n",
       "      <td>4.320000</td>\n",
       "      <td>1.0</td>\n",
       "    </tr>\n",
       "    <tr>\n",
       "      <th>LE US</th>\n",
       "      <th>USD</th>\n",
       "      <td>1682709</td>\n",
       "      <td>-1500.0</td>\n",
       "      <td>-1500.0</td>\n",
       "      <td>0.000000</td>\n",
       "      <td>1.0</td>\n",
       "    </tr>\n",
       "    <tr>\n",
       "      <th>MELI US</th>\n",
       "      <th>USD</th>\n",
       "      <td>1682709</td>\n",
       "      <td>-150.0</td>\n",
       "      <td>-150.0</td>\n",
       "      <td>7.493471</td>\n",
       "      <td>1.0</td>\n",
       "    </tr>\n",
       "    <tr>\n",
       "      <th>NFLX US</th>\n",
       "      <th>USD</th>\n",
       "      <td>46537</td>\n",
       "      <td>-1000.0</td>\n",
       "      <td>-1000.0</td>\n",
       "      <td>46.410000</td>\n",
       "      <td>1.0</td>\n",
       "    </tr>\n",
       "    <tr>\n",
       "      <th>PAGS US</th>\n",
       "      <th>USD</th>\n",
       "      <td>46537</td>\n",
       "      <td>-16000.0</td>\n",
       "      <td>-16000.0</td>\n",
       "      <td>60.943263</td>\n",
       "      <td>1.0</td>\n",
       "    </tr>\n",
       "    <tr>\n",
       "      <th>TSLA US</th>\n",
       "      <th>USD</th>\n",
       "      <td>1682709</td>\n",
       "      <td>-200.0</td>\n",
       "      <td>-200.0</td>\n",
       "      <td>-10.380000</td>\n",
       "      <td>1.0</td>\n",
       "    </tr>\n",
       "    <tr>\n",
       "      <th>WU US</th>\n",
       "      <th>USD</th>\n",
       "      <td>1682709</td>\n",
       "      <td>-2500.0</td>\n",
       "      <td>-2500.0</td>\n",
       "      <td>6.330000</td>\n",
       "      <td>1.0</td>\n",
       "    </tr>\n",
       "    <tr>\n",
       "      <th rowspan=\"15\" valign=\"top\">2018-08-13</th>\n",
       "      <th rowspan=\"6\" valign=\"top\">BD_CLIENTS_UBS</th>\n",
       "      <th>BAP US</th>\n",
       "      <th>USD</th>\n",
       "      <td>1823956</td>\n",
       "      <td>-7500.0</td>\n",
       "      <td>-7500.0</td>\n",
       "      <td>75.730000</td>\n",
       "      <td>1.0</td>\n",
       "    </tr>\n",
       "    <tr>\n",
       "      <th>BSAC US</th>\n",
       "      <th>USD</th>\n",
       "      <td>424314</td>\n",
       "      <td>-2500.0</td>\n",
       "      <td>-2500.0</td>\n",
       "      <td>1.617522</td>\n",
       "      <td>1.0</td>\n",
       "    </tr>\n",
       "    <tr>\n",
       "      <th>ENPH US</th>\n",
       "      <th>USD</th>\n",
       "      <td>214962</td>\n",
       "      <td>-63208.0</td>\n",
       "      <td>-63208.0</td>\n",
       "      <td>-24.380000</td>\n",
       "      <td>1.0</td>\n",
       "    </tr>\n",
       "    <tr>\n",
       "      <th>LTM US</th>\n",
       "      <th>USD</th>\n",
       "      <td>1823956</td>\n",
       "      <td>-100193.0</td>\n",
       "      <td>-100193.0</td>\n",
       "      <td>-61.490000</td>\n",
       "      <td>1.0</td>\n",
       "    </tr>\n",
       "    <tr>\n",
       "      <th>MELI US</th>\n",
       "      <th>USD</th>\n",
       "      <td>1823956</td>\n",
       "      <td>-5364.0</td>\n",
       "      <td>-5364.0</td>\n",
       "      <td>102.874270</td>\n",
       "      <td>1.0</td>\n",
       "    </tr>\n",
       "    <tr>\n",
       "      <th>PAGS US</th>\n",
       "      <th>USD</th>\n",
       "      <td>1823956</td>\n",
       "      <td>-1000.0</td>\n",
       "      <td>-1000.0</td>\n",
       "      <td>1.330475</td>\n",
       "      <td>1.0</td>\n",
       "    </tr>\n",
       "    <tr>\n",
       "      <th rowspan=\"9\" valign=\"top\">PRIVATE_DEFAULT_UBS</th>\n",
       "      <th>CAKE US</th>\n",
       "      <th>USD</th>\n",
       "      <td>1682709</td>\n",
       "      <td>-700.0</td>\n",
       "      <td>-700.0</td>\n",
       "      <td>1.220000</td>\n",
       "      <td>1.0</td>\n",
       "    </tr>\n",
       "    <tr>\n",
       "      <th>DRI US</th>\n",
       "      <th>USD</th>\n",
       "      <td>1682709</td>\n",
       "      <td>-600.0</td>\n",
       "      <td>-600.0</td>\n",
       "      <td>2.982456</td>\n",
       "      <td>1.0</td>\n",
       "    </tr>\n",
       "    <tr>\n",
       "      <th>KO US</th>\n",
       "      <th>USD</th>\n",
       "      <td>1682709</td>\n",
       "      <td>-700.0</td>\n",
       "      <td>-700.0</td>\n",
       "      <td>1.440000</td>\n",
       "      <td>1.0</td>\n",
       "    </tr>\n",
       "    <tr>\n",
       "      <th>LE US</th>\n",
       "      <th>USD</th>\n",
       "      <td>1682709</td>\n",
       "      <td>-1500.0</td>\n",
       "      <td>-1500.0</td>\n",
       "      <td>0.540000</td>\n",
       "      <td>1.0</td>\n",
       "    </tr>\n",
       "    <tr>\n",
       "      <th>MELI US</th>\n",
       "      <th>USD</th>\n",
       "      <td>1682709</td>\n",
       "      <td>-200.0</td>\n",
       "      <td>-200.0</td>\n",
       "      <td>3.835730</td>\n",
       "      <td>1.0</td>\n",
       "    </tr>\n",
       "    <tr>\n",
       "      <th>NFLX US</th>\n",
       "      <th>USD</th>\n",
       "      <td>46537</td>\n",
       "      <td>-1000.0</td>\n",
       "      <td>-1000.0</td>\n",
       "      <td>15.090000</td>\n",
       "      <td>1.0</td>\n",
       "    </tr>\n",
       "    <tr>\n",
       "      <th>PAGS US</th>\n",
       "      <th>USD</th>\n",
       "      <td>1729246</td>\n",
       "      <td>-16500.0</td>\n",
       "      <td>-33000.0</td>\n",
       "      <td>43.905688</td>\n",
       "      <td>1.0</td>\n",
       "    </tr>\n",
       "    <tr>\n",
       "      <th>TSLA US</th>\n",
       "      <th>USD</th>\n",
       "      <td>1682709</td>\n",
       "      <td>-200.0</td>\n",
       "      <td>-200.0</td>\n",
       "      <td>-2.410000</td>\n",
       "      <td>1.0</td>\n",
       "    </tr>\n",
       "    <tr>\n",
       "      <th>WU US</th>\n",
       "      <th>USD</th>\n",
       "      <td>1682709</td>\n",
       "      <td>-2500.0</td>\n",
       "      <td>-2500.0</td>\n",
       "      <td>2.100000</td>\n",
       "      <td>1.0</td>\n",
       "    </tr>\n",
       "  </tbody>\n",
       "</table>\n",
       "<p>126 rows × 5 columns</p>\n",
       "</div>"
      ],
      "text/plain": [
       "                                                 conta_pb  quantidade_book  \\\n",
       "data_ref   book                ticker  currency                              \n",
       "2018-08-01 BD_CLIENTS_UBS      BAP US  USD        1823956          -7500.0   \n",
       "                               ENPH US USD         214962         -80000.0   \n",
       "                               LTM US  USD        1823956         -55193.0   \n",
       "                               MELI US USD        1823956          -5364.0   \n",
       "                               PAGS US USD        1823956          -1000.0   \n",
       "           PRIVATE_DEFAULT_UBS BOX US  USD         463312          -2000.0   \n",
       "                               CAKE US USD        1682709          -1000.0   \n",
       "                               DRI US  USD        1682709           -600.0   \n",
       "                               LE US   USD        1682709          -1500.0   \n",
       "                               MELI US USD        1682709           -150.0   \n",
       "                               NFLX US USD          46537          -1000.0   \n",
       "                               PAGS US USD          46537         -16000.0   \n",
       "                               WU US   USD        1682709          -2500.0   \n",
       "2018-08-02 BD_CLIENTS_UBS      BAP US  USD        1823956          -7500.0   \n",
       "                               ENPH US USD         214962         -80000.0   \n",
       "                               LTM US  USD        1823956         -55193.0   \n",
       "                               MELI US USD        1823956          -5364.0   \n",
       "                               PAGS US USD        1823956          -1000.0   \n",
       "           PRIVATE_DEFAULT_UBS BOX US  USD         463312          -2000.0   \n",
       "                               CAKE US USD        1682709          -1000.0   \n",
       "                               DRI US  USD        1682709           -600.0   \n",
       "                               LE US   USD        1682709          -1500.0   \n",
       "                               MELI US USD        1682709           -150.0   \n",
       "                               NFLX US USD          46537          -1000.0   \n",
       "                               PAGS US USD          46537         -16000.0   \n",
       "                               WU US   USD        1682709          -2500.0   \n",
       "2018-08-03 BD_CLIENTS_UBS      BAP US  USD        1823956          -7500.0   \n",
       "                               ENPH US USD         214962         -63208.0   \n",
       "                               LTM US  USD        1823956         -55193.0   \n",
       "                               MELI US USD        1823956          -5364.0   \n",
       "...                                                   ...              ...   \n",
       "2018-08-10 BD_CLIENTS_UBS      BSAC US USD         424314          -9002.0   \n",
       "                               ENIA US USD         424314          -6600.0   \n",
       "                               ENPH US USD         214962         -63208.0   \n",
       "                               LTM US  USD        1823956         -55193.0   \n",
       "                               MELI US USD        1823956          -5364.0   \n",
       "                               PAGS US USD        1823956          -1000.0   \n",
       "           PRIVATE_DEFAULT_UBS CAKE US USD        1682709           -700.0   \n",
       "                               DRI US  USD        1682709           -600.0   \n",
       "                               KO US   USD        1682709           -700.0   \n",
       "                               LE US   USD        1682709          -1500.0   \n",
       "                               MELI US USD        1682709           -150.0   \n",
       "                               NFLX US USD          46537          -1000.0   \n",
       "                               PAGS US USD          46537         -16000.0   \n",
       "                               TSLA US USD        1682709           -200.0   \n",
       "                               WU US   USD        1682709          -2500.0   \n",
       "2018-08-13 BD_CLIENTS_UBS      BAP US  USD        1823956          -7500.0   \n",
       "                               BSAC US USD         424314          -2500.0   \n",
       "                               ENPH US USD         214962         -63208.0   \n",
       "                               LTM US  USD        1823956        -100193.0   \n",
       "                               MELI US USD        1823956          -5364.0   \n",
       "                               PAGS US USD        1823956          -1000.0   \n",
       "           PRIVATE_DEFAULT_UBS CAKE US USD        1682709           -700.0   \n",
       "                               DRI US  USD        1682709           -600.0   \n",
       "                               KO US   USD        1682709           -700.0   \n",
       "                               LE US   USD        1682709          -1500.0   \n",
       "                               MELI US USD        1682709           -200.0   \n",
       "                               NFLX US USD          46537          -1000.0   \n",
       "                               PAGS US USD        1729246         -16500.0   \n",
       "                               TSLA US USD        1682709           -200.0   \n",
       "                               WU US   USD        1682709          -2500.0   \n",
       "\n",
       "                                                 quantidade_ticker  \\\n",
       "data_ref   book                ticker  currency                      \n",
       "2018-08-01 BD_CLIENTS_UBS      BAP US  USD                 -7500.0   \n",
       "                               ENPH US USD                -80000.0   \n",
       "                               LTM US  USD                -55193.0   \n",
       "                               MELI US USD                 -5364.0   \n",
       "                               PAGS US USD                 -1000.0   \n",
       "           PRIVATE_DEFAULT_UBS BOX US  USD                 -2000.0   \n",
       "                               CAKE US USD                 -1000.0   \n",
       "                               DRI US  USD                  -600.0   \n",
       "                               LE US   USD                 -1500.0   \n",
       "                               MELI US USD                  -150.0   \n",
       "                               NFLX US USD                 -1000.0   \n",
       "                               PAGS US USD                -16000.0   \n",
       "                               WU US   USD                 -2500.0   \n",
       "2018-08-02 BD_CLIENTS_UBS      BAP US  USD                 -7500.0   \n",
       "                               ENPH US USD                -80000.0   \n",
       "                               LTM US  USD                -55193.0   \n",
       "                               MELI US USD                 -5364.0   \n",
       "                               PAGS US USD                 -1000.0   \n",
       "           PRIVATE_DEFAULT_UBS BOX US  USD                 -2000.0   \n",
       "                               CAKE US USD                 -1000.0   \n",
       "                               DRI US  USD                  -600.0   \n",
       "                               LE US   USD                 -1500.0   \n",
       "                               MELI US USD                  -150.0   \n",
       "                               NFLX US USD                 -1000.0   \n",
       "                               PAGS US USD                -16000.0   \n",
       "                               WU US   USD                 -2500.0   \n",
       "2018-08-03 BD_CLIENTS_UBS      BAP US  USD                 -7500.0   \n",
       "                               ENPH US USD                -63208.0   \n",
       "                               LTM US  USD                -55193.0   \n",
       "                               MELI US USD                 -5364.0   \n",
       "...                                                            ...   \n",
       "2018-08-10 BD_CLIENTS_UBS      BSAC US USD                 -9002.0   \n",
       "                               ENIA US USD                 -6600.0   \n",
       "                               ENPH US USD                -63208.0   \n",
       "                               LTM US  USD                -55193.0   \n",
       "                               MELI US USD                 -5364.0   \n",
       "                               PAGS US USD                 -1000.0   \n",
       "           PRIVATE_DEFAULT_UBS CAKE US USD                  -700.0   \n",
       "                               DRI US  USD                  -600.0   \n",
       "                               KO US   USD                  -700.0   \n",
       "                               LE US   USD                 -1500.0   \n",
       "                               MELI US USD                  -150.0   \n",
       "                               NFLX US USD                 -1000.0   \n",
       "                               PAGS US USD                -16000.0   \n",
       "                               TSLA US USD                  -200.0   \n",
       "                               WU US   USD                 -2500.0   \n",
       "2018-08-13 BD_CLIENTS_UBS      BAP US  USD                 -7500.0   \n",
       "                               BSAC US USD                 -2500.0   \n",
       "                               ENPH US USD                -63208.0   \n",
       "                               LTM US  USD               -100193.0   \n",
       "                               MELI US USD                 -5364.0   \n",
       "                               PAGS US USD                 -1000.0   \n",
       "           PRIVATE_DEFAULT_UBS CAKE US USD                  -700.0   \n",
       "                               DRI US  USD                  -600.0   \n",
       "                               KO US   USD                  -700.0   \n",
       "                               LE US   USD                 -1500.0   \n",
       "                               MELI US USD                  -200.0   \n",
       "                               NFLX US USD                 -1000.0   \n",
       "                               PAGS US USD                -33000.0   \n",
       "                               TSLA US USD                  -200.0   \n",
       "                               WU US   USD                 -2500.0   \n",
       "\n",
       "                                                 accrual_final  pct  \n",
       "data_ref   book                ticker  currency                      \n",
       "2018-08-01 BD_CLIENTS_UBS      BAP US  USD           76.190000  1.0  \n",
       "                               ENPH US USD          -37.270000  1.0  \n",
       "                               LTM US  USD          -29.620000  1.0  \n",
       "                               MELI US USD           82.522329  1.0  \n",
       "                               PAGS US USD            1.175130  1.0  \n",
       "           PRIVATE_DEFAULT_UBS BOX US  USD            2.100000  1.0  \n",
       "                               CAKE US USD            1.700000  1.0  \n",
       "                               DRI US  USD            2.840000  1.0  \n",
       "                               LE US   USD            0.000000  1.0  \n",
       "                               MELI US USD            2.307671  1.0  \n",
       "                               NFLX US USD           15.040000  1.0  \n",
       "                               PAGS US USD           18.802076  1.0  \n",
       "                               WU US   USD            2.240000  1.0  \n",
       "2018-08-02 BD_CLIENTS_UBS      BAP US  USD           75.420000  1.0  \n",
       "                               ENPH US USD          -38.000000  1.0  \n",
       "                               LTM US  USD          -29.300000  1.0  \n",
       "                               MELI US USD           80.878303  1.0  \n",
       "                               PAGS US USD            1.171107  1.0  \n",
       "           PRIVATE_DEFAULT_UBS BOX US  USD            2.190000  1.0  \n",
       "                               CAKE US USD            1.740000  1.0  \n",
       "                               DRI US  USD            2.900000  1.0  \n",
       "                               LE US   USD            0.000000  1.0  \n",
       "                               MELI US USD            2.261697  1.0  \n",
       "                               NFLX US USD           15.310000  1.0  \n",
       "                               PAGS US USD           18.737718  1.0  \n",
       "                               WU US   USD            2.290000  1.0  \n",
       "2018-08-03 BD_CLIENTS_UBS      BAP US  USD          232.230000  1.0  \n",
       "                               ENPH US USD          -84.690000  1.0  \n",
       "                               LTM US  USD          -90.150000  1.0  \n",
       "                               MELI US USD          247.479434  1.0  \n",
       "...                                                        ...  ...  \n",
       "2018-08-10 BD_CLIENTS_UBS      BSAC US USD           37.561840  1.0  \n",
       "                               ENIA US USD            7.050000  1.0  \n",
       "                               ENPH US USD          -82.710000  1.0  \n",
       "                               LTM US  USD          -79.770000  1.0  \n",
       "                               MELI US USD          267.966529  1.0  \n",
       "                               PAGS US USD            3.808954  1.0  \n",
       "           PRIVATE_DEFAULT_UBS CAKE US USD            3.600000  1.0  \n",
       "                               DRI US  USD            8.812281  1.0  \n",
       "                               KO US   USD            4.320000  1.0  \n",
       "                               LE US   USD            0.000000  1.0  \n",
       "                               MELI US USD            7.493471  1.0  \n",
       "                               NFLX US USD           46.410000  1.0  \n",
       "                               PAGS US USD           60.943263  1.0  \n",
       "                               TSLA US USD          -10.380000  1.0  \n",
       "                               WU US   USD            6.330000  1.0  \n",
       "2018-08-13 BD_CLIENTS_UBS      BAP US  USD           75.730000  1.0  \n",
       "                               BSAC US USD            1.617522  1.0  \n",
       "                               ENPH US USD          -24.380000  1.0  \n",
       "                               LTM US  USD          -61.490000  1.0  \n",
       "                               MELI US USD          102.874270  1.0  \n",
       "                               PAGS US USD            1.330475  1.0  \n",
       "           PRIVATE_DEFAULT_UBS CAKE US USD            1.220000  1.0  \n",
       "                               DRI US  USD            2.982456  1.0  \n",
       "                               KO US   USD            1.440000  1.0  \n",
       "                               LE US   USD            0.540000  1.0  \n",
       "                               MELI US USD            3.835730  1.0  \n",
       "                               NFLX US USD           15.090000  1.0  \n",
       "                               PAGS US USD           43.905688  1.0  \n",
       "                               TSLA US USD           -2.410000  1.0  \n",
       "                               WU US   USD            2.100000  1.0  \n",
       "\n",
       "[126 rows x 5 columns]"
      ]
     },
     "execution_count": 104,
     "metadata": {},
     "output_type": "execute_result"
    }
   ],
   "source": [
    "batimento_wm_distrib.groupby(by=['data_ref', 'book', 'ticker', 'currency']).sum()"
   ]
  },
  {
   "cell_type": "code",
   "execution_count": 105,
   "metadata": {
    "collapsed": true
   },
   "outputs": [],
   "source": [
    "batimento_wm_distrib['accrual'] = batimento_wm_distrib['accrual_final']*batimento_wm_distrib['pct']"
   ]
  },
  {
   "cell_type": "code",
   "execution_count": 106,
   "metadata": {
    "collapsed": false
   },
   "outputs": [],
   "source": [
    "batimento_wm_distrib = batimento_wm_distrib.drop(['quantidade_ticker', 'pct'], axis=1).rename(columns = {\n",
    "'accrual_final':'accrual_n_distrib'})"
   ]
  },
  {
   "cell_type": "code",
   "execution_count": 107,
   "metadata": {
    "collapsed": true
   },
   "outputs": [],
   "source": [
    "abertura_batidos_consol_wm = batimento_wm_distrib.copy()"
   ]
  },
  {
   "cell_type": "code",
   "execution_count": 108,
   "metadata": {
    "collapsed": false
   },
   "outputs": [],
   "source": [
    "abertura_batidos_consol_wm = abertura_batidos_consol_wm[abertura_batidos_consol_wm['accrual']!=0]"
   ]
  },
  {
   "cell_type": "code",
   "execution_count": 109,
   "metadata": {
    "collapsed": false
   },
   "outputs": [
    {
     "data": {
      "text/plain": [
       "\"total_wm = abertura_batidos_consol_wm.groupby(by=['acc','book','currency']).sum().reset_index()\\n\\ntotal_wm_calypso = abertura_batidos_consol[(abertura_batidos_consol['book'].str.contains('CLIENTS'))|                       (abertura_batidos_consol['book'].str.contains('PRIVATE'))].reset_index(drop=True)                                                                .groupby(by=['book', 'currency']).sum().reset_index()\\n\\ntotal_wm_n_distrib = pd.merge(total_wm, total_wm_calypso, on=['book','currency'], how='left').fillna(0)\\n\\nabertura_batidos_consol_wm\\n\\n\\n\\ntotal_wm_n_distrib['accrual_final_n_distrib'] = total_wm_n_distrib['accrual_final']-total_wm_n_distrib['accrual']\\n\\ntotal_wm_n_distrib = total_wm_n_distrib.drop(['accrual', 'accrual_final', 'quantidade_book_x','quantidade_book_y',\\n                                              'conta_pb'], axis=1)\\n\\nabertura_batidos_consol_wm = abertura_batidos_consol_wm.groupby(by=['book','conta','currency']).sum().reset_index()                                                .drop(['conta_pb','quantidade_book'], axis=1)\\n\\ntotal_wm_n_distrib['conta'] = 'OUTROS'\\ntotal_wm_n_distrib = total_wm_n_distrib.rename(columns={'accrual_final_n_distrib':'accrual'})\\n\\nabertura_batidos_consol_wm = abertura_batidos_consol_wm.groupby(by=['conta', 'book','currency']).sum().reset_index()\\nabertura_batidos_consol_wm['acc'] = 'ubs_cayman'\\n\\nabertura_batidos_consol_wm = pd.concat([total_wm_n_distrib, abertura_batidos_consol_wm], axis=0)\\n\\nabertura_batidos_consol_wm\""
      ]
     },
     "execution_count": 109,
     "metadata": {},
     "output_type": "execute_result"
    }
   ],
   "source": [
    "'''total_wm = abertura_batidos_consol_wm.groupby(by=['acc','book','currency']).sum().reset_index()\n",
    "\n",
    "total_wm_calypso = abertura_batidos_consol[(abertura_batidos_consol['book'].str.contains('CLIENTS'))|\\\n",
    "                       (abertura_batidos_consol['book'].str.contains('PRIVATE'))].reset_index(drop=True)\\\n",
    "                                                                .groupby(by=['book', 'currency']).sum().reset_index()\n",
    "\n",
    "total_wm_n_distrib = pd.merge(total_wm, total_wm_calypso, on=['book','currency'], how='left').fillna(0)\n",
    "\n",
    "abertura_batidos_consol_wm\n",
    "\n",
    "\n",
    "\n",
    "total_wm_n_distrib['accrual_final_n_distrib'] = total_wm_n_distrib['accrual_final']-total_wm_n_distrib['accrual']\n",
    "\n",
    "total_wm_n_distrib = total_wm_n_distrib.drop(['accrual', 'accrual_final', 'quantidade_book_x','quantidade_book_y',\n",
    "                                              'conta_pb'], axis=1)\n",
    "\n",
    "abertura_batidos_consol_wm = abertura_batidos_consol_wm.groupby(by=['book','conta','currency']).sum().reset_index()\\\n",
    "                                                .drop(['conta_pb','quantidade_book'], axis=1)\n",
    "\n",
    "total_wm_n_distrib['conta'] = 'OUTROS'\n",
    "total_wm_n_distrib = total_wm_n_distrib.rename(columns={'accrual_final_n_distrib':'accrual'})\n",
    "\n",
    "abertura_batidos_consol_wm = abertura_batidos_consol_wm.groupby(by=['conta', 'book','currency']).sum().reset_index()\n",
    "abertura_batidos_consol_wm['acc'] = 'ubs_cayman'\n",
    "\n",
    "abertura_batidos_consol_wm = pd.concat([total_wm_n_distrib, abertura_batidos_consol_wm], axis=0)\n",
    "\n",
    "abertura_batidos_consol_wm'''"
   ]
  },
  {
   "cell_type": "code",
   "execution_count": null,
   "metadata": {
    "collapsed": true
   },
   "outputs": [],
   "source": []
  },
  {
   "cell_type": "code",
   "execution_count": 110,
   "metadata": {
    "collapsed": false
   },
   "outputs": [],
   "source": [
    "abertura_batidos_consol_wm = abertura_batidos_consol_wm[['acc','conta','book','currency','accrual']]"
   ]
  },
  {
   "cell_type": "code",
   "execution_count": 111,
   "metadata": {
    "collapsed": false,
    "scrolled": true
   },
   "outputs": [],
   "source": [
    "abertura_batidos_consol = abertura_batidos_consol[['acc', 'book', 'currency', 'accrual_final']]"
   ]
  },
  {
   "cell_type": "code",
   "execution_count": 112,
   "metadata": {
    "collapsed": false
   },
   "outputs": [],
   "source": [
    "abertura_batidos_consol_dia = abertura_batidos_consol_dia.drop('quantidade_book', axis=1)"
   ]
  },
  {
   "cell_type": "markdown",
   "metadata": {},
   "source": [
    "# Resultados"
   ]
  },
  {
   "cell_type": "code",
   "execution_count": 113,
   "metadata": {
    "collapsed": false
   },
   "outputs": [],
   "source": [
    "string = str(data.year)+'-'+str(\"{:02}\".format(data.month))+'-'+str(\"{:02}\".format(data.day))"
   ]
  },
  {
   "cell_type": "code",
   "execution_count": 114,
   "metadata": {
    "collapsed": true
   },
   "outputs": [],
   "source": [
    "save_path = r'\\\\DRIOC0231PFS\\Apoio_SB\\Geral\\BD\\Aluguel_Offshore\\Arquivos diários'"
   ]
  },
  {
   "cell_type": "code",
   "execution_count": 115,
   "metadata": {
    "collapsed": false
   },
   "outputs": [],
   "source": [
    "subfolder = months_dict[pd.to_datetime(data).month]+str(pd.to_datetime(data).year)\n",
    "final_path = save_path+'\\\\'+subfolder+'\\\\'+string\n",
    "if os.path.isdir(save_path+'\\\\'+subfolder)==True:\n",
    "    if os.path.isdir(save_path+'\\\\'+subfolder+'\\\\'+string)==False:\n",
    "        os.mkdir(save_path+'\\\\'+subfolder+'\\\\'+string)\n",
    "else:\n",
    "    os.mkdir(save_path+'\\\\'+subfolder)\n",
    "    os.mkdir(save_path+'\\\\'+subfolder+'\\\\'+string)"
   ]
  },
  {
   "cell_type": "code",
   "execution_count": 116,
   "metadata": {
    "collapsed": false
   },
   "outputs": [
    {
     "data": {
      "text/plain": [
       "'\\\\\\\\DRIOC0231PFS\\\\Apoio_SB\\\\Geral\\\\BD\\\\Aluguel_Offshore\\\\Arquivos diários\\\\ago2018\\\\2018-08-13'"
      ]
     },
     "execution_count": 116,
     "metadata": {},
     "output_type": "execute_result"
    }
   ],
   "source": [
    "final_path"
   ]
  },
  {
   "cell_type": "code",
   "execution_count": 117,
   "metadata": {
    "collapsed": false
   },
   "outputs": [],
   "source": [
    "writer = pd.ExcelWriter(final_path+'\\\\batimento_alguel_offshore_'+string+'.xlsx')"
   ]
  },
  {
   "cell_type": "code",
   "execution_count": 118,
   "metadata": {
    "collapsed": true
   },
   "outputs": [],
   "source": [
    "abertura_batidos_consol.to_excel(writer, sheet_name = 'Custos Consolidados', index=False)"
   ]
  },
  {
   "cell_type": "code",
   "execution_count": 119,
   "metadata": {
    "collapsed": true
   },
   "outputs": [],
   "source": [
    "abertura_batidos_consol_wm.to_excel(writer, sheet_name = 'Distrib WM', index=False)"
   ]
  },
  {
   "cell_type": "code",
   "execution_count": 120,
   "metadata": {
    "collapsed": true
   },
   "outputs": [],
   "source": [
    "abertura_batidos_consol_dia.to_excel(writer, sheet_name = string, index=False)"
   ]
  },
  {
   "cell_type": "code",
   "execution_count": 121,
   "metadata": {
    "collapsed": false
   },
   "outputs": [],
   "source": [
    "writer.save()"
   ]
  },
  {
   "cell_type": "code",
   "execution_count": null,
   "metadata": {
    "collapsed": true
   },
   "outputs": [],
   "source": []
  },
  {
   "cell_type": "code",
   "execution_count": 122,
   "metadata": {
    "collapsed": true
   },
   "outputs": [],
   "source": [
    "writer_2 = pd.ExcelWriter(final_path+'\\\\batimento_alguel_offshore_sobras_'+string+'.xlsx')"
   ]
  },
  {
   "cell_type": "code",
   "execution_count": 123,
   "metadata": {
    "collapsed": false
   },
   "outputs": [],
   "source": [
    "abertura_n_batidos.to_excel(writer_2, sheet_name = 'abertura_n_batidos', index=False)\n",
    "sobra_origem.to_excel(writer_2, sheet_name = 'sobra_origem', index=False)\n",
    "#sobra_destino.to_excel(writer_2, sheet_name = 'sobra_destino', index=False)"
   ]
  },
  {
   "cell_type": "code",
   "execution_count": 124,
   "metadata": {
    "collapsed": false
   },
   "outputs": [],
   "source": [
    "writer_2.save()"
   ]
  },
  {
   "cell_type": "code",
   "execution_count": null,
   "metadata": {
    "collapsed": true
   },
   "outputs": [],
   "source": []
  },
  {
   "cell_type": "code",
   "execution_count": 125,
   "metadata": {
    "collapsed": false
   },
   "outputs": [],
   "source": [
    "lista_files = [final_path+'\\\\batimento_alguel_offshore_'+string+'.xlsx',\n",
    "               final_path+'\\\\batimento_alguel_offshore_sobras_'+string+'.xlsx']"
   ]
  },
  {
   "cell_type": "code",
   "execution_count": 126,
   "metadata": {
    "collapsed": true
   },
   "outputs": [],
   "source": [
    "email_sender('guilherme.correia@btgpactual.com', 'OL-equity-backoffice@btgpactual.com;OL-EQUITYBD@btgpactual.com;Analuisa.Godoy@btgpactual.com', \\\n",
    "             'Aluguel Offshore | Batimento Parcial - %s' %(string), \\\n",
    "             'Legenda: abertura_n_batidos são os que possuem diferença de quantidade. sobra_origem são os que tem no calypso e não no pb', \\\n",
    "             lista_files)"
   ]
  },
  {
   "cell_type": "code",
   "execution_count": null,
   "metadata": {
    "collapsed": true
   },
   "outputs": [],
   "source": []
  },
  {
   "cell_type": "code",
   "execution_count": null,
   "metadata": {
    "collapsed": true
   },
   "outputs": [],
   "source": []
  },
  {
   "cell_type": "code",
   "execution_count": null,
   "metadata": {
    "collapsed": true
   },
   "outputs": [],
   "source": []
  }
 ],
 "metadata": {
  "kernelspec": {
   "display_name": "Python 3",
   "language": "python",
   "name": "python3"
  },
  "language_info": {
   "codemirror_mode": {
    "name": "ipython",
    "version": 3
   },
   "file_extension": ".py",
   "mimetype": "text/x-python",
   "name": "python",
   "nbconvert_exporter": "python",
   "pygments_lexer": "ipython3",
   "version": "3.6.0"
  }
 },
 "nbformat": 4,
 "nbformat_minor": 2
}
