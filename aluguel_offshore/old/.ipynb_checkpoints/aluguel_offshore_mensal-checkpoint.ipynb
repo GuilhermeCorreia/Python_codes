{
 "cells": [
  {
   "cell_type": "code",
   "execution_count": 1,
   "metadata": {
    "collapsed": false,
    "scrolled": true
   },
   "outputs": [],
   "source": [
    "%load_ext autoreload\n",
    "%autoreload 2\n",
    "\n",
    "import os\n",
    "import sys\n",
    "sys.path.append('%s/../' % os.getcwd())\n",
    "\n",
    "import datetime\n",
    "import pandas as pd\n",
    "import numpy as np\n",
    "import getpass"
   ]
  },
  {
   "cell_type": "code",
   "execution_count": 2,
   "metadata": {
    "collapsed": false
   },
   "outputs": [],
   "source": [
    "#importa as fórmulas do arquivo aluguel_offshore.py - note que este arquivo deverá estar na mesma pasta deste notebook\n",
    "from aluguel_offshore import *"
   ]
  },
  {
   "cell_type": "code",
   "execution_count": null,
   "metadata": {
    "collapsed": true
   },
   "outputs": [],
   "source": []
  },
  {
   "cell_type": "code",
   "execution_count": 3,
   "metadata": {
    "collapsed": true,
    "scrolled": true
   },
   "outputs": [],
   "source": [
    "#pasta em que estão os arquivos no seu computador.\n",
    "pasta = r'C:\\Users\\correigu\\OneDrive - Banco BTG Pactual S.A\\Desktop\\aqruivos_offshore'"
   ]
  },
  {
   "cell_type": "code",
   "execution_count": 4,
   "metadata": {
    "collapsed": false
   },
   "outputs": [],
   "source": [
    "data_inicio = pd.to_datetime('2018-01-01')\n",
    "data_final = pd.to_datetime('2018-01-31')"
   ]
  },
  {
   "cell_type": "code",
   "execution_count": 5,
   "metadata": {
    "collapsed": false
   },
   "outputs": [
    {
     "name": "stdout",
     "output_type": "stream",
     "text": [
      "Povoando lista de arquivos que serão baixados para a memória\n",
      "    O arquivo Ajustes não possui data registrada\n",
      "    O arquivo Ajustes não pôde ser comparado com os demais\n",
      "    O arquivo old_v2 não possui data registrada\n",
      "    O arquivo old_v2 não pôde ser comparado com os demais\n",
      "    O arquivo tickers_diffs.xlsx não possui data registrada\n",
      "    O arquivo tickers_diffs.xlsx não pôde ser comparado com os demais\n",
      "--------------------------------------------------------------------------------------------------------------\n",
      "Baixando arquivos!!\n",
      "    31 arquivos do ubs importados\n",
      "    45 arquivos da morgan importados\n",
      "    22 arquivos do Calypso PROP+ASSET importados\n",
      "    22 arquivos do Calypso BD+WM importados\n",
      "    30 arquivos do Calypso INTC importados\n",
      "--------------------------------------------------------------------------------------------------------------\n"
     ]
    }
   ],
   "source": [
    "ubs, morgan, intc, bdwm, pras = ImportAluguelOffshore(pasta,data_inicio,data_final).baixa_dados_df()"
   ]
  },
  {
   "cell_type": "code",
   "execution_count": null,
   "metadata": {
    "collapsed": true
   },
   "outputs": [],
   "source": []
  },
  {
   "cell_type": "code",
   "execution_count": null,
   "metadata": {
    "collapsed": true
   },
   "outputs": [],
   "source": []
  },
  {
   "cell_type": "code",
   "execution_count": 6,
   "metadata": {
    "collapsed": false
   },
   "outputs": [],
   "source": [
    "def pega_data_file(file):\n",
    "    lista_erros = []\n",
    "    try:\n",
    "        try:\n",
    "            data = pd.to_datetime(file[-12:-4], format='%Y%m%d')\n",
    "        except ValueError:\n",
    "            try:\n",
    "                data = pd.to_datetime(file[-14:-4], format='%Y-%m-%d')\n",
    "            except ValueError:\n",
    "                data = pd.to_datetime(file[-13:-5], format='%Y%m%d')    \n",
    "    except ValueError:\n",
    "        print ('O arquivo %s não possui data registrada' %(file))\n",
    "        data = 0\n",
    "    return data"
   ]
  },
  {
   "cell_type": "code",
   "execution_count": null,
   "metadata": {
    "collapsed": true
   },
   "outputs": [],
   "source": []
  },
  {
   "cell_type": "code",
   "execution_count": null,
   "metadata": {
    "collapsed": false,
    "scrolled": true
   },
   "outputs": [
    {
     "name": "stdout",
     "output_type": "stream",
     "text": [
      "O arquivo Ajustes não possui data registrada\n",
      "O arquivo Ajustes não pôde ser comparado com os demais\n",
      "O arquivo old_v2 não possui data registrada\n",
      "O arquivo old_v2 não pôde ser comparado com os demais\n",
      "O arquivo tickers_diffs.xlsx não possui data registrada\n",
      "O arquivo tickers_diffs.xlsx não pôde ser comparado com os demais\n"
     ]
    }
   ],
   "source": [
    "lista_files = []\n",
    "for file in os.listdir(pasta):\n",
    "    data = pega_data_file(file)\n",
    "    \n",
    "    try:\n",
    "        if (data>=data_inicio)&(data<=data_final):\n",
    "            lista_files.append(pasta+'\\\\'+file)\n",
    "    except TypeError:\n",
    "        print ('O arquivo %s não pôde ser comparado com os demais' %(file))"
   ]
  },
  {
   "cell_type": "code",
   "execution_count": null,
   "metadata": {
    "collapsed": false,
    "scrolled": false
   },
   "outputs": [],
   "source": [
    "%%time\n",
    "ubs_count=0\n",
    "morgan_count=0\n",
    "pras_count=0\n",
    "bdwm_count=0\n",
    "intc_count=0     \n",
    "for file in lista_files:\n",
    "    if 'Ajuste' in file:\n",
    "        data = file[-14:-4]\n",
    "        try:\n",
    "            ubs\n",
    "        except:\n",
    "            ubs = pd.read_csv(file)\n",
    "            ubs['date']=data\n",
    "        else:\n",
    "            ubs_1 = pd.read_csv(file)\n",
    "            ubs_1['date']=data\n",
    "            ubs = pd.concat([ubs,ubs_1], axis=0)\n",
    "        ubs_count+=1\n",
    "\n",
    "    elif 'PROP+ASSET' in file:\n",
    "        try:\n",
    "            pras\n",
    "        except:\n",
    "            pras = pd.read_excel(file)\n",
    "            pras['date'] = pras.columns[7]\n",
    "            pras = pras.rename(columns={pras.columns[7]:'shares'})\n",
    "        else:\n",
    "            pras_1 = pd.read_excel(file)\n",
    "            pras_1['date'] = pras_1.columns[7]\n",
    "            pras_1 = pras_1.rename(columns={pras_1.columns[7]:'shares'})\n",
    "            pras = pd.concat([pras,pras_1], axis=0)\n",
    "\n",
    "        pras_count+=1\n",
    "\n",
    "    elif 'Aluguel INT C' in file:\n",
    "        try:\n",
    "            intc\n",
    "        except:\n",
    "            intc = pd.read_excel(file)\n",
    "            intc['date'] = intc.columns[7]\n",
    "            intc = intc.rename(columns={intc.columns[7]:'shares'})\n",
    "        else:\n",
    "            intc_1 = pd.read_excel(file)\n",
    "            intc_1['date'] = intc_1.columns[7]\n",
    "            intc_1 = intc_1.rename(columns={intc_1.columns[7]:'shares'})\n",
    "            intc = pd.concat([intc,intc_1], axis=0)\n",
    "\n",
    "        intc_count+=1\n",
    "\n",
    "    elif 'Clients BD+WM' in file:\n",
    "        try:\n",
    "            bdwm\n",
    "        except:\n",
    "            bdwm = pd.read_excel(file)\n",
    "            bdwm['date'] = bdwm.columns[31]\n",
    "            bdwm = bdwm.rename(columns={bdwm.columns[31]:'shares'})\n",
    "        else:\n",
    "            bdwm_1 = pd.read_excel(file)\n",
    "            bdwm_1['date'] = bdwm_1.columns[31]\n",
    "            bdwm_1 = bdwm_1.rename(columns={bdwm_1.columns[31]:'shares'})\n",
    "            bdwm = pd.concat([bdwm,bdwm_1], axis=0)\n",
    "\n",
    "        bdwm_count+=1\n",
    "\n",
    "    elif ('038CDBD08_IN150DX' in file)|('038CDB895_IN150DX' in file):\n",
    "        try:\n",
    "            morgan\n",
    "        except:\n",
    "            morgan = pd.read_csv(file, skipfooter=1, engine='python')\n",
    "        else:\n",
    "            morgan_1 = pd.read_csv(file, skipfooter=1, engine='python')\n",
    "            morgan = pd.concat([morgan, morgan_1], axis = 0)\n",
    "\n",
    "        morgan_count+=1\n",
    "\n",
    "\n",
    "ticker_diffs = pd.read_excel(pasta+'\\\\'+ 'tickers_diffs.xlsx')\n",
    "\n",
    "print(str(ubs_count) + ' aqrivos do ubs importados')\n",
    "print(str(morgan_count) + ' aqrivos da morgan importados')\n",
    "print(str(pras_count) + ' aqrivos do Calypso PROP+ASSET importados')\n",
    "print(str(bdwm_count) + ' aqrivos do Calypso BD+WM importados')\n",
    "print(str(intc_count) + ' aqrivos do Calypso INTC importados')"
   ]
  },
  {
   "cell_type": "code",
   "execution_count": null,
   "metadata": {
    "collapsed": true
   },
   "outputs": [],
   "source": []
  },
  {
   "cell_type": "code",
   "execution_count": null,
   "metadata": {
    "collapsed": true
   },
   "outputs": [],
   "source": []
  },
  {
   "cell_type": "code",
   "execution_count": null,
   "metadata": {
    "collapsed": true
   },
   "outputs": [],
   "source": []
  },
  {
   "cell_type": "code",
   "execution_count": null,
   "metadata": {
    "collapsed": true
   },
   "outputs": [],
   "source": []
  },
  {
   "cell_type": "markdown",
   "metadata": {},
   "source": [
    "# Ajustes base"
   ]
  },
  {
   "cell_type": "code",
   "execution_count": 8,
   "metadata": {
    "collapsed": true
   },
   "outputs": [],
   "source": [
    "ubs['date'] = pd.to_datetime(ubs['date'], format='%Y-%m-%d')\n",
    "ubs['date'] = np.where(ubs['date'].dt.weekday==6, ubs['date']-datetime.timedelta(2), ubs['date'])\n",
    "ubs['pb'] = 'ubs'\n",
    "ubs['month_number'] = ubs['date'].dt.month\n",
    "ubs['year'] = ubs['date'].dt.year\n",
    "ubs['month'] = ubs['month_number'].map(months_dict)\n",
    "ubs['cusip'] = np.nan\n",
    "ubs = ubs[['Reference Account Id' ,'pb', 'date', 'Ticker', 'ISIN', 'cusip', 'SEDOL', 'Quantity',\n",
    "           'Daily Accrual', 'Billing CCY', 'month', 'year']].drop_duplicates()\n",
    "ubs.columns = ['conta', 'pb', 'data_ref', 'ticker', 'isin', 'cusip', 'sedol', 'qt', 'accrual', 'currency', 'month', 'year']\n",
    "ubs = ubs.drop_duplicates(subset=['conta', 'data_ref', 'ticker', 'qt', 'currency'])\n",
    "ubs = ubs[ubs['conta'].isnull()==False]"
   ]
  },
  {
   "cell_type": "code",
   "execution_count": 9,
   "metadata": {
    "collapsed": true
   },
   "outputs": [],
   "source": [
    "morgan['date'] = pd.to_datetime(morgan['Value Date'], errors='coerce', format = '%m/%d/%Y')\n",
    "morgan['pb'] = 'ms'\n",
    "morgan['month_number'] = morgan['date'].dt.month\n",
    "morgan['year'] = morgan['date'].dt.year\n",
    "morgan['month'] = morgan['month_number'].map(months_dict)\n",
    "morgan = morgan[['Account', 'pb', 'date', 'Symbol', 'ISIN', 'Cusip', 'Sedol', 'Shares', 'Net Borrow Cost', 'Currency', 'month', 'year']] \n",
    "morgan.columns = ['conta', 'pb', 'data_ref', 'ticker', 'isin', 'cusip', 'sedol', 'qt', 'accrual', 'currency', 'month', 'year']  \n",
    "nparray = np.where(morgan['data_ref'].dt.weekday==6, morgan['data_ref']-datetime.timedelta(2),morgan['data_ref'])\n",
    "morgan = morgan.drop('data_ref', axis=1)\n",
    "morgan['data_ref'] = nparray\n",
    "morgan = morgan.drop_duplicates().reset_index(drop=True) \n",
    "morgan = morgan[morgan['conta'].isnull()==False]"
   ]
  },
  {
   "cell_type": "code",
   "execution_count": 10,
   "metadata": {
    "collapsed": true
   },
   "outputs": [],
   "source": [
    "pb = pd.concat([morgan, ubs], axis=0).reset_index(drop=True)\n",
    "pb.qt = (pb.qt.replace( '[)]','', regex=True )\n",
    "           .replace( '[(]','-',   regex=True ).astype(float))    \n",
    "pb.accrual = (pb.accrual.replace( '[)]','', regex=True )\n",
    "           .replace( '[(]','-',   regex=True ).astype(float))\n",
    "pb['qt'] = -abs(pb['qt'])\n",
    "pb = pb[pb.data_ref.dt.weekday<5]\n",
    "#Como estamos pegando somente os dias úteis, multiplica o valor de sexta por 3 para levar em consideração dias corridos\n",
    "nparray = np.where(pb.data_ref.dt.weekday==4, pb['accrual']*3, pb['accrual'])\n",
    "pb['accrual'] = nparray\n",
    "contas =  pb['conta'].astype(str).copy()\n",
    "pb['conta'] = contas\n",
    "#Aplica o dicionário de contas que também está no aluguel_offshore.py\n",
    "pb['acc'] = pb['conta'].apply(lambda x: dict_contas[x])\n",
    "pb = pb[['conta', 'pb', 'data_ref', 'ticker', 'isin', 'cusip','sedol','qt', 'accrual','currency','month','year']]"
   ]
  },
  {
   "cell_type": "code",
   "execution_count": 11,
   "metadata": {
    "collapsed": false
   },
   "outputs": [
    {
     "name": "stdout",
     "output_type": "stream",
     "text": [
      "Wall time: 6.28 s\n"
     ]
    }
   ],
   "source": [
    "%%time\n",
    "pras['tipo'] = 'ASSET'\n",
    "bdwm['tipo'] = 'WM'\n",
    "intc['tipo'] = 'INT C'\n",
    "calypso = pd.concat([pras, bdwm, intc], axis=0).reset_index(drop=True)    \n",
    "calypso['date'] = pd.to_datetime(calypso['date'])\n",
    "calypso['month_number'] = calypso['date'].dt.month\n",
    "calypso['year'] = calypso['date'].dt.year\n",
    "calypso['month'] = calypso['month_number'].map(months_dict)\n",
    "calypso = calypso[['Account Name','tipo', 'Agent','date', 'shares', 'Book', 'PRODUCT_CODE.TICKER', 'PRODUCT_CODE.ISIN', \n",
    "                   'PRODUCT_CODE.CUSIP', 'Underlying.Product Code.SEDOL', 'Product Currency', 'month', 'year']].reset_index(drop=True)\n",
    "calypso.columns = ['conta_pb','conta', 'agent', 'data_ref', 'quantidade', 'book', 'ticker', 'isin', 'cusip', 'sedol',\n",
    "                   'currency', 'month', 'year']\n",
    "calypso.conta_pb = calypso.conta_pb.astype(str)\n",
    "calypso = calypso[calypso.data_ref.dt.weekday<5]\n",
    "calypso_1 = calypso.copy()\n",
    "calypso_1['acc'] = calypso_1['conta_pb'].map(dict_contas)\n",
    "#Pega somente os arquivos do calypso que se referem às contas da asset\n",
    "calypso = calypso[calypso.conta_pb.isin(dict_contas.keys())].copy()"
   ]
  },
  {
   "cell_type": "code",
   "execution_count": 12,
   "metadata": {
    "collapsed": true
   },
   "outputs": [],
   "source": [
    "calypso['quantidade'] = calypso['quantidade'].replace(',','', regex=True)\n",
    "calypso['quantidade'] = calypso['quantidade'].astype(float)"
   ]
  },
  {
   "cell_type": "code",
   "execution_count": null,
   "metadata": {
    "collapsed": true
   },
   "outputs": [],
   "source": []
  },
  {
   "cell_type": "code",
   "execution_count": null,
   "metadata": {
    "collapsed": true
   },
   "outputs": [],
   "source": []
  },
  {
   "cell_type": "code",
   "execution_count": 13,
   "metadata": {
    "collapsed": false
   },
   "outputs": [],
   "source": [
    "# Faz o ajuste das contas do calypso, somando pelas variáveis abaixo e pegando somente as linhas negativas\n",
    "calypso_ajuste = calypso.groupby(by=['conta_pb','data_ref', 'ticker','currency']).sum().reset_index()\n",
    "calypso_ajuste = calypso_ajuste[calypso_ajuste['quantidade']<0].copy()\n",
    "calypso_ajuste['acc'] = calypso_ajuste['conta_pb'].map(dict_contas)\n",
    "calypso_ajuste = calypso_ajuste.groupby(by=['acc','data_ref', 'ticker','currency']).sum().reset_index()\n",
    "calypso['acc'] = calypso['conta_pb'].map(dict_contas)"
   ]
  },
  {
   "cell_type": "code",
   "execution_count": 14,
   "metadata": {
    "collapsed": false
   },
   "outputs": [],
   "source": [
    "# Aqui ainda faz parte do calypso_ajuste. Estou transferindo as informações entre as bases\n",
    "calypso = pd.merge(calypso, calypso_ajuste, on=['acc', 'data_ref', 'ticker', 'currency'], how='left')\n",
    "#Aqui eu estou tirando as linhas que não foram encontradas na volta. lembrar que o Calypso_teste derrubou um monte de linhas\n",
    "#todas aquelas que não tinham as informações que eram de aluguel doado.\n",
    "#Assim, teoricamente, todas as linhas desse novo calypso dizem respeito a posições tomadoras de aluguel.\n",
    "calypso = calypso[calypso['quantidade_y'].isnull()==False].copy().reset_index(drop=True)\n",
    "calypso = calypso.drop(['quantidade_y', 'year_y'], axis=1).rename(columns={\n",
    "    'quantidade_x':'quantidade',\n",
    "    'year_x':'year',\n",
    "})"
   ]
  },
  {
   "cell_type": "code",
   "execution_count": null,
   "metadata": {
    "collapsed": true
   },
   "outputs": [],
   "source": []
  },
  {
   "cell_type": "code",
   "execution_count": 15,
   "metadata": {
    "collapsed": false
   },
   "outputs": [],
   "source": [
    "def info_base_pb_to_get_ticker(pb, x):\n",
    "    ticker = str(pb[pb.index==x]['ticker'][x]).replace('/', '')\n",
    "    isin = str(pb[pb.index==x]['isin'][x])\n",
    "    cusip = str(pb[pb.index==x]['cusip'][x])\n",
    "    sedol = str(pb[pb.index==x]['sedol'][x])\n",
    "\n",
    "    return ticker, isin, cusip, sedol"
   ]
  },
  {
   "cell_type": "code",
   "execution_count": 16,
   "metadata": {
    "collapsed": false
   },
   "outputs": [],
   "source": [
    "def get_ticker_bases(calypso, pb, x):\n",
    "    try:\n",
    "        ticker_pb, isin, cusip, sedol = info_base_pb_to_get_ticker(pb, x)\n",
    "        try:\n",
    "            ticker = calypso[calypso['isin']==isin].drop_duplicates(subset=['ticker']).reset_index(drop=True)['ticker'][0]\n",
    "            construct = 'isin'\n",
    "        except IndexError:\n",
    "            try:\n",
    "                ticker = calypso[calypso['cusip']==cusip].drop_duplicates(subset=['ticker']).reset_index(drop=True)['ticker'][0]\n",
    "                construct = 'cusip'\n",
    "            except IndexError:\n",
    "                ticker = calypso[calypso['sedol']==sedol].drop_duplicates(subset=['ticker']).reset_index(drop=True)['ticker'][0]\n",
    "                construct = 'sedol'\n",
    "        return [ticker, construct]\n",
    "    except IndexError:\n",
    "        ticker_pb, isin, cusip, sedol = info_base_pb_to_get_ticker(pb, x)\n",
    "        print('O ticker %s não foi encontrado pelos códigos.\\n Tentaremos agora pelo nome' %(ticker_pb))\n",
    "        try:\n",
    "            ticker = ticker_pb.split('.')[0]\n",
    "            ticker = calypso[calypso.ticker.str.contains(ticker_pb)].drop_duplicates(subset=['ticker'])\\\n",
    "                                                            .reset_index(drop=True)['ticker'][0]\n",
    "            construct = 'nome'\n",
    "            print('O ticker %s não foi encontrado pelo nome.\\n Ele será então contruído pelo Ticker + Isin' %(ticker_pb))\n",
    "        except IndexError:\n",
    "            ticker = ticker.split('.')[0]\n",
    "            ticker = str(ticker_pb)+' '+str(isin)[:2]\n",
    "            construct = 'construido_ticker'\n",
    "            print ('''Nós aconselhamos que você confira o ticker %s, porque ele foi ajustado pelo Isin.\n",
    "Caso ele esteja ERRADO você deverá fazer o ajuste na próxima parte.''' %(ticker_pb))\n",
    "        return [ticker, construct]\n",
    "    except ValueError:\n",
    "        print(r'O ticker %s não foi encontrado em nenhuma instância.\\n Proceder com inserção manual' %(ticker_pb))\n",
    "        return [np.nan, np.nan]"
   ]
  },
  {
   "cell_type": "code",
   "execution_count": 17,
   "metadata": {
    "collapsed": false
   },
   "outputs": [
    {
     "data": {
      "text/plain": [
       "['FMG AU', 'isin']"
      ]
     },
     "execution_count": 17,
     "metadata": {},
     "output_type": "execute_result"
    }
   ],
   "source": [
    "get_ticker_bases(calypso, pb, 0)"
   ]
  },
  {
   "cell_type": "code",
   "execution_count": 18,
   "metadata": {
    "collapsed": false
   },
   "outputs": [],
   "source": [
    "mapa_tickers = pb[['ticker','isin','cusip','sedol']].drop_duplicates().reset_index(drop=True)"
   ]
  },
  {
   "cell_type": "code",
   "execution_count": 19,
   "metadata": {
    "collapsed": false,
    "scrolled": false
   },
   "outputs": [
    {
     "name": "stdout",
     "output_type": "stream",
     "text": [
      "O ticker FOUREC não foi encontrado pelos códigos.\n",
      " Tentaremos agora pelo nome\n",
      "Nós aconselhamos que você confira o ticker FOUREC, porque ele foi ajustado pelo Isin.\n",
      "Caso ele esteja ERRADO você deverá fazer o ajuste na próxima parte.\n",
      "O ticker GOLD não foi encontrado pelos códigos.\n",
      " Tentaremos agora pelo nome\n",
      "O ticker GOLD não foi encontrado pelo nome.\n",
      " Ele será então contruído pelo Ticker + Isin\n",
      "O ticker CRFFFA não foi encontrado pelos códigos.\n",
      " Tentaremos agora pelo nome\n",
      "Nós aconselhamos que você confira o ticker CRFFFA, porque ele foi ajustado pelo Isin.\n",
      "Caso ele esteja ERRADO você deverá fazer o ajuste na próxima parte.\n"
     ]
    }
   ],
   "source": [
    "lista_tickers = [get_ticker_bases(calypso, mapa_tickers, x) for x in mapa_tickers.index]"
   ]
  },
  {
   "cell_type": "code",
   "execution_count": 20,
   "metadata": {
    "collapsed": false,
    "scrolled": true
   },
   "outputs": [],
   "source": [
    "mapeados = pd.DataFrame(lista_tickers).rename(columns={0:'ticker_calypso', 1:'construct'})"
   ]
  },
  {
   "cell_type": "code",
   "execution_count": 21,
   "metadata": {
    "collapsed": false
   },
   "outputs": [],
   "source": [
    "mapa_tickers = pd.concat([mapa_tickers, mapeados], axis=1)"
   ]
  },
  {
   "cell_type": "code",
   "execution_count": 22,
   "metadata": {
    "collapsed": false,
    "scrolled": true
   },
   "outputs": [
    {
     "data": {
      "text/html": [
       "<div>\n",
       "<table border=\"1\" class=\"dataframe\">\n",
       "  <thead>\n",
       "    <tr style=\"text-align: right;\">\n",
       "      <th></th>\n",
       "      <th>ticker</th>\n",
       "      <th>isin</th>\n",
       "      <th>cusip</th>\n",
       "      <th>sedol</th>\n",
       "      <th>ticker_calypso</th>\n",
       "      <th>construct</th>\n",
       "    </tr>\n",
       "  </thead>\n",
       "  <tbody>\n",
       "    <tr>\n",
       "      <th>21</th>\n",
       "      <td>FOUREC</td>\n",
       "      <td>FR0013341955</td>\n",
       "      <td>99GDBHRU3</td>\n",
       "      <td>BG88TW2</td>\n",
       "      <td>FOUREC FR</td>\n",
       "      <td>construido_ticker</td>\n",
       "    </tr>\n",
       "    <tr>\n",
       "      <th>182</th>\n",
       "      <td>CRFFFA</td>\n",
       "      <td>FR0000120172</td>\n",
       "      <td>9900027W1</td>\n",
       "      <td>5641567</td>\n",
       "      <td>CRFFFA FR</td>\n",
       "      <td>construido_ticker</td>\n",
       "    </tr>\n",
       "  </tbody>\n",
       "</table>\n",
       "</div>"
      ],
      "text/plain": [
       "     ticker          isin      cusip    sedol ticker_calypso  \\\n",
       "21   FOUREC  FR0013341955  99GDBHRU3  BG88TW2      FOUREC FR   \n",
       "182  CRFFFA  FR0000120172  9900027W1  5641567      CRFFFA FR   \n",
       "\n",
       "             construct  \n",
       "21   construido_ticker  \n",
       "182  construido_ticker  "
      ]
     },
     "execution_count": 22,
     "metadata": {},
     "output_type": "execute_result"
    }
   ],
   "source": [
    "mapa_tickers[mapa_tickers['construct']=='construido_ticker']"
   ]
  },
  {
   "cell_type": "code",
   "execution_count": 23,
   "metadata": {
    "collapsed": false,
    "scrolled": true
   },
   "outputs": [
    {
     "data": {
      "text/html": [
       "<div>\n",
       "<table border=\"1\" class=\"dataframe\">\n",
       "  <thead>\n",
       "    <tr style=\"text-align: right;\">\n",
       "      <th></th>\n",
       "      <th>ticker</th>\n",
       "      <th>isin</th>\n",
       "      <th>cusip</th>\n",
       "      <th>sedol</th>\n",
       "      <th>ticker_calypso</th>\n",
       "      <th>construct</th>\n",
       "    </tr>\n",
       "  </thead>\n",
       "  <tbody>\n",
       "    <tr>\n",
       "      <th>0</th>\n",
       "      <td>FMG.AX</td>\n",
       "      <td>AU000000FMG4</td>\n",
       "      <td>996991TX3</td>\n",
       "      <td>6086253</td>\n",
       "      <td>FMG AU</td>\n",
       "      <td>isin</td>\n",
       "    </tr>\n",
       "    <tr>\n",
       "      <th>1</th>\n",
       "      <td>GAPB.MX</td>\n",
       "      <td>MX01GA000004</td>\n",
       "      <td>99ABXWZD5</td>\n",
       "      <td>B0ZV104</td>\n",
       "      <td>GAPB MM</td>\n",
       "      <td>isin</td>\n",
       "    </tr>\n",
       "    <tr>\n",
       "      <th>2</th>\n",
       "      <td>TSU</td>\n",
       "      <td>NaN</td>\n",
       "      <td>88706P205</td>\n",
       "      <td>B6QB0B9</td>\n",
       "      <td>TSU US</td>\n",
       "      <td>cusip</td>\n",
       "    </tr>\n",
       "    <tr>\n",
       "      <th>3</th>\n",
       "      <td>BSBR</td>\n",
       "      <td>US05967A1079</td>\n",
       "      <td>05967A107</td>\n",
       "      <td>B4Q2DV9</td>\n",
       "      <td>BSBR US</td>\n",
       "      <td>isin</td>\n",
       "    </tr>\n",
       "    <tr>\n",
       "      <th>4</th>\n",
       "      <td>BAK</td>\n",
       "      <td>US1055321053</td>\n",
       "      <td>105532105</td>\n",
       "      <td>2222835</td>\n",
       "      <td>BAK US</td>\n",
       "      <td>isin</td>\n",
       "    </tr>\n",
       "    <tr>\n",
       "      <th>5</th>\n",
       "      <td>BRFS</td>\n",
       "      <td>US10552T1079</td>\n",
       "      <td>10552T107</td>\n",
       "      <td>2605210</td>\n",
       "      <td>BRFS US</td>\n",
       "      <td>isin</td>\n",
       "    </tr>\n",
       "    <tr>\n",
       "      <th>6</th>\n",
       "      <td>EBR</td>\n",
       "      <td>US15234Q2075</td>\n",
       "      <td>15234Q207</td>\n",
       "      <td>2186812</td>\n",
       "      <td>EBR US</td>\n",
       "      <td>isin</td>\n",
       "    </tr>\n",
       "    <tr>\n",
       "      <th>7</th>\n",
       "      <td>SID</td>\n",
       "      <td>US20440W1053</td>\n",
       "      <td>20440W105</td>\n",
       "      <td>2220936</td>\n",
       "      <td>SID US</td>\n",
       "      <td>isin</td>\n",
       "    </tr>\n",
       "    <tr>\n",
       "      <th>8</th>\n",
       "      <td>ERJ</td>\n",
       "      <td>US29082A1079</td>\n",
       "      <td>29082A107</td>\n",
       "      <td>2611916</td>\n",
       "      <td>ERJ US</td>\n",
       "      <td>isin</td>\n",
       "    </tr>\n",
       "    <tr>\n",
       "      <th>9</th>\n",
       "      <td>FBR</td>\n",
       "      <td>US31573A1097</td>\n",
       "      <td>31573A109</td>\n",
       "      <td>B44WBN9</td>\n",
       "      <td>FBR US</td>\n",
       "      <td>isin</td>\n",
       "    </tr>\n",
       "    <tr>\n",
       "      <th>10</th>\n",
       "      <td>PAC</td>\n",
       "      <td>US4005061019</td>\n",
       "      <td>400506101</td>\n",
       "      <td>B0YFC60</td>\n",
       "      <td>PAC US</td>\n",
       "      <td>isin</td>\n",
       "    </tr>\n",
       "    <tr>\n",
       "      <th>11</th>\n",
       "      <td>EWZ</td>\n",
       "      <td>US4642864007</td>\n",
       "      <td>464286400</td>\n",
       "      <td>2726014</td>\n",
       "      <td>EWZ US</td>\n",
       "      <td>isin</td>\n",
       "    </tr>\n",
       "    <tr>\n",
       "      <th>12</th>\n",
       "      <td>ITUB</td>\n",
       "      <td>US4655621062</td>\n",
       "      <td>465562106</td>\n",
       "      <td>2849739</td>\n",
       "      <td>ITUB US</td>\n",
       "      <td>isin</td>\n",
       "    </tr>\n",
       "    <tr>\n",
       "      <th>13</th>\n",
       "      <td>LTM</td>\n",
       "      <td>US51817R1068</td>\n",
       "      <td>51817R106</td>\n",
       "      <td>B84FQ53</td>\n",
       "      <td>LTM US</td>\n",
       "      <td>isin</td>\n",
       "    </tr>\n",
       "    <tr>\n",
       "      <th>14</th>\n",
       "      <td>PBR</td>\n",
       "      <td>US71654V4086</td>\n",
       "      <td>71654V408</td>\n",
       "      <td>2616580</td>\n",
       "      <td>PBR US</td>\n",
       "      <td>isin</td>\n",
       "    </tr>\n",
       "    <tr>\n",
       "      <th>15</th>\n",
       "      <td>PBRA</td>\n",
       "      <td>US71654V1017</td>\n",
       "      <td>71654V101</td>\n",
       "      <td>2683410</td>\n",
       "      <td>PBR/A US</td>\n",
       "      <td>isin</td>\n",
       "    </tr>\n",
       "    <tr>\n",
       "      <th>16</th>\n",
       "      <td>SCCO</td>\n",
       "      <td>NaN</td>\n",
       "      <td>84265V105</td>\n",
       "      <td>2823777</td>\n",
       "      <td>SCCO US</td>\n",
       "      <td>cusip</td>\n",
       "    </tr>\n",
       "    <tr>\n",
       "      <th>17</th>\n",
       "      <td>VIV</td>\n",
       "      <td>NaN</td>\n",
       "      <td>87936R106</td>\n",
       "      <td>B7395C9</td>\n",
       "      <td>VIV US</td>\n",
       "      <td>cusip</td>\n",
       "    </tr>\n",
       "    <tr>\n",
       "      <th>18</th>\n",
       "      <td>UGP</td>\n",
       "      <td>NaN</td>\n",
       "      <td>90400P101</td>\n",
       "      <td>2496890</td>\n",
       "      <td>UGP US</td>\n",
       "      <td>cusip</td>\n",
       "    </tr>\n",
       "    <tr>\n",
       "      <th>19</th>\n",
       "      <td>VALE</td>\n",
       "      <td>NaN</td>\n",
       "      <td>91912E105</td>\n",
       "      <td>2857334</td>\n",
       "      <td>VALE US</td>\n",
       "      <td>cusip</td>\n",
       "    </tr>\n",
       "    <tr>\n",
       "      <th>20</th>\n",
       "      <td>SANSF</td>\n",
       "      <td>ES0113900J37</td>\n",
       "      <td>993992GD2</td>\n",
       "      <td>5705946</td>\n",
       "      <td>SAN SM</td>\n",
       "      <td>isin</td>\n",
       "    </tr>\n",
       "    <tr>\n",
       "      <th>21</th>\n",
       "      <td>FOUREC</td>\n",
       "      <td>FR0013341955</td>\n",
       "      <td>99GDBHRU3</td>\n",
       "      <td>BG88TW2</td>\n",
       "      <td>FOUREC FR</td>\n",
       "      <td>construido_ticker</td>\n",
       "    </tr>\n",
       "    <tr>\n",
       "      <th>22</th>\n",
       "      <td>NEXTUF</td>\n",
       "      <td>GB0032089863</td>\n",
       "      <td>997343TG3</td>\n",
       "      <td>3208986</td>\n",
       "      <td>NXT LN</td>\n",
       "      <td>isin</td>\n",
       "    </tr>\n",
       "    <tr>\n",
       "      <th>23</th>\n",
       "      <td>ALFAA.MX</td>\n",
       "      <td>MXP000511016</td>\n",
       "      <td>9910006E5</td>\n",
       "      <td>2043423</td>\n",
       "      <td>ALFAA MM</td>\n",
       "      <td>isin</td>\n",
       "    </tr>\n",
       "    <tr>\n",
       "      <th>24</th>\n",
       "      <td>ALSEA.MX</td>\n",
       "      <td>MXP001391012</td>\n",
       "      <td>99999W8Q0</td>\n",
       "      <td>2563017</td>\n",
       "      <td>ALSEA* MM</td>\n",
       "      <td>isin</td>\n",
       "    </tr>\n",
       "    <tr>\n",
       "      <th>25</th>\n",
       "      <td>AMXL.MX</td>\n",
       "      <td>MXP001691213</td>\n",
       "      <td>99002TI73</td>\n",
       "      <td>2667470</td>\n",
       "      <td>AMXL MM</td>\n",
       "      <td>isin</td>\n",
       "    </tr>\n",
       "    <tr>\n",
       "      <th>26</th>\n",
       "      <td>AC.MX</td>\n",
       "      <td>MX01AC100006</td>\n",
       "      <td>P3699M104</td>\n",
       "      <td>2823885</td>\n",
       "      <td>AC* MM</td>\n",
       "      <td>isin</td>\n",
       "    </tr>\n",
       "    <tr>\n",
       "      <th>27</th>\n",
       "      <td>BBAJIOO.MX</td>\n",
       "      <td>MX41BB000000</td>\n",
       "      <td>99V4VXSG9</td>\n",
       "      <td>BYSX0F3</td>\n",
       "      <td>BBAJIOO MM</td>\n",
       "      <td>isin</td>\n",
       "    </tr>\n",
       "    <tr>\n",
       "      <th>28</th>\n",
       "      <td>BSMXB.MX</td>\n",
       "      <td>MX41BS060005</td>\n",
       "      <td>99V8FXRW4</td>\n",
       "      <td>BF1FXN2</td>\n",
       "      <td>BSMXB MM</td>\n",
       "      <td>isin</td>\n",
       "    </tr>\n",
       "    <tr>\n",
       "      <th>29</th>\n",
       "      <td>CUERVO.MX</td>\n",
       "      <td>MX01CU010003</td>\n",
       "      <td>99V39CJ07</td>\n",
       "      <td>BYM4063</td>\n",
       "      <td>CUERVO* MM</td>\n",
       "      <td>isin</td>\n",
       "    </tr>\n",
       "    <tr>\n",
       "      <th>...</th>\n",
       "      <td>...</td>\n",
       "      <td>...</td>\n",
       "      <td>...</td>\n",
       "      <td>...</td>\n",
       "      <td>...</td>\n",
       "      <td>...</td>\n",
       "    </tr>\n",
       "    <tr>\n",
       "      <th>206</th>\n",
       "      <td>GFINBURO</td>\n",
       "      <td>MXP370641013</td>\n",
       "      <td>NaN</td>\n",
       "      <td>2822398</td>\n",
       "      <td>GFINBURO MM</td>\n",
       "      <td>isin</td>\n",
       "    </tr>\n",
       "    <tr>\n",
       "      <th>207</th>\n",
       "      <td>FUNO11</td>\n",
       "      <td>MXCFFU000001</td>\n",
       "      <td>NaN</td>\n",
       "      <td>B671GT8</td>\n",
       "      <td>FUNO11 MM</td>\n",
       "      <td>isin</td>\n",
       "    </tr>\n",
       "    <tr>\n",
       "      <th>208</th>\n",
       "      <td>ICA*</td>\n",
       "      <td>MXP371491046</td>\n",
       "      <td>NaN</td>\n",
       "      <td>B0MT4R9</td>\n",
       "      <td>ICA* MM</td>\n",
       "      <td>isin</td>\n",
       "    </tr>\n",
       "    <tr>\n",
       "      <th>209</th>\n",
       "      <td>PINFRA*</td>\n",
       "      <td>MX01PI000005</td>\n",
       "      <td>NaN</td>\n",
       "      <td>2393388</td>\n",
       "      <td>PINFRA* MM</td>\n",
       "      <td>isin</td>\n",
       "    </tr>\n",
       "    <tr>\n",
       "      <th>210</th>\n",
       "      <td>AMCX</td>\n",
       "      <td>US00164V1035</td>\n",
       "      <td>NaN</td>\n",
       "      <td>B4MG4Z6</td>\n",
       "      <td>AMCX US</td>\n",
       "      <td>isin</td>\n",
       "    </tr>\n",
       "    <tr>\n",
       "      <th>211</th>\n",
       "      <td>DNKN</td>\n",
       "      <td>US2655041000</td>\n",
       "      <td>NaN</td>\n",
       "      <td>B3LHT03</td>\n",
       "      <td>DNKN US</td>\n",
       "      <td>isin</td>\n",
       "    </tr>\n",
       "    <tr>\n",
       "      <th>212</th>\n",
       "      <td>VESTA*</td>\n",
       "      <td>MX01VE0M0003</td>\n",
       "      <td>NaN</td>\n",
       "      <td>B8F6ZF8</td>\n",
       "      <td>VESTA* MM</td>\n",
       "      <td>isin</td>\n",
       "    </tr>\n",
       "    <tr>\n",
       "      <th>213</th>\n",
       "      <td>NAFTRACISHRS</td>\n",
       "      <td>MX1BNA060014</td>\n",
       "      <td>NaN</td>\n",
       "      <td>BCKG0C3</td>\n",
       "      <td>NAFTRAC MM</td>\n",
       "      <td>isin</td>\n",
       "    </tr>\n",
       "    <tr>\n",
       "      <th>214</th>\n",
       "      <td>WALMEXV</td>\n",
       "      <td>MX01WA000038</td>\n",
       "      <td>NaN</td>\n",
       "      <td>BW1YVH8</td>\n",
       "      <td>WALMEX* MM</td>\n",
       "      <td>isin</td>\n",
       "    </tr>\n",
       "    <tr>\n",
       "      <th>215</th>\n",
       "      <td>KHC</td>\n",
       "      <td>US5007541064</td>\n",
       "      <td>NaN</td>\n",
       "      <td>BYRY499</td>\n",
       "      <td>KHC US</td>\n",
       "      <td>isin</td>\n",
       "    </tr>\n",
       "    <tr>\n",
       "      <th>216</th>\n",
       "      <td>WU</td>\n",
       "      <td>US9598021098</td>\n",
       "      <td>NaN</td>\n",
       "      <td>B1F76F9</td>\n",
       "      <td>WU US</td>\n",
       "      <td>isin</td>\n",
       "    </tr>\n",
       "    <tr>\n",
       "      <th>217</th>\n",
       "      <td>MELI</td>\n",
       "      <td>US58733R1023</td>\n",
       "      <td>NaN</td>\n",
       "      <td>B23X1H3</td>\n",
       "      <td>MELI US</td>\n",
       "      <td>isin</td>\n",
       "    </tr>\n",
       "    <tr>\n",
       "      <th>218</th>\n",
       "      <td>DRI</td>\n",
       "      <td>US2371941053</td>\n",
       "      <td>NaN</td>\n",
       "      <td>2289874</td>\n",
       "      <td>DRI US</td>\n",
       "      <td>isin</td>\n",
       "    </tr>\n",
       "    <tr>\n",
       "      <th>219</th>\n",
       "      <td>EWZ</td>\n",
       "      <td>US4642864007</td>\n",
       "      <td>NaN</td>\n",
       "      <td>2726014</td>\n",
       "      <td>EWZ US</td>\n",
       "      <td>isin</td>\n",
       "    </tr>\n",
       "    <tr>\n",
       "      <th>220</th>\n",
       "      <td>BSBR</td>\n",
       "      <td>US05967A1079</td>\n",
       "      <td>NaN</td>\n",
       "      <td>B4Q2DV9</td>\n",
       "      <td>BSBR US</td>\n",
       "      <td>isin</td>\n",
       "    </tr>\n",
       "    <tr>\n",
       "      <th>221</th>\n",
       "      <td>CAKE</td>\n",
       "      <td>US1630721017</td>\n",
       "      <td>NaN</td>\n",
       "      <td>2192392</td>\n",
       "      <td>CAKE US</td>\n",
       "      <td>isin</td>\n",
       "    </tr>\n",
       "    <tr>\n",
       "      <th>222</th>\n",
       "      <td>EOCC</td>\n",
       "      <td>US29244T1016</td>\n",
       "      <td>NaN</td>\n",
       "      <td>2311131</td>\n",
       "      <td>EOCC US</td>\n",
       "      <td>isin</td>\n",
       "    </tr>\n",
       "    <tr>\n",
       "      <th>223</th>\n",
       "      <td>BAP</td>\n",
       "      <td>BMG2519Y1084</td>\n",
       "      <td>NaN</td>\n",
       "      <td>2232878</td>\n",
       "      <td>BAP US</td>\n",
       "      <td>isin</td>\n",
       "    </tr>\n",
       "    <tr>\n",
       "      <th>224</th>\n",
       "      <td>NFLX</td>\n",
       "      <td>US64110L1061</td>\n",
       "      <td>NaN</td>\n",
       "      <td>2857817</td>\n",
       "      <td>NFLX US</td>\n",
       "      <td>isin</td>\n",
       "    </tr>\n",
       "    <tr>\n",
       "      <th>225</th>\n",
       "      <td>COHU</td>\n",
       "      <td>US1925761066</td>\n",
       "      <td>NaN</td>\n",
       "      <td>2208426</td>\n",
       "      <td>COHU US</td>\n",
       "      <td>isin</td>\n",
       "    </tr>\n",
       "    <tr>\n",
       "      <th>226</th>\n",
       "      <td>VCO</td>\n",
       "      <td>US9271911060</td>\n",
       "      <td>NaN</td>\n",
       "      <td>2939469</td>\n",
       "      <td>VCO US</td>\n",
       "      <td>isin</td>\n",
       "    </tr>\n",
       "    <tr>\n",
       "      <th>227</th>\n",
       "      <td>FB</td>\n",
       "      <td>US30303M1027</td>\n",
       "      <td>NaN</td>\n",
       "      <td>B7TL820</td>\n",
       "      <td>FB US</td>\n",
       "      <td>isin</td>\n",
       "    </tr>\n",
       "    <tr>\n",
       "      <th>228</th>\n",
       "      <td>LTM</td>\n",
       "      <td>US51817R1068</td>\n",
       "      <td>NaN</td>\n",
       "      <td>B84FQ53</td>\n",
       "      <td>LTM US</td>\n",
       "      <td>isin</td>\n",
       "    </tr>\n",
       "    <tr>\n",
       "      <th>229</th>\n",
       "      <td>LE</td>\n",
       "      <td>US51509F1057</td>\n",
       "      <td>NaN</td>\n",
       "      <td>BKWQKM7</td>\n",
       "      <td>LE US</td>\n",
       "      <td>isin</td>\n",
       "    </tr>\n",
       "    <tr>\n",
       "      <th>230</th>\n",
       "      <td>ITCB</td>\n",
       "      <td>US45033E1055</td>\n",
       "      <td>NaN</td>\n",
       "      <td>BZ30DD5</td>\n",
       "      <td>ITCB US</td>\n",
       "      <td>isin</td>\n",
       "    </tr>\n",
       "    <tr>\n",
       "      <th>231</th>\n",
       "      <td>HD</td>\n",
       "      <td>US4370761029</td>\n",
       "      <td>NaN</td>\n",
       "      <td>2434209</td>\n",
       "      <td>HD US</td>\n",
       "      <td>isin</td>\n",
       "    </tr>\n",
       "    <tr>\n",
       "      <th>232</th>\n",
       "      <td>FIZZ</td>\n",
       "      <td>US6350171061</td>\n",
       "      <td>NaN</td>\n",
       "      <td>2638625</td>\n",
       "      <td>FIZZ US</td>\n",
       "      <td>isin</td>\n",
       "    </tr>\n",
       "    <tr>\n",
       "      <th>233</th>\n",
       "      <td>CL</td>\n",
       "      <td>US1941621039</td>\n",
       "      <td>NaN</td>\n",
       "      <td>2209106</td>\n",
       "      <td>CL US</td>\n",
       "      <td>isin</td>\n",
       "    </tr>\n",
       "    <tr>\n",
       "      <th>234</th>\n",
       "      <td>GENTERA*</td>\n",
       "      <td>MX01GE0E0004</td>\n",
       "      <td>NaN</td>\n",
       "      <td>BHWQZW1</td>\n",
       "      <td>GENTERA* MM</td>\n",
       "      <td>isin</td>\n",
       "    </tr>\n",
       "    <tr>\n",
       "      <th>235</th>\n",
       "      <td>VCOYY</td>\n",
       "      <td>US9271911060</td>\n",
       "      <td>NaN</td>\n",
       "      <td>2939469</td>\n",
       "      <td>VCO US</td>\n",
       "      <td>isin</td>\n",
       "    </tr>\n",
       "  </tbody>\n",
       "</table>\n",
       "<p>236 rows × 6 columns</p>\n",
       "</div>"
      ],
      "text/plain": [
       "           ticker          isin      cusip    sedol ticker_calypso  \\\n",
       "0          FMG.AX  AU000000FMG4  996991TX3  6086253         FMG AU   \n",
       "1         GAPB.MX  MX01GA000004  99ABXWZD5  B0ZV104        GAPB MM   \n",
       "2             TSU           NaN  88706P205  B6QB0B9         TSU US   \n",
       "3            BSBR  US05967A1079  05967A107  B4Q2DV9        BSBR US   \n",
       "4             BAK  US1055321053  105532105  2222835         BAK US   \n",
       "5            BRFS  US10552T1079  10552T107  2605210        BRFS US   \n",
       "6             EBR  US15234Q2075  15234Q207  2186812         EBR US   \n",
       "7             SID  US20440W1053  20440W105  2220936         SID US   \n",
       "8             ERJ  US29082A1079  29082A107  2611916         ERJ US   \n",
       "9             FBR  US31573A1097  31573A109  B44WBN9         FBR US   \n",
       "10            PAC  US4005061019  400506101  B0YFC60         PAC US   \n",
       "11            EWZ  US4642864007  464286400  2726014         EWZ US   \n",
       "12           ITUB  US4655621062  465562106  2849739        ITUB US   \n",
       "13            LTM  US51817R1068  51817R106  B84FQ53         LTM US   \n",
       "14            PBR  US71654V4086  71654V408  2616580         PBR US   \n",
       "15           PBRA  US71654V1017  71654V101  2683410       PBR/A US   \n",
       "16           SCCO           NaN  84265V105  2823777        SCCO US   \n",
       "17            VIV           NaN  87936R106  B7395C9         VIV US   \n",
       "18            UGP           NaN  90400P101  2496890         UGP US   \n",
       "19           VALE           NaN  91912E105  2857334        VALE US   \n",
       "20          SANSF  ES0113900J37  993992GD2  5705946         SAN SM   \n",
       "21         FOUREC  FR0013341955  99GDBHRU3  BG88TW2      FOUREC FR   \n",
       "22         NEXTUF  GB0032089863  997343TG3  3208986         NXT LN   \n",
       "23       ALFAA.MX  MXP000511016  9910006E5  2043423       ALFAA MM   \n",
       "24       ALSEA.MX  MXP001391012  99999W8Q0  2563017      ALSEA* MM   \n",
       "25        AMXL.MX  MXP001691213  99002TI73  2667470        AMXL MM   \n",
       "26          AC.MX  MX01AC100006  P3699M104  2823885         AC* MM   \n",
       "27     BBAJIOO.MX  MX41BB000000  99V4VXSG9  BYSX0F3     BBAJIOO MM   \n",
       "28       BSMXB.MX  MX41BS060005  99V8FXRW4  BF1FXN2       BSMXB MM   \n",
       "29      CUERVO.MX  MX01CU010003  99V39CJ07  BYM4063     CUERVO* MM   \n",
       "..            ...           ...        ...      ...            ...   \n",
       "206      GFINBURO  MXP370641013        NaN  2822398    GFINBURO MM   \n",
       "207        FUNO11  MXCFFU000001        NaN  B671GT8      FUNO11 MM   \n",
       "208          ICA*  MXP371491046        NaN  B0MT4R9        ICA* MM   \n",
       "209       PINFRA*  MX01PI000005        NaN  2393388     PINFRA* MM   \n",
       "210          AMCX  US00164V1035        NaN  B4MG4Z6        AMCX US   \n",
       "211          DNKN  US2655041000        NaN  B3LHT03        DNKN US   \n",
       "212        VESTA*  MX01VE0M0003        NaN  B8F6ZF8      VESTA* MM   \n",
       "213  NAFTRACISHRS  MX1BNA060014        NaN  BCKG0C3     NAFTRAC MM   \n",
       "214       WALMEXV  MX01WA000038        NaN  BW1YVH8     WALMEX* MM   \n",
       "215           KHC  US5007541064        NaN  BYRY499         KHC US   \n",
       "216            WU  US9598021098        NaN  B1F76F9          WU US   \n",
       "217          MELI  US58733R1023        NaN  B23X1H3        MELI US   \n",
       "218           DRI  US2371941053        NaN  2289874         DRI US   \n",
       "219           EWZ  US4642864007        NaN  2726014         EWZ US   \n",
       "220          BSBR  US05967A1079        NaN  B4Q2DV9        BSBR US   \n",
       "221          CAKE  US1630721017        NaN  2192392        CAKE US   \n",
       "222          EOCC  US29244T1016        NaN  2311131        EOCC US   \n",
       "223           BAP  BMG2519Y1084        NaN  2232878         BAP US   \n",
       "224          NFLX  US64110L1061        NaN  2857817        NFLX US   \n",
       "225          COHU  US1925761066        NaN  2208426        COHU US   \n",
       "226           VCO  US9271911060        NaN  2939469         VCO US   \n",
       "227            FB  US30303M1027        NaN  B7TL820          FB US   \n",
       "228           LTM  US51817R1068        NaN  B84FQ53         LTM US   \n",
       "229            LE  US51509F1057        NaN  BKWQKM7          LE US   \n",
       "230          ITCB  US45033E1055        NaN  BZ30DD5        ITCB US   \n",
       "231            HD  US4370761029        NaN  2434209          HD US   \n",
       "232          FIZZ  US6350171061        NaN  2638625        FIZZ US   \n",
       "233            CL  US1941621039        NaN  2209106          CL US   \n",
       "234      GENTERA*  MX01GE0E0004        NaN  BHWQZW1    GENTERA* MM   \n",
       "235         VCOYY  US9271911060        NaN  2939469         VCO US   \n",
       "\n",
       "             construct  \n",
       "0                 isin  \n",
       "1                 isin  \n",
       "2                cusip  \n",
       "3                 isin  \n",
       "4                 isin  \n",
       "5                 isin  \n",
       "6                 isin  \n",
       "7                 isin  \n",
       "8                 isin  \n",
       "9                 isin  \n",
       "10                isin  \n",
       "11                isin  \n",
       "12                isin  \n",
       "13                isin  \n",
       "14                isin  \n",
       "15                isin  \n",
       "16               cusip  \n",
       "17               cusip  \n",
       "18               cusip  \n",
       "19               cusip  \n",
       "20                isin  \n",
       "21   construido_ticker  \n",
       "22                isin  \n",
       "23                isin  \n",
       "24                isin  \n",
       "25                isin  \n",
       "26                isin  \n",
       "27                isin  \n",
       "28                isin  \n",
       "29                isin  \n",
       "..                 ...  \n",
       "206               isin  \n",
       "207               isin  \n",
       "208               isin  \n",
       "209               isin  \n",
       "210               isin  \n",
       "211               isin  \n",
       "212               isin  \n",
       "213               isin  \n",
       "214               isin  \n",
       "215               isin  \n",
       "216               isin  \n",
       "217               isin  \n",
       "218               isin  \n",
       "219               isin  \n",
       "220               isin  \n",
       "221               isin  \n",
       "222               isin  \n",
       "223               isin  \n",
       "224               isin  \n",
       "225               isin  \n",
       "226               isin  \n",
       "227               isin  \n",
       "228               isin  \n",
       "229               isin  \n",
       "230               isin  \n",
       "231               isin  \n",
       "232               isin  \n",
       "233               isin  \n",
       "234               isin  \n",
       "235               isin  \n",
       "\n",
       "[236 rows x 6 columns]"
      ]
     },
     "execution_count": 23,
     "metadata": {},
     "output_type": "execute_result"
    }
   ],
   "source": [
    "mapa_tickers"
   ]
  },
  {
   "cell_type": "code",
   "execution_count": null,
   "metadata": {
    "collapsed": true
   },
   "outputs": [],
   "source": []
  },
  {
   "cell_type": "code",
   "execution_count": null,
   "metadata": {
    "collapsed": true
   },
   "outputs": [],
   "source": []
  },
  {
   "cell_type": "code",
   "execution_count": 24,
   "metadata": {
    "collapsed": true
   },
   "outputs": [],
   "source": [
    "ticker_diffs = ticker_diffs.rename(columns={\n",
    "    'Stock':'ticker',\n",
    "    'Isin':'isin',\n",
    "    'Cusip':'cusip',\n",
    "    'Sedol':'sedol'\n",
    "})"
   ]
  },
  {
   "cell_type": "code",
   "execution_count": null,
   "metadata": {
    "collapsed": true
   },
   "outputs": [],
   "source": []
  },
  {
   "cell_type": "code",
   "execution_count": 25,
   "metadata": {
    "collapsed": true
   },
   "outputs": [],
   "source": [
    "mapa_tickers_diffs = ticker_diffs[['ticker','isin','cusip','sedol']].drop_duplicates().reset_index(drop=True)"
   ]
  },
  {
   "cell_type": "code",
   "execution_count": 26,
   "metadata": {
    "collapsed": false,
    "scrolled": true
   },
   "outputs": [
    {
     "name": "stdout",
     "output_type": "stream",
     "text": [
      "O ticker ABEV não foi encontrado pelos códigos.\n",
      " Tentaremos agora pelo nome\n",
      "Nós aconselhamos que você confira o ticker ABEV, porque ele foi ajustado pelo Isin.\n",
      "Caso ele esteja ERRADO você deverá fazer o ajuste na próxima parte.\n",
      "O ticker BBDO não foi encontrado pelos códigos.\n",
      " Tentaremos agora pelo nome\n",
      "Nós aconselhamos que você confira o ticker BBDO, porque ele foi ajustado pelo Isin.\n",
      "Caso ele esteja ERRADO você deverá fazer o ajuste na próxima parte.\n",
      "O ticker BBVA não foi encontrado pelos códigos.\n",
      " Tentaremos agora pelo nome\n",
      "Nós aconselhamos que você confira o ticker BBVA, porque ele foi ajustado pelo Isin.\n",
      "Caso ele esteja ERRADO você deverá fazer o ajuste na próxima parte.\n",
      "O ticker BUD não foi encontrado pelos códigos.\n",
      " Tentaremos agora pelo nome\n",
      "Nós aconselhamos que você confira o ticker BUD, porque ele foi ajustado pelo Isin.\n",
      "Caso ele esteja ERRADO você deverá fazer o ajuste na próxima parte.\n",
      "O ticker CS não foi encontrado pelos códigos.\n",
      " Tentaremos agora pelo nome\n",
      "O ticker CS não foi encontrado pelo nome.\n",
      " Ele será então contruído pelo Ticker + Isin\n",
      "O ticker ELP não foi encontrado pelos códigos.\n",
      " Tentaremos agora pelo nome\n",
      "Nós aconselhamos que você confira o ticker ELP, porque ele foi ajustado pelo Isin.\n",
      "Caso ele esteja ERRADO você deverá fazer o ajuste na próxima parte.\n",
      "O ticker FMS não foi encontrado pelos códigos.\n",
      " Tentaremos agora pelo nome\n",
      "Nós aconselhamos que você confira o ticker FMS, porque ele foi ajustado pelo Isin.\n",
      "Caso ele esteja ERRADO você deverá fazer o ajuste na próxima parte.\n",
      "O ticker GOL não foi encontrado pelos códigos.\n",
      " Tentaremos agora pelo nome\n",
      "O ticker GOL não foi encontrado pelo nome.\n",
      " Ele será então contruído pelo Ticker + Isin\n",
      "O ticker OIBR não foi encontrado pelos códigos.\n",
      " Tentaremos agora pelo nome\n",
      "Nós aconselhamos que você confira o ticker OIBR, porque ele foi ajustado pelo Isin.\n",
      "Caso ele esteja ERRADO você deverá fazer o ajuste na próxima parte.\n",
      "O ticker SAN não foi encontrado pelos códigos.\n",
      " Tentaremos agora pelo nome\n",
      "O ticker SAN não foi encontrado pelo nome.\n",
      " Ele será então contruído pelo Ticker + Isin\n",
      "O ticker SBS não foi encontrado pelos códigos.\n",
      " Tentaremos agora pelo nome\n",
      "Nós aconselhamos que você confira o ticker SBS, porque ele foi ajustado pelo Isin.\n",
      "Caso ele esteja ERRADO você deverá fazer o ajuste na próxima parte.\n",
      "O ticker SIM não foi encontrado pelos códigos.\n",
      " Tentaremos agora pelo nome\n",
      "Nós aconselhamos que você confira o ticker SIM, porque ele foi ajustado pelo Isin.\n",
      "Caso ele esteja ERRADO você deverá fazer o ajuste na próxima parte.\n",
      "O ticker SYT não foi encontrado pelos códigos.\n",
      " Tentaremos agora pelo nome\n",
      "Nós aconselhamos que você confira o ticker SYT, porque ele foi ajustado pelo Isin.\n",
      "Caso ele esteja ERRADO você deverá fazer o ajuste na próxima parte.\n",
      "O ticker WMMVY não foi encontrado pelos códigos.\n",
      " Tentaremos agora pelo nome\n",
      "Nós aconselhamos que você confira o ticker WMMVY, porque ele foi ajustado pelo Isin.\n",
      "Caso ele esteja ERRADO você deverá fazer o ajuste na próxima parte.\n",
      "O ticker ASML não foi encontrado pelos códigos.\n",
      " Tentaremos agora pelo nome\n",
      "Nós aconselhamos que você confira o ticker ASML, porque ele foi ajustado pelo Isin.\n",
      "Caso ele esteja ERRADO você deverá fazer o ajuste na próxima parte.\n",
      "O ticker BSMX não foi encontrado pelos códigos.\n",
      " Tentaremos agora pelo nome\n",
      "O ticker BSMX não foi encontrado pelo nome.\n",
      " Ele será então contruído pelo Ticker + Isin\n",
      "O ticker CBD não foi encontrado pelos códigos.\n",
      " Tentaremos agora pelo nome\n",
      "Nós aconselhamos que você confira o ticker CBD, porque ele foi ajustado pelo Isin.\n",
      "Caso ele esteja ERRADO você deverá fazer o ajuste na próxima parte.\n",
      "O ticker GGB não foi encontrado pelos códigos.\n",
      " Tentaremos agora pelo nome\n",
      "Nós aconselhamos que você confira o ticker GGB, porque ele foi ajustado pelo Isin.\n",
      "Caso ele esteja ERRADO você deverá fazer o ajuste na próxima parte.\n",
      "O ticker ING não foi encontrado pelos códigos.\n",
      " Tentaremos agora pelo nome\n",
      "Nós aconselhamos que você confira o ticker ING, porque ele foi ajustado pelo Isin.\n",
      "Caso ele esteja ERRADO você deverá fazer o ajuste na próxima parte.\n",
      "O ticker NVS não foi encontrado pelos códigos.\n",
      " Tentaremos agora pelo nome\n",
      "Nós aconselhamos que você confira o ticker NVS, porque ele foi ajustado pelo Isin.\n",
      "Caso ele esteja ERRADO você deverá fazer o ajuste na próxima parte.\n",
      "O ticker SAP não foi encontrado pelos códigos.\n",
      " Tentaremos agora pelo nome\n",
      "Nós aconselhamos que você confira o ticker SAP, porque ele foi ajustado pelo Isin.\n",
      "Caso ele esteja ERRADO você deverá fazer o ajuste na próxima parte.\n",
      "O ticker UN não foi encontrado pelos códigos.\n",
      " Tentaremos agora pelo nome\n",
      "O ticker UN não foi encontrado pelo nome.\n",
      " Ele será então contruído pelo Ticker + Isin\n"
     ]
    }
   ],
   "source": [
    "lista_tickers_diffs = [get_ticker_bases(calypso, mapa_tickers_diffs, x) for x in mapa_tickers_diffs.index]"
   ]
  },
  {
   "cell_type": "code",
   "execution_count": 27,
   "metadata": {
    "collapsed": true
   },
   "outputs": [],
   "source": [
    "mapeados_diff = pd.DataFrame(lista_tickers_diffs).rename(columns={0:'ticker_calypso', 1:'construct'})"
   ]
  },
  {
   "cell_type": "code",
   "execution_count": 28,
   "metadata": {
    "collapsed": true
   },
   "outputs": [],
   "source": [
    "mapa_tickers_diffs = pd.concat([mapa_tickers_diffs, mapeados_diff], axis=1)"
   ]
  },
  {
   "cell_type": "code",
   "execution_count": null,
   "metadata": {
    "collapsed": true
   },
   "outputs": [],
   "source": []
  },
  {
   "cell_type": "code",
   "execution_count": null,
   "metadata": {
    "collapsed": true
   },
   "outputs": [],
   "source": []
  },
  {
   "cell_type": "code",
   "execution_count": 29,
   "metadata": {
    "collapsed": false,
    "scrolled": true
   },
   "outputs": [],
   "source": [
    "mapa_tickers = mapa_tickers.drop(['isin', 'cusip', 'sedol', 'construct'], axis=1)"
   ]
  },
  {
   "cell_type": "code",
   "execution_count": 30,
   "metadata": {
    "collapsed": false
   },
   "outputs": [],
   "source": [
    "pb['id'] = range(0, len(pb))"
   ]
  },
  {
   "cell_type": "code",
   "execution_count": 31,
   "metadata": {
    "collapsed": false,
    "scrolled": true
   },
   "outputs": [],
   "source": [
    "pb_1 = pd.merge(pb, mapa_tickers, on='ticker', how='left').drop_duplicates()"
   ]
  },
  {
   "cell_type": "code",
   "execution_count": 32,
   "metadata": {
    "collapsed": false,
    "scrolled": true
   },
   "outputs": [],
   "source": [
    "# Isso aqui tem que ser zero para estar tudo ok!\n",
    "check_1 = pb_1[~pb_1['id'].isin(pb['id'])].shape[0]+pb[~pb['id'].isin(pb_1['id'])].shape[0]\n",
    "if check_1 == 0:\n",
    "    pb = pb_1.drop(['ticker', 'isin','cusip','sedol','id'], axis=1)[['conta', 'pb', 'data_ref','ticker_calypso', 'currency',\n",
    "                                                                    'qt', 'accrual', 'month','year']].rename(columns={\n",
    "        'ticker_calypso':'ticker'\n",
    "    })\n",
    "else:\n",
    "    print('Houve algum problema na hora do mapeamento! será necessário fazer ajustes')"
   ]
  },
  {
   "cell_type": "code",
   "execution_count": null,
   "metadata": {
    "collapsed": true
   },
   "outputs": [],
   "source": []
  },
  {
   "cell_type": "code",
   "execution_count": 33,
   "metadata": {
    "collapsed": false
   },
   "outputs": [
    {
     "data": {
      "text/html": [
       "<div>\n",
       "<table border=\"1\" class=\"dataframe\">\n",
       "  <thead>\n",
       "    <tr style=\"text-align: right;\">\n",
       "      <th></th>\n",
       "      <th>conta_pb</th>\n",
       "      <th>conta</th>\n",
       "      <th>agent</th>\n",
       "      <th>data_ref</th>\n",
       "      <th>quantidade</th>\n",
       "      <th>book</th>\n",
       "      <th>ticker</th>\n",
       "      <th>isin</th>\n",
       "      <th>cusip</th>\n",
       "      <th>sedol</th>\n",
       "      <th>currency</th>\n",
       "      <th>month</th>\n",
       "      <th>year</th>\n",
       "      <th>acc</th>\n",
       "    </tr>\n",
       "  </thead>\n",
       "  <tbody>\n",
       "    <tr>\n",
       "      <th>0</th>\n",
       "      <td>038CDBD08</td>\n",
       "      <td>ASSET</td>\n",
       "      <td>MORGAN STANLEY &amp; CO</td>\n",
       "      <td>2018-07-02</td>\n",
       "      <td>-2032.0</td>\n",
       "      <td>13F_CONS_N_CYCL.CAYMAN</td>\n",
       "      <td>RDUS US</td>\n",
       "      <td>US7504692077</td>\n",
       "      <td>750469207</td>\n",
       "      <td>BM68KK1</td>\n",
       "      <td>USD</td>\n",
       "      <td>jul</td>\n",
       "      <td>2018</td>\n",
       "      <td>ms_cayman</td>\n",
       "    </tr>\n",
       "    <tr>\n",
       "      <th>1</th>\n",
       "      <td>038CDA715</td>\n",
       "      <td>ASSET</td>\n",
       "      <td>MORGAN STANLEY &amp; CO</td>\n",
       "      <td>2018-07-02</td>\n",
       "      <td>0.0</td>\n",
       "      <td>MEX_ISSUANCE.CAYMAN</td>\n",
       "      <td>BSMX US</td>\n",
       "      <td>US05969B1035</td>\n",
       "      <td>05969B103</td>\n",
       "      <td>BF1FXN2</td>\n",
       "      <td>USD</td>\n",
       "      <td>jul</td>\n",
       "      <td>2018</td>\n",
       "      <td>ms_cayman</td>\n",
       "    </tr>\n",
       "    <tr>\n",
       "      <th>2</th>\n",
       "      <td>038CDBD08</td>\n",
       "      <td>ASSET</td>\n",
       "      <td>MORGAN STANLEY &amp; CO</td>\n",
       "      <td>2018-07-02</td>\n",
       "      <td>-1790.0</td>\n",
       "      <td>13F_CONS_CYCL.CAYMAN</td>\n",
       "      <td>SBUX US</td>\n",
       "      <td>US8552441094</td>\n",
       "      <td>855244109</td>\n",
       "      <td>2842255</td>\n",
       "      <td>USD</td>\n",
       "      <td>jul</td>\n",
       "      <td>2018</td>\n",
       "      <td>ms_cayman</td>\n",
       "    </tr>\n",
       "    <tr>\n",
       "      <th>3</th>\n",
       "      <td>75202215</td>\n",
       "      <td>ASSET</td>\n",
       "      <td>UBS SECURITIES LLC</td>\n",
       "      <td>2018-07-02</td>\n",
       "      <td>0.0</td>\n",
       "      <td>XG_PORTFOLIO_ ABS_GLOBAL_EQ_M</td>\n",
       "      <td>SPY US</td>\n",
       "      <td>US78462F1030</td>\n",
       "      <td>78462F103</td>\n",
       "      <td>2840215</td>\n",
       "      <td>USD</td>\n",
       "      <td>jul</td>\n",
       "      <td>2018</td>\n",
       "      <td>ubs_cayman</td>\n",
       "    </tr>\n",
       "    <tr>\n",
       "      <th>4</th>\n",
       "      <td>038CDBD08</td>\n",
       "      <td>ASSET</td>\n",
       "      <td>MORGAN STANLEY &amp; CO</td>\n",
       "      <td>2018-07-02</td>\n",
       "      <td>0.0</td>\n",
       "      <td>FACILITACION.CAYMAN</td>\n",
       "      <td>CIB US</td>\n",
       "      <td>US05968L1026</td>\n",
       "      <td>05968L102</td>\n",
       "      <td>BJ62LW1</td>\n",
       "      <td>USD</td>\n",
       "      <td>jul</td>\n",
       "      <td>2018</td>\n",
       "      <td>ms_cayman</td>\n",
       "    </tr>\n",
       "    <tr>\n",
       "      <th>5</th>\n",
       "      <td>038CDCN39</td>\n",
       "      <td>ASSET</td>\n",
       "      <td>MORGAN STANLEY &amp; CO</td>\n",
       "      <td>2018-07-02</td>\n",
       "      <td>-36253.0</td>\n",
       "      <td>MEX_DIRECIONAL.CAYMAN</td>\n",
       "      <td>BSMX US</td>\n",
       "      <td>US05969B1035</td>\n",
       "      <td>05969B103</td>\n",
       "      <td>BF1FXN2</td>\n",
       "      <td>USD</td>\n",
       "      <td>jul</td>\n",
       "      <td>2018</td>\n",
       "      <td>ms_cayman</td>\n",
       "    </tr>\n",
       "    <tr>\n",
       "      <th>6</th>\n",
       "      <td>75202215</td>\n",
       "      <td>ASSET</td>\n",
       "      <td>UBS SECURITIES LLC</td>\n",
       "      <td>2018-07-02</td>\n",
       "      <td>0.0</td>\n",
       "      <td>LS_OMA &amp; GAP X ASUR</td>\n",
       "      <td>EWW US</td>\n",
       "      <td>US4642868222</td>\n",
       "      <td>464286822</td>\n",
       "      <td>2373818</td>\n",
       "      <td>USD</td>\n",
       "      <td>jul</td>\n",
       "      <td>2018</td>\n",
       "      <td>ubs_cayman</td>\n",
       "    </tr>\n",
       "    <tr>\n",
       "      <th>7</th>\n",
       "      <td>038CDBD08</td>\n",
       "      <td>ASSET</td>\n",
       "      <td>MORGAN STANLEY &amp; CO</td>\n",
       "      <td>2018-07-02</td>\n",
       "      <td>-1610.0</td>\n",
       "      <td>13F_HEALTH.CAYMAN</td>\n",
       "      <td>MYL US</td>\n",
       "      <td>NL0011031208</td>\n",
       "      <td>628530107</td>\n",
       "      <td>BVFMFG8</td>\n",
       "      <td>USD</td>\n",
       "      <td>jul</td>\n",
       "      <td>2018</td>\n",
       "      <td>ms_cayman</td>\n",
       "    </tr>\n",
       "    <tr>\n",
       "      <th>8</th>\n",
       "      <td>75202215</td>\n",
       "      <td>ASSET</td>\n",
       "      <td>UBS SECURITIES LLC</td>\n",
       "      <td>2018-07-02</td>\n",
       "      <td>0.0</td>\n",
       "      <td>HF_OMA &amp; GAP X ASUR</td>\n",
       "      <td>EWW US</td>\n",
       "      <td>US4642868222</td>\n",
       "      <td>464286822</td>\n",
       "      <td>2373818</td>\n",
       "      <td>USD</td>\n",
       "      <td>jul</td>\n",
       "      <td>2018</td>\n",
       "      <td>ubs_cayman</td>\n",
       "    </tr>\n",
       "    <tr>\n",
       "      <th>9</th>\n",
       "      <td>038CDCN39</td>\n",
       "      <td>ASSET</td>\n",
       "      <td>MORGAN STANLEY &amp; CO</td>\n",
       "      <td>2018-07-02</td>\n",
       "      <td>-1767035.0</td>\n",
       "      <td>MEX_DIRECIONAL.CAYMAN</td>\n",
       "      <td>AMX US</td>\n",
       "      <td>US02364W1053</td>\n",
       "      <td>02364W105</td>\n",
       "      <td>2667470</td>\n",
       "      <td>USD</td>\n",
       "      <td>jul</td>\n",
       "      <td>2018</td>\n",
       "      <td>ms_cayman</td>\n",
       "    </tr>\n",
       "    <tr>\n",
       "      <th>10</th>\n",
       "      <td>038CDBD08</td>\n",
       "      <td>ASSET</td>\n",
       "      <td>MORGAN STANLEY &amp; CO</td>\n",
       "      <td>2018-07-02</td>\n",
       "      <td>0.0</td>\n",
       "      <td>FLOW_BZ_IBOV</td>\n",
       "      <td>SPY US</td>\n",
       "      <td>US78462F1030</td>\n",
       "      <td>78462F103</td>\n",
       "      <td>2840215</td>\n",
       "      <td>USD</td>\n",
       "      <td>jul</td>\n",
       "      <td>2018</td>\n",
       "      <td>ms_cayman</td>\n",
       "    </tr>\n",
       "    <tr>\n",
       "      <th>11</th>\n",
       "      <td>75202213</td>\n",
       "      <td>ASSET</td>\n",
       "      <td>UBS SECURITIES LLC</td>\n",
       "      <td>2018-07-02</td>\n",
       "      <td>-9930.0</td>\n",
       "      <td>SICAV LATAM HEDGE.CAYMAN_UBS</td>\n",
       "      <td>ECH US</td>\n",
       "      <td>US4642866408</td>\n",
       "      <td>464286640</td>\n",
       "      <td>B29FC81</td>\n",
       "      <td>USD</td>\n",
       "      <td>jul</td>\n",
       "      <td>2018</td>\n",
       "      <td>ubs_cayman</td>\n",
       "    </tr>\n",
       "    <tr>\n",
       "      <th>12</th>\n",
       "      <td>75202213</td>\n",
       "      <td>ASSET</td>\n",
       "      <td>UBS SECURITIES LLC</td>\n",
       "      <td>2018-07-02</td>\n",
       "      <td>-70510.0</td>\n",
       "      <td>SICAV LATAM HEDGE.CAYMAN_UBS</td>\n",
       "      <td>EWZ US</td>\n",
       "      <td>US4642864007</td>\n",
       "      <td>464286400</td>\n",
       "      <td>2726014</td>\n",
       "      <td>USD</td>\n",
       "      <td>jul</td>\n",
       "      <td>2018</td>\n",
       "      <td>ubs_cayman</td>\n",
       "    </tr>\n",
       "    <tr>\n",
       "      <th>13</th>\n",
       "      <td>038CDCN39</td>\n",
       "      <td>ASSET</td>\n",
       "      <td>MORGAN STANLEY &amp; CO</td>\n",
       "      <td>2018-07-02</td>\n",
       "      <td>-30420.0</td>\n",
       "      <td>MEX_DIRECIONAL.CAYMAN</td>\n",
       "      <td>ASR US</td>\n",
       "      <td>US40051E2028</td>\n",
       "      <td>40051E202</td>\n",
       "      <td>2639349</td>\n",
       "      <td>USD</td>\n",
       "      <td>jul</td>\n",
       "      <td>2018</td>\n",
       "      <td>ms_cayman</td>\n",
       "    </tr>\n",
       "    <tr>\n",
       "      <th>14</th>\n",
       "      <td>75202213</td>\n",
       "      <td>ASSET</td>\n",
       "      <td>UBS SECURITIES LLC</td>\n",
       "      <td>2018-07-02</td>\n",
       "      <td>-36660.0</td>\n",
       "      <td>SICAV LATAM HEDGE.CAYMAN_UBS</td>\n",
       "      <td>EWW US</td>\n",
       "      <td>US4642868222</td>\n",
       "      <td>464286822</td>\n",
       "      <td>2373818</td>\n",
       "      <td>USD</td>\n",
       "      <td>jul</td>\n",
       "      <td>2018</td>\n",
       "      <td>ubs_cayman</td>\n",
       "    </tr>\n",
       "    <tr>\n",
       "      <th>15</th>\n",
       "      <td>038CDBD08</td>\n",
       "      <td>ASSET</td>\n",
       "      <td>MORGAN STANLEY &amp; CO</td>\n",
       "      <td>2018-07-02</td>\n",
       "      <td>-9909.0</td>\n",
       "      <td>LATAM_TELECOM.CAYMAN</td>\n",
       "      <td>AMXL MM</td>\n",
       "      <td>MXP001691213</td>\n",
       "      <td>NaN</td>\n",
       "      <td>2667470</td>\n",
       "      <td>MXN</td>\n",
       "      <td>jul</td>\n",
       "      <td>2018</td>\n",
       "      <td>ms_cayman</td>\n",
       "    </tr>\n",
       "    <tr>\n",
       "      <th>16</th>\n",
       "      <td>038CDBD08</td>\n",
       "      <td>ASSET</td>\n",
       "      <td>MORGAN STANLEY &amp; CO</td>\n",
       "      <td>2018-07-02</td>\n",
       "      <td>0.0</td>\n",
       "      <td>MA_IOC.CAYMAN</td>\n",
       "      <td>XOM US</td>\n",
       "      <td>US30231G1022</td>\n",
       "      <td>30231G102</td>\n",
       "      <td>2326618</td>\n",
       "      <td>USD</td>\n",
       "      <td>jul</td>\n",
       "      <td>2018</td>\n",
       "      <td>ms_cayman</td>\n",
       "    </tr>\n",
       "    <tr>\n",
       "      <th>17</th>\n",
       "      <td>038CDBD08</td>\n",
       "      <td>ASSET</td>\n",
       "      <td>MORGAN STANLEY &amp; CO</td>\n",
       "      <td>2018-07-02</td>\n",
       "      <td>0.0</td>\n",
       "      <td>SYST TECH US.CAYMAN</td>\n",
       "      <td>WBA US</td>\n",
       "      <td>US9314271084</td>\n",
       "      <td>931427108</td>\n",
       "      <td>BTN1Y44</td>\n",
       "      <td>USD</td>\n",
       "      <td>jul</td>\n",
       "      <td>2018</td>\n",
       "      <td>ms_cayman</td>\n",
       "    </tr>\n",
       "    <tr>\n",
       "      <th>18</th>\n",
       "      <td>038CDA715</td>\n",
       "      <td>ASSET</td>\n",
       "      <td>MORGAN STANLEY &amp; CO</td>\n",
       "      <td>2018-07-02</td>\n",
       "      <td>0.0</td>\n",
       "      <td>MEX_ISSUANCE.CAYMAN</td>\n",
       "      <td>AMX US</td>\n",
       "      <td>US02364W1053</td>\n",
       "      <td>02364W105</td>\n",
       "      <td>2667470</td>\n",
       "      <td>USD</td>\n",
       "      <td>jul</td>\n",
       "      <td>2018</td>\n",
       "      <td>ms_cayman</td>\n",
       "    </tr>\n",
       "    <tr>\n",
       "      <th>19</th>\n",
       "      <td>75201835</td>\n",
       "      <td>ASSET</td>\n",
       "      <td>UBS SECURITIES LLC</td>\n",
       "      <td>2018-07-02</td>\n",
       "      <td>0.0</td>\n",
       "      <td>BOV_EWZ</td>\n",
       "      <td>EWZ US</td>\n",
       "      <td>US4642864007</td>\n",
       "      <td>464286400</td>\n",
       "      <td>2726014</td>\n",
       "      <td>USD</td>\n",
       "      <td>jul</td>\n",
       "      <td>2018</td>\n",
       "      <td>ubs_cayman</td>\n",
       "    </tr>\n",
       "    <tr>\n",
       "      <th>20</th>\n",
       "      <td>038CDBD08</td>\n",
       "      <td>ASSET</td>\n",
       "      <td>MORGAN STANLEY &amp; CO</td>\n",
       "      <td>2018-07-02</td>\n",
       "      <td>0.0</td>\n",
       "      <td>LATAM_UTILITIES.CAYMAN</td>\n",
       "      <td>CNE CN</td>\n",
       "      <td>CA1348082035</td>\n",
       "      <td>134808203</td>\n",
       "      <td>B97DSV1</td>\n",
       "      <td>CAD</td>\n",
       "      <td>jul</td>\n",
       "      <td>2018</td>\n",
       "      <td>ms_cayman</td>\n",
       "    </tr>\n",
       "    <tr>\n",
       "      <th>21</th>\n",
       "      <td>038CDCN39</td>\n",
       "      <td>ASSET</td>\n",
       "      <td>MORGAN STANLEY &amp; CO</td>\n",
       "      <td>2018-07-02</td>\n",
       "      <td>-938.0</td>\n",
       "      <td>MEX_DIRECIONAL.CAYMAN</td>\n",
       "      <td>RA MM</td>\n",
       "      <td>MX01R0000006</td>\n",
       "      <td>NaN</td>\n",
       "      <td>BG1Z6X0</td>\n",
       "      <td>MXN</td>\n",
       "      <td>jul</td>\n",
       "      <td>2018</td>\n",
       "      <td>ms_cayman</td>\n",
       "    </tr>\n",
       "    <tr>\n",
       "      <th>22</th>\n",
       "      <td>038CDBD08</td>\n",
       "      <td>ASSET</td>\n",
       "      <td>MORGAN STANLEY &amp; CO</td>\n",
       "      <td>2018-07-02</td>\n",
       "      <td>-1447.0</td>\n",
       "      <td>13F_HEALTH.CAYMAN</td>\n",
       "      <td>TSRO US</td>\n",
       "      <td>US8815691071</td>\n",
       "      <td>881569107</td>\n",
       "      <td>B8BJ9G0</td>\n",
       "      <td>USD</td>\n",
       "      <td>jul</td>\n",
       "      <td>2018</td>\n",
       "      <td>ms_cayman</td>\n",
       "    </tr>\n",
       "    <tr>\n",
       "      <th>23</th>\n",
       "      <td>038CDBD08</td>\n",
       "      <td>ASSET</td>\n",
       "      <td>MORGAN STANLEY &amp; CO</td>\n",
       "      <td>2018-07-02</td>\n",
       "      <td>0.0</td>\n",
       "      <td>EV_BANKS.CAYMAN</td>\n",
       "      <td>PAGS US</td>\n",
       "      <td>KYG687071012</td>\n",
       "      <td>NaN</td>\n",
       "      <td>BFWK4R7</td>\n",
       "      <td>USD</td>\n",
       "      <td>jul</td>\n",
       "      <td>2018</td>\n",
       "      <td>ms_cayman</td>\n",
       "    </tr>\n",
       "    <tr>\n",
       "      <th>24</th>\n",
       "      <td>038CDBD08</td>\n",
       "      <td>ASSET</td>\n",
       "      <td>MORGAN STANLEY &amp; CO</td>\n",
       "      <td>2018-07-02</td>\n",
       "      <td>0.0</td>\n",
       "      <td>QTS_EUROPA.CAYMAN</td>\n",
       "      <td>SAN SM</td>\n",
       "      <td>ES0113900J37</td>\n",
       "      <td>NaN</td>\n",
       "      <td>5705946</td>\n",
       "      <td>EUR</td>\n",
       "      <td>jul</td>\n",
       "      <td>2018</td>\n",
       "      <td>ms_cayman</td>\n",
       "    </tr>\n",
       "    <tr>\n",
       "      <th>25</th>\n",
       "      <td>038CDBD08</td>\n",
       "      <td>ASSET</td>\n",
       "      <td>MORGAN STANLEY &amp; CO</td>\n",
       "      <td>2018-07-02</td>\n",
       "      <td>0.0</td>\n",
       "      <td>MA_KMI</td>\n",
       "      <td>KMI US</td>\n",
       "      <td>US49456B1017</td>\n",
       "      <td>49456B101</td>\n",
       "      <td>B3NQ4P8</td>\n",
       "      <td>USD</td>\n",
       "      <td>jul</td>\n",
       "      <td>2018</td>\n",
       "      <td>ms_cayman</td>\n",
       "    </tr>\n",
       "    <tr>\n",
       "      <th>26</th>\n",
       "      <td>038CDBD08</td>\n",
       "      <td>ASSET</td>\n",
       "      <td>MORGAN STANLEY &amp; CO</td>\n",
       "      <td>2018-07-02</td>\n",
       "      <td>-3586.0</td>\n",
       "      <td>13F_INDU.CAYMAN</td>\n",
       "      <td>AAL US</td>\n",
       "      <td>US02376R1023</td>\n",
       "      <td>02376R102</td>\n",
       "      <td>BCV7KT2</td>\n",
       "      <td>USD</td>\n",
       "      <td>jul</td>\n",
       "      <td>2018</td>\n",
       "      <td>ms_cayman</td>\n",
       "    </tr>\n",
       "    <tr>\n",
       "      <th>27</th>\n",
       "      <td>75202215</td>\n",
       "      <td>ASSET</td>\n",
       "      <td>UBS SECURITIES LLC</td>\n",
       "      <td>2018-07-02</td>\n",
       "      <td>0.0</td>\n",
       "      <td>HF_GLOBAL CO</td>\n",
       "      <td>KHC US</td>\n",
       "      <td>US5007541064</td>\n",
       "      <td>500754106</td>\n",
       "      <td>BYRY499</td>\n",
       "      <td>USD</td>\n",
       "      <td>jul</td>\n",
       "      <td>2018</td>\n",
       "      <td>ubs_cayman</td>\n",
       "    </tr>\n",
       "    <tr>\n",
       "      <th>28</th>\n",
       "      <td>75202215</td>\n",
       "      <td>ASSET</td>\n",
       "      <td>UBS SECURITIES LLC</td>\n",
       "      <td>2018-07-02</td>\n",
       "      <td>0.0</td>\n",
       "      <td>LS_GLOBAL CO_INTG</td>\n",
       "      <td>KHC US</td>\n",
       "      <td>US5007541064</td>\n",
       "      <td>500754106</td>\n",
       "      <td>BYRY499</td>\n",
       "      <td>USD</td>\n",
       "      <td>jul</td>\n",
       "      <td>2018</td>\n",
       "      <td>ubs_cayman</td>\n",
       "    </tr>\n",
       "    <tr>\n",
       "      <th>29</th>\n",
       "      <td>038CDBD08</td>\n",
       "      <td>ASSET</td>\n",
       "      <td>MORGAN STANLEY &amp; CO</td>\n",
       "      <td>2018-07-02</td>\n",
       "      <td>0.0</td>\n",
       "      <td>CO_ARB.CAYMAN</td>\n",
       "      <td>CNE CN</td>\n",
       "      <td>CA1348082035</td>\n",
       "      <td>134808203</td>\n",
       "      <td>B97DSV1</td>\n",
       "      <td>CAD</td>\n",
       "      <td>jul</td>\n",
       "      <td>2018</td>\n",
       "      <td>ms_cayman</td>\n",
       "    </tr>\n",
       "    <tr>\n",
       "      <th>...</th>\n",
       "      <td>...</td>\n",
       "      <td>...</td>\n",
       "      <td>...</td>\n",
       "      <td>...</td>\n",
       "      <td>...</td>\n",
       "      <td>...</td>\n",
       "      <td>...</td>\n",
       "      <td>...</td>\n",
       "      <td>...</td>\n",
       "      <td>...</td>\n",
       "      <td>...</td>\n",
       "      <td>...</td>\n",
       "      <td>...</td>\n",
       "      <td>...</td>\n",
       "    </tr>\n",
       "    <tr>\n",
       "      <th>8490</th>\n",
       "      <td>038CDB895</td>\n",
       "      <td>INT C</td>\n",
       "      <td>MORGAN STANLEY &amp; CO</td>\n",
       "      <td>2018-07-13</td>\n",
       "      <td>0.0</td>\n",
       "      <td>ACOES_US_INTC</td>\n",
       "      <td>VIV US</td>\n",
       "      <td>US87936R1068</td>\n",
       "      <td>87936R106</td>\n",
       "      <td>NaN</td>\n",
       "      <td>USD</td>\n",
       "      <td>jul</td>\n",
       "      <td>2018</td>\n",
       "      <td>int_c</td>\n",
       "    </tr>\n",
       "    <tr>\n",
       "      <th>8491</th>\n",
       "      <td>038CDB895</td>\n",
       "      <td>INT C</td>\n",
       "      <td>MORGAN STANLEY &amp; CO</td>\n",
       "      <td>2018-07-13</td>\n",
       "      <td>0.0</td>\n",
       "      <td>ACOES_US_INTC</td>\n",
       "      <td>PBR/A US</td>\n",
       "      <td>US71654V1017</td>\n",
       "      <td>71654V101</td>\n",
       "      <td>NaN</td>\n",
       "      <td>USD</td>\n",
       "      <td>jul</td>\n",
       "      <td>2018</td>\n",
       "      <td>int_c</td>\n",
       "    </tr>\n",
       "    <tr>\n",
       "      <th>8492</th>\n",
       "      <td>038CDB895</td>\n",
       "      <td>INT C</td>\n",
       "      <td>MORGAN STANLEY &amp; CO</td>\n",
       "      <td>2018-07-13</td>\n",
       "      <td>0.0</td>\n",
       "      <td>ACOES_US_BRL_INTC</td>\n",
       "      <td>PBR/A US</td>\n",
       "      <td>US71654V1017</td>\n",
       "      <td>71654V101</td>\n",
       "      <td>NaN</td>\n",
       "      <td>USD</td>\n",
       "      <td>jul</td>\n",
       "      <td>2018</td>\n",
       "      <td>int_c</td>\n",
       "    </tr>\n",
       "    <tr>\n",
       "      <th>8493</th>\n",
       "      <td>038CDB895</td>\n",
       "      <td>INT C</td>\n",
       "      <td>MORGAN STANLEY &amp; CO</td>\n",
       "      <td>2018-07-13</td>\n",
       "      <td>0.0</td>\n",
       "      <td>LOCAL_ADR_MR.INTC</td>\n",
       "      <td>BSBR US</td>\n",
       "      <td>US05967A1079</td>\n",
       "      <td>05967A107</td>\n",
       "      <td>NaN</td>\n",
       "      <td>USD</td>\n",
       "      <td>jul</td>\n",
       "      <td>2018</td>\n",
       "      <td>int_c</td>\n",
       "    </tr>\n",
       "    <tr>\n",
       "      <th>8494</th>\n",
       "      <td>038CDB895</td>\n",
       "      <td>INT C</td>\n",
       "      <td>MORGAN STANLEY &amp; CO</td>\n",
       "      <td>2018-07-13</td>\n",
       "      <td>0.0</td>\n",
       "      <td>ACOES_OFFSHORE_.INTC</td>\n",
       "      <td>BSBR US</td>\n",
       "      <td>US05967A1079</td>\n",
       "      <td>05967A107</td>\n",
       "      <td>NaN</td>\n",
       "      <td>USD</td>\n",
       "      <td>jul</td>\n",
       "      <td>2018</td>\n",
       "      <td>int_c</td>\n",
       "    </tr>\n",
       "    <tr>\n",
       "      <th>8495</th>\n",
       "      <td>038CDB895</td>\n",
       "      <td>INT C</td>\n",
       "      <td>MORGAN STANLEY &amp; CO</td>\n",
       "      <td>2018-07-13</td>\n",
       "      <td>0.0</td>\n",
       "      <td>LOCAL_ADR_INTC_OLD</td>\n",
       "      <td>PBR/A US</td>\n",
       "      <td>US71654V1017</td>\n",
       "      <td>71654V101</td>\n",
       "      <td>NaN</td>\n",
       "      <td>USD</td>\n",
       "      <td>jul</td>\n",
       "      <td>2018</td>\n",
       "      <td>int_c</td>\n",
       "    </tr>\n",
       "    <tr>\n",
       "      <th>8496</th>\n",
       "      <td>038CDB895</td>\n",
       "      <td>INT C</td>\n",
       "      <td>MORGAN STANLEY &amp; CO</td>\n",
       "      <td>2018-07-13</td>\n",
       "      <td>0.0</td>\n",
       "      <td>ACOES_US_INTC</td>\n",
       "      <td>SID US</td>\n",
       "      <td>US20440W1053</td>\n",
       "      <td>20440W105</td>\n",
       "      <td>NaN</td>\n",
       "      <td>USD</td>\n",
       "      <td>jul</td>\n",
       "      <td>2018</td>\n",
       "      <td>int_c</td>\n",
       "    </tr>\n",
       "    <tr>\n",
       "      <th>8497</th>\n",
       "      <td>038CDB895</td>\n",
       "      <td>INT C</td>\n",
       "      <td>MORGAN STANLEY &amp; CO</td>\n",
       "      <td>2018-07-13</td>\n",
       "      <td>0.0</td>\n",
       "      <td>LOCAL_ADR_INTC_OLD</td>\n",
       "      <td>VALE US</td>\n",
       "      <td>US91912E1055</td>\n",
       "      <td>91912E105</td>\n",
       "      <td>NaN</td>\n",
       "      <td>USD</td>\n",
       "      <td>jul</td>\n",
       "      <td>2018</td>\n",
       "      <td>int_c</td>\n",
       "    </tr>\n",
       "    <tr>\n",
       "      <th>8498</th>\n",
       "      <td>038CDB895</td>\n",
       "      <td>INT C</td>\n",
       "      <td>MORGAN STANLEY &amp; CO</td>\n",
       "      <td>2018-07-13</td>\n",
       "      <td>-495.0</td>\n",
       "      <td>LOCAL_ADR_INTC</td>\n",
       "      <td>BSBR US</td>\n",
       "      <td>US05967A1079</td>\n",
       "      <td>05967A107</td>\n",
       "      <td>NaN</td>\n",
       "      <td>USD</td>\n",
       "      <td>jul</td>\n",
       "      <td>2018</td>\n",
       "      <td>int_c</td>\n",
       "    </tr>\n",
       "    <tr>\n",
       "      <th>8499</th>\n",
       "      <td>038CDB895</td>\n",
       "      <td>INT C</td>\n",
       "      <td>MORGAN STANLEY &amp; CO</td>\n",
       "      <td>2018-07-13</td>\n",
       "      <td>0.0</td>\n",
       "      <td>LOCAL_ADR_MR.INTC</td>\n",
       "      <td>PBR/A US</td>\n",
       "      <td>US71654V1017</td>\n",
       "      <td>71654V101</td>\n",
       "      <td>NaN</td>\n",
       "      <td>USD</td>\n",
       "      <td>jul</td>\n",
       "      <td>2018</td>\n",
       "      <td>int_c</td>\n",
       "    </tr>\n",
       "    <tr>\n",
       "      <th>8500</th>\n",
       "      <td>038CDB895</td>\n",
       "      <td>INT C</td>\n",
       "      <td>MORGAN STANLEY &amp; CO</td>\n",
       "      <td>2018-07-13</td>\n",
       "      <td>0.0</td>\n",
       "      <td>LOCAL_ADR_INTC_OLD</td>\n",
       "      <td>PBR US</td>\n",
       "      <td>US71654V4086</td>\n",
       "      <td>71654V408</td>\n",
       "      <td>NaN</td>\n",
       "      <td>USD</td>\n",
       "      <td>jul</td>\n",
       "      <td>2018</td>\n",
       "      <td>int_c</td>\n",
       "    </tr>\n",
       "    <tr>\n",
       "      <th>8501</th>\n",
       "      <td>038CDB895</td>\n",
       "      <td>INT C</td>\n",
       "      <td>MORGAN STANLEY &amp; CO</td>\n",
       "      <td>2018-07-13</td>\n",
       "      <td>0.0</td>\n",
       "      <td>LOCAL_ADR_INTC_OLD</td>\n",
       "      <td>VIV US</td>\n",
       "      <td>US87936R1068</td>\n",
       "      <td>87936R106</td>\n",
       "      <td>NaN</td>\n",
       "      <td>USD</td>\n",
       "      <td>jul</td>\n",
       "      <td>2018</td>\n",
       "      <td>int_c</td>\n",
       "    </tr>\n",
       "    <tr>\n",
       "      <th>8502</th>\n",
       "      <td>038CDB895</td>\n",
       "      <td>INT C</td>\n",
       "      <td>MORGAN STANLEY &amp; CO</td>\n",
       "      <td>2018-07-13</td>\n",
       "      <td>0.0</td>\n",
       "      <td>LOCAL_ADR_INTC_OLD</td>\n",
       "      <td>EBR US</td>\n",
       "      <td>US15234Q2075</td>\n",
       "      <td>15234Q207</td>\n",
       "      <td>NaN</td>\n",
       "      <td>USD</td>\n",
       "      <td>jul</td>\n",
       "      <td>2018</td>\n",
       "      <td>int_c</td>\n",
       "    </tr>\n",
       "    <tr>\n",
       "      <th>8503</th>\n",
       "      <td>038CDB895</td>\n",
       "      <td>INT C</td>\n",
       "      <td>MORGAN STANLEY &amp; CO</td>\n",
       "      <td>2018-07-13</td>\n",
       "      <td>200000.0</td>\n",
       "      <td>ACOES_OFFSHORE_.INTC</td>\n",
       "      <td>PBR US</td>\n",
       "      <td>US71654V4086</td>\n",
       "      <td>71654V408</td>\n",
       "      <td>NaN</td>\n",
       "      <td>USD</td>\n",
       "      <td>jul</td>\n",
       "      <td>2018</td>\n",
       "      <td>int_c</td>\n",
       "    </tr>\n",
       "    <tr>\n",
       "      <th>8504</th>\n",
       "      <td>038CDB895</td>\n",
       "      <td>INT C</td>\n",
       "      <td>MORGAN STANLEY &amp; CO</td>\n",
       "      <td>2018-07-13</td>\n",
       "      <td>0.0</td>\n",
       "      <td>ACOES_OFFSHORE_.INTC</td>\n",
       "      <td>VALE US</td>\n",
       "      <td>US91912E1055</td>\n",
       "      <td>91912E105</td>\n",
       "      <td>NaN</td>\n",
       "      <td>USD</td>\n",
       "      <td>jul</td>\n",
       "      <td>2018</td>\n",
       "      <td>int_c</td>\n",
       "    </tr>\n",
       "    <tr>\n",
       "      <th>8505</th>\n",
       "      <td>038CDB895</td>\n",
       "      <td>INT C</td>\n",
       "      <td>MORGAN STANLEY &amp; CO</td>\n",
       "      <td>2018-07-13</td>\n",
       "      <td>-697964.0</td>\n",
       "      <td>LOCAL_ADR_INTC</td>\n",
       "      <td>EBR US</td>\n",
       "      <td>US15234Q2075</td>\n",
       "      <td>15234Q207</td>\n",
       "      <td>NaN</td>\n",
       "      <td>USD</td>\n",
       "      <td>jul</td>\n",
       "      <td>2018</td>\n",
       "      <td>int_c</td>\n",
       "    </tr>\n",
       "    <tr>\n",
       "      <th>8506</th>\n",
       "      <td>038CDB895</td>\n",
       "      <td>INT C</td>\n",
       "      <td>MORGAN STANLEY &amp; CO</td>\n",
       "      <td>2018-07-13</td>\n",
       "      <td>0.0</td>\n",
       "      <td>ACOES_OFFSHORE_.INTC</td>\n",
       "      <td>EBR US</td>\n",
       "      <td>US15234Q2075</td>\n",
       "      <td>15234Q207</td>\n",
       "      <td>NaN</td>\n",
       "      <td>USD</td>\n",
       "      <td>jul</td>\n",
       "      <td>2018</td>\n",
       "      <td>int_c</td>\n",
       "    </tr>\n",
       "    <tr>\n",
       "      <th>8507</th>\n",
       "      <td>038CDB895</td>\n",
       "      <td>INT C</td>\n",
       "      <td>MORGAN STANLEY &amp; CO</td>\n",
       "      <td>2018-07-13</td>\n",
       "      <td>0.0</td>\n",
       "      <td>LOCAL_ADR_INTC_OLD</td>\n",
       "      <td>BSBR US</td>\n",
       "      <td>US05967A1079</td>\n",
       "      <td>05967A107</td>\n",
       "      <td>NaN</td>\n",
       "      <td>USD</td>\n",
       "      <td>jul</td>\n",
       "      <td>2018</td>\n",
       "      <td>int_c</td>\n",
       "    </tr>\n",
       "    <tr>\n",
       "      <th>8508</th>\n",
       "      <td>038CDB895</td>\n",
       "      <td>INT C</td>\n",
       "      <td>MORGAN STANLEY &amp; CO</td>\n",
       "      <td>2018-07-13</td>\n",
       "      <td>-300.0</td>\n",
       "      <td>LOCAL_ADR_INTC</td>\n",
       "      <td>SID US</td>\n",
       "      <td>US20440W1053</td>\n",
       "      <td>20440W105</td>\n",
       "      <td>NaN</td>\n",
       "      <td>USD</td>\n",
       "      <td>jul</td>\n",
       "      <td>2018</td>\n",
       "      <td>int_c</td>\n",
       "    </tr>\n",
       "    <tr>\n",
       "      <th>8509</th>\n",
       "      <td>038CDB895</td>\n",
       "      <td>INT C</td>\n",
       "      <td>MORGAN STANLEY &amp; CO</td>\n",
       "      <td>2018-07-13</td>\n",
       "      <td>0.0</td>\n",
       "      <td>INTRADAY_PAIRS.INTC</td>\n",
       "      <td>PBR US</td>\n",
       "      <td>US71654V4086</td>\n",
       "      <td>71654V408</td>\n",
       "      <td>NaN</td>\n",
       "      <td>USD</td>\n",
       "      <td>jul</td>\n",
       "      <td>2018</td>\n",
       "      <td>int_c</td>\n",
       "    </tr>\n",
       "    <tr>\n",
       "      <th>8510</th>\n",
       "      <td>038CDB895</td>\n",
       "      <td>INT C</td>\n",
       "      <td>MORGAN STANLEY &amp; CO</td>\n",
       "      <td>2018-07-13</td>\n",
       "      <td>-420431.0</td>\n",
       "      <td>LOCAL_ADR_MR.INTC</td>\n",
       "      <td>VALE US</td>\n",
       "      <td>US91912E1055</td>\n",
       "      <td>91912E105</td>\n",
       "      <td>NaN</td>\n",
       "      <td>USD</td>\n",
       "      <td>jul</td>\n",
       "      <td>2018</td>\n",
       "      <td>int_c</td>\n",
       "    </tr>\n",
       "    <tr>\n",
       "      <th>8511</th>\n",
       "      <td>038CDB895</td>\n",
       "      <td>INT C</td>\n",
       "      <td>MORGAN STANLEY &amp; CO</td>\n",
       "      <td>2018-07-13</td>\n",
       "      <td>0.0</td>\n",
       "      <td>INTRADAY_PAIRS.INTC</td>\n",
       "      <td>PBR/A US</td>\n",
       "      <td>US71654V1017</td>\n",
       "      <td>71654V101</td>\n",
       "      <td>NaN</td>\n",
       "      <td>USD</td>\n",
       "      <td>jul</td>\n",
       "      <td>2018</td>\n",
       "      <td>int_c</td>\n",
       "    </tr>\n",
       "    <tr>\n",
       "      <th>8512</th>\n",
       "      <td>038CDB895</td>\n",
       "      <td>INT C</td>\n",
       "      <td>MORGAN STANLEY &amp; CO</td>\n",
       "      <td>2018-07-13</td>\n",
       "      <td>0.0</td>\n",
       "      <td>LOCAL_ADR_MR.INTC</td>\n",
       "      <td>VIV US</td>\n",
       "      <td>US87936R1068</td>\n",
       "      <td>87936R106</td>\n",
       "      <td>NaN</td>\n",
       "      <td>USD</td>\n",
       "      <td>jul</td>\n",
       "      <td>2018</td>\n",
       "      <td>int_c</td>\n",
       "    </tr>\n",
       "    <tr>\n",
       "      <th>8513</th>\n",
       "      <td>038CDB895</td>\n",
       "      <td>INT C</td>\n",
       "      <td>MORGAN STANLEY &amp; CO</td>\n",
       "      <td>2018-07-13</td>\n",
       "      <td>-170659.0</td>\n",
       "      <td>LOCAL_ADR_MR.INTC</td>\n",
       "      <td>PBR US</td>\n",
       "      <td>US71654V4086</td>\n",
       "      <td>71654V408</td>\n",
       "      <td>NaN</td>\n",
       "      <td>USD</td>\n",
       "      <td>jul</td>\n",
       "      <td>2018</td>\n",
       "      <td>int_c</td>\n",
       "    </tr>\n",
       "    <tr>\n",
       "      <th>8514</th>\n",
       "      <td>038CDB895</td>\n",
       "      <td>INT C</td>\n",
       "      <td>MORGAN STANLEY &amp; CO</td>\n",
       "      <td>2018-07-13</td>\n",
       "      <td>0.0</td>\n",
       "      <td>ACOES_OFFSHORE_.INTC</td>\n",
       "      <td>PBR/A US</td>\n",
       "      <td>US71654V1017</td>\n",
       "      <td>71654V101</td>\n",
       "      <td>NaN</td>\n",
       "      <td>USD</td>\n",
       "      <td>jul</td>\n",
       "      <td>2018</td>\n",
       "      <td>int_c</td>\n",
       "    </tr>\n",
       "    <tr>\n",
       "      <th>8515</th>\n",
       "      <td>038CDB895</td>\n",
       "      <td>INT C</td>\n",
       "      <td>MORGAN STANLEY &amp; CO</td>\n",
       "      <td>2018-07-13</td>\n",
       "      <td>0.0</td>\n",
       "      <td>LOCAL_ADR_MR.INTC</td>\n",
       "      <td>BRFS US</td>\n",
       "      <td>US10552T1079</td>\n",
       "      <td>10552T107</td>\n",
       "      <td>NaN</td>\n",
       "      <td>USD</td>\n",
       "      <td>jul</td>\n",
       "      <td>2018</td>\n",
       "      <td>int_c</td>\n",
       "    </tr>\n",
       "    <tr>\n",
       "      <th>8516</th>\n",
       "      <td>038CDB895</td>\n",
       "      <td>INT C</td>\n",
       "      <td>MORGAN STANLEY &amp; CO</td>\n",
       "      <td>2018-07-13</td>\n",
       "      <td>-567700.0</td>\n",
       "      <td>ACOES_OFFSHORE_.INTC</td>\n",
       "      <td>FMG AU</td>\n",
       "      <td>AU000000FMG4</td>\n",
       "      <td>.</td>\n",
       "      <td>6086253</td>\n",
       "      <td>AUD</td>\n",
       "      <td>jul</td>\n",
       "      <td>2018</td>\n",
       "      <td>int_c</td>\n",
       "    </tr>\n",
       "    <tr>\n",
       "      <th>8517</th>\n",
       "      <td>038CDB895</td>\n",
       "      <td>INT C</td>\n",
       "      <td>MORGAN STANLEY &amp; CO</td>\n",
       "      <td>2018-07-13</td>\n",
       "      <td>-7710.0</td>\n",
       "      <td>LOCAL_ADR_INTC</td>\n",
       "      <td>VIV US</td>\n",
       "      <td>US87936R1068</td>\n",
       "      <td>87936R106</td>\n",
       "      <td>NaN</td>\n",
       "      <td>USD</td>\n",
       "      <td>jul</td>\n",
       "      <td>2018</td>\n",
       "      <td>int_c</td>\n",
       "    </tr>\n",
       "    <tr>\n",
       "      <th>8518</th>\n",
       "      <td>038CDB895</td>\n",
       "      <td>INT C</td>\n",
       "      <td>MORGAN STANLEY &amp; CO</td>\n",
       "      <td>2018-07-13</td>\n",
       "      <td>-9609.0</td>\n",
       "      <td>LOCAL_ADR_INTC</td>\n",
       "      <td>PBR US</td>\n",
       "      <td>US71654V4086</td>\n",
       "      <td>71654V408</td>\n",
       "      <td>NaN</td>\n",
       "      <td>USD</td>\n",
       "      <td>jul</td>\n",
       "      <td>2018</td>\n",
       "      <td>int_c</td>\n",
       "    </tr>\n",
       "    <tr>\n",
       "      <th>8519</th>\n",
       "      <td>038CDB895</td>\n",
       "      <td>INT C</td>\n",
       "      <td>MORGAN STANLEY &amp; CO</td>\n",
       "      <td>2018-07-13</td>\n",
       "      <td>-11342.0</td>\n",
       "      <td>INTRADAY_PAIRS.INTC</td>\n",
       "      <td>VALE US</td>\n",
       "      <td>US91912E1055</td>\n",
       "      <td>91912E105</td>\n",
       "      <td>NaN</td>\n",
       "      <td>USD</td>\n",
       "      <td>jul</td>\n",
       "      <td>2018</td>\n",
       "      <td>int_c</td>\n",
       "    </tr>\n",
       "  </tbody>\n",
       "</table>\n",
       "<p>8520 rows × 14 columns</p>\n",
       "</div>"
      ],
      "text/plain": [
       "       conta_pb  conta                agent   data_ref  quantidade  \\\n",
       "0     038CDBD08  ASSET  MORGAN STANLEY & CO 2018-07-02     -2032.0   \n",
       "1     038CDA715  ASSET  MORGAN STANLEY & CO 2018-07-02         0.0   \n",
       "2     038CDBD08  ASSET  MORGAN STANLEY & CO 2018-07-02     -1790.0   \n",
       "3      75202215  ASSET   UBS SECURITIES LLC 2018-07-02         0.0   \n",
       "4     038CDBD08  ASSET  MORGAN STANLEY & CO 2018-07-02         0.0   \n",
       "5     038CDCN39  ASSET  MORGAN STANLEY & CO 2018-07-02    -36253.0   \n",
       "6      75202215  ASSET   UBS SECURITIES LLC 2018-07-02         0.0   \n",
       "7     038CDBD08  ASSET  MORGAN STANLEY & CO 2018-07-02     -1610.0   \n",
       "8      75202215  ASSET   UBS SECURITIES LLC 2018-07-02         0.0   \n",
       "9     038CDCN39  ASSET  MORGAN STANLEY & CO 2018-07-02  -1767035.0   \n",
       "10    038CDBD08  ASSET  MORGAN STANLEY & CO 2018-07-02         0.0   \n",
       "11     75202213  ASSET   UBS SECURITIES LLC 2018-07-02     -9930.0   \n",
       "12     75202213  ASSET   UBS SECURITIES LLC 2018-07-02    -70510.0   \n",
       "13    038CDCN39  ASSET  MORGAN STANLEY & CO 2018-07-02    -30420.0   \n",
       "14     75202213  ASSET   UBS SECURITIES LLC 2018-07-02    -36660.0   \n",
       "15    038CDBD08  ASSET  MORGAN STANLEY & CO 2018-07-02     -9909.0   \n",
       "16    038CDBD08  ASSET  MORGAN STANLEY & CO 2018-07-02         0.0   \n",
       "17    038CDBD08  ASSET  MORGAN STANLEY & CO 2018-07-02         0.0   \n",
       "18    038CDA715  ASSET  MORGAN STANLEY & CO 2018-07-02         0.0   \n",
       "19     75201835  ASSET   UBS SECURITIES LLC 2018-07-02         0.0   \n",
       "20    038CDBD08  ASSET  MORGAN STANLEY & CO 2018-07-02         0.0   \n",
       "21    038CDCN39  ASSET  MORGAN STANLEY & CO 2018-07-02      -938.0   \n",
       "22    038CDBD08  ASSET  MORGAN STANLEY & CO 2018-07-02     -1447.0   \n",
       "23    038CDBD08  ASSET  MORGAN STANLEY & CO 2018-07-02         0.0   \n",
       "24    038CDBD08  ASSET  MORGAN STANLEY & CO 2018-07-02         0.0   \n",
       "25    038CDBD08  ASSET  MORGAN STANLEY & CO 2018-07-02         0.0   \n",
       "26    038CDBD08  ASSET  MORGAN STANLEY & CO 2018-07-02     -3586.0   \n",
       "27     75202215  ASSET   UBS SECURITIES LLC 2018-07-02         0.0   \n",
       "28     75202215  ASSET   UBS SECURITIES LLC 2018-07-02         0.0   \n",
       "29    038CDBD08  ASSET  MORGAN STANLEY & CO 2018-07-02         0.0   \n",
       "...         ...    ...                  ...        ...         ...   \n",
       "8490  038CDB895  INT C  MORGAN STANLEY & CO 2018-07-13         0.0   \n",
       "8491  038CDB895  INT C  MORGAN STANLEY & CO 2018-07-13         0.0   \n",
       "8492  038CDB895  INT C  MORGAN STANLEY & CO 2018-07-13         0.0   \n",
       "8493  038CDB895  INT C  MORGAN STANLEY & CO 2018-07-13         0.0   \n",
       "8494  038CDB895  INT C  MORGAN STANLEY & CO 2018-07-13         0.0   \n",
       "8495  038CDB895  INT C  MORGAN STANLEY & CO 2018-07-13         0.0   \n",
       "8496  038CDB895  INT C  MORGAN STANLEY & CO 2018-07-13         0.0   \n",
       "8497  038CDB895  INT C  MORGAN STANLEY & CO 2018-07-13         0.0   \n",
       "8498  038CDB895  INT C  MORGAN STANLEY & CO 2018-07-13      -495.0   \n",
       "8499  038CDB895  INT C  MORGAN STANLEY & CO 2018-07-13         0.0   \n",
       "8500  038CDB895  INT C  MORGAN STANLEY & CO 2018-07-13         0.0   \n",
       "8501  038CDB895  INT C  MORGAN STANLEY & CO 2018-07-13         0.0   \n",
       "8502  038CDB895  INT C  MORGAN STANLEY & CO 2018-07-13         0.0   \n",
       "8503  038CDB895  INT C  MORGAN STANLEY & CO 2018-07-13    200000.0   \n",
       "8504  038CDB895  INT C  MORGAN STANLEY & CO 2018-07-13         0.0   \n",
       "8505  038CDB895  INT C  MORGAN STANLEY & CO 2018-07-13   -697964.0   \n",
       "8506  038CDB895  INT C  MORGAN STANLEY & CO 2018-07-13         0.0   \n",
       "8507  038CDB895  INT C  MORGAN STANLEY & CO 2018-07-13         0.0   \n",
       "8508  038CDB895  INT C  MORGAN STANLEY & CO 2018-07-13      -300.0   \n",
       "8509  038CDB895  INT C  MORGAN STANLEY & CO 2018-07-13         0.0   \n",
       "8510  038CDB895  INT C  MORGAN STANLEY & CO 2018-07-13   -420431.0   \n",
       "8511  038CDB895  INT C  MORGAN STANLEY & CO 2018-07-13         0.0   \n",
       "8512  038CDB895  INT C  MORGAN STANLEY & CO 2018-07-13         0.0   \n",
       "8513  038CDB895  INT C  MORGAN STANLEY & CO 2018-07-13   -170659.0   \n",
       "8514  038CDB895  INT C  MORGAN STANLEY & CO 2018-07-13         0.0   \n",
       "8515  038CDB895  INT C  MORGAN STANLEY & CO 2018-07-13         0.0   \n",
       "8516  038CDB895  INT C  MORGAN STANLEY & CO 2018-07-13   -567700.0   \n",
       "8517  038CDB895  INT C  MORGAN STANLEY & CO 2018-07-13     -7710.0   \n",
       "8518  038CDB895  INT C  MORGAN STANLEY & CO 2018-07-13     -9609.0   \n",
       "8519  038CDB895  INT C  MORGAN STANLEY & CO 2018-07-13    -11342.0   \n",
       "\n",
       "                               book    ticker          isin      cusip  \\\n",
       "0            13F_CONS_N_CYCL.CAYMAN   RDUS US  US7504692077  750469207   \n",
       "1               MEX_ISSUANCE.CAYMAN   BSMX US  US05969B1035  05969B103   \n",
       "2              13F_CONS_CYCL.CAYMAN   SBUX US  US8552441094  855244109   \n",
       "3     XG_PORTFOLIO_ ABS_GLOBAL_EQ_M    SPY US  US78462F1030  78462F103   \n",
       "4               FACILITACION.CAYMAN    CIB US  US05968L1026  05968L102   \n",
       "5             MEX_DIRECIONAL.CAYMAN   BSMX US  US05969B1035  05969B103   \n",
       "6               LS_OMA & GAP X ASUR    EWW US  US4642868222  464286822   \n",
       "7                 13F_HEALTH.CAYMAN    MYL US  NL0011031208  628530107   \n",
       "8               HF_OMA & GAP X ASUR    EWW US  US4642868222  464286822   \n",
       "9             MEX_DIRECIONAL.CAYMAN    AMX US  US02364W1053  02364W105   \n",
       "10                     FLOW_BZ_IBOV    SPY US  US78462F1030  78462F103   \n",
       "11     SICAV LATAM HEDGE.CAYMAN_UBS    ECH US  US4642866408  464286640   \n",
       "12     SICAV LATAM HEDGE.CAYMAN_UBS    EWZ US  US4642864007  464286400   \n",
       "13            MEX_DIRECIONAL.CAYMAN    ASR US  US40051E2028  40051E202   \n",
       "14     SICAV LATAM HEDGE.CAYMAN_UBS    EWW US  US4642868222  464286822   \n",
       "15             LATAM_TELECOM.CAYMAN   AMXL MM  MXP001691213        NaN   \n",
       "16                    MA_IOC.CAYMAN    XOM US  US30231G1022  30231G102   \n",
       "17              SYST TECH US.CAYMAN    WBA US  US9314271084  931427108   \n",
       "18              MEX_ISSUANCE.CAYMAN    AMX US  US02364W1053  02364W105   \n",
       "19                          BOV_EWZ    EWZ US  US4642864007  464286400   \n",
       "20           LATAM_UTILITIES.CAYMAN    CNE CN  CA1348082035  134808203   \n",
       "21            MEX_DIRECIONAL.CAYMAN     RA MM  MX01R0000006        NaN   \n",
       "22                13F_HEALTH.CAYMAN   TSRO US  US8815691071  881569107   \n",
       "23                  EV_BANKS.CAYMAN   PAGS US  KYG687071012        NaN   \n",
       "24                QTS_EUROPA.CAYMAN    SAN SM  ES0113900J37        NaN   \n",
       "25                           MA_KMI    KMI US  US49456B1017  49456B101   \n",
       "26                  13F_INDU.CAYMAN    AAL US  US02376R1023  02376R102   \n",
       "27                     HF_GLOBAL CO    KHC US  US5007541064  500754106   \n",
       "28                LS_GLOBAL CO_INTG    KHC US  US5007541064  500754106   \n",
       "29                    CO_ARB.CAYMAN    CNE CN  CA1348082035  134808203   \n",
       "...                             ...       ...           ...        ...   \n",
       "8490                  ACOES_US_INTC    VIV US  US87936R1068  87936R106   \n",
       "8491                  ACOES_US_INTC  PBR/A US  US71654V1017  71654V101   \n",
       "8492              ACOES_US_BRL_INTC  PBR/A US  US71654V1017  71654V101   \n",
       "8493              LOCAL_ADR_MR.INTC   BSBR US  US05967A1079  05967A107   \n",
       "8494           ACOES_OFFSHORE_.INTC   BSBR US  US05967A1079  05967A107   \n",
       "8495             LOCAL_ADR_INTC_OLD  PBR/A US  US71654V1017  71654V101   \n",
       "8496                  ACOES_US_INTC    SID US  US20440W1053  20440W105   \n",
       "8497             LOCAL_ADR_INTC_OLD   VALE US  US91912E1055  91912E105   \n",
       "8498                 LOCAL_ADR_INTC   BSBR US  US05967A1079  05967A107   \n",
       "8499              LOCAL_ADR_MR.INTC  PBR/A US  US71654V1017  71654V101   \n",
       "8500             LOCAL_ADR_INTC_OLD    PBR US  US71654V4086  71654V408   \n",
       "8501             LOCAL_ADR_INTC_OLD    VIV US  US87936R1068  87936R106   \n",
       "8502             LOCAL_ADR_INTC_OLD    EBR US  US15234Q2075  15234Q207   \n",
       "8503           ACOES_OFFSHORE_.INTC    PBR US  US71654V4086  71654V408   \n",
       "8504           ACOES_OFFSHORE_.INTC   VALE US  US91912E1055  91912E105   \n",
       "8505                 LOCAL_ADR_INTC    EBR US  US15234Q2075  15234Q207   \n",
       "8506           ACOES_OFFSHORE_.INTC    EBR US  US15234Q2075  15234Q207   \n",
       "8507             LOCAL_ADR_INTC_OLD   BSBR US  US05967A1079  05967A107   \n",
       "8508                 LOCAL_ADR_INTC    SID US  US20440W1053  20440W105   \n",
       "8509            INTRADAY_PAIRS.INTC    PBR US  US71654V4086  71654V408   \n",
       "8510              LOCAL_ADR_MR.INTC   VALE US  US91912E1055  91912E105   \n",
       "8511            INTRADAY_PAIRS.INTC  PBR/A US  US71654V1017  71654V101   \n",
       "8512              LOCAL_ADR_MR.INTC    VIV US  US87936R1068  87936R106   \n",
       "8513              LOCAL_ADR_MR.INTC    PBR US  US71654V4086  71654V408   \n",
       "8514           ACOES_OFFSHORE_.INTC  PBR/A US  US71654V1017  71654V101   \n",
       "8515              LOCAL_ADR_MR.INTC   BRFS US  US10552T1079  10552T107   \n",
       "8516           ACOES_OFFSHORE_.INTC    FMG AU  AU000000FMG4          .   \n",
       "8517                 LOCAL_ADR_INTC    VIV US  US87936R1068  87936R106   \n",
       "8518                 LOCAL_ADR_INTC    PBR US  US71654V4086  71654V408   \n",
       "8519            INTRADAY_PAIRS.INTC   VALE US  US91912E1055  91912E105   \n",
       "\n",
       "        sedol currency month  year         acc  \n",
       "0     BM68KK1      USD   jul  2018   ms_cayman  \n",
       "1     BF1FXN2      USD   jul  2018   ms_cayman  \n",
       "2     2842255      USD   jul  2018   ms_cayman  \n",
       "3     2840215      USD   jul  2018  ubs_cayman  \n",
       "4     BJ62LW1      USD   jul  2018   ms_cayman  \n",
       "5     BF1FXN2      USD   jul  2018   ms_cayman  \n",
       "6     2373818      USD   jul  2018  ubs_cayman  \n",
       "7     BVFMFG8      USD   jul  2018   ms_cayman  \n",
       "8     2373818      USD   jul  2018  ubs_cayman  \n",
       "9     2667470      USD   jul  2018   ms_cayman  \n",
       "10    2840215      USD   jul  2018   ms_cayman  \n",
       "11    B29FC81      USD   jul  2018  ubs_cayman  \n",
       "12    2726014      USD   jul  2018  ubs_cayman  \n",
       "13    2639349      USD   jul  2018   ms_cayman  \n",
       "14    2373818      USD   jul  2018  ubs_cayman  \n",
       "15    2667470      MXN   jul  2018   ms_cayman  \n",
       "16    2326618      USD   jul  2018   ms_cayman  \n",
       "17    BTN1Y44      USD   jul  2018   ms_cayman  \n",
       "18    2667470      USD   jul  2018   ms_cayman  \n",
       "19    2726014      USD   jul  2018  ubs_cayman  \n",
       "20    B97DSV1      CAD   jul  2018   ms_cayman  \n",
       "21    BG1Z6X0      MXN   jul  2018   ms_cayman  \n",
       "22    B8BJ9G0      USD   jul  2018   ms_cayman  \n",
       "23    BFWK4R7      USD   jul  2018   ms_cayman  \n",
       "24    5705946      EUR   jul  2018   ms_cayman  \n",
       "25    B3NQ4P8      USD   jul  2018   ms_cayman  \n",
       "26    BCV7KT2      USD   jul  2018   ms_cayman  \n",
       "27    BYRY499      USD   jul  2018  ubs_cayman  \n",
       "28    BYRY499      USD   jul  2018  ubs_cayman  \n",
       "29    B97DSV1      CAD   jul  2018   ms_cayman  \n",
       "...       ...      ...   ...   ...         ...  \n",
       "8490      NaN      USD   jul  2018       int_c  \n",
       "8491      NaN      USD   jul  2018       int_c  \n",
       "8492      NaN      USD   jul  2018       int_c  \n",
       "8493      NaN      USD   jul  2018       int_c  \n",
       "8494      NaN      USD   jul  2018       int_c  \n",
       "8495      NaN      USD   jul  2018       int_c  \n",
       "8496      NaN      USD   jul  2018       int_c  \n",
       "8497      NaN      USD   jul  2018       int_c  \n",
       "8498      NaN      USD   jul  2018       int_c  \n",
       "8499      NaN      USD   jul  2018       int_c  \n",
       "8500      NaN      USD   jul  2018       int_c  \n",
       "8501      NaN      USD   jul  2018       int_c  \n",
       "8502      NaN      USD   jul  2018       int_c  \n",
       "8503      NaN      USD   jul  2018       int_c  \n",
       "8504      NaN      USD   jul  2018       int_c  \n",
       "8505      NaN      USD   jul  2018       int_c  \n",
       "8506      NaN      USD   jul  2018       int_c  \n",
       "8507      NaN      USD   jul  2018       int_c  \n",
       "8508      NaN      USD   jul  2018       int_c  \n",
       "8509      NaN      USD   jul  2018       int_c  \n",
       "8510      NaN      USD   jul  2018       int_c  \n",
       "8511      NaN      USD   jul  2018       int_c  \n",
       "8512      NaN      USD   jul  2018       int_c  \n",
       "8513      NaN      USD   jul  2018       int_c  \n",
       "8514      NaN      USD   jul  2018       int_c  \n",
       "8515      NaN      USD   jul  2018       int_c  \n",
       "8516  6086253      AUD   jul  2018       int_c  \n",
       "8517      NaN      USD   jul  2018       int_c  \n",
       "8518      NaN      USD   jul  2018       int_c  \n",
       "8519      NaN      USD   jul  2018       int_c  \n",
       "\n",
       "[8520 rows x 14 columns]"
      ]
     },
     "execution_count": 33,
     "metadata": {},
     "output_type": "execute_result"
    }
   ],
   "source": [
    "calypso"
   ]
  },
  {
   "cell_type": "code",
   "execution_count": null,
   "metadata": {
    "collapsed": true
   },
   "outputs": [],
   "source": []
  },
  {
   "cell_type": "markdown",
   "metadata": {},
   "source": [
    "# Batimento mensal"
   ]
  },
  {
   "cell_type": "markdown",
   "metadata": {},
   "source": [
    "#### Bate os arquivos do calypso contra o pb para ver se todos os que estão no calypso estão no pb"
   ]
  },
  {
   "cell_type": "code",
   "execution_count": 34,
   "metadata": {
    "collapsed": false
   },
   "outputs": [],
   "source": [
    "calypso_month = calypso.drop(['book', 'isin', 'cusip', 'month', 'year'], axis=1).reset_index(drop=True).copy()\n",
    "pb_month = pb.drop(['month', 'year'], axis=1).reset_index(drop=True).copy()\n",
    "pb_month['acc'] = pb_month['conta'].map(dict_contas)"
   ]
  },
  {
   "cell_type": "code",
   "execution_count": 35,
   "metadata": {
    "collapsed": false,
    "scrolled": true
   },
   "outputs": [],
   "source": [
    "dias_calypso = calypso_month[['acc', 'data_ref']].copy()\n",
    "dias_calypso['tipo'] = 'calypso'\n",
    "dias_pb = pb_month[['acc', 'data_ref']].copy()\n",
    "dias_pb['tipo'] = 'pb'\n",
    "dias_ok = pd.concat([dias_calypso, dias_pb], axis=0)\n",
    "dias_ok['check'] = 1\n",
    "pvt = pd.pivot_table(dias_ok, values=['check'],\n",
    "                     index='data_ref', columns=['tipo','acc'])"
   ]
  },
  {
   "cell_type": "code",
   "execution_count": 36,
   "metadata": {
    "collapsed": false,
    "scrolled": true
   },
   "outputs": [
    {
     "data": {
      "text/html": [
       "<div>\n",
       "<table border=\"1\" class=\"dataframe\">\n",
       "  <thead>\n",
       "    <tr>\n",
       "      <th></th>\n",
       "      <th colspan=\"6\" halign=\"left\">check</th>\n",
       "    </tr>\n",
       "    <tr>\n",
       "      <th>tipo</th>\n",
       "      <th colspan=\"3\" halign=\"left\">calypso</th>\n",
       "      <th colspan=\"3\" halign=\"left\">pb</th>\n",
       "    </tr>\n",
       "    <tr>\n",
       "      <th>acc</th>\n",
       "      <th>int_c</th>\n",
       "      <th>ms_cayman</th>\n",
       "      <th>ubs_cayman</th>\n",
       "      <th>int_c</th>\n",
       "      <th>ms_cayman</th>\n",
       "      <th>ubs_cayman</th>\n",
       "    </tr>\n",
       "    <tr>\n",
       "      <th>data_ref</th>\n",
       "      <th></th>\n",
       "      <th></th>\n",
       "      <th></th>\n",
       "      <th></th>\n",
       "      <th></th>\n",
       "      <th></th>\n",
       "    </tr>\n",
       "  </thead>\n",
       "  <tbody>\n",
       "    <tr>\n",
       "      <th>2018-07-02</th>\n",
       "      <td>1</td>\n",
       "      <td>1</td>\n",
       "      <td>1</td>\n",
       "      <td>1</td>\n",
       "      <td>1</td>\n",
       "      <td>1</td>\n",
       "    </tr>\n",
       "    <tr>\n",
       "      <th>2018-07-03</th>\n",
       "      <td>1</td>\n",
       "      <td>1</td>\n",
       "      <td>1</td>\n",
       "      <td>1</td>\n",
       "      <td>1</td>\n",
       "      <td>1</td>\n",
       "    </tr>\n",
       "    <tr>\n",
       "      <th>2018-07-04</th>\n",
       "      <td>1</td>\n",
       "      <td>1</td>\n",
       "      <td>1</td>\n",
       "      <td>1</td>\n",
       "      <td>1</td>\n",
       "      <td>1</td>\n",
       "    </tr>\n",
       "    <tr>\n",
       "      <th>2018-07-05</th>\n",
       "      <td>1</td>\n",
       "      <td>1</td>\n",
       "      <td>1</td>\n",
       "      <td>1</td>\n",
       "      <td>1</td>\n",
       "      <td>1</td>\n",
       "    </tr>\n",
       "    <tr>\n",
       "      <th>2018-07-06</th>\n",
       "      <td>1</td>\n",
       "      <td>1</td>\n",
       "      <td>1</td>\n",
       "      <td>1</td>\n",
       "      <td>1</td>\n",
       "      <td>1</td>\n",
       "    </tr>\n",
       "    <tr>\n",
       "      <th>2018-07-09</th>\n",
       "      <td>1</td>\n",
       "      <td>1</td>\n",
       "      <td>1</td>\n",
       "      <td>1</td>\n",
       "      <td>1</td>\n",
       "      <td>1</td>\n",
       "    </tr>\n",
       "    <tr>\n",
       "      <th>2018-07-10</th>\n",
       "      <td>1</td>\n",
       "      <td>1</td>\n",
       "      <td>1</td>\n",
       "      <td>1</td>\n",
       "      <td>1</td>\n",
       "      <td>1</td>\n",
       "    </tr>\n",
       "    <tr>\n",
       "      <th>2018-07-11</th>\n",
       "      <td>1</td>\n",
       "      <td>1</td>\n",
       "      <td>1</td>\n",
       "      <td>1</td>\n",
       "      <td>1</td>\n",
       "      <td>1</td>\n",
       "    </tr>\n",
       "    <tr>\n",
       "      <th>2018-07-12</th>\n",
       "      <td>1</td>\n",
       "      <td>1</td>\n",
       "      <td>1</td>\n",
       "      <td>1</td>\n",
       "      <td>1</td>\n",
       "      <td>1</td>\n",
       "    </tr>\n",
       "    <tr>\n",
       "      <th>2018-07-13</th>\n",
       "      <td>1</td>\n",
       "      <td>1</td>\n",
       "      <td>1</td>\n",
       "      <td>1</td>\n",
       "      <td>1</td>\n",
       "      <td>1</td>\n",
       "    </tr>\n",
       "    <tr>\n",
       "      <th>2018-07-16</th>\n",
       "      <td>1</td>\n",
       "      <td>1</td>\n",
       "      <td>1</td>\n",
       "      <td>1</td>\n",
       "      <td>1</td>\n",
       "      <td>1</td>\n",
       "    </tr>\n",
       "    <tr>\n",
       "      <th>2018-07-17</th>\n",
       "      <td>1</td>\n",
       "      <td>1</td>\n",
       "      <td>1</td>\n",
       "      <td>1</td>\n",
       "      <td>1</td>\n",
       "      <td>1</td>\n",
       "    </tr>\n",
       "    <tr>\n",
       "      <th>2018-07-18</th>\n",
       "      <td>1</td>\n",
       "      <td>1</td>\n",
       "      <td>1</td>\n",
       "      <td>1</td>\n",
       "      <td>1</td>\n",
       "      <td>1</td>\n",
       "    </tr>\n",
       "    <tr>\n",
       "      <th>2018-07-19</th>\n",
       "      <td>1</td>\n",
       "      <td>1</td>\n",
       "      <td>1</td>\n",
       "      <td>1</td>\n",
       "      <td>1</td>\n",
       "      <td>1</td>\n",
       "    </tr>\n",
       "    <tr>\n",
       "      <th>2018-07-20</th>\n",
       "      <td>1</td>\n",
       "      <td>1</td>\n",
       "      <td>1</td>\n",
       "      <td>1</td>\n",
       "      <td>1</td>\n",
       "      <td>1</td>\n",
       "    </tr>\n",
       "    <tr>\n",
       "      <th>2018-07-23</th>\n",
       "      <td>1</td>\n",
       "      <td>1</td>\n",
       "      <td>1</td>\n",
       "      <td>1</td>\n",
       "      <td>1</td>\n",
       "      <td>1</td>\n",
       "    </tr>\n",
       "    <tr>\n",
       "      <th>2018-07-24</th>\n",
       "      <td>1</td>\n",
       "      <td>1</td>\n",
       "      <td>1</td>\n",
       "      <td>1</td>\n",
       "      <td>1</td>\n",
       "      <td>1</td>\n",
       "    </tr>\n",
       "    <tr>\n",
       "      <th>2018-07-25</th>\n",
       "      <td>1</td>\n",
       "      <td>1</td>\n",
       "      <td>1</td>\n",
       "      <td>1</td>\n",
       "      <td>1</td>\n",
       "      <td>1</td>\n",
       "    </tr>\n",
       "    <tr>\n",
       "      <th>2018-07-26</th>\n",
       "      <td>1</td>\n",
       "      <td>1</td>\n",
       "      <td>1</td>\n",
       "      <td>1</td>\n",
       "      <td>1</td>\n",
       "      <td>1</td>\n",
       "    </tr>\n",
       "    <tr>\n",
       "      <th>2018-07-27</th>\n",
       "      <td>1</td>\n",
       "      <td>1</td>\n",
       "      <td>1</td>\n",
       "      <td>1</td>\n",
       "      <td>1</td>\n",
       "      <td>1</td>\n",
       "    </tr>\n",
       "    <tr>\n",
       "      <th>2018-07-30</th>\n",
       "      <td>1</td>\n",
       "      <td>1</td>\n",
       "      <td>1</td>\n",
       "      <td>1</td>\n",
       "      <td>1</td>\n",
       "      <td>1</td>\n",
       "    </tr>\n",
       "    <tr>\n",
       "      <th>2018-07-31</th>\n",
       "      <td>1</td>\n",
       "      <td>1</td>\n",
       "      <td>1</td>\n",
       "      <td>1</td>\n",
       "      <td>1</td>\n",
       "      <td>1</td>\n",
       "    </tr>\n",
       "  </tbody>\n",
       "</table>\n",
       "</div>"
      ],
      "text/plain": [
       "             check                                                \n",
       "tipo       calypso                         pb                     \n",
       "acc          int_c ms_cayman ubs_cayman int_c ms_cayman ubs_cayman\n",
       "data_ref                                                          \n",
       "2018-07-02       1         1          1     1         1          1\n",
       "2018-07-03       1         1          1     1         1          1\n",
       "2018-07-04       1         1          1     1         1          1\n",
       "2018-07-05       1         1          1     1         1          1\n",
       "2018-07-06       1         1          1     1         1          1\n",
       "2018-07-09       1         1          1     1         1          1\n",
       "2018-07-10       1         1          1     1         1          1\n",
       "2018-07-11       1         1          1     1         1          1\n",
       "2018-07-12       1         1          1     1         1          1\n",
       "2018-07-13       1         1          1     1         1          1\n",
       "2018-07-16       1         1          1     1         1          1\n",
       "2018-07-17       1         1          1     1         1          1\n",
       "2018-07-18       1         1          1     1         1          1\n",
       "2018-07-19       1         1          1     1         1          1\n",
       "2018-07-20       1         1          1     1         1          1\n",
       "2018-07-23       1         1          1     1         1          1\n",
       "2018-07-24       1         1          1     1         1          1\n",
       "2018-07-25       1         1          1     1         1          1\n",
       "2018-07-26       1         1          1     1         1          1\n",
       "2018-07-27       1         1          1     1         1          1\n",
       "2018-07-30       1         1          1     1         1          1\n",
       "2018-07-31       1         1          1     1         1          1"
      ]
     },
     "execution_count": 36,
     "metadata": {},
     "output_type": "execute_result"
    }
   ],
   "source": [
    "pvt"
   ]
  },
  {
   "cell_type": "code",
   "execution_count": null,
   "metadata": {
    "collapsed": true
   },
   "outputs": [],
   "source": []
  },
  {
   "cell_type": "code",
   "execution_count": 37,
   "metadata": {
    "collapsed": true
   },
   "outputs": [],
   "source": [
    "#Agrupa as informações que estão no calypso eliminando books. Junta em conta_pb, agent, data_ref, ticker e currency\n",
    "calypso_batimento = calypso_month.groupby(by=['conta_pb','agent','data_ref','ticker','currency']).sum().copy().reset_index()\n",
    "calypso_batimento['acc'] = calypso_batimento['conta_pb'].map(dict_contas)\n",
    "calypso_batimento = calypso_batimento[calypso_batimento['quantidade']<0].reset_index(drop=True)\n",
    "calypso_batimento = calypso_batimento.groupby(by=['acc','data_ref', 'ticker','currency']).sum().reset_index()  \n",
    "#é somente um indice para poder checar quais informações do calypso não passaram pelo filtro da PB\n",
    "calypso_batimento['id'] = range(1, calypso_batimento.shape[0] +1)\n",
    "pb_month = pb_month.groupby(by=['acc','data_ref','ticker','currency']).sum().reset_index()"
   ]
  },
  {
   "cell_type": "code",
   "execution_count": null,
   "metadata": {
    "collapsed": true
   },
   "outputs": [],
   "source": []
  },
  {
   "cell_type": "code",
   "execution_count": 38,
   "metadata": {
    "collapsed": true
   },
   "outputs": [],
   "source": [
    "calypso_bate_pb = pd.merge(pb_month, calypso_batimento, on=['acc','data_ref','ticker','currency'],  how='left')"
   ]
  },
  {
   "cell_type": "code",
   "execution_count": 39,
   "metadata": {
    "collapsed": false,
    "scrolled": true
   },
   "outputs": [
    {
     "data": {
      "text/plain": [
       "303          CNE CN\n",
       "325       FOUREC FR\n",
       "1745          CA FP\n",
       "3530         AHT LN\n",
       "3857        BSBR US\n",
       "3860         BVN US\n",
       "3868        EOCC US\n",
       "3873    GFINBURO MM\n",
       "3892         VCO US\n",
       "4004          DG US\n",
       "4065        ITCB US\n",
       "4147         CPB US\n",
       "4321         LTM US\n",
       "4442        ATVI US\n",
       "4823        COHU US\n",
       "4837        GRAM US\n",
       "4890          FB US\n",
       "4915         SQM US\n",
       "4918         UAA US\n",
       "4975         TPX US\n",
       "Name: ticker, dtype: object"
      ]
     },
     "execution_count": 39,
     "metadata": {},
     "output_type": "execute_result"
    }
   ],
   "source": [
    "calypso_bate_pb[calypso_bate_pb['quantidade'].isnull()==True].ticker.drop_duplicates()"
   ]
  },
  {
   "cell_type": "code",
   "execution_count": null,
   "metadata": {
    "collapsed": true
   },
   "outputs": [],
   "source": []
  },
  {
   "cell_type": "code",
   "execution_count": null,
   "metadata": {
    "collapsed": true
   },
   "outputs": [],
   "source": []
  },
  {
   "cell_type": "code",
   "execution_count": null,
   "metadata": {
    "collapsed": true
   },
   "outputs": [],
   "source": []
  },
  {
   "cell_type": "code",
   "execution_count": null,
   "metadata": {
    "collapsed": true
   },
   "outputs": [],
   "source": []
  },
  {
   "cell_type": "code",
   "execution_count": 40,
   "metadata": {
    "collapsed": false
   },
   "outputs": [],
   "source": [
    "check_2 = calypso_bate_pb.shape[0]-pb_month.shape[0]\n",
    "if check_2!=0:\n",
    "    print ('%s linhas foram duplicadas durante o merge. Favor verificar se houve algo de errado' %check_2)"
   ]
  },
  {
   "cell_type": "code",
   "execution_count": null,
   "metadata": {
    "collapsed": true
   },
   "outputs": [],
   "source": []
  },
  {
   "cell_type": "code",
   "execution_count": 41,
   "metadata": {
    "collapsed": false,
    "scrolled": true
   },
   "outputs": [],
   "source": [
    "# Sobra de destino são os tickers que estavam no pb, mas não tinham correspondência no Calypso\n",
    "sobra_destino = calypso_bate_pb[(calypso_bate_pb['quantidade'].isnull()==True)&(calypso_bate_pb['accrual']!=0)]"
   ]
  },
  {
   "cell_type": "code",
   "execution_count": 42,
   "metadata": {
    "collapsed": true
   },
   "outputs": [],
   "source": [
    "calypso_bate_pb = calypso_bate_pb[calypso_bate_pb['quantidade'].isnull()==False]"
   ]
  },
  {
   "cell_type": "code",
   "execution_count": 43,
   "metadata": {
    "collapsed": true
   },
   "outputs": [],
   "source": [
    "# Sobra de origem são os tickers que estavam no Calypso, mas não tinham correspondência no pb\n",
    "sobra_origem = calypso_batimento[~calypso_batimento['id'].isin(calypso_bate_pb['id'].dropna().drop_duplicates())]"
   ]
  },
  {
   "cell_type": "code",
   "execution_count": 44,
   "metadata": {
    "collapsed": false
   },
   "outputs": [
    {
     "name": "stdout",
     "output_type": "stream",
     "text": [
      "4.576475311120031 pct dos trades estão no prime broker, mas não acharam correspondência no Calypso\n",
      "0.7101086048454469 pct dos trades foram achados no calypso, mas não têm correspondência no prime broker\n"
     ]
    }
   ],
   "source": [
    "pct_in_pb_not_in_calypso = (1-calypso_bate_pb.shape[0]/pb_month.shape[0])*100\n",
    "pct_in_calypso_not_in_pb=calypso_batimento[~calypso_batimento['id'].isin(calypso_bate_pb['id'].dropna().drop_duplicates())].shape[0]/\\\n",
    "                                calypso_batimento.shape[0]*100 \n",
    "texto_1 = '%s pct dos trades estão no prime broker, mas não acharam correspondência no Calypso' % pct_in_pb_not_in_calypso\n",
    "texto_2 = '%s pct dos trades foram achados no calypso, mas não têm correspondência no prime broker' % pct_in_calypso_not_in_pb\n",
    "\n",
    "print (texto_1)\n",
    "print(texto_2)"
   ]
  },
  {
   "cell_type": "code",
   "execution_count": 45,
   "metadata": {
    "collapsed": false
   },
   "outputs": [],
   "source": [
    "batido = calypso_bate_pb[calypso_bate_pb['qt']==calypso_bate_pb['quantidade']].copy()\n",
    "batido['status']='batido'\n",
    "divergentes = calypso_bate_pb[calypso_bate_pb['qt']!=calypso_bate_pb['quantidade']].copy()\n",
    "corrigidos = divergentes[((divergentes['ticker'].isin(ticker_diffs['ticker']))&(divergentes['acc']!='ubs_cayman'))].copy()\n",
    "corrigidos['status'] = 'corrigido'\n",
    "n_batidos = divergentes[~((divergentes['ticker'].isin(ticker_diffs['ticker']))&(divergentes['acc']!='ubs_cayman'))].copy()\n",
    "n_batidos['status']='n_batido'\n",
    "distribuidos = pd.concat([batido, corrigidos, n_batidos], axis=0)"
   ]
  },
  {
   "cell_type": "code",
   "execution_count": null,
   "metadata": {
    "collapsed": true
   },
   "outputs": [],
   "source": []
  },
  {
   "cell_type": "markdown",
   "metadata": {},
   "source": [
    "### Distribuição por books"
   ]
  },
  {
   "cell_type": "code",
   "execution_count": 46,
   "metadata": {
    "collapsed": false
   },
   "outputs": [],
   "source": [
    "calypso_month_books = calypso.copy()"
   ]
  },
  {
   "cell_type": "code",
   "execution_count": 47,
   "metadata": {
    "collapsed": true
   },
   "outputs": [],
   "source": [
    "calypso_month_books = pd.merge(calypso_month_books, calypso_batimento.drop('id', axis=1), \\\n",
    "                               on=['acc','data_ref','ticker','currency'], how='left').rename(columns={\n",
    "    'quantidade_x':'quantidade_book',\n",
    "    'quantidade_y':'quantidade_ticker'\n",
    "})"
   ]
  },
  {
   "cell_type": "code",
   "execution_count": 48,
   "metadata": {
    "collapsed": false
   },
   "outputs": [],
   "source": [
    "check_3 = calypso_month_books.shape[0]-calypso.shape[0]\n",
    "if check_3 != 0:\n",
    "    print ('%s linhas foram adicionadas durante o merge. Favor verificar quais erros aconteceram.' %check_3)"
   ]
  },
  {
   "cell_type": "code",
   "execution_count": 49,
   "metadata": {
    "collapsed": true
   },
   "outputs": [],
   "source": [
    "calypso_month_books = calypso_month_books[calypso_month_books['quantidade_ticker'].isnull()==False]"
   ]
  },
  {
   "cell_type": "code",
   "execution_count": 50,
   "metadata": {
    "collapsed": false
   },
   "outputs": [],
   "source": [
    "check_4 = calypso_month_books.shape[0]-calypso.shape[0]\n",
    "if check_4 != 0 :\n",
    "    print ('%s trades foram perdidos durante o merge. Favor ferificar quais erros aconteceram.' %check_4)"
   ]
  },
  {
   "cell_type": "code",
   "execution_count": 51,
   "metadata": {
    "collapsed": true
   },
   "outputs": [],
   "source": [
    "# Aqui a gente está adicionando a coluna de Accrual pros trades do calyspo\n",
    "calypso_month_books = pd.merge(calypso_month_books, distribuidos, on=['acc','data_ref','ticker','currency'], how='left')\n",
    "calypso_month_books = calypso_month_books[calypso_month_books['accrual'].isnull()==False]"
   ]
  },
  {
   "cell_type": "code",
   "execution_count": 52,
   "metadata": {
    "collapsed": false,
    "scrolled": false
   },
   "outputs": [
    {
     "name": "stdout",
     "output_type": "stream",
     "text": [
      "-414 trades não foram encontrados durante a distribuição. Eles provavelmente não foram batidos.\n"
     ]
    }
   ],
   "source": [
    "check_5 = calypso_month_books.shape[0]-calypso.shape[0]\n",
    "print ('%s trades não foram encontrados durante a distribuição. Eles provavelmente não foram batidos.' %check_5)"
   ]
  },
  {
   "cell_type": "code",
   "execution_count": 53,
   "metadata": {
    "collapsed": false
   },
   "outputs": [
    {
     "name": "stdout",
     "output_type": "stream",
     "text": [
      "11610 linhas foram retiradas da base por terem quantidade zerada. Ainda restam 6819 linhas de operações.\n",
      "Ajustes na base do calypso estão prontos. Dados estão prontos para serem distribuídos entre os books.\n"
     ]
    }
   ],
   "source": [
    "calypso_month_books = calypso_month_books[calypso_month_books['quantidade_book']!=0]\n",
    "check_6 = calypso.shape[0]-calypso_month_books.shape[0]\n",
    "print ('''%s linhas foram retiradas da base por terem quantidade zerada. Ainda restam %s linhas de operações.\n",
    "Ajustes na base do calypso estão prontos. Dados estão prontos para serem distribuídos entre os books.''' \\\n",
    "                                                                       %(check_6, calypso_month_books.shape[0]))"
   ]
  },
  {
   "cell_type": "code",
   "execution_count": 54,
   "metadata": {
    "collapsed": true
   },
   "outputs": [],
   "source": [
    "por_conta = calypso_month_books.groupby(by=['conta_pb','data_ref','ticker','currency']).sum().reset_index()"
   ]
  },
  {
   "cell_type": "code",
   "execution_count": null,
   "metadata": {
    "collapsed": true
   },
   "outputs": [],
   "source": []
  },
  {
   "cell_type": "code",
   "execution_count": 55,
   "metadata": {
    "collapsed": false,
    "scrolled": true
   },
   "outputs": [],
   "source": [
    "# Juntando a quantidade por sub_account do pb para poder dropar as contas positivas (que estão net doadas)\n",
    "calypso_month_books = pd.merge(calypso_month_books, por_conta.drop(['year', 'qt', 'accrual',\\\n",
    "                                                                   'quantidade', 'id', 'quantidade_ticker'], axis=1), \\\n",
    "                                                       on=['conta_pb','data_ref','ticker','currency'], how='left')\\\n",
    ".rename(columns={\n",
    "    'quantidade_book_x':'quantidade_book',\n",
    "    'quantidade_book_y':'quantidade_conta_pb'\n",
    "})"
   ]
  },
  {
   "cell_type": "code",
   "execution_count": 56,
   "metadata": {
    "collapsed": true
   },
   "outputs": [],
   "source": [
    "calypso_month_books = calypso_month_books[calypso_month_books['quantidade_conta_pb']<0]"
   ]
  },
  {
   "cell_type": "code",
   "execution_count": 57,
   "metadata": {
    "collapsed": false
   },
   "outputs": [
    {
     "name": "stdout",
     "output_type": "stream",
     "text": [
      "Foram feitos os casamentos de trade por sub_account\n"
     ]
    }
   ],
   "source": [
    "calypso_month_books = calypso_month_books[calypso_month_books['accrual'].isnull()==False]\n",
    "print ('Foram feitos os casamentos de trade por sub_account')"
   ]
  },
  {
   "cell_type": "code",
   "execution_count": 58,
   "metadata": {
    "collapsed": false
   },
   "outputs": [],
   "source": [
    "abertura = calypso_month_books[calypso_month_books['id'].isin(distribuidos['id'].drop_duplicates())==True]\n",
    "trades_out_abertura = calypso_month_books[calypso_month_books['id'].isin(distribuidos['id'].drop_duplicates())==False]\n",
    "if trades_out_abertura.shape[0]!=0:\n",
    "    print('ATENÇãO!!! %s trades foram encontrados em ambas as bases, porém não foram distribuídos.'%trades_out_abertura.shape[0])"
   ]
  },
  {
   "cell_type": "code",
   "execution_count": 59,
   "metadata": {
    "collapsed": true
   },
   "outputs": [],
   "source": [
    "abertura = abertura.drop(['isin', 'cusip','month', 'year', 'quantidade', 'id'], axis=1)"
   ]
  },
  {
   "cell_type": "code",
   "execution_count": 60,
   "metadata": {
    "collapsed": false
   },
   "outputs": [],
   "source": [
    "abertura['percent'] = abertura['quantidade_book']/abertura['quantidade_ticker']"
   ]
  },
  {
   "cell_type": "code",
   "execution_count": 61,
   "metadata": {
    "collapsed": false
   },
   "outputs": [],
   "source": [
    "check_7 = abertura.groupby(by=['acc','data_ref','ticker','currency']).sum().reset_index()\n",
    "check_7 = check_7[np.isclose(check_7['percent'], 1)==False].shape[0]\n",
    "if check_7 != 0:\n",
    "    print ('O batimento não foi feito!!! %s contas somam valor diferente a 100\\%')"
   ]
  },
  {
   "cell_type": "code",
   "execution_count": 62,
   "metadata": {
    "collapsed": false
   },
   "outputs": [],
   "source": [
    "abertura['accrual_final'] = abertura['percent']*abertura['accrual']"
   ]
  },
  {
   "cell_type": "code",
   "execution_count": 63,
   "metadata": {
    "collapsed": false
   },
   "outputs": [],
   "source": [
    "abertura = abertura.drop(['conta_pb', 'quantidade_ticker', 'qt', 'accrual','quantidade_conta_pb', \n",
    "                          'percent'], axis=1).reset_index(drop=True)"
   ]
  },
  {
   "cell_type": "code",
   "execution_count": 64,
   "metadata": {
    "collapsed": true
   },
   "outputs": [],
   "source": [
    "# Tickers que estão batidos ou que foram corrigidos. Todos distribuídos\n",
    "abertura_batidos = abertura[abertura['status']!='n_batido']\n",
    "# Tickers que NÃO ESTÃO BATIDOS EM QUANTIDADE, mas que foram distribuídos, pois foram encontrados em ambas as bases\n",
    "abertura_n_batidos = abertura[abertura['status']=='n_batido']"
   ]
  },
  {
   "cell_type": "code",
   "execution_count": null,
   "metadata": {
    "collapsed": true
   },
   "outputs": [],
   "source": []
  },
  {
   "cell_type": "code",
   "execution_count": 65,
   "metadata": {
    "collapsed": true
   },
   "outputs": [],
   "source": [
    "bate_soma = abertura.groupby(by=['acc', 'currency']).sum().reset_index()\n",
    "bate_soma_pb = pb_month.groupby(by=['acc', 'currency']).sum().reset_index()"
   ]
  },
  {
   "cell_type": "code",
   "execution_count": 66,
   "metadata": {
    "collapsed": false,
    "scrolled": true
   },
   "outputs": [],
   "source": [
    "check_8 = pd.merge(bate_soma_pb, bate_soma, on=['acc', 'currency'], how='left').rename(columns={\n",
    "'qt':'quantidade_pb',\n",
    "'accrual':'custos_pb',\n",
    "'quantidade_book':'quantidade_calypso',\n",
    "'accrual_final':'custos_batidos'\n",
    "})\n",
    "check_8['bate_qt'] = check_8['quantidade_pb']-check_8['quantidade_calypso']\n",
    "check_8['bate_custos'] = check_8['custos_pb']-check_8['custos_batidos']\n",
    "check_8['bate_custos_pct'] = check_8['custos_pb']/check_8['custos_batidos']\n",
    "check_8 = check_8[['acc', 'currency', 'quantidade_pb', 'quantidade_calypso', 'bate_qt', 'custos_pb', 'custos_batidos',\n",
    "      'bate_custos', 'bate_custos_pct']]   "
   ]
  },
  {
   "cell_type": "code",
   "execution_count": 67,
   "metadata": {
    "collapsed": false,
    "scrolled": true
   },
   "outputs": [
    {
     "name": "stdout",
     "output_type": "stream",
     "text": [
      "2 contas tiveram diferença maior do que 5pct do valor do prime broker\n"
     ]
    }
   ],
   "source": [
    "check_9 = check_8[(check_8['bate_custos_pct']<0.95)|(check_8['bate_custos_pct']>1.05)].shape[0]\n",
    "if check_9!=0:\n",
    "    print('%s contas tiveram diferença maior do que 5pct do valor do prime broker' %check_9)"
   ]
  },
  {
   "cell_type": "code",
   "execution_count": null,
   "metadata": {
    "collapsed": true
   },
   "outputs": [],
   "source": []
  },
  {
   "cell_type": "code",
   "execution_count": 68,
   "metadata": {
    "collapsed": false
   },
   "outputs": [
    {
     "data": {
      "text/html": [
       "<div>\n",
       "<table border=\"1\" class=\"dataframe\">\n",
       "  <thead>\n",
       "    <tr style=\"text-align: right;\">\n",
       "      <th></th>\n",
       "      <th>acc</th>\n",
       "      <th>currency</th>\n",
       "      <th>custos_pb</th>\n",
       "      <th>custos_batidos</th>\n",
       "      <th>bate_custos</th>\n",
       "      <th>bate_custos_pct</th>\n",
       "    </tr>\n",
       "  </thead>\n",
       "  <tbody>\n",
       "    <tr>\n",
       "      <th>0</th>\n",
       "      <td>int_c</td>\n",
       "      <td>AUD</td>\n",
       "      <td>-2505.06</td>\n",
       "      <td>-2505.06</td>\n",
       "      <td>0.000000e+00</td>\n",
       "      <td>1.000000</td>\n",
       "    </tr>\n",
       "    <tr>\n",
       "      <th>1</th>\n",
       "      <td>int_c</td>\n",
       "      <td>MXN</td>\n",
       "      <td>-233.05</td>\n",
       "      <td>-233.05</td>\n",
       "      <td>0.000000e+00</td>\n",
       "      <td>1.000000</td>\n",
       "    </tr>\n",
       "    <tr>\n",
       "      <th>2</th>\n",
       "      <td>int_c</td>\n",
       "      <td>USD</td>\n",
       "      <td>-22395.92</td>\n",
       "      <td>-22395.92</td>\n",
       "      <td>-2.546585e-11</td>\n",
       "      <td>1.000000</td>\n",
       "    </tr>\n",
       "    <tr>\n",
       "      <th>3</th>\n",
       "      <td>ms_cayman</td>\n",
       "      <td>EUR</td>\n",
       "      <td>-4.18</td>\n",
       "      <td>-3.16</td>\n",
       "      <td>-1.020000e+00</td>\n",
       "      <td>1.322785</td>\n",
       "    </tr>\n",
       "    <tr>\n",
       "      <th>4</th>\n",
       "      <td>ms_cayman</td>\n",
       "      <td>GBP</td>\n",
       "      <td>-2.23</td>\n",
       "      <td>-1.13</td>\n",
       "      <td>-1.100000e+00</td>\n",
       "      <td>1.973451</td>\n",
       "    </tr>\n",
       "    <tr>\n",
       "      <th>5</th>\n",
       "      <td>ms_cayman</td>\n",
       "      <td>MXN</td>\n",
       "      <td>-1749425.17</td>\n",
       "      <td>-1749425.17</td>\n",
       "      <td>4.656613e-10</td>\n",
       "      <td>1.000000</td>\n",
       "    </tr>\n",
       "    <tr>\n",
       "      <th>6</th>\n",
       "      <td>ms_cayman</td>\n",
       "      <td>USD</td>\n",
       "      <td>-145618.07</td>\n",
       "      <td>-145095.50</td>\n",
       "      <td>-5.225700e+02</td>\n",
       "      <td>1.003602</td>\n",
       "    </tr>\n",
       "    <tr>\n",
       "      <th>7</th>\n",
       "      <td>ubs_cayman</td>\n",
       "      <td>MXN</td>\n",
       "      <td>-962694.27</td>\n",
       "      <td>-962694.27</td>\n",
       "      <td>0.000000e+00</td>\n",
       "      <td>1.000000</td>\n",
       "    </tr>\n",
       "    <tr>\n",
       "      <th>8</th>\n",
       "      <td>ubs_cayman</td>\n",
       "      <td>USD</td>\n",
       "      <td>-39127.26</td>\n",
       "      <td>-39148.18</td>\n",
       "      <td>2.092000e+01</td>\n",
       "      <td>0.999466</td>\n",
       "    </tr>\n",
       "  </tbody>\n",
       "</table>\n",
       "</div>"
      ],
      "text/plain": [
       "          acc currency   custos_pb  custos_batidos   bate_custos  \\\n",
       "0       int_c      AUD    -2505.06        -2505.06  0.000000e+00   \n",
       "1       int_c      MXN     -233.05         -233.05  0.000000e+00   \n",
       "2       int_c      USD   -22395.92       -22395.92 -2.546585e-11   \n",
       "3   ms_cayman      EUR       -4.18           -3.16 -1.020000e+00   \n",
       "4   ms_cayman      GBP       -2.23           -1.13 -1.100000e+00   \n",
       "5   ms_cayman      MXN -1749425.17     -1749425.17  4.656613e-10   \n",
       "6   ms_cayman      USD  -145618.07      -145095.50 -5.225700e+02   \n",
       "7  ubs_cayman      MXN  -962694.27      -962694.27  0.000000e+00   \n",
       "8  ubs_cayman      USD   -39127.26       -39148.18  2.092000e+01   \n",
       "\n",
       "   bate_custos_pct  \n",
       "0         1.000000  \n",
       "1         1.000000  \n",
       "2         1.000000  \n",
       "3         1.322785  \n",
       "4         1.973451  \n",
       "5         1.000000  \n",
       "6         1.003602  \n",
       "7         1.000000  \n",
       "8         0.999466  "
      ]
     },
     "execution_count": 68,
     "metadata": {},
     "output_type": "execute_result"
    }
   ],
   "source": [
    "check_8.drop(['quantidade_pb','quantidade_calypso','bate_qt'],axis=1)"
   ]
  },
  {
   "cell_type": "code",
   "execution_count": null,
   "metadata": {
    "collapsed": true
   },
   "outputs": [],
   "source": []
  },
  {
   "cell_type": "code",
   "execution_count": 69,
   "metadata": {
    "collapsed": false
   },
   "outputs": [
    {
     "data": {
      "text/plain": [
       "\"info_emails = pd.DataFrame({\\n    'acc':['ms_cayman','ms_cayman','ms_cayman','ubs_cayman','ubs_cayman', 'int_c','int_c'],\\n    'currency':['USD','GBP','MXN','USD','MXN','AUD','USD'],\\n    'accrual_final':[-193547.92, -1.23, -410018.67,-32656.22,-747445.48,-2290.07,-2600.76]\\n})\""
      ]
     },
     "execution_count": 69,
     "metadata": {},
     "output_type": "execute_result"
    }
   ],
   "source": [
    "# Custos finais mês de março\n",
    "'''info_emails = pd.DataFrame({\n",
    "    'acc':['ms_cayman','ms_cayman','ms_cayman','ubs_cayman','ubs_cayman', 'int_c','int_c'],\n",
    "    'currency':['USD','GBP','MXN','USD','MXN','AUD','USD'],\n",
    "    'accrual_final':[-193547.92, -1.23, -410018.67,-32656.22,-747445.48,-2290.07,-2600.76]\n",
    "})'''"
   ]
  },
  {
   "cell_type": "code",
   "execution_count": 70,
   "metadata": {
    "collapsed": false
   },
   "outputs": [
    {
     "data": {
      "text/plain": [
       "\"info_emails = pd.DataFrame({\\n    'acc':['ms_cayman','ms_cayman','ms_cayman','ubs_cayman', 'int_c','int_c','int_c'],\\n    'currency':['USD','GBP','MXN','MXN','AUD','USD','MXN'],\\n    'accrual_final':[-152710.77,-1.07,-999326.27,-721247.90,-2492.32,-9901.02,-1482.73]\\n})\""
      ]
     },
     "execution_count": 70,
     "metadata": {},
     "output_type": "execute_result"
    }
   ],
   "source": [
    "# Custos finais mês de abril\n",
    "'''info_emails = pd.DataFrame({\n",
    "    'acc':['ms_cayman','ms_cayman','ms_cayman','ubs_cayman', 'int_c','int_c','int_c'],\n",
    "    'currency':['USD','GBP','MXN','MXN','AUD','USD','MXN'],\n",
    "    'accrual_final':[-152710.77,-1.07,-999326.27,-721247.90,-2492.32,-9901.02,-1482.73]\n",
    "})'''"
   ]
  },
  {
   "cell_type": "code",
   "execution_count": 71,
   "metadata": {
    "collapsed": false
   },
   "outputs": [
    {
     "data": {
      "text/plain": [
       "\"info_emails = pd.DataFrame({\\n    'acc':['ms_cayman','ms_cayman','ms_cayman','ms_cayman','ubs_cayman', 'int_c','int_c','int_c'],\\n    'currency':['USD','EUR','GBP','MXN','MXN','AUD','USD','MXN'],\\n    'accrual_final':[-149037.61,-467.13,-1.16,-982264.52,-1037265.09,-2797.75,-20443.32,-1663.57]\\n})\""
      ]
     },
     "execution_count": 71,
     "metadata": {},
     "output_type": "execute_result"
    }
   ],
   "source": [
    "# Custos finais mês de maio\n",
    "'''info_emails = pd.DataFrame({\n",
    "    'acc':['ms_cayman','ms_cayman','ms_cayman','ms_cayman','ubs_cayman', 'int_c','int_c','int_c'],\n",
    "    'currency':['USD','EUR','GBP','MXN','MXN','AUD','USD','MXN'],\n",
    "    'accrual_final':[-149037.61,-467.13,-1.16,-982264.52,-1037265.09,-2797.75,-20443.32,-1663.57]\n",
    "})'''"
   ]
  },
  {
   "cell_type": "code",
   "execution_count": 72,
   "metadata": {
    "collapsed": false
   },
   "outputs": [
    {
     "data": {
      "text/plain": [
       "\"info_emails = pd.DataFrame({\\n    'acc':['ms_cayman','ms_cayman','ms_cayman','ms_cayman','ubs_cayman','int_c','int_c','int_c'],\\n    'currency':['EUR','GBP','MXN','USD','MXN','MXN','AUD','USD'],\\n    'accrual_final':[-713.01,-1.36,-1359526.18,-151788.04,-937161.96,-1642.98,-2642.41,-50291.97]\\n})\""
      ]
     },
     "execution_count": 72,
     "metadata": {},
     "output_type": "execute_result"
    }
   ],
   "source": [
    "# Custos finais mês de junho\n",
    "'''info_emails = pd.DataFrame({\n",
    "    'acc':['ms_cayman','ms_cayman','ms_cayman','ms_cayman','ubs_cayman','int_c','int_c','int_c'],\n",
    "    'currency':['EUR','GBP','MXN','USD','MXN','MXN','AUD','USD'],\n",
    "    'accrual_final':[-713.01,-1.36,-1359526.18,-151788.04,-937161.96,-1642.98,-2642.41,-50291.97]\n",
    "})'''"
   ]
  },
  {
   "cell_type": "code",
   "execution_count": 73,
   "metadata": {
    "collapsed": true
   },
   "outputs": [],
   "source": [
    "# Custos finais mês de julho\n"
   ]
  },
  {
   "cell_type": "code",
   "execution_count": 74,
   "metadata": {
    "collapsed": false
   },
   "outputs": [],
   "source": [
    "info_emails = pd.DataFrame({\n",
    "    'acc':['ms_cayman','ms_cayman','ms_cayman','ms_cayman','ubs_cayman','int_c','int_c','int_c'],\n",
    "    'currency':['USD','EUR','GBP','MXN','MXN','AUD','USD','MXN'],\n",
    "    'accrual_final':[-151302.90,-4.18,-1.20,-1774308.52,-993668.89,-2588.31,-23637.36,-289.12]\n",
    "})"
   ]
  },
  {
   "cell_type": "code",
   "execution_count": null,
   "metadata": {
    "collapsed": true
   },
   "outputs": [],
   "source": []
  },
  {
   "cell_type": "code",
   "execution_count": 75,
   "metadata": {
    "collapsed": false,
    "scrolled": true
   },
   "outputs": [
    {
     "data": {
      "text/html": [
       "<div>\n",
       "<table border=\"1\" class=\"dataframe\">\n",
       "  <thead>\n",
       "    <tr style=\"text-align: right;\">\n",
       "      <th></th>\n",
       "      <th>acc</th>\n",
       "      <th>accrual_final</th>\n",
       "      <th>currency</th>\n",
       "    </tr>\n",
       "  </thead>\n",
       "  <tbody>\n",
       "    <tr>\n",
       "      <th>0</th>\n",
       "      <td>ms_cayman</td>\n",
       "      <td>-151302.90</td>\n",
       "      <td>USD</td>\n",
       "    </tr>\n",
       "    <tr>\n",
       "      <th>1</th>\n",
       "      <td>ms_cayman</td>\n",
       "      <td>-4.18</td>\n",
       "      <td>EUR</td>\n",
       "    </tr>\n",
       "    <tr>\n",
       "      <th>2</th>\n",
       "      <td>ms_cayman</td>\n",
       "      <td>-1.20</td>\n",
       "      <td>GBP</td>\n",
       "    </tr>\n",
       "    <tr>\n",
       "      <th>3</th>\n",
       "      <td>ms_cayman</td>\n",
       "      <td>-1774308.52</td>\n",
       "      <td>MXN</td>\n",
       "    </tr>\n",
       "    <tr>\n",
       "      <th>4</th>\n",
       "      <td>ubs_cayman</td>\n",
       "      <td>-993668.89</td>\n",
       "      <td>MXN</td>\n",
       "    </tr>\n",
       "    <tr>\n",
       "      <th>5</th>\n",
       "      <td>int_c</td>\n",
       "      <td>-2588.31</td>\n",
       "      <td>AUD</td>\n",
       "    </tr>\n",
       "    <tr>\n",
       "      <th>6</th>\n",
       "      <td>int_c</td>\n",
       "      <td>-23637.36</td>\n",
       "      <td>USD</td>\n",
       "    </tr>\n",
       "    <tr>\n",
       "      <th>7</th>\n",
       "      <td>int_c</td>\n",
       "      <td>-289.12</td>\n",
       "      <td>MXN</td>\n",
       "    </tr>\n",
       "  </tbody>\n",
       "</table>\n",
       "</div>"
      ],
      "text/plain": [
       "          acc  accrual_final currency\n",
       "0   ms_cayman     -151302.90      USD\n",
       "1   ms_cayman          -4.18      EUR\n",
       "2   ms_cayman          -1.20      GBP\n",
       "3   ms_cayman    -1774308.52      MXN\n",
       "4  ubs_cayman     -993668.89      MXN\n",
       "5       int_c       -2588.31      AUD\n",
       "6       int_c      -23637.36      USD\n",
       "7       int_c        -289.12      MXN"
      ]
     },
     "execution_count": 75,
     "metadata": {},
     "output_type": "execute_result"
    }
   ],
   "source": [
    "info_emails"
   ]
  },
  {
   "cell_type": "code",
   "execution_count": null,
   "metadata": {
    "collapsed": true
   },
   "outputs": [],
   "source": []
  },
  {
   "cell_type": "code",
   "execution_count": 76,
   "metadata": {
    "collapsed": true
   },
   "outputs": [],
   "source": [
    "ajuste = pd.merge(abertura_batidos.groupby(by=['acc', 'currency']).sum().reset_index(),\\\n",
    "                                              info_emails, on=['acc','currency'], how='left')"
   ]
  },
  {
   "cell_type": "code",
   "execution_count": 77,
   "metadata": {
    "collapsed": false
   },
   "outputs": [
    {
     "name": "stdout",
     "output_type": "stream",
     "text": [
      "1 linhas foram dropadas da base, porque os valores não foram descontados no conta.\n"
     ]
    }
   ],
   "source": [
    "check_10 = ajuste[ajuste['accrual_final_y'].isnull()==True].shape[0]\n",
    "print('%s linhas foram dropadas da base, porque os valores não foram descontados no conta.' %check_10)"
   ]
  },
  {
   "cell_type": "code",
   "execution_count": 78,
   "metadata": {
    "collapsed": true
   },
   "outputs": [],
   "source": [
    "ajuste['multiplicador'] = ajuste['accrual_final_y']/ajuste['accrual_final_x']"
   ]
  },
  {
   "cell_type": "code",
   "execution_count": 79,
   "metadata": {
    "collapsed": true
   },
   "outputs": [],
   "source": [
    "ajuste = ajuste.rename(columns={\n",
    "    'accrual_final_x':'accrual_final_gerado',\n",
    "    'accrual_final_y':'accrual_final_email' \n",
    "}).fillna(0)"
   ]
  },
  {
   "cell_type": "code",
   "execution_count": 80,
   "metadata": {
    "collapsed": false,
    "scrolled": true
   },
   "outputs": [
    {
     "data": {
      "text/html": [
       "<div>\n",
       "<table border=\"1\" class=\"dataframe\">\n",
       "  <thead>\n",
       "    <tr style=\"text-align: right;\">\n",
       "      <th></th>\n",
       "      <th>acc</th>\n",
       "      <th>currency</th>\n",
       "      <th>quantidade_book</th>\n",
       "      <th>accrual_final_gerado</th>\n",
       "      <th>accrual_final_email</th>\n",
       "      <th>multiplicador</th>\n",
       "    </tr>\n",
       "  </thead>\n",
       "  <tbody>\n",
       "    <tr>\n",
       "      <th>0</th>\n",
       "      <td>int_c</td>\n",
       "      <td>AUD</td>\n",
       "      <td>-12489400.0</td>\n",
       "      <td>-2505.06</td>\n",
       "      <td>-2588.31</td>\n",
       "      <td>1.033233</td>\n",
       "    </tr>\n",
       "    <tr>\n",
       "      <th>1</th>\n",
       "      <td>int_c</td>\n",
       "      <td>MXN</td>\n",
       "      <td>-41200.0</td>\n",
       "      <td>-233.05</td>\n",
       "      <td>-289.12</td>\n",
       "      <td>1.240592</td>\n",
       "    </tr>\n",
       "    <tr>\n",
       "      <th>2</th>\n",
       "      <td>int_c</td>\n",
       "      <td>USD</td>\n",
       "      <td>-25257655.0</td>\n",
       "      <td>-22395.78</td>\n",
       "      <td>-23637.36</td>\n",
       "      <td>1.055438</td>\n",
       "    </tr>\n",
       "    <tr>\n",
       "      <th>3</th>\n",
       "      <td>ms_cayman</td>\n",
       "      <td>EUR</td>\n",
       "      <td>-8296.0</td>\n",
       "      <td>-3.16</td>\n",
       "      <td>-4.18</td>\n",
       "      <td>1.322785</td>\n",
       "    </tr>\n",
       "    <tr>\n",
       "      <th>4</th>\n",
       "      <td>ms_cayman</td>\n",
       "      <td>GBP</td>\n",
       "      <td>-1042.0</td>\n",
       "      <td>-1.13</td>\n",
       "      <td>-1.20</td>\n",
       "      <td>1.061947</td>\n",
       "    </tr>\n",
       "    <tr>\n",
       "      <th>5</th>\n",
       "      <td>ms_cayman</td>\n",
       "      <td>MXN</td>\n",
       "      <td>-241321795.0</td>\n",
       "      <td>-1749425.17</td>\n",
       "      <td>-1774308.52</td>\n",
       "      <td>1.014224</td>\n",
       "    </tr>\n",
       "    <tr>\n",
       "      <th>6</th>\n",
       "      <td>ms_cayman</td>\n",
       "      <td>USD</td>\n",
       "      <td>-127257223.0</td>\n",
       "      <td>-142374.24</td>\n",
       "      <td>-151302.90</td>\n",
       "      <td>1.062713</td>\n",
       "    </tr>\n",
       "    <tr>\n",
       "      <th>7</th>\n",
       "      <td>ubs_cayman</td>\n",
       "      <td>MXN</td>\n",
       "      <td>-134643917.0</td>\n",
       "      <td>-962694.27</td>\n",
       "      <td>-993668.89</td>\n",
       "      <td>1.032175</td>\n",
       "    </tr>\n",
       "    <tr>\n",
       "      <th>8</th>\n",
       "      <td>ubs_cayman</td>\n",
       "      <td>USD</td>\n",
       "      <td>-68156426.0</td>\n",
       "      <td>-40763.44</td>\n",
       "      <td>0.00</td>\n",
       "      <td>0.000000</td>\n",
       "    </tr>\n",
       "  </tbody>\n",
       "</table>\n",
       "</div>"
      ],
      "text/plain": [
       "          acc currency  quantidade_book  accrual_final_gerado  \\\n",
       "0       int_c      AUD      -12489400.0              -2505.06   \n",
       "1       int_c      MXN         -41200.0               -233.05   \n",
       "2       int_c      USD      -25257655.0             -22395.78   \n",
       "3   ms_cayman      EUR          -8296.0                 -3.16   \n",
       "4   ms_cayman      GBP          -1042.0                 -1.13   \n",
       "5   ms_cayman      MXN     -241321795.0           -1749425.17   \n",
       "6   ms_cayman      USD     -127257223.0            -142374.24   \n",
       "7  ubs_cayman      MXN     -134643917.0            -962694.27   \n",
       "8  ubs_cayman      USD      -68156426.0             -40763.44   \n",
       "\n",
       "   accrual_final_email  multiplicador  \n",
       "0             -2588.31       1.033233  \n",
       "1              -289.12       1.240592  \n",
       "2            -23637.36       1.055438  \n",
       "3                -4.18       1.322785  \n",
       "4                -1.20       1.061947  \n",
       "5          -1774308.52       1.014224  \n",
       "6           -151302.90       1.062713  \n",
       "7           -993668.89       1.032175  \n",
       "8                 0.00       0.000000  "
      ]
     },
     "execution_count": 80,
     "metadata": {},
     "output_type": "execute_result"
    }
   ],
   "source": [
    "ajuste"
   ]
  },
  {
   "cell_type": "code",
   "execution_count": 81,
   "metadata": {
    "collapsed": true
   },
   "outputs": [],
   "source": [
    "ajuste = ajuste.drop(['quantidade_book','accrual_final_gerado', 'accrual_final_email'], axis=1)"
   ]
  },
  {
   "cell_type": "code",
   "execution_count": null,
   "metadata": {
    "collapsed": true
   },
   "outputs": [],
   "source": []
  },
  {
   "cell_type": "code",
   "execution_count": 82,
   "metadata": {
    "collapsed": false
   },
   "outputs": [],
   "source": [
    "abertura_batidos_ajustado = pd.merge(abertura_batidos, ajuste, on=['acc','currency'], how='left')"
   ]
  },
  {
   "cell_type": "code",
   "execution_count": 83,
   "metadata": {
    "collapsed": false
   },
   "outputs": [],
   "source": [
    "check_11 = abertura_batidos_ajustado.shape[0]-abertura_batidos.shape[0]\n",
    "if check_11 != 0:\n",
    "    print ('%s linhas foram duplicadas durante o ajuste. Verificar!!')"
   ]
  },
  {
   "cell_type": "code",
   "execution_count": 84,
   "metadata": {
    "collapsed": true
   },
   "outputs": [],
   "source": [
    "abertura_batidos_ajustado['accrual'] = abertura_batidos_ajustado['accrual_final']*abertura_batidos_ajustado['multiplicador']"
   ]
  },
  {
   "cell_type": "code",
   "execution_count": 85,
   "metadata": {
    "collapsed": false
   },
   "outputs": [],
   "source": [
    "abertura_batidos_ajustado = abertura_batidos_ajustado.drop(['accrual_final','multiplicador'], axis=1)"
   ]
  },
  {
   "cell_type": "code",
   "execution_count": 86,
   "metadata": {
    "collapsed": false
   },
   "outputs": [
    {
     "name": "stdout",
     "output_type": "stream",
     "text": [
      "1021 tickers_book foram dropados da abertura porque suas contas não faziam sentido com o que foi cobrado\n"
     ]
    }
   ],
   "source": [
    "check_12 = abertura_batidos_ajustado.shape[0]-abertura_batidos_ajustado[abertura_batidos_ajustado['accrual']!=0].shape[0]\n",
    "abertura_batidos_ajustado = abertura_batidos_ajustado[abertura_batidos_ajustado['accrual']!=0]\n",
    "print('%s tickers_book foram dropados da abertura porque suas contas não faziam sentido com o que foi cobrado' %check_12)"
   ]
  },
  {
   "cell_type": "code",
   "execution_count": 87,
   "metadata": {
    "collapsed": true
   },
   "outputs": [],
   "source": [
    "abertura_batidos_ajustado_neg = abertura_batidos_ajustado[abertura_batidos_ajustado['accrual']<0]"
   ]
  },
  {
   "cell_type": "code",
   "execution_count": 88,
   "metadata": {
    "collapsed": true
   },
   "outputs": [],
   "source": [
    "abertura_batidos_ajustado_posi = abertura_batidos_ajustado[abertura_batidos_ajustado['accrual']>=0]"
   ]
  },
  {
   "cell_type": "code",
   "execution_count": 89,
   "metadata": {
    "collapsed": true
   },
   "outputs": [],
   "source": [
    "ajuste_neg_grouped = abertura_batidos_ajustado_neg.groupby(by=['acc','currency']).sum().reset_index()"
   ]
  },
  {
   "cell_type": "code",
   "execution_count": null,
   "metadata": {
    "collapsed": true
   },
   "outputs": [],
   "source": []
  },
  {
   "cell_type": "code",
   "execution_count": 90,
   "metadata": {
    "collapsed": false
   },
   "outputs": [],
   "source": [
    "check_13 = abertura_batidos_ajustado_neg.shape[0]-\\\n",
    "                        pd.merge(abertura_batidos_ajustado_neg, ajuste_neg_grouped, on=['acc','currency'], how='left').shape[0]\n",
    "if check_13 != 0:\n",
    "    print ('%s linhas foram duplicadas durante o ajuste dos números negativos. Verificar!!' %check_13)"
   ]
  },
  {
   "cell_type": "code",
   "execution_count": 91,
   "metadata": {
    "collapsed": true
   },
   "outputs": [],
   "source": [
    "abertura_batidos_ajustado_neg = pd.merge(abertura_batidos_ajustado_neg, ajuste_neg_grouped, on=['acc','currency'], how='left')"
   ]
  },
  {
   "cell_type": "code",
   "execution_count": 92,
   "metadata": {
    "collapsed": true
   },
   "outputs": [],
   "source": [
    "abertura_batidos_ajustado_neg['pct'] = abertura_batidos_ajustado_neg['accrual_x']/abertura_batidos_ajustado_neg['accrual_y']"
   ]
  },
  {
   "cell_type": "code",
   "execution_count": 93,
   "metadata": {
    "collapsed": false
   },
   "outputs": [],
   "source": [
    "check_14 = abertura_batidos_ajustado_neg.groupby(by=['acc','currency']).sum().reset_index()\n",
    "check_14 = check_14[np.isclose(check_14['pct'], 1)==False].shape[0]\n",
    "if check_14 != 0:\n",
    "    print ('O batimento não foi feito!!! %s contas somam valor diferente a 100\\%')"
   ]
  },
  {
   "cell_type": "code",
   "execution_count": 94,
   "metadata": {
    "collapsed": true
   },
   "outputs": [],
   "source": [
    "abertura_batidos_ajustado_posi = abertura_batidos_ajustado_posi.groupby(by=['acc','currency']).sum().reset_index()"
   ]
  },
  {
   "cell_type": "code",
   "execution_count": 95,
   "metadata": {
    "collapsed": true
   },
   "outputs": [],
   "source": [
    "check_15 = abertura_batidos_ajustado_neg.shape[0]-\\\n",
    "                                    pd.merge(abertura_batidos_ajustado_neg, abertura_batidos_ajustado_posi, \\\n",
    "                                                         on=['acc','currency'], how='left').shape[0]\n",
    "if check_15 != 0:\n",
    "    print ('%s linhas foram duplicadas durante o ajuste de quantidades positivas!!!'%check_15)"
   ]
  },
  {
   "cell_type": "code",
   "execution_count": 96,
   "metadata": {
    "collapsed": true
   },
   "outputs": [],
   "source": [
    "abertura_batidos_ajustado_neg = pd.merge(abertura_batidos_ajustado_neg, abertura_batidos_ajustado_posi, \\\n",
    "                                         on=['acc','currency'], how='left').fillna(0)"
   ]
  },
  {
   "cell_type": "code",
   "execution_count": 97,
   "metadata": {
    "collapsed": false
   },
   "outputs": [],
   "source": [
    "abertura_batidos_ajustado_neg['distrib_positives'] = abertura_batidos_ajustado_neg['pct']\\\n",
    "                                                        *abertura_batidos_ajustado_neg['accrual']"
   ]
  },
  {
   "cell_type": "code",
   "execution_count": 98,
   "metadata": {
    "collapsed": true
   },
   "outputs": [],
   "source": [
    "abertura_batidos_ajustado_neg['accrual_final'] = abertura_batidos_ajustado_neg['accrual_x']+\\\n",
    "                                                        abertura_batidos_ajustado_neg['distrib_positives']"
   ]
  },
  {
   "cell_type": "code",
   "execution_count": 99,
   "metadata": {
    "collapsed": true
   },
   "outputs": [],
   "source": [
    "abertura_batidos_ajustado = abertura_batidos_ajustado_neg.drop(['accrual_x', 'accrual_y', 'pct', 'accrual', \n",
    "                                                          'distrib_positives'], axis=1)"
   ]
  },
  {
   "cell_type": "code",
   "execution_count": 100,
   "metadata": {
    "collapsed": true
   },
   "outputs": [],
   "source": [
    "abertura_batidos_consol = abertura_batidos_ajustado.groupby(['acc', 'book', 'currency'])\\\n",
    "                                        .sum().reset_index().drop(['quantidade_book','quantidade_book_y'], axis=1)\\\n",
    "    .rename(columns={'quantidade_book_x':'quantidade_book'})"
   ]
  },
  {
   "cell_type": "code",
   "execution_count": 101,
   "metadata": {
    "collapsed": false
   },
   "outputs": [],
   "source": [
    "check_16 = pd.merge(abertura_batidos_ajustado.groupby(by=['acc', 'currency']).sum().reset_index(), \\\n",
    "                                    info_emails, on=['acc','currency'],how='left')\n",
    "check_16['pct'] = check_16['accrual_final_x']/check_16['accrual_final_y']\n",
    "check_16 = check_16[np.isclose(check_16['pct'], 1)==False].shape[0]\n",
    "if check_16 != 0:\n",
    "    print ('O batimento não foi feito!!! %s contas somam valor diferente a 100\\%')"
   ]
  },
  {
   "cell_type": "code",
   "execution_count": null,
   "metadata": {
    "collapsed": true
   },
   "outputs": [],
   "source": []
  },
  {
   "cell_type": "code",
   "execution_count": null,
   "metadata": {
    "collapsed": true
   },
   "outputs": [],
   "source": []
  },
  {
   "cell_type": "code",
   "execution_count": 102,
   "metadata": {
    "collapsed": false
   },
   "outputs": [],
   "source": [
    "abertura_batidos_ajustado[abertura_batidos_ajustado.book=='LOCAL_ADR_INTC'][['conta','agent','data_ref','quantidade_book_x',\n",
    "                                                                             'book', 'ticker','currency','accrual_final']].to_excel('LOCAL_ADR_INTC.xlsx')"
   ]
  },
  {
   "cell_type": "code",
   "execution_count": null,
   "metadata": {
    "collapsed": true
   },
   "outputs": [],
   "source": []
  },
  {
   "cell_type": "markdown",
   "metadata": {},
   "source": [
    "### Abertura por WM"
   ]
  },
  {
   "cell_type": "code",
   "execution_count": null,
   "metadata": {
    "collapsed": true
   },
   "outputs": [],
   "source": []
  },
  {
   "cell_type": "code",
   "execution_count": 103,
   "metadata": {
    "collapsed": false
   },
   "outputs": [],
   "source": [
    "pb_wm = abertura[(abertura['book'].str.contains('PRIVATE'))\\\n",
    "                 |(abertura['book'].str.contains('CLIENT'))].copy()"
   ]
  },
  {
   "cell_type": "code",
   "execution_count": 104,
   "metadata": {
    "collapsed": true
   },
   "outputs": [],
   "source": [
    "#b_wm = abertura_batidos_ajustado[(abertura_batidos_ajustado['book'].str.contains('PRIVATE'))\\\n",
    "#                                  |(abertura_batidos_ajustado['book'].str.contains('CLIENT'))]"
   ]
  },
  {
   "cell_type": "code",
   "execution_count": null,
   "metadata": {
    "collapsed": true
   },
   "outputs": [],
   "source": []
  },
  {
   "cell_type": "code",
   "execution_count": 105,
   "metadata": {
    "collapsed": true
   },
   "outputs": [],
   "source": [
    "calypso_wm = bdwm.copy()\n",
    "calypso_wm['tipo'] = 'WM' \n",
    "calypso_wm['date'] = pd.to_datetime(calypso_wm['date'])\n",
    "calypso_wm['month_number'] = calypso_wm['date'].dt.month\n",
    "calypso_wm['year'] = calypso_wm['date'].dt.year\n",
    "calypso_wm['month'] = calypso_wm['month_number'].map(months_dict)\n",
    "calypso_wm = calypso_wm[['Account Name','tipo', 'Agent','date', 'shares', 'Book', 'PRODUCT_CODE.TICKER', 'PRODUCT_CODE.ISIN', \n",
    "                   'PRODUCT_CODE.CUSIP', 'Product Currency', 'month', 'year', 'LE Name']].reset_index(drop=True)\n",
    "calypso_wm.columns = ['conta_pb','conta', 'agent', 'data_ref', 'quantidade', 'book', 'ticker', 'isin', 'cusip', \n",
    "              'currency', 'month', 'year', 'cliente']"
   ]
  },
  {
   "cell_type": "code",
   "execution_count": 106,
   "metadata": {
    "collapsed": true
   },
   "outputs": [],
   "source": [
    "calypso_wm['quantidade'] = calypso_wm['quantidade'].replace(',','', regex=True)\n",
    "calypso_wm['quantidade'] = calypso_wm['quantidade'].astype(float)"
   ]
  },
  {
   "cell_type": "code",
   "execution_count": 107,
   "metadata": {
    "collapsed": true
   },
   "outputs": [],
   "source": [
    "calypso_wm['quantidade'] = -1*calypso_wm['quantidade']"
   ]
  },
  {
   "cell_type": "code",
   "execution_count": 108,
   "metadata": {
    "collapsed": false
   },
   "outputs": [],
   "source": [
    "calypso_wm = calypso_wm[calypso_wm['quantidade']<0]"
   ]
  },
  {
   "cell_type": "code",
   "execution_count": 109,
   "metadata": {
    "collapsed": false
   },
   "outputs": [],
   "source": [
    "calypso_wm_grouped =calypso_wm.groupby(by=['data_ref', 'book', 'ticker', 'currency']).sum().reset_index()"
   ]
  },
  {
   "cell_type": "code",
   "execution_count": 110,
   "metadata": {
    "collapsed": true
   },
   "outputs": [],
   "source": [
    "check_17 = pb_wm.shape[0]-pd.merge(pb_wm, calypso_wm_grouped, on=['data_ref', 'book', 'ticker', 'currency'], how='left')\\\n",
    "                                                                                    .shape[0]\n",
    "if check_17!=0:\n",
    "    print ('%s linhas foram duplicadas durante o barimento de WM!!!! Verificar!' %check_17)"
   ]
  },
  {
   "cell_type": "code",
   "execution_count": 111,
   "metadata": {
    "collapsed": true
   },
   "outputs": [],
   "source": [
    "batimento_wm = pd.merge(pb_wm, calypso_wm_grouped, on=['data_ref', 'book', 'ticker', 'currency'], how='left')\\\n",
    "                                                                                    .drop('year', axis=1)"
   ]
  },
  {
   "cell_type": "code",
   "execution_count": null,
   "metadata": {
    "collapsed": true
   },
   "outputs": [],
   "source": []
  },
  {
   "cell_type": "code",
   "execution_count": 112,
   "metadata": {
    "collapsed": false
   },
   "outputs": [
    {
     "name": "stdout",
     "output_type": "stream",
     "text": [
      "Durante o batimento de WM, 5 trades ficaram como sobra de destino!!\n"
     ]
    }
   ],
   "source": [
    "batimento_wm_sobra_destino = batimento_wm[batimento_wm['quantidade'].isnull()==True].copy()\n",
    "print ('Durante o batimento de WM, %s trades ficaram como sobra de destino!!' %batimento_wm_sobra_destino.shape[0])\n",
    "\n",
    "batimento_wm_sobra_destino['status'] = 'n_batido'"
   ]
  },
  {
   "cell_type": "code",
   "execution_count": 113,
   "metadata": {
    "collapsed": false
   },
   "outputs": [],
   "source": [
    "batimento_wm = batimento_wm[batimento_wm['quantidade'].isnull()==False].copy()\n",
    "batimento_wm_batidos = batimento_wm[batimento_wm['quantidade_book']==batimento_wm['quantidade']].copy()\n",
    "\n",
    "batimento_wm_batidos['status'] = 'batido'"
   ]
  },
  {
   "cell_type": "code",
   "execution_count": 114,
   "metadata": {
    "collapsed": false
   },
   "outputs": [
    {
     "name": "stdout",
     "output_type": "stream",
     "text": [
      "Durante o batimento de WM, 1 trades ficaram com quantidade divergente!!\n"
     ]
    }
   ],
   "source": [
    "batimento_wm_divergentes = batimento_wm[batimento_wm['quantidade_book']!=batimento_wm['quantidade']].copy()\n",
    "print ('Durante o batimento de WM, %s trades ficaram com quantidade divergente!!' %batimento_wm_divergentes.shape[0])"
   ]
  },
  {
   "cell_type": "code",
   "execution_count": 115,
   "metadata": {
    "collapsed": true
   },
   "outputs": [],
   "source": [
    "batimento_wm_divergentes['status'] = 'divergente'"
   ]
  },
  {
   "cell_type": "code",
   "execution_count": 116,
   "metadata": {
    "collapsed": false
   },
   "outputs": [],
   "source": [
    "batimento_wm = pd.concat([batimento_wm_batidos, batimento_wm_divergentes], axis=0)"
   ]
  },
  {
   "cell_type": "code",
   "execution_count": 117,
   "metadata": {
    "collapsed": false
   },
   "outputs": [],
   "source": [
    "batimento_wm['id'] = range(0, batimento_wm.shape[0])"
   ]
  },
  {
   "cell_type": "code",
   "execution_count": 118,
   "metadata": {
    "collapsed": false
   },
   "outputs": [],
   "source": [
    "batimento_wm_distrib = pd.merge(calypso_wm, batimento_wm, on=['data_ref', 'book', 'ticker', 'currency'], how='left')\\\n",
    "[['conta_pb_x', 'agent_x', 'data_ref', 'quantidade_x', 'book', 'ticker', 'currency', 'cliente','quantidade_book', \n",
    "  'acc', 'status','accrual_final', 'id']].rename(columns={\n",
    "    'quantidade_book':'quantidade_ticker',\n",
    "    'quantidade_x':'quantidade_book',\n",
    "    'conta_pb_x':'conta_pb',\n",
    "    'agent_x':'agent',\n",
    "    'cliente':'conta'   \n",
    "})\n",
    "check_18 = batimento_wm_distrib.shape[0]-calypso_wm.shape[0]\n",
    "if check_18!=0:\n",
    "    print ('%s linhas foram duplicadas durante o ajuste de WM' %check_18)"
   ]
  },
  {
   "cell_type": "code",
   "execution_count": 119,
   "metadata": {
    "collapsed": false,
    "scrolled": true
   },
   "outputs": [
    {
     "name": "stdout",
     "output_type": "stream",
     "text": [
      "Durante o batimento de WM, 115 trades não foram distribuídos!!\n"
     ]
    },
    {
     "name": "stderr",
     "output_type": "stream",
     "text": [
      "C:\\ProgramData\\Anaconda3\\lib\\site-packages\\ipykernel\\__main__.py:1: UserWarning: Boolean Series key will be reindexed to match DataFrame index.\n",
      "  if __name__ == '__main__':\n"
     ]
    }
   ],
   "source": [
    "batimento_wm_sobra_origem = batimento_wm[~batimento_wm_distrib['id'].isin(batimento_wm['id'].copy().drop_duplicates())].copy()\n",
    "print ('Durante o batimento de WM, %s trades não foram distribuídos!!' %batimento_wm_sobra_origem.shape[0])"
   ]
  },
  {
   "cell_type": "code",
   "execution_count": 120,
   "metadata": {
    "collapsed": true
   },
   "outputs": [],
   "source": [
    "batimento_wm_distrib = batimento_wm_distrib.drop('id', axis=1)"
   ]
  },
  {
   "cell_type": "code",
   "execution_count": 121,
   "metadata": {
    "collapsed": false
   },
   "outputs": [],
   "source": [
    "n_batimento_wm_distrib = batimento_wm_distrib[batimento_wm_distrib['quantidade_ticker'].isnull()==True]\\\n",
    "                                                                .drop(['quantidade_ticker'], axis=1)"
   ]
  },
  {
   "cell_type": "code",
   "execution_count": 122,
   "metadata": {
    "collapsed": true
   },
   "outputs": [],
   "source": [
    "batimento_wm_distrib = batimento_wm_distrib[batimento_wm_distrib['quantidade_ticker'].isnull()==False]"
   ]
  },
  {
   "cell_type": "code",
   "execution_count": 123,
   "metadata": {
    "collapsed": true
   },
   "outputs": [],
   "source": [
    "batimento_wm_distrib['pct'] = batimento_wm_distrib['quantidade_book']/batimento_wm_distrib['quantidade_ticker']"
   ]
  },
  {
   "cell_type": "code",
   "execution_count": 124,
   "metadata": {
    "collapsed": false,
    "scrolled": true
   },
   "outputs": [
    {
     "data": {
      "text/html": [
       "<div>\n",
       "<table border=\"1\" class=\"dataframe\">\n",
       "  <thead>\n",
       "    <tr style=\"text-align: right;\">\n",
       "      <th></th>\n",
       "      <th></th>\n",
       "      <th></th>\n",
       "      <th></th>\n",
       "      <th>conta_pb</th>\n",
       "      <th>quantidade_book</th>\n",
       "      <th>quantidade_ticker</th>\n",
       "      <th>accrual_final</th>\n",
       "      <th>pct</th>\n",
       "    </tr>\n",
       "    <tr>\n",
       "      <th>data_ref</th>\n",
       "      <th>book</th>\n",
       "      <th>ticker</th>\n",
       "      <th>currency</th>\n",
       "      <th></th>\n",
       "      <th></th>\n",
       "      <th></th>\n",
       "      <th></th>\n",
       "      <th></th>\n",
       "    </tr>\n",
       "  </thead>\n",
       "  <tbody>\n",
       "    <tr>\n",
       "      <th rowspan=\"13\" valign=\"top\">2018-07-02</th>\n",
       "      <th rowspan=\"4\" valign=\"top\">BD_CLIENTS_UBS</th>\n",
       "      <th>BAP US</th>\n",
       "      <th>USD</th>\n",
       "      <td>2842698</td>\n",
       "      <td>-7753.0</td>\n",
       "      <td>-15506.0</td>\n",
       "      <td>154.700000</td>\n",
       "      <td>1.000000</td>\n",
       "    </tr>\n",
       "    <tr>\n",
       "      <th>LTM US</th>\n",
       "      <th>USD</th>\n",
       "      <td>1823956</td>\n",
       "      <td>-123175.0</td>\n",
       "      <td>-123175.0</td>\n",
       "      <td>-33.260000</td>\n",
       "      <td>1.000000</td>\n",
       "    </tr>\n",
       "    <tr>\n",
       "      <th>MELI US</th>\n",
       "      <th>USD</th>\n",
       "      <td>1823956</td>\n",
       "      <td>-5364.0</td>\n",
       "      <td>-5364.0</td>\n",
       "      <td>70.495761</td>\n",
       "      <td>1.000000</td>\n",
       "    </tr>\n",
       "    <tr>\n",
       "      <th>PAGS US</th>\n",
       "      <th>USD</th>\n",
       "      <td>1823956</td>\n",
       "      <td>-1000.0</td>\n",
       "      <td>-1000.0</td>\n",
       "      <td>1.205769</td>\n",
       "      <td>1.000000</td>\n",
       "    </tr>\n",
       "    <tr>\n",
       "      <th rowspan=\"9\" valign=\"top\">PRIVATE_DEFAULT_UBS</th>\n",
       "      <th>CAKE US</th>\n",
       "      <th>USD</th>\n",
       "      <td>1682709</td>\n",
       "      <td>-1000.0</td>\n",
       "      <td>-1000.0</td>\n",
       "      <td>1.740000</td>\n",
       "      <td>1.000000</td>\n",
       "    </tr>\n",
       "    <tr>\n",
       "      <th>COHU US</th>\n",
       "      <th>USD</th>\n",
       "      <td>1682709</td>\n",
       "      <td>-2000.0</td>\n",
       "      <td>-2000.0</td>\n",
       "      <td>2.180000</td>\n",
       "      <td>1.000000</td>\n",
       "    </tr>\n",
       "    <tr>\n",
       "      <th>DRI US</th>\n",
       "      <th>USD</th>\n",
       "      <td>1682709</td>\n",
       "      <td>-600.0</td>\n",
       "      <td>-600.0</td>\n",
       "      <td>2.920000</td>\n",
       "      <td>1.000000</td>\n",
       "    </tr>\n",
       "    <tr>\n",
       "      <th>FB US</th>\n",
       "      <th>USD</th>\n",
       "      <td>1682709</td>\n",
       "      <td>-350.0</td>\n",
       "      <td>-350.0</td>\n",
       "      <td>3.070000</td>\n",
       "      <td>1.000000</td>\n",
       "    </tr>\n",
       "    <tr>\n",
       "      <th>LE US</th>\n",
       "      <th>USD</th>\n",
       "      <td>1682709</td>\n",
       "      <td>-1500.0</td>\n",
       "      <td>-1500.0</td>\n",
       "      <td>-1.170000</td>\n",
       "      <td>1.000000</td>\n",
       "    </tr>\n",
       "    <tr>\n",
       "      <th>MELI US</th>\n",
       "      <th>USD</th>\n",
       "      <td>1682709</td>\n",
       "      <td>-100.0</td>\n",
       "      <td>-100.0</td>\n",
       "      <td>1.314239</td>\n",
       "      <td>1.000000</td>\n",
       "    </tr>\n",
       "    <tr>\n",
       "      <th>NFLX US</th>\n",
       "      <th>USD</th>\n",
       "      <td>1682709</td>\n",
       "      <td>-100.0</td>\n",
       "      <td>-100.0</td>\n",
       "      <td>1.770000</td>\n",
       "      <td>1.000000</td>\n",
       "    </tr>\n",
       "    <tr>\n",
       "      <th>PAGS US</th>\n",
       "      <th>USD</th>\n",
       "      <td>46537</td>\n",
       "      <td>-16000.0</td>\n",
       "      <td>-16000.0</td>\n",
       "      <td>19.292301</td>\n",
       "      <td>1.000000</td>\n",
       "    </tr>\n",
       "    <tr>\n",
       "      <th>WU US</th>\n",
       "      <th>USD</th>\n",
       "      <td>1682709</td>\n",
       "      <td>-2500.0</td>\n",
       "      <td>-2500.0</td>\n",
       "      <td>2.270000</td>\n",
       "      <td>1.000000</td>\n",
       "    </tr>\n",
       "    <tr>\n",
       "      <th rowspan=\"15\" valign=\"top\">2018-07-03</th>\n",
       "      <th rowspan=\"6\" valign=\"top\">BD_CLIENTS_UBS</th>\n",
       "      <th>BAP US</th>\n",
       "      <th>USD</th>\n",
       "      <td>2842698</td>\n",
       "      <td>-7696.0</td>\n",
       "      <td>-15392.0</td>\n",
       "      <td>157.420000</td>\n",
       "      <td>1.000000</td>\n",
       "    </tr>\n",
       "    <tr>\n",
       "      <th>ITCB US</th>\n",
       "      <th>USD</th>\n",
       "      <td>424314</td>\n",
       "      <td>-100.0</td>\n",
       "      <td>-100.0</td>\n",
       "      <td>-0.160000</td>\n",
       "      <td>1.000000</td>\n",
       "    </tr>\n",
       "    <tr>\n",
       "      <th>LTM US</th>\n",
       "      <th>USD</th>\n",
       "      <td>1823956</td>\n",
       "      <td>-123175.0</td>\n",
       "      <td>-123175.0</td>\n",
       "      <td>-34.830000</td>\n",
       "      <td>1.000000</td>\n",
       "    </tr>\n",
       "    <tr>\n",
       "      <th>MELI US</th>\n",
       "      <th>USD</th>\n",
       "      <td>1823956</td>\n",
       "      <td>-5364.0</td>\n",
       "      <td>-5364.0</td>\n",
       "      <td>71.349839</td>\n",
       "      <td>1.000000</td>\n",
       "    </tr>\n",
       "    <tr>\n",
       "      <th>PAGS US</th>\n",
       "      <th>USD</th>\n",
       "      <td>1823956</td>\n",
       "      <td>-1000.0</td>\n",
       "      <td>-1000.0</td>\n",
       "      <td>1.203469</td>\n",
       "      <td>1.000000</td>\n",
       "    </tr>\n",
       "    <tr>\n",
       "      <th>VCO US</th>\n",
       "      <th>USD</th>\n",
       "      <td>424314</td>\n",
       "      <td>-100.0</td>\n",
       "      <td>-100.0</td>\n",
       "      <td>-1.070000</td>\n",
       "      <td>1.000000</td>\n",
       "    </tr>\n",
       "    <tr>\n",
       "      <th rowspan=\"9\" valign=\"top\">PRIVATE_DEFAULT_UBS</th>\n",
       "      <th>CAKE US</th>\n",
       "      <th>USD</th>\n",
       "      <td>1682709</td>\n",
       "      <td>-1000.0</td>\n",
       "      <td>-1000.0</td>\n",
       "      <td>1.760000</td>\n",
       "      <td>1.000000</td>\n",
       "    </tr>\n",
       "    <tr>\n",
       "      <th>COHU US</th>\n",
       "      <th>USD</th>\n",
       "      <td>1682709</td>\n",
       "      <td>-2000.0</td>\n",
       "      <td>-2000.0</td>\n",
       "      <td>2.130000</td>\n",
       "      <td>1.000000</td>\n",
       "    </tr>\n",
       "    <tr>\n",
       "      <th>DRI US</th>\n",
       "      <th>USD</th>\n",
       "      <td>1682709</td>\n",
       "      <td>-600.0</td>\n",
       "      <td>-600.0</td>\n",
       "      <td>2.920000</td>\n",
       "      <td>1.000000</td>\n",
       "    </tr>\n",
       "    <tr>\n",
       "      <th>FB US</th>\n",
       "      <th>USD</th>\n",
       "      <td>1682709</td>\n",
       "      <td>-350.0</td>\n",
       "      <td>-350.0</td>\n",
       "      <td>3.020000</td>\n",
       "      <td>1.000000</td>\n",
       "    </tr>\n",
       "    <tr>\n",
       "      <th>LE US</th>\n",
       "      <th>USD</th>\n",
       "      <td>1682709</td>\n",
       "      <td>-1500.0</td>\n",
       "      <td>-1500.0</td>\n",
       "      <td>-1.150000</td>\n",
       "      <td>1.000000</td>\n",
       "    </tr>\n",
       "    <tr>\n",
       "      <th>MELI US</th>\n",
       "      <th>USD</th>\n",
       "      <td>1682709</td>\n",
       "      <td>-100.0</td>\n",
       "      <td>-100.0</td>\n",
       "      <td>1.330161</td>\n",
       "      <td>1.000000</td>\n",
       "    </tr>\n",
       "    <tr>\n",
       "      <th>NFLX US</th>\n",
       "      <th>USD</th>\n",
       "      <td>1682709</td>\n",
       "      <td>-100.0</td>\n",
       "      <td>-100.0</td>\n",
       "      <td>1.750000</td>\n",
       "      <td>1.000000</td>\n",
       "    </tr>\n",
       "    <tr>\n",
       "      <th>PAGS US</th>\n",
       "      <th>USD</th>\n",
       "      <td>46537</td>\n",
       "      <td>-16000.0</td>\n",
       "      <td>-16000.0</td>\n",
       "      <td>19.255509</td>\n",
       "      <td>1.000000</td>\n",
       "    </tr>\n",
       "    <tr>\n",
       "      <th>WU US</th>\n",
       "      <th>USD</th>\n",
       "      <td>1682709</td>\n",
       "      <td>-2500.0</td>\n",
       "      <td>-2500.0</td>\n",
       "      <td>2.250000</td>\n",
       "      <td>1.000000</td>\n",
       "    </tr>\n",
       "    <tr>\n",
       "      <th rowspan=\"2\" valign=\"top\">2018-07-04</th>\n",
       "      <th rowspan=\"2\" valign=\"top\">BD_CLIENTS_UBS</th>\n",
       "      <th>BAP US</th>\n",
       "      <th>USD</th>\n",
       "      <td>1823956</td>\n",
       "      <td>-7500.0</td>\n",
       "      <td>-7471.0</td>\n",
       "      <td>78.710000</td>\n",
       "      <td>1.003882</td>\n",
       "    </tr>\n",
       "    <tr>\n",
       "      <th>ITCB US</th>\n",
       "      <th>USD</th>\n",
       "      <td>424314</td>\n",
       "      <td>-100.0</td>\n",
       "      <td>-100.0</td>\n",
       "      <td>-0.160000</td>\n",
       "      <td>1.000000</td>\n",
       "    </tr>\n",
       "    <tr>\n",
       "      <th>...</th>\n",
       "      <th>...</th>\n",
       "      <th>...</th>\n",
       "      <th>...</th>\n",
       "      <td>...</td>\n",
       "      <td>...</td>\n",
       "      <td>...</td>\n",
       "      <td>...</td>\n",
       "      <td>...</td>\n",
       "    </tr>\n",
       "    <tr>\n",
       "      <th rowspan=\"5\" valign=\"top\">2018-07-27</th>\n",
       "      <th rowspan=\"5\" valign=\"top\">PRIVATE_DEFAULT_UBS</th>\n",
       "      <th>LE US</th>\n",
       "      <th>USD</th>\n",
       "      <td>1682709</td>\n",
       "      <td>-1500.0</td>\n",
       "      <td>-1500.0</td>\n",
       "      <td>-2.280000</td>\n",
       "      <td>1.000000</td>\n",
       "    </tr>\n",
       "    <tr>\n",
       "      <th>MELI US</th>\n",
       "      <th>USD</th>\n",
       "      <td>1682709</td>\n",
       "      <td>-150.0</td>\n",
       "      <td>-150.0</td>\n",
       "      <td>7.136017</td>\n",
       "      <td>1.000000</td>\n",
       "    </tr>\n",
       "    <tr>\n",
       "      <th>NFLX US</th>\n",
       "      <th>USD</th>\n",
       "      <td>1729246</td>\n",
       "      <td>-1100.0</td>\n",
       "      <td>-2200.0</td>\n",
       "      <td>104.820000</td>\n",
       "      <td>1.000000</td>\n",
       "    </tr>\n",
       "    <tr>\n",
       "      <th>PAGS US</th>\n",
       "      <th>USD</th>\n",
       "      <td>46537</td>\n",
       "      <td>-16000.0</td>\n",
       "      <td>-16000.0</td>\n",
       "      <td>61.845340</td>\n",
       "      <td>1.000000</td>\n",
       "    </tr>\n",
       "    <tr>\n",
       "      <th>WU US</th>\n",
       "      <th>USD</th>\n",
       "      <td>1682709</td>\n",
       "      <td>-2500.0</td>\n",
       "      <td>-2500.0</td>\n",
       "      <td>6.810000</td>\n",
       "      <td>1.000000</td>\n",
       "    </tr>\n",
       "    <tr>\n",
       "      <th rowspan=\"12\" valign=\"top\">2018-07-30</th>\n",
       "      <th rowspan=\"5\" valign=\"top\">BD_CLIENTS_UBS</th>\n",
       "      <th>BAP US</th>\n",
       "      <th>USD</th>\n",
       "      <td>1823956</td>\n",
       "      <td>-7500.0</td>\n",
       "      <td>-7500.0</td>\n",
       "      <td>77.340000</td>\n",
       "      <td>1.000000</td>\n",
       "    </tr>\n",
       "    <tr>\n",
       "      <th>BOX US</th>\n",
       "      <th>USD</th>\n",
       "      <td>463312</td>\n",
       "      <td>-2000.0</td>\n",
       "      <td>-2000.0</td>\n",
       "      <td>2.130000</td>\n",
       "      <td>1.000000</td>\n",
       "    </tr>\n",
       "    <tr>\n",
       "      <th>ENPH US</th>\n",
       "      <th>USD</th>\n",
       "      <td>214962</td>\n",
       "      <td>-40000.0</td>\n",
       "      <td>-40000.0</td>\n",
       "      <td>-18.930000</td>\n",
       "      <td>1.000000</td>\n",
       "    </tr>\n",
       "    <tr>\n",
       "      <th>MELI US</th>\n",
       "      <th>USD</th>\n",
       "      <td>1823956</td>\n",
       "      <td>-5364.0</td>\n",
       "      <td>-5364.0</td>\n",
       "      <td>82.337497</td>\n",
       "      <td>1.000000</td>\n",
       "    </tr>\n",
       "    <tr>\n",
       "      <th>PAGS US</th>\n",
       "      <th>USD</th>\n",
       "      <td>1823956</td>\n",
       "      <td>-1000.0</td>\n",
       "      <td>-1000.0</td>\n",
       "      <td>1.279510</td>\n",
       "      <td>1.000000</td>\n",
       "    </tr>\n",
       "    <tr>\n",
       "      <th rowspan=\"7\" valign=\"top\">PRIVATE_DEFAULT_UBS</th>\n",
       "      <th>CAKE US</th>\n",
       "      <th>USD</th>\n",
       "      <td>1682709</td>\n",
       "      <td>-1000.0</td>\n",
       "      <td>-1000.0</td>\n",
       "      <td>1.990000</td>\n",
       "      <td>1.000000</td>\n",
       "    </tr>\n",
       "    <tr>\n",
       "      <th>DRI US</th>\n",
       "      <th>USD</th>\n",
       "      <td>1682709</td>\n",
       "      <td>-600.0</td>\n",
       "      <td>-600.0</td>\n",
       "      <td>2.860000</td>\n",
       "      <td>1.000000</td>\n",
       "    </tr>\n",
       "    <tr>\n",
       "      <th>LE US</th>\n",
       "      <th>USD</th>\n",
       "      <td>1682709</td>\n",
       "      <td>-1500.0</td>\n",
       "      <td>-1500.0</td>\n",
       "      <td>-0.250000</td>\n",
       "      <td>1.000000</td>\n",
       "    </tr>\n",
       "    <tr>\n",
       "      <th>MELI US</th>\n",
       "      <th>USD</th>\n",
       "      <td>1682709</td>\n",
       "      <td>-150.0</td>\n",
       "      <td>-150.0</td>\n",
       "      <td>2.302503</td>\n",
       "      <td>1.000000</td>\n",
       "    </tr>\n",
       "    <tr>\n",
       "      <th>NFLX US</th>\n",
       "      <th>USD</th>\n",
       "      <td>1729246</td>\n",
       "      <td>-1100.0</td>\n",
       "      <td>-2200.0</td>\n",
       "      <td>32.960000</td>\n",
       "      <td>1.000000</td>\n",
       "    </tr>\n",
       "    <tr>\n",
       "      <th>PAGS US</th>\n",
       "      <th>USD</th>\n",
       "      <td>46537</td>\n",
       "      <td>-16000.0</td>\n",
       "      <td>-16000.0</td>\n",
       "      <td>20.472160</td>\n",
       "      <td>1.000000</td>\n",
       "    </tr>\n",
       "    <tr>\n",
       "      <th>WU US</th>\n",
       "      <th>USD</th>\n",
       "      <td>1682709</td>\n",
       "      <td>-2500.0</td>\n",
       "      <td>-2500.0</td>\n",
       "      <td>2.250000</td>\n",
       "      <td>1.000000</td>\n",
       "    </tr>\n",
       "    <tr>\n",
       "      <th rowspan=\"13\" valign=\"top\">2018-07-31</th>\n",
       "      <th rowspan=\"6\" valign=\"top\">BD_CLIENTS_UBS</th>\n",
       "      <th>BAP US</th>\n",
       "      <th>USD</th>\n",
       "      <td>1823956</td>\n",
       "      <td>-7500.0</td>\n",
       "      <td>-7500.0</td>\n",
       "      <td>76.730000</td>\n",
       "      <td>1.000000</td>\n",
       "    </tr>\n",
       "    <tr>\n",
       "      <th>BOX US</th>\n",
       "      <th>USD</th>\n",
       "      <td>463312</td>\n",
       "      <td>-2000.0</td>\n",
       "      <td>-2000.0</td>\n",
       "      <td>2.140000</td>\n",
       "      <td>1.000000</td>\n",
       "    </tr>\n",
       "    <tr>\n",
       "      <th>ENPH US</th>\n",
       "      <th>USD</th>\n",
       "      <td>214962</td>\n",
       "      <td>-80000.0</td>\n",
       "      <td>-80000.0</td>\n",
       "      <td>-39.670000</td>\n",
       "      <td>1.000000</td>\n",
       "    </tr>\n",
       "    <tr>\n",
       "      <th>LTM US</th>\n",
       "      <th>USD</th>\n",
       "      <td>1823956</td>\n",
       "      <td>-55193.0</td>\n",
       "      <td>-55193.0</td>\n",
       "      <td>-30.540000</td>\n",
       "      <td>1.000000</td>\n",
       "    </tr>\n",
       "    <tr>\n",
       "      <th>MELI US</th>\n",
       "      <th>USD</th>\n",
       "      <td>1823956</td>\n",
       "      <td>-5364.0</td>\n",
       "      <td>-5364.0</td>\n",
       "      <td>82.259674</td>\n",
       "      <td>1.000000</td>\n",
       "    </tr>\n",
       "    <tr>\n",
       "      <th>PAGS US</th>\n",
       "      <th>USD</th>\n",
       "      <td>1823956</td>\n",
       "      <td>-1000.0</td>\n",
       "      <td>-1000.0</td>\n",
       "      <td>1.203938</td>\n",
       "      <td>1.000000</td>\n",
       "    </tr>\n",
       "    <tr>\n",
       "      <th rowspan=\"7\" valign=\"top\">PRIVATE_DEFAULT_UBS</th>\n",
       "      <th>CAKE US</th>\n",
       "      <th>USD</th>\n",
       "      <td>1682709</td>\n",
       "      <td>-1000.0</td>\n",
       "      <td>-1000.0</td>\n",
       "      <td>1.950000</td>\n",
       "      <td>1.000000</td>\n",
       "    </tr>\n",
       "    <tr>\n",
       "      <th>DRI US</th>\n",
       "      <th>USD</th>\n",
       "      <td>1682709</td>\n",
       "      <td>-600.0</td>\n",
       "      <td>-600.0</td>\n",
       "      <td>2.870000</td>\n",
       "      <td>1.000000</td>\n",
       "    </tr>\n",
       "    <tr>\n",
       "      <th>LE US</th>\n",
       "      <th>USD</th>\n",
       "      <td>1682709</td>\n",
       "      <td>-1500.0</td>\n",
       "      <td>-1500.0</td>\n",
       "      <td>-0.250000</td>\n",
       "      <td>1.000000</td>\n",
       "    </tr>\n",
       "    <tr>\n",
       "      <th>MELI US</th>\n",
       "      <th>USD</th>\n",
       "      <td>1682709</td>\n",
       "      <td>-150.0</td>\n",
       "      <td>-150.0</td>\n",
       "      <td>2.300326</td>\n",
       "      <td>1.000000</td>\n",
       "    </tr>\n",
       "    <tr>\n",
       "      <th>NFLX US</th>\n",
       "      <th>USD</th>\n",
       "      <td>1729246</td>\n",
       "      <td>-1100.0</td>\n",
       "      <td>-2200.0</td>\n",
       "      <td>33.200000</td>\n",
       "      <td>1.000000</td>\n",
       "    </tr>\n",
       "    <tr>\n",
       "      <th>PAGS US</th>\n",
       "      <th>USD</th>\n",
       "      <td>46537</td>\n",
       "      <td>-16000.0</td>\n",
       "      <td>-16000.0</td>\n",
       "      <td>19.263010</td>\n",
       "      <td>1.000000</td>\n",
       "    </tr>\n",
       "    <tr>\n",
       "      <th>WU US</th>\n",
       "      <th>USD</th>\n",
       "      <td>1682709</td>\n",
       "      <td>-2500.0</td>\n",
       "      <td>-2500.0</td>\n",
       "      <td>2.250000</td>\n",
       "      <td>1.000000</td>\n",
       "    </tr>\n",
       "  </tbody>\n",
       "</table>\n",
       "<p>284 rows × 5 columns</p>\n",
       "</div>"
      ],
      "text/plain": [
       "                                                 conta_pb  quantidade_book  \\\n",
       "data_ref   book                ticker  currency                              \n",
       "2018-07-02 BD_CLIENTS_UBS      BAP US  USD        2842698          -7753.0   \n",
       "                               LTM US  USD        1823956        -123175.0   \n",
       "                               MELI US USD        1823956          -5364.0   \n",
       "                               PAGS US USD        1823956          -1000.0   \n",
       "           PRIVATE_DEFAULT_UBS CAKE US USD        1682709          -1000.0   \n",
       "                               COHU US USD        1682709          -2000.0   \n",
       "                               DRI US  USD        1682709           -600.0   \n",
       "                               FB US   USD        1682709           -350.0   \n",
       "                               LE US   USD        1682709          -1500.0   \n",
       "                               MELI US USD        1682709           -100.0   \n",
       "                               NFLX US USD        1682709           -100.0   \n",
       "                               PAGS US USD          46537         -16000.0   \n",
       "                               WU US   USD        1682709          -2500.0   \n",
       "2018-07-03 BD_CLIENTS_UBS      BAP US  USD        2842698          -7696.0   \n",
       "                               ITCB US USD         424314           -100.0   \n",
       "                               LTM US  USD        1823956        -123175.0   \n",
       "                               MELI US USD        1823956          -5364.0   \n",
       "                               PAGS US USD        1823956          -1000.0   \n",
       "                               VCO US  USD         424314           -100.0   \n",
       "           PRIVATE_DEFAULT_UBS CAKE US USD        1682709          -1000.0   \n",
       "                               COHU US USD        1682709          -2000.0   \n",
       "                               DRI US  USD        1682709           -600.0   \n",
       "                               FB US   USD        1682709           -350.0   \n",
       "                               LE US   USD        1682709          -1500.0   \n",
       "                               MELI US USD        1682709           -100.0   \n",
       "                               NFLX US USD        1682709           -100.0   \n",
       "                               PAGS US USD          46537         -16000.0   \n",
       "                               WU US   USD        1682709          -2500.0   \n",
       "2018-07-04 BD_CLIENTS_UBS      BAP US  USD        1823956          -7500.0   \n",
       "                               ITCB US USD         424314           -100.0   \n",
       "...                                                   ...              ...   \n",
       "2018-07-27 PRIVATE_DEFAULT_UBS LE US   USD        1682709          -1500.0   \n",
       "                               MELI US USD        1682709           -150.0   \n",
       "                               NFLX US USD        1729246          -1100.0   \n",
       "                               PAGS US USD          46537         -16000.0   \n",
       "                               WU US   USD        1682709          -2500.0   \n",
       "2018-07-30 BD_CLIENTS_UBS      BAP US  USD        1823956          -7500.0   \n",
       "                               BOX US  USD         463312          -2000.0   \n",
       "                               ENPH US USD         214962         -40000.0   \n",
       "                               MELI US USD        1823956          -5364.0   \n",
       "                               PAGS US USD        1823956          -1000.0   \n",
       "           PRIVATE_DEFAULT_UBS CAKE US USD        1682709          -1000.0   \n",
       "                               DRI US  USD        1682709           -600.0   \n",
       "                               LE US   USD        1682709          -1500.0   \n",
       "                               MELI US USD        1682709           -150.0   \n",
       "                               NFLX US USD        1729246          -1100.0   \n",
       "                               PAGS US USD          46537         -16000.0   \n",
       "                               WU US   USD        1682709          -2500.0   \n",
       "2018-07-31 BD_CLIENTS_UBS      BAP US  USD        1823956          -7500.0   \n",
       "                               BOX US  USD         463312          -2000.0   \n",
       "                               ENPH US USD         214962         -80000.0   \n",
       "                               LTM US  USD        1823956         -55193.0   \n",
       "                               MELI US USD        1823956          -5364.0   \n",
       "                               PAGS US USD        1823956          -1000.0   \n",
       "           PRIVATE_DEFAULT_UBS CAKE US USD        1682709          -1000.0   \n",
       "                               DRI US  USD        1682709           -600.0   \n",
       "                               LE US   USD        1682709          -1500.0   \n",
       "                               MELI US USD        1682709           -150.0   \n",
       "                               NFLX US USD        1729246          -1100.0   \n",
       "                               PAGS US USD          46537         -16000.0   \n",
       "                               WU US   USD        1682709          -2500.0   \n",
       "\n",
       "                                                 quantidade_ticker  \\\n",
       "data_ref   book                ticker  currency                      \n",
       "2018-07-02 BD_CLIENTS_UBS      BAP US  USD                -15506.0   \n",
       "                               LTM US  USD               -123175.0   \n",
       "                               MELI US USD                 -5364.0   \n",
       "                               PAGS US USD                 -1000.0   \n",
       "           PRIVATE_DEFAULT_UBS CAKE US USD                 -1000.0   \n",
       "                               COHU US USD                 -2000.0   \n",
       "                               DRI US  USD                  -600.0   \n",
       "                               FB US   USD                  -350.0   \n",
       "                               LE US   USD                 -1500.0   \n",
       "                               MELI US USD                  -100.0   \n",
       "                               NFLX US USD                  -100.0   \n",
       "                               PAGS US USD                -16000.0   \n",
       "                               WU US   USD                 -2500.0   \n",
       "2018-07-03 BD_CLIENTS_UBS      BAP US  USD                -15392.0   \n",
       "                               ITCB US USD                  -100.0   \n",
       "                               LTM US  USD               -123175.0   \n",
       "                               MELI US USD                 -5364.0   \n",
       "                               PAGS US USD                 -1000.0   \n",
       "                               VCO US  USD                  -100.0   \n",
       "           PRIVATE_DEFAULT_UBS CAKE US USD                 -1000.0   \n",
       "                               COHU US USD                 -2000.0   \n",
       "                               DRI US  USD                  -600.0   \n",
       "                               FB US   USD                  -350.0   \n",
       "                               LE US   USD                 -1500.0   \n",
       "                               MELI US USD                  -100.0   \n",
       "                               NFLX US USD                  -100.0   \n",
       "                               PAGS US USD                -16000.0   \n",
       "                               WU US   USD                 -2500.0   \n",
       "2018-07-04 BD_CLIENTS_UBS      BAP US  USD                 -7471.0   \n",
       "                               ITCB US USD                  -100.0   \n",
       "...                                                            ...   \n",
       "2018-07-27 PRIVATE_DEFAULT_UBS LE US   USD                 -1500.0   \n",
       "                               MELI US USD                  -150.0   \n",
       "                               NFLX US USD                 -2200.0   \n",
       "                               PAGS US USD                -16000.0   \n",
       "                               WU US   USD                 -2500.0   \n",
       "2018-07-30 BD_CLIENTS_UBS      BAP US  USD                 -7500.0   \n",
       "                               BOX US  USD                 -2000.0   \n",
       "                               ENPH US USD                -40000.0   \n",
       "                               MELI US USD                 -5364.0   \n",
       "                               PAGS US USD                 -1000.0   \n",
       "           PRIVATE_DEFAULT_UBS CAKE US USD                 -1000.0   \n",
       "                               DRI US  USD                  -600.0   \n",
       "                               LE US   USD                 -1500.0   \n",
       "                               MELI US USD                  -150.0   \n",
       "                               NFLX US USD                 -2200.0   \n",
       "                               PAGS US USD                -16000.0   \n",
       "                               WU US   USD                 -2500.0   \n",
       "2018-07-31 BD_CLIENTS_UBS      BAP US  USD                 -7500.0   \n",
       "                               BOX US  USD                 -2000.0   \n",
       "                               ENPH US USD                -80000.0   \n",
       "                               LTM US  USD                -55193.0   \n",
       "                               MELI US USD                 -5364.0   \n",
       "                               PAGS US USD                 -1000.0   \n",
       "           PRIVATE_DEFAULT_UBS CAKE US USD                 -1000.0   \n",
       "                               DRI US  USD                  -600.0   \n",
       "                               LE US   USD                 -1500.0   \n",
       "                               MELI US USD                  -150.0   \n",
       "                               NFLX US USD                 -2200.0   \n",
       "                               PAGS US USD                -16000.0   \n",
       "                               WU US   USD                 -2500.0   \n",
       "\n",
       "                                                 accrual_final       pct  \n",
       "data_ref   book                ticker  currency                           \n",
       "2018-07-02 BD_CLIENTS_UBS      BAP US  USD          154.700000  1.000000  \n",
       "                               LTM US  USD          -33.260000  1.000000  \n",
       "                               MELI US USD           70.495761  1.000000  \n",
       "                               PAGS US USD            1.205769  1.000000  \n",
       "           PRIVATE_DEFAULT_UBS CAKE US USD            1.740000  1.000000  \n",
       "                               COHU US USD            2.180000  1.000000  \n",
       "                               DRI US  USD            2.920000  1.000000  \n",
       "                               FB US   USD            3.070000  1.000000  \n",
       "                               LE US   USD           -1.170000  1.000000  \n",
       "                               MELI US USD            1.314239  1.000000  \n",
       "                               NFLX US USD            1.770000  1.000000  \n",
       "                               PAGS US USD           19.292301  1.000000  \n",
       "                               WU US   USD            2.270000  1.000000  \n",
       "2018-07-03 BD_CLIENTS_UBS      BAP US  USD          157.420000  1.000000  \n",
       "                               ITCB US USD           -0.160000  1.000000  \n",
       "                               LTM US  USD          -34.830000  1.000000  \n",
       "                               MELI US USD           71.349839  1.000000  \n",
       "                               PAGS US USD            1.203469  1.000000  \n",
       "                               VCO US  USD           -1.070000  1.000000  \n",
       "           PRIVATE_DEFAULT_UBS CAKE US USD            1.760000  1.000000  \n",
       "                               COHU US USD            2.130000  1.000000  \n",
       "                               DRI US  USD            2.920000  1.000000  \n",
       "                               FB US   USD            3.020000  1.000000  \n",
       "                               LE US   USD           -1.150000  1.000000  \n",
       "                               MELI US USD            1.330161  1.000000  \n",
       "                               NFLX US USD            1.750000  1.000000  \n",
       "                               PAGS US USD           19.255509  1.000000  \n",
       "                               WU US   USD            2.250000  1.000000  \n",
       "2018-07-04 BD_CLIENTS_UBS      BAP US  USD           78.710000  1.003882  \n",
       "                               ITCB US USD           -0.160000  1.000000  \n",
       "...                                                        ...       ...  \n",
       "2018-07-27 PRIVATE_DEFAULT_UBS LE US   USD           -2.280000  1.000000  \n",
       "                               MELI US USD            7.136017  1.000000  \n",
       "                               NFLX US USD          104.820000  1.000000  \n",
       "                               PAGS US USD           61.845340  1.000000  \n",
       "                               WU US   USD            6.810000  1.000000  \n",
       "2018-07-30 BD_CLIENTS_UBS      BAP US  USD           77.340000  1.000000  \n",
       "                               BOX US  USD            2.130000  1.000000  \n",
       "                               ENPH US USD          -18.930000  1.000000  \n",
       "                               MELI US USD           82.337497  1.000000  \n",
       "                               PAGS US USD            1.279510  1.000000  \n",
       "           PRIVATE_DEFAULT_UBS CAKE US USD            1.990000  1.000000  \n",
       "                               DRI US  USD            2.860000  1.000000  \n",
       "                               LE US   USD           -0.250000  1.000000  \n",
       "                               MELI US USD            2.302503  1.000000  \n",
       "                               NFLX US USD           32.960000  1.000000  \n",
       "                               PAGS US USD           20.472160  1.000000  \n",
       "                               WU US   USD            2.250000  1.000000  \n",
       "2018-07-31 BD_CLIENTS_UBS      BAP US  USD           76.730000  1.000000  \n",
       "                               BOX US  USD            2.140000  1.000000  \n",
       "                               ENPH US USD          -39.670000  1.000000  \n",
       "                               LTM US  USD          -30.540000  1.000000  \n",
       "                               MELI US USD           82.259674  1.000000  \n",
       "                               PAGS US USD            1.203938  1.000000  \n",
       "           PRIVATE_DEFAULT_UBS CAKE US USD            1.950000  1.000000  \n",
       "                               DRI US  USD            2.870000  1.000000  \n",
       "                               LE US   USD           -0.250000  1.000000  \n",
       "                               MELI US USD            2.300326  1.000000  \n",
       "                               NFLX US USD           33.200000  1.000000  \n",
       "                               PAGS US USD           19.263010  1.000000  \n",
       "                               WU US   USD            2.250000  1.000000  \n",
       "\n",
       "[284 rows x 5 columns]"
      ]
     },
     "execution_count": 124,
     "metadata": {},
     "output_type": "execute_result"
    }
   ],
   "source": [
    "batimento_wm_distrib.groupby(by=['data_ref', 'book', 'ticker', 'currency']).sum()"
   ]
  },
  {
   "cell_type": "code",
   "execution_count": 125,
   "metadata": {
    "collapsed": true
   },
   "outputs": [],
   "source": [
    "batimento_wm_distrib['accrual'] = batimento_wm_distrib['accrual_final']*batimento_wm_distrib['pct']"
   ]
  },
  {
   "cell_type": "code",
   "execution_count": 126,
   "metadata": {
    "collapsed": false
   },
   "outputs": [],
   "source": [
    "batimento_wm_distrib = batimento_wm_distrib.drop(['quantidade_ticker', 'pct'], axis=1).rename(columns = {\n",
    "'accrual_final':'accrual_n_distrib','accrual':'accrual_final'})"
   ]
  },
  {
   "cell_type": "code",
   "execution_count": null,
   "metadata": {
    "collapsed": true
   },
   "outputs": [],
   "source": []
  },
  {
   "cell_type": "code",
   "execution_count": 127,
   "metadata": {
    "collapsed": true
   },
   "outputs": [],
   "source": [
    "abertura_batidos_consol_wm = pd.merge(batimento_wm_distrib, ajuste, on=['acc','currency'], how='left')"
   ]
  },
  {
   "cell_type": "code",
   "execution_count": 128,
   "metadata": {
    "collapsed": true
   },
   "outputs": [],
   "source": [
    "abertura_batidos_consol_wm['accrual'] = abertura_batidos_consol_wm['accrual_final']*abertura_batidos_consol_wm['multiplicador']"
   ]
  },
  {
   "cell_type": "code",
   "execution_count": null,
   "metadata": {
    "collapsed": true
   },
   "outputs": [],
   "source": []
  },
  {
   "cell_type": "code",
   "execution_count": 129,
   "metadata": {
    "collapsed": true
   },
   "outputs": [],
   "source": [
    "abertura_batidos_consol_wm = abertura_batidos_consol_wm.drop(['accrual_final', 'multiplicador','accrual_n_distrib'], axis=1)"
   ]
  },
  {
   "cell_type": "code",
   "execution_count": 130,
   "metadata": {
    "collapsed": true
   },
   "outputs": [],
   "source": [
    "abertura_batidos_consol_wm = abertura_batidos_consol_wm[abertura_batidos_consol_wm['accrual']!=0]"
   ]
  },
  {
   "cell_type": "code",
   "execution_count": 131,
   "metadata": {
    "collapsed": false
   },
   "outputs": [],
   "source": [
    "total_wm = abertura_batidos_consol_wm.groupby(by=['acc','book','currency']).sum().reset_index()"
   ]
  },
  {
   "cell_type": "code",
   "execution_count": 132,
   "metadata": {
    "collapsed": true
   },
   "outputs": [],
   "source": [
    "total_wm_calypso = abertura_batidos_consol[(abertura_batidos_consol['book'].str.contains('CLIENTS'))|\\\n",
    "                       (abertura_batidos_consol['book'].str.contains('PRIVATE'))].reset_index(drop=True)\\\n",
    "                                                                .groupby(by=['book', 'currency']).sum().reset_index()"
   ]
  },
  {
   "cell_type": "code",
   "execution_count": 133,
   "metadata": {
    "collapsed": false
   },
   "outputs": [
    {
     "name": "stderr",
     "output_type": "stream",
     "text": [
      "C:\\ProgramData\\Anaconda3\\lib\\site-packages\\pandas\\tools\\merge.py:1376: RuntimeWarning: divide by zero encountered in longlong_scalars\n",
      "  stride //= shape[i]\n"
     ]
    }
   ],
   "source": [
    "total_wm_n_distrib = pd.merge(total_wm, total_wm_calypso, on=['book','currency'], how='left').fillna(0)"
   ]
  },
  {
   "cell_type": "code",
   "execution_count": 134,
   "metadata": {
    "collapsed": true
   },
   "outputs": [],
   "source": [
    "total_wm_n_distrib['accrual_final_n_distrib'] = total_wm_n_distrib['accrual_final']-total_wm_n_distrib['accrual']"
   ]
  },
  {
   "cell_type": "code",
   "execution_count": 135,
   "metadata": {
    "collapsed": false
   },
   "outputs": [],
   "source": [
    "total_wm_n_distrib = total_wm_n_distrib.drop(['accrual', 'accrual_final', 'quantidade_book_x','quantidade_book_y',\n",
    "                                              'conta_pb'], axis=1)"
   ]
  },
  {
   "cell_type": "code",
   "execution_count": 136,
   "metadata": {
    "collapsed": false
   },
   "outputs": [],
   "source": [
    "abertura_batidos_consol_wm = abertura_batidos_consol_wm.groupby(by=['book','conta','currency']).sum().reset_index()\\\n",
    "                                                .drop(['conta_pb','quantidade_book'], axis=1)"
   ]
  },
  {
   "cell_type": "code",
   "execution_count": 137,
   "metadata": {
    "collapsed": true
   },
   "outputs": [],
   "source": [
    "total_wm_n_distrib['conta'] = 'OUTROS'\n",
    "total_wm_n_distrib = total_wm_n_distrib.rename(columns={'accrual_final_n_distrib':'accrual'})"
   ]
  },
  {
   "cell_type": "code",
   "execution_count": 138,
   "metadata": {
    "collapsed": false,
    "scrolled": true
   },
   "outputs": [],
   "source": [
    "abertura_batidos_consol_wm = abertura_batidos_consol_wm.groupby(by=['conta', 'book','currency']).sum().reset_index()\n",
    "abertura_batidos_consol_wm['acc'] = 'ubs_cayman'"
   ]
  },
  {
   "cell_type": "code",
   "execution_count": 139,
   "metadata": {
    "collapsed": true
   },
   "outputs": [],
   "source": [
    "abertura_batidos_consol_wm = pd.concat([total_wm_n_distrib, abertura_batidos_consol_wm], axis=0)"
   ]
  },
  {
   "cell_type": "code",
   "execution_count": 140,
   "metadata": {
    "collapsed": false
   },
   "outputs": [
    {
     "data": {
      "text/html": [
       "<div>\n",
       "<table border=\"1\" class=\"dataframe\">\n",
       "  <thead>\n",
       "    <tr style=\"text-align: right;\">\n",
       "      <th></th>\n",
       "      <th>acc</th>\n",
       "      <th>accrual</th>\n",
       "      <th>book</th>\n",
       "      <th>conta</th>\n",
       "      <th>currency</th>\n",
       "    </tr>\n",
       "  </thead>\n",
       "  <tbody>\n",
       "  </tbody>\n",
       "</table>\n",
       "</div>"
      ],
      "text/plain": [
       "Empty DataFrame\n",
       "Columns: [acc, accrual, book, conta, currency]\n",
       "Index: []"
      ]
     },
     "execution_count": 140,
     "metadata": {},
     "output_type": "execute_result"
    }
   ],
   "source": [
    "abertura_batidos_consol_wm"
   ]
  },
  {
   "cell_type": "code",
   "execution_count": null,
   "metadata": {
    "collapsed": true
   },
   "outputs": [],
   "source": []
  },
  {
   "cell_type": "code",
   "execution_count": null,
   "metadata": {
    "collapsed": true
   },
   "outputs": [],
   "source": []
  },
  {
   "cell_type": "code",
   "execution_count": 141,
   "metadata": {
    "collapsed": false
   },
   "outputs": [],
   "source": [
    "abertura_batidos_consol_wm = abertura_batidos_consol_wm[['acc','conta','book','currency','accrual']]"
   ]
  },
  {
   "cell_type": "code",
   "execution_count": 142,
   "metadata": {
    "collapsed": false,
    "scrolled": true
   },
   "outputs": [],
   "source": [
    "abertura_batidos_consol = abertura_batidos_consol[['acc', 'book', 'currency', 'accrual_final']]"
   ]
  },
  {
   "cell_type": "code",
   "execution_count": null,
   "metadata": {
    "collapsed": true
   },
   "outputs": [],
   "source": []
  },
  {
   "cell_type": "code",
   "execution_count": null,
   "metadata": {
    "collapsed": true
   },
   "outputs": [],
   "source": []
  },
  {
   "cell_type": "markdown",
   "metadata": {},
   "source": [
    "# Resultados"
   ]
  },
  {
   "cell_type": "code",
   "execution_count": 143,
   "metadata": {
    "collapsed": true
   },
   "outputs": [],
   "source": [
    "mes_ref='jul'\n",
    "ano_ref = 2018\n",
    "referencia = 'month'"
   ]
  },
  {
   "cell_type": "code",
   "execution_count": 144,
   "metadata": {
    "collapsed": false
   },
   "outputs": [],
   "source": [
    "string = get_name(mes_ref, ano_ref, 'bla', referencia = referencia)"
   ]
  },
  {
   "cell_type": "code",
   "execution_count": null,
   "metadata": {
    "collapsed": true
   },
   "outputs": [],
   "source": []
  },
  {
   "cell_type": "code",
   "execution_count": 145,
   "metadata": {
    "collapsed": true
   },
   "outputs": [],
   "source": [
    "save_path = r'\\\\DRIOC0231PFS\\Apoio_SB\\Geral\\BD\\Aluguel_Offshore\\Arquivos diários'"
   ]
  },
  {
   "cell_type": "code",
   "execution_count": 146,
   "metadata": {
    "collapsed": false
   },
   "outputs": [],
   "source": [
    "if referencia == 'month':\n",
    "    subfolder = mes_ref+str(ano_ref)\n",
    "    final_path = save_path+'\\\\'+subfolder+'\\\\'+'consolidado'\n",
    "    if os.path.isdir(save_path+'\\\\'+subfolder)==True:\n",
    "        if os.path.isdir(save_path+'\\\\'+subfolder+'\\\\'+'consolidado')==False:\n",
    "            os.mkdir(save_path+'\\\\'+subfolder+'\\\\'+'consolidado')\n",
    "    else:\n",
    "        os.mkdir(save_path+'\\\\'+subfolder)\n",
    "        os.mkdir(save_path+'\\\\'+subfolder+'\\\\'+'consolidado')\n",
    "else:\n",
    "    subfolder = months_dict[pd.to_datetime(data).month]+str(pd.to_datetime(data).year)\n",
    "    final_path = save_path+'\\\\'+subfolder+'\\\\'+data\n",
    "    if os.path.isdir(save_path+'\\\\'+subfolder)==True:\n",
    "        if os.path.isdir(save_path+'\\\\'+subfolder+'\\\\'+data)==False:\n",
    "            os.mkdir(save_path+'\\\\'+subfolder+'\\\\'+data)\n",
    "    else:\n",
    "        os.mkdir(save_path+'\\\\'+subfolder)\n",
    "        os.mkdir(save_path+'\\\\'+subfolder+'\\\\'+data)"
   ]
  },
  {
   "cell_type": "code",
   "execution_count": 147,
   "metadata": {
    "collapsed": false
   },
   "outputs": [
    {
     "data": {
      "text/plain": [
       "'\\\\\\\\DRIOC0231PFS\\\\Apoio_SB\\\\Geral\\\\BD\\\\Aluguel_Offshore\\\\Arquivos diários\\\\jul2018\\\\consolidado'"
      ]
     },
     "execution_count": 147,
     "metadata": {},
     "output_type": "execute_result"
    }
   ],
   "source": [
    "final_path"
   ]
  },
  {
   "cell_type": "code",
   "execution_count": 148,
   "metadata": {
    "collapsed": false
   },
   "outputs": [],
   "source": [
    "writer = pd.ExcelWriter(final_path+'\\\\batimento_alguel_offshore_'+string+'.xlsx')"
   ]
  },
  {
   "cell_type": "code",
   "execution_count": 149,
   "metadata": {
    "collapsed": true
   },
   "outputs": [],
   "source": [
    "abertura_batidos_consol.to_excel(writer, sheet_name = 'Custos Consolidados', index=False)"
   ]
  },
  {
   "cell_type": "code",
   "execution_count": 150,
   "metadata": {
    "collapsed": true
   },
   "outputs": [],
   "source": [
    "abertura_batidos_consol_wm.to_excel(writer, sheet_name = 'Distrib WM', index=False)"
   ]
  },
  {
   "cell_type": "code",
   "execution_count": 151,
   "metadata": {
    "collapsed": false
   },
   "outputs": [],
   "source": [
    "writer.save()"
   ]
  },
  {
   "cell_type": "code",
   "execution_count": null,
   "metadata": {
    "collapsed": true
   },
   "outputs": [],
   "source": []
  },
  {
   "cell_type": "code",
   "execution_count": 152,
   "metadata": {
    "collapsed": true
   },
   "outputs": [],
   "source": [
    "writer_2 = pd.ExcelWriter(final_path+'\\\\batimento_alguel_offshore_sobras_'+string+'.xlsx')"
   ]
  },
  {
   "cell_type": "code",
   "execution_count": 153,
   "metadata": {
    "collapsed": false
   },
   "outputs": [],
   "source": [
    "abertura_n_batidos.to_excel(writer_2, sheet_name = 'abertura_n_batidos', index=False)\n",
    "sobra_origem.to_excel(writer_2, sheet_name = 'sobra_origem', index=False)\n",
    "sobra_destino.to_excel(writer_2, sheet_name = 'sobra_destino', index=False)"
   ]
  },
  {
   "cell_type": "code",
   "execution_count": 154,
   "metadata": {
    "collapsed": false
   },
   "outputs": [],
   "source": [
    "writer_2.save()"
   ]
  },
  {
   "cell_type": "code",
   "execution_count": null,
   "metadata": {
    "collapsed": true
   },
   "outputs": [],
   "source": []
  },
  {
   "cell_type": "code",
   "execution_count": null,
   "metadata": {
    "collapsed": true
   },
   "outputs": [],
   "source": []
  },
  {
   "cell_type": "code",
   "execution_count": null,
   "metadata": {
    "collapsed": true
   },
   "outputs": [],
   "source": []
  }
 ],
 "metadata": {
  "kernelspec": {
   "display_name": "Python 3",
   "language": "python",
   "name": "python3"
  },
  "language_info": {
   "codemirror_mode": {
    "name": "ipython",
    "version": 3
   },
   "file_extension": ".py",
   "mimetype": "text/x-python",
   "name": "python",
   "nbconvert_exporter": "python",
   "pygments_lexer": "ipython3",
   "version": "3.6.0"
  }
 },
 "nbformat": 4,
 "nbformat_minor": 2
}
