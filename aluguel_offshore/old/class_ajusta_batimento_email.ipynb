{
 "cells": [
  {
   "cell_type": "code",
   "execution_count": null,
   "metadata": {
    "collapsed": true
   },
   "outputs": [],
   "source": [
    "import os\n",
    "import sys\n",
    "sys.path.append('%s/../' % os.getcwd())\n",
    "\n",
    "import datetime\n",
    "import pandas as pd\n",
    "import numpy as np\n",
    "import getpass"
   ]
  },
  {
   "cell_type": "code",
   "execution_count": null,
   "metadata": {
    "collapsed": true
   },
   "outputs": [],
   "source": []
  },
  {
   "cell_type": "code",
   "execution_count": null,
   "metadata": {
    "collapsed": true
   },
   "outputs": [],
   "source": [
    "class AjustaBatimentoEmailCayman(object):\n",
    "    '''Class destinada a fazer o último batimento das informações de Aluguel Ofshore - insumo vem dos e-mails de cayman'''\n",
    "    \n",
    "    def __init__(self):\n",
    "        \n",
    "    def ajuste_dados_email(self, info_emails, abertura_batidos):\n",
    "        info_email = self.info_email\n",
    "        abertura_batidos = self.abertura_batidos\n",
    "        \n",
    "        ajuste = pd.merge(abertura_batidos.groupby(by=['acc', 'currency']).sum().reset_index(),\\\n",
    "                                              info_emails, on=['acc','currency'], how='left')\n",
    "        \n",
    "        check_10 = ajuste[ajuste['accrual_final_y'].isnull()==True].shape[0]\n",
    "        print('%s linhas foram dropadas da base, porque os valores não foram descontados no conta.' %check_10) \n",
    "        ajuste['multiplicador'] = ajuste['accrual_final_y']/ajuste['accrual_final_x']\n",
    "        ajuste = ajuste.rename(columns={\n",
    "            'accrual_final_x':'accrual_final_gerado',\n",
    "            'accrual_final_y':'accrual_final_email' \n",
    "        }).fillna(0).drop(['quantidade_book','accrual_final_gerado', 'accrual_final_email'], axis=1)\n",
    "        \n",
    "        abertura_batidos_ajustado = pd.merge(abertura_batidos, ajuste, on=['acc','currency'], how='left')\n",
    "        check_11 = abertura_batidos_ajustado.shape[0]-abertura_batidos.shape[0]\n",
    "        if check_11 != 0:\n",
    "            print ('%s linhas foram duplicadas durante o ajuste. Verificar!!')\n",
    "        abertura_batidos_ajustado['accrual'] = abertura_batidos_ajustado['accrual_final']\\\n",
    "                                                                *abertura_batidos_ajustado['multiplicador']\n",
    "        abertura_batidos_ajustado = abertura_batidos_ajustado.drop(['accrual_final','multiplicador'], axis=1)\n",
    "        \n",
    "        check_12 = abertura_batidos_ajustado.shape[0]-abertura_batidos_ajustado[abertura_batidos_ajustado['accrual']!=0].shape[0]\n",
    "        print('%s tickers_book foram dropados da abertura porque suas contas não faziam sentido com o que foi cobrado' %check_12)\n",
    "        \n",
    "        abertura_batidos_ajustado = abertura_batidos_ajustado[abertura_batidos_ajustado['accrual']!=0]\n",
    "        abertura_batidos_ajustado_neg = abertura_batidos_ajustado[abertura_batidos_ajustado['accrual']<0]\n",
    "        abertura_batidos_ajustado_posi = abertura_batidos_ajustado[abertura_batidos_ajustado['accrual']>=0]\n",
    "        ajuste_neg_grouped = abertura_batidos_ajustado_neg.groupby(by=['acc','currency']).sum().reset_index()\n",
    "        \n",
    "        check_13 = abertura_batidos_ajustado_neg.shape[0]-\\\n",
    "                    pd.merge(abertura_batidos_ajustado_neg, ajuste_neg_grouped, on=['acc','currency'], how='left').shape[0]\n",
    "        if check_13 != 0:\n",
    "            print ('%s linhas foram duplicadas durante o ajuste dos números negativos. Verificar!!' %check_13)\n",
    "            \n",
    "        abertura_batidos_ajustado_neg = pd.merge(abertura_batidos_ajustado_neg, ajuste_neg_grouped, on=['acc','currency'], how='left')\n",
    "        abertura_batidos_ajustado_neg['pct'] = abertura_batidos_ajustado_neg['accrual_x']/abertura_batidos_ajustado_neg['accrual_y']\n",
    "        \n",
    "        check_14 = abertura_batidos_ajustado_neg.groupby(by=['acc','currency']).sum().reset_index()\n",
    "        check_14 = check_14[np.isclose(check_14['pct'], 1)==False].shape[0]\n",
    "        if check_14 != 0:\n",
    "            print ('O batimento não foi feito!!! %s contas somam valor diferente a 100\\%')\n",
    "        \n",
    "        abertura_batidos_ajustado_posi = abertura_batidos_ajustado_posi.groupby(by=['acc','currency']).sum().reset_index()\n",
    "        check_15 = abertura_batidos_ajustado_neg.shape[0]-\\\n",
    "                                    pd.merge(abertura_batidos_ajustado_neg, abertura_batidos_ajustado_posi, \\\n",
    "                                                         on=['acc','currency'], how='left').shape[0]\n",
    "        if check_15 != 0:\n",
    "            print ('%s linhas foram duplicadas durante o ajuste de quantidades positivas!!!'%check_15)\n",
    "            \n",
    "        abertura_batidos_ajustado_neg = pd.merge(abertura_batidos_ajustado_neg, abertura_batidos_ajustado_posi, \\\n",
    "                                         on=['acc','currency'], how='left').fillna(0)\n",
    "        abertura_batidos_ajustado_neg['distrib_positives'] = abertura_batidos_ajustado_neg['pct']\\\n",
    "                                                        *abertura_batidos_ajustado_neg['accrual']\n",
    "        abertura_batidos_ajustado_neg['accrual_final'] = abertura_batidos_ajustado_neg['accrual_x']+\\\n",
    "                                                        abertura_batidos_ajustado_neg['distrib_positives']\n",
    "        abertura_batidos_ajustado = abertura_batidos_ajustado_neg.drop(['accrual_x', 'accrual_y', 'pct', 'accrual', \n",
    "                                                          'distrib_positives'], axis=1)    \n",
    "        abertura_batidos_consol = abertura_batidos_ajustado.groupby(['acc', 'book', 'currency'])\\\n",
    "                                        .sum().reset_index().drop(['quantidade_book','quantidade_book_y'], axis=1)\\\n",
    "                                                .rename(columns={'quantidade_book_x':'quantidade_book'})\n",
    "                \n",
    "        check_16 = pd.merge(abertura_batidos_ajustado.groupby(by=['acc', 'currency']).sum().reset_index(), \\\n",
    "                                    info_emails, on=['acc','currency'],how='left')\n",
    "        check_16['pct'] = check_16['accrual_final_x']/check_16['accrual_final_y']\n",
    "        check_16 = check_16[np.isclose(check_16['pct'], 1)==False].shape[0]\n",
    "        if check_16 != 0:\n",
    "            print ('O batimento não foi feito!!! %s contas somam valor diferente a 100\\%')\n",
    "            \n",
    "        abertura_batidos_ajustado[abertura_batidos_ajustado.book=='LOCAL_ADR_INTC'][['conta','agent','data_ref','quantidade_book_x',\n",
    "                                                                             'book', 'ticker','currency','accrual_final']].to_excel('LOCAL_ADR_INTC.xlsx')\n",
    "        \n",
    "        return abertura_batidos_ajustado, abertura_batidos_consol"
   ]
  },
  {
   "cell_type": "code",
   "execution_count": null,
   "metadata": {
    "collapsed": true
   },
   "outputs": [],
   "source": []
  },
  {
   "cell_type": "code",
   "execution_count": null,
   "metadata": {
    "collapsed": true
   },
   "outputs": [],
   "source": []
  }
 ],
 "metadata": {
  "kernelspec": {
   "display_name": "Python 3",
   "language": "python",
   "name": "python3"
  },
  "language_info": {
   "codemirror_mode": {
    "name": "ipython",
    "version": 3
   },
   "file_extension": ".py",
   "mimetype": "text/x-python",
   "name": "python",
   "nbconvert_exporter": "python",
   "pygments_lexer": "ipython3",
   "version": "3.6.0"
  }
 },
 "nbformat": 4,
 "nbformat_minor": 2
}
