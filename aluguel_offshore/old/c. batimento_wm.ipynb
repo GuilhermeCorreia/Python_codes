{
 "cells": [
  {
   "cell_type": "code",
   "execution_count": 1,
   "metadata": {
    "collapsed": false
   },
   "outputs": [],
   "source": [
    "%load_ext autoreload\n",
    "%autoreload 2\n",
    "\n",
    "import os\n",
    "import sys\n",
    "sys.path.append('%s/../' % os.getcwd())\n",
    "\n",
    "import datetime\n",
    "import pandas as pd\n",
    "import numpy as np\n",
    "import getpass"
   ]
  },
  {
   "cell_type": "code",
   "execution_count": 2,
   "metadata": {
    "collapsed": true
   },
   "outputs": [],
   "source": [
    "from formulas_auxiliares_ajuste_base import months_dict, dict_contas\n",
    "import formulas_auxiliares_ajuste_base as aux\n",
    "from class_ajusta_batimento_email import *"
   ]
  },
  {
   "cell_type": "code",
   "execution_count": 3,
   "metadata": {
    "collapsed": true
   },
   "outputs": [],
   "source": [
    "path = '\\\\\\\\DRIOC0231PFS\\\\Apoio_SB\\\\Geral\\\\BD\\\\Aluguel_Offshore\\\\Arquivos diários\\\\jul2018\\\\consolidado\\\\'\n",
    "file = 'bases_batimento_pb_calypso.xlsx'"
   ]
  },
  {
   "cell_type": "code",
   "execution_count": 4,
   "metadata": {
    "collapsed": true
   },
   "outputs": [],
   "source": [
    "pasta = r'C:\\Users\\correigu\\OneDrive - Banco BTG Pactual S.A\\Desktop\\aqruivos_offshore'\n",
    "data_inicio = pd.to_datetime('2018-07-01')\n",
    "data_final = pd.to_datetime('2018-07-15')"
   ]
  },
  {
   "cell_type": "code",
   "execution_count": 5,
   "metadata": {
    "collapsed": false
   },
   "outputs": [],
   "source": [
    "abertura = pd.read_excel(path+'distribuicao_asset_consolidada_ajustada_email_cayman.xlsx', sheetname='tickers_abertura')\n",
    "ajuste = pd.read_excel(path+'distribuicao_asset_consolidada_ajustada_email_cayman.xlsx', sheetname='ajuste')\n",
    "abertura_batidos_consol = pd.read_excel(path+'distribuicao_asset_consolidada_ajustada_email_cayman.xlsx', \n",
    "                                        sheetname='trades_abertura_batidos_consol')"
   ]
  },
  {
   "cell_type": "code",
   "execution_count": 6,
   "metadata": {
    "collapsed": true
   },
   "outputs": [],
   "source": [
    "pb_wm = abertura[(abertura['book'].str.contains('PRIVATE'))\\\n",
    "                 |(abertura['book'].str.contains('CLIENT'))].copy()"
   ]
  },
  {
   "cell_type": "code",
   "execution_count": 7,
   "metadata": {
    "collapsed": false
   },
   "outputs": [
    {
     "name": "stdout",
     "output_type": "stream",
     "text": [
      "Povoando lista de arquivos que serão baixados para a memória\n",
      "    O arquivo Ajustes não possui data registrada\n",
      "    O arquivo Ajustes não pôde ser comparado com os demais\n",
      "    O arquivo tickers_diffs.xlsx não possui data registrada\n",
      "    O arquivo tickers_diffs.xlsx não pôde ser comparado com os demais\n",
      "--------------------------------------------------------------------------------------------------------------\n",
      "Baixando arquivos!!\n",
      "    10 arquivos do ubs importados\n",
      "    20 arquivos da morgan importados\n",
      "    10 arquivos do Calypso PROP+ASSET importados\n",
      "    10 arquivos do Calypso BD+WM importados\n",
      "    10 arquivos do Calypso INTC importados\n",
      "--------------------------------------------------------------------------------------------------------------\n",
      "Baixando arquivos!!\n",
      "    10 arquivos do ubs importados\n",
      "    20 arquivos da morgan importados\n",
      "    10 arquivos do Calypso PROP+ASSET importados\n",
      "    10 arquivos do Calypso BD+WM importados\n",
      "    10 arquivos do Calypso INTC importados\n",
      "--------------------------------------------------------------------------------------------------------------\n"
     ]
    }
   ],
   "source": [
    "ubs, morgan, intc, bdwm, pras = aux.TratamentoDosDados(pasta, data_inicio, data_final).baixa_dados_df()"
   ]
  },
  {
   "cell_type": "code",
   "execution_count": 8,
   "metadata": {
    "collapsed": false
   },
   "outputs": [],
   "source": [
    "calypso_wm = bdwm.copy()\n",
    "calypso_wm['tipo'] = 'WM' \n",
    "calypso_wm['date'] = pd.to_datetime(calypso_wm['date'])\n",
    "calypso_wm['month_number'] = calypso_wm['date'].dt.month\n",
    "calypso_wm['year'] = calypso_wm['date'].dt.year\n",
    "calypso_wm['month'] = calypso_wm['month_number'].map(months_dict)\n",
    "calypso_wm = calypso_wm[['Account Name','tipo', 'Agent','date', 'shares', 'Book', 'PRODUCT_CODE.TICKER', 'PRODUCT_CODE.ISIN', \n",
    "                   'PRODUCT_CODE.CUSIP', 'Product Currency', 'month', 'year', 'LE Name']].reset_index(drop=True)\n",
    "calypso_wm.columns = ['conta_pb','conta', 'agent', 'data_ref', 'quantidade', 'book', 'ticker', 'isin', 'cusip', \n",
    "              'currency', 'month', 'year', 'cliente']\n",
    "calypso_wm['quantidade'] = calypso_wm['quantidade'].replace(',','', regex=True)\n",
    "calypso_wm['quantidade'] = calypso_wm['quantidade'].astype(float)"
   ]
  },
  {
   "cell_type": "code",
   "execution_count": 9,
   "metadata": {
    "collapsed": true
   },
   "outputs": [],
   "source": [
    "calypso_wm['quantidade'] = -1*calypso_wm['quantidade']"
   ]
  },
  {
   "cell_type": "code",
   "execution_count": 10,
   "metadata": {
    "collapsed": true
   },
   "outputs": [],
   "source": [
    "calypso_wm = calypso_wm[calypso_wm['quantidade']<0]"
   ]
  },
  {
   "cell_type": "code",
   "execution_count": null,
   "metadata": {
    "collapsed": true
   },
   "outputs": [],
   "source": []
  },
  {
   "cell_type": "code",
   "execution_count": 11,
   "metadata": {
    "collapsed": true
   },
   "outputs": [],
   "source": [
    "calypso_wm_grouped =calypso_wm.groupby(by=['data_ref', 'book', 'ticker', 'currency']).sum().reset_index()"
   ]
  },
  {
   "cell_type": "code",
   "execution_count": 12,
   "metadata": {
    "collapsed": true
   },
   "outputs": [],
   "source": [
    "check_17 = pb_wm.shape[0]-pd.merge(pb_wm, calypso_wm_grouped, on=['data_ref', 'book', 'ticker', 'currency'], how='left')\\\n",
    "                                                                                    .shape[0]\n",
    "if check_17!=0:\n",
    "    print ('%s linhas foram duplicadas durante o barimento de WM!!!! Verificar!' %check_17)"
   ]
  },
  {
   "cell_type": "code",
   "execution_count": 13,
   "metadata": {
    "collapsed": true
   },
   "outputs": [],
   "source": [
    "batimento_wm = pd.merge(pb_wm, calypso_wm_grouped, on=['data_ref', 'book', 'ticker', 'currency'], how='left')\\\n",
    "                                                                                    .drop('year', axis=1)"
   ]
  },
  {
   "cell_type": "code",
   "execution_count": 14,
   "metadata": {
    "collapsed": false
   },
   "outputs": [
    {
     "name": "stdout",
     "output_type": "stream",
     "text": [
      "Durante o batimento de WM, 0 trades ficaram como sobra de destino!!\n"
     ]
    }
   ],
   "source": [
    "batimento_wm_sobra_destino = batimento_wm[batimento_wm['quantidade'].isnull()==True].copy()\n",
    "print ('Durante o batimento de WM, %s trades ficaram como sobra de destino!!' %batimento_wm_sobra_destino.shape[0])\n",
    "\n",
    "batimento_wm_sobra_destino['status'] = 'n_batido'"
   ]
  },
  {
   "cell_type": "code",
   "execution_count": 15,
   "metadata": {
    "collapsed": true
   },
   "outputs": [],
   "source": [
    "batimento_wm = batimento_wm[batimento_wm['quantidade'].isnull()==False].copy()\n",
    "batimento_wm_batidos = batimento_wm[batimento_wm['quantidade_book']==batimento_wm['quantidade']].copy()\n",
    "\n",
    "batimento_wm_batidos['status'] = 'batido'"
   ]
  },
  {
   "cell_type": "code",
   "execution_count": 16,
   "metadata": {
    "collapsed": false
   },
   "outputs": [
    {
     "name": "stdout",
     "output_type": "stream",
     "text": [
      "Durante o batimento de WM, 1 trades ficaram com quantidade divergente!!\n"
     ]
    }
   ],
   "source": [
    "batimento_wm_divergentes = batimento_wm[batimento_wm['quantidade_book']!=batimento_wm['quantidade']].copy()\n",
    "print ('Durante o batimento de WM, %s trades ficaram com quantidade divergente!!' %batimento_wm_divergentes.shape[0])"
   ]
  },
  {
   "cell_type": "code",
   "execution_count": 17,
   "metadata": {
    "collapsed": true
   },
   "outputs": [],
   "source": [
    "batimento_wm_divergentes['status'] = 'divergente'"
   ]
  },
  {
   "cell_type": "code",
   "execution_count": 18,
   "metadata": {
    "collapsed": true
   },
   "outputs": [],
   "source": [
    "batimento_wm = pd.concat([batimento_wm_batidos, batimento_wm_divergentes], axis=0)"
   ]
  },
  {
   "cell_type": "code",
   "execution_count": 19,
   "metadata": {
    "collapsed": true
   },
   "outputs": [],
   "source": [
    "batimento_wm['id'] = range(0, batimento_wm.shape[0])"
   ]
  },
  {
   "cell_type": "code",
   "execution_count": 20,
   "metadata": {
    "collapsed": true
   },
   "outputs": [],
   "source": [
    "batimento_wm_distrib = pd.merge(calypso_wm, batimento_wm, on=['data_ref', 'book', 'ticker', 'currency'], how='left')\\\n",
    "[['conta_pb_x', 'agent_x', 'data_ref', 'quantidade_x', 'book', 'ticker', 'currency', 'cliente','quantidade_book', \n",
    "  'acc', 'status','accrual_final', 'id']].rename(columns={\n",
    "    'quantidade_book':'quantidade_ticker',\n",
    "    'quantidade_x':'quantidade_book',\n",
    "    'conta_pb_x':'conta_pb',\n",
    "    'agent_x':'agent',\n",
    "    'cliente':'conta'   \n",
    "})\n",
    "check_18 = batimento_wm_distrib.shape[0]-calypso_wm.shape[0]\n",
    "if check_18!=0:\n",
    "    print ('%s linhas foram duplicadas durante o ajuste de WM' %check_18)"
   ]
  },
  {
   "cell_type": "code",
   "execution_count": 21,
   "metadata": {
    "collapsed": false
   },
   "outputs": [
    {
     "name": "stdout",
     "output_type": "stream",
     "text": [
      "Durante o batimento de WM, 54 trades não foram distribuídos!!\n"
     ]
    },
    {
     "name": "stderr",
     "output_type": "stream",
     "text": [
      "C:\\ProgramData\\Anaconda3\\lib\\site-packages\\ipykernel\\__main__.py:1: UserWarning: Boolean Series key will be reindexed to match DataFrame index.\n",
      "  if __name__ == '__main__':\n"
     ]
    }
   ],
   "source": [
    "batimento_wm_sobra_origem = batimento_wm[~batimento_wm_distrib['id'].isin(batimento_wm['id'].copy().drop_duplicates())].copy()\n",
    "print ('Durante o batimento de WM, %s trades não foram distribuídos!!' %batimento_wm_sobra_origem.shape[0])"
   ]
  },
  {
   "cell_type": "code",
   "execution_count": 22,
   "metadata": {
    "collapsed": true
   },
   "outputs": [],
   "source": [
    "batimento_wm_distrib = batimento_wm_distrib.drop('id', axis=1)"
   ]
  },
  {
   "cell_type": "code",
   "execution_count": 23,
   "metadata": {
    "collapsed": true
   },
   "outputs": [],
   "source": [
    "n_batimento_wm_distrib = batimento_wm_distrib[batimento_wm_distrib['quantidade_ticker'].isnull()==True]\\\n",
    "                                                                .drop(['quantidade_ticker'], axis=1)"
   ]
  },
  {
   "cell_type": "code",
   "execution_count": 24,
   "metadata": {
    "collapsed": true
   },
   "outputs": [],
   "source": [
    "batimento_wm_distrib = batimento_wm_distrib[batimento_wm_distrib['quantidade_ticker'].isnull()==False]"
   ]
  },
  {
   "cell_type": "code",
   "execution_count": 25,
   "metadata": {
    "collapsed": true
   },
   "outputs": [],
   "source": [
    "batimento_wm_distrib['pct'] = batimento_wm_distrib['quantidade_book']/batimento_wm_distrib['quantidade_ticker']"
   ]
  },
  {
   "cell_type": "code",
   "execution_count": 26,
   "metadata": {
    "collapsed": true
   },
   "outputs": [],
   "source": [
    "batimento_wm_distrib['accrual'] = batimento_wm_distrib['accrual_final']*batimento_wm_distrib['pct']"
   ]
  },
  {
   "cell_type": "code",
   "execution_count": 27,
   "metadata": {
    "collapsed": true
   },
   "outputs": [],
   "source": [
    "batimento_wm_distrib = batimento_wm_distrib.drop(['quantidade_ticker', 'pct'], axis=1).rename(columns = {\n",
    "'accrual_final':'accrual_n_distrib','accrual':'accrual_final'})"
   ]
  },
  {
   "cell_type": "code",
   "execution_count": null,
   "metadata": {
    "collapsed": true
   },
   "outputs": [],
   "source": []
  },
  {
   "cell_type": "code",
   "execution_count": null,
   "metadata": {
    "collapsed": true
   },
   "outputs": [],
   "source": []
  },
  {
   "cell_type": "code",
   "execution_count": 28,
   "metadata": {
    "collapsed": false
   },
   "outputs": [],
   "source": [
    "abertura_batidos_consol_wm = pd.merge(batimento_wm_distrib, ajuste, on=['acc','currency'], how='left')"
   ]
  },
  {
   "cell_type": "code",
   "execution_count": 29,
   "metadata": {
    "collapsed": false
   },
   "outputs": [],
   "source": [
    "abertura_batidos_consol_wm['accrual'] = abertura_batidos_consol_wm['accrual_final']*abertura_batidos_consol_wm['multiplicador']"
   ]
  },
  {
   "cell_type": "code",
   "execution_count": 30,
   "metadata": {
    "collapsed": true
   },
   "outputs": [],
   "source": [
    "abertura_batidos_consol_wm = abertura_batidos_consol_wm.drop(['accrual_final', 'multiplicador','accrual_n_distrib'], axis=1)"
   ]
  },
  {
   "cell_type": "code",
   "execution_count": 31,
   "metadata": {
    "collapsed": true
   },
   "outputs": [],
   "source": [
    "abertura_batidos_consol_wm = abertura_batidos_consol_wm[abertura_batidos_consol_wm['accrual']!=0]"
   ]
  },
  {
   "cell_type": "code",
   "execution_count": 32,
   "metadata": {
    "collapsed": true
   },
   "outputs": [],
   "source": [
    "total_wm = abertura_batidos_consol_wm.groupby(by=['acc','book','currency']).sum().reset_index()"
   ]
  },
  {
   "cell_type": "code",
   "execution_count": null,
   "metadata": {
    "collapsed": true
   },
   "outputs": [],
   "source": []
  },
  {
   "cell_type": "code",
   "execution_count": null,
   "metadata": {
    "collapsed": true
   },
   "outputs": [],
   "source": []
  },
  {
   "cell_type": "code",
   "execution_count": 33,
   "metadata": {
    "collapsed": true
   },
   "outputs": [],
   "source": [
    "# Aqui eu preciso fazer um pequeno ajuste pra parar de considerar a aberta do books CLIENT e distribuir o que sobra pros clients\n",
    "# que já foram distribuidos!!!"
   ]
  },
  {
   "cell_type": "code",
   "execution_count": 34,
   "metadata": {
    "collapsed": false
   },
   "outputs": [],
   "source": [
    "total_wm_calypso = abertura_batidos_consol[(abertura_batidos_consol['book'].str.contains('CLIENTS'))|\\\n",
    "                       (abertura_batidos_consol['book'].str.contains('PRIVATE'))].reset_index(drop=True)\\\n",
    "                                                                .groupby(by=['book', 'currency']).sum().reset_index()"
   ]
  },
  {
   "cell_type": "code",
   "execution_count": 35,
   "metadata": {
    "collapsed": false
   },
   "outputs": [
    {
     "name": "stderr",
     "output_type": "stream",
     "text": [
      "C:\\ProgramData\\Anaconda3\\lib\\site-packages\\pandas\\tools\\merge.py:1376: RuntimeWarning: divide by zero encountered in longlong_scalars\n",
      "  stride //= shape[i]\n"
     ]
    }
   ],
   "source": [
    "total_wm_n_distrib = pd.merge(total_wm, total_wm_calypso, on=['book','currency'], how='left').fillna(0)"
   ]
  },
  {
   "cell_type": "code",
   "execution_count": 36,
   "metadata": {
    "collapsed": true
   },
   "outputs": [],
   "source": [
    "total_wm_n_distrib['accrual_final_n_distrib'] = total_wm_n_distrib['accrual_final']-total_wm_n_distrib['accrual']"
   ]
  },
  {
   "cell_type": "code",
   "execution_count": 37,
   "metadata": {
    "collapsed": true
   },
   "outputs": [],
   "source": [
    "total_wm_n_distrib = total_wm_n_distrib.drop(['accrual', 'accrual_final', 'quantidade_book_x','quantidade_book_y',\n",
    "                                              'conta_pb'], axis=1)"
   ]
  },
  {
   "cell_type": "code",
   "execution_count": null,
   "metadata": {
    "collapsed": true
   },
   "outputs": [],
   "source": []
  },
  {
   "cell_type": "code",
   "execution_count": 38,
   "metadata": {
    "collapsed": true
   },
   "outputs": [],
   "source": [
    "abertura_batidos_consol_wm = abertura_batidos_consol_wm.groupby(by=['book','conta','currency']).sum().reset_index()\\\n",
    "                                                .drop(['conta_pb','quantidade_book'], axis=1)"
   ]
  },
  {
   "cell_type": "code",
   "execution_count": 39,
   "metadata": {
    "collapsed": true
   },
   "outputs": [],
   "source": [
    "total_wm_n_distrib['conta'] = 'OUTROS'\n",
    "total_wm_n_distrib = total_wm_n_distrib.rename(columns={'accrual_final_n_distrib':'accrual'})"
   ]
  },
  {
   "cell_type": "code",
   "execution_count": 40,
   "metadata": {
    "collapsed": true
   },
   "outputs": [],
   "source": [
    "abertura_batidos_consol_wm = abertura_batidos_consol_wm.groupby(by=['conta', 'book','currency']).sum().reset_index()\n",
    "abertura_batidos_consol_wm['acc'] = 'ubs_cayman'"
   ]
  },
  {
   "cell_type": "code",
   "execution_count": 41,
   "metadata": {
    "collapsed": true
   },
   "outputs": [],
   "source": [
    "abertura_batidos_consol_wm = pd.concat([total_wm_n_distrib, abertura_batidos_consol_wm], axis=0)"
   ]
  },
  {
   "cell_type": "code",
   "execution_count": null,
   "metadata": {
    "collapsed": true
   },
   "outputs": [],
   "source": []
  },
  {
   "cell_type": "code",
   "execution_count": null,
   "metadata": {
    "collapsed": true
   },
   "outputs": [],
   "source": []
  },
  {
   "cell_type": "code",
   "execution_count": 42,
   "metadata": {
    "collapsed": true
   },
   "outputs": [],
   "source": [
    "abertura_batidos_consol_wm = abertura_batidos_consol_wm[['acc','conta','book','currency','accrual']]"
   ]
  },
  {
   "cell_type": "code",
   "execution_count": 43,
   "metadata": {
    "collapsed": true
   },
   "outputs": [],
   "source": [
    "abertura_batidos_consol = abertura_batidos_consol[['acc', 'book', 'currency', 'accrual_final']]"
   ]
  },
  {
   "cell_type": "code",
   "execution_count": null,
   "metadata": {
    "collapsed": true
   },
   "outputs": [],
   "source": []
  },
  {
   "cell_type": "code",
   "execution_count": null,
   "metadata": {
    "collapsed": true
   },
   "outputs": [],
   "source": []
  },
  {
   "cell_type": "code",
   "execution_count": null,
   "metadata": {
    "collapsed": true
   },
   "outputs": [],
   "source": []
  },
  {
   "cell_type": "code",
   "execution_count": null,
   "metadata": {
    "collapsed": true
   },
   "outputs": [],
   "source": []
  }
 ],
 "metadata": {
  "kernelspec": {
   "display_name": "Python 3",
   "language": "python",
   "name": "python3"
  },
  "language_info": {
   "codemirror_mode": {
    "name": "ipython",
    "version": 3
   },
   "file_extension": ".py",
   "mimetype": "text/x-python",
   "name": "python",
   "nbconvert_exporter": "python",
   "pygments_lexer": "ipython3",
   "version": "3.6.0"
  }
 },
 "nbformat": 4,
 "nbformat_minor": 2
}
