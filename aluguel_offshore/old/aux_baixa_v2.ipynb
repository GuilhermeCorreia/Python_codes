{
 "cells": [
  {
   "cell_type": "code",
   "execution_count": 1,
   "metadata": {
    "collapsed": true
   },
   "outputs": [],
   "source": [
    "%load_ext autoreload\n",
    "%autoreload 2\n",
    "\n",
    "import os\n",
    "import sys\n",
    "sys.path.append('%s/../' % os.getcwd())\n",
    "\n",
    "import datetime\n",
    "import pandas as pd\n",
    "import numpy as np\n",
    "import getpass"
   ]
  },
  {
   "cell_type": "code",
   "execution_count": 2,
   "metadata": {
    "collapsed": true
   },
   "outputs": [],
   "source": [
    "import smtplib\n",
    "\n",
    "from email.mime.text import MIMEText\n",
    "from email.mime.multipart import MIMEMultipart\n",
    "from email.mime.base import MIMEBase\n",
    "from email import encoders\n",
    "\n",
    "import os\n",
    "import getpass\n",
    "\n",
    "\n",
    "import win32com.client"
   ]
  },
  {
   "cell_type": "code",
   "execution_count": 3,
   "metadata": {
    "collapsed": true
   },
   "outputs": [],
   "source": [
    "path = r'C:\\Users\\correigu\\OneDrive - Banco BTG Pactual S.A\\Desktop\\aqruivos_offshore\\Ajustes'"
   ]
  },
  {
   "cell_type": "code",
   "execution_count": null,
   "metadata": {
    "collapsed": true
   },
   "outputs": [],
   "source": []
  },
  {
   "cell_type": "code",
   "execution_count": 4,
   "metadata": {
    "collapsed": true
   },
   "outputs": [],
   "source": [
    "outlook = win32com.client.Dispatch('outlook.application')\n",
    "namespace = outlook.GetNamespace(\"MAPI\")\n",
    "dict_index = {}\n",
    "i=1\n",
    "j=0\n",
    "for folder in namespace.Folders:\n",
    "    dict_index.update({str(folder).lower():i})\n",
    "    i+=1"
   ]
  },
  {
   "cell_type": "code",
   "execution_count": 5,
   "metadata": {
    "collapsed": true
   },
   "outputs": [],
   "source": [
    "email_sender = 'guilherme.correia@btgpactual.com'"
   ]
  },
  {
   "cell_type": "code",
   "execution_count": 6,
   "metadata": {
    "collapsed": false
   },
   "outputs": [
    {
     "name": "stdout",
     "output_type": "stream",
     "text": [
      "Guilherme.Correia@btgpactual.com\n"
     ]
    }
   ],
   "source": [
    "root_folder = namespace.Folders.Item(dict_index[email_sender])\n",
    "print(root_folder)"
   ]
  },
  {
   "cell_type": "code",
   "execution_count": 7,
   "metadata": {
    "collapsed": true
   },
   "outputs": [],
   "source": [
    "subfolder = root_folder.Folders['Caixa de Entrada'].Folders['Aluguel offshore']\n",
    "message = subfolder.Items"
   ]
  },
  {
   "cell_type": "code",
   "execution_count": 8,
   "metadata": {
    "collapsed": true
   },
   "outputs": [],
   "source": [
    "search_string = 'Posição Custo Aluguel PROP+ASSET - old V2'"
   ]
  },
  {
   "cell_type": "code",
   "execution_count": 10,
   "metadata": {
    "collapsed": true
   },
   "outputs": [],
   "source": [
    "for msg in message:\n",
    "    body_content = msg.body\n",
    "    msg_sub = msg.Subject\n",
    "    if search_string in msg_sub:\n",
    "        count_attachments = msg.Attachments.Count\n",
    "        if count_attachments > 0:\n",
    "            for item in range(count_attachments):\n",
    "                file_name = msg.Attachments.Item(item + 1).Filename\n",
    "                if '.csv' in file_name:\n",
    "                    attach = msg.Attachments.Item(item+1)\n",
    "                    attach.SaveAsFile(path+'\\\\'+file_name+'.csv')"
   ]
  },
  {
   "cell_type": "code",
   "execution_count": null,
   "metadata": {
    "collapsed": true
   },
   "outputs": [],
   "source": []
  },
  {
   "cell_type": "code",
   "execution_count": 11,
   "metadata": {
    "collapsed": true
   },
   "outputs": [],
   "source": [
    "pasta_final=path"
   ]
  },
  {
   "cell_type": "code",
   "execution_count": 24,
   "metadata": {
    "collapsed": true
   },
   "outputs": [],
   "source": [
    "# Ajusta o nome do file\n",
    "for file in os.listdir(pasta_final):\n",
    "    if 'BD+WM' in file:\n",
    "        base = 'CUserssvc_calypso_prod.DOMAINCalypsoEquity  Posição Custo Aluguel Clients BD+WM - '\n",
    "    elif 'INT C' in file:\n",
    "        base = 'CUserssvc_calypso_prod.DOMAINCalypsoEquity - Posição Custo Aluguel INT C - '\n",
    "    elif 'PROP+ASSET' in file:\n",
    "        base = 'CUserssvc_calypso_prod.DOMAINCalypsoEquity  Posição Custo Aluguel PROP+ASSET - '\n",
    "    else:\n",
    "        print (file)\n",
    "    \n",
    "    os.rename(pasta_final+'\\\\'+file, pasta_final+'\\\\'+base+file[-17:-9]+'.xlsx')"
   ]
  },
  {
   "cell_type": "code",
   "execution_count": null,
   "metadata": {
    "collapsed": true
   },
   "outputs": [],
   "source": []
  },
  {
   "cell_type": "code",
   "execution_count": null,
   "metadata": {
    "collapsed": true
   },
   "outputs": [],
   "source": []
  },
  {
   "cell_type": "code",
   "execution_count": null,
   "metadata": {
    "collapsed": true
   },
   "outputs": [],
   "source": []
  },
  {
   "cell_type": "code",
   "execution_count": null,
   "metadata": {
    "collapsed": true
   },
   "outputs": [],
   "source": []
  },
  {
   "cell_type": "code",
   "execution_count": null,
   "metadata": {
    "collapsed": true
   },
   "outputs": [],
   "source": []
  },
  {
   "cell_type": "code",
   "execution_count": null,
   "metadata": {
    "collapsed": true
   },
   "outputs": [],
   "source": []
  }
 ],
 "metadata": {
  "kernelspec": {
   "display_name": "Python 3",
   "language": "python",
   "name": "python3"
  },
  "language_info": {
   "codemirror_mode": {
    "name": "ipython",
    "version": 3
   },
   "file_extension": ".py",
   "mimetype": "text/x-python",
   "name": "python",
   "nbconvert_exporter": "python",
   "pygments_lexer": "ipython3",
   "version": "3.6.0"
  }
 },
 "nbformat": 4,
 "nbformat_minor": 2
}
