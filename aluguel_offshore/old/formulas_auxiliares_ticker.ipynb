{
 "cells": [
  {
   "cell_type": "code",
   "execution_count": null,
   "metadata": {
    "collapsed": true
   },
   "outputs": [],
   "source": [
    "import os\n",
    "import sys\n",
    "sys.path.append('%s/../' % os.getcwd())\n",
    "\n",
    "import datetime\n",
    "import pandas as pd\n",
    "import numpy as np\n",
    "import getpass"
   ]
  },
  {
   "cell_type": "code",
   "execution_count": null,
   "metadata": {
    "collapsed": true
   },
   "outputs": [],
   "source": [
    "def info_base_pb_to_get_ticker(pb, x):\n",
    "    ticker = str(pb[pb.index==x]['ticker'][x]).replace('/', '')\n",
    "    isin = str(pb[pb.index==x]['isin'][x])\n",
    "    cusip = str(pb[pb.index==x]['cusip'][x])\n",
    "    sedol = str(pb[pb.index==x]['sedol'][x])\n",
    "\n",
    "    return ticker, isin, cusip, sedol"
   ]
  },
  {
   "cell_type": "code",
   "execution_count": null,
   "metadata": {
    "collapsed": true
   },
   "outputs": [],
   "source": [
    "def get_ticker_bases(calypso, pb, x):\n",
    "    try:\n",
    "        ticker_pb, isin, cusip, sedol = info_base_pb_to_get_ticker(pb, x)\n",
    "        try:\n",
    "            ticker = calypso[calypso['isin']==isin].drop_duplicates(subset=['ticker']).reset_index(drop=True)['ticker'][0]\n",
    "            construct = 'isin'\n",
    "        except IndexError:\n",
    "            try:\n",
    "                ticker = calypso[calypso['cusip']==cusip].drop_duplicates(subset=['ticker']).reset_index(drop=True)['ticker'][0]\n",
    "                construct = 'cusip'\n",
    "            except IndexError:\n",
    "                ticker = calypso[calypso['sedol']==sedol].drop_duplicates(subset=['ticker']).reset_index(drop=True)['ticker'][0]\n",
    "                construct = 'sedol'\n",
    "        return [ticker, construct]\n",
    "    except IndexError:\n",
    "        ticker_pb, isin, cusip, sedol = info_base_pb_to_get_ticker(pb, x)\n",
    "        print('O ticker %s não foi encontrado pelos códigos.\\n Tentaremos agora pelo nome' %(ticker_pb))\n",
    "        try:\n",
    "            ticker = ticker_pb.split('.')[0]\n",
    "            ticker = calypso[calypso.ticker.str.contains(ticker_pb)].drop_duplicates(subset=['ticker'])\\\n",
    "                                                            .reset_index(drop=True)['ticker'][0]\n",
    "            construct = 'nome'\n",
    "            print('O ticker %s não foi encontrado pelo nome.\\n Ele será então contruído pelo Ticker + Isin' %(ticker_pb))\n",
    "        except IndexError:\n",
    "            ticker = ticker.split('.')[0]\n",
    "            ticker = str(ticker_pb)+' '+str(isin)[:2]\n",
    "            construct = 'construido_ticker'\n",
    "            print ('''Nós aconselhamos que você confira o ticker %s, porque ele foi ajustado pelo Isin.\n",
    "Caso ele esteja ERRADO você deverá fazer o ajuste na próxima parte.''' %(ticker_pb))\n",
    "        return [ticker, construct]\n",
    "    except ValueError:\n",
    "        print(r'O ticker %s não foi encontrado em nenhuma instância.\\n Proceder com inserção manual' %(ticker_pb))\n",
    "        return [np.nan, np.nan]"
   ]
  },
  {
   "cell_type": "code",
   "execution_count": null,
   "metadata": {
    "collapsed": true
   },
   "outputs": [],
   "source": []
  },
  {
   "cell_type": "code",
   "execution_count": null,
   "metadata": {
    "collapsed": true
   },
   "outputs": [],
   "source": []
  },
  {
   "cell_type": "code",
   "execution_count": null,
   "metadata": {
    "collapsed": true
   },
   "outputs": [],
   "source": []
  },
  {
   "cell_type": "code",
   "execution_count": null,
   "metadata": {
    "collapsed": true
   },
   "outputs": [],
   "source": []
  },
  {
   "cell_type": "code",
   "execution_count": null,
   "metadata": {
    "collapsed": true
   },
   "outputs": [],
   "source": []
  },
  {
   "cell_type": "code",
   "execution_count": null,
   "metadata": {
    "collapsed": true
   },
   "outputs": [],
   "source": []
  }
 ],
 "metadata": {
  "kernelspec": {
   "display_name": "Python 3",
   "language": "python",
   "name": "python3"
  },
  "language_info": {
   "codemirror_mode": {
    "name": "ipython",
    "version": 3
   },
   "file_extension": ".py",
   "mimetype": "text/x-python",
   "name": "python",
   "nbconvert_exporter": "python",
   "pygments_lexer": "ipython3",
   "version": "3.6.0"
  }
 },
 "nbformat": 4,
 "nbformat_minor": 2
}
