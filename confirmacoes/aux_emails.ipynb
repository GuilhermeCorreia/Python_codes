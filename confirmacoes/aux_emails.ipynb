{
 "cells": [
  {
   "cell_type": "code",
   "execution_count": 1,
   "metadata": {
    "collapsed": true
   },
   "outputs": [],
   "source": [
    "import smtplib\n",
    "\n",
    "from email.mime.text import MIMEText\n",
    "from email.mime.multipart import MIMEMultipart\n",
    "from email.mime.base import MIMEBase\n",
    "from email import encoders\n",
    "\n",
    "import os\n",
    "import getpass\n",
    "\n",
    "\n",
    "import win32com.client"
   ]
  },
  {
   "cell_type": "code",
   "execution_count": 2,
   "metadata": {
    "collapsed": false
   },
   "outputs": [],
   "source": [
    "def email_sender(email_from, email_to, email_subject, email_body, attachment_pathlist=[]):\n",
    "    msg = MIMEMultipart()\n",
    "    msg['FROM'] = email_from\n",
    "    msg['To'] = email_to\n",
    "    msg['Subject'] = email_subject\n",
    "\n",
    "    body = email_body\n",
    "    msg.attach(MIMEText(body, 'plain'))\n",
    "\n",
    "    if len(attachment_pathlist)>0:\n",
    "        for file in attachment_pathlist:\n",
    "            name = os.path.basename(file)\n",
    "            part = MIMEBase('application', 'octet-stream')\n",
    "\n",
    "            with open(file, 'rb') as file:\n",
    "                part.set_payload(file.read())\n",
    "            encoders.encode_base64(part)\n",
    "            part.add_header('Content-Disposition', \"attachment; filename= %s\" % name)\n",
    "\n",
    "            msg.attach(part)\n",
    "\n",
    "    text = msg.as_string()\n",
    "    \n",
    "    server = smtplib.SMTP('srvmail')\n",
    "    server.sendmail(email_from, email_to, text)\n",
    "    server.quit()"
   ]
  },
  {
   "cell_type": "code",
   "execution_count": 3,
   "metadata": {
    "collapsed": false
   },
   "outputs": [],
   "source": [
    "def email_confirmation(cliente, search_string, data, folders_search = [], main_folder='Inbox'):\n",
    "    path=r'C:\\Users\\%s\\OneDrive - Banco BTG Pactual S.A\\Documents\\offshore' % getpass.getuser()\n",
    "    outlook = win32com.client.Dispatch('outlook.application')\n",
    "    namespace = outlook.GetNamespace(\"MAPI\")\n",
    "    root_folder = namespace.Folders.Item(2)\n",
    "    \n",
    "    cliente = cliente.lower()\n",
    "    data = data[-4:]+data[3:5]+data[:2]\n",
    "    \n",
    "    if os.path.isdir(path+'\\\\'+cliente)==True:\n",
    "        os.mkdir(path+'\\\\'+cliente+'\\\\'+data)\n",
    "    else:\n",
    "        os.mkdir(path+'\\\\'+cliente)\n",
    "        os.mkdir(path+'\\\\'+cliente+'\\\\'+data)\n",
    "    n_path = path+'\\\\'+cliente+'\\\\'+data\n",
    "    \n",
    "    for folder in folders_search:\n",
    "        subfolder = root_folder.Folders['Caixa de Entrada'].Folders['confirmations']\n",
    "        message = subfolder.Items\n",
    "    \n",
    "        for msg in message:\n",
    "            body_content = msg.body\n",
    "            msg_sub = msg.Subject\n",
    "            if (search_string in body_content)&(data in msg_sub):\n",
    "                count_attachments = msg.Attachments.Count\n",
    "        \n",
    "                string = msg_sub.split(\" \")\n",
    "                for i in range(0, len(string)):\n",
    "                    if string[i] == 'of':\n",
    "                        ticker = string[i+1]\n",
    "                        if '*' in ticker:\n",
    "                            ticker = ticker.replace(\"*\", '')\n",
    "                        elif \"&\" in ticker:\n",
    "                            ticker = ticker.replace(\"&\", '')\n",
    "\n",
    "                if count_attachments > 0:\n",
    "                    for item in range(count_attachments):\n",
    "                        file_name = msg.Attachments.Item(item + 1).Filename\n",
    "                        if '.pdf' in file_name:\n",
    "                            attach = msg.Attachments.Item(item+1)\n",
    "                            attach.SaveAsFile(n_path+'\\\\'+ticker+'.pdf')"
   ]
  },
  {
   "cell_type": "code",
   "execution_count": 5,
   "metadata": {
    "collapsed": false
   },
   "outputs": [],
   "source": [
    "email_confirmation('Claritas', 'CLARITAS', '18/05/2018', folders_search =['confirmations'], main_folder='Caixa de Entrada')"
   ]
  },
  {
   "cell_type": "code",
   "execution_count": null,
   "metadata": {
    "collapsed": true
   },
   "outputs": [],
   "source": []
  },
  {
   "cell_type": "code",
   "execution_count": null,
   "metadata": {
    "collapsed": false
   },
   "outputs": [],
   "source": [
    "email_sender('guilherme.correia@btgpactual.com', 'guilherme.correia@btgpactual.com', \n",
    "              'teste_class', 'this is a test <br> Qualquer dúvida, estamos à disposição', \n",
    "              [r'C:\\Users\\correigu\\OneDrive - Banco BTG Pactual S.A\\Desktop\\calypso_intc.xlsx',\n",
    "              r'C:\\Users\\correigu\\OneDrive - Banco BTG Pactual S.A\\Desktop\\calypso_asset.xlsx'])"
   ]
  },
  {
   "cell_type": "code",
   "execution_count": null,
   "metadata": {
    "collapsed": true
   },
   "outputs": [],
   "source": []
  },
  {
   "cell_type": "code",
   "execution_count": null,
   "metadata": {
    "collapsed": true
   },
   "outputs": [],
   "source": []
  },
  {
   "cell_type": "code",
   "execution_count": null,
   "metadata": {
    "collapsed": true
   },
   "outputs": [],
   "source": []
  },
  {
   "cell_type": "code",
   "execution_count": null,
   "metadata": {
    "collapsed": true
   },
   "outputs": [],
   "source": []
  }
 ],
 "metadata": {
  "kernelspec": {
   "display_name": "Python 3",
   "language": "python",
   "name": "python3"
  },
  "language_info": {
   "codemirror_mode": {
    "name": "ipython",
    "version": 3
   },
   "file_extension": ".py",
   "mimetype": "text/x-python",
   "name": "python",
   "nbconvert_exporter": "python",
   "pygments_lexer": "ipython3",
   "version": "3.6.0"
  }
 },
 "nbformat": 4,
 "nbformat_minor": 2
}
