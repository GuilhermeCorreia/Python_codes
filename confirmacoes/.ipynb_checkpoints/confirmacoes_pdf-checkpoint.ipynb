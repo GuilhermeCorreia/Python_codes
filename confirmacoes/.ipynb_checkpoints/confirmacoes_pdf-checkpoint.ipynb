{
 "cells": [
  {
   "cell_type": "code",
   "execution_count": 1,
   "metadata": {
    "collapsed": true
   },
   "outputs": [],
   "source": [
    "import os\n",
    "import sys\n",
    "sys.path.append('%s/../' % os.getcwd())"
   ]
  },
  {
   "cell_type": "code",
   "execution_count": 2,
   "metadata": {
    "collapsed": true
   },
   "outputs": [],
   "source": [
    "import datetime\n",
    "import pandas as pd\n",
    "import numpy as np\n",
    "import getpass\n",
    "\n",
    "import win32com.client"
   ]
  },
  {
   "cell_type": "code",
   "execution_count": 3,
   "metadata": {
    "collapsed": true
   },
   "outputs": [],
   "source": [
    "import smtplib\n",
    "\n",
    "from email.mime.text import MIMEText\n",
    "from email.mime.multipart import MIMEMultipart\n",
    "from email.mime.base import MIMEBase\n",
    "from email import encoders\n",
    "\n",
    "import os\n",
    "import getpass\n",
    "\n",
    "\n",
    "import win32com.client\n",
    "\n",
    "\n",
    "def email_sender(email_from, email_to, email_subject, email_body, attachment_pathlist=[]):\n",
    "    msg = MIMEMultipart()\n",
    "    msg['FROM'] = email_from\n",
    "    msg['To'] = email_to\n",
    "    msg['Subject'] = email_subject\n",
    "\n",
    "    body = email_body\n",
    "    msg.attach(MIMEText(body, 'plain'))\n",
    "\n",
    "    if len(attachment_pathlist)>0:\n",
    "        for file in attachment_pathlist:\n",
    "            name = os.path.basename(file)\n",
    "            part = MIMEBase('application', 'octet-stream')\n",
    "\n",
    "            with open(file, 'rb') as file:\n",
    "                part.set_payload(file.read())\n",
    "            encoders.encode_base64(part)\n",
    "            part.add_header('Content-Disposition', \"attachment; filename= %s\" % name)\n",
    "\n",
    "            msg.attach(part)\n",
    "\n",
    "    text = msg.as_string()\n",
    "    \n",
    "    server = smtplib.SMTP('srvmail')\n",
    "    server.sendmail(email_from, email_to, text)\n",
    "    server.quit()\n",
    "\n",
    "\n",
    "# In[3]:\n",
    "\n",
    "def email_confirmation(cliente, search_string, data, email_sender,folders_search = [], main_folder='Inbox'):\n",
    "    path=r'\\\\DRIOC0231PFS\\Apoio_SB\\Geral\\BD\\Confirmations\\confirmacoes_pdf'\n",
    "    outlook = win32com.client.Dispatch('outlook.application')\n",
    "    namespace = outlook.GetNamespace(\"MAPI\")\n",
    "    i=0\n",
    "    for folder in namespace.Folders:\n",
    "        if folder!=email_sender:\n",
    "            i+=1   \n",
    "    root_folder = namespace.Folders.Item(i)\n",
    "    \n",
    "    cliente = cliente.lower()\n",
    "    data = data[-4:]+data[3:5]+data[:2]\n",
    "    \n",
    "    if os.path.isdir(path+'\\\\'+cliente)==True:\n",
    "        if os.path.isdir(path+'\\\\'+cliente+'\\\\'+data)==False:\n",
    "            os.mkdir(path+'\\\\'+cliente+'\\\\'+data)\n",
    "    else:\n",
    "        os.mkdir(path+'\\\\'+cliente)\n",
    "        os.mkdir(path+'\\\\'+cliente+'\\\\'+data)\n",
    "    n_path = path+'\\\\'+cliente+'\\\\'+data\n",
    "    \n",
    "    for folder in folders_search:\n",
    "        subfolder = root_folder.Folders[main_folder].Folders[folders_search]\n",
    "        message = subfolder.Items\n",
    "    \n",
    "        for msg in message:\n",
    "            body_content = msg.body\n",
    "            msg_sub = msg.Subject\n",
    "            if (search_string in body_content)&(data in msg_sub):\n",
    "                count_attachments = msg.Attachments.Count\n",
    "        \n",
    "                string = msg_sub.split(\" \")\n",
    "                for i in range(0, len(string)):\n",
    "                    if string[i] == 'of':\n",
    "                        ticker = string[i+1]\n",
    "                        if '*' in ticker:\n",
    "                            ticker = ticker.replace(\"*\", '')\n",
    "                        elif \"&\" in ticker:\n",
    "                            ticker = ticker.replace(\"&\", '')\n",
    "\n",
    "                if count_attachments > 0:\n",
    "                    for item in range(count_attachments):\n",
    "                        file_name = msg.Attachments.Item(item + 1).Filename\n",
    "                        if '.pdf' in file_name:\n",
    "                            attach = msg.Attachments.Item(item+1)\n",
    "                            attach.SaveAsFile(n_path+'\\\\'+ticker+'.pdf')"
   ]
  },
  {
   "cell_type": "code",
   "execution_count": null,
   "metadata": {
    "collapsed": true
   },
   "outputs": [],
   "source": []
  },
  {
   "cell_type": "code",
   "execution_count": null,
   "metadata": {
    "collapsed": true
   },
   "outputs": [],
   "source": []
  },
  {
   "cell_type": "code",
   "execution_count": null,
   "metadata": {
    "collapsed": true
   },
   "outputs": [],
   "source": []
  },
  {
   "cell_type": "code",
   "execution_count": 4,
   "metadata": {
    "collapsed": false,
    "scrolled": true
   },
   "outputs": [
    {
     "ename": "com_error",
     "evalue": "(-2147352567, 'Exception occurred.', (4096, 'Microsoft Outlook', 'The attempted operation failed.  An object could not be found.', None, 0, -2147221233), None)",
     "output_type": "error",
     "traceback": [
      "\u001b[0;31m---------------------------------------------------------------------------\u001b[0m",
      "\u001b[0;31mcom_error\u001b[0m                                 Traceback (most recent call last)",
      "\u001b[0;32m<ipython-input-4-f05dcecd7f76>\u001b[0m in \u001b[0;36m<module>\u001b[0;34m()\u001b[0m\n\u001b[0;32m----> 1\u001b[0;31m \u001b[0memail_confirmation\u001b[0m\u001b[1;33m(\u001b[0m\u001b[1;34m'Claritas'\u001b[0m\u001b[1;33m,\u001b[0m \u001b[1;34m'CLARITAS'\u001b[0m\u001b[1;33m,\u001b[0m \u001b[1;34m'22/06/2018'\u001b[0m\u001b[1;33m,\u001b[0m \u001b[1;34m'guilherme.correia@btgpactual.com'\u001b[0m\u001b[1;33m,\u001b[0m\u001b[1;34m'confirmations'\u001b[0m\u001b[1;33m,\u001b[0m \u001b[1;34m'Caixa de Entrada'\u001b[0m\u001b[1;33m)\u001b[0m\u001b[1;33m\u001b[0m\u001b[0m\n\u001b[0m",
      "\u001b[0;32m<ipython-input-3-6b79ecfdc4bf>\u001b[0m in \u001b[0;36memail_confirmation\u001b[0;34m(cliente, search_string, data, email_sender, folders_search, main_folder)\u001b[0m\n\u001b[1;32m     65\u001b[0m \u001b[1;33m\u001b[0m\u001b[0m\n\u001b[1;32m     66\u001b[0m     \u001b[1;32mfor\u001b[0m \u001b[0mfolder\u001b[0m \u001b[1;32min\u001b[0m \u001b[0mfolders_search\u001b[0m\u001b[1;33m:\u001b[0m\u001b[1;33m\u001b[0m\u001b[0m\n\u001b[0;32m---> 67\u001b[0;31m         \u001b[0msubfolder\u001b[0m \u001b[1;33m=\u001b[0m \u001b[0mroot_folder\u001b[0m\u001b[1;33m.\u001b[0m\u001b[0mFolders\u001b[0m\u001b[1;33m[\u001b[0m\u001b[0mmain_folder\u001b[0m\u001b[1;33m]\u001b[0m\u001b[1;33m.\u001b[0m\u001b[0mFolders\u001b[0m\u001b[1;33m[\u001b[0m\u001b[0mfolders_search\u001b[0m\u001b[1;33m]\u001b[0m\u001b[1;33m\u001b[0m\u001b[0m\n\u001b[0m\u001b[1;32m     68\u001b[0m         \u001b[0mmessage\u001b[0m \u001b[1;33m=\u001b[0m \u001b[0msubfolder\u001b[0m\u001b[1;33m.\u001b[0m\u001b[0mItems\u001b[0m\u001b[1;33m\u001b[0m\u001b[0m\n\u001b[1;32m     69\u001b[0m \u001b[1;33m\u001b[0m\u001b[0m\n",
      "\u001b[0;32mC:\\ProgramData\\Anaconda3\\lib\\site-packages\\win32com\\client\\dynamic.py\u001b[0m in \u001b[0;36m__getitem__\u001b[0;34m(self, index)\u001b[0m\n\u001b[1;32m    254\u001b[0m                 \u001b[0minvkind\u001b[0m\u001b[1;33m,\u001b[0m \u001b[0mdispid\u001b[0m \u001b[1;33m=\u001b[0m \u001b[0mself\u001b[0m\u001b[1;33m.\u001b[0m\u001b[0m_find_dispatch_type_\u001b[0m\u001b[1;33m(\u001b[0m\u001b[1;34m\"Item\"\u001b[0m\u001b[1;33m)\u001b[0m\u001b[1;33m\u001b[0m\u001b[0m\n\u001b[1;32m    255\u001b[0m                 \u001b[1;32mif\u001b[0m \u001b[0minvkind\u001b[0m \u001b[1;32mis\u001b[0m \u001b[1;32mnot\u001b[0m \u001b[1;32mNone\u001b[0m\u001b[1;33m:\u001b[0m\u001b[1;33m\u001b[0m\u001b[0m\n\u001b[0;32m--> 256\u001b[0;31m                         \u001b[1;32mreturn\u001b[0m \u001b[0mself\u001b[0m\u001b[1;33m.\u001b[0m\u001b[0m_get_good_object_\u001b[0m\u001b[1;33m(\u001b[0m\u001b[0mself\u001b[0m\u001b[1;33m.\u001b[0m\u001b[0m_oleobj_\u001b[0m\u001b[1;33m.\u001b[0m\u001b[0mInvoke\u001b[0m\u001b[1;33m(\u001b[0m\u001b[0mdispid\u001b[0m\u001b[1;33m,\u001b[0m \u001b[0mLCID\u001b[0m\u001b[1;33m,\u001b[0m \u001b[0minvkind\u001b[0m\u001b[1;33m,\u001b[0m \u001b[1;36m1\u001b[0m\u001b[1;33m,\u001b[0m \u001b[0mindex\u001b[0m\u001b[1;33m)\u001b[0m\u001b[1;33m)\u001b[0m\u001b[1;33m\u001b[0m\u001b[0m\n\u001b[0m\u001b[1;32m    257\u001b[0m                 \u001b[1;32mraise\u001b[0m \u001b[0mTypeError\u001b[0m\u001b[1;33m(\u001b[0m\u001b[1;34m\"This object does not support enumeration\"\u001b[0m\u001b[1;33m)\u001b[0m\u001b[1;33m\u001b[0m\u001b[0m\n\u001b[1;32m    258\u001b[0m \u001b[1;33m\u001b[0m\u001b[0m\n",
      "\u001b[0;31mcom_error\u001b[0m: (-2147352567, 'Exception occurred.', (4096, 'Microsoft Outlook', 'The attempted operation failed.  An object could not be found.', None, 0, -2147221233), None)"
     ]
    }
   ],
   "source": [
    "email_confirmation('Claritas', 'CLARITAS', '22/06/2018', 'guilherme.correia@btgpactual.com','confirmations', 'Caixa de Entrada')"
   ]
  },
  {
   "cell_type": "code",
   "execution_count": null,
   "metadata": {
    "collapsed": true
   },
   "outputs": [],
   "source": []
  },
  {
   "cell_type": "code",
   "execution_count": 6,
   "metadata": {
    "collapsed": true
   },
   "outputs": [],
   "source": [
    "path=r'\\\\DRIOC0231PFS\\Apoio_SB\\Geral\\BD\\Confirmations\\confirmacoes_pdf'"
   ]
  },
  {
   "cell_type": "code",
   "execution_count": 10,
   "metadata": {
    "collapsed": true
   },
   "outputs": [],
   "source": [
    "email_sender = 'guilherme.correia@btgpactual.com'"
   ]
  },
  {
   "cell_type": "code",
   "execution_count": 11,
   "metadata": {
    "collapsed": true
   },
   "outputs": [],
   "source": [
    "outlook = win32com.client.Dispatch('outlook.application')\n",
    "namespace = outlook.GetNamespace(\"MAPI\")\n",
    "i=0\n",
    "for folder in namespace.Folders:\n",
    "    if folder!=email_sender:\n",
    "        i+=1   \n",
    "root_folder = namespace.Folders.Item(i)"
   ]
  },
  {
   "cell_type": "code",
   "execution_count": 12,
   "metadata": {
    "collapsed": false
   },
   "outputs": [
    {
     "name": "stdout",
     "output_type": "stream",
     "text": [
      "Online Archive - Guilherme.Correia@btgpactual.com\n"
     ]
    }
   ],
   "source": [
    "print(root_folder)"
   ]
  },
  {
   "cell_type": "code",
   "execution_count": null,
   "metadata": {
    "collapsed": true
   },
   "outputs": [],
   "source": []
  },
  {
   "cell_type": "code",
   "execution_count": null,
   "metadata": {
    "collapsed": true
   },
   "outputs": [],
   "source": [
    "\n",
    "    \n",
    "    \n",
    "    cliente = cliente.lower()\n",
    "    data = data[-4:]+data[3:5]+data[:2]\n",
    "    \n",
    "    if os.path.isdir(path+'\\\\'+cliente)==True:\n",
    "        if os.path.isdir(path+'\\\\'+cliente+'\\\\'+data)==False:\n",
    "            os.mkdir(path+'\\\\'+cliente+'\\\\'+data)\n",
    "    else:\n",
    "        os.mkdir(path+'\\\\'+cliente)\n",
    "        os.mkdir(path+'\\\\'+cliente+'\\\\'+data)\n",
    "    n_path = path+'\\\\'+cliente+'\\\\'+data\n",
    "    \n",
    "    for folder in folders_search:\n",
    "        subfolder = root_folder.Folders[main_folder].Folders[folders_search]\n",
    "        message = subfolder.Items\n",
    "    \n",
    "        for msg in message:\n",
    "            body_content = msg.body\n",
    "            msg_sub = msg.Subject\n",
    "            if (search_string in body_content)&(data in msg_sub):\n",
    "                count_attachments = msg.Attachments.Count\n",
    "        \n",
    "                string = msg_sub.split(\" \")\n",
    "                for i in range(0, len(string)):\n",
    "                    if string[i] == 'of':\n",
    "                        ticker = string[i+1]\n",
    "                        if '*' in ticker:\n",
    "                            ticker = ticker.replace(\"*\", '')\n",
    "                        elif \"&\" in ticker:\n",
    "                            ticker = ticker.replace(\"&\", '')\n",
    "\n",
    "                if count_attachments > 0:\n",
    "                    for item in range(count_attachments):\n",
    "                        file_name = msg.Attachments.Item(item + 1).Filename\n",
    "                        if '.pdf' in file_name:\n",
    "                            attach = msg.Attachments.Item(item+1)\n",
    "                            attach.SaveAsFile(n_path+'\\\\'+ticker+'.pdf')"
   ]
  },
  {
   "cell_type": "code",
   "execution_count": null,
   "metadata": {
    "collapsed": true
   },
   "outputs": [],
   "source": []
  },
  {
   "cell_type": "code",
   "execution_count": null,
   "metadata": {
    "collapsed": true
   },
   "outputs": [],
   "source": []
  },
  {
   "cell_type": "code",
   "execution_count": 5,
   "metadata": {
    "collapsed": false
   },
   "outputs": [
    {
     "ename": "NameError",
     "evalue": "name 'root_folder' is not defined",
     "output_type": "error",
     "traceback": [
      "\u001b[0;31m---------------------------------------------------------------------------\u001b[0m",
      "\u001b[0;31mNameError\u001b[0m                                 Traceback (most recent call last)",
      "\u001b[0;32m<ipython-input-5-d7dc4e9b25c5>\u001b[0m in \u001b[0;36m<module>\u001b[0;34m()\u001b[0m\n\u001b[0;32m----> 1\u001b[0;31m \u001b[0mroot_folder\u001b[0m\u001b[1;33m\u001b[0m\u001b[0m\n\u001b[0m",
      "\u001b[0;31mNameError\u001b[0m: name 'root_folder' is not defined"
     ]
    }
   ],
   "source": [
    "root_folder"
   ]
  },
  {
   "cell_type": "code",
   "execution_count": null,
   "metadata": {
    "collapsed": true
   },
   "outputs": [],
   "source": []
  },
  {
   "cell_type": "code",
   "execution_count": null,
   "metadata": {
    "collapsed": true
   },
   "outputs": [],
   "source": []
  },
  {
   "cell_type": "code",
   "execution_count": null,
   "metadata": {
    "collapsed": true
   },
   "outputs": [],
   "source": []
  },
  {
   "cell_type": "code",
   "execution_count": null,
   "metadata": {
    "collapsed": true
   },
   "outputs": [],
   "source": []
  },
  {
   "cell_type": "code",
   "execution_count": null,
   "metadata": {
    "collapsed": true
   },
   "outputs": [],
   "source": []
  },
  {
   "cell_type": "code",
   "execution_count": null,
   "metadata": {
    "collapsed": true
   },
   "outputs": [],
   "source": []
  },
  {
   "cell_type": "code",
   "execution_count": null,
   "metadata": {
    "collapsed": true
   },
   "outputs": [],
   "source": []
  },
  {
   "cell_type": "code",
   "execution_count": null,
   "metadata": {
    "collapsed": true
   },
   "outputs": [],
   "source": []
  },
  {
   "cell_type": "code",
   "execution_count": null,
   "metadata": {
    "collapsed": true
   },
   "outputs": [],
   "source": []
  },
  {
   "cell_type": "code",
   "execution_count": null,
   "metadata": {
    "collapsed": true
   },
   "outputs": [],
   "source": []
  },
  {
   "cell_type": "code",
   "execution_count": null,
   "metadata": {
    "collapsed": true
   },
   "outputs": [],
   "source": []
  },
  {
   "cell_type": "code",
   "execution_count": null,
   "metadata": {
    "collapsed": true
   },
   "outputs": [],
   "source": []
  },
  {
   "cell_type": "code",
   "execution_count": null,
   "metadata": {
    "collapsed": true
   },
   "outputs": [],
   "source": []
  },
  {
   "cell_type": "code",
   "execution_count": null,
   "metadata": {
    "collapsed": true
   },
   "outputs": [],
   "source": []
  },
  {
   "cell_type": "code",
   "execution_count": null,
   "metadata": {
    "collapsed": true
   },
   "outputs": [],
   "source": []
  },
  {
   "cell_type": "code",
   "execution_count": null,
   "metadata": {
    "collapsed": true
   },
   "outputs": [],
   "source": []
  },
  {
   "cell_type": "code",
   "execution_count": 14,
   "metadata": {
    "collapsed": true
   },
   "outputs": [],
   "source": [
    "outlook = win32com.client.Dispatch('outlook.application')\n",
    "namespace = outlook.GetNamespace(\"MAPI\")"
   ]
  },
  {
   "cell_type": "code",
   "execution_count": 15,
   "metadata": {
    "collapsed": true
   },
   "outputs": [],
   "source": [
    "root_folder = namespace.Folders.Item(2)"
   ]
  },
  {
   "cell_type": "code",
   "execution_count": 11,
   "metadata": {
    "collapsed": true
   },
   "outputs": [],
   "source": [
    "# ALTERAR AS VARIÁVEIS AQUI!\n",
    "folder_search = 'confirmations'"
   ]
  },
  {
   "cell_type": "code",
   "execution_count": 16,
   "metadata": {
    "collapsed": true
   },
   "outputs": [],
   "source": [
    "# COLOCAR DATA DE REFERENCIA AQUI!!\n",
    "data = '11/05/2018'\n",
    "data = data[-4:]+data[3:5]+data[:2]"
   ]
  },
  {
   "cell_type": "code",
   "execution_count": null,
   "metadata": {
    "collapsed": true
   },
   "outputs": [],
   "source": []
  },
  {
   "cell_type": "code",
   "execution_count": 17,
   "metadata": {
    "collapsed": false
   },
   "outputs": [
    {
     "data": {
      "text/plain": [
       "<COMObject <unknown>>"
      ]
     },
     "execution_count": 17,
     "metadata": {},
     "output_type": "execute_result"
    }
   ],
   "source": [
    "root_folder.Folders['Caixa de Entrada']"
   ]
  },
  {
   "cell_type": "code",
   "execution_count": null,
   "metadata": {
    "collapsed": true
   },
   "outputs": [],
   "source": []
  },
  {
   "cell_type": "code",
   "execution_count": null,
   "metadata": {
    "collapsed": true
   },
   "outputs": [],
   "source": []
  },
  {
   "cell_type": "code",
   "execution_count": 18,
   "metadata": {
    "collapsed": false
   },
   "outputs": [],
   "source": [
    "subfolder = root_folder.Folders['Caixa de Entrada'].Folders[folder_search]\n",
    "message = subfolder.Items"
   ]
  },
  {
   "cell_type": "code",
   "execution_count": null,
   "metadata": {
    "collapsed": true
   },
   "outputs": [],
   "source": [
    "path=r'C:\\Users\\%s\\OneDrive - Banco BTG Pactual S.A\\Documents\\offshore\\Claritas' % getpass.getuser()"
   ]
  },
  {
   "cell_type": "code",
   "execution_count": null,
   "metadata": {
    "collapsed": true
   },
   "outputs": [],
   "source": []
  },
  {
   "cell_type": "code",
   "execution_count": null,
   "metadata": {
    "collapsed": false
   },
   "outputs": [],
   "source": [
    "data"
   ]
  },
  {
   "cell_type": "code",
   "execution_count": null,
   "metadata": {
    "collapsed": false
   },
   "outputs": [],
   "source": [
    "os.mkdir(path+'\\\\'+data)"
   ]
  },
  {
   "cell_type": "code",
   "execution_count": null,
   "metadata": {
    "collapsed": true
   },
   "outputs": [],
   "source": [
    "n_path = path+'\\\\'+data"
   ]
  },
  {
   "cell_type": "code",
   "execution_count": null,
   "metadata": {
    "collapsed": true
   },
   "outputs": [],
   "source": []
  },
  {
   "cell_type": "code",
   "execution_count": null,
   "metadata": {
    "collapsed": false,
    "scrolled": true
   },
   "outputs": [],
   "source": [
    "for msg in message:\n",
    "    body_content = msg.body\n",
    "    msg_sub = msg.Subject\n",
    "    if ('CLARITAS' in body_content)&(data in msg_sub):\n",
    "        count_attachments = msg.Attachments.Count\n",
    "        \n",
    "        string = msg_sub.split(\" \")\n",
    "        for i in range(0, len(string)):\n",
    "            if string[i] == 'of':\n",
    "                ticker = string[i+1]\n",
    "                if '*' in ticker:\n",
    "                    ticker = ticker.replace(\"*\", '')\n",
    "                elif \"&\" in ticker:\n",
    "                    ticker = ticker.replace(\"&\", '')\n",
    "                \n",
    "        if count_attachments > 0:\n",
    "            for item in range(count_attachments):\n",
    "                file_name = msg.Attachments.Item(item + 1).Filename\n",
    "                if '.pdf' in file_name:\n",
    "                    attach = msg.Attachments.Item(item+1)\n",
    "                    attach.SaveAsFile(n_path+'\\\\'+ticker+'.pdf')"
   ]
  },
  {
   "cell_type": "code",
   "execution_count": null,
   "metadata": {
    "collapsed": true
   },
   "outputs": [],
   "source": []
  },
  {
   "cell_type": "code",
   "execution_count": null,
   "metadata": {
    "collapsed": true
   },
   "outputs": [],
   "source": []
  },
  {
   "cell_type": "code",
   "execution_count": null,
   "metadata": {
    "collapsed": true
   },
   "outputs": [],
   "source": []
  },
  {
   "cell_type": "code",
   "execution_count": null,
   "metadata": {
    "collapsed": true
   },
   "outputs": [],
   "source": []
  },
  {
   "cell_type": "code",
   "execution_count": null,
   "metadata": {
    "collapsed": true
   },
   "outputs": [],
   "source": []
  },
  {
   "cell_type": "code",
   "execution_count": null,
   "metadata": {
    "collapsed": true
   },
   "outputs": [],
   "source": []
  },
  {
   "cell_type": "code",
   "execution_count": null,
   "metadata": {
    "collapsed": true
   },
   "outputs": [],
   "source": [
    "import re"
   ]
  },
  {
   "cell_type": "code",
   "execution_count": null,
   "metadata": {
    "collapsed": false
   },
   "outputs": [],
   "source": [
    "for msg in message:\n",
    "    body_content = msg.body\n",
    "    msg_sub = msg.Subject\n",
    "    if ('CLARITAS' in body_content)&(data in msg_sub):\n",
    "        \n",
    "        string = msg_sub.split(\" \")\n",
    "        for i in range(0, len(string)):\n",
    "            if string[i] == 'of':\n",
    "                ticker = string[i+1]\n",
    "                if '*' in ticker:\n",
    "                    ticker = ticker.replace(\"*\", '')\n",
    "                elif \"&\" in ticker:\n",
    "                    ticker = ticker.replace(\"&\", '')\n",
    "        print(ticker)"
   ]
  },
  {
   "cell_type": "code",
   "execution_count": null,
   "metadata": {
    "collapsed": true
   },
   "outputs": [],
   "source": []
  }
 ],
 "metadata": {
  "kernelspec": {
   "display_name": "Python 3",
   "language": "python",
   "name": "python3"
  },
  "language_info": {
   "codemirror_mode": {
    "name": "ipython",
    "version": 3
   },
   "file_extension": ".py",
   "mimetype": "text/x-python",
   "name": "python",
   "nbconvert_exporter": "python",
   "pygments_lexer": "ipython3",
   "version": "3.6.0"
  }
 },
 "nbformat": 4,
 "nbformat_minor": 2
}
