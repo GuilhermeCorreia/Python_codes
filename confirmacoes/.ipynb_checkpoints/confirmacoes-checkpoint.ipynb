{
 "cells": [
  {
   "cell_type": "code",
   "execution_count": 1,
   "metadata": {
    "collapsed": false
   },
   "outputs": [],
   "source": [
    "%load_ext autoreload\n",
    "%autoreload 2\n",
    "\n",
    "import os\n",
    "import sys\n",
    "sys.path.append('%s/../' % os.getcwd())\n",
    "\n",
    "import datetime\n",
    "import pandas as pd\n",
    "import numpy as np\n",
    "import getpass"
   ]
  },
  {
   "cell_type": "code",
   "execution_count": 2,
   "metadata": {
    "collapsed": true
   },
   "outputs": [],
   "source": [
    "import aux_emails as email"
   ]
  },
  {
   "cell_type": "code",
   "execution_count": null,
   "metadata": {
    "collapsed": true
   },
   "outputs": [],
   "source": []
  },
  {
   "cell_type": "markdown",
   "metadata": {},
   "source": [
    "## Abaixo você coloca a pasta em que salvou o arquivo do Fidessa!"
   ]
  },
  {
   "cell_type": "code",
   "execution_count": 3,
   "metadata": {
    "collapsed": false
   },
   "outputs": [],
   "source": [
    "#O getpass no final é pr ficar com o seu nome no caminho. Você também pode colocar hardcoded!!\n",
    "pasta = r'\\\\DRIOC0231PFS\\Apoio_SB\\Geral\\BD\\Splunk'\n",
    "pasta_salva = r'\\\\DRIOC0231PFS\\Apoio_SB\\Geral\\BD\\Confirmations\\Confirmacoes_python'\n",
    "mapa_c = r'\\\\DRIOC0231PFS\\Apoio_SB\\Geral\\BD\\Confirmations\\mapa_calypso.xlsx'"
   ]
  },
  {
   "cell_type": "code",
   "execution_count": 4,
   "metadata": {
    "collapsed": true
   },
   "outputs": [],
   "source": [
    "email_saida = 'guilherme.correia@btgpactual.com'"
   ]
  },
  {
   "cell_type": "code",
   "execution_count": 5,
   "metadata": {
    "collapsed": false
   },
   "outputs": [],
   "source": [
    "## AQUI VOCÊ COLOCA O NOME DO ARQUIVO COMO VOCÊ SALVOU\n",
    "df = pd.read_csv(pasta+'\\\\'+'Splunk_TD_24_10_2018.csv')"
   ]
  },
  {
   "cell_type": "code",
   "execution_count": null,
   "metadata": {
    "collapsed": true
   },
   "outputs": [],
   "source": []
  },
  {
   "cell_type": "code",
   "execution_count": 6,
   "metadata": {
    "collapsed": false
   },
   "outputs": [],
   "source": [
    "def salva_excel(cliente, df, td):\n",
    "    out_path = pasta_salva+'\\%s TD %s.xlsx' % (cliente, td)\n",
    "    \n",
    "    #print('Você está salvando o arquivo %s') % out_path\n",
    "    \n",
    "    writer = pd.ExcelWriter(out_path , engine='xlsxwriter')\n",
    "    ndf.to_excel(writer, sheet_name='Planilha1', index=False)\n",
    "    writer.save()\n",
    "    \n",
    "    #print ('Arquivo salvo no local indicado')\n",
    "    return out_path, cliente, td\n",
    "    \n",
    "def get_gap(df):\n",
    "    #print ('Gerando confirmação da GAP')\n",
    "    ndf = df[df['Client/Book']=='GAP_PRUDENTIAL']\n",
    "\n",
    "    ndf['Time']=ndf['Trade Date'].str.split().str[1]\n",
    "\n",
    "    td = pd.to_datetime(ndf['Trade Date'].str.split().str[0].drop_duplicates().reset_index(drop=True)[0], \n",
    "                   format='%Y%m%d')\n",
    "\n",
    "    td = str(td.month)+'-'+str(td.day)\n",
    "\n",
    "    ndf['Order #'] = 6141811\n",
    "\n",
    "    ndf = ndf[['Order #', 'Time', 'Client/Book', ndf.columns[9], 'Symbol', 'Volume', 'AvgPrc', \n",
    "               'Gross consideration','Comm rate', 'Market charges total', \n",
    "               'Settlement consideration']].reset_index(drop=True)\n",
    "\n",
    "    ndf.columns = ['Order #', 'Time','Client', 'B/S', 'Stock', 'Exec Qty', 'Avg Price', 'Financial', \n",
    "                   'Comission', 'Fees', 'Net Amount']\n",
    "    #print ('DataFrame da confirmação gerado')\n",
    "    ndf\n",
    "    \n",
    "    return ndf, td\n",
    "\n",
    "def get_spx(df):\n",
    "    #print('Gerando confirmação da SPX')\n",
    "    ndf = df[df['Client/Book'].str.contains(\"SPX\")].reset_index(drop=True)\n",
    "\n",
    "    ndf['trade_date'] = pd.to_datetime(ndf['Trade Date'].str.split().str[0], format='%Y%m%d')\n",
    "    ndf['settlement_date'] = pd.to_datetime(ndf['Value date'], format='%Y%m%d')\n",
    "    td = pd.to_datetime(ndf['Trade Date'].str.split().str[0].drop_duplicates().reset_index(drop=True)[0], \n",
    "                       format='%Y%m%d')\n",
    "    td = str(td.month)+'-'+str(td.day)\n",
    "    \n",
    "    ndf = ndf[['trade_date', 'settlement_date', ndf.columns[9], 'Symbol', 'Isin code', 'Volume', 'AvgPrc',\n",
    "        'Gross consideration', 'Comm rate', 'Market charges total', 'Settlement consideration', 'Fund ID']]\n",
    "\n",
    "    ndf['Unnamed: 9'] = np.where(ndf['Unnamed: 9']=='B', 'BUY', 'SELL')\n",
    "    ndf['Settlement consideration'] = np.where(ndf['Unnamed: 9']=='BUY', -1*ndf['Settlement consideration'],\n",
    "                                              ndf['Settlement consideration'])\n",
    "\n",
    "    ndf.columns=['T/D', 'S/D', 'Side', 'Ticker', 'ISIN', 'Shares', 'Price', 'Principal', 'Commission',\n",
    "                'SEC Fee', 'Net Amount', 'Settlement Account']\n",
    "    \n",
    "    #print ('DataFrame da confirmação gerado')\n",
    "    ndf\n",
    "    \n",
    "    return ndf, td\n",
    "\n",
    "\n",
    "def get_asset(df, cliente):\n",
    "    \n",
    "    #print ('Gerando confirmação da %s') % cliente\n",
    "\n",
    "    ndf = df[df['Client/Book'].str.contains(cliente)].reset_index(drop=True).copy()\n",
    "\n",
    "    ndf['trade_date'] = pd.to_datetime(ndf['Trade Date'].str.split().str[0], format='%Y%m%d')\n",
    "    ndf['settlement_date'] = pd.to_datetime(ndf['Value date'], format='%Y%m%d')\n",
    "    td = pd.to_datetime(ndf['Trade Date'].str.split().str[0].drop_duplicates().reset_index(drop=True)[0], \n",
    "                       format='%Y%m%d')\n",
    "    td = str(td.month)+'-'+str(td.day)\n",
    "\n",
    "    ndf['CUSIP']=' '\n",
    "    ndf['SEDOL']=' '\n",
    "    ndf['STRIKE PRICE']=' '\n",
    "    ndf['EXPIRY DATE']=' '\n",
    "    ndf['TRADE TYPE']='EQUITY'\n",
    "\n",
    "    ndf['COUNTERPARTY']=np.where(ndf['Dealt currency']=='MXN', 'BTG PACTUAL CASA DE BOLSA SA DE CV', 'BTG PACTUAL US CAPITAL LLC')\n",
    "    ndf['TRADER']='ADRIANO TENENTE'\n",
    "    ndf['Dealt to settlement exchange rate'] = np.where(ndf['Dealt to settlement exchange rate']==1, 0, \n",
    "                                                        ndf['Dealt to settlement exchange rate'])\n",
    "\n",
    "\n",
    "    ndf['FX CURRENCY'] = np.where(ndf['Settlement currency ID']==ndf['Dealt currency'], 0, \n",
    "                                 ndf['Settlement currency ID'].astype(str)+'\\\\'+ndf['Dealt currency'].astype(str))\n",
    "\n",
    "\n",
    "    ndf = ndf[['trade_date', 'settlement_date', 'Fund ID', 'Isin code', 'CUSIP', 'SEDOL', 'Symbol', ndf.columns[9], 'TRADE TYPE',\n",
    "        'STRIKE PRICE', 'EXPIRY DATE', 'Volume', 'AvgPrc', 'Dealt currency', 'Settlement consideration', 'Settlement currency ID',\n",
    "         'COUNTERPARTY', 'TRADER', 'Comm rate', 'Market charges total', 'Dealt to settlement exchange rate', 'FX CURRENCY']]\n",
    "\n",
    "    ndf.columns = ['TRADE DATE','SETTLE DATE','FUND','ISIN','CUSIP','SEDOL','TICKER','BUY/SELL','TRADE TYPE','STRIKE PRICE',\n",
    "                   'EXPIRY DATE','QUANTITY','PRICE','PRICE CURRENCY','NET AMOUNT','NET CURRENCY','COUNTERPARTY','TRADER','COMM',\n",
    "                   'SEC FEES','FX RATE','FX CURRENCY']\n",
    "    \n",
    "    #print ('DataFrame da confirmação gerado')\n",
    "    ndf\n",
    "    \n",
    "    return ndf, td\n",
    "\n",
    "def get_any(df, coluna_procura, string_procura,input_colunas, output_colunas):\n",
    "    #print ('Gerando confirmação do cliente: %s') % string_procura\n",
    "    ndf = df[df[coluna_procura]==string_procura].reset_index(drop=True).copy()\n",
    "\n",
    "    ndf['trade_date'] = pd.to_datetime(ndf['Trade Date'].str.split().str[0], format='%Y%m%d')\n",
    "    ndf['settlement_date'] = pd.to_datetime(ndf['Value date'], format='%Y%m%d')\n",
    "    td = pd.to_datetime(ndf['Trade Date'].str.split().str[0].drop_duplicates().reset_index(drop=True)[0], \n",
    "                       format='%Y%m%d')\n",
    "    td = str(td.month)+'-'+str(td.day)\n",
    "\n",
    "    ndf = ndf[input_colunas]\n",
    "    \n",
    "    try:\n",
    "        ndf['Dealt to settlement exchange rate'] = np.where(ndf['Dealt to settlement exchange rate']==1,0,\n",
    "                                                            ndf['Dealt to settlement exchange rate'])\n",
    "    except:\n",
    "        print('No exchange rates')\n",
    "        \n",
    "    ndf.columns = [output_colunas]\n",
    "    \n",
    "    #print ('DataFrame da confirmação gerado')\n",
    "    return ndf, td\n",
    "\n",
    "\n",
    "def get_kinea(df):\n",
    "\n",
    "    ndf, td = get_any(df, 'Client/Book', 'KINEA',['Unnamed: 9', 'Fund ID', 'Symbol', 'Trade Date', 'Value date', 'Dealt currency', \n",
    "                                       'Volume', 'AvgPrc', 'Gross consideration', 'Comm rate', 'Market charges total',\n",
    "                                       'Settlement consideration'], ['Position Type','Account Id','Security Identifier',\n",
    "                                                                     'Trade Date','Settlement Date','Settlement CCY',\n",
    "                                                                     'Quantity','PriceAmount','Principal','Commission Amount',\n",
    "                                                                     'Tax or fees','Net Amount'])\n",
    "    ndf['Transaction Type']='TR001'\n",
    "    ndf['Transaction Status']='NEW' \n",
    "    ndf['Transaction Level']='A'\n",
    "    ndf['Broker/Counterparty']='PACT'\n",
    "    ndf['Price Indicator']='G'\n",
    "    ndf['Commission Indicator']='F'\n",
    "    ndf['Comments']='CASH'\n",
    "    ndf['Asset Type']='STOCK'\n",
    "    ndf = pd.concat([ndf, pd.DataFrame(columns=lista_blanks)], axis=1).fillna('')[['Transaction Type','Transaction Status','Buy Sell Indicator','Long Short Indicator','Position Type',\n",
    "         'Transaction Level','Client Trade Ref No.','Associated Trade Id','Execution Account','Account Id',\n",
    "         'Broker/Counterparty','Security Identifier Type','Security Identifier','Security Description','Trade Date',\n",
    "         'Settlement Date','Settlement CCY','Exchange Code','Quantity','PriceAmount','Price Indicator','Principal',\n",
    "         'Commission Amount','Commission Indicator','Tax or fees','Tax 2','Tax or fees indicator','Interest',\n",
    "         'Interest indicator','Net Amount','Hearsay Ind','Custodian','Money Manager','Book id','Deal Id','TaxLot Id',\n",
    "         'Original taxlot transaction date','Original Taxlot transaction price','TaxLot Closeout Method','Exchange Rate',\n",
    "         'Acquisition Date','Comments','Asset Type','Trader ID']]\n",
    "    ndf['Account Id'] = ndf['Account Id'].map(dict_contas)\n",
    "    \n",
    "    return ndf, td\n",
    "\n",
    "    \n",
    "lista_blanks = ['Buy Sell Indicator','Long Short Indicator','Client Trade Ref No.','Associated Trade Id','Execution Account',\n",
    "    'Security Identifier Type','Security Description','Exchange Code','Tax 2','Tax or fees indicator','Interest',\n",
    "    'Interest indicator','Hearsay Ind','Custodian','Money Manager','Book id','Deal Id','TaxLot Id',\n",
    "    'Original taxlot transaction date','Original Taxlot transaction price','TaxLot Closeout Method','Exchange Rate',\n",
    "    'Acquisition Date','Trader ID']\n",
    "\n",
    "dict_contas = {\n",
    "    'KGC':'038CDNSR7',\n",
    "    'KGD':'038CDLWA3',\n",
    "    'KGE':'038CDNSQ9',\n",
    "    'KGF':'038CDNSS5'\n",
    "}\n",
    "\n",
    "def get_claritas(df):\n",
    "    ndf = df[df['Client/Book'].str.contains(\"CLARITAS\")].reset_index(drop=True).copy()\n",
    "\n",
    "    ndf['trade_date'] = pd.to_datetime(ndf['Trade Date'].str.split().str[0], format='%Y%m%d')\n",
    "    ndf['settlement_date'] = pd.to_datetime(ndf['Value date'], format='%Y%m%d')\n",
    "    td = pd.to_datetime(ndf['Trade Date'].str.split().str[0].drop_duplicates().reset_index(drop=True)[0], \n",
    "                       format='%Y%m%d')\n",
    "    data = str(td.year)+str(td.month)+str(td.day)\n",
    "    td = str(td.month)+'-'+str(td.day)\n",
    "    \n",
    "\n",
    "\n",
    "    ndf['Gross Amount'] = ndf['Volume']*ndf['AvgPrc']\n",
    "\n",
    "    ndf = ndf[['Fund ID', 'trade_date', 'settlement_date', 'Unnamed: 9', 'Symbol', 'Isin code', 'Volume', 'AvgPrc', 'Comm rate',\n",
    "        'Market charges total', 'Dealt to settlement exchange rate', 'Gross Amount', 'Settlement consideration', \n",
    "        'Settlement currency ID']]\n",
    "\n",
    "    ndf.columns=['Name of Fund','Execution Date','Settlement Date','Side','Ticker ','ISIN Number','Quantity','Avg Price',\n",
    "                 'Commission','SEC Fee','FX RATE','Gross Amount','NetAmount','Sett CCY']\n",
    "\n",
    "    ndf\n",
    "    \n",
    "    return ndf, td, data"
   ]
  },
  {
   "cell_type": "code",
   "execution_count": null,
   "metadata": {
    "collapsed": true
   },
   "outputs": [],
   "source": []
  },
  {
   "cell_type": "code",
   "execution_count": null,
   "metadata": {
    "collapsed": true
   },
   "outputs": [],
   "source": []
  },
  {
   "cell_type": "markdown",
   "metadata": {},
   "source": [
    "# Confirmações prontas!"
   ]
  },
  {
   "cell_type": "markdown",
   "metadata": {},
   "source": [
    "### Se aparecer algo em um quadro vermelho, não quer dizer que deu erro!! funcinou, só que o código está depricated"
   ]
  },
  {
   "cell_type": "markdown",
   "metadata": {},
   "source": [
    "### GAP"
   ]
  },
  {
   "cell_type": "code",
   "execution_count": 7,
   "metadata": {
    "collapsed": false,
    "scrolled": true
   },
   "outputs": [
    {
     "name": "stderr",
     "output_type": "stream",
     "text": [
      "C:\\ProgramData\\Anaconda3\\lib\\site-packages\\ipykernel\\__main__.py:17: SettingWithCopyWarning: \n",
      "A value is trying to be set on a copy of a slice from a DataFrame.\n",
      "Try using .loc[row_indexer,col_indexer] = value instead\n",
      "\n",
      "See the caveats in the documentation: http://pandas.pydata.org/pandas-docs/stable/indexing.html#indexing-view-versus-copy\n",
      "C:\\ProgramData\\Anaconda3\\lib\\site-packages\\ipykernel\\__main__.py:24: SettingWithCopyWarning: \n",
      "A value is trying to be set on a copy of a slice from a DataFrame.\n",
      "Try using .loc[row_indexer,col_indexer] = value instead\n",
      "\n",
      "See the caveats in the documentation: http://pandas.pydata.org/pandas-docs/stable/indexing.html#indexing-view-versus-copy\n"
     ]
    }
   ],
   "source": [
    "ndf, td = get_gap(df)"
   ]
  },
  {
   "cell_type": "code",
   "execution_count": 8,
   "metadata": {
    "collapsed": false,
    "scrolled": true
   },
   "outputs": [
    {
     "data": {
      "text/html": [
       "<div>\n",
       "<table border=\"1\" class=\"dataframe\">\n",
       "  <thead>\n",
       "    <tr style=\"text-align: right;\">\n",
       "      <th></th>\n",
       "      <th>Order #</th>\n",
       "      <th>Time</th>\n",
       "      <th>Client</th>\n",
       "      <th>B/S</th>\n",
       "      <th>Stock</th>\n",
       "      <th>Exec Qty</th>\n",
       "      <th>Avg Price</th>\n",
       "      <th>Financial</th>\n",
       "      <th>Comission</th>\n",
       "      <th>Fees</th>\n",
       "      <th>Net Amount</th>\n",
       "    </tr>\n",
       "  </thead>\n",
       "  <tbody>\n",
       "    <tr>\n",
       "      <th>0</th>\n",
       "      <td>6141811</td>\n",
       "      <td>16:54:31.169000</td>\n",
       "      <td>GAP_PRUDENTIAL</td>\n",
       "      <td>S</td>\n",
       "      <td>ITSA4.SA</td>\n",
       "      <td>47600</td>\n",
       "      <td>11.101282</td>\n",
       "      <td>528421.0</td>\n",
       "      <td>530.53</td>\n",
       "      <td>171.74</td>\n",
       "      <td>527718.73</td>\n",
       "    </tr>\n",
       "    <tr>\n",
       "      <th>1</th>\n",
       "      <td>6141811</td>\n",
       "      <td>16:54:30.655000</td>\n",
       "      <td>GAP_PRUDENTIAL</td>\n",
       "      <td>B</td>\n",
       "      <td>BBDC4.SA</td>\n",
       "      <td>32200</td>\n",
       "      <td>33.241615</td>\n",
       "      <td>1070380.0</td>\n",
       "      <td>1074.66</td>\n",
       "      <td>347.87</td>\n",
       "      <td>1071802.53</td>\n",
       "    </tr>\n",
       "    <tr>\n",
       "      <th>2</th>\n",
       "      <td>6141811</td>\n",
       "      <td>16:54:30.618000</td>\n",
       "      <td>GAP_PRUDENTIAL</td>\n",
       "      <td>S</td>\n",
       "      <td>ITUB4.SA</td>\n",
       "      <td>10600</td>\n",
       "      <td>50.029340</td>\n",
       "      <td>530311.0</td>\n",
       "      <td>532.43</td>\n",
       "      <td>172.35</td>\n",
       "      <td>529606.22</td>\n",
       "    </tr>\n",
       "    <tr>\n",
       "      <th>3</th>\n",
       "      <td>6141811</td>\n",
       "      <td>16:54:31.344000</td>\n",
       "      <td>GAP_PRUDENTIAL</td>\n",
       "      <td>S</td>\n",
       "      <td>BRDT3.SA</td>\n",
       "      <td>3500</td>\n",
       "      <td>25.132000</td>\n",
       "      <td>87962.0</td>\n",
       "      <td>88.31</td>\n",
       "      <td>28.59</td>\n",
       "      <td>87845.10</td>\n",
       "    </tr>\n",
       "  </tbody>\n",
       "</table>\n",
       "</div>"
      ],
      "text/plain": [
       "   Order #             Time          Client B/S     Stock  Exec Qty  \\\n",
       "0  6141811  16:54:31.169000  GAP_PRUDENTIAL   S  ITSA4.SA     47600   \n",
       "1  6141811  16:54:30.655000  GAP_PRUDENTIAL   B  BBDC4.SA     32200   \n",
       "2  6141811  16:54:30.618000  GAP_PRUDENTIAL   S  ITUB4.SA     10600   \n",
       "3  6141811  16:54:31.344000  GAP_PRUDENTIAL   S  BRDT3.SA      3500   \n",
       "\n",
       "   Avg Price  Financial  Comission    Fees  Net Amount  \n",
       "0  11.101282   528421.0     530.53  171.74   527718.73  \n",
       "1  33.241615  1070380.0    1074.66  347.87  1071802.53  \n",
       "2  50.029340   530311.0     532.43  172.35   529606.22  \n",
       "3  25.132000    87962.0      88.31   28.59    87845.10  "
      ]
     },
     "execution_count": 8,
     "metadata": {},
     "output_type": "execute_result"
    }
   ],
   "source": [
    "ndf"
   ]
  },
  {
   "cell_type": "code",
   "execution_count": 9,
   "metadata": {
    "collapsed": false
   },
   "outputs": [],
   "source": [
    "out_path, cliente, td = salva_excel('GAP', df, td)"
   ]
  },
  {
   "cell_type": "code",
   "execution_count": 10,
   "metadata": {
    "collapsed": false
   },
   "outputs": [],
   "source": [
    "## CONFERE SE O EXCEL ESTÁ OK!!\n",
    "email.email_sender(email_saida, 'Risco@sharpcapital.com.br;OL-EQUITYBD@btgpactual.com', \n",
    "            'Confirmação de movimentações %s TD %s' %(cliente, td),\n",
    "             'Em anexo estão as movimentações do dia %s' % td, \n",
    "             [out_path])"
   ]
  },
  {
   "cell_type": "code",
   "execution_count": null,
   "metadata": {
    "collapsed": true
   },
   "outputs": [],
   "source": []
  },
  {
   "cell_type": "markdown",
   "metadata": {},
   "source": [
    "## SPX"
   ]
  },
  {
   "cell_type": "code",
   "execution_count": 7,
   "metadata": {
    "collapsed": false,
    "scrolled": true
   },
   "outputs": [],
   "source": [
    "ndf, td = get_spx(df)"
   ]
  },
  {
   "cell_type": "code",
   "execution_count": 8,
   "metadata": {
    "collapsed": false
   },
   "outputs": [],
   "source": [
    "out_path, cliente, td = salva_excel('SPX', df, td)"
   ]
  },
  {
   "cell_type": "code",
   "execution_count": 9,
   "metadata": {
    "collapsed": false
   },
   "outputs": [
    {
     "data": {
      "text/html": [
       "<div>\n",
       "<table border=\"1\" class=\"dataframe\">\n",
       "  <thead>\n",
       "    <tr style=\"text-align: right;\">\n",
       "      <th></th>\n",
       "      <th>T/D</th>\n",
       "      <th>S/D</th>\n",
       "      <th>Side</th>\n",
       "      <th>Ticker</th>\n",
       "      <th>ISIN</th>\n",
       "      <th>Shares</th>\n",
       "      <th>Price</th>\n",
       "      <th>Principal</th>\n",
       "      <th>Commission</th>\n",
       "      <th>SEC Fee</th>\n",
       "      <th>Net Amount</th>\n",
       "      <th>Settlement Account</th>\n",
       "    </tr>\n",
       "  </thead>\n",
       "  <tbody>\n",
       "    <tr>\n",
       "      <th>0</th>\n",
       "      <td>2018-08-22</td>\n",
       "      <td>2018-08-24</td>\n",
       "      <td>BUY</td>\n",
       "      <td>PBR.US</td>\n",
       "      <td>US71654V4086</td>\n",
       "      <td>89385</td>\n",
       "      <td>10.3353</td>\n",
       "      <td>923820.79</td>\n",
       "      <td>893.85</td>\n",
       "      <td>0.00</td>\n",
       "      <td>-924714.64</td>\n",
       "      <td>SPX_MS</td>\n",
       "    </tr>\n",
       "    <tr>\n",
       "      <th>1</th>\n",
       "      <td>2018-08-22</td>\n",
       "      <td>2018-08-24</td>\n",
       "      <td>SELL</td>\n",
       "      <td>CIG.US</td>\n",
       "      <td>US2044096012</td>\n",
       "      <td>500000</td>\n",
       "      <td>1.8223</td>\n",
       "      <td>911150.00</td>\n",
       "      <td>5000.00</td>\n",
       "      <td>11.85</td>\n",
       "      <td>906138.15</td>\n",
       "      <td>SPX_MS</td>\n",
       "    </tr>\n",
       "    <tr>\n",
       "      <th>2</th>\n",
       "      <td>2018-08-22</td>\n",
       "      <td>2018-08-24</td>\n",
       "      <td>BUY</td>\n",
       "      <td>BSBR.US</td>\n",
       "      <td>US05967A1079</td>\n",
       "      <td>500000</td>\n",
       "      <td>8.4614</td>\n",
       "      <td>4230700.00</td>\n",
       "      <td>5000.00</td>\n",
       "      <td>0.00</td>\n",
       "      <td>-4235700.00</td>\n",
       "      <td>SPX_MS</td>\n",
       "    </tr>\n",
       "    <tr>\n",
       "      <th>3</th>\n",
       "      <td>2018-08-22</td>\n",
       "      <td>2018-08-24</td>\n",
       "      <td>SELL</td>\n",
       "      <td>BBD.US</td>\n",
       "      <td>US0594603039</td>\n",
       "      <td>182871</td>\n",
       "      <td>6.9855</td>\n",
       "      <td>1277445.37</td>\n",
       "      <td>1828.71</td>\n",
       "      <td>16.61</td>\n",
       "      <td>1275600.05</td>\n",
       "      <td>SPX_MS</td>\n",
       "    </tr>\n",
       "    <tr>\n",
       "      <th>4</th>\n",
       "      <td>2018-08-22</td>\n",
       "      <td>2018-08-24</td>\n",
       "      <td>SELL</td>\n",
       "      <td>CBD.US</td>\n",
       "      <td>US20440T2015</td>\n",
       "      <td>105541</td>\n",
       "      <td>19.7834</td>\n",
       "      <td>2087959.82</td>\n",
       "      <td>1055.41</td>\n",
       "      <td>27.15</td>\n",
       "      <td>2086877.26</td>\n",
       "      <td>SPX_MS</td>\n",
       "    </tr>\n",
       "    <tr>\n",
       "      <th>5</th>\n",
       "      <td>2018-08-22</td>\n",
       "      <td>2018-08-24</td>\n",
       "      <td>BUY</td>\n",
       "      <td>ITUB.US</td>\n",
       "      <td>US4655621062</td>\n",
       "      <td>145169</td>\n",
       "      <td>10.4018</td>\n",
       "      <td>1510018.90</td>\n",
       "      <td>1451.69</td>\n",
       "      <td>0.00</td>\n",
       "      <td>-1511470.59</td>\n",
       "      <td>SPX_MS</td>\n",
       "    </tr>\n",
       "  </tbody>\n",
       "</table>\n",
       "</div>"
      ],
      "text/plain": [
       "         T/D        S/D  Side   Ticker          ISIN  Shares    Price  \\\n",
       "0 2018-08-22 2018-08-24   BUY   PBR.US  US71654V4086   89385  10.3353   \n",
       "1 2018-08-22 2018-08-24  SELL   CIG.US  US2044096012  500000   1.8223   \n",
       "2 2018-08-22 2018-08-24   BUY  BSBR.US  US05967A1079  500000   8.4614   \n",
       "3 2018-08-22 2018-08-24  SELL   BBD.US  US0594603039  182871   6.9855   \n",
       "4 2018-08-22 2018-08-24  SELL   CBD.US  US20440T2015  105541  19.7834   \n",
       "5 2018-08-22 2018-08-24   BUY  ITUB.US  US4655621062  145169  10.4018   \n",
       "\n",
       "    Principal  Commission  SEC Fee  Net Amount Settlement Account  \n",
       "0   923820.79      893.85     0.00  -924714.64             SPX_MS  \n",
       "1   911150.00     5000.00    11.85   906138.15             SPX_MS  \n",
       "2  4230700.00     5000.00     0.00 -4235700.00             SPX_MS  \n",
       "3  1277445.37     1828.71    16.61  1275600.05             SPX_MS  \n",
       "4  2087959.82     1055.41    27.15  2086877.26             SPX_MS  \n",
       "5  1510018.90     1451.69     0.00 -1511470.59             SPX_MS  "
      ]
     },
     "execution_count": 9,
     "metadata": {},
     "output_type": "execute_result"
    }
   ],
   "source": [
    "ndf"
   ]
  },
  {
   "cell_type": "code",
   "execution_count": 10,
   "metadata": {
    "collapsed": true
   },
   "outputs": [],
   "source": [
    "## CONFERE SE O EXCEL ESTÁ OK!!\n",
    "email.email_sender(email_saida, 'felipe.carvalho@spxcapital.com.br;controle@spxcapital.com.br;OL-EQUITYBD@btgpactual.com', \n",
    "            'Confirmação de movimentações %s TD %s' %(cliente, td),\n",
    "             'Em anexo estão as movimentações do dia %s' % td, \n",
    "             [out_path])"
   ]
  },
  {
   "cell_type": "code",
   "execution_count": null,
   "metadata": {
    "collapsed": true
   },
   "outputs": [],
   "source": []
  },
  {
   "cell_type": "markdown",
   "metadata": {},
   "source": [
    "### Polo"
   ]
  },
  {
   "cell_type": "code",
   "execution_count": 7,
   "metadata": {
    "collapsed": false
   },
   "outputs": [
    {
     "name": "stdout",
     "output_type": "stream",
     "text": [
      "No exchange rates\n"
     ]
    }
   ],
   "source": [
    "ndf, td = get_any(df, 'Client/Book', 'POLO_INTL',['trade_date', 'settlement_date', df.columns[9], 'Symbol', 'Isin code', 'Volume', 'AvgPrc',\n",
    "        'Gross consideration', 'Comm rate', 'Market charges total', 'Settlement consideration', 'Fund ID'],\n",
    "                 ['T/D', 'S/D', 'Side', 'Ticker', 'ISIN', 'Shares', 'Price', 'Principal', 'Commission',\n",
    "                'SEC Fee', 'Net Amount', 'Settlement Account'])"
   ]
  },
  {
   "cell_type": "code",
   "execution_count": 8,
   "metadata": {
    "collapsed": true
   },
   "outputs": [],
   "source": [
    "out_path, cliente, td = salva_excel('POLO_INTL', df, td)"
   ]
  },
  {
   "cell_type": "code",
   "execution_count": 9,
   "metadata": {
    "collapsed": false
   },
   "outputs": [
    {
     "data": {
      "text/html": [
       "<div>\n",
       "<table border=\"1\" class=\"dataframe\">\n",
       "  <thead>\n",
       "    <tr style=\"text-align: right;\">\n",
       "      <th></th>\n",
       "      <th>T/D</th>\n",
       "      <th>S/D</th>\n",
       "      <th>Side</th>\n",
       "      <th>Ticker</th>\n",
       "      <th>ISIN</th>\n",
       "      <th>Shares</th>\n",
       "      <th>Price</th>\n",
       "      <th>Principal</th>\n",
       "      <th>Commission</th>\n",
       "      <th>SEC Fee</th>\n",
       "      <th>Net Amount</th>\n",
       "      <th>Settlement Account</th>\n",
       "    </tr>\n",
       "  </thead>\n",
       "  <tbody>\n",
       "    <tr>\n",
       "      <th>0</th>\n",
       "      <td>2018-07-19</td>\n",
       "      <td>2018-07-23</td>\n",
       "      <td>S</td>\n",
       "      <td>GENTERA*.MX</td>\n",
       "      <td>MX01GE0E0004</td>\n",
       "      <td>303477</td>\n",
       "      <td>19.1732</td>\n",
       "      <td>5818625.22</td>\n",
       "      <td>11637.25</td>\n",
       "      <td>0.0</td>\n",
       "      <td>302870.68</td>\n",
       "      <td>POLO_INTL_FUND</td>\n",
       "    </tr>\n",
       "    <tr>\n",
       "      <th>1</th>\n",
       "      <td>2018-07-19</td>\n",
       "      <td>2018-07-23</td>\n",
       "      <td>B</td>\n",
       "      <td>BSMX.US</td>\n",
       "      <td>US05969B1035</td>\n",
       "      <td>39000</td>\n",
       "      <td>7.8126</td>\n",
       "      <td>304691.40</td>\n",
       "      <td>1170.00</td>\n",
       "      <td>0.0</td>\n",
       "      <td>305861.40</td>\n",
       "      <td>POLO_INTL_FUND</td>\n",
       "    </tr>\n",
       "  </tbody>\n",
       "</table>\n",
       "</div>"
      ],
      "text/plain": [
       "         T/D        S/D Side       Ticker          ISIN  Shares    Price  \\\n",
       "0 2018-07-19 2018-07-23    S  GENTERA*.MX  MX01GE0E0004  303477  19.1732   \n",
       "1 2018-07-19 2018-07-23    B      BSMX.US  US05969B1035   39000   7.8126   \n",
       "\n",
       "    Principal  Commission  SEC Fee  Net Amount Settlement Account  \n",
       "0  5818625.22    11637.25      0.0   302870.68     POLO_INTL_FUND  \n",
       "1   304691.40     1170.00      0.0   305861.40     POLO_INTL_FUND  "
      ]
     },
     "execution_count": 9,
     "metadata": {},
     "output_type": "execute_result"
    }
   ],
   "source": [
    "ndf"
   ]
  },
  {
   "cell_type": "code",
   "execution_count": 10,
   "metadata": {
    "collapsed": true
   },
   "outputs": [],
   "source": [
    "email.email_sender(email_saida, 'boletagem@polocapital.com;OL-EQUITYBD@btgpactual.com', \n",
    "            'Confirmação de movimentações %s TD %s' %(cliente, td),\n",
    "             'Em anexo estão as movimentações do dia %s' % td, \n",
    "             [out_path])"
   ]
  },
  {
   "cell_type": "code",
   "execution_count": null,
   "metadata": {
    "collapsed": true
   },
   "outputs": [],
   "source": []
  },
  {
   "cell_type": "code",
   "execution_count": null,
   "metadata": {
    "collapsed": true
   },
   "outputs": [],
   "source": []
  },
  {
   "cell_type": "code",
   "execution_count": null,
   "metadata": {
    "collapsed": true
   },
   "outputs": [],
   "source": []
  },
  {
   "cell_type": "markdown",
   "metadata": {},
   "source": [
    "### Truxt"
   ]
  },
  {
   "cell_type": "code",
   "execution_count": 7,
   "metadata": {
    "collapsed": false
   },
   "outputs": [
    {
     "name": "stdout",
     "output_type": "stream",
     "text": [
      "No exchange rates\n"
     ]
    }
   ],
   "source": [
    "ndf, td = get_any(df, 'Client/Book', 'TRUXT',['trade_date', 'settlement_date', df.columns[9], 'Symbol', 'Isin code', 'Volume', 'AvgPrc',\n",
    "        'Gross consideration', 'Comm rate', 'Market charges total', 'Settlement consideration', 'Fund ID'],\n",
    "                 ['T/D', 'S/D', 'Side', 'Ticker', 'ISIN', 'Shares', 'Price', 'Principal', 'Commission',\n",
    "                'SEC Fee', 'Net Amount', 'Settlement Account'])"
   ]
  },
  {
   "cell_type": "code",
   "execution_count": 8,
   "metadata": {
    "collapsed": true
   },
   "outputs": [],
   "source": [
    "out_path, cliente, td = salva_excel('TRUXT', df, td)"
   ]
  },
  {
   "cell_type": "code",
   "execution_count": 9,
   "metadata": {
    "collapsed": false
   },
   "outputs": [
    {
     "data": {
      "text/html": [
       "<div>\n",
       "<table border=\"1\" class=\"dataframe\">\n",
       "  <thead>\n",
       "    <tr style=\"text-align: right;\">\n",
       "      <th></th>\n",
       "      <th>T/D</th>\n",
       "      <th>S/D</th>\n",
       "      <th>Side</th>\n",
       "      <th>Ticker</th>\n",
       "      <th>ISIN</th>\n",
       "      <th>Shares</th>\n",
       "      <th>Price</th>\n",
       "      <th>Principal</th>\n",
       "      <th>Commission</th>\n",
       "      <th>SEC Fee</th>\n",
       "      <th>Net Amount</th>\n",
       "      <th>Settlement Account</th>\n",
       "    </tr>\n",
       "  </thead>\n",
       "  <tbody>\n",
       "    <tr>\n",
       "      <th>0</th>\n",
       "      <td>2018-06-06</td>\n",
       "      <td>2018-06-08</td>\n",
       "      <td>S</td>\n",
       "      <td>LTM.US</td>\n",
       "      <td>US51817R1068</td>\n",
       "      <td>260000</td>\n",
       "      <td>11.8006</td>\n",
       "      <td>3068156.0</td>\n",
       "      <td>5200.0</td>\n",
       "      <td>39.89</td>\n",
       "      <td>3062916.11</td>\n",
       "      <td>TRUXT_MS</td>\n",
       "    </tr>\n",
       "  </tbody>\n",
       "</table>\n",
       "</div>"
      ],
      "text/plain": [
       "         T/D        S/D Side  Ticker          ISIN  Shares    Price  \\\n",
       "0 2018-06-06 2018-06-08    S  LTM.US  US51817R1068  260000  11.8006   \n",
       "\n",
       "   Principal  Commission  SEC Fee  Net Amount Settlement Account  \n",
       "0  3068156.0      5200.0    39.89  3062916.11           TRUXT_MS  "
      ]
     },
     "execution_count": 9,
     "metadata": {},
     "output_type": "execute_result"
    }
   ],
   "source": [
    "ndf"
   ]
  },
  {
   "cell_type": "code",
   "execution_count": 10,
   "metadata": {
    "collapsed": true
   },
   "outputs": [],
   "source": [
    "email.email_sender(email_saida, 'anaclara.machado@truxtinvestimentos.com.br;middle@truxtinvestimentos.com.br;OL-EQUITYBD@btgpactual.com', \n",
    "            'Confirmação de movimentações %s TD %s' %(cliente, td),\n",
    "             'Em anexo estão as movimentações do dia %s' % td, \n",
    "             [out_path])"
   ]
  },
  {
   "cell_type": "code",
   "execution_count": null,
   "metadata": {
    "collapsed": true
   },
   "outputs": [],
   "source": []
  },
  {
   "cell_type": "markdown",
   "metadata": {},
   "source": [
    "## Asset"
   ]
  },
  {
   "cell_type": "code",
   "execution_count": 7,
   "metadata": {
    "collapsed": false
   },
   "outputs": [],
   "source": [
    "ndf, td = get_asset(df, 'ASSETBTG')"
   ]
  },
  {
   "cell_type": "code",
   "execution_count": 8,
   "metadata": {
    "collapsed": true
   },
   "outputs": [],
   "source": [
    "ndf = ndf.sort_values(by=['TICKER', 'FUND'])"
   ]
  },
  {
   "cell_type": "code",
   "execution_count": 9,
   "metadata": {
    "collapsed": false
   },
   "outputs": [],
   "source": [
    "out_path, cliente, td = salva_excel('ASSETBTG', df, td)"
   ]
  },
  {
   "cell_type": "code",
   "execution_count": null,
   "metadata": {
    "collapsed": true
   },
   "outputs": [],
   "source": []
  },
  {
   "cell_type": "code",
   "execution_count": 1,
   "metadata": {
    "collapsed": false,
    "scrolled": true
   },
   "outputs": [
    {
     "ename": "NameError",
     "evalue": "name 'ndf' is not defined",
     "output_type": "error",
     "traceback": [
      "\u001b[0;31m---------------------------------------------------------------------------\u001b[0m",
      "\u001b[0;31mNameError\u001b[0m                                 Traceback (most recent call last)",
      "\u001b[0;32m<ipython-input-1-3ec28e65f55a>\u001b[0m in \u001b[0;36m<module>\u001b[0;34m()\u001b[0m\n\u001b[0;32m----> 1\u001b[0;31m \u001b[0mndf\u001b[0m\u001b[1;33m[\u001b[0m\u001b[1;34m'TRADER'\u001b[0m\u001b[1;33m:\u001b[0m\u001b[1;33m]\u001b[0m\u001b[1;33m\u001b[0m\u001b[0m\n\u001b[0m",
      "\u001b[0;31mNameError\u001b[0m: name 'ndf' is not defined"
     ]
    }
   ],
   "source": [
    "ndf['TRADER']"
   ]
  },
  {
   "cell_type": "code",
   "execution_count": 11,
   "metadata": {
    "collapsed": true
   },
   "outputs": [],
   "source": [
    "## CONFERE SE O EXCEL ESTÁ OK!!\n",
    "email.email_sender(email_saida, 'OL-equity-backoffice@btgpactual.com;OL-BTG-Ops-Brazil@btgpactual.com;OL-hedgefundsadm@btgpactual.com;ol-fundadm-trades@btgpactual.com;OL-EQUITYBD@btgpactual.com', \n",
    "            'Confirmação de movimentações %s TD %s' %(cliente, td),\n",
    "             'Em anexo estão as movimentações do dia %s' % td, \n",
    "             [out_path])"
   ]
  },
  {
   "cell_type": "markdown",
   "metadata": {
    "collapsed": true
   },
   "source": [
    "## Sura"
   ]
  },
  {
   "cell_type": "code",
   "execution_count": 7,
   "metadata": {
    "collapsed": false,
    "scrolled": true
   },
   "outputs": [],
   "source": [
    "ndf, td = get_asset(df, 'SURA_')"
   ]
  },
  {
   "cell_type": "code",
   "execution_count": 8,
   "metadata": {
    "collapsed": false
   },
   "outputs": [
    {
     "data": {
      "text/html": [
       "<div>\n",
       "<table border=\"1\" class=\"dataframe\">\n",
       "  <thead>\n",
       "    <tr style=\"text-align: right;\">\n",
       "      <th></th>\n",
       "      <th>TRADE DATE</th>\n",
       "      <th>SETTLE DATE</th>\n",
       "      <th>FUND</th>\n",
       "      <th>ISIN</th>\n",
       "      <th>CUSIP</th>\n",
       "      <th>SEDOL</th>\n",
       "      <th>TICKER</th>\n",
       "      <th>BUY/SELL</th>\n",
       "      <th>TRADE TYPE</th>\n",
       "      <th>STRIKE PRICE</th>\n",
       "      <th>...</th>\n",
       "      <th>PRICE</th>\n",
       "      <th>PRICE CURRENCY</th>\n",
       "      <th>NET AMOUNT</th>\n",
       "      <th>NET CURRENCY</th>\n",
       "      <th>COUNTERPARTY</th>\n",
       "      <th>TRADER</th>\n",
       "      <th>COMM</th>\n",
       "      <th>SEC FEES</th>\n",
       "      <th>FX RATE</th>\n",
       "      <th>FX CURRENCY</th>\n",
       "    </tr>\n",
       "  </thead>\n",
       "  <tbody>\n",
       "    <tr>\n",
       "      <th>0</th>\n",
       "      <td>2018-07-25</td>\n",
       "      <td>2018-07-27</td>\n",
       "      <td>ALIANZA_PAC</td>\n",
       "      <td>MXP001691213</td>\n",
       "      <td></td>\n",
       "      <td></td>\n",
       "      <td>AMXL.MX</td>\n",
       "      <td>B</td>\n",
       "      <td>EQUITY</td>\n",
       "      <td></td>\n",
       "      <td>...</td>\n",
       "      <td>16.1339</td>\n",
       "      <td>MXN</td>\n",
       "      <td>777262.60</td>\n",
       "      <td>MXN</td>\n",
       "      <td>BTG PACTUAL CASA DE BOLSA SA DE CV</td>\n",
       "      <td>ADRIANO TENENTE</td>\n",
       "      <td>931.60</td>\n",
       "      <td>0.0</td>\n",
       "      <td>0.0</td>\n",
       "      <td>0</td>\n",
       "    </tr>\n",
       "    <tr>\n",
       "      <th>1</th>\n",
       "      <td>2018-07-25</td>\n",
       "      <td>2018-07-27</td>\n",
       "      <td>ALIANZA_PAC</td>\n",
       "      <td>MX41BB000000</td>\n",
       "      <td></td>\n",
       "      <td></td>\n",
       "      <td>BBAJIOO.MX</td>\n",
       "      <td>S</td>\n",
       "      <td>EQUITY</td>\n",
       "      <td></td>\n",
       "      <td>...</td>\n",
       "      <td>44.9436</td>\n",
       "      <td>MXN</td>\n",
       "      <td>142838.93</td>\n",
       "      <td>MXN</td>\n",
       "      <td>BTG PACTUAL CASA DE BOLSA SA DE CV</td>\n",
       "      <td>ADRIANO TENENTE</td>\n",
       "      <td>171.61</td>\n",
       "      <td>0.0</td>\n",
       "      <td>0.0</td>\n",
       "      <td>0</td>\n",
       "    </tr>\n",
       "    <tr>\n",
       "      <th>2</th>\n",
       "      <td>2018-07-25</td>\n",
       "      <td>2018-07-27</td>\n",
       "      <td>ALIANZA_PAC</td>\n",
       "      <td>MX01OM000018</td>\n",
       "      <td></td>\n",
       "      <td></td>\n",
       "      <td>OMAB.MX</td>\n",
       "      <td>S</td>\n",
       "      <td>EQUITY</td>\n",
       "      <td></td>\n",
       "      <td>...</td>\n",
       "      <td>117.6103</td>\n",
       "      <td>MXN</td>\n",
       "      <td>168450.79</td>\n",
       "      <td>MXN</td>\n",
       "      <td>BTG PACTUAL CASA DE BOLSA SA DE CV</td>\n",
       "      <td>ADRIANO TENENTE</td>\n",
       "      <td>202.38</td>\n",
       "      <td>0.0</td>\n",
       "      <td>0.0</td>\n",
       "      <td>0</td>\n",
       "    </tr>\n",
       "  </tbody>\n",
       "</table>\n",
       "<p>3 rows × 22 columns</p>\n",
       "</div>"
      ],
      "text/plain": [
       "  TRADE DATE SETTLE DATE         FUND          ISIN CUSIP SEDOL      TICKER  \\\n",
       "0 2018-07-25  2018-07-27  ALIANZA_PAC  MXP001691213                 AMXL.MX   \n",
       "1 2018-07-25  2018-07-27  ALIANZA_PAC  MX41BB000000              BBAJIOO.MX   \n",
       "2 2018-07-25  2018-07-27  ALIANZA_PAC  MX01OM000018                 OMAB.MX   \n",
       "\n",
       "  BUY/SELL TRADE TYPE STRIKE PRICE     ...          PRICE  PRICE CURRENCY  \\\n",
       "0        B     EQUITY                  ...        16.1339             MXN   \n",
       "1        S     EQUITY                  ...        44.9436             MXN   \n",
       "2        S     EQUITY                  ...       117.6103             MXN   \n",
       "\n",
       "   NET AMOUNT NET CURRENCY                        COUNTERPARTY  \\\n",
       "0   777262.60          MXN  BTG PACTUAL CASA DE BOLSA SA DE CV   \n",
       "1   142838.93          MXN  BTG PACTUAL CASA DE BOLSA SA DE CV   \n",
       "2   168450.79          MXN  BTG PACTUAL CASA DE BOLSA SA DE CV   \n",
       "\n",
       "            TRADER    COMM SEC FEES  FX RATE  FX CURRENCY  \n",
       "0  ADRIANO TENENTE  931.60      0.0      0.0            0  \n",
       "1  ADRIANO TENENTE  171.61      0.0      0.0            0  \n",
       "2  ADRIANO TENENTE  202.38      0.0      0.0            0  \n",
       "\n",
       "[3 rows x 22 columns]"
      ]
     },
     "execution_count": 8,
     "metadata": {},
     "output_type": "execute_result"
    }
   ],
   "source": [
    "ndf"
   ]
  },
  {
   "cell_type": "code",
   "execution_count": 9,
   "metadata": {
    "collapsed": true
   },
   "outputs": [],
   "source": [
    "out_path, cliente, td = salva_excel('SURA', df, td)"
   ]
  },
  {
   "cell_type": "code",
   "execution_count": 10,
   "metadata": {
    "collapsed": true
   },
   "outputs": [],
   "source": [
    "## CONFERE SE O EXCEL ESTÁ OK!!\n",
    "email.email_sender(email_saida, 'Paulina.Zuniga@sura.cl;Fabian.Gonzalez@Sura.cl;Marco.Gomez@Sura.cl;CustodiaAGF@sura.cl;OL-EQUITYBD@btgpactual.com', \n",
    "            'Confirmação de movimentações %s TD %s' %(cliente, td),\n",
    "             'Em anexo estão as movimentações do dia %s' % td, \n",
    "             [out_path])"
   ]
  },
  {
   "cell_type": "code",
   "execution_count": null,
   "metadata": {
    "collapsed": true
   },
   "outputs": [],
   "source": []
  },
  {
   "cell_type": "markdown",
   "metadata": {},
   "source": [
    "## Kinea"
   ]
  },
  {
   "cell_type": "code",
   "execution_count": 7,
   "metadata": {
    "collapsed": false
   },
   "outputs": [
    {
     "name": "stdout",
     "output_type": "stream",
     "text": [
      "No exchange rates\n"
     ]
    }
   ],
   "source": [
    "ndf, td = get_kinea(df)"
   ]
  },
  {
   "cell_type": "code",
   "execution_count": 9,
   "metadata": {
    "collapsed": false
   },
   "outputs": [
    {
     "data": {
      "text/plain": [
       "Index(['Transaction Type', 'Transaction Status', 'Buy Sell Indicator',\n",
       "       'Long Short Indicator', 'Position Type', 'Transaction Level',\n",
       "       'Client Trade Ref No.', 'Associated Trade Id', 'Execution Account',\n",
       "       'Account Id', 'Broker/Counterparty', 'Security Identifier Type',\n",
       "       'Security Identifier', 'Security Description', 'Trade Date',\n",
       "       'Settlement Date', 'Settlement CCY', 'Exchange Code', 'Quantity',\n",
       "       'PriceAmount', 'Price Indicator', 'Principal', 'Commission Amount',\n",
       "       'Commission Indicator', 'Tax or fees', 'Tax 2', 'Tax or fees indicator',\n",
       "       'Interest', 'Interest indicator', 'Net Amount', 'Hearsay Ind',\n",
       "       'Custodian', 'Money Manager', 'Book id', 'Deal Id', 'TaxLot Id',\n",
       "       'Original taxlot transaction date', 'Original Taxlot transaction price',\n",
       "       'TaxLot Closeout Method', 'Exchange Rate', 'Acquisition Date',\n",
       "       'Comments', 'Asset Type', 'Trader ID'],\n",
       "      dtype='object')"
      ]
     },
     "execution_count": 9,
     "metadata": {},
     "output_type": "execute_result"
    }
   ],
   "source": [
    "ndf.columns"
   ]
  },
  {
   "cell_type": "code",
   "execution_count": 16,
   "metadata": {
    "collapsed": false,
    "scrolled": false
   },
   "outputs": [
    {
     "data": {
      "text/html": [
       "<div>\n",
       "<table border=\"1\" class=\"dataframe\">\n",
       "  <thead>\n",
       "    <tr style=\"text-align: right;\">\n",
       "      <th></th>\n",
       "      <th>Tax or fees indicator</th>\n",
       "      <th>Interest</th>\n",
       "      <th>Interest indicator</th>\n",
       "      <th>Net Amount</th>\n",
       "      <th>Hearsay Ind</th>\n",
       "      <th>Custodian</th>\n",
       "      <th>Money Manager</th>\n",
       "      <th>Book id</th>\n",
       "      <th>Deal Id</th>\n",
       "      <th>TaxLot Id</th>\n",
       "      <th>Original taxlot transaction date</th>\n",
       "      <th>Original Taxlot transaction price</th>\n",
       "      <th>TaxLot Closeout Method</th>\n",
       "      <th>Exchange Rate</th>\n",
       "      <th>Acquisition Date</th>\n",
       "      <th>Comments</th>\n",
       "      <th>Asset Type</th>\n",
       "      <th>Trader ID</th>\n",
       "    </tr>\n",
       "  </thead>\n",
       "  <tbody>\n",
       "    <tr>\n",
       "      <th>0</th>\n",
       "      <td></td>\n",
       "      <td></td>\n",
       "      <td></td>\n",
       "      <td>31193028.33</td>\n",
       "      <td></td>\n",
       "      <td></td>\n",
       "      <td></td>\n",
       "      <td></td>\n",
       "      <td></td>\n",
       "      <td></td>\n",
       "      <td></td>\n",
       "      <td></td>\n",
       "      <td></td>\n",
       "      <td></td>\n",
       "      <td></td>\n",
       "      <td>CASH</td>\n",
       "      <td>STOCK</td>\n",
       "      <td></td>\n",
       "    </tr>\n",
       "    <tr>\n",
       "      <th>1</th>\n",
       "      <td></td>\n",
       "      <td></td>\n",
       "      <td></td>\n",
       "      <td>26930626.95</td>\n",
       "      <td></td>\n",
       "      <td></td>\n",
       "      <td></td>\n",
       "      <td></td>\n",
       "      <td></td>\n",
       "      <td></td>\n",
       "      <td></td>\n",
       "      <td></td>\n",
       "      <td></td>\n",
       "      <td></td>\n",
       "      <td></td>\n",
       "      <td>CASH</td>\n",
       "      <td>STOCK</td>\n",
       "      <td></td>\n",
       "    </tr>\n",
       "    <tr>\n",
       "      <th>2</th>\n",
       "      <td></td>\n",
       "      <td></td>\n",
       "      <td></td>\n",
       "      <td>100374.65</td>\n",
       "      <td></td>\n",
       "      <td></td>\n",
       "      <td></td>\n",
       "      <td></td>\n",
       "      <td></td>\n",
       "      <td></td>\n",
       "      <td></td>\n",
       "      <td></td>\n",
       "      <td></td>\n",
       "      <td></td>\n",
       "      <td></td>\n",
       "      <td>CASH</td>\n",
       "      <td>STOCK</td>\n",
       "      <td></td>\n",
       "    </tr>\n",
       "    <tr>\n",
       "      <th>3</th>\n",
       "      <td></td>\n",
       "      <td></td>\n",
       "      <td></td>\n",
       "      <td>115950.03</td>\n",
       "      <td></td>\n",
       "      <td></td>\n",
       "      <td></td>\n",
       "      <td></td>\n",
       "      <td></td>\n",
       "      <td></td>\n",
       "      <td></td>\n",
       "      <td></td>\n",
       "      <td></td>\n",
       "      <td></td>\n",
       "      <td></td>\n",
       "      <td>CASH</td>\n",
       "      <td>STOCK</td>\n",
       "      <td></td>\n",
       "    </tr>\n",
       "    <tr>\n",
       "      <th>4</th>\n",
       "      <td></td>\n",
       "      <td></td>\n",
       "      <td></td>\n",
       "      <td>2918137.16</td>\n",
       "      <td></td>\n",
       "      <td></td>\n",
       "      <td></td>\n",
       "      <td></td>\n",
       "      <td></td>\n",
       "      <td></td>\n",
       "      <td></td>\n",
       "      <td></td>\n",
       "      <td></td>\n",
       "      <td></td>\n",
       "      <td></td>\n",
       "      <td>CASH</td>\n",
       "      <td>STOCK</td>\n",
       "      <td></td>\n",
       "    </tr>\n",
       "    <tr>\n",
       "      <th>5</th>\n",
       "      <td></td>\n",
       "      <td></td>\n",
       "      <td></td>\n",
       "      <td>2513096.04</td>\n",
       "      <td></td>\n",
       "      <td></td>\n",
       "      <td></td>\n",
       "      <td></td>\n",
       "      <td></td>\n",
       "      <td></td>\n",
       "      <td></td>\n",
       "      <td></td>\n",
       "      <td></td>\n",
       "      <td></td>\n",
       "      <td></td>\n",
       "      <td>CASH</td>\n",
       "      <td>STOCK</td>\n",
       "      <td></td>\n",
       "    </tr>\n",
       "    <tr>\n",
       "      <th>6</th>\n",
       "      <td></td>\n",
       "      <td></td>\n",
       "      <td></td>\n",
       "      <td>240833.54</td>\n",
       "      <td></td>\n",
       "      <td></td>\n",
       "      <td></td>\n",
       "      <td></td>\n",
       "      <td></td>\n",
       "      <td></td>\n",
       "      <td></td>\n",
       "      <td></td>\n",
       "      <td></td>\n",
       "      <td></td>\n",
       "      <td></td>\n",
       "      <td>CASH</td>\n",
       "      <td>STOCK</td>\n",
       "      <td></td>\n",
       "    </tr>\n",
       "    <tr>\n",
       "      <th>7</th>\n",
       "      <td></td>\n",
       "      <td></td>\n",
       "      <td></td>\n",
       "      <td>347248.36</td>\n",
       "      <td></td>\n",
       "      <td></td>\n",
       "      <td></td>\n",
       "      <td></td>\n",
       "      <td></td>\n",
       "      <td></td>\n",
       "      <td></td>\n",
       "      <td></td>\n",
       "      <td></td>\n",
       "      <td></td>\n",
       "      <td></td>\n",
       "      <td>CASH</td>\n",
       "      <td>STOCK</td>\n",
       "      <td></td>\n",
       "    </tr>\n",
       "    <tr>\n",
       "      <th>8</th>\n",
       "      <td></td>\n",
       "      <td></td>\n",
       "      <td></td>\n",
       "      <td>18125513.58</td>\n",
       "      <td></td>\n",
       "      <td></td>\n",
       "      <td></td>\n",
       "      <td></td>\n",
       "      <td></td>\n",
       "      <td></td>\n",
       "      <td></td>\n",
       "      <td></td>\n",
       "      <td></td>\n",
       "      <td></td>\n",
       "      <td></td>\n",
       "      <td>CASH</td>\n",
       "      <td>STOCK</td>\n",
       "      <td></td>\n",
       "    </tr>\n",
       "    <tr>\n",
       "      <th>9</th>\n",
       "      <td></td>\n",
       "      <td></td>\n",
       "      <td></td>\n",
       "      <td>15544931.98</td>\n",
       "      <td></td>\n",
       "      <td></td>\n",
       "      <td></td>\n",
       "      <td></td>\n",
       "      <td></td>\n",
       "      <td></td>\n",
       "      <td></td>\n",
       "      <td></td>\n",
       "      <td></td>\n",
       "      <td></td>\n",
       "      <td></td>\n",
       "      <td>CASH</td>\n",
       "      <td>STOCK</td>\n",
       "      <td></td>\n",
       "    </tr>\n",
       "  </tbody>\n",
       "</table>\n",
       "</div>"
      ],
      "text/plain": [
       "  Tax or fees indicator Interest Interest indicator   Net Amount Hearsay Ind  \\\n",
       "0                                                    31193028.33               \n",
       "1                                                    26930626.95               \n",
       "2                                                      100374.65               \n",
       "3                                                      115950.03               \n",
       "4                                                     2918137.16               \n",
       "5                                                     2513096.04               \n",
       "6                                                      240833.54               \n",
       "7                                                      347248.36               \n",
       "8                                                    18125513.58               \n",
       "9                                                    15544931.98               \n",
       "\n",
       "  Custodian Money Manager Book id Deal Id TaxLot Id  \\\n",
       "0                                                     \n",
       "1                                                     \n",
       "2                                                     \n",
       "3                                                     \n",
       "4                                                     \n",
       "5                                                     \n",
       "6                                                     \n",
       "7                                                     \n",
       "8                                                     \n",
       "9                                                     \n",
       "\n",
       "  Original taxlot transaction date Original Taxlot transaction price  \\\n",
       "0                                                                      \n",
       "1                                                                      \n",
       "2                                                                      \n",
       "3                                                                      \n",
       "4                                                                      \n",
       "5                                                                      \n",
       "6                                                                      \n",
       "7                                                                      \n",
       "8                                                                      \n",
       "9                                                                      \n",
       "\n",
       "  TaxLot Closeout Method Exchange Rate Acquisition Date Comments Asset Type  \\\n",
       "0                                                           CASH      STOCK   \n",
       "1                                                           CASH      STOCK   \n",
       "2                                                           CASH      STOCK   \n",
       "3                                                           CASH      STOCK   \n",
       "4                                                           CASH      STOCK   \n",
       "5                                                           CASH      STOCK   \n",
       "6                                                           CASH      STOCK   \n",
       "7                                                           CASH      STOCK   \n",
       "8                                                           CASH      STOCK   \n",
       "9                                                           CASH      STOCK   \n",
       "\n",
       "  Trader ID  \n",
       "0            \n",
       "1            \n",
       "2            \n",
       "3            \n",
       "4            \n",
       "5            \n",
       "6            \n",
       "7            \n",
       "8            \n",
       "9            "
      ]
     },
     "execution_count": 16,
     "metadata": {},
     "output_type": "execute_result"
    }
   ],
   "source": [
    "ndf[ndf.columns[26:]]"
   ]
  },
  {
   "cell_type": "code",
   "execution_count": 9,
   "metadata": {
    "collapsed": true
   },
   "outputs": [],
   "source": [
    "out_path, cliente, td = salva_excel('KINEA', df, td)"
   ]
  },
  {
   "cell_type": "code",
   "execution_count": 10,
   "metadata": {
    "collapsed": true
   },
   "outputs": [],
   "source": [
    "email.email_sender(email_saida, 'middleKinea@kinea.com.br;guilherme.colombini@kinea.com.br;ricardo-yukio.sakai@kinea.com.br;OL-EQUITYBD@btgpactual.com', \n",
    "            'Confirmação de movimentações %s TD %s' %(cliente, td),\n",
    "             'Em anexo estão as movimentações do dia %s' % td, \n",
    "             [out_path])"
   ]
  },
  {
   "cell_type": "code",
   "execution_count": null,
   "metadata": {
    "collapsed": true
   },
   "outputs": [],
   "source": []
  },
  {
   "cell_type": "markdown",
   "metadata": {},
   "source": [
    "## Locais"
   ]
  },
  {
   "cell_type": "markdown",
   "metadata": {},
   "source": [
    "### Mexico"
   ]
  },
  {
   "cell_type": "code",
   "execution_count": 7,
   "metadata": {
    "collapsed": true
   },
   "outputs": [],
   "source": [
    "ndf, td = get_any(df, 'Exchange ID', 'MEX', ['Exchange ID', 'trade_date', 'settlement_date', 'Broker of Interest code', 'Client/Book', 'Fund ID', 'Symbol',\n",
    "        'Isin code', 'Unnamed: 9', 'Volume', 'AvgPrc', 'Gross consideration', 'Comm rate', 'Comm type', \n",
    "         'Dealt to settlement exchange rate', 'Settlement consideration', 'Settlement currency ID'],\n",
    "       ['Market','TD','SD','Client Account','Client Group','Client Allocation','Security','ISIN','Buy/Sell','Amount',\n",
    "        'Price','Principal','Comm','Comm Type','FX Rate','Net amount ','Settle CCY'])"
   ]
  },
  {
   "cell_type": "code",
   "execution_count": 8,
   "metadata": {
    "collapsed": false
   },
   "outputs": [],
   "source": [
    "ndf['Matched']='No'\n",
    "ndf['Settled']='No'\n",
    "ndf = ndf.sort_values(by='Client Group')\n"
   ]
  },
  {
   "cell_type": "code",
   "execution_count": 9,
   "metadata": {
    "collapsed": false,
    "scrolled": true
   },
   "outputs": [],
   "source": [
    "lista_blackrock = []\n",
    "if ndf[ndf['Client Group']=='BLACKROCK'].shape[0]!=0:\n",
    "    lista_blackrock = ndf[ndf['Client Group']=='BLACKROCK']['Client Allocation'].drop_duplicates().tolist()\n",
    "    for item in lista_blackrock:\n",
    "        string = r'C:\\Users\\correigu\\OneDrive - Banco BTG Pactual S.A\\Documents\\SSIs\\BlackRock\\BalckRock'\n",
    "        lista_blackrock = [string+x+'.pdf' for x in lista_blackrock]"
   ]
  },
  {
   "cell_type": "code",
   "execution_count": 10,
   "metadata": {
    "collapsed": true
   },
   "outputs": [],
   "source": [
    "out_path, cliente, td = salva_excel('BTG Pactual - Mexico', df, td)\n",
    "out_path = [out_path]"
   ]
  },
  {
   "cell_type": "code",
   "execution_count": 11,
   "metadata": {
    "collapsed": true
   },
   "outputs": [],
   "source": [
    "if len(lista_blackrock) >0:\n",
    "    for fname in lista_blackrock:\n",
    "        c = os.path.isfile(fname)\n",
    "        if c==True:\n",
    "            out_path.append(fname)"
   ]
  },
  {
   "cell_type": "code",
   "execution_count": 12,
   "metadata": {
    "collapsed": false
   },
   "outputs": [
    {
     "data": {
      "text/plain": [
       "['\\\\\\\\DRIOC0231PFS\\\\Apoio_SB\\\\Geral\\\\BD\\\\Confirmations\\\\Confirmacoes_python\\\\BTG Pactual - Mexico TD 9-4.xlsx']"
      ]
     },
     "execution_count": 12,
     "metadata": {},
     "output_type": "execute_result"
    }
   ],
   "source": [
    "out_path"
   ]
  },
  {
   "cell_type": "code",
   "execution_count": 13,
   "metadata": {
    "collapsed": false
   },
   "outputs": [],
   "source": [
    "send_to = 'Elena.Gomez@btgpactual.com;Francisco.Acosta@btgpactual.com;Luis.Paz@btgpactual.com;OL-EQUITYBD@btgpactual.com'\n",
    "email.email_sender(email_saida, send_to, \n",
    "            'Trades Confirmation - %s - TD %s' %(cliente, td),\n",
    "             'Attached you may find the confirmation for the trades done on %s' % td, \n",
    "             out_path)"
   ]
  },
  {
   "cell_type": "markdown",
   "metadata": {},
   "source": [
    "### Celfin"
   ]
  },
  {
   "cell_type": "markdown",
   "metadata": {},
   "source": [
    "#### Peru"
   ]
  },
  {
   "cell_type": "code",
   "execution_count": 14,
   "metadata": {
    "collapsed": false,
    "scrolled": true
   },
   "outputs": [
    {
     "name": "stdout",
     "output_type": "stream",
     "text": [
      "No exchange rates\n"
     ]
    }
   ],
   "source": [
    "ndf, td = get_any(df, 'Exchange ID', 'LMA', ['Exchange ID', 'trade_date', 'settlement_date', 'Client/Book', 'Fund ID', 'Symbol',\n",
    "        'Unnamed: 9', 'AvgPrc', 'Volume',  'Comm rate.1','Settlement consideration','Service'], \\\n",
    "                  ['Exchange', 'Trade Date', 'Settlement Date', 'Client/Book','Fund ID', 'Symbol', 'Side',\n",
    "                   'Average Price', 'Quantity','Commission rate','Settlement Amount','Type'])\n",
    "ndf = ndf.sort_values(by='Client/Book')"
   ]
  },
  {
   "cell_type": "code",
   "execution_count": 15,
   "metadata": {
    "collapsed": true
   },
   "outputs": [],
   "source": [
    "lista_blackrock = []\n",
    "if ndf[ndf['Client/Book']=='BLACKROCK'].shape[0]!=0:\n",
    "    lista_blackrock = ndf[ndf['Client/Book']=='BLACKROCK']['Fund ID'].drop_duplicates().tolist()\n",
    "    for item in lista_blackrock:\n",
    "        string = r'C:\\Users\\correigu\\OneDrive - Banco BTG Pactual S.A\\Documents\\SSIs\\BlackRock\\BalckRock'\n",
    "        lista_blackrock = [string+x+'.pdf' for x in lista_blackrock]"
   ]
  },
  {
   "cell_type": "code",
   "execution_count": 16,
   "metadata": {
    "collapsed": false
   },
   "outputs": [
    {
     "data": {
      "text/html": [
       "<div>\n",
       "<table border=\"1\" class=\"dataframe\">\n",
       "  <thead>\n",
       "    <tr style=\"text-align: right;\">\n",
       "      <th></th>\n",
       "      <th>Exchange</th>\n",
       "      <th>Trade Date</th>\n",
       "      <th>Settlement Date</th>\n",
       "      <th>Client/Book</th>\n",
       "      <th>Fund ID</th>\n",
       "      <th>Symbol</th>\n",
       "      <th>Side</th>\n",
       "      <th>Average Price</th>\n",
       "      <th>Quantity</th>\n",
       "      <th>Commission rate</th>\n",
       "      <th>Settlement Amount</th>\n",
       "      <th>Type</th>\n",
       "    </tr>\n",
       "  </thead>\n",
       "  <tbody>\n",
       "    <tr>\n",
       "      <th>0</th>\n",
       "      <td>LMA</td>\n",
       "      <td>2018-09-04</td>\n",
       "      <td>2018-09-06</td>\n",
       "      <td>EQUINOX</td>\n",
       "      <td>EQUINOX_PARTNERS</td>\n",
       "      <td>FERREYC1.LM</td>\n",
       "      <td>S</td>\n",
       "      <td>2.3</td>\n",
       "      <td>355852</td>\n",
       "      <td>45.0</td>\n",
       "      <td>814776.53</td>\n",
       "      <td>EML SUM</td>\n",
       "    </tr>\n",
       "    <tr>\n",
       "      <th>1</th>\n",
       "      <td>LMA</td>\n",
       "      <td>2018-09-04</td>\n",
       "      <td>2018-09-06</td>\n",
       "      <td>EQUINOX</td>\n",
       "      <td>KUROTO_KOP03</td>\n",
       "      <td>FERREYC1.LM</td>\n",
       "      <td>S</td>\n",
       "      <td>2.3</td>\n",
       "      <td>229011</td>\n",
       "      <td>45.0</td>\n",
       "      <td>524355.04</td>\n",
       "      <td>EML SUM</td>\n",
       "    </tr>\n",
       "    <tr>\n",
       "      <th>2</th>\n",
       "      <td>LMA</td>\n",
       "      <td>2018-09-04</td>\n",
       "      <td>2018-09-06</td>\n",
       "      <td>EQUINOX</td>\n",
       "      <td>KUROTO_KOP01</td>\n",
       "      <td>FERREYC1.LM</td>\n",
       "      <td>S</td>\n",
       "      <td>2.3</td>\n",
       "      <td>151113</td>\n",
       "      <td>45.0</td>\n",
       "      <td>345995.88</td>\n",
       "      <td>EML SUM</td>\n",
       "    </tr>\n",
       "    <tr>\n",
       "      <th>3</th>\n",
       "      <td>LMA</td>\n",
       "      <td>2018-09-04</td>\n",
       "      <td>2018-09-06</td>\n",
       "      <td>EQUINOX</td>\n",
       "      <td>E_MASON_HILL</td>\n",
       "      <td>FERREYC1.LM</td>\n",
       "      <td>S</td>\n",
       "      <td>2.3</td>\n",
       "      <td>38499</td>\n",
       "      <td>45.0</td>\n",
       "      <td>88149.24</td>\n",
       "      <td>EML SUM</td>\n",
       "    </tr>\n",
       "  </tbody>\n",
       "</table>\n",
       "</div>"
      ],
      "text/plain": [
       "  Exchange Trade Date Settlement Date Client/Book           Fund ID  \\\n",
       "0      LMA 2018-09-04      2018-09-06     EQUINOX  EQUINOX_PARTNERS   \n",
       "1      LMA 2018-09-04      2018-09-06     EQUINOX      KUROTO_KOP03   \n",
       "2      LMA 2018-09-04      2018-09-06     EQUINOX      KUROTO_KOP01   \n",
       "3      LMA 2018-09-04      2018-09-06     EQUINOX      E_MASON_HILL   \n",
       "\n",
       "        Symbol Side  Average Price  Quantity  Commission rate  \\\n",
       "0  FERREYC1.LM    S            2.3    355852             45.0   \n",
       "1  FERREYC1.LM    S            2.3    229011             45.0   \n",
       "2  FERREYC1.LM    S            2.3    151113             45.0   \n",
       "3  FERREYC1.LM    S            2.3     38499             45.0   \n",
       "\n",
       "   Settlement Amount     Type  \n",
       "0          814776.53  EML SUM  \n",
       "1          524355.04  EML SUM  \n",
       "2          345995.88  EML SUM  \n",
       "3           88149.24  EML SUM  "
      ]
     },
     "execution_count": 16,
     "metadata": {},
     "output_type": "execute_result"
    }
   ],
   "source": [
    "ndf"
   ]
  },
  {
   "cell_type": "code",
   "execution_count": 17,
   "metadata": {
    "collapsed": true
   },
   "outputs": [],
   "source": [
    "out_path, cliente, td = salva_excel('BTG Pactual - Peru', df, td)\n",
    "out_path = [out_path]"
   ]
  },
  {
   "cell_type": "code",
   "execution_count": 18,
   "metadata": {
    "collapsed": true
   },
   "outputs": [],
   "source": [
    "if len(lista_blackrock) >0:\n",
    "    for fname in lista_blackrock:\n",
    "        c = os.path.isfile(fname)\n",
    "        if c==True:\n",
    "            out_path.append(fname)"
   ]
  },
  {
   "cell_type": "code",
   "execution_count": 19,
   "metadata": {
    "collapsed": false
   },
   "outputs": [
    {
     "data": {
      "text/plain": [
       "['\\\\\\\\DRIOC0231PFS\\\\Apoio_SB\\\\Geral\\\\BD\\\\Confirmations\\\\Confirmacoes_python\\\\BTG Pactual - Peru TD 9-4.xlsx']"
      ]
     },
     "execution_count": 19,
     "metadata": {},
     "output_type": "execute_result"
    }
   ],
   "source": [
    "out_path"
   ]
  },
  {
   "cell_type": "code",
   "execution_count": 20,
   "metadata": {
    "collapsed": true
   },
   "outputs": [],
   "source": [
    "send_to = 'OL-EQUITYBD@btgpactual.com;OL-Equipo.Operaciones.Peru@btgpactual.com'\n",
    "email.email_sender(email_saida, send_to, \n",
    "            'Trades Confirmation - %s - TD %s' %(cliente, td),\n",
    "             'Attached you may find the confirmation for the trades done on %s' % td, \n",
    "             out_path)"
   ]
  },
  {
   "cell_type": "markdown",
   "metadata": {},
   "source": [
    "#### Colombia"
   ]
  },
  {
   "cell_type": "code",
   "execution_count": 21,
   "metadata": {
    "collapsed": false,
    "scrolled": true
   },
   "outputs": [
    {
     "ename": "IndexError",
     "evalue": "index out of bounds",
     "output_type": "error",
     "traceback": [
      "\u001b[0;31m---------------------------------------------------------------------------\u001b[0m",
      "\u001b[0;31mKeyError\u001b[0m                                  Traceback (most recent call last)",
      "\u001b[0;32mC:\\ProgramData\\Anaconda3\\lib\\site-packages\\pandas\\indexes\\base.py\u001b[0m in \u001b[0;36mget_value\u001b[0;34m(self, series, key)\u001b[0m\n\u001b[1;32m   2168\u001b[0m             return self._engine.get_value(s, k,\n\u001b[0;32m-> 2169\u001b[0;31m                                           tz=getattr(series.dtype, 'tz', None))\n\u001b[0m\u001b[1;32m   2170\u001b[0m         \u001b[1;32mexcept\u001b[0m \u001b[0mKeyError\u001b[0m \u001b[1;32mas\u001b[0m \u001b[0me1\u001b[0m\u001b[1;33m:\u001b[0m\u001b[1;33m\u001b[0m\u001b[0m\n",
      "\u001b[0;32mpandas\\index.pyx\u001b[0m in \u001b[0;36mpandas.index.IndexEngine.get_value (pandas\\index.c:3557)\u001b[0;34m()\u001b[0m\n",
      "\u001b[0;32mpandas\\index.pyx\u001b[0m in \u001b[0;36mpandas.index.IndexEngine.get_value (pandas\\index.c:3240)\u001b[0;34m()\u001b[0m\n",
      "\u001b[0;32mpandas\\index.pyx\u001b[0m in \u001b[0;36mpandas.index.IndexEngine.get_loc (pandas\\index.c:4279)\u001b[0;34m()\u001b[0m\n",
      "\u001b[0;32mpandas\\src\\hashtable_class_helper.pxi\u001b[0m in \u001b[0;36mpandas.hashtable.Int64HashTable.get_item (pandas\\hashtable.c:8564)\u001b[0;34m()\u001b[0m\n",
      "\u001b[0;32mpandas\\src\\hashtable_class_helper.pxi\u001b[0m in \u001b[0;36mpandas.hashtable.Int64HashTable.get_item (pandas\\hashtable.c:8508)\u001b[0;34m()\u001b[0m\n",
      "\u001b[0;31mKeyError\u001b[0m: 0",
      "\nDuring handling of the above exception, another exception occurred:\n",
      "\u001b[0;31mIndexError\u001b[0m                                Traceback (most recent call last)",
      "\u001b[0;32m<ipython-input-21-073b78766e85>\u001b[0m in \u001b[0;36m<module>\u001b[0;34m()\u001b[0m\n\u001b[1;32m      2\u001b[0m         \u001b[1;34m'Unnamed: 9'\u001b[0m\u001b[1;33m,\u001b[0m \u001b[1;34m'AvgPrc'\u001b[0m\u001b[1;33m,\u001b[0m \u001b[1;34m'Volume'\u001b[0m\u001b[1;33m,\u001b[0m  \u001b[1;34m'Comm rate.1'\u001b[0m\u001b[1;33m,\u001b[0m\u001b[1;34m'Market charges total'\u001b[0m\u001b[1;33m]\u001b[0m\u001b[1;33m,\u001b[0m\u001b[1;33m[\u001b[0m\u001b[1;34m'Exchange'\u001b[0m\u001b[1;33m,\u001b[0m \u001b[1;34m'Trade Date'\u001b[0m\u001b[1;33m,\u001b[0m \u001b[1;34m'Settlement Date'\u001b[0m\u001b[1;33m,\u001b[0m \u001b[1;34m'Client/Book'\u001b[0m\u001b[1;33m,\u001b[0m\u001b[1;33m\u001b[0m\u001b[0m\n\u001b[1;32m      3\u001b[0m                                                        \u001b[1;34m'Fund ID'\u001b[0m\u001b[1;33m,\u001b[0m \u001b[1;34m'Symbol'\u001b[0m\u001b[1;33m,\u001b[0m \u001b[1;34m'Side'\u001b[0m\u001b[1;33m,\u001b[0m\u001b[1;34m'Average Price'\u001b[0m\u001b[1;33m,\u001b[0m \u001b[1;34m'Quantity'\u001b[0m\u001b[1;33m,\u001b[0m\u001b[1;33m\u001b[0m\u001b[0m\n\u001b[0;32m----> 4\u001b[0;31m                                                         'Commission rate','Market charges total'])\n\u001b[0m\u001b[1;32m      5\u001b[0m \u001b[0mndf\u001b[0m \u001b[1;33m=\u001b[0m \u001b[0mndf\u001b[0m\u001b[1;33m.\u001b[0m\u001b[0msort_values\u001b[0m\u001b[1;33m(\u001b[0m\u001b[0mby\u001b[0m\u001b[1;33m=\u001b[0m\u001b[1;34m'Client/Book'\u001b[0m\u001b[1;33m)\u001b[0m\u001b[1;33m\u001b[0m\u001b[0m\n",
      "\u001b[0;32m<ipython-input-6-abd988623bb8>\u001b[0m in \u001b[0;36mget_any\u001b[0;34m(df, coluna_procura, string_procura, input_colunas, output_colunas)\u001b[0m\n\u001b[1;32m    108\u001b[0m     \u001b[0mndf\u001b[0m\u001b[1;33m[\u001b[0m\u001b[1;34m'trade_date'\u001b[0m\u001b[1;33m]\u001b[0m \u001b[1;33m=\u001b[0m \u001b[0mpd\u001b[0m\u001b[1;33m.\u001b[0m\u001b[0mto_datetime\u001b[0m\u001b[1;33m(\u001b[0m\u001b[0mndf\u001b[0m\u001b[1;33m[\u001b[0m\u001b[1;34m'Trade Date'\u001b[0m\u001b[1;33m]\u001b[0m\u001b[1;33m.\u001b[0m\u001b[0mstr\u001b[0m\u001b[1;33m.\u001b[0m\u001b[0msplit\u001b[0m\u001b[1;33m(\u001b[0m\u001b[1;33m)\u001b[0m\u001b[1;33m.\u001b[0m\u001b[0mstr\u001b[0m\u001b[1;33m[\u001b[0m\u001b[1;36m0\u001b[0m\u001b[1;33m]\u001b[0m\u001b[1;33m,\u001b[0m \u001b[0mformat\u001b[0m\u001b[1;33m=\u001b[0m\u001b[1;34m'%Y%m%d'\u001b[0m\u001b[1;33m)\u001b[0m\u001b[1;33m\u001b[0m\u001b[0m\n\u001b[1;32m    109\u001b[0m     \u001b[0mndf\u001b[0m\u001b[1;33m[\u001b[0m\u001b[1;34m'settlement_date'\u001b[0m\u001b[1;33m]\u001b[0m \u001b[1;33m=\u001b[0m \u001b[0mpd\u001b[0m\u001b[1;33m.\u001b[0m\u001b[0mto_datetime\u001b[0m\u001b[1;33m(\u001b[0m\u001b[0mndf\u001b[0m\u001b[1;33m[\u001b[0m\u001b[1;34m'Value date'\u001b[0m\u001b[1;33m]\u001b[0m\u001b[1;33m,\u001b[0m \u001b[0mformat\u001b[0m\u001b[1;33m=\u001b[0m\u001b[1;34m'%Y%m%d'\u001b[0m\u001b[1;33m)\u001b[0m\u001b[1;33m\u001b[0m\u001b[0m\n\u001b[0;32m--> 110\u001b[0;31m     td = pd.to_datetime(ndf['Trade Date'].str.split().str[0].drop_duplicates().reset_index(drop=True)[0], \n\u001b[0m\u001b[1;32m    111\u001b[0m                        format='%Y%m%d')\n\u001b[1;32m    112\u001b[0m     \u001b[0mtd\u001b[0m \u001b[1;33m=\u001b[0m \u001b[0mstr\u001b[0m\u001b[1;33m(\u001b[0m\u001b[0mtd\u001b[0m\u001b[1;33m.\u001b[0m\u001b[0mmonth\u001b[0m\u001b[1;33m)\u001b[0m\u001b[1;33m+\u001b[0m\u001b[1;34m'-'\u001b[0m\u001b[1;33m+\u001b[0m\u001b[0mstr\u001b[0m\u001b[1;33m(\u001b[0m\u001b[0mtd\u001b[0m\u001b[1;33m.\u001b[0m\u001b[0mday\u001b[0m\u001b[1;33m)\u001b[0m\u001b[1;33m\u001b[0m\u001b[0m\n",
      "\u001b[0;32mC:\\ProgramData\\Anaconda3\\lib\\site-packages\\pandas\\core\\series.py\u001b[0m in \u001b[0;36m__getitem__\u001b[0;34m(self, key)\u001b[0m\n\u001b[1;32m    601\u001b[0m         \u001b[0mkey\u001b[0m \u001b[1;33m=\u001b[0m \u001b[0mcom\u001b[0m\u001b[1;33m.\u001b[0m\u001b[0m_apply_if_callable\u001b[0m\u001b[1;33m(\u001b[0m\u001b[0mkey\u001b[0m\u001b[1;33m,\u001b[0m \u001b[0mself\u001b[0m\u001b[1;33m)\u001b[0m\u001b[1;33m\u001b[0m\u001b[0m\n\u001b[1;32m    602\u001b[0m         \u001b[1;32mtry\u001b[0m\u001b[1;33m:\u001b[0m\u001b[1;33m\u001b[0m\u001b[0m\n\u001b[0;32m--> 603\u001b[0;31m             \u001b[0mresult\u001b[0m \u001b[1;33m=\u001b[0m \u001b[0mself\u001b[0m\u001b[1;33m.\u001b[0m\u001b[0mindex\u001b[0m\u001b[1;33m.\u001b[0m\u001b[0mget_value\u001b[0m\u001b[1;33m(\u001b[0m\u001b[0mself\u001b[0m\u001b[1;33m,\u001b[0m \u001b[0mkey\u001b[0m\u001b[1;33m)\u001b[0m\u001b[1;33m\u001b[0m\u001b[0m\n\u001b[0m\u001b[1;32m    604\u001b[0m \u001b[1;33m\u001b[0m\u001b[0m\n\u001b[1;32m    605\u001b[0m             \u001b[1;32mif\u001b[0m \u001b[1;32mnot\u001b[0m \u001b[0mis_scalar\u001b[0m\u001b[1;33m(\u001b[0m\u001b[0mresult\u001b[0m\u001b[1;33m)\u001b[0m\u001b[1;33m:\u001b[0m\u001b[1;33m\u001b[0m\u001b[0m\n",
      "\u001b[0;32mC:\\ProgramData\\Anaconda3\\lib\\site-packages\\pandas\\indexes\\base.py\u001b[0m in \u001b[0;36mget_value\u001b[0;34m(self, series, key)\u001b[0m\n\u001b[1;32m   2173\u001b[0m \u001b[1;33m\u001b[0m\u001b[0m\n\u001b[1;32m   2174\u001b[0m             \u001b[1;32mtry\u001b[0m\u001b[1;33m:\u001b[0m\u001b[1;33m\u001b[0m\u001b[0m\n\u001b[0;32m-> 2175\u001b[0;31m                 \u001b[1;32mreturn\u001b[0m \u001b[0mtslib\u001b[0m\u001b[1;33m.\u001b[0m\u001b[0mget_value_box\u001b[0m\u001b[1;33m(\u001b[0m\u001b[0ms\u001b[0m\u001b[1;33m,\u001b[0m \u001b[0mkey\u001b[0m\u001b[1;33m)\u001b[0m\u001b[1;33m\u001b[0m\u001b[0m\n\u001b[0m\u001b[1;32m   2176\u001b[0m             \u001b[1;32mexcept\u001b[0m \u001b[0mIndexError\u001b[0m\u001b[1;33m:\u001b[0m\u001b[1;33m\u001b[0m\u001b[0m\n\u001b[1;32m   2177\u001b[0m                 \u001b[1;32mraise\u001b[0m\u001b[1;33m\u001b[0m\u001b[0m\n",
      "\u001b[0;32mpandas\\tslib.pyx\u001b[0m in \u001b[0;36mpandas.tslib.get_value_box (pandas\\tslib.c:19053)\u001b[0;34m()\u001b[0m\n",
      "\u001b[0;32mpandas\\tslib.pyx\u001b[0m in \u001b[0;36mpandas.tslib.get_value_box (pandas\\tslib.c:18770)\u001b[0;34m()\u001b[0m\n",
      "\u001b[0;31mIndexError\u001b[0m: index out of bounds"
     ]
    }
   ],
   "source": [
    "ndf, td = get_any(df, 'Exchange ID', 'COL', ['Exchange ID', 'trade_date', 'settlement_date', 'Client/Book', 'Fund ID', 'Symbol',\n",
    "        'Unnamed: 9', 'AvgPrc', 'Volume',  'Comm rate.1','Market charges total'],['Exchange', 'Trade Date', 'Settlement Date', 'Client/Book',\n",
    "                                                       'Fund ID', 'Symbol', 'Side','Average Price', 'Quantity',\n",
    "                                                        'Commission rate','Market charges total'])\n",
    "ndf = ndf.sort_values(by='Client/Book')"
   ]
  },
  {
   "cell_type": "code",
   "execution_count": null,
   "metadata": {
    "collapsed": false
   },
   "outputs": [],
   "source": [
    "lista_blackrock = []\n",
    "if ndf[ndf['Client/Book']=='BLACKROCK'].shape[0]!=0:\n",
    "    lista_blackrock = ndf[ndf['Client/Book']=='BLACKROCK']['Fund ID'].drop_duplicates().tolist()\n",
    "    for item in lista_blackrock:\n",
    "        string = r'C:\\Users\\correigu\\OneDrive - Banco BTG Pactual S.A\\Documents\\SSIs\\BlackRock\\BalckRock'\n",
    "        lista_blackrock = [string+x+'.pdf' for x in lista_blackrock]"
   ]
  },
  {
   "cell_type": "code",
   "execution_count": 23,
   "metadata": {
    "collapsed": false,
    "scrolled": true
   },
   "outputs": [
    {
     "data": {
      "text/html": [
       "<div>\n",
       "<table border=\"1\" class=\"dataframe\">\n",
       "  <thead>\n",
       "    <tr style=\"text-align: right;\">\n",
       "      <th></th>\n",
       "      <th>Exchange</th>\n",
       "      <th>Trade Date</th>\n",
       "      <th>Settlement Date</th>\n",
       "      <th>Client/Book</th>\n",
       "      <th>Fund ID</th>\n",
       "      <th>Symbol</th>\n",
       "      <th>Side</th>\n",
       "      <th>Average Price</th>\n",
       "      <th>Quantity</th>\n",
       "      <th>Commission rate</th>\n",
       "      <th>Market charges total</th>\n",
       "    </tr>\n",
       "  </thead>\n",
       "  <tbody>\n",
       "    <tr>\n",
       "      <th>0</th>\n",
       "      <td>COL</td>\n",
       "      <td>2018-08-27</td>\n",
       "      <td>2018-08-30</td>\n",
       "      <td>ARMADA</td>\n",
       "      <td>MS_ARMADA</td>\n",
       "      <td>CLH.BG</td>\n",
       "      <td>B</td>\n",
       "      <td>6100.0</td>\n",
       "      <td>320000</td>\n",
       "      <td>15.0</td>\n",
       "      <td>0.0</td>\n",
       "    </tr>\n",
       "    <tr>\n",
       "      <th>1</th>\n",
       "      <td>COL</td>\n",
       "      <td>2018-08-27</td>\n",
       "      <td>2018-08-30</td>\n",
       "      <td>COMPASS</td>\n",
       "      <td>FCR</td>\n",
       "      <td>CLH.BG</td>\n",
       "      <td>S</td>\n",
       "      <td>6100.0</td>\n",
       "      <td>192768</td>\n",
       "      <td>10.0</td>\n",
       "      <td>0.0</td>\n",
       "    </tr>\n",
       "    <tr>\n",
       "      <th>2</th>\n",
       "      <td>COL</td>\n",
       "      <td>2018-08-27</td>\n",
       "      <td>2018-08-30</td>\n",
       "      <td>CONSILIUM</td>\n",
       "      <td>LEGATO</td>\n",
       "      <td>CLH.BG</td>\n",
       "      <td>S</td>\n",
       "      <td>6100.0</td>\n",
       "      <td>96784</td>\n",
       "      <td>30.0</td>\n",
       "      <td>0.0</td>\n",
       "    </tr>\n",
       "    <tr>\n",
       "      <th>3</th>\n",
       "      <td>COL</td>\n",
       "      <td>2018-08-27</td>\n",
       "      <td>2018-08-30</td>\n",
       "      <td>CONSILIUM</td>\n",
       "      <td>CEMSCLP</td>\n",
       "      <td>CLH.BG</td>\n",
       "      <td>S</td>\n",
       "      <td>6100.0</td>\n",
       "      <td>13748</td>\n",
       "      <td>30.0</td>\n",
       "      <td>0.0</td>\n",
       "    </tr>\n",
       "  </tbody>\n",
       "</table>\n",
       "</div>"
      ],
      "text/plain": [
       "  Exchange Trade Date Settlement Date Client/Book    Fund ID  Symbol Side  \\\n",
       "0      COL 2018-08-27      2018-08-30      ARMADA  MS_ARMADA  CLH.BG    B   \n",
       "1      COL 2018-08-27      2018-08-30     COMPASS        FCR  CLH.BG    S   \n",
       "2      COL 2018-08-27      2018-08-30   CONSILIUM     LEGATO  CLH.BG    S   \n",
       "3      COL 2018-08-27      2018-08-30   CONSILIUM    CEMSCLP  CLH.BG    S   \n",
       "\n",
       "   Average Price  Quantity  Commission rate  Market charges total  \n",
       "0         6100.0    320000             15.0                   0.0  \n",
       "1         6100.0    192768             10.0                   0.0  \n",
       "2         6100.0     96784             30.0                   0.0  \n",
       "3         6100.0     13748             30.0                   0.0  "
      ]
     },
     "execution_count": 23,
     "metadata": {},
     "output_type": "execute_result"
    }
   ],
   "source": [
    "ndf"
   ]
  },
  {
   "cell_type": "code",
   "execution_count": 24,
   "metadata": {
    "collapsed": false
   },
   "outputs": [
    {
     "data": {
      "text/plain": [
       "[]"
      ]
     },
     "execution_count": 24,
     "metadata": {},
     "output_type": "execute_result"
    }
   ],
   "source": [
    "lista_blackrock"
   ]
  },
  {
   "cell_type": "code",
   "execution_count": 25,
   "metadata": {
    "collapsed": true
   },
   "outputs": [],
   "source": [
    "out_path, cliente, td = salva_excel('BTG Pactual - Colombia', df, td)\n",
    "out_path = [out_path]"
   ]
  },
  {
   "cell_type": "code",
   "execution_count": 26,
   "metadata": {
    "collapsed": false
   },
   "outputs": [],
   "source": [
    "if len(lista_blackrock) >0:\n",
    "    for fname in lista_blackrock:\n",
    "        c = os.path.isfile(fname)\n",
    "        if c==True:\n",
    "            out_path.append(fname)"
   ]
  },
  {
   "cell_type": "code",
   "execution_count": 27,
   "metadata": {
    "collapsed": false
   },
   "outputs": [
    {
     "data": {
      "text/plain": [
       "['\\\\\\\\DRIOC0231PFS\\\\Apoio_SB\\\\Geral\\\\BD\\\\Confirmations\\\\Confirmacoes_python\\\\BTG Pactual - Colombia TD 8-27.xlsx']"
      ]
     },
     "execution_count": 27,
     "metadata": {},
     "output_type": "execute_result"
    }
   ],
   "source": [
    "out_path"
   ]
  },
  {
   "cell_type": "code",
   "execution_count": 28,
   "metadata": {
    "collapsed": false
   },
   "outputs": [],
   "source": [
    "send_to = 'OL-OPSColombia-BD@btgpactual.com;SH-LatamBD@btgpactual.com;Nicolas.Velasquez@btgpactual.com;OL-EQUITYBD@btgpactual.com'\n",
    "email.email_sender(email_saida, send_to, \n",
    "            'Trades Confirmation - %s - TD %s' %(cliente, td),\n",
    "             'Attached you may find the confirmation for the trades done on %s' % td, \n",
    "             out_path)"
   ]
  },
  {
   "cell_type": "markdown",
   "metadata": {},
   "source": [
    "#### Chile"
   ]
  },
  {
   "cell_type": "code",
   "execution_count": 14,
   "metadata": {
    "collapsed": false
   },
   "outputs": [
    {
     "name": "stdout",
     "output_type": "stream",
     "text": [
      "No exchange rates\n"
     ]
    }
   ],
   "source": [
    "ndf, td = get_any(df, 'Exchange ID', 'SGO', ['Exchange ID', 'trade_date', 'settlement_date', 'Client/Book', 'Fund ID', 'Symbol',\n",
    "        'Unnamed: 9', 'AvgPrc', 'Volume',  'Comm rate.1'],['Exchange', 'Trade Date', 'Settlement Date', 'Client/Book',\n",
    "                                                       'Fund ID', 'Symbol', 'Side','Average Price', 'Quantity',\n",
    "                                                        'Commission rate'])"
   ]
  },
  {
   "cell_type": "code",
   "execution_count": 15,
   "metadata": {
    "collapsed": true
   },
   "outputs": [],
   "source": [
    "out_path, cliente, td = salva_excel('BTG Pactual Chile', df, td)"
   ]
  },
  {
   "cell_type": "code",
   "execution_count": 16,
   "metadata": {
    "collapsed": false
   },
   "outputs": [
    {
     "data": {
      "text/html": [
       "<div>\n",
       "<table border=\"1\" class=\"dataframe\">\n",
       "  <thead>\n",
       "    <tr style=\"text-align: right;\">\n",
       "      <th></th>\n",
       "      <th>Exchange</th>\n",
       "      <th>Trade Date</th>\n",
       "      <th>Settlement Date</th>\n",
       "      <th>Client/Book</th>\n",
       "      <th>Fund ID</th>\n",
       "      <th>Symbol</th>\n",
       "      <th>Side</th>\n",
       "      <th>Average Price</th>\n",
       "      <th>Quantity</th>\n",
       "      <th>Commission rate</th>\n",
       "    </tr>\n",
       "  </thead>\n",
       "  <tbody>\n",
       "    <tr>\n",
       "      <th>0</th>\n",
       "      <td>SGO</td>\n",
       "      <td>2018-07-09</td>\n",
       "      <td>2018-07-11</td>\n",
       "      <td>WELLS_CAP</td>\n",
       "      <td>EMINCOME</td>\n",
       "      <td>SQM-B.SN</td>\n",
       "      <td>B</td>\n",
       "      <td>31966.43095</td>\n",
       "      <td>26909</td>\n",
       "      <td>30.0</td>\n",
       "    </tr>\n",
       "    <tr>\n",
       "      <th>1</th>\n",
       "      <td>SGO</td>\n",
       "      <td>2018-07-09</td>\n",
       "      <td>2018-07-11</td>\n",
       "      <td>WELLS_CAP</td>\n",
       "      <td>LUXTOTAL</td>\n",
       "      <td>SQM-B.SN</td>\n",
       "      <td>B</td>\n",
       "      <td>31966.43095</td>\n",
       "      <td>18900</td>\n",
       "      <td>30.0</td>\n",
       "    </tr>\n",
       "    <tr>\n",
       "      <th>2</th>\n",
       "      <td>SGO</td>\n",
       "      <td>2018-07-09</td>\n",
       "      <td>2018-07-11</td>\n",
       "      <td>WELLS_CAP</td>\n",
       "      <td>EMI3C</td>\n",
       "      <td>SQM-B.SN</td>\n",
       "      <td>B</td>\n",
       "      <td>31966.43095</td>\n",
       "      <td>11500</td>\n",
       "      <td>30.0</td>\n",
       "    </tr>\n",
       "    <tr>\n",
       "      <th>3</th>\n",
       "      <td>SGO</td>\n",
       "      <td>2018-07-09</td>\n",
       "      <td>2018-07-11</td>\n",
       "      <td>WELLS_CAP</td>\n",
       "      <td>ONETOT</td>\n",
       "      <td>SQM-B.SN</td>\n",
       "      <td>B</td>\n",
       "      <td>31966.43095</td>\n",
       "      <td>3290</td>\n",
       "      <td>30.0</td>\n",
       "    </tr>\n",
       "    <tr>\n",
       "      <th>4</th>\n",
       "      <td>SGO</td>\n",
       "      <td>2018-07-09</td>\n",
       "      <td>2018-07-11</td>\n",
       "      <td>WELLS_CAP</td>\n",
       "      <td>OMGEMI</td>\n",
       "      <td>SQM-B.SN</td>\n",
       "      <td>B</td>\n",
       "      <td>31966.43095</td>\n",
       "      <td>1900</td>\n",
       "      <td>30.0</td>\n",
       "    </tr>\n",
       "    <tr>\n",
       "      <th>5</th>\n",
       "      <td>SGO</td>\n",
       "      <td>2018-07-09</td>\n",
       "      <td>2018-07-11</td>\n",
       "      <td>WELLS_CAP</td>\n",
       "      <td>HFEM</td>\n",
       "      <td>SQM-B.SN</td>\n",
       "      <td>B</td>\n",
       "      <td>31966.43095</td>\n",
       "      <td>1500</td>\n",
       "      <td>30.0</td>\n",
       "    </tr>\n",
       "    <tr>\n",
       "      <th>6</th>\n",
       "      <td>SGO</td>\n",
       "      <td>2018-07-09</td>\n",
       "      <td>2018-07-11</td>\n",
       "      <td>WELLS_CAP</td>\n",
       "      <td>HCFEM</td>\n",
       "      <td>SQM-B.SN</td>\n",
       "      <td>B</td>\n",
       "      <td>31966.43095</td>\n",
       "      <td>975</td>\n",
       "      <td>30.0</td>\n",
       "    </tr>\n",
       "    <tr>\n",
       "      <th>7</th>\n",
       "      <td>SGO</td>\n",
       "      <td>2018-07-09</td>\n",
       "      <td>2018-07-11</td>\n",
       "      <td>WELLS_CAP</td>\n",
       "      <td>MAX</td>\n",
       "      <td>SQM-B.SN</td>\n",
       "      <td>B</td>\n",
       "      <td>31966.43095</td>\n",
       "      <td>510</td>\n",
       "      <td>30.0</td>\n",
       "    </tr>\n",
       "    <tr>\n",
       "      <th>8</th>\n",
       "      <td>SGO</td>\n",
       "      <td>2018-07-09</td>\n",
       "      <td>2018-07-11</td>\n",
       "      <td>WELLS_CAP</td>\n",
       "      <td>MCDIV</td>\n",
       "      <td>SQM-B.SN</td>\n",
       "      <td>B</td>\n",
       "      <td>31966.43095</td>\n",
       "      <td>503</td>\n",
       "      <td>30.0</td>\n",
       "    </tr>\n",
       "    <tr>\n",
       "      <th>9</th>\n",
       "      <td>SGO</td>\n",
       "      <td>2018-07-09</td>\n",
       "      <td>2018-07-11</td>\n",
       "      <td>WELLS_CAP</td>\n",
       "      <td>DAIWAEM</td>\n",
       "      <td>SQM-B.SN</td>\n",
       "      <td>B</td>\n",
       "      <td>31966.43095</td>\n",
       "      <td>97</td>\n",
       "      <td>30.0</td>\n",
       "    </tr>\n",
       "  </tbody>\n",
       "</table>\n",
       "</div>"
      ],
      "text/plain": [
       "  Exchange Trade Date Settlement Date Client/Book   Fund ID    Symbol Side  \\\n",
       "0      SGO 2018-07-09      2018-07-11   WELLS_CAP  EMINCOME  SQM-B.SN    B   \n",
       "1      SGO 2018-07-09      2018-07-11   WELLS_CAP  LUXTOTAL  SQM-B.SN    B   \n",
       "2      SGO 2018-07-09      2018-07-11   WELLS_CAP     EMI3C  SQM-B.SN    B   \n",
       "3      SGO 2018-07-09      2018-07-11   WELLS_CAP    ONETOT  SQM-B.SN    B   \n",
       "4      SGO 2018-07-09      2018-07-11   WELLS_CAP    OMGEMI  SQM-B.SN    B   \n",
       "5      SGO 2018-07-09      2018-07-11   WELLS_CAP      HFEM  SQM-B.SN    B   \n",
       "6      SGO 2018-07-09      2018-07-11   WELLS_CAP     HCFEM  SQM-B.SN    B   \n",
       "7      SGO 2018-07-09      2018-07-11   WELLS_CAP       MAX  SQM-B.SN    B   \n",
       "8      SGO 2018-07-09      2018-07-11   WELLS_CAP     MCDIV  SQM-B.SN    B   \n",
       "9      SGO 2018-07-09      2018-07-11   WELLS_CAP   DAIWAEM  SQM-B.SN    B   \n",
       "\n",
       "   Average Price  Quantity  Commission rate  \n",
       "0    31966.43095     26909             30.0  \n",
       "1    31966.43095     18900             30.0  \n",
       "2    31966.43095     11500             30.0  \n",
       "3    31966.43095      3290             30.0  \n",
       "4    31966.43095      1900             30.0  \n",
       "5    31966.43095      1500             30.0  \n",
       "6    31966.43095       975             30.0  \n",
       "7    31966.43095       510             30.0  \n",
       "8    31966.43095       503             30.0  \n",
       "9    31966.43095        97             30.0  "
      ]
     },
     "execution_count": 16,
     "metadata": {},
     "output_type": "execute_result"
    }
   ],
   "source": [
    "ndf"
   ]
  },
  {
   "cell_type": "code",
   "execution_count": null,
   "metadata": {
    "collapsed": false
   },
   "outputs": [],
   "source": [
    "email.email_sender(email_saida, 'guilherme.correia@btgpactual.com', \n",
    "            'Confirmação de movimentações %s TD %s' %(cliente, td),\n",
    "             'Em anexo estão as movimentações do dia %s' % td, \n",
    "             [out_path])"
   ]
  },
  {
   "cell_type": "code",
   "execution_count": null,
   "metadata": {
    "collapsed": true
   },
   "outputs": [],
   "source": []
  },
  {
   "cell_type": "code",
   "execution_count": null,
   "metadata": {
    "collapsed": true
   },
   "outputs": [],
   "source": []
  },
  {
   "cell_type": "code",
   "execution_count": null,
   "metadata": {
    "collapsed": true
   },
   "outputs": [],
   "source": []
  },
  {
   "cell_type": "code",
   "execution_count": null,
   "metadata": {
    "collapsed": true
   },
   "outputs": [],
   "source": []
  },
  {
   "cell_type": "code",
   "execution_count": null,
   "metadata": {
    "collapsed": true
   },
   "outputs": [],
   "source": []
  },
  {
   "cell_type": "markdown",
   "metadata": {},
   "source": [
    "## Claritas"
   ]
  },
  {
   "cell_type": "code",
   "execution_count": 7,
   "metadata": {
    "collapsed": true
   },
   "outputs": [],
   "source": [
    "ndf, td, data = get_claritas(df)"
   ]
  },
  {
   "cell_type": "code",
   "execution_count": 8,
   "metadata": {
    "collapsed": false
   },
   "outputs": [],
   "source": [
    "data = ndf['Execution Date'].drop_duplicates().reset_index(drop=True)[0]"
   ]
  },
  {
   "cell_type": "code",
   "execution_count": 9,
   "metadata": {
    "collapsed": false
   },
   "outputs": [],
   "source": [
    "ano = \"{:02}\".format(data.year)\n",
    "mes = \"{:02}\".format(data.month)\n",
    "dia = \"{:02}\".format(data.day)\n",
    "\n",
    "ref_pasta = str(ano)+str(mes)+str(dia)\n",
    "data = str(dia)+'/'+str(mes)+'/'+str(ano)\n",
    "\n",
    "j = ndf.shape[0]"
   ]
  },
  {
   "cell_type": "code",
   "execution_count": 10,
   "metadata": {
    "collapsed": true
   },
   "outputs": [],
   "source": [
    "out_path, cliente, td = salva_excel('CLARITAS', df, td)"
   ]
  },
  {
   "cell_type": "code",
   "execution_count": 11,
   "metadata": {
    "collapsed": false,
    "scrolled": false
   },
   "outputs": [
    {
     "data": {
      "text/html": [
       "<div>\n",
       "<table border=\"1\" class=\"dataframe\">\n",
       "  <thead>\n",
       "    <tr style=\"text-align: right;\">\n",
       "      <th></th>\n",
       "      <th>Name of Fund</th>\n",
       "      <th>Execution Date</th>\n",
       "      <th>Settlement Date</th>\n",
       "      <th>Side</th>\n",
       "      <th>Ticker</th>\n",
       "      <th>ISIN Number</th>\n",
       "      <th>Quantity</th>\n",
       "      <th>Avg Price</th>\n",
       "      <th>Commission</th>\n",
       "      <th>SEC Fee</th>\n",
       "      <th>FX RATE</th>\n",
       "      <th>Gross Amount</th>\n",
       "      <th>NetAmount</th>\n",
       "      <th>Sett CCY</th>\n",
       "    </tr>\n",
       "  </thead>\n",
       "  <tbody>\n",
       "    <tr>\n",
       "      <th>0</th>\n",
       "      <td>ANDES</td>\n",
       "      <td>2018-10-24</td>\n",
       "      <td>2018-10-26</td>\n",
       "      <td>S</td>\n",
       "      <td>CEMEXCPO.MX</td>\n",
       "      <td>MXP225611567</td>\n",
       "      <td>75082</td>\n",
       "      <td>10.5700</td>\n",
       "      <td>1587.23</td>\n",
       "      <td>0.0</td>\n",
       "      <td>1</td>\n",
       "      <td>7.936167e+05</td>\n",
       "      <td>792029.51</td>\n",
       "      <td>MXN</td>\n",
       "    </tr>\n",
       "    <tr>\n",
       "      <th>1</th>\n",
       "      <td>ANDES</td>\n",
       "      <td>2018-10-24</td>\n",
       "      <td>2018-10-26</td>\n",
       "      <td>S</td>\n",
       "      <td>ALPEKA.MX</td>\n",
       "      <td>MX01AL0C0004</td>\n",
       "      <td>47811</td>\n",
       "      <td>29.3163</td>\n",
       "      <td>2803.28</td>\n",
       "      <td>0.0</td>\n",
       "      <td>1</td>\n",
       "      <td>1.401642e+06</td>\n",
       "      <td>1398838.34</td>\n",
       "      <td>MXN</td>\n",
       "    </tr>\n",
       "    <tr>\n",
       "      <th>2</th>\n",
       "      <td>ANDES</td>\n",
       "      <td>2018-10-24</td>\n",
       "      <td>2018-10-26</td>\n",
       "      <td>B</td>\n",
       "      <td>ASURB.MX</td>\n",
       "      <td>MXP001661018</td>\n",
       "      <td>11790</td>\n",
       "      <td>329.8113</td>\n",
       "      <td>7776.95</td>\n",
       "      <td>0.0</td>\n",
       "      <td>1</td>\n",
       "      <td>3.888475e+06</td>\n",
       "      <td>3896252.18</td>\n",
       "      <td>MXN</td>\n",
       "    </tr>\n",
       "    <tr>\n",
       "      <th>3</th>\n",
       "      <td>ANDES</td>\n",
       "      <td>2018-10-24</td>\n",
       "      <td>2018-10-26</td>\n",
       "      <td>S</td>\n",
       "      <td>IENOVA*.MX</td>\n",
       "      <td>MX01IE060002</td>\n",
       "      <td>10077</td>\n",
       "      <td>90.4681</td>\n",
       "      <td>1823.29</td>\n",
       "      <td>0.0</td>\n",
       "      <td>1</td>\n",
       "      <td>9.116470e+05</td>\n",
       "      <td>909823.75</td>\n",
       "      <td>MXN</td>\n",
       "    </tr>\n",
       "    <tr>\n",
       "      <th>4</th>\n",
       "      <td>ANDES</td>\n",
       "      <td>2018-10-24</td>\n",
       "      <td>2018-10-26</td>\n",
       "      <td>S</td>\n",
       "      <td>KOFL.MX</td>\n",
       "      <td>MXP2861W1067</td>\n",
       "      <td>7609</td>\n",
       "      <td>116.0101</td>\n",
       "      <td>1765.44</td>\n",
       "      <td>0.0</td>\n",
       "      <td>1</td>\n",
       "      <td>8.827209e+05</td>\n",
       "      <td>880955.41</td>\n",
       "      <td>MXN</td>\n",
       "    </tr>\n",
       "  </tbody>\n",
       "</table>\n",
       "</div>"
      ],
      "text/plain": [
       "  Name of Fund Execution Date Settlement Date Side      Ticker    ISIN Number  \\\n",
       "0        ANDES     2018-10-24      2018-10-26    S  CEMEXCPO.MX  MXP225611567   \n",
       "1        ANDES     2018-10-24      2018-10-26    S    ALPEKA.MX  MX01AL0C0004   \n",
       "2        ANDES     2018-10-24      2018-10-26    B     ASURB.MX  MXP001661018   \n",
       "3        ANDES     2018-10-24      2018-10-26    S   IENOVA*.MX  MX01IE060002   \n",
       "4        ANDES     2018-10-24      2018-10-26    S      KOFL.MX  MXP2861W1067   \n",
       "\n",
       "   Quantity  Avg Price  Commission  SEC Fee  FX RATE  Gross Amount  \\\n",
       "0     75082    10.5700     1587.23      0.0        1  7.936167e+05   \n",
       "1     47811    29.3163     2803.28      0.0        1  1.401642e+06   \n",
       "2     11790   329.8113     7776.95      0.0        1  3.888475e+06   \n",
       "3     10077    90.4681     1823.29      0.0        1  9.116470e+05   \n",
       "4      7609   116.0101     1765.44      0.0        1  8.827209e+05   \n",
       "\n",
       "    NetAmount Sett CCY  \n",
       "0   792029.51      MXN  \n",
       "1  1398838.34      MXN  \n",
       "2  3896252.18      MXN  \n",
       "3   909823.75      MXN  \n",
       "4   880955.41      MXN  "
      ]
     },
     "execution_count": 11,
     "metadata": {},
     "output_type": "execute_result"
    }
   ],
   "source": [
    "ndf"
   ]
  },
  {
   "cell_type": "code",
   "execution_count": 12,
   "metadata": {
    "collapsed": false
   },
   "outputs": [
    {
     "name": "stdout",
     "output_type": "stream",
     "text": [
      "Guilherme.Correia@btgpactual.com\n",
      "Caixa de Entrada\n",
      "confirmations\n"
     ]
    }
   ],
   "source": [
    "## ENTRA NO E-MAIL PARA PEGAR AS CONFIRMAÇÕES EM PDF\n",
    "email.email_confirmation('Claritas', 'CLARITAS', data, email_saida, ['confirmations'], 'Caixa de Entrada', j)"
   ]
  },
  {
   "cell_type": "code",
   "execution_count": 13,
   "metadata": {
    "collapsed": false
   },
   "outputs": [
    {
     "data": {
      "text/plain": [
       "'20181024'"
      ]
     },
     "execution_count": 13,
     "metadata": {},
     "output_type": "execute_result"
    }
   ],
   "source": [
    "## VOCÊ TEM QUE ALTERAR A DATA ABAIXO MANUALMENTE\n",
    "ref_pasta = ano+mes+dia\n",
    "ref_pasta"
   ]
  },
  {
   "cell_type": "code",
   "execution_count": null,
   "metadata": {
    "collapsed": true
   },
   "outputs": [],
   "source": []
  },
  {
   "cell_type": "code",
   "execution_count": 14,
   "metadata": {
    "collapsed": true
   },
   "outputs": [],
   "source": [
    "pasta = r'C:\\Users\\correigu\\OneDrive - Banco BTG Pactual S.A\\Documents\\offshore\\Claritas'+'\\\\'+ref_pasta"
   ]
  },
  {
   "cell_type": "code",
   "execution_count": 15,
   "metadata": {
    "collapsed": false
   },
   "outputs": [
    {
     "data": {
      "text/plain": [
       "'C:\\\\Users\\\\correigu\\\\OneDrive - Banco BTG Pactual S.A\\\\Documents\\\\offshore\\\\Claritas\\\\20181024'"
      ]
     },
     "execution_count": 15,
     "metadata": {},
     "output_type": "execute_result"
    }
   ],
   "source": [
    "pasta"
   ]
  },
  {
   "cell_type": "code",
   "execution_count": 16,
   "metadata": {
    "collapsed": false
   },
   "outputs": [
    {
     "name": "stdout",
     "output_type": "stream",
     "text": [
      "Serão anexados 6 arquivos ao e-mail\n"
     ]
    }
   ],
   "source": [
    "lista_files = [out_path]\n",
    "for file in os.listdir(pasta):\n",
    "    lista_files.append(pasta+'\\\\'+file)\n",
    "    \n",
    "print ('Serão anexados %s arquivos ao e-mail' % len(lista_files)) "
   ]
  },
  {
   "cell_type": "code",
   "execution_count": 17,
   "metadata": {
    "collapsed": true
   },
   "outputs": [],
   "source": [
    "email.email_sender(email_saida, 'marcia.santos@claritas.com.br;luis.faloppa@claritas.com.br;lucas.barbosa@claritas.com.br;pichiledesarrolloci@exchange.principal.com;leonardo.costa@claritas.com.br;DLPICHILECUSTODIAVALORES@exchange.principal.com;salinas.amelia@principal.com;PICHILETESORERIAAGF@exchange.principal.com;ClaritasBackOffshore@claritas.com.br;OL-EQUITYBD@btgpactual.com', \n",
    "            'Confirmação de movimentações %s TD %s' %(cliente, td),\n",
    "             'Em anexo estão as movimentações do dia %s' % td, \n",
    "            lista_files)"
   ]
  },
  {
   "cell_type": "code",
   "execution_count": null,
   "metadata": {
    "collapsed": true
   },
   "outputs": [],
   "source": []
  },
  {
   "cell_type": "code",
   "execution_count": null,
   "metadata": {
    "collapsed": true
   },
   "outputs": [],
   "source": []
  },
  {
   "cell_type": "code",
   "execution_count": null,
   "metadata": {
    "collapsed": true
   },
   "outputs": [],
   "source": []
  },
  {
   "cell_type": "code",
   "execution_count": null,
   "metadata": {
    "collapsed": true
   },
   "outputs": [],
   "source": []
  },
  {
   "cell_type": "code",
   "execution_count": null,
   "metadata": {
    "collapsed": true
   },
   "outputs": [],
   "source": []
  },
  {
   "cell_type": "code",
   "execution_count": null,
   "metadata": {
    "collapsed": true
   },
   "outputs": [],
   "source": []
  },
  {
   "cell_type": "code",
   "execution_count": null,
   "metadata": {
    "collapsed": true
   },
   "outputs": [],
   "source": []
  },
  {
   "cell_type": "code",
   "execution_count": null,
   "metadata": {
    "collapsed": true
   },
   "outputs": [],
   "source": []
  },
  {
   "cell_type": "code",
   "execution_count": null,
   "metadata": {
    "collapsed": true
   },
   "outputs": [],
   "source": []
  },
  {
   "cell_type": "code",
   "execution_count": null,
   "metadata": {
    "collapsed": true
   },
   "outputs": [],
   "source": []
  },
  {
   "cell_type": "code",
   "execution_count": null,
   "metadata": {
    "collapsed": true
   },
   "outputs": [],
   "source": []
  },
  {
   "cell_type": "code",
   "execution_count": null,
   "metadata": {
    "collapsed": true
   },
   "outputs": [],
   "source": []
  },
  {
   "cell_type": "code",
   "execution_count": null,
   "metadata": {
    "collapsed": true
   },
   "outputs": [],
   "source": []
  },
  {
   "cell_type": "code",
   "execution_count": null,
   "metadata": {
    "collapsed": true
   },
   "outputs": [],
   "source": []
  }
 ],
 "metadata": {
  "kernelspec": {
   "display_name": "Python 3",
   "language": "python",
   "name": "python3"
  },
  "language_info": {
   "codemirror_mode": {
    "name": "ipython",
    "version": 3
   },
   "file_extension": ".py",
   "mimetype": "text/x-python",
   "name": "python",
   "nbconvert_exporter": "python",
   "pygments_lexer": "ipython3",
   "version": "3.6.0"
  }
 },
 "nbformat": 4,
 "nbformat_minor": 2
}
